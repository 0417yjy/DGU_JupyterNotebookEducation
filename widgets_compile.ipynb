{
 "cells": [
  {
   "cell_type": "code",
   "execution_count": 4,
   "metadata": {},
   "outputs": [],
   "source": [
    "import ipywidgets as widgets\n",
    "import functools\n",
    "from IPython import get_ipython\n",
    "from IPython.display import display\n",
    "cd = get_ipython().run_line_magic('pwd', '')\n",
    "\n",
    "def print_result(exercise_name, cmd_result):\n",
    "    cmd_result = cmd_result.replace(exercise_name, 'X', 2).replace(cd, 'X', 3)\n",
    "    cmd_result = cmd_result[cmd_result.find(exercise_name)+6:cmd_result.find(cd)-2]\n",
    "    print(cmd_result)\n",
    "\n",
    "def on_button_clicked(b, rs_=\"\"): # button event handler\n",
    "    usr_src_fname = rs_ + '.c'\n",
    "    with open(usr_src_fname, 'w') as f:\n",
    "        f.write(text.value)\n",
    "    cmd_command = 'gcc ' + usr_src_fname + ' -o ' + rs_ + '\\n' + rs_\n",
    "    get_ipython().run_cell_magic('cmd', '--out output --err error', cmd_command)\n",
    "    tmp = output\n",
    "    print_result(rs_, tmp)\n",
    "\n",
    "def add_exercise_widgets(exercise_name):\n",
    "    src_fname = exercise_name + '_src.c'\n",
    "    with open(src_fname, 'r') as f:\n",
    "        prewritten_src = f.read()\n",
    "    global text\n",
    "    text = widgets.Textarea(\n",
    "        value=prewritten_src,\n",
    "        placeholder='',\n",
    "        description='Write your own code:',\n",
    "        disabled=False\n",
    "    )\n",
    "    compile_run_btn = widgets.Button(\n",
    "        description='Run Code',\n",
    "        disabled=False,\n",
    "        button_style='warning', # 'success', 'info', 'warning', 'danger' or ''\n",
    "        tooltip='',\n",
    "        icon='check'\n",
    "    )\n",
    "    display(text, compile_run_btn)\n",
    "    compile_run_btn.on_click(functools.partial(on_button_clicked, rs_=exercise_name)) # bind event handler"
   ]
  }
 ],
 "metadata": {
  "kernelspec": {
   "display_name": "Python 3",
   "language": "python",
   "name": "python3"
  },
  "language_info": {
   "codemirror_mode": {
    "name": "ipython",
    "version": 3
   },
   "file_extension": ".py",
   "mimetype": "text/x-python",
   "name": "python",
   "nbconvert_exporter": "python",
   "pygments_lexer": "ipython3",
   "version": "3.7.4"
  }
 },
 "nbformat": 4,
 "nbformat_minor": 2
}
