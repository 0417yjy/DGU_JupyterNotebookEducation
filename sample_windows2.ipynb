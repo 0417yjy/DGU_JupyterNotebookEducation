{
 "cells": [
  {
   "cell_type": "code",
   "execution_count": 1,
   "metadata": {
    "scrolled": true
   },
   "outputs": [
    {
     "data": {
      "text/html": [
       "<script>$(\"div.input\").hide()</script>"
      ],
      "text/plain": [
       "<IPython.core.display.HTML object>"
      ]
     },
     "metadata": {},
     "output_type": "display_data"
    },
    {
     "data": {
      "application/vnd.jupyter.widget-view+json": {
       "model_id": "5b4ab81ddf2f4e1890e589adb216c62b",
       "version_major": 2,
       "version_minor": 0
      },
      "text/plain": [
       "ToggleButton(value=False, description='Show code')"
      ]
     },
     "metadata": {},
     "output_type": "display_data"
    }
   ],
   "source": [
    "import ipywidgets as widgets\n",
    "from IPython.display import display, HTML\n",
    "\n",
    "javascript_functions = {False: \"hide()\", True: \"show()\"}\n",
    "button_descriptions  = {False: \"Show code\", True: \"Hide code\"}\n",
    "\n",
    "\n",
    "def toggle_code(state):\n",
    "\n",
    "    \"\"\"\n",
    "    Toggles the JavaScript show()/hide() function on the div.input element.\n",
    "    \"\"\"\n",
    "\n",
    "    output_string = \"<script>$(\\\"div.input\\\").{}</script>\"\n",
    "    output_args   = (javascript_functions[state],)\n",
    "    output        = output_string.format(*output_args)\n",
    "\n",
    "    display(HTML(output))\n",
    "\n",
    "\n",
    "def button_action(value):\n",
    "\n",
    "    \"\"\"\n",
    "    Calls the toggle_code function and updates the button description.\n",
    "    \"\"\"\n",
    "\n",
    "    state = value.new\n",
    "\n",
    "    toggle_code(state)\n",
    "\n",
    "    value.owner.description = button_descriptions[state]\n",
    "\n",
    "\n",
    "state = False\n",
    "toggle_code(state)\n",
    "\n",
    "button = widgets.ToggleButton(state, description = button_descriptions[state])\n",
    "button.observe(button_action, \"value\")\n",
    "\n",
    "display(button)"
   ]
  },
  {
   "cell_type": "code",
   "execution_count": 2,
   "metadata": {},
   "outputs": [],
   "source": [
    "from windows_widgets import CompileOutputOnly, CompileInputOuput, ShortAnswerQuestion, ChoiceQuestion, AchieveRate, add_link_buttons"
   ]
  },
  {
   "cell_type": "markdown",
   "metadata": {},
   "source": [
    "# Chapter 4 - 반복문"
   ]
  },
  {
   "cell_type": "markdown",
   "metadata": {},
   "source": [
    "## 4.2 while 문\n",
    "문장 while (cond) stmt;는 반복 조건인 cond를 평가하여 0(거짓)이면 while 문을 종료하며, 0이 아니면(참) 반복 몸체인 stmt를 실행하고 다시 반복 조건 cond를 평가하여 while 문 종료 시까지 반복한다. 반복 몸체인 stmt는 필요하면 블록으로 구성할 수 있다. while 문은 for 문보다 간편하며 모든 반복 기능을 수행할 수 있다."
   ]
  },
  {
   "cell_type": "code",
   "execution_count": 3,
   "metadata": {},
   "outputs": [
    {
     "data": {
      "application/vnd.jupyter.widget-view+json": {
       "model_id": "ea87074bd3c94d3fabf794ba5afe4d7b",
       "version_major": 2,
       "version_minor": 0
      },
      "text/plain": [
       "VBox(children=(Label(value='Write your own code:'), Textarea(value='#include <stdio.h>\\n\\n#define MAX 10\\n\\nin…"
      ]
     },
     "metadata": {},
     "output_type": "display_data"
    }
   ],
   "source": [
    "co1 = CompileOutputOnly('exer3')"
   ]
  },
  {
   "cell_type": "markdown",
   "metadata": {},
   "source": [
    "다음 예제는 for 문으로 무한 반복을 하며 1에서 20 사이 정수 또는 0을 입력받는다. 0을 입력받으면 break 문을 이용하여 for 문을 빠져나와 프로그램이 종료된다. 1 에서 20 사이의 정수를 입력받으면 그 수까지 곱을 구하여 출력한다."
   ]
  },
  {
   "cell_type": "code",
   "execution_count": 4,
   "metadata": {},
   "outputs": [
    {
     "data": {
      "application/vnd.jupyter.widget-view+json": {
       "model_id": "965777f88b43425ea109e1e1cde7b409",
       "version_major": 2,
       "version_minor": 0
      },
      "text/plain": [
       "VBox(children=(Label(value='Write your own code:'), Textarea(value='#include <stdio.h>\\n\\nint main(void) {\\n  …"
      ]
     },
     "metadata": {},
     "output_type": "display_data"
    }
   ],
   "source": [
    "cio1 = CompileInputOuput('exer4')"
   ]
  },
  {
   "cell_type": "markdown",
   "metadata": {},
   "source": [
    "## 연습문제"
   ]
  },
  {
   "cell_type": "code",
   "execution_count": 5,
   "metadata": {},
   "outputs": [
    {
     "data": {
      "application/vnd.jupyter.widget-view+json": {
       "model_id": "4dfb271eb10a4e868b2cd438de38edce",
       "version_major": 2,
       "version_minor": 0
      },
      "text/plain": [
       "VBox(children=(HTML(value='(1) ___문은 조건에 따른 선택을 지원하는 구문이다.'), Text(value=''), Button(button_style='warning', d…"
      ]
     },
     "metadata": {},
     "output_type": "display_data"
    }
   ],
   "source": [
    "saq1 = ShortAnswerQuestion('(1) ___문은 조건에 따른 선택을 지원하는 구문이다.', ['조건'], ' 조건문에 대한 설명이다.', ' if문, switch문이 조건문에 해당한다.')"
   ]
  },
  {
   "cell_type": "code",
   "execution_count": 6,
   "metadata": {},
   "outputs": [
    {
     "data": {
      "application/vnd.jupyter.widget-view+json": {
       "model_id": "fca2d200123c477b94897eba42e7b2ea",
       "version_major": 2,
       "version_minor": 0
      },
      "text/plain": [
       "VBox(children=(HTML(value='반복 내부에서 반복을 종료하려면 ____ 문장을 사용한다.'), Text(value=''), Button(button_style='warning', …"
      ]
     },
     "metadata": {},
     "output_type": "display_data"
    }
   ],
   "source": [
    "saq2 = ShortAnswerQuestion(\"\"\"반복 내부에서 반복을 종료하려면 ____ 문장을 사용한다.\"\"\", ['break'], ' break 키워드가 쓰인다.', ' break는 반복을 즉각 종료할 때 사용한다.')"
   ]
  },
  {
   "cell_type": "code",
   "execution_count": 7,
   "metadata": {
    "scrolled": true
   },
   "outputs": [
    {
     "data": {
      "application/vnd.jupyter.widget-view+json": {
       "model_id": "490d25639b66404885bec9d0e2740705",
       "version_major": 2,
       "version_minor": 0
      },
      "text/plain": [
       "VBox(children=(HTML(value='다음 중에서 조건 선택에 해당되지 않는 제어문은 무엇인가?'), RadioButtons(options=('if', 'if else', 'switch'…"
      ]
     },
     "metadata": {},
     "output_type": "display_data"
    }
   ],
   "source": [
    "cq1 = ChoiceQuestion(\"\"\"다음 중에서 조건 선택에 해당되지 않는 제어문은 무엇인가?\"\"\", ['if', 'if else', 'switch', 'break'], 3, ' if, if else, switch 모두 조건을 제어하는 데 사용된다.', ' break는 반복을 종료할 때 사용한다.')"
   ]
  },
  {
   "cell_type": "code",
   "execution_count": 8,
   "metadata": {
    "scrolled": true
   },
   "outputs": [
    {
     "data": {
      "application/vnd.jupyter.widget-view+json": {
       "model_id": "4a668abbbcc3467591f29491ff3c8247",
       "version_major": 2,
       "version_minor": 0
      },
      "text/plain": [
       "VBox(children=(HBox(children=(Checkbox(value=False, disabled=True), Checkbox(value=False, disabled=True), Chec…"
      ]
     },
     "metadata": {},
     "output_type": "display_data"
    }
   ],
   "source": [
    "rate = AchieveRate()"
   ]
  },
  {
   "cell_type": "code",
   "execution_count": 9,
   "metadata": {},
   "outputs": [
    {
     "data": {
      "text/html": [
       "\n",
       "<style>\n",
       ".button {\n",
       "  background-color: orange;\n",
       "  border: none;\n",
       "  color: white;\n",
       "  padding: 15px 32px;\n",
       "  text-align: center;\n",
       "  text-decoration: none;\n",
       "  display: inline-block;\n",
       "  font-size: 16px;\n",
       "  margin: 4px 2px;\n",
       "  cursor: pointer;\n",
       "}\n",
       ".grid-container {\n",
       "  display: grid;\n",
       "  grid-template-columns: 100px auto 100px;\n",
       "  grid-template-rows: auto;\n",
       "}\n",
       "</style>\n",
       "\n",
       "<div class=\"grid-container\">\n",
       "<div class=\"grid-item\"><a href=\"sample_windows1.ipynb\" class=\"button\">Previous</a></div>\n",
       "<div class=\"grid-item\"></div>\n",
       "<div class=\"grid-item\"><a href=\"sample_windows3.ipynb\" class=\"button\">Next</a></div>\n",
       "</div>\n"
      ],
      "text/plain": [
       "<IPython.core.display.HTML object>"
      ]
     },
     "metadata": {},
     "output_type": "display_data"
    }
   ],
   "source": [
    "add_link_buttons(0, 'sample_windows1.ipynb', 'sample_windows3.ipynb')"
   ]
  }
 ],
 "metadata": {
  "kernelspec": {
   "display_name": "Python 3",
   "language": "python",
   "name": "python3"
  },
  "language_info": {
   "codemirror_mode": {
    "name": "ipython",
    "version": 3
   },
   "file_extension": ".py",
   "mimetype": "text/x-python",
   "name": "python",
   "nbconvert_exporter": "python",
   "pygments_lexer": "ipython3",
   "version": "3.7.4"
  },
  "widgets": {
   "application/vnd.jupyter.widget-state+json": {
    "state": {
     "000ff6d0060943a7bdedb2a4406dbab4": {
      "model_module": "@jupyter-widgets/controls",
      "model_module_version": "1.5.0",
      "model_name": "DescriptionStyleModel",
      "state": {
       "description_width": ""
      }
     },
     "00ae0511bcf645ce80b64669ace49897": {
      "model_module": "@jupyter-widgets/controls",
      "model_module_version": "1.5.0",
      "model_name": "TextModel",
      "state": {
       "layout": "IPY_MODEL_0e06e304ee354328b68ae9ebb001f682",
       "style": "IPY_MODEL_2400f66357ff409286337ac3966d1492"
      }
     },
     "011cca4ae5484ed3ba1d2377d86b1e19": {
      "model_module": "@jupyter-widgets/controls",
      "model_module_version": "1.5.0",
      "model_name": "CheckboxModel",
      "state": {
       "disabled": true,
       "layout": "IPY_MODEL_d5bab305cade48ecb0f3825022b5f61c",
       "style": "IPY_MODEL_d83bd148058b4b389d04d138a27b9570",
       "value": false
      }
     },
     "0122a6bc6a964cb19cb7a588523c3093": {
      "model_module": "@jupyter-widgets/controls",
      "model_module_version": "1.5.0",
      "model_name": "DescriptionStyleModel",
      "state": {
       "description_width": ""
      }
     },
     "018323d9e84c416ea154733f14b0d30d": {
      "model_module": "@jupyter-widgets/controls",
      "model_module_version": "1.5.0",
      "model_name": "VBoxModel",
      "state": {
       "children": [
        "IPY_MODEL_513b87215c1c4c018550043e47a0284a",
        "IPY_MODEL_2ecb105adaec4fe7ae5e0d3c62e69ea2"
       ],
       "layout": "IPY_MODEL_79b19f6ad8b0409f89ffc250f743c772"
      }
     },
     "01a513dcfc5a4e8eb859df0d9aae1d02": {
      "model_module": "@jupyter-widgets/controls",
      "model_module_version": "1.5.0",
      "model_name": "ButtonStyleModel",
      "state": {}
     },
     "01aa4ba5bbfa4e0f86b5198f9b8e8bc0": {
      "model_module": "@jupyter-widgets/controls",
      "model_module_version": "1.5.0",
      "model_name": "LabelModel",
      "state": {
       "layout": "IPY_MODEL_e4c57c2000fc4966b320c8976e11fdab",
       "style": "IPY_MODEL_a5202f3a4b414b7c91761bb733a08392",
       "value": "Participation: 33%"
      }
     },
     "0212e151b40949cb9d4807ff818ae952": {
      "model_module": "@jupyter-widgets/base",
      "model_module_version": "1.2.0",
      "model_name": "LayoutModel",
      "state": {}
     },
     "022fca51a8dc4ae59da152900d21f7b5": {
      "model_module": "@jupyter-widgets/base",
      "model_module_version": "1.2.0",
      "model_name": "LayoutModel",
      "state": {}
     },
     "0283bb8fd7b04bea9e5d174c3659c302": {
      "model_module": "@jupyter-widgets/base",
      "model_module_version": "1.2.0",
      "model_name": "LayoutModel",
      "state": {}
     },
     "029bc643c0a74bb191265ea8f1ee3bf5": {
      "model_module": "@jupyter-widgets/base",
      "model_module_version": "1.2.0",
      "model_name": "LayoutModel",
      "state": {}
     },
     "02e07c99801d4efda38069caceb78335": {
      "model_module": "@jupyter-widgets/controls",
      "model_module_version": "1.5.0",
      "model_name": "TextModel",
      "state": {
       "layout": "IPY_MODEL_e327393805ed49969a234810e1978e93",
       "style": "IPY_MODEL_cb464d75678644538cddc4aa12bcf52f"
      }
     },
     "02f529df0b4d4733bfe1d1122cbfbde8": {
      "model_module": "@jupyter-widgets/controls",
      "model_module_version": "1.5.0",
      "model_name": "DescriptionStyleModel",
      "state": {
       "description_width": ""
      }
     },
     "02f6122d291d4588b25cd60e1343169e": {
      "model_module": "@jupyter-widgets/controls",
      "model_module_version": "1.5.0",
      "model_name": "VBoxModel",
      "state": {
       "children": [
        "IPY_MODEL_482a71cb69d542d7878d9013d6dad026",
        "IPY_MODEL_534c10ff574e49c6bc024f2d33454613",
        "IPY_MODEL_233ec28e2f114119beb3559ac2406618",
        "IPY_MODEL_18dcfca5864a475fbb5539f5aabc91bc"
       ],
       "layout": "IPY_MODEL_49b3088fab484d78b2dac3513b679436"
      }
     },
     "031b848b94db4d9783cb6698891fc2c8": {
      "model_module": "@jupyter-widgets/base",
      "model_module_version": "1.2.0",
      "model_name": "LayoutModel",
      "state": {}
     },
     "03ac9c0fd26044349dd62ee4cddeec9a": {
      "model_module": "@jupyter-widgets/base",
      "model_module_version": "1.2.0",
      "model_name": "LayoutModel",
      "state": {
       "width": "90px"
      }
     },
     "03bf5017c03946709df79a4eca4f46d2": {
      "model_module": "@jupyter-widgets/controls",
      "model_module_version": "1.5.0",
      "model_name": "DescriptionStyleModel",
      "state": {
       "description_width": ""
      }
     },
     "03c48c5000ca4125ace20ecb50dd8acb": {
      "model_module": "@jupyter-widgets/base",
      "model_module_version": "1.2.0",
      "model_name": "LayoutModel",
      "state": {
       "height": "100px",
       "width": "99%"
      }
     },
     "040e8a17a75042cdbbcbbeed33aad2dc": {
      "model_module": "@jupyter-widgets/base",
      "model_module_version": "1.2.0",
      "model_name": "LayoutModel",
      "state": {}
     },
     "045b0501c88842bfa9ff8147b1cc0cbd": {
      "model_module": "@jupyter-widgets/controls",
      "model_module_version": "1.5.0",
      "model_name": "ButtonStyleModel",
      "state": {}
     },
     "04621a310dd84e99930c6a139327672f": {
      "model_module": "@jupyter-widgets/controls",
      "model_module_version": "1.5.0",
      "model_name": "DescriptionStyleModel",
      "state": {
       "description_width": ""
      }
     },
     "0482b5b3d4bc4c838cc9407580512491": {
      "model_module": "@jupyter-widgets/controls",
      "model_module_version": "1.5.0",
      "model_name": "ButtonModel",
      "state": {
       "button_style": "success",
       "description": "Correct",
       "icon": "check",
       "layout": "IPY_MODEL_5fe55eac767b4ab5bf5004a32c33d62c",
       "style": "IPY_MODEL_420f74059ff24146a1d750bfb8a4088f"
      }
     },
     "049b0bb63a354fa185d6cbcbaff1d9cf": {
      "model_module": "@jupyter-widgets/controls",
      "model_module_version": "1.5.0",
      "model_name": "HTMLModel",
      "state": {
       "layout": "IPY_MODEL_837c0b2f641842c595be9c018c1d5c4b",
       "style": "IPY_MODEL_dd87c92d4ca74b25ad242c0a1876b505"
      }
     },
     "04bb9b4410cf4ed1921b6e8f30033e86": {
      "model_module": "@jupyter-widgets/controls",
      "model_module_version": "1.5.0",
      "model_name": "DescriptionStyleModel",
      "state": {
       "description_width": ""
      }
     },
     "0547ed9bb8a04c078279d763eeb174d9": {
      "model_module": "@jupyter-widgets/base",
      "model_module_version": "1.2.0",
      "model_name": "LayoutModel",
      "state": {}
     },
     "05bdb3d16c9d46f4a8b96901e323ce0c": {
      "model_module": "@jupyter-widgets/controls",
      "model_module_version": "1.5.0",
      "model_name": "RadioButtonsModel",
      "state": {
       "_options_labels": [
        "if",
        "if else",
        "switch",
        "break"
       ],
       "index": 3,
       "layout": "IPY_MODEL_5060bfd5e2f24300b8b1d010bd186b52",
       "style": "IPY_MODEL_3f00435cce1e43cfabd052465a7fbf03"
      }
     },
     "05ed114788744e96b7068dc592aab8a1": {
      "model_module": "@jupyter-widgets/controls",
      "model_module_version": "1.5.0",
      "model_name": "TextModel",
      "state": {
       "layout": "IPY_MODEL_4945992e83d949678e646ea30fea4ae8",
       "style": "IPY_MODEL_850525d50276400ea3f71ed5ac0545fb"
      }
     },
     "061919cf492248f0990875598f1dd20c": {
      "model_module": "@jupyter-widgets/base",
      "model_module_version": "1.2.0",
      "model_name": "LayoutModel",
      "state": {}
     },
     "062d1a900722459aafbc7f9a8a4216ae": {
      "model_module": "@jupyter-widgets/base",
      "model_module_version": "1.2.0",
      "model_name": "LayoutModel",
      "state": {}
     },
     "06c98121ec214b67b8bafeda17f14f3e": {
      "model_module": "@jupyter-widgets/base",
      "model_module_version": "1.2.0",
      "model_name": "LayoutModel",
      "state": {}
     },
     "06d8545f1b014156ac6d6fc4739ee662": {
      "model_module": "@jupyter-widgets/controls",
      "model_module_version": "1.5.0",
      "model_name": "LabelModel",
      "state": {
       "layout": "IPY_MODEL_18eecfa5473f4185a111df8700ce734d",
       "style": "IPY_MODEL_bb67c88f247e4e6a973c6957838dbb54",
       "value": "Write your own code:"
      }
     },
     "06e92306f11f45cb8f0b1e8c2e7cc183": {
      "model_module": "@jupyter-widgets/base",
      "model_module_version": "1.2.0",
      "model_name": "LayoutModel",
      "state": {}
     },
     "074995f00d6e4b85afd10500e925c23b": {
      "model_module": "@jupyter-widgets/controls",
      "model_module_version": "1.5.0",
      "model_name": "DescriptionStyleModel",
      "state": {
       "description_width": ""
      }
     },
     "075957761868472c8e8f7d3ade110abf": {
      "model_module": "@jupyter-widgets/controls",
      "model_module_version": "1.5.0",
      "model_name": "TextareaModel",
      "state": {
       "layout": "IPY_MODEL_5e091b60a10b4c179d01b491ecf29f42",
       "style": "IPY_MODEL_58fe1937affe4c99aeb1a4860622d573"
      }
     },
     "0759ceb77e164145b8e6616e8b059e92": {
      "model_module": "@jupyter-widgets/controls",
      "model_module_version": "1.5.0",
      "model_name": "ButtonModel",
      "state": {
       "button_style": "success",
       "description": "Correct",
       "icon": "check",
       "layout": "IPY_MODEL_9e38631ee8de40d79f181c09a0d48c68",
       "style": "IPY_MODEL_63d4cd12af314cf894c55f18e0ebf52d"
      }
     },
     "076f0990c6094199849ec4537ae85060": {
      "model_module": "@jupyter-widgets/base",
      "model_module_version": "1.2.0",
      "model_name": "LayoutModel",
      "state": {}
     },
     "07e2e0dab49741b8b5df77827bb457c7": {
      "model_module": "@jupyter-widgets/base",
      "model_module_version": "1.2.0",
      "model_name": "LayoutModel",
      "state": {}
     },
     "07e81052892440e4b6d23c05aca17346": {
      "model_module": "@jupyter-widgets/controls",
      "model_module_version": "1.5.0",
      "model_name": "HBoxModel",
      "state": {
       "children": [
        "IPY_MODEL_011cca4ae5484ed3ba1d2377d86b1e19",
        "IPY_MODEL_ebf67d1302e54421a4e732c4eb7b5903",
        "IPY_MODEL_f8fb99509f114f12a578bf07c4f180e3"
       ],
       "layout": "IPY_MODEL_0ce4f070a56640a9a92c05a6c4a844db"
      }
     },
     "0848a64a189347a2894641ca3e888ebc": {
      "model_module": "@jupyter-widgets/controls",
      "model_module_version": "1.5.0",
      "model_name": "HTMLModel",
      "state": {
       "layout": "IPY_MODEL_baeee8a017384b2f97cb01a3bed284c4",
       "style": "IPY_MODEL_9e7bee5c27c04d35aebebaa586634a2d",
       "value": "<font color='green'> break는 반복을 즉각 종료할 때 사용한다."
      }
     },
     "084db3c6920245e3bb40d634780d4a59": {
      "model_module": "@jupyter-widgets/controls",
      "model_module_version": "1.5.0",
      "model_name": "CheckboxModel",
      "state": {
       "disabled": true,
       "layout": "IPY_MODEL_2347a7fcd5444bea9feef1909161ba1c",
       "style": "IPY_MODEL_08c7b6d3992640018ff2031b9700a516",
       "value": true
      }
     },
     "0854699fbb1942fa9b244b1af31f96a5": {
      "model_module": "@jupyter-widgets/controls",
      "model_module_version": "1.5.0",
      "model_name": "HBoxModel",
      "state": {
       "children": [
        "IPY_MODEL_da0819ab86fd45cbbba027732764bf92",
        "IPY_MODEL_a8033a728a82492f95182a0732b268c9"
       ],
       "layout": "IPY_MODEL_4ef37c2bc842446b93cb321de317f8e7"
      }
     },
     "0867e1f56c724bdf838e33b8b72fb366": {
      "model_module": "@jupyter-widgets/controls",
      "model_module_version": "1.5.0",
      "model_name": "ButtonModel",
      "state": {
       "layout": "IPY_MODEL_8b782925cf91464a9b186b7e9c233090",
       "style": "IPY_MODEL_5a147571ee5c4109b40f74aac636edd6"
      }
     },
     "08873e13f9bc47598389aba952a2cbce": {
      "model_module": "@jupyter-widgets/controls",
      "model_module_version": "1.5.0",
      "model_name": "DescriptionStyleModel",
      "state": {
       "description_width": ""
      }
     },
     "08c7b6d3992640018ff2031b9700a516": {
      "model_module": "@jupyter-widgets/controls",
      "model_module_version": "1.5.0",
      "model_name": "DescriptionStyleModel",
      "state": {
       "description_width": ""
      }
     },
     "0911305b85214dccb5c556642179b356": {
      "model_module": "@jupyter-widgets/controls",
      "model_module_version": "1.5.0",
      "model_name": "LabelModel",
      "state": {
       "layout": "IPY_MODEL_500a9bd0b19b498b83154c4ee9ecddd1",
       "style": "IPY_MODEL_103468d6fc964a558eb901d3559f171e",
       "value": "Output:"
      }
     },
     "092a9b8d763c4b43b6bf5dcde2cbe629": {
      "model_module": "@jupyter-widgets/controls",
      "model_module_version": "1.5.0",
      "model_name": "DescriptionStyleModel",
      "state": {
       "description_width": ""
      }
     },
     "093e04bf2df74d5f8e941f80632dc71f": {
      "model_module": "@jupyter-widgets/controls",
      "model_module_version": "1.5.0",
      "model_name": "TextareaModel",
      "state": {
       "layout": "IPY_MODEL_2725d485bf02486cbe51feb5d3c0f810",
       "placeholder": "",
       "style": "IPY_MODEL_3b9f6bd8b4ac4498bc110267b0e17a14",
       "value": "#include <stdio.h>\n\nint main(void) {\n int a;\n scanf(\"%d\", &a);\n printf(\"%d\\n\", a);\n return 0;\n}"
      }
     },
     "0945da9a385e452296d85b10142bf3a6": {
      "model_module": "@jupyter-widgets/controls",
      "model_module_version": "1.5.0",
      "model_name": "LabelModel",
      "state": {
       "layout": "IPY_MODEL_5a3d9fbeb9b14344b3a73b98e5aac9eb",
       "style": "IPY_MODEL_5f267c24acaa49059474f19abe8f2b5e",
       "value": "Input:"
      }
     },
     "094ca472b543485cae94ed81e0d0f2e7": {
      "model_module": "@jupyter-widgets/controls",
      "model_module_version": "1.5.0",
      "model_name": "DescriptionStyleModel",
      "state": {
       "description_width": ""
      }
     },
     "095cda875a3e4bfa88e1afe4bb490126": {
      "model_module": "@jupyter-widgets/controls",
      "model_module_version": "1.5.0",
      "model_name": "VBoxModel",
      "state": {
       "children": [
        "IPY_MODEL_f3e645f6d8e64b4bac3ae2917c526fb4",
        "IPY_MODEL_7b99b750fc6c46b196b285852dcb6c50",
        "IPY_MODEL_a810d9735ce64f3c8bb8c23d5e672c39",
        "IPY_MODEL_741f62567da34423b2168068c4fd7a57",
        "IPY_MODEL_680aaefe75ae440d83f14dd8029efa61"
       ],
       "layout": "IPY_MODEL_4a1afaed81e7471489a1db832081236b"
      }
     },
     "096a79465c2b4b8180d9ad01965fa635": {
      "model_module": "@jupyter-widgets/controls",
      "model_module_version": "1.5.0",
      "model_name": "DescriptionStyleModel",
      "state": {
       "description_width": ""
      }
     },
     "0997730e1d8543f8800db35850cd7454": {
      "model_module": "@jupyter-widgets/base",
      "model_module_version": "1.2.0",
      "model_name": "LayoutModel",
      "state": {}
     },
     "09a414b44cd84bf38d1d1b0dbad2f9de": {
      "model_module": "@jupyter-widgets/base",
      "model_module_version": "1.2.0",
      "model_name": "LayoutModel",
      "state": {}
     },
     "09e3ac07ba1e470c83386eaed2bfc873": {
      "model_module": "@jupyter-widgets/controls",
      "model_module_version": "1.5.0",
      "model_name": "ButtonStyleModel",
      "state": {}
     },
     "09fc032738334018bb3413497cbc85c0": {
      "model_module": "@jupyter-widgets/controls",
      "model_module_version": "1.5.0",
      "model_name": "VBoxModel",
      "state": {
       "layout": "IPY_MODEL_c442816b82a34a9386fac16fd7e4c8c7"
      }
     },
     "0a015d08ce194f328169c1b33dddc0b0": {
      "model_module": "@jupyter-widgets/base",
      "model_module_version": "1.2.0",
      "model_name": "LayoutModel",
      "state": {}
     },
     "0a5c7117db734ca9a30cdfdd7850dcef": {
      "model_module": "@jupyter-widgets/controls",
      "model_module_version": "1.5.0",
      "model_name": "ButtonModel",
      "state": {
       "layout": "IPY_MODEL_40bcee3792294cd7b6c9eacd8a32e261",
       "style": "IPY_MODEL_8f542ee4d28746e59b8f29ea109258c4"
      }
     },
     "0a7985c53e9249a098f11370f9f565cd": {
      "model_module": "@jupyter-widgets/base",
      "model_module_version": "1.2.0",
      "model_name": "LayoutModel",
      "state": {}
     },
     "0ac695d7195d4f7cac4ffd687b8461f1": {
      "model_module": "@jupyter-widgets/controls",
      "model_module_version": "1.5.0",
      "model_name": "DescriptionStyleModel",
      "state": {
       "description_width": ""
      }
     },
     "0aceef907f094cebb21ca6059d7f18df": {
      "model_module": "@jupyter-widgets/base",
      "model_module_version": "1.2.0",
      "model_name": "LayoutModel",
      "state": {
       "border": "solid 2px",
       "padding": "1rem"
      }
     },
     "0ae6bf4b1a4041fa8906661789c7bf6a": {
      "model_module": "@jupyter-widgets/base",
      "model_module_version": "1.2.0",
      "model_name": "LayoutModel",
      "state": {}
     },
     "0affdc17fc0d4bbba790a6ae3aeb661f": {
      "model_module": "@jupyter-widgets/controls",
      "model_module_version": "1.5.0",
      "model_name": "ButtonModel",
      "state": {
       "button_style": "warning",
       "description": "Run Code",
       "icon": "check",
       "layout": "IPY_MODEL_61502ce099d342ffb5f54e1f448a3b23",
       "style": "IPY_MODEL_eefd0c5c1e0b4acba3a05eb0f7175a02"
      }
     },
     "0b2f78806a2d4af0bd58d0c11f4c5a51": {
      "model_module": "@jupyter-widgets/controls",
      "model_module_version": "1.5.0",
      "model_name": "ButtonModel",
      "state": {
       "layout": "IPY_MODEL_0283bb8fd7b04bea9e5d174c3659c302",
       "style": "IPY_MODEL_8b3d006938704b0785de129f2d81df2f"
      }
     },
     "0b4376ee6b404d3d91b43ba66127c4b9": {
      "model_module": "@jupyter-widgets/controls",
      "model_module_version": "1.5.0",
      "model_name": "LabelModel",
      "state": {
       "layout": "IPY_MODEL_f06881844049404ba0f43ea560a8e304",
       "style": "IPY_MODEL_f662509c3c444b97b633e82a85fb2b2a",
       "value": "Participation: 0%"
      }
     },
     "0b4d7f7ad2af4095af6f64f626ae2858": {
      "model_module": "@jupyter-widgets/controls",
      "model_module_version": "1.5.0",
      "model_name": "DescriptionStyleModel",
      "state": {
       "description_width": ""
      }
     },
     "0b6df0f3ba4e4d7a86e8716b3ab18c5a": {
      "model_module": "@jupyter-widgets/controls",
      "model_module_version": "1.5.0",
      "model_name": "VBoxModel",
      "state": {
       "layout": "IPY_MODEL_77856e0ee9d64cad8479bb9b5f1d8fb6"
      }
     },
     "0b90a77c6eb847edb59fe564097e47fe": {
      "model_module": "@jupyter-widgets/controls",
      "model_module_version": "1.5.0",
      "model_name": "ToggleButtonModel",
      "state": {
       "description": "Show code",
       "layout": "IPY_MODEL_c59db684f9c54e3e9d9297fbaa699c57",
       "style": "IPY_MODEL_8630440f795842798b02aeea6971837b"
      }
     },
     "0ba81a7aa21e4c82ab876aac882be03c": {
      "model_module": "@jupyter-widgets/controls",
      "model_module_version": "1.5.0",
      "model_name": "HBoxModel",
      "state": {
       "children": [
        "IPY_MODEL_40d2cae0517746a5b6428c38558f7078",
        "IPY_MODEL_2fa4ec219f664d339719683f53e129b6",
        "IPY_MODEL_667cb812e26b4540ade32875083892bc"
       ],
       "layout": "IPY_MODEL_20d973d44bd7429aa7fb67d4fea808fe"
      }
     },
     "0bd8c90ec21f4ee9add8ab8b2e141bd8": {
      "model_module": "@jupyter-widgets/controls",
      "model_module_version": "1.5.0",
      "model_name": "DescriptionStyleModel",
      "state": {
       "description_width": ""
      }
     },
     "0c0763b5cbcb47b8b28dacd5c566408c": {
      "model_module": "@jupyter-widgets/controls",
      "model_module_version": "1.5.0",
      "model_name": "VBoxModel",
      "state": {
       "layout": "IPY_MODEL_57cc40ecb0ff4638a521c2b6a5f7d978"
      }
     },
     "0c332d1738e24c77815408809f41c9c5": {
      "model_module": "@jupyter-widgets/base",
      "model_module_version": "1.2.0",
      "model_name": "LayoutModel",
      "state": {
       "height": "100px",
       "width": "250px"
      }
     },
     "0c5580e7218440dfb772e8366bd706e9": {
      "model_module": "@jupyter-widgets/controls",
      "model_module_version": "1.5.0",
      "model_name": "TextModel",
      "state": {
       "layout": "IPY_MODEL_1a49defb3ada4e47be04aa4892a8a3c2",
       "style": "IPY_MODEL_4e9000633c9340f98b50eb6d5c8e4e0c"
      }
     },
     "0cd0f910d6fc4f3b8744908e8ba4a76c": {
      "model_module": "@jupyter-widgets/controls",
      "model_module_version": "1.5.0",
      "model_name": "DescriptionStyleModel",
      "state": {
       "description_width": ""
      }
     },
     "0ce4f070a56640a9a92c05a6c4a844db": {
      "model_module": "@jupyter-widgets/base",
      "model_module_version": "1.2.0",
      "model_name": "LayoutModel",
      "state": {
       "border": "solid 1px"
      }
     },
     "0ce554b06e884777bba4e5c057197df4": {
      "model_module": "@jupyter-widgets/base",
      "model_module_version": "1.2.0",
      "model_name": "LayoutModel",
      "state": {}
     },
     "0d302f43b639480690e6b1d5eb94d3c6": {
      "model_module": "@jupyter-widgets/controls",
      "model_module_version": "1.5.0",
      "model_name": "HTMLModel",
      "state": {
       "layout": "IPY_MODEL_f215790a555a49e6b55c7e414a3d02cc",
       "style": "IPY_MODEL_bb9aa5c860804c79b96777259f592724",
       "value": "(2) Suppose a new instruction was inserted as follows:  <br><br>z = x + y<br>Add 1 more to z (new instruction)<br>Put z to output<br><br>What would the last instruction then output to the screen?<br>"
      }
     },
     "0d4ab20fa8294666bce3e22d388086bb": {
      "model_module": "@jupyter-widgets/controls",
      "model_module_version": "1.5.0",
      "model_name": "DescriptionStyleModel",
      "state": {
       "description_width": ""
      }
     },
     "0db471a5bc2d49f2a4537bd4ac5818ef": {
      "model_module": "@jupyter-widgets/base",
      "model_module_version": "1.2.0",
      "model_name": "LayoutModel",
      "state": {
       "border": "solid 2px",
       "padding": "1rem"
      }
     },
     "0e06e304ee354328b68ae9ebb001f682": {
      "model_module": "@jupyter-widgets/base",
      "model_module_version": "1.2.0",
      "model_name": "LayoutModel",
      "state": {}
     },
     "0e0fec56571f4f15ba3e4837de1dfa1d": {
      "model_module": "@jupyter-widgets/controls",
      "model_module_version": "1.5.0",
      "model_name": "LabelModel",
      "state": {
       "layout": "IPY_MODEL_e1a74a5c20f04108b8bf3763207e7355",
       "style": "IPY_MODEL_fd13a9aa09fb415380785a81ff585caf",
       "value": "Write your own code:"
      }
     },
     "0e19691b6c384a5ea1e965064e9837ba": {
      "model_module": "@jupyter-widgets/base",
      "model_module_version": "1.2.0",
      "model_name": "LayoutModel",
      "state": {}
     },
     "0e8c9184974b4925bed66f5f32e7b9b2": {
      "model_module": "@jupyter-widgets/controls",
      "model_module_version": "1.5.0",
      "model_name": "LabelModel",
      "state": {
       "layout": "IPY_MODEL_d7df9f9ee5cd4f2cb51cd3dbee22ed14",
       "style": "IPY_MODEL_69851e74056e48d2936dc7e2bdb6d02d",
       "value": "Participation: 0%"
      }
     },
     "0e9b93b36b194aaba2049bb3b436804a": {
      "model_module": "@jupyter-widgets/base",
      "model_module_version": "1.2.0",
      "model_name": "LayoutModel",
      "state": {}
     },
     "0ebf2eeb9039414da23d055c0ba544b1": {
      "model_module": "@jupyter-widgets/base",
      "model_module_version": "1.2.0",
      "model_name": "LayoutModel",
      "state": {
       "border": "solid 2px",
       "padding": "1rem"
      }
     },
     "0ee6d3ee27554dd1b0908b0029f0bbc2": {
      "model_module": "@jupyter-widgets/base",
      "model_module_version": "1.2.0",
      "model_name": "LayoutModel",
      "state": {}
     },
     "0f12fbbfe9dd4843a0f735f957d461d3": {
      "model_module": "@jupyter-widgets/base",
      "model_module_version": "1.2.0",
      "model_name": "LayoutModel",
      "state": {}
     },
     "0f37a1d3d70a4ba09568f33dd6f4d326": {
      "model_module": "@jupyter-widgets/base",
      "model_module_version": "1.2.0",
      "model_name": "LayoutModel",
      "state": {
       "border": "solid 2px",
       "padding": "1rem"
      }
     },
     "0f6472d2952243fa8952be1058dc8db4": {
      "model_module": "@jupyter-widgets/base",
      "model_module_version": "1.2.0",
      "model_name": "LayoutModel",
      "state": {}
     },
     "0fc051db375a441fadd9ef7bff90b8ef": {
      "model_module": "@jupyter-widgets/controls",
      "model_module_version": "1.5.0",
      "model_name": "DescriptionStyleModel",
      "state": {
       "description_width": ""
      }
     },
     "0fc7058d0b084d86a1ca53522dee4302": {
      "model_module": "@jupyter-widgets/controls",
      "model_module_version": "1.5.0",
      "model_name": "VBoxModel",
      "state": {
       "children": [
        "IPY_MODEL_adde9b01765d4150b1098d98be4730f8",
        "IPY_MODEL_4aa45d5acfa54a958fddc3a9662ae61b"
       ],
       "layout": "IPY_MODEL_8e140763186345fe8c08e6c6b4b7c8ff"
      }
     },
     "10104e7bb2f34989b8b544973ca06e2d": {
      "model_module": "@jupyter-widgets/controls",
      "model_module_version": "1.5.0",
      "model_name": "VBoxModel",
      "state": {
       "children": [
        "IPY_MODEL_28ef41fbb4914ec5851c4beb9148756b",
        "IPY_MODEL_9ea421af0143424cbc217c0cff1163a8",
        "IPY_MODEL_b05acca62b42468faeada23d8fcb286d",
        "IPY_MODEL_917942a5f0684767908986d6e77ef244"
       ],
       "layout": "IPY_MODEL_453b7a8e18454c3490fa6a1a0687758a"
      }
     },
     "103468d6fc964a558eb901d3559f171e": {
      "model_module": "@jupyter-widgets/controls",
      "model_module_version": "1.5.0",
      "model_name": "DescriptionStyleModel",
      "state": {
       "description_width": ""
      }
     },
     "103fcf2fb5394aed9dc5ae3b696fdca3": {
      "model_module": "@jupyter-widgets/controls",
      "model_module_version": "1.5.0",
      "model_name": "RadioButtonsModel",
      "state": {
       "index": null,
       "layout": "IPY_MODEL_d5e38d4304a2454c8fca36cf697ea855",
       "style": "IPY_MODEL_472b609570e54fb4809f8ca0aa4b052e"
      }
     },
     "10dd36c7c2b6464e9989dae265674fdd": {
      "model_module": "@jupyter-widgets/base",
      "model_module_version": "1.2.0",
      "model_name": "LayoutModel",
      "state": {}
     },
     "10ff78d74fcf47f78429b2aae52b82b7": {
      "model_module": "@jupyter-widgets/controls",
      "model_module_version": "1.5.0",
      "model_name": "DescriptionStyleModel",
      "state": {
       "description_width": ""
      }
     },
     "121f63c6b7564ed181b1ce1fa14e1d6f": {
      "model_module": "@jupyter-widgets/controls",
      "model_module_version": "1.5.0",
      "model_name": "DescriptionStyleModel",
      "state": {
       "description_width": ""
      }
     },
     "124354bb7eea4dad83eeeaab8f218458": {
      "model_module": "@jupyter-widgets/base",
      "model_module_version": "1.2.0",
      "model_name": "LayoutModel",
      "state": {}
     },
     "12a2fd5c11a341ea8aea9ef0fc818b46": {
      "model_module": "@jupyter-widgets/base",
      "model_module_version": "1.2.0",
      "model_name": "LayoutModel",
      "state": {}
     },
     "12d1d82829ef4490a2ce8e0163c498ef": {
      "model_module": "@jupyter-widgets/controls",
      "model_module_version": "1.5.0",
      "model_name": "ToggleButtonModel",
      "state": {
       "description": "Show code",
       "layout": "IPY_MODEL_c29fee50414c44a087f6127ff5cc37d5",
       "style": "IPY_MODEL_d5d1b93b395948ec824c6245b049aea5",
       "value": true
      }
     },
     "13b59230a0c44f49be7b5f4b6b14dad5": {
      "model_module": "@jupyter-widgets/base",
      "model_module_version": "1.2.0",
      "model_name": "LayoutModel",
      "state": {}
     },
     "14003abb5a694a51a92621e3d67c2ae6": {
      "model_module": "@jupyter-widgets/controls",
      "model_module_version": "1.5.0",
      "model_name": "CheckboxModel",
      "state": {
       "disabled": true,
       "layout": "IPY_MODEL_23da3d26a59d4e1ba5c3a3e4d4b4b926",
       "style": "IPY_MODEL_a9d2383ea7ea49c4a51f9904f5ae30c4",
       "value": false
      }
     },
     "1493c10078c9482a86bd6c500f9eee41": {
      "model_module": "@jupyter-widgets/controls",
      "model_module_version": "1.5.0",
      "model_name": "LabelModel",
      "state": {
       "layout": "IPY_MODEL_2d6acd8fae5947698c599519a21b8f93",
       "style": "IPY_MODEL_a42edb716dfe430c8621e0f09c3f58c9",
       "value": "Output: "
      }
     },
     "1496c19584f3467ab72724551279c738": {
      "model_module": "@jupyter-widgets/controls",
      "model_module_version": "1.5.0",
      "model_name": "DescriptionStyleModel",
      "state": {
       "description_width": ""
      }
     },
     "14f09736dcdf42aaa8e0bf8e522fec2e": {
      "model_module": "@jupyter-widgets/base",
      "model_module_version": "1.2.0",
      "model_name": "LayoutModel",
      "state": {}
     },
     "150b29c40fe041b5bee8b89891bdf2aa": {
      "model_module": "@jupyter-widgets/base",
      "model_module_version": "1.2.0",
      "model_name": "LayoutModel",
      "state": {}
     },
     "155b5059f5c74e4ca8c01d7691b11506": {
      "model_module": "@jupyter-widgets/controls",
      "model_module_version": "1.5.0",
      "model_name": "TextareaModel",
      "state": {
       "layout": "IPY_MODEL_c957513e0e6144628238c677ae2e197d",
       "style": "IPY_MODEL_b0652672b39443da8cc38cc096612a58"
      }
     },
     "157e04c80ca44c1c8f0075550b98c3f7": {
      "model_module": "@jupyter-widgets/base",
      "model_module_version": "1.2.0",
      "model_name": "LayoutModel",
      "state": {}
     },
     "1582880a3d214bcda372eba83a1cbee2": {
      "model_module": "@jupyter-widgets/base",
      "model_module_version": "1.2.0",
      "model_name": "LayoutModel",
      "state": {
       "border": "solid 2px",
       "padding": "1rem"
      }
     },
     "15a0c91fe6b441058b5b1779102b6176": {
      "model_module": "@jupyter-widgets/controls",
      "model_module_version": "1.5.0",
      "model_name": "RadioButtonsModel",
      "state": {
       "index": null,
       "layout": "IPY_MODEL_f31825a6849b483988dfe6b1559bd513",
       "style": "IPY_MODEL_5df89e9e21ea47e99f33ddf6cc0f9fae"
      }
     },
     "15ff33c0bb0646ddb0e8672a99a0a310": {
      "model_module": "@jupyter-widgets/base",
      "model_module_version": "1.2.0",
      "model_name": "LayoutModel",
      "state": {}
     },
     "166173761c88447295d5f0f99f819c57": {
      "model_module": "@jupyter-widgets/controls",
      "model_module_version": "1.5.0",
      "model_name": "TextModel",
      "state": {
       "layout": "IPY_MODEL_13b59230a0c44f49be7b5f4b6b14dad5",
       "style": "IPY_MODEL_1ef18f23089c4dba9d83a1a5f8d4f8b0"
      }
     },
     "16738a0997b741d694d0a194bc214b62": {
      "model_module": "@jupyter-widgets/controls",
      "model_module_version": "1.5.0",
      "model_name": "DescriptionStyleModel",
      "state": {
       "description_width": ""
      }
     },
     "16d518d5f8414a83a176758f18dcbbda": {
      "model_module": "@jupyter-widgets/base",
      "model_module_version": "1.2.0",
      "model_name": "LayoutModel",
      "state": {}
     },
     "174a5fc1086e43dabb722147903aad5e": {
      "model_module": "@jupyter-widgets/controls",
      "model_module_version": "1.5.0",
      "model_name": "DescriptionStyleModel",
      "state": {
       "description_width": ""
      }
     },
     "17502cea764842b386ab64669dc35637": {
      "model_module": "@jupyter-widgets/controls",
      "model_module_version": "1.5.0",
      "model_name": "TextModel",
      "state": {
       "layout": "IPY_MODEL_b29d4767bf91449aad0947e42d2c0322",
       "style": "IPY_MODEL_a0711759c6e3455e99345c5fa178bea6"
      }
     },
     "175ea3cbef0941ab99c11877c9d4c9d3": {
      "model_module": "@jupyter-widgets/controls",
      "model_module_version": "1.5.0",
      "model_name": "VBoxModel",
      "state": {
       "children": [
        "IPY_MODEL_0945da9a385e452296d85b10142bf3a6",
        "IPY_MODEL_526c3bb3cc9c4adf9c443cc7c0ee7056"
       ],
       "layout": "IPY_MODEL_a9581887fec74d2089fb21636f5a13b3"
      }
     },
     "176341d745f5426daad80dfe4021efa7": {
      "model_module": "@jupyter-widgets/controls",
      "model_module_version": "1.5.0",
      "model_name": "TextareaModel",
      "state": {
       "layout": "IPY_MODEL_6125eee3f7394271b66e3cb96a39ca41",
       "style": "IPY_MODEL_e7591eea92764bf483785ea22494d09a"
      }
     },
     "17aa68b3758f4e6ba61745e2aab52647": {
      "model_module": "@jupyter-widgets/base",
      "model_module_version": "1.2.0",
      "model_name": "LayoutModel",
      "state": {}
     },
     "17f29956cd574e0a907283dc90c161ce": {
      "model_module": "@jupyter-widgets/base",
      "model_module_version": "1.2.0",
      "model_name": "LayoutModel",
      "state": {}
     },
     "181613dada104bc498ce9e41a07b6c90": {
      "model_module": "@jupyter-widgets/controls",
      "model_module_version": "1.5.0",
      "model_name": "DescriptionStyleModel",
      "state": {
       "description_width": ""
      }
     },
     "18583c80e7384475b57978388aae7d4c": {
      "model_module": "@jupyter-widgets/controls",
      "model_module_version": "1.5.0",
      "model_name": "ButtonStyleModel",
      "state": {}
     },
     "189d505ed5ee411c953095face17bdc4": {
      "model_module": "@jupyter-widgets/controls",
      "model_module_version": "1.5.0",
      "model_name": "VBoxModel",
      "state": {
       "children": [
        "IPY_MODEL_1ce261cb1f1642a691a7df1abf63c7c9",
        "IPY_MODEL_b81087120a9241598fd6ad90f67107af"
       ],
       "layout": "IPY_MODEL_b0b7f8cf04a2438ca259786601706795"
      }
     },
     "18dcfca5864a475fbb5539f5aabc91bc": {
      "model_module": "@jupyter-widgets/controls",
      "model_module_version": "1.5.0",
      "model_name": "HTMLModel",
      "state": {
       "layout": "IPY_MODEL_7ccd026329ed4c4189562c512c68e37e",
       "style": "IPY_MODEL_1f5fcad01b474504b3abb0b8a4edf684"
      }
     },
     "18eecfa5473f4185a111df8700ce734d": {
      "model_module": "@jupyter-widgets/base",
      "model_module_version": "1.2.0",
      "model_name": "LayoutModel",
      "state": {}
     },
     "19023c0b4dcf480fbc3f5e431663db7c": {
      "model_module": "@jupyter-widgets/base",
      "model_module_version": "1.2.0",
      "model_name": "LayoutModel",
      "state": {}
     },
     "190c18a7fab8426e9a663b1a33ec5ed7": {
      "model_module": "@jupyter-widgets/controls",
      "model_module_version": "1.5.0",
      "model_name": "DescriptionStyleModel",
      "state": {
       "description_width": ""
      }
     },
     "191651e76de346c48870c384a97f9310": {
      "model_module": "@jupyter-widgets/controls",
      "model_module_version": "1.5.0",
      "model_name": "DescriptionStyleModel",
      "state": {
       "description_width": ""
      }
     },
     "19587b1b9ff5491e9ff32ec1d9582209": {
      "model_module": "@jupyter-widgets/controls",
      "model_module_version": "1.5.0",
      "model_name": "LabelModel",
      "state": {
       "layout": "IPY_MODEL_83ad9bc41a2b4500a19b8f26644e2928",
       "style": "IPY_MODEL_83fede7e7b7441e0806361419efe37ee",
       "value": "Write your own code:"
      }
     },
     "19895011dec74c108b67a528a77cd430": {
      "model_module": "@jupyter-widgets/controls",
      "model_module_version": "1.5.0",
      "model_name": "VBoxModel",
      "state": {
       "children": [
        "IPY_MODEL_c08cbeef4847474fab0c95eb052c3d65",
        "IPY_MODEL_600e5c05322c457db0029db602f7a7bf",
        "IPY_MODEL_ab07a3e385db4370ab29540970c0c243",
        "IPY_MODEL_62285d031da241f0844c94d59b2fc7c4",
        "IPY_MODEL_5d601cc919a04e1f88dced9885f97bbd"
       ],
       "layout": "IPY_MODEL_90356381d6244cb09f618f4590cdfad0"
      }
     },
     "1a005dc60ccb410c90d92b00e6035813": {
      "model_module": "@jupyter-widgets/base",
      "model_module_version": "1.2.0",
      "model_name": "LayoutModel",
      "state": {}
     },
     "1a2b44a1169b4e419f4bd40c14b963c1": {
      "model_module": "@jupyter-widgets/base",
      "model_module_version": "1.2.0",
      "model_name": "LayoutModel",
      "state": {
       "height": "200px",
       "width": "99%"
      }
     },
     "1a47338a11b7483f909f6c9851123fe5": {
      "model_module": "@jupyter-widgets/base",
      "model_module_version": "1.2.0",
      "model_name": "LayoutModel",
      "state": {}
     },
     "1a49defb3ada4e47be04aa4892a8a3c2": {
      "model_module": "@jupyter-widgets/base",
      "model_module_version": "1.2.0",
      "model_name": "LayoutModel",
      "state": {}
     },
     "1a913fd71dcc4eb4958ec9ef0288e3c2": {
      "model_module": "@jupyter-widgets/base",
      "model_module_version": "1.2.0",
      "model_name": "LayoutModel",
      "state": {
       "border": "solid 2px",
       "padding": "1rem"
      }
     },
     "1a9fb8aa7ca044c98e7d701135c236f7": {
      "model_module": "@jupyter-widgets/controls",
      "model_module_version": "1.5.0",
      "model_name": "TextareaModel",
      "state": {
       "layout": "IPY_MODEL_3e48589e7c4c4e0aa231b2d159d2c442",
       "style": "IPY_MODEL_bbb09963000a4fdab6badcad8100dd48"
      }
     },
     "1ac7541319ea4e7bae5359435dc6acb2": {
      "model_module": "@jupyter-widgets/controls",
      "model_module_version": "1.5.0",
      "model_name": "TextareaModel",
      "state": {
       "layout": "IPY_MODEL_ec3de60d84be42bc8baea2076bae0821",
       "placeholder": "",
       "style": "IPY_MODEL_08873e13f9bc47598389aba952a2cbce"
      }
     },
     "1af6bc682d594d2188e76b3b6ff92aac": {
      "model_module": "@jupyter-widgets/controls",
      "model_module_version": "1.5.0",
      "model_name": "TextareaModel",
      "state": {
       "disabled": true,
       "layout": "IPY_MODEL_c5648a1f012e4e0ca67ce6ffa72cd420",
       "placeholder": "",
       "style": "IPY_MODEL_e07cee2149b245df93dcc428b64856e4"
      }
     },
     "1b5b882e76634f51a0a194a0b641b4f8": {
      "model_module": "@jupyter-widgets/controls",
      "model_module_version": "1.5.0",
      "model_name": "VBoxModel",
      "state": {
       "children": [
        "IPY_MODEL_5d74b1b79cac4c39a15c54be4579a48e",
        "IPY_MODEL_86bac7d409de4a07a7d115a5ebf64168"
       ],
       "layout": "IPY_MODEL_b44d8ef9678046aa975288cf8bd056e7"
      }
     },
     "1b664eeafc1d47b484a788cf118364a5": {
      "model_module": "@jupyter-widgets/base",
      "model_module_version": "1.2.0",
      "model_name": "LayoutModel",
      "state": {}
     },
     "1b8ec9a901e74af0b52c93d7fe1cd494": {
      "model_module": "@jupyter-widgets/base",
      "model_module_version": "1.2.0",
      "model_name": "LayoutModel",
      "state": {
       "height": "200px",
       "width": "99%"
      }
     },
     "1c3270cf2fe84b77a054e04ce99ec75b": {
      "model_module": "@jupyter-widgets/controls",
      "model_module_version": "1.5.0",
      "model_name": "DescriptionStyleModel",
      "state": {
       "description_width": ""
      }
     },
     "1c65a85e97714c9e904f37f10c1ee065": {
      "model_module": "@jupyter-widgets/base",
      "model_module_version": "1.2.0",
      "model_name": "LayoutModel",
      "state": {
       "border": "solid 2px",
       "padding": "1rem"
      }
     },
     "1c7e4dc017284dff8faf6a8f2cd98174": {
      "model_module": "@jupyter-widgets/base",
      "model_module_version": "1.2.0",
      "model_name": "LayoutModel",
      "state": {}
     },
     "1cd0139a921c42dfa261bfc9857eb875": {
      "model_module": "@jupyter-widgets/base",
      "model_module_version": "1.2.0",
      "model_name": "LayoutModel",
      "state": {}
     },
     "1cd393286ec84581818b63b0f96ead9d": {
      "model_module": "@jupyter-widgets/controls",
      "model_module_version": "1.5.0",
      "model_name": "DescriptionStyleModel",
      "state": {
       "description_width": ""
      }
     },
     "1ce261cb1f1642a691a7df1abf63c7c9": {
      "model_module": "@jupyter-widgets/controls",
      "model_module_version": "1.5.0",
      "model_name": "HBoxModel",
      "state": {
       "children": [
        "IPY_MODEL_4f7d55a9f8d34530a6b2040bcb6754ef",
        "IPY_MODEL_3f99a837d59f45ecb12f44ea28b10a0a",
        "IPY_MODEL_22588987a3d7426eb32a4f05c1ee9832"
       ],
       "layout": "IPY_MODEL_1d495f97342743edb44aeadad6c59f72"
      }
     },
     "1d495f97342743edb44aeadad6c59f72": {
      "model_module": "@jupyter-widgets/base",
      "model_module_version": "1.2.0",
      "model_name": "LayoutModel",
      "state": {
       "border": "solid 1px"
      }
     },
     "1e06e46f3f8248d09619b740b4b53a3e": {
      "model_module": "@jupyter-widgets/controls",
      "model_module_version": "1.5.0",
      "model_name": "ButtonModel",
      "state": {
       "button_style": "warning",
       "description": "Run Code",
       "icon": "check",
       "layout": "IPY_MODEL_971f8275baa244429ddb355834bd5d2d",
       "style": "IPY_MODEL_f2f0de425c2c49a6b41ab9dc59b4602f"
      }
     },
     "1e174d9eae804f22b316eedce2c6f106": {
      "model_module": "@jupyter-widgets/base",
      "model_module_version": "1.2.0",
      "model_name": "LayoutModel",
      "state": {}
     },
     "1e6d5bf1349b492cbf454aa245cf60f7": {
      "model_module": "@jupyter-widgets/base",
      "model_module_version": "1.2.0",
      "model_name": "LayoutModel",
      "state": {}
     },
     "1ecf7afc0cc943418d4aedc026eb8956": {
      "model_module": "@jupyter-widgets/controls",
      "model_module_version": "1.5.0",
      "model_name": "DescriptionStyleModel",
      "state": {
       "description_width": ""
      }
     },
     "1ef18f23089c4dba9d83a1a5f8d4f8b0": {
      "model_module": "@jupyter-widgets/controls",
      "model_module_version": "1.5.0",
      "model_name": "DescriptionStyleModel",
      "state": {
       "description_width": ""
      }
     },
     "1efc3db77a2541a98e33cec90305560c": {
      "model_module": "@jupyter-widgets/base",
      "model_module_version": "1.2.0",
      "model_name": "LayoutModel",
      "state": {}
     },
     "1f08173a8d914a8bb792a3f00841f2a6": {
      "model_module": "@jupyter-widgets/controls",
      "model_module_version": "1.5.0",
      "model_name": "VBoxModel",
      "state": {
       "layout": "IPY_MODEL_5a77a698adc84d0eb2577a137b02e7b0"
      }
     },
     "1f17c33a985a4b52874db770a5bf401d": {
      "model_module": "@jupyter-widgets/controls",
      "model_module_version": "1.5.0",
      "model_name": "DescriptionStyleModel",
      "state": {
       "description_width": ""
      }
     },
     "1f2b0a174ed24f9396b689dcddfc8010": {
      "model_module": "@jupyter-widgets/controls",
      "model_module_version": "1.5.0",
      "model_name": "LabelModel",
      "state": {
       "layout": "IPY_MODEL_029bc643c0a74bb191265ea8f1ee3bf5",
       "style": "IPY_MODEL_d45171beb9be427d958224193bd345d5",
       "value": "Write your own code:"
      }
     },
     "1f5fcad01b474504b3abb0b8a4edf684": {
      "model_module": "@jupyter-widgets/controls",
      "model_module_version": "1.5.0",
      "model_name": "DescriptionStyleModel",
      "state": {
       "description_width": ""
      }
     },
     "1f7aa1dd29d54c08b4aec9915f3624f4": {
      "model_module": "@jupyter-widgets/controls",
      "model_module_version": "1.5.0",
      "model_name": "DescriptionStyleModel",
      "state": {
       "description_width": ""
      }
     },
     "1f83dabc4a7145f68f29ca600065c945": {
      "model_module": "@jupyter-widgets/controls",
      "model_module_version": "1.5.0",
      "model_name": "HBoxModel",
      "state": {
       "children": [
        "IPY_MODEL_6fc3d7d13bcb48b5bd6f4234e52d9640",
        "IPY_MODEL_f62bde91658847ef859f905b79f0c532"
       ],
       "layout": "IPY_MODEL_3deee242803e4aa1a12f35276f662b90"
      }
     },
     "1fa81e6347224a5ba2bcfe4281a9aa7f": {
      "model_module": "@jupyter-widgets/base",
      "model_module_version": "1.2.0",
      "model_name": "LayoutModel",
      "state": {}
     },
     "1ffc816d5bd345a3b738ef295406f454": {
      "model_module": "@jupyter-widgets/controls",
      "model_module_version": "1.5.0",
      "model_name": "HTMLModel",
      "state": {
       "layout": "IPY_MODEL_be925f94d5ac476f9b4dcde824682e64",
       "style": "IPY_MODEL_9f0d98af19984f11b4beeb9dbd7cd7d5"
      }
     },
     "20359cd5442240c2bdd00995756891cb": {
      "model_module": "@jupyter-widgets/base",
      "model_module_version": "1.2.0",
      "model_name": "LayoutModel",
      "state": {}
     },
     "2069a8219e0c4137849f5f5f2ab97a50": {
      "model_module": "@jupyter-widgets/base",
      "model_module_version": "1.2.0",
      "model_name": "LayoutModel",
      "state": {}
     },
     "20ab6f7b94ff4022bbfb344f622871c1": {
      "model_module": "@jupyter-widgets/controls",
      "model_module_version": "1.5.0",
      "model_name": "TextareaModel",
      "state": {
       "layout": "IPY_MODEL_7784618c522a422287e039ddc8b53178",
       "placeholder": "",
       "style": "IPY_MODEL_a3bfaca01bb0440ca3b0fe7c9f761b2f",
       "value": "#include <stdio.h>\n\n#define MAX 10\n\nint main(void) {\n    int i = 1, sum = 0;\n    \n    while(i<MAX)\n        sum += i++;\n    \n    printf(\"Sum from 1 to 10 is %d\\n\", MAX, sum);\n\n    return 0;\n}"
      }
     },
     "20d973d44bd7429aa7fb67d4fea808fe": {
      "model_module": "@jupyter-widgets/base",
      "model_module_version": "1.2.0",
      "model_name": "LayoutModel",
      "state": {
       "border": "solid 1px"
      }
     },
     "2162ce4146a44504960ed94cf3e5135a": {
      "model_module": "@jupyter-widgets/controls",
      "model_module_version": "1.5.0",
      "model_name": "ButtonStyleModel",
      "state": {}
     },
     "21809754526e4e69b64d56c227951ef8": {
      "model_module": "@jupyter-widgets/controls",
      "model_module_version": "1.5.0",
      "model_name": "TextModel",
      "state": {
       "layout": "IPY_MODEL_9ed85b8152cc42de8f9f20613c14bc30",
       "style": "IPY_MODEL_9d0bd55fade047e88798fea35b444fff",
       "value": "break"
      }
     },
     "21838ad2f5b242948a3e873d2acdebac": {
      "model_module": "@jupyter-widgets/base",
      "model_module_version": "1.2.0",
      "model_name": "LayoutModel",
      "state": {}
     },
     "21cc9481e2994e17a10663c550f8977e": {
      "model_module": "@jupyter-widgets/base",
      "model_module_version": "1.2.0",
      "model_name": "LayoutModel",
      "state": {}
     },
     "224e716207234b74af44094a621b824e": {
      "model_module": "@jupyter-widgets/controls",
      "model_module_version": "1.5.0",
      "model_name": "VBoxModel",
      "state": {
       "children": [
        "IPY_MODEL_e8548cdaeece40939c3f43a42e138354",
        "IPY_MODEL_cc69a4cc67864875b54e74098dc263fc"
       ],
       "layout": "IPY_MODEL_b31d2b32b4434549bd55516a5442bd15"
      }
     },
     "2252f20f6a214df6a13ecb716497cac9": {
      "model_module": "@jupyter-widgets/controls",
      "model_module_version": "1.5.0",
      "model_name": "HTMLModel",
      "state": {
       "layout": "IPY_MODEL_42198d8d46674ce18cc4a88b2a80ec90",
       "style": "IPY_MODEL_e1fc0e44a1614f3bb0bc79d5516603d0",
       "value": "반복 내부에서 반복을 종료하려면 ____ 문장을 사용한다."
      }
     },
     "22588987a3d7426eb32a4f05c1ee9832": {
      "model_module": "@jupyter-widgets/controls",
      "model_module_version": "1.5.0",
      "model_name": "CheckboxModel",
      "state": {
       "disabled": true,
       "layout": "IPY_MODEL_51864971a91e4aa885a523086e437d17",
       "style": "IPY_MODEL_4bb6103669694842abbf6244eca66e8d",
       "value": false
      }
     },
     "22abf17cf3db49b0b76ee5793215a508": {
      "model_module": "@jupyter-widgets/controls",
      "model_module_version": "1.5.0",
      "model_name": "ButtonModel",
      "state": {
       "layout": "IPY_MODEL_676b2c9283424658bbb93e7d7cf23cd3",
       "style": "IPY_MODEL_09e3ac07ba1e470c83386eaed2bfc873"
      }
     },
     "233ec28e2f114119beb3559ac2406618": {
      "model_module": "@jupyter-widgets/controls",
      "model_module_version": "1.5.0",
      "model_name": "ButtonModel",
      "state": {
       "button_style": "warning",
       "description": "Check",
       "icon": "check",
       "layout": "IPY_MODEL_cb1cffadb6d344afa0f04b508ec8d131",
       "style": "IPY_MODEL_9076236be7604519a5ed0187c0752231"
      }
     },
     "2347a7fcd5444bea9feef1909161ba1c": {
      "model_module": "@jupyter-widgets/base",
      "model_module_version": "1.2.0",
      "model_name": "LayoutModel",
      "state": {}
     },
     "23806ea93d774934a8f5a2ddd76ce384": {
      "model_module": "@jupyter-widgets/controls",
      "model_module_version": "1.5.0",
      "model_name": "LabelModel",
      "state": {
       "layout": "IPY_MODEL_48a3e15bdfe34ce9b44200e84aa90848",
       "style": "IPY_MODEL_000ff6d0060943a7bdedb2a4406dbab4",
       "value": "Output: "
      }
     },
     "23da3d26a59d4e1ba5c3a3e4d4b4b926": {
      "model_module": "@jupyter-widgets/base",
      "model_module_version": "1.2.0",
      "model_name": "LayoutModel",
      "state": {}
     },
     "23df6b04fb814993a09aa1e02c0f0537": {
      "model_module": "@jupyter-widgets/base",
      "model_module_version": "1.2.0",
      "model_name": "LayoutModel",
      "state": {}
     },
     "2400f66357ff409286337ac3966d1492": {
      "model_module": "@jupyter-widgets/controls",
      "model_module_version": "1.5.0",
      "model_name": "DescriptionStyleModel",
      "state": {
       "description_width": ""
      }
     },
     "240a364a92de412f9569af600dcafc00": {
      "model_module": "@jupyter-widgets/base",
      "model_module_version": "1.2.0",
      "model_name": "LayoutModel",
      "state": {
       "border": "ridge 2px",
       "padding": "1rem"
      }
     },
     "24371738ad2745c5b930d6b4668c2246": {
      "model_module": "@jupyter-widgets/controls",
      "model_module_version": "1.5.0",
      "model_name": "VBoxModel",
      "state": {
       "children": [
        "IPY_MODEL_88aa43d314414c6f919f0d2a6b54eddc",
        "IPY_MODEL_1ac7541319ea4e7bae5359435dc6acb2"
       ],
       "layout": "IPY_MODEL_6705a093ac0f4a919bce92af5b7f35a5"
      }
     },
     "24825369d46943d88c7ec411d114b6a4": {
      "model_module": "@jupyter-widgets/base",
      "model_module_version": "1.2.0",
      "model_name": "LayoutModel",
      "state": {}
     },
     "249a7c10f76544df886209be54a8b7ee": {
      "model_module": "@jupyter-widgets/base",
      "model_module_version": "1.2.0",
      "model_name": "LayoutModel",
      "state": {}
     },
     "24b03d9c089346d1843f5f042d9b5351": {
      "model_module": "@jupyter-widgets/base",
      "model_module_version": "1.2.0",
      "model_name": "LayoutModel",
      "state": {}
     },
     "24f44d75976a480babba962c64103969": {
      "model_module": "@jupyter-widgets/controls",
      "model_module_version": "1.5.0",
      "model_name": "DescriptionStyleModel",
      "state": {
       "description_width": ""
      }
     },
     "24f6222a1e9c4388a83e5713eafde547": {
      "model_module": "@jupyter-widgets/controls",
      "model_module_version": "1.5.0",
      "model_name": "ButtonModel",
      "state": {
       "layout": "IPY_MODEL_32be66c09e9542ae8b0f845bacabecac",
       "style": "IPY_MODEL_bf8354d5bf38496094276610c639d9d2"
      }
     },
     "2509cc04ef81443389df25706fb6f038": {
      "model_module": "@jupyter-widgets/controls",
      "model_module_version": "1.5.0",
      "model_name": "DescriptionStyleModel",
      "state": {
       "description_width": ""
      }
     },
     "252d45192c254e7aa55b2358f24eee26": {
      "model_module": "@jupyter-widgets/controls",
      "model_module_version": "1.5.0",
      "model_name": "DescriptionStyleModel",
      "state": {
       "description_width": ""
      }
     },
     "25596d4bf7ce48219e1cd5c8f20ec55c": {
      "model_module": "@jupyter-widgets/base",
      "model_module_version": "1.2.0",
      "model_name": "LayoutModel",
      "state": {}
     },
     "25ac03b763df4d1795d9b1b529793b7a": {
      "model_module": "@jupyter-widgets/controls",
      "model_module_version": "1.5.0",
      "model_name": "TextareaModel",
      "state": {
       "layout": "IPY_MODEL_92b82ec6331240f39ce87186163ae782",
       "placeholder": "",
       "style": "IPY_MODEL_092a9b8d763c4b43b6bf5dcde2cbe629",
       "value": "#include <stdio.h>\n\nint main(void) {\n int a;\n scanf(\"%d\", &a);\n printf(\"%d\\n\", a);\n return 0;\n}"
      }
     },
     "25e30dd1ce794659b37666ff331ad854": {
      "model_module": "@jupyter-widgets/controls",
      "model_module_version": "1.5.0",
      "model_name": "LabelModel",
      "state": {
       "layout": "IPY_MODEL_38d7dabf20904a928ca9a7516e20acc1",
       "style": "IPY_MODEL_f710f8735332462fb2adca0ae78c3fd8",
       "value": "Write your own code:"
      }
     },
     "25e768fb59d2499f82e3a1e0d42f2bb5": {
      "model_module": "@jupyter-widgets/controls",
      "model_module_version": "1.5.0",
      "model_name": "CheckboxModel",
      "state": {
       "disabled": true,
       "layout": "IPY_MODEL_68ed590936a44182a9af94f4ffa8f8e4",
       "style": "IPY_MODEL_d3296b94913e496d8e2b1aed0b30b76a",
       "value": false
      }
     },
     "261e2c9d37474669914f7a9d25e7f2ed": {
      "model_module": "@jupyter-widgets/controls",
      "model_module_version": "1.5.0",
      "model_name": "DescriptionStyleModel",
      "state": {
       "description_width": ""
      }
     },
     "26a4dddb38f04104b02d4aac70819b8e": {
      "model_module": "@jupyter-widgets/base",
      "model_module_version": "1.2.0",
      "model_name": "LayoutModel",
      "state": {}
     },
     "26ade6c88410475192e08efc1024ea93": {
      "model_module": "@jupyter-widgets/controls",
      "model_module_version": "1.5.0",
      "model_name": "TextareaModel",
      "state": {
       "layout": "IPY_MODEL_d05e25236c28455a9940bf21f593f306",
       "placeholder": "",
       "style": "IPY_MODEL_ef3cc0ef4c1341f0aefe221a32401bc9"
      }
     },
     "26bb1db1ecb24fe081295a4457602f44": {
      "model_module": "@jupyter-widgets/base",
      "model_module_version": "1.2.0",
      "model_name": "LayoutModel",
      "state": {}
     },
     "26fa485159b44a858dbf29bbcd078047": {
      "model_module": "@jupyter-widgets/base",
      "model_module_version": "1.2.0",
      "model_name": "LayoutModel",
      "state": {
       "width": "90px"
      }
     },
     "2725d485bf02486cbe51feb5d3c0f810": {
      "model_module": "@jupyter-widgets/base",
      "model_module_version": "1.2.0",
      "model_name": "LayoutModel",
      "state": {
       "height": "200px",
       "width": "99%"
      }
     },
     "279a03bc1fee45488707a84630c1fc99": {
      "model_module": "@jupyter-widgets/controls",
      "model_module_version": "1.5.0",
      "model_name": "VBoxModel",
      "state": {
       "children": [
        "IPY_MODEL_48a4b2f241824f0994ca0ab3ed76e54c",
        "IPY_MODEL_093e04bf2df74d5f8e941f80632dc71f",
        "IPY_MODEL_1f83dabc4a7145f68f29ca600065c945",
        "IPY_MODEL_c1f56a72140a47a987e099d37076b487"
       ],
       "layout": "IPY_MODEL_ae8d0c7eefce42eaa32a391b62a089c2"
      }
     },
     "27b626e923ad41c8a0368c001743177b": {
      "model_module": "@jupyter-widgets/controls",
      "model_module_version": "1.5.0",
      "model_name": "DescriptionStyleModel",
      "state": {
       "description_width": ""
      }
     },
     "28ecabd8cf5048deb72ee4e145b44dd5": {
      "model_module": "@jupyter-widgets/controls",
      "model_module_version": "1.5.0",
      "model_name": "VBoxModel",
      "state": {
       "children": [
        "IPY_MODEL_06d8545f1b014156ac6d6fc4739ee662",
        "IPY_MODEL_4c3346a983ed4922a5df0931d3e4ef2e",
        "IPY_MODEL_bfd2863e88de4e4d968df7f8ad1447cd",
        "IPY_MODEL_8eaafb559b774c64995241b7e0ee51cc",
        "IPY_MODEL_9e9544c079714a71beb259ecf9e00e66"
       ],
       "layout": "IPY_MODEL_d8245250301b4044a11c83c90afb1926"
      }
     },
     "28ef41fbb4914ec5851c4beb9148756b": {
      "model_module": "@jupyter-widgets/controls",
      "model_module_version": "1.5.0",
      "model_name": "HTMLModel",
      "state": {
       "layout": "IPY_MODEL_1fa81e6347224a5ba2bcfe4281a9aa7f",
       "style": "IPY_MODEL_1496c19584f3467ab72724551279c738",
       "value": "(3) Which instruction completes the program to compute a triangle's area?<br>base = Get next input<br>height = Get next input<br>Assign x with base * height<br>_____<br>Put x to output<br>"
      }
     },
     "29037d3bb02c4f14a065c6fe887e9952": {
      "model_module": "@jupyter-widgets/base",
      "model_module_version": "1.2.0",
      "model_name": "LayoutModel",
      "state": {
       "border": "solid 2px",
       "padding": "1rem"
      }
     },
     "294e2a044eaa4c4ea3b83160e66023b9": {
      "model_module": "@jupyter-widgets/controls",
      "model_module_version": "1.5.0",
      "model_name": "HBoxModel",
      "state": {
       "children": [
        "IPY_MODEL_9dfd6d0ec7ae416b91e9c29737c36105",
        "IPY_MODEL_084db3c6920245e3bb40d634780d4a59",
        "IPY_MODEL_67ef6b0e651d464fb5ad1a02c469c760"
       ],
       "layout": "IPY_MODEL_c6ff1ee3d15c4022968972324c57dab7"
      }
     },
     "29ced680cde54cd39c738366cb2adac9": {
      "model_module": "@jupyter-widgets/controls",
      "model_module_version": "1.5.0",
      "model_name": "ToggleButtonModel",
      "state": {
       "description": "Show code",
       "layout": "IPY_MODEL_0212e151b40949cb9d4807ff818ae952",
       "style": "IPY_MODEL_1f17c33a985a4b52874db770a5bf401d"
      }
     },
     "29e2026999bf40b397d9f486193052d0": {
      "model_module": "@jupyter-widgets/base",
      "model_module_version": "1.2.0",
      "model_name": "LayoutModel",
      "state": {
       "width": "90px"
      }
     },
     "29f9115bde414d459b1e92488fe4640a": {
      "model_module": "@jupyter-widgets/base",
      "model_module_version": "1.2.0",
      "model_name": "LayoutModel",
      "state": {
       "border": "solid 2px",
       "padding": "1rem"
      }
     },
     "2a336ab1d55148d1a34e2d744d660cc8": {
      "model_module": "@jupyter-widgets/controls",
      "model_module_version": "1.5.0",
      "model_name": "DescriptionStyleModel",
      "state": {
       "description_width": ""
      }
     },
     "2a587c55b3304331ae7e25390777e49f": {
      "model_module": "@jupyter-widgets/controls",
      "model_module_version": "1.5.0",
      "model_name": "DescriptionStyleModel",
      "state": {
       "description_width": ""
      }
     },
     "2a70c7b6c96b417ca33e672812f25545": {
      "model_module": "@jupyter-widgets/controls",
      "model_module_version": "1.5.0",
      "model_name": "DescriptionStyleModel",
      "state": {
       "description_width": ""
      }
     },
     "2aa769b43e15460b9ac170b7c43e1ffa": {
      "model_module": "@jupyter-widgets/controls",
      "model_module_version": "1.5.0",
      "model_name": "DescriptionStyleModel",
      "state": {
       "description_width": ""
      }
     },
     "2b14607c19c041c8a445de73394e9a69": {
      "model_module": "@jupyter-widgets/base",
      "model_module_version": "1.2.0",
      "model_name": "LayoutModel",
      "state": {
       "border": "solid 1px"
      }
     },
     "2b5c11675c9946d0aed2558ce94fed22": {
      "model_module": "@jupyter-widgets/controls",
      "model_module_version": "1.5.0",
      "model_name": "DescriptionStyleModel",
      "state": {
       "description_width": ""
      }
     },
     "2b899be83d644524aa56f5ddf7be5d30": {
      "model_module": "@jupyter-widgets/controls",
      "model_module_version": "1.5.0",
      "model_name": "VBoxModel",
      "state": {
       "layout": "IPY_MODEL_ccc617f2d2b54e8194d37bb7140db67d"
      }
     },
     "2bb0970173914de79ab89a2b5daf456e": {
      "model_module": "@jupyter-widgets/controls",
      "model_module_version": "1.5.0",
      "model_name": "TextModel",
      "state": {
       "layout": "IPY_MODEL_fb4bcc9ca2274e15854aa578b3bea135",
       "style": "IPY_MODEL_650a7155fd7c4139be55290e9d94f52c"
      }
     },
     "2bfb231038354793b46c49b5ed7f556c": {
      "model_module": "@jupyter-widgets/controls",
      "model_module_version": "1.5.0",
      "model_name": "DescriptionStyleModel",
      "state": {
       "description_width": ""
      }
     },
     "2c46b1ec785f4fd2b3f1d8df2f2e7e82": {
      "model_module": "@jupyter-widgets/controls",
      "model_module_version": "1.5.0",
      "model_name": "DescriptionStyleModel",
      "state": {
       "description_width": ""
      }
     },
     "2c999a24125e48e7a827232051824992": {
      "model_module": "@jupyter-widgets/base",
      "model_module_version": "1.2.0",
      "model_name": "LayoutModel",
      "state": {
       "width": "90px"
      }
     },
     "2cb430396fea447d8b5dd579cdca13fb": {
      "model_module": "@jupyter-widgets/controls",
      "model_module_version": "1.5.0",
      "model_name": "HTMLModel",
      "state": {
       "layout": "IPY_MODEL_cb3b9e4ecbe444aa9abb4270339339d0",
       "style": "IPY_MODEL_555be80f29a74a399a95999dc64b10e4"
      }
     },
     "2cba843c2e64489a93541fb13d435620": {
      "model_module": "@jupyter-widgets/controls",
      "model_module_version": "1.5.0",
      "model_name": "ButtonStyleModel",
      "state": {}
     },
     "2cc44b24a0ae497aa4bea85a9b768114": {
      "model_module": "@jupyter-widgets/controls",
      "model_module_version": "1.5.0",
      "model_name": "RadioButtonsModel",
      "state": {
       "_options_labels": [
        "if",
        "if else",
        "switch",
        "break"
       ],
       "index": 0,
       "layout": "IPY_MODEL_31c37ee89b784e66b35b1afb709617bd",
       "style": "IPY_MODEL_3e358dbc6ab14aafb9b45c540fec4bd4"
      }
     },
     "2d12efd4c4bb4730bb6134204fee274a": {
      "model_module": "@jupyter-widgets/controls",
      "model_module_version": "1.5.0",
      "model_name": "LabelModel",
      "state": {
       "layout": "IPY_MODEL_b8bf981577d54955b36600d461755f6c",
       "style": "IPY_MODEL_73839d2dc9b9457fa9aacc865982e6e6",
       "value": "Output: "
      }
     },
     "2d2c069d023c42d5baa9a14da6899ae6": {
      "model_module": "@jupyter-widgets/controls",
      "model_module_version": "1.5.0",
      "model_name": "DescriptionStyleModel",
      "state": {
       "description_width": ""
      }
     },
     "2d5a121fcad34efea8435c50419881b2": {
      "model_module": "@jupyter-widgets/base",
      "model_module_version": "1.2.0",
      "model_name": "LayoutModel",
      "state": {
       "height": "100px",
       "width": "250px"
      }
     },
     "2d633aa51f2d4c74ab42f0e407fb3127": {
      "model_module": "@jupyter-widgets/base",
      "model_module_version": "1.2.0",
      "model_name": "LayoutModel",
      "state": {}
     },
     "2d6acd8fae5947698c599519a21b8f93": {
      "model_module": "@jupyter-widgets/base",
      "model_module_version": "1.2.0",
      "model_name": "LayoutModel",
      "state": {}
     },
     "2d7b46fcbdb24edc88bd85ca2308858c": {
      "model_module": "@jupyter-widgets/controls",
      "model_module_version": "1.5.0",
      "model_name": "VBoxModel",
      "state": {
       "children": [
        "IPY_MODEL_766e26b2854f4b3782c5496b491c60b2",
        "IPY_MODEL_eb6ec5687cc142b6a1ce679834e2589f",
        "IPY_MODEL_0911305b85214dccb5c556642179b356",
        "IPY_MODEL_d1de50d85a9440e38ae909d88e1870df",
        "IPY_MODEL_d7bccd8a4842478aaed9fe5249a363f8"
       ],
       "layout": "IPY_MODEL_1a913fd71dcc4eb4958ec9ef0288e3c2"
      }
     },
     "2e767240e33449bd9a9b6c45662776d2": {
      "model_module": "@jupyter-widgets/base",
      "model_module_version": "1.2.0",
      "model_name": "LayoutModel",
      "state": {}
     },
     "2e9bc03c6c9e4f14b21eb68a7897cfe8": {
      "model_module": "@jupyter-widgets/base",
      "model_module_version": "1.2.0",
      "model_name": "LayoutModel",
      "state": {}
     },
     "2ecb105adaec4fe7ae5e0d3c62e69ea2": {
      "model_module": "@jupyter-widgets/controls",
      "model_module_version": "1.5.0",
      "model_name": "TextareaModel",
      "state": {
       "layout": "IPY_MODEL_c270374fd18a41fcbb93651d4493a8a3",
       "placeholder": "",
       "style": "IPY_MODEL_8b54e3a1aeee4f549feaa603e6838389",
       "value": "#include <stdio.h>\n\nint main(void) {\n    int mult, n, i;\n    \n    for (;;) {\n        printf(\"Insert any number from 1 to 20 (0 to exit): \");\n        scanf(\"%d\", &n);\n        if(n<=0)\n            break;\n        for(i=1, mult = 1;i<=n;i++)\n            mult *= i;\n        printf(\"n! is: %d\\n\", n, mult);\n    }\n    puts(\"Exit..\");\n    \n    return 0;\n        \n}"
      }
     },
     "2edd5f275f264f6ebe3f83cc2f486052": {
      "model_module": "@jupyter-widgets/controls",
      "model_module_version": "1.5.0",
      "model_name": "ButtonModel",
      "state": {
       "layout": "IPY_MODEL_4be6618025de4444b2e7c90569f28c4a",
       "style": "IPY_MODEL_9adad2b84ddc439da804d55ad2f4d547"
      }
     },
     "2f0e54b7abd043c0b2b95fb443999bf4": {
      "model_module": "@jupyter-widgets/base",
      "model_module_version": "1.2.0",
      "model_name": "LayoutModel",
      "state": {}
     },
     "2f1bb770b2e7459eb04586983e8f7abe": {
      "model_module": "@jupyter-widgets/base",
      "model_module_version": "1.2.0",
      "model_name": "LayoutModel",
      "state": {}
     },
     "2f2781ddf9d64f9ba91b82e70f54e3d6": {
      "model_module": "@jupyter-widgets/controls",
      "model_module_version": "1.5.0",
      "model_name": "VBoxModel",
      "state": {
       "layout": "IPY_MODEL_0ae6bf4b1a4041fa8906661789c7bf6a"
      }
     },
     "2f28bde612344f6cb29b41661b3ad617": {
      "model_module": "@jupyter-widgets/controls",
      "model_module_version": "1.5.0",
      "model_name": "HTMLModel",
      "state": {
       "layout": "IPY_MODEL_ab91ce4946914efbaaf9afab9acaf297",
       "style": "IPY_MODEL_6b9bc9e63a5f4d1083b318e9430c9578"
      }
     },
     "2f38e31093af458dbf2888e098e0ba8a": {
      "model_module": "@jupyter-widgets/base",
      "model_module_version": "1.2.0",
      "model_name": "LayoutModel",
      "state": {
       "width": "100%"
      }
     },
     "2fa4ec219f664d339719683f53e129b6": {
      "model_module": "@jupyter-widgets/controls",
      "model_module_version": "1.5.0",
      "model_name": "CheckboxModel",
      "state": {
       "disabled": true,
       "layout": "IPY_MODEL_53fb1942657d497a907b433892625ab6",
       "style": "IPY_MODEL_f104605ae7a647b9a2dd5cbce49c4d5f",
       "value": true
      }
     },
     "2fe46cb5f820470bb2e6a6a094e25d08": {
      "model_module": "@jupyter-widgets/controls",
      "model_module_version": "1.5.0",
      "model_name": "ButtonModel",
      "state": {
       "layout": "IPY_MODEL_c5d50edb94be46e48eabfd8802e563a4",
       "style": "IPY_MODEL_9dafc546b96e49e686bcd85fc050d80c"
      }
     },
     "3096ecbbcbb34698aad2daafc2bd0d97": {
      "model_module": "@jupyter-widgets/base",
      "model_module_version": "1.2.0",
      "model_name": "LayoutModel",
      "state": {}
     },
     "31a5bd20db9a479db37029e14e95ddd4": {
      "model_module": "@jupyter-widgets/controls",
      "model_module_version": "1.5.0",
      "model_name": "ButtonStyleModel",
      "state": {}
     },
     "31c37ee89b784e66b35b1afb709617bd": {
      "model_module": "@jupyter-widgets/base",
      "model_module_version": "1.2.0",
      "model_name": "LayoutModel",
      "state": {}
     },
     "32151bd0f2484c0a879f5cf52dcb7c95": {
      "model_module": "@jupyter-widgets/base",
      "model_module_version": "1.2.0",
      "model_name": "LayoutModel",
      "state": {}
     },
     "324f1091244a4b50a90ee2bfd311c209": {
      "model_module": "@jupyter-widgets/controls",
      "model_module_version": "1.5.0",
      "model_name": "DescriptionStyleModel",
      "state": {
       "description_width": ""
      }
     },
     "32719695c6d74cdca6d34adeab820ffb": {
      "model_module": "@jupyter-widgets/controls",
      "model_module_version": "1.5.0",
      "model_name": "TextareaModel",
      "state": {
       "layout": "IPY_MODEL_d43b5c4622ab484d8ed9a67f3195ea23",
       "style": "IPY_MODEL_51418e26c6074707b05d8d94b46b07d4"
      }
     },
     "32be66c09e9542ae8b0f845bacabecac": {
      "model_module": "@jupyter-widgets/base",
      "model_module_version": "1.2.0",
      "model_name": "LayoutModel",
      "state": {}
     },
     "32ec6a3b53da4a359df35f21c7c12c6f": {
      "model_module": "@jupyter-widgets/base",
      "model_module_version": "1.2.0",
      "model_name": "LayoutModel",
      "state": {}
     },
     "32f0957c541841e699ff0a9c128dc01b": {
      "model_module": "@jupyter-widgets/base",
      "model_module_version": "1.2.0",
      "model_name": "LayoutModel",
      "state": {}
     },
     "32f91050c0a7432f9ac0468043d04661": {
      "model_module": "@jupyter-widgets/base",
      "model_module_version": "1.2.0",
      "model_name": "LayoutModel",
      "state": {}
     },
     "3330372ecdb44ed78db3100df9cbb333": {
      "model_module": "@jupyter-widgets/base",
      "model_module_version": "1.2.0",
      "model_name": "LayoutModel",
      "state": {
       "border": "solid 2px",
       "padding": "1rem"
      }
     },
     "3393b0c02e264da898d9b1d53975e4ea": {
      "model_module": "@jupyter-widgets/base",
      "model_module_version": "1.2.0",
      "model_name": "LayoutModel",
      "state": {
       "height": "100px",
       "width": "250px"
      }
     },
     "33d13b6d89294e2699eeacd373551413": {
      "model_module": "@jupyter-widgets/controls",
      "model_module_version": "1.5.0",
      "model_name": "ButtonModel",
      "state": {
       "layout": "IPY_MODEL_7818f7ad458745219753ef471922a493",
       "style": "IPY_MODEL_622780d91c6f4e80aaeb8d879ad7a99a"
      }
     },
     "34a3efeca1fc4eb59a4ab91e596bb64f": {
      "model_module": "@jupyter-widgets/base",
      "model_module_version": "1.2.0",
      "model_name": "LayoutModel",
      "state": {}
     },
     "35bbf0acc21547b2b37a900e3516ee78": {
      "model_module": "@jupyter-widgets/controls",
      "model_module_version": "1.5.0",
      "model_name": "TextareaModel",
      "state": {
       "layout": "IPY_MODEL_9584609b2df04a1f9ac54328f3ff1b7e",
       "style": "IPY_MODEL_63a809df451b4091adc7bfda1026c91f"
      }
     },
     "36067e6330b74694bcff75b420f2ac2f": {
      "model_module": "@jupyter-widgets/base",
      "model_module_version": "1.2.0",
      "model_name": "LayoutModel",
      "state": {}
     },
     "3642ad6a4bba4a4599182bedb2e34dbd": {
      "model_module": "@jupyter-widgets/controls",
      "model_module_version": "1.5.0",
      "model_name": "VBoxModel",
      "state": {
       "children": [
        "IPY_MODEL_23806ea93d774934a8f5a2ddd76ce384",
        "IPY_MODEL_fac73d109b8f4d7aac05ff4bec4848fd"
       ],
       "layout": "IPY_MODEL_9ed97ff70c3245fb87c7af6225444eb2"
      }
     },
     "3648bb5f7ff746d1a554d9cfe82d7717": {
      "model_module": "@jupyter-widgets/controls",
      "model_module_version": "1.5.0",
      "model_name": "VBoxModel",
      "state": {
       "children": [
        "IPY_MODEL_294e2a044eaa4c4ea3b83160e66023b9",
        "IPY_MODEL_01aa4ba5bbfa4e0f86b5198f9b8e8bc0"
       ],
       "layout": "IPY_MODEL_c5aace43e7fe4f93a44efb3498c360f0"
      }
     },
     "368a6b4813204164a20aa17fdb1b98f9": {
      "model_module": "@jupyter-widgets/controls",
      "model_module_version": "1.5.0",
      "model_name": "VBoxModel",
      "state": {
       "children": [
        "IPY_MODEL_f9dc521a32c948ef9f02375d407a9672",
        "IPY_MODEL_8837f0c408f74ec194cdf714b6c87007",
        "IPY_MODEL_aefc88a7be4e4c2f9e23f36d1ad62cc1",
        "IPY_MODEL_ca33df94c50d4300a5f21181a8732afd"
       ],
       "layout": "IPY_MODEL_e8cbd566bc574945b4d07c06179a4e11"
      }
     },
     "369b6c89dd1c44e2883be4f7f1d48fa4": {
      "model_module": "@jupyter-widgets/controls",
      "model_module_version": "1.5.0",
      "model_name": "ButtonModel",
      "state": {
       "layout": "IPY_MODEL_249a7c10f76544df886209be54a8b7ee",
       "style": "IPY_MODEL_5a174f8cfce24ea19381383619e47dea"
      }
     },
     "36b0640334f948aeb4f4aa82b841899f": {
      "model_module": "@jupyter-widgets/base",
      "model_module_version": "1.2.0",
      "model_name": "LayoutModel",
      "state": {}
     },
     "36f403d4079144a8bbcc94bb28e0178c": {
      "model_module": "@jupyter-widgets/base",
      "model_module_version": "1.2.0",
      "model_name": "LayoutModel",
      "state": {
       "border": "solid 2px",
       "padding": "1rem"
      }
     },
     "37416b96bda347dba60efd897bc2e2be": {
      "model_module": "@jupyter-widgets/base",
      "model_module_version": "1.2.0",
      "model_name": "LayoutModel",
      "state": {}
     },
     "37c50e7eec6e4c0c9480ca7776d2bf5b": {
      "model_module": "@jupyter-widgets/base",
      "model_module_version": "1.2.0",
      "model_name": "LayoutModel",
      "state": {}
     },
     "388b61de7a0b4187b3a441f512624825": {
      "model_module": "@jupyter-widgets/controls",
      "model_module_version": "1.5.0",
      "model_name": "HTMLModel",
      "state": {
       "layout": "IPY_MODEL_124354bb7eea4dad83eeeaab8f218458",
       "style": "IPY_MODEL_9de26c71510148fbb08e96c8708d1400"
      }
     },
     "38a29a20ab0c4b039bf9a57c1b7b134b": {
      "model_module": "@jupyter-widgets/controls",
      "model_module_version": "1.5.0",
      "model_name": "DescriptionStyleModel",
      "state": {
       "description_width": ""
      }
     },
     "38d7dabf20904a928ca9a7516e20acc1": {
      "model_module": "@jupyter-widgets/base",
      "model_module_version": "1.2.0",
      "model_name": "LayoutModel",
      "state": {}
     },
     "393f79b66da44b9d8e5f6fbeb25aaa8a": {
      "model_module": "@jupyter-widgets/controls",
      "model_module_version": "1.5.0",
      "model_name": "CheckboxModel",
      "state": {
       "disabled": true,
       "layout": "IPY_MODEL_d920e3e6e575420a840624316644869e",
       "style": "IPY_MODEL_8b3e103ccb3a4866ab6f1bfedea74ccf",
       "value": false
      }
     },
     "39d11023ec584d0a9bb7bb7574468f22": {
      "model_module": "@jupyter-widgets/controls",
      "model_module_version": "1.5.0",
      "model_name": "TextareaModel",
      "state": {
       "layout": "IPY_MODEL_3b4080bf888146a7ace4b7afc16df788",
       "placeholder": "",
       "style": "IPY_MODEL_cc32b98ab3ef4855819b4202fe6dcde3",
       "value": "#include <stdio.h>\n\n#define MAX 10\n\nint main(void) {\n    int i = 1, sum = 0;\n    \n    while(i<=MAX)\n        sum += i++;\n    \n    printf(\"Sum from 1 to 10 is %d\\n\", sum);\n\n    return 0;\n}"
      }
     },
     "3ac96f83a44047af9a6ae157950a5d9b": {
      "model_module": "@jupyter-widgets/base",
      "model_module_version": "1.2.0",
      "model_name": "LayoutModel",
      "state": {}
     },
     "3ae8c8d92ff248069eb9853d93a00a41": {
      "model_module": "@jupyter-widgets/base",
      "model_module_version": "1.2.0",
      "model_name": "LayoutModel",
      "state": {
       "border": "solid 2px",
       "padding": "1rem"
      }
     },
     "3b04be85a9f44992b5f028549714f8c9": {
      "model_module": "@jupyter-widgets/base",
      "model_module_version": "1.2.0",
      "model_name": "LayoutModel",
      "state": {}
     },
     "3b4080bf888146a7ace4b7afc16df788": {
      "model_module": "@jupyter-widgets/base",
      "model_module_version": "1.2.0",
      "model_name": "LayoutModel",
      "state": {
       "height": "200px",
       "width": "99%"
      }
     },
     "3b87b273bb9440b2b5ed097fb91e69d0": {
      "model_module": "@jupyter-widgets/controls",
      "model_module_version": "1.5.0",
      "model_name": "DescriptionStyleModel",
      "state": {
       "description_width": ""
      }
     },
     "3b9f6bd8b4ac4498bc110267b0e17a14": {
      "model_module": "@jupyter-widgets/controls",
      "model_module_version": "1.5.0",
      "model_name": "DescriptionStyleModel",
      "state": {
       "description_width": ""
      }
     },
     "3bda98ac330f43d485f5a6e255bc85d1": {
      "model_module": "@jupyter-widgets/controls",
      "model_module_version": "1.5.0",
      "model_name": "VBoxModel",
      "state": {
       "children": [
        "IPY_MODEL_07e81052892440e4b6d23c05aca17346",
        null
       ],
       "layout": "IPY_MODEL_b631ebf984124e60a0e0efd6c395c04f"
      }
     },
     "3c1f73ff53784697be68b35faf0b4d22": {
      "model_module": "@jupyter-widgets/controls",
      "model_module_version": "1.5.0",
      "model_name": "DescriptionStyleModel",
      "state": {
       "description_width": ""
      }
     },
     "3c566e8f3f6c454db0ad85f9d919b170": {
      "model_module": "@jupyter-widgets/controls",
      "model_module_version": "1.5.0",
      "model_name": "LabelModel",
      "state": {
       "layout": "IPY_MODEL_07e2e0dab49741b8b5df77827bb457c7",
       "style": "IPY_MODEL_ef715d29c2034737805dbe2918e4a945",
       "value": "Write your own code:"
      }
     },
     "3d1972a68fc64e24bc6a20f42a27fc30": {
      "model_module": "@jupyter-widgets/controls",
      "model_module_version": "1.5.0",
      "model_name": "ButtonStyleModel",
      "state": {}
     },
     "3d9aa498a1884e5a87fb1802ec6a4693": {
      "model_module": "@jupyter-widgets/base",
      "model_module_version": "1.2.0",
      "model_name": "LayoutModel",
      "state": {}
     },
     "3deee242803e4aa1a12f35276f662b90": {
      "model_module": "@jupyter-widgets/base",
      "model_module_version": "1.2.0",
      "model_name": "LayoutModel",
      "state": {}
     },
     "3df7f67aa54c4e269db75e7d00e3d78b": {
      "model_module": "@jupyter-widgets/controls",
      "model_module_version": "1.5.0",
      "model_name": "ButtonStyleModel",
      "state": {}
     },
     "3e358dbc6ab14aafb9b45c540fec4bd4": {
      "model_module": "@jupyter-widgets/controls",
      "model_module_version": "1.5.0",
      "model_name": "DescriptionStyleModel",
      "state": {
       "description_width": ""
      }
     },
     "3e48589e7c4c4e0aa231b2d159d2c442": {
      "model_module": "@jupyter-widgets/base",
      "model_module_version": "1.2.0",
      "model_name": "LayoutModel",
      "state": {}
     },
     "3e4d02a4c4634a8293be5ac3e73cf110": {
      "model_module": "@jupyter-widgets/controls",
      "model_module_version": "1.5.0",
      "model_name": "DescriptionStyleModel",
      "state": {
       "description_width": ""
      }
     },
     "3e6509b8f24b423198191e32f884682e": {
      "model_module": "@jupyter-widgets/base",
      "model_module_version": "1.2.0",
      "model_name": "LayoutModel",
      "state": {}
     },
     "3ed5efd12c0741ec93ac04615045722f": {
      "model_module": "@jupyter-widgets/controls",
      "model_module_version": "1.5.0",
      "model_name": "VBoxModel",
      "state": {
       "layout": "IPY_MODEL_7ba5467c7fcd4e4391a4aad0f48709a2"
      }
     },
     "3ed7b598e8604c1f85d13c6a34c352cb": {
      "model_module": "@jupyter-widgets/controls",
      "model_module_version": "1.5.0",
      "model_name": "TextareaModel",
      "state": {
       "disabled": true,
       "layout": "IPY_MODEL_884a375c9641471994d56dad5fc58f09",
       "placeholder": "",
       "style": "IPY_MODEL_174a5fc1086e43dabb722147903aad5e",
       "value": "Sum from 1 to 10 is 55\n"
      }
     },
     "3f00435cce1e43cfabd052465a7fbf03": {
      "model_module": "@jupyter-widgets/controls",
      "model_module_version": "1.5.0",
      "model_name": "DescriptionStyleModel",
      "state": {
       "description_width": ""
      }
     },
     "3f0321a393634858a8aed637f876ee16": {
      "model_module": "@jupyter-widgets/controls",
      "model_module_version": "1.5.0",
      "model_name": "VBoxModel",
      "state": {
       "layout": "IPY_MODEL_c411374d23ea4c879e315402356c5631"
      }
     },
     "3f326eb5f12f4e568a23bd8405de91b2": {
      "model_module": "@jupyter-widgets/base",
      "model_module_version": "1.2.0",
      "model_name": "LayoutModel",
      "state": {}
     },
     "3f4fe98ab9c846b39b2a96e1fe528e4d": {
      "model_module": "@jupyter-widgets/base",
      "model_module_version": "1.2.0",
      "model_name": "LayoutModel",
      "state": {}
     },
     "3f55d8b2e1744b84916fa7b979b397dd": {
      "model_module": "@jupyter-widgets/base",
      "model_module_version": "1.2.0",
      "model_name": "LayoutModel",
      "state": {}
     },
     "3f62a0d792824534bcde263ac53399ed": {
      "model_module": "@jupyter-widgets/controls",
      "model_module_version": "1.5.0",
      "model_name": "LabelModel",
      "state": {
       "layout": "IPY_MODEL_49dfbdb692c546cb8d0b594f1f826c25",
       "style": "IPY_MODEL_38a29a20ab0c4b039bf9a57c1b7b134b",
       "value": "Input:"
      }
     },
     "3f99a837d59f45ecb12f44ea28b10a0a": {
      "model_module": "@jupyter-widgets/controls",
      "model_module_version": "1.5.0",
      "model_name": "CheckboxModel",
      "state": {
       "disabled": true,
       "layout": "IPY_MODEL_b2da8d7df368470abc655ee8b917816c",
       "style": "IPY_MODEL_8e6fe94e568448b0ba5e90851a3c1669",
       "value": true
      }
     },
     "3fe7eae8de92496082133207b34b4912": {
      "model_module": "@jupyter-widgets/controls",
      "model_module_version": "1.5.0",
      "model_name": "VBoxModel",
      "state": {
       "layout": "IPY_MODEL_062d1a900722459aafbc7f9a8a4216ae"
      }
     },
     "400dde22a5a2435ba8034837373cbfb5": {
      "model_module": "@jupyter-widgets/base",
      "model_module_version": "1.2.0",
      "model_name": "LayoutModel",
      "state": {}
     },
     "403aa8f098fe48369808ce7995c66e45": {
      "model_module": "@jupyter-widgets/controls",
      "model_module_version": "1.5.0",
      "model_name": "ButtonStyleModel",
      "state": {}
     },
     "40bcee3792294cd7b6c9eacd8a32e261": {
      "model_module": "@jupyter-widgets/base",
      "model_module_version": "1.2.0",
      "model_name": "LayoutModel",
      "state": {}
     },
     "40d2cae0517746a5b6428c38558f7078": {
      "model_module": "@jupyter-widgets/controls",
      "model_module_version": "1.5.0",
      "model_name": "CheckboxModel",
      "state": {
       "disabled": true,
       "layout": "IPY_MODEL_040e8a17a75042cdbbcbbeed33aad2dc",
       "style": "IPY_MODEL_af5f7db37fd64f2890ee8e18b3a4ad71",
       "value": true
      }
     },
     "411ef8cdf5914a90bc546cb02aef5689": {
      "model_module": "@jupyter-widgets/controls",
      "model_module_version": "1.5.0",
      "model_name": "DescriptionStyleModel",
      "state": {
       "description_width": ""
      }
     },
     "413d04924a3b41eb93179007bdc4dc84": {
      "model_module": "@jupyter-widgets/base",
      "model_module_version": "1.2.0",
      "model_name": "LayoutModel",
      "state": {}
     },
     "4153c70fe3d240e098993ab2ae3006c1": {
      "model_module": "@jupyter-widgets/controls",
      "model_module_version": "1.5.0",
      "model_name": "DescriptionStyleModel",
      "state": {
       "description_width": ""
      }
     },
     "41adcd8a28854c0a924a39a0349a1fca": {
      "model_module": "@jupyter-widgets/base",
      "model_module_version": "1.2.0",
      "model_name": "LayoutModel",
      "state": {}
     },
     "41cbd39a5ac84cfeb0634bd2f56886bf": {
      "model_module": "@jupyter-widgets/controls",
      "model_module_version": "1.5.0",
      "model_name": "HBoxModel",
      "state": {
       "children": [
        "IPY_MODEL_175ea3cbef0941ab99c11877c9d4c9d3",
        "IPY_MODEL_c0c35d96e89447fe923b0c37779f2069"
       ],
       "layout": "IPY_MODEL_cb5334f415dc45c39ed31eca9c7fef5a"
      }
     },
     "41d56355dc9741a78bbb7a0df5a59d7b": {
      "model_module": "@jupyter-widgets/controls",
      "model_module_version": "1.5.0",
      "model_name": "VBoxModel",
      "state": {
       "children": [
        "IPY_MODEL_76990842fa944fe39686bfe8dd75f88d",
        "IPY_MODEL_093e04bf2df74d5f8e941f80632dc71f"
       ],
       "layout": "IPY_MODEL_af18db21edf7423d857fe4e34bb22577"
      }
     },
     "420f74059ff24146a1d750bfb8a4088f": {
      "model_module": "@jupyter-widgets/controls",
      "model_module_version": "1.5.0",
      "model_name": "ButtonStyleModel",
      "state": {}
     },
     "42198d8d46674ce18cc4a88b2a80ec90": {
      "model_module": "@jupyter-widgets/base",
      "model_module_version": "1.2.0",
      "model_name": "LayoutModel",
      "state": {}
     },
     "4336449a36f445858790d9504fd24dbf": {
      "model_module": "@jupyter-widgets/controls",
      "model_module_version": "1.5.0",
      "model_name": "ButtonStyleModel",
      "state": {}
     },
     "436066b56c634c97a74631b2535d39dd": {
      "model_module": "@jupyter-widgets/base",
      "model_module_version": "1.2.0",
      "model_name": "LayoutModel",
      "state": {
       "width": "90px"
      }
     },
     "43985ed85c9143cca5073cf92920a5a9": {
      "model_module": "@jupyter-widgets/base",
      "model_module_version": "1.2.0",
      "model_name": "LayoutModel",
      "state": {
       "height": "100px",
       "width": "99%"
      }
     },
     "44373bcdfcd147b5ba278dd46c1cdc92": {
      "model_module": "@jupyter-widgets/base",
      "model_module_version": "1.2.0",
      "model_name": "LayoutModel",
      "state": {}
     },
     "44ae4fd6d3cf4cd2b4388c166d0d915c": {
      "model_module": "@jupyter-widgets/base",
      "model_module_version": "1.2.0",
      "model_name": "LayoutModel",
      "state": {
       "width": "90px"
      }
     },
     "452b8b0be4bb4db599524501d8df41d8": {
      "model_module": "@jupyter-widgets/base",
      "model_module_version": "1.2.0",
      "model_name": "LayoutModel",
      "state": {}
     },
     "453b7a8e18454c3490fa6a1a0687758a": {
      "model_module": "@jupyter-widgets/base",
      "model_module_version": "1.2.0",
      "model_name": "LayoutModel",
      "state": {
       "border": "solid 2px",
       "padding": "1rem"
      }
     },
     "455671a1b7ad43f894485a991c30af15": {
      "model_module": "@jupyter-widgets/controls",
      "model_module_version": "1.5.0",
      "model_name": "TextareaModel",
      "state": {
       "layout": "IPY_MODEL_e978fe6878144e40a8f1300e9300a1a7",
       "style": "IPY_MODEL_d88c903680e645199d04101df1e7704c"
      }
     },
     "458f67544a5441afb1a052581756987f": {
      "model_module": "@jupyter-widgets/controls",
      "model_module_version": "1.5.0",
      "model_name": "ButtonStyleModel",
      "state": {}
     },
     "459bf53ed269409dac6d396e7ddad32e": {
      "model_module": "@jupyter-widgets/controls",
      "model_module_version": "1.5.0",
      "model_name": "TextareaModel",
      "state": {
       "disabled": true,
       "layout": "IPY_MODEL_7044fd7326bf41f59d8518ef4383d4ed",
       "placeholder": "",
       "style": "IPY_MODEL_f7d11ed64ac246f599b6face48977e03"
      }
     },
     "45cb810d01594e3cb03a799c411c29ef": {
      "model_module": "@jupyter-widgets/base",
      "model_module_version": "1.2.0",
      "model_name": "LayoutModel",
      "state": {}
     },
     "45d9dd9037494f78bd56758643893eb0": {
      "model_module": "@jupyter-widgets/base",
      "model_module_version": "1.2.0",
      "model_name": "LayoutModel",
      "state": {}
     },
     "46083f3aa5a54a308c093c90ab578741": {
      "model_module": "@jupyter-widgets/controls",
      "model_module_version": "1.5.0",
      "model_name": "HBoxModel",
      "state": {
       "children": [
        "IPY_MODEL_14003abb5a694a51a92621e3d67c2ae6",
        "IPY_MODEL_25e768fb59d2499f82e3a1e0d42f2bb5",
        "IPY_MODEL_49bbdd25e40449398d4aeb9d3a36f8c2"
       ],
       "layout": "IPY_MODEL_8a0ff21414a648f6b6925187aec6d152"
      }
     },
     "46ba57c5980b4162b62cadec864e1c1b": {
      "model_module": "@jupyter-widgets/base",
      "model_module_version": "1.2.0",
      "model_name": "LayoutModel",
      "state": {
       "height": "200px",
       "width": "99%"
      }
     },
     "4700f647883243d58aaa0dd9360f7bd5": {
      "model_module": "@jupyter-widgets/controls",
      "model_module_version": "1.5.0",
      "model_name": "DescriptionStyleModel",
      "state": {
       "description_width": ""
      }
     },
     "472b609570e54fb4809f8ca0aa4b052e": {
      "model_module": "@jupyter-widgets/controls",
      "model_module_version": "1.5.0",
      "model_name": "DescriptionStyleModel",
      "state": {
       "description_width": ""
      }
     },
     "47419d9eb1964b018ff9aef94d29fcbf": {
      "model_module": "@jupyter-widgets/base",
      "model_module_version": "1.2.0",
      "model_name": "LayoutModel",
      "state": {
       "border": "solid 2px",
       "padding": "1rem"
      }
     },
     "47625cce4a0e4bf6a2e3b020f1847767": {
      "model_module": "@jupyter-widgets/controls",
      "model_module_version": "1.5.0",
      "model_name": "ButtonModel",
      "state": {
       "button_style": "warning",
       "description": "Check",
       "icon": "check",
       "layout": "IPY_MODEL_786b5bc17b654d619b1177282d79ebb5",
       "style": "IPY_MODEL_7f1f57de6cf9489da15ab589b33634fe"
      }
     },
     "47ab00b56d654f9686eb8e176529840c": {
      "model_module": "@jupyter-widgets/controls",
      "model_module_version": "1.5.0",
      "model_name": "HTMLModel",
      "state": {
       "layout": "IPY_MODEL_3096ecbbcbb34698aad2daafc2bd0d97",
       "style": "IPY_MODEL_c35ca4a02ab54331852eb348d6155b49",
       "value": "(1) The program has a total number of _____ instructions"
      }
     },
     "47cf00bdc28d4fe290fceb4a2c373d92": {
      "model_module": "@jupyter-widgets/base",
      "model_module_version": "1.2.0",
      "model_name": "LayoutModel",
      "state": {}
     },
     "4823cdc64fa54e8799e027ca1865e548": {
      "model_module": "@jupyter-widgets/controls",
      "model_module_version": "1.5.0",
      "model_name": "DescriptionStyleModel",
      "state": {
       "description_width": ""
      }
     },
     "482a71cb69d542d7878d9013d6dad026": {
      "model_module": "@jupyter-widgets/controls",
      "model_module_version": "1.5.0",
      "model_name": "HTMLModel",
      "state": {
       "layout": "IPY_MODEL_dfcfec9dcac8405a8c288fa205fc96f3",
       "style": "IPY_MODEL_2c46b1ec785f4fd2b3f1d8df2f2e7e82",
       "value": "(1) ___문은 조건에 따른 선택을 지원하는 구문이다."
      }
     },
     "4868af3b98184fd780eec34df219691f": {
      "model_module": "@jupyter-widgets/controls",
      "model_module_version": "1.5.0",
      "model_name": "VBoxModel",
      "state": {
       "children": [
        "IPY_MODEL_6f6bd35c777c48c5bcbcc5d0388fba7f",
        "IPY_MODEL_05bdb3d16c9d46f4a8b96901e323ce0c",
        "IPY_MODEL_0759ceb77e164145b8e6616e8b059e92",
        "IPY_MODEL_e1a7a438bab149d59b683e229372c9b3"
       ],
       "layout": "IPY_MODEL_935907e79578457d994f541b1fe40689"
      }
     },
     "48a3e15bdfe34ce9b44200e84aa90848": {
      "model_module": "@jupyter-widgets/base",
      "model_module_version": "1.2.0",
      "model_name": "LayoutModel",
      "state": {}
     },
     "48a4b2f241824f0994ca0ab3ed76e54c": {
      "model_module": "@jupyter-widgets/controls",
      "model_module_version": "1.5.0",
      "model_name": "LabelModel",
      "state": {
       "layout": "IPY_MODEL_45cb810d01594e3cb03a799c411c29ef",
       "style": "IPY_MODEL_4153c70fe3d240e098993ab2ae3006c1",
       "value": "Write your own code:"
      }
     },
     "48eef0e83f3f483a81ebed671538b862": {
      "model_module": "@jupyter-widgets/controls",
      "model_module_version": "1.5.0",
      "model_name": "TextModel",
      "state": {
       "layout": "IPY_MODEL_34a3efeca1fc4eb59a4ab91e596bb64f",
       "style": "IPY_MODEL_af05eaa285a849d3997883d056f4dc0a"
      }
     },
     "48fd136a4f1549fd803b4719248943d0": {
      "model_module": "@jupyter-widgets/controls",
      "model_module_version": "1.5.0",
      "model_name": "DescriptionStyleModel",
      "state": {
       "description_width": ""
      }
     },
     "49388892e0524e9bbf00174d77c3c9ad": {
      "model_module": "@jupyter-widgets/controls",
      "model_module_version": "1.5.0",
      "model_name": "TextareaModel",
      "state": {
       "layout": "IPY_MODEL_b115e78b65b84afabbc640016a3195b7",
       "placeholder": "",
       "style": "IPY_MODEL_9a10a9e4812f41f091c417aee172ccfd",
       "value": "5"
      }
     },
     "4945992e83d949678e646ea30fea4ae8": {
      "model_module": "@jupyter-widgets/base",
      "model_module_version": "1.2.0",
      "model_name": "LayoutModel",
      "state": {}
     },
     "4956e1f84f1c4019b1c07cf549e5c11f": {
      "model_module": "@jupyter-widgets/controls",
      "model_module_version": "1.5.0",
      "model_name": "ButtonStyleModel",
      "state": {}
     },
     "49811839cd6a4c43ba81e004915dc9fe": {
      "model_module": "@jupyter-widgets/base",
      "model_module_version": "1.2.0",
      "model_name": "LayoutModel",
      "state": {
       "width": "90px"
      }
     },
     "49b3088fab484d78b2dac3513b679436": {
      "model_module": "@jupyter-widgets/base",
      "model_module_version": "1.2.0",
      "model_name": "LayoutModel",
      "state": {
       "border": "solid 2px",
       "padding": "1rem"
      }
     },
     "49bbdd25e40449398d4aeb9d3a36f8c2": {
      "model_module": "@jupyter-widgets/controls",
      "model_module_version": "1.5.0",
      "model_name": "CheckboxModel",
      "state": {
       "disabled": true,
       "layout": "IPY_MODEL_26a4dddb38f04104b02d4aac70819b8e",
       "style": "IPY_MODEL_5d983aa8606b474b87900347ca390031",
       "value": false
      }
     },
     "49d829b09f24449fb5f959814d596f8c": {
      "model_module": "@jupyter-widgets/base",
      "model_module_version": "1.2.0",
      "model_name": "LayoutModel",
      "state": {}
     },
     "49dfbdb692c546cb8d0b594f1f826c25": {
      "model_module": "@jupyter-widgets/base",
      "model_module_version": "1.2.0",
      "model_name": "LayoutModel",
      "state": {}
     },
     "4a0477cced3e48f5b6b7fac3ab810156": {
      "model_module": "@jupyter-widgets/controls",
      "model_module_version": "1.5.0",
      "model_name": "VBoxModel",
      "state": {
       "children": [
        "IPY_MODEL_b4b888df29fc4134803211a2ce5987b5",
        "IPY_MODEL_39d11023ec584d0a9bb7bb7574468f22",
        "IPY_MODEL_d205ae948f70416c85abbf04eddbe280",
        "IPY_MODEL_3ed7b598e8604c1f85d13c6a34c352cb",
        "IPY_MODEL_1e06e46f3f8248d09619b740b4b53a3e"
       ],
       "layout": "IPY_MODEL_a897d23a55074ebc898f5b91c287dd36"
      }
     },
     "4a1afaed81e7471489a1db832081236b": {
      "model_module": "@jupyter-widgets/base",
      "model_module_version": "1.2.0",
      "model_name": "LayoutModel",
      "state": {
       "border": "solid 2px",
       "padding": "1rem"
      }
     },
     "4a43c4ff9ae940f1881092633eefc345": {
      "model_module": "@jupyter-widgets/controls",
      "model_module_version": "1.5.0",
      "model_name": "DescriptionStyleModel",
      "state": {
       "description_width": ""
      }
     },
     "4aa45d5acfa54a958fddc3a9662ae61b": {
      "model_module": "@jupyter-widgets/controls",
      "model_module_version": "1.5.0",
      "model_name": "TextareaModel",
      "state": {
       "disabled": true,
       "layout": "IPY_MODEL_2d5a121fcad34efea8435c50419881b2",
       "placeholder": "",
       "style": "IPY_MODEL_c3c6aeb7daa648f5a6123ef7af6364cf"
      }
     },
     "4aed325f2b824554be03aa4c5ac1ad2f": {
      "model_module": "@jupyter-widgets/controls",
      "model_module_version": "1.5.0",
      "model_name": "ButtonModel",
      "state": {
       "layout": "IPY_MODEL_b804e781308c4342a7e5cd09175f2d86",
       "style": "IPY_MODEL_9f8fcf2c52f64f388d3d3cc5fc10f3e5"
      }
     },
     "4b514784cc5640159df1d1d5a3049a96": {
      "model_module": "@jupyter-widgets/controls",
      "model_module_version": "1.5.0",
      "model_name": "ButtonModel",
      "state": {
       "layout": "IPY_MODEL_d302707d6c2043cb939115c8e7e3fa19",
       "style": "IPY_MODEL_fd7811188c0f4a61a245b6689d0f7bb6"
      }
     },
     "4bb6103669694842abbf6244eca66e8d": {
      "model_module": "@jupyter-widgets/controls",
      "model_module_version": "1.5.0",
      "model_name": "DescriptionStyleModel",
      "state": {
       "description_width": ""
      }
     },
     "4bd5d974ac9a4fcf8b7e061bb9415304": {
      "model_module": "@jupyter-widgets/controls",
      "model_module_version": "1.5.0",
      "model_name": "DescriptionStyleModel",
      "state": {
       "description_width": ""
      }
     },
     "4bd751e473da4494976826a0a5ba9c6a": {
      "model_module": "@jupyter-widgets/base",
      "model_module_version": "1.2.0",
      "model_name": "LayoutModel",
      "state": {}
     },
     "4be6618025de4444b2e7c90569f28c4a": {
      "model_module": "@jupyter-widgets/base",
      "model_module_version": "1.2.0",
      "model_name": "LayoutModel",
      "state": {}
     },
     "4c02a0bdf3ab4e948dbd6d390aeaafab": {
      "model_module": "@jupyter-widgets/controls",
      "model_module_version": "1.5.0",
      "model_name": "HTMLModel",
      "state": {
       "layout": "IPY_MODEL_452b8b0be4bb4db599524501d8df41d8",
       "style": "IPY_MODEL_f4fff20182a04861a405b2edbc4ccfe0"
      }
     },
     "4c30fe2dbdef4fb9b073aef8fd6701b5": {
      "model_module": "@jupyter-widgets/controls",
      "model_module_version": "1.5.0",
      "model_name": "DescriptionStyleModel",
      "state": {
       "description_width": ""
      }
     },
     "4c3346a983ed4922a5df0931d3e4ef2e": {
      "model_module": "@jupyter-widgets/controls",
      "model_module_version": "1.5.0",
      "model_name": "TextareaModel",
      "state": {
       "layout": "IPY_MODEL_1b8ec9a901e74af0b52c93d7fe1cd494",
       "placeholder": "",
       "style": "IPY_MODEL_f41250172e254b0ba1e428c349020ea0",
       "value": "#include <stdio.h>\n\n#define MAX 10\n\nint main(void) {\n    int i = 1, sum = 0;\n    \n    while(i<MAX)\n        sum += i++;\n    \n    printf(\"Sum from 1 to 10 is %d\\n\", sum);\n\n    return 0;\n}"
      }
     },
     "4c925a66fda24f12be2b3324370862dd": {
      "model_module": "@jupyter-widgets/controls",
      "model_module_version": "1.5.0",
      "model_name": "DescriptionStyleModel",
      "state": {
       "description_width": ""
      }
     },
     "4cd8498621944a629896b1521eea30df": {
      "model_module": "@jupyter-widgets/controls",
      "model_module_version": "1.5.0",
      "model_name": "VBoxModel",
      "state": {
       "children": [
        "IPY_MODEL_d2f1fb45aaa14150a9d59296e4e062b9",
        "IPY_MODEL_908f23e890d34c088e741e469a3ee56d",
        "IPY_MODEL_9993601726ff413892799176f294d7fa",
        "IPY_MODEL_99690236f0004d09bb718db986956f60"
       ],
       "layout": "IPY_MODEL_3ae8c8d92ff248069eb9853d93a00a41"
      }
     },
     "4cf529a091464312adefe97eee96a51d": {
      "model_module": "@jupyter-widgets/base",
      "model_module_version": "1.2.0",
      "model_name": "LayoutModel",
      "state": {}
     },
     "4d1b730d94914abdada3e776662c8321": {
      "model_module": "@jupyter-widgets/base",
      "model_module_version": "1.2.0",
      "model_name": "LayoutModel",
      "state": {
       "width": "100%"
      }
     },
     "4d38eca712be4cff8bea2cbc938675ad": {
      "model_module": "@jupyter-widgets/base",
      "model_module_version": "1.2.0",
      "model_name": "LayoutModel",
      "state": {}
     },
     "4d89c158ba8c4ba89c6f939183d97fc2": {
      "model_module": "@jupyter-widgets/base",
      "model_module_version": "1.2.0",
      "model_name": "LayoutModel",
      "state": {}
     },
     "4e02044b6f6c4dd79efeeaffd3a18021": {
      "model_module": "@jupyter-widgets/base",
      "model_module_version": "1.2.0",
      "model_name": "LayoutModel",
      "state": {}
     },
     "4e0504d457a148eaa027a2339d0bf5ff": {
      "model_module": "@jupyter-widgets/controls",
      "model_module_version": "1.5.0",
      "model_name": "HTMLModel",
      "state": {
       "layout": "IPY_MODEL_c3a94d9916e644b89b5ccbb8acd3b5a0",
       "style": "IPY_MODEL_8f0ad4697fec42589914c6cf2cabda24",
       "value": "(2) Suppose a new instruction was inserted as follows:  <br><br>z = x + y<br>Add 1 more to z (new instruction)<br>Put z to output<br><br>What would the last instruction then output to the screen?<br>"
      }
     },
     "4e35e8fbc589414bb3d1a405bfedc1ac": {
      "model_module": "@jupyter-widgets/controls",
      "model_module_version": "1.5.0",
      "model_name": "DescriptionStyleModel",
      "state": {
       "description_width": ""
      }
     },
     "4e3cbdbb2c03461cac44489635b71c5c": {
      "model_module": "@jupyter-widgets/controls",
      "model_module_version": "1.5.0",
      "model_name": "DescriptionStyleModel",
      "state": {
       "description_width": ""
      }
     },
     "4e6c371614aa4e0e8c7b79cc00be90cf": {
      "model_module": "@jupyter-widgets/controls",
      "model_module_version": "1.5.0",
      "model_name": "DescriptionStyleModel",
      "state": {
       "description_width": ""
      }
     },
     "4e9000633c9340f98b50eb6d5c8e4e0c": {
      "model_module": "@jupyter-widgets/controls",
      "model_module_version": "1.5.0",
      "model_name": "DescriptionStyleModel",
      "state": {
       "description_width": ""
      }
     },
     "4e938705e7d74384a2b99bc9df8c910a": {
      "model_module": "@jupyter-widgets/controls",
      "model_module_version": "1.5.0",
      "model_name": "DescriptionStyleModel",
      "state": {
       "description_width": ""
      }
     },
     "4ef37c2bc842446b93cb321de317f8e7": {
      "model_module": "@jupyter-widgets/base",
      "model_module_version": "1.2.0",
      "model_name": "LayoutModel",
      "state": {}
     },
     "4f2f0eab59fd455f8ccebf933a326164": {
      "model_module": "@jupyter-widgets/controls",
      "model_module_version": "1.5.0",
      "model_name": "ButtonStyleModel",
      "state": {}
     },
     "4f6bf0d16ff14c2bb5a3710684e225cb": {
      "model_module": "@jupyter-widgets/controls",
      "model_module_version": "1.5.0",
      "model_name": "ButtonModel",
      "state": {
       "layout": "IPY_MODEL_06c98121ec214b67b8bafeda17f14f3e",
       "style": "IPY_MODEL_640ccaaa628f4d699d6874741d2d6136"
      }
     },
     "4f7d55a9f8d34530a6b2040bcb6754ef": {
      "model_module": "@jupyter-widgets/controls",
      "model_module_version": "1.5.0",
      "model_name": "CheckboxModel",
      "state": {
       "disabled": true,
       "layout": "IPY_MODEL_15ff33c0bb0646ddb0e8672a99a0a310",
       "style": "IPY_MODEL_6fb1a463b1a4429892afc74453a530b8",
       "value": false
      }
     },
     "4faa27b3f88342e18841e6735c134449": {
      "model_module": "@jupyter-widgets/base",
      "model_module_version": "1.2.0",
      "model_name": "LayoutModel",
      "state": {
       "width": "90px"
      }
     },
     "500a9bd0b19b498b83154c4ee9ecddd1": {
      "model_module": "@jupyter-widgets/base",
      "model_module_version": "1.2.0",
      "model_name": "LayoutModel",
      "state": {}
     },
     "503eaae2d3ae4d40af27dfe7eae7183a": {
      "model_module": "@jupyter-widgets/controls",
      "model_module_version": "1.5.0",
      "model_name": "HTMLModel",
      "state": {
       "layout": "IPY_MODEL_f16a40a5783440528e0d0cbb318e19d4",
       "style": "IPY_MODEL_6ef0486f554d434f822a70417b85dfeb",
       "value": "반복 내부에서 반복을 종료하려면 ____ 문장을 사용한다."
      }
     },
     "5058213c59cd4727bbb03f574223e984": {
      "model_module": "@jupyter-widgets/controls",
      "model_module_version": "1.5.0",
      "model_name": "HTMLModel",
      "state": {
       "layout": "IPY_MODEL_ae64f07d1c93467a9c574f22c8f1bf74",
       "style": "IPY_MODEL_e82f26611f1949b2b2c97f177d4e8c40"
      }
     },
     "505ae7ef20964e1ba5f644d967dbbd24": {
      "model_module": "@jupyter-widgets/base",
      "model_module_version": "1.2.0",
      "model_name": "LayoutModel",
      "state": {}
     },
     "505d7f79321e47ea9049188823f3b83b": {
      "model_module": "@jupyter-widgets/controls",
      "model_module_version": "1.5.0",
      "model_name": "DescriptionStyleModel",
      "state": {
       "description_width": ""
      }
     },
     "5060bfd5e2f24300b8b1d010bd186b52": {
      "model_module": "@jupyter-widgets/base",
      "model_module_version": "1.2.0",
      "model_name": "LayoutModel",
      "state": {}
     },
     "5105464bb159422a839b4ed919c7ffc3": {
      "model_module": "@jupyter-widgets/base",
      "model_module_version": "1.2.0",
      "model_name": "LayoutModel",
      "state": {}
     },
     "5131d011cffa44eabbc9b38fcc70c15c": {
      "model_module": "@jupyter-widgets/base",
      "model_module_version": "1.2.0",
      "model_name": "LayoutModel",
      "state": {}
     },
     "513b87215c1c4c018550043e47a0284a": {
      "model_module": "@jupyter-widgets/controls",
      "model_module_version": "1.5.0",
      "model_name": "LabelModel",
      "state": {
       "layout": "IPY_MODEL_c00bf61b74984668ad302aa3e2e6c743",
       "style": "IPY_MODEL_c9c5f24bcd1b40348c9585b770637359",
       "value": "Write your own code:"
      }
     },
     "51418e26c6074707b05d8d94b46b07d4": {
      "model_module": "@jupyter-widgets/controls",
      "model_module_version": "1.5.0",
      "model_name": "DescriptionStyleModel",
      "state": {
       "description_width": ""
      }
     },
     "5144e14de37c43b39da9eda2fd374cfc": {
      "model_module": "@jupyter-widgets/controls",
      "model_module_version": "1.5.0",
      "model_name": "LabelModel",
      "state": {
       "layout": "IPY_MODEL_78687138fcb742e1a0e516640c8a34f3",
       "style": "IPY_MODEL_75bb6e3539ae4cab8fa7daeab458d96d",
       "value": "Input:"
      }
     },
     "51849a42d51a45208487c78bb6fa7a2e": {
      "model_module": "@jupyter-widgets/controls",
      "model_module_version": "1.5.0",
      "model_name": "DescriptionStyleModel",
      "state": {
       "description_width": ""
      }
     },
     "51864971a91e4aa885a523086e437d17": {
      "model_module": "@jupyter-widgets/base",
      "model_module_version": "1.2.0",
      "model_name": "LayoutModel",
      "state": {}
     },
     "51f6faac0dbb48cf8e49d5fb16c57ea8": {
      "model_module": "@jupyter-widgets/controls",
      "model_module_version": "1.5.0",
      "model_name": "ButtonModel",
      "state": {
       "button_style": "warning",
       "description": "Check",
       "icon": "check",
       "layout": "IPY_MODEL_436066b56c634c97a74631b2535d39dd",
       "style": "IPY_MODEL_18583c80e7384475b57978388aae7d4c"
      }
     },
     "520d842fdf9745348514855935ff8e8c": {
      "model_module": "@jupyter-widgets/base",
      "model_module_version": "1.2.0",
      "model_name": "LayoutModel",
      "state": {}
     },
     "52449dd0a707442d9dc9f4a94601abe4": {
      "model_module": "@jupyter-widgets/base",
      "model_module_version": "1.2.0",
      "model_name": "LayoutModel",
      "state": {}
     },
     "5257e53aefda440e9d9d761f5692e0f3": {
      "model_module": "@jupyter-widgets/controls",
      "model_module_version": "1.5.0",
      "model_name": "ButtonModel",
      "state": {
       "button_style": "warning",
       "description": "Check",
       "icon": "check",
       "layout": "IPY_MODEL_49811839cd6a4c43ba81e004915dc9fe",
       "style": "IPY_MODEL_01a513dcfc5a4e8eb859df0d9aae1d02"
      }
     },
     "526c3bb3cc9c4adf9c443cc7c0ee7056": {
      "model_module": "@jupyter-widgets/controls",
      "model_module_version": "1.5.0",
      "model_name": "TextareaModel",
      "state": {
       "layout": "IPY_MODEL_e9c754b426e3406b8b4da4532f1a5fe4",
       "placeholder": "",
       "style": "IPY_MODEL_e162bae529c84583bed85c59da4be24c"
      }
     },
     "52ac86f4541b465583d4d739d25b1e8b": {
      "model_module": "@jupyter-widgets/base",
      "model_module_version": "1.2.0",
      "model_name": "LayoutModel",
      "state": {}
     },
     "52cfadea13484227a0f9d67a0833c13f": {
      "model_module": "@jupyter-widgets/controls",
      "model_module_version": "1.5.0",
      "model_name": "RadioButtonsModel",
      "state": {
       "_options_labels": [
        "Multiply x by 2",
        "Add 2 to x",
        "Multiply x by 1/2"
       ],
       "index": 0,
       "layout": "IPY_MODEL_aae927f4eb6248d4a60bb1630b2fe4d9",
       "style": "IPY_MODEL_190c18a7fab8426e9a663b1a33ec5ed7"
      }
     },
     "52f6bf7fbd9c4c4e9cc968bc219d3137": {
      "model_module": "@jupyter-widgets/controls",
      "model_module_version": "1.5.0",
      "model_name": "VBoxModel",
      "state": {
       "children": [
        "IPY_MODEL_0d302f43b639480690e6b1d5eb94d3c6",
        "IPY_MODEL_00ae0511bcf645ce80b64669ace49897",
        "IPY_MODEL_e0b62b65b5b14ca29b4569061a02c684",
        "IPY_MODEL_c02e9ec6d00f4cdaa1335762be727c03"
       ],
       "layout": "IPY_MODEL_3330372ecdb44ed78db3100df9cbb333"
      }
     },
     "52f990b707ba46dea65982d4d3179d92": {
      "model_module": "@jupyter-widgets/controls",
      "model_module_version": "1.5.0",
      "model_name": "TextareaModel",
      "state": {
       "layout": "IPY_MODEL_25596d4bf7ce48219e1cd5c8f20ec55c",
       "style": "IPY_MODEL_5d075de53cca48fda3f38eca8f1f2475"
      }
     },
     "5336bd40a8c04919b267be10a089a8d2": {
      "model_module": "@jupyter-widgets/controls",
      "model_module_version": "1.5.0",
      "model_name": "ButtonModel",
      "state": {
       "layout": "IPY_MODEL_dfcea908115b464e8d63905bc3a9b159",
       "style": "IPY_MODEL_fc72b7dcbbad448cbcfbf60a3b3891cd"
      }
     },
     "534c10ff574e49c6bc024f2d33454613": {
      "model_module": "@jupyter-widgets/controls",
      "model_module_version": "1.5.0",
      "model_name": "TextModel",
      "state": {
       "layout": "IPY_MODEL_cdc552bd304046998d4e6c7e29d83210",
       "style": "IPY_MODEL_2aa769b43e15460b9ac170b7c43e1ffa"
      }
     },
     "53b06de8d8414157b624f21f38bd6f7d": {
      "model_module": "@jupyter-widgets/controls",
      "model_module_version": "1.5.0",
      "model_name": "HTMLModel",
      "state": {
       "layout": "IPY_MODEL_21cc9481e2994e17a10663c550f8977e",
       "style": "IPY_MODEL_6acad0cb982940eba40002adaae94cde",
       "value": "<font color='green'> z = x + y assigned z with 2 + 5, or 7. Then, adding 1 more to z makes z become 8. Programs often have numerous such processing instructions."
      }
     },
     "53bf0fc47bea48c7bbfff734a1edd4e8": {
      "model_module": "@jupyter-widgets/base",
      "model_module_version": "1.2.0",
      "model_name": "LayoutModel",
      "state": {}
     },
     "53f0c5de3d7c45baa0c9dd818fa7b89a": {
      "model_module": "@jupyter-widgets/base",
      "model_module_version": "1.2.0",
      "model_name": "LayoutModel",
      "state": {}
     },
     "53fb1942657d497a907b433892625ab6": {
      "model_module": "@jupyter-widgets/base",
      "model_module_version": "1.2.0",
      "model_name": "LayoutModel",
      "state": {}
     },
     "542e00f9f93a4d34a8e7b584c83bc7b4": {
      "model_module": "@jupyter-widgets/controls",
      "model_module_version": "1.5.0",
      "model_name": "DescriptionStyleModel",
      "state": {
       "description_width": ""
      }
     },
     "545a88d6718c44719e139c27786c93a2": {
      "model_module": "@jupyter-widgets/base",
      "model_module_version": "1.2.0",
      "model_name": "LayoutModel",
      "state": {}
     },
     "54a38f5dfdc94c4f99a9c8f1780344af": {
      "model_module": "@jupyter-widgets/base",
      "model_module_version": "1.2.0",
      "model_name": "LayoutModel",
      "state": {
       "border": "ridge 2px",
       "padding": "1rem"
      }
     },
     "54d5fc98ceea425ba43c063b6a1f3d3a": {
      "model_module": "@jupyter-widgets/controls",
      "model_module_version": "1.5.0",
      "model_name": "TextModel",
      "state": {
       "layout": "IPY_MODEL_f2b5ca55f9744b578388a3431e779bc0",
       "style": "IPY_MODEL_1c3270cf2fe84b77a054e04ce99ec75b",
       "value": "조건"
      }
     },
     "550231f0bdbe48b997ab6ef587369e63": {
      "model_module": "@jupyter-widgets/controls",
      "model_module_version": "1.5.0",
      "model_name": "TextareaModel",
      "state": {
       "disabled": true,
       "layout": "IPY_MODEL_58ef24a4c95c411fa127cd48c7e3ee00",
       "placeholder": "",
       "style": "IPY_MODEL_4a43c4ff9ae940f1881092633eefc345"
      }
     },
     "555bb26661e8455ebe62535233e3a74b": {
      "model_module": "@jupyter-widgets/controls",
      "model_module_version": "1.5.0",
      "model_name": "TextareaModel",
      "state": {
       "layout": "IPY_MODEL_b649109f4aa043e28f78f02e0de84f00",
       "style": "IPY_MODEL_c3b14549ec2146c295f7be98b5d6da40"
      }
     },
     "555be80f29a74a399a95999dc64b10e4": {
      "model_module": "@jupyter-widgets/controls",
      "model_module_version": "1.5.0",
      "model_name": "DescriptionStyleModel",
      "state": {
       "description_width": ""
      }
     },
     "558338c05a3f4b8294ab578cd9654618": {
      "model_module": "@jupyter-widgets/controls",
      "model_module_version": "1.5.0",
      "model_name": "HTMLModel",
      "state": {
       "layout": "IPY_MODEL_031b848b94db4d9783cb6698891fc2c8",
       "style": "IPY_MODEL_c969a75655c5419eb1086ee652850b73"
      }
     },
     "558c5c9b8cb64b889c717a96b3dd1e91": {
      "model_module": "@jupyter-widgets/controls",
      "model_module_version": "1.5.0",
      "model_name": "TextareaModel",
      "state": {
       "layout": "IPY_MODEL_3f4fe98ab9c846b39b2a96e1fe528e4d",
       "style": "IPY_MODEL_6d281c0bd25d4b228e0729988d027e8b"
      }
     },
     "55b7fae717ce49228dfd32ea4ddd04bd": {
      "model_module": "@jupyter-widgets/controls",
      "model_module_version": "1.5.0",
      "model_name": "ButtonModel",
      "state": {
       "button_style": "warning",
       "description": "Run Code",
       "icon": "check",
       "layout": "IPY_MODEL_d3e946ff87c947e0bedfda6804c80cae",
       "style": "IPY_MODEL_efeb9334a01e4408b1b02f4b484e0d4a"
      }
     },
     "55fe5970ec9243288320a68642b9f257": {
      "model_module": "@jupyter-widgets/controls",
      "model_module_version": "1.5.0",
      "model_name": "DescriptionStyleModel",
      "state": {
       "description_width": ""
      }
     },
     "5637b7039d064d7bbd05431b44ce5a69": {
      "model_module": "@jupyter-widgets/controls",
      "model_module_version": "1.5.0",
      "model_name": "DescriptionStyleModel",
      "state": {
       "description_width": ""
      }
     },
     "56b51f30bdd64472a62d76ebf30fb5e2": {
      "model_module": "@jupyter-widgets/controls",
      "model_module_version": "1.5.0",
      "model_name": "DescriptionStyleModel",
      "state": {
       "description_width": ""
      }
     },
     "572414d032964438a0c6cab423562047": {
      "model_module": "@jupyter-widgets/controls",
      "model_module_version": "1.5.0",
      "model_name": "VBoxModel",
      "state": {
       "layout": "IPY_MODEL_e35cae3703054dfeb3d866b6d68b9301"
      }
     },
     "57403260d60c4e3f9bd1d0cddc9e0ca2": {
      "model_module": "@jupyter-widgets/controls",
      "model_module_version": "1.5.0",
      "model_name": "TextareaModel",
      "state": {
       "layout": "IPY_MODEL_2d633aa51f2d4c74ab42f0e407fb3127",
       "style": "IPY_MODEL_cb72e4d65dbe4be98b35de402039ef36"
      }
     },
     "57547c3575f8494592d0a8c136d167b1": {
      "model_module": "@jupyter-widgets/controls",
      "model_module_version": "1.5.0",
      "model_name": "ButtonModel",
      "state": {
       "layout": "IPY_MODEL_b02dba10b2a94fd28c62c646658303d1",
       "style": "IPY_MODEL_73d5f26b6c4a4a0ebd973a78d9f3a9df"
      }
     },
     "57891fd115e143b080337b8d5f4c20df": {
      "model_module": "@jupyter-widgets/base",
      "model_module_version": "1.2.0",
      "model_name": "LayoutModel",
      "state": {}
     },
     "57cc40ecb0ff4638a521c2b6a5f7d978": {
      "model_module": "@jupyter-widgets/base",
      "model_module_version": "1.2.0",
      "model_name": "LayoutModel",
      "state": {}
     },
     "57d1c813bc924d0681b678be6a65e341": {
      "model_module": "@jupyter-widgets/controls",
      "model_module_version": "1.5.0",
      "model_name": "DescriptionStyleModel",
      "state": {
       "description_width": ""
      }
     },
     "583720b4f35c4bbc95b5e5f29a87609c": {
      "model_module": "@jupyter-widgets/controls",
      "model_module_version": "1.5.0",
      "model_name": "TextareaModel",
      "state": {
       "disabled": true,
       "layout": "IPY_MODEL_3393b0c02e264da898d9b1d53975e4ea",
       "placeholder": "",
       "style": "IPY_MODEL_f83850c733984ebcb9bb28b774dd8566"
      }
     },
     "58c6ccdfe4a94601860ca777bede5c0d": {
      "model_module": "@jupyter-widgets/controls",
      "model_module_version": "1.5.0",
      "model_name": "HBoxModel",
      "state": {
       "children": [
        "IPY_MODEL_92931b00edf7434e8c2490b303d6d326",
        "IPY_MODEL_6f4c1f0f55614ee7bc2910476f00eba3",
        "IPY_MODEL_393f79b66da44b9d8e5f6fbeb25aaa8a"
       ],
       "layout": "IPY_MODEL_94de766f18b340288a9f49a3452592bb"
      }
     },
     "58e588a3a0d440d2b6704b184f908130": {
      "model_module": "@jupyter-widgets/controls",
      "model_module_version": "1.5.0",
      "model_name": "DescriptionStyleModel",
      "state": {
       "description_width": ""
      }
     },
     "58ef24a4c95c411fa127cd48c7e3ee00": {
      "model_module": "@jupyter-widgets/base",
      "model_module_version": "1.2.0",
      "model_name": "LayoutModel",
      "state": {
       "height": "100px",
       "width": "250px"
      }
     },
     "58fd4bb190654d9f9b0492a5afc79f6d": {
      "model_module": "@jupyter-widgets/controls",
      "model_module_version": "1.5.0",
      "model_name": "ButtonStyleModel",
      "state": {}
     },
     "58fe1937affe4c99aeb1a4860622d573": {
      "model_module": "@jupyter-widgets/controls",
      "model_module_version": "1.5.0",
      "model_name": "DescriptionStyleModel",
      "state": {
       "description_width": ""
      }
     },
     "59271aaf37e8462db8dcc271d5372aaa": {
      "model_module": "@jupyter-widgets/controls",
      "model_module_version": "1.5.0",
      "model_name": "DescriptionStyleModel",
      "state": {
       "description_width": ""
      }
     },
     "59686b03867943319a4a05e0073e11a5": {
      "model_module": "@jupyter-widgets/controls",
      "model_module_version": "1.5.0",
      "model_name": "RadioButtonsModel",
      "state": {
       "_options_labels": [
        "if",
        "if else",
        "switch",
        "break"
       ],
       "index": 0,
       "layout": "IPY_MODEL_0ee6d3ee27554dd1b0908b0029f0bbc2",
       "style": "IPY_MODEL_854463e9b42b4285aa4650a49ebbf78a"
      }
     },
     "59a80ebf16b44bd1bf3ea36272120b5c": {
      "model_module": "@jupyter-widgets/controls",
      "model_module_version": "1.5.0",
      "model_name": "ButtonStyleModel",
      "state": {}
     },
     "59c77d6462c241bbbaf3720e96a121f0": {
      "model_module": "@jupyter-widgets/controls",
      "model_module_version": "1.5.0",
      "model_name": "ButtonStyleModel",
      "state": {}
     },
     "5a147571ee5c4109b40f74aac636edd6": {
      "model_module": "@jupyter-widgets/controls",
      "model_module_version": "1.5.0",
      "model_name": "ButtonStyleModel",
      "state": {}
     },
     "5a174f8cfce24ea19381383619e47dea": {
      "model_module": "@jupyter-widgets/controls",
      "model_module_version": "1.5.0",
      "model_name": "ButtonStyleModel",
      "state": {}
     },
     "5a19f25f2ce04498b873d589a642b4c9": {
      "model_module": "@jupyter-widgets/controls",
      "model_module_version": "1.5.0",
      "model_name": "VBoxModel",
      "state": {
       "children": [
        "IPY_MODEL_2d12efd4c4bb4730bb6134204fee274a",
        "IPY_MODEL_459bf53ed269409dac6d396e7ddad32e"
       ],
       "layout": "IPY_MODEL_8149624aa5dc4958a16aba9d32d4978e"
      }
     },
     "5a3d9fbeb9b14344b3a73b98e5aac9eb": {
      "model_module": "@jupyter-widgets/base",
      "model_module_version": "1.2.0",
      "model_name": "LayoutModel",
      "state": {}
     },
     "5a77a698adc84d0eb2577a137b02e7b0": {
      "model_module": "@jupyter-widgets/base",
      "model_module_version": "1.2.0",
      "model_name": "LayoutModel",
      "state": {}
     },
     "5a96b3f6e2fc4d1390badb1b28f083e2": {
      "model_module": "@jupyter-widgets/controls",
      "model_module_version": "1.5.0",
      "model_name": "ButtonStyleModel",
      "state": {}
     },
     "5ab37e14270d4b10864e94c2d18cd342": {
      "model_module": "@jupyter-widgets/controls",
      "model_module_version": "1.5.0",
      "model_name": "TextareaModel",
      "state": {
       "layout": "IPY_MODEL_17aa68b3758f4e6ba61745e2aab52647",
       "style": "IPY_MODEL_f0f7ee7c12a14721bfc42b976157893d"
      }
     },
     "5ad610f4b5c64ce39da00fa5bcaac5be": {
      "model_module": "@jupyter-widgets/controls",
      "model_module_version": "1.5.0",
      "model_name": "VBoxModel",
      "state": {
       "children": [
        "IPY_MODEL_3f62a0d792824534bcde263ac53399ed",
        "IPY_MODEL_ed72750fe7ec41efb04f939f11181b4f"
       ],
       "layout": "IPY_MODEL_aca88839378f42798fb2a522cc4e61b5"
      }
     },
     "5b8caef26e1044bfa112cd5bb13a4000": {
      "model_module": "@jupyter-widgets/controls",
      "model_module_version": "1.5.0",
      "model_name": "TextareaModel",
      "state": {
       "layout": "IPY_MODEL_0f6472d2952243fa8952be1058dc8db4",
       "style": "IPY_MODEL_949b2c7f46494012a517a7e4415077c2"
      }
     },
     "5b92a7553ec64334ae3a9665fc011836": {
      "model_module": "@jupyter-widgets/controls",
      "model_module_version": "1.5.0",
      "model_name": "TextModel",
      "state": {
       "layout": "IPY_MODEL_697311b06b2b4ed898f4adf5b331db7e",
       "style": "IPY_MODEL_9bed7be4015440759c58811db8fe7a03"
      }
     },
     "5bc16fa44fcc454186c98c7fd15290eb": {
      "model_module": "@jupyter-widgets/controls",
      "model_module_version": "1.5.0",
      "model_name": "DescriptionStyleModel",
      "state": {
       "description_width": ""
      }
     },
     "5bd70f6de0374a9d8c03dedd9e061162": {
      "model_module": "@jupyter-widgets/controls",
      "model_module_version": "1.5.0",
      "model_name": "HTMLModel",
      "state": {
       "layout": "IPY_MODEL_cec70096015245ff85c0e320043b960d",
       "style": "IPY_MODEL_723566f23b004e19854c023b0abe78dc"
      }
     },
     "5c0550d1bdda4b2fbb5cb1c32adc1ee6": {
      "model_module": "@jupyter-widgets/controls",
      "model_module_version": "1.5.0",
      "model_name": "HTMLModel",
      "state": {
       "layout": "IPY_MODEL_70e50e69646346d8ac827509145eb954",
       "style": "IPY_MODEL_7110090124cb40c8a85c9958fdcb32a9"
      }
     },
     "5c08291184e4455ebbd1d45461f797b5": {
      "model_module": "@jupyter-widgets/controls",
      "model_module_version": "1.5.0",
      "model_name": "DescriptionStyleModel",
      "state": {
       "description_width": ""
      }
     },
     "5c83144c88b34d5fa05e2a4260ae659e": {
      "model_module": "@jupyter-widgets/controls",
      "model_module_version": "1.5.0",
      "model_name": "TextareaModel",
      "state": {
       "layout": "IPY_MODEL_e2a5b99c689d4b7898b7ccfa79f6dc7e",
       "style": "IPY_MODEL_725513fde6f14e9e9e37b141a4fe67aa"
      }
     },
     "5cfa44e2c66045b1bb3a3fda12be913c": {
      "model_module": "@jupyter-widgets/controls",
      "model_module_version": "1.5.0",
      "model_name": "DescriptionStyleModel",
      "state": {
       "description_width": ""
      }
     },
     "5d075de53cca48fda3f38eca8f1f2475": {
      "model_module": "@jupyter-widgets/controls",
      "model_module_version": "1.5.0",
      "model_name": "DescriptionStyleModel",
      "state": {
       "description_width": ""
      }
     },
     "5d601cc919a04e1f88dced9885f97bbd": {
      "model_module": "@jupyter-widgets/controls",
      "model_module_version": "1.5.0",
      "model_name": "ButtonModel",
      "state": {
       "button_style": "warning",
       "description": "Run Code",
       "icon": "check",
       "layout": "IPY_MODEL_b449c01e3a814c078b87bcd065657d50",
       "style": "IPY_MODEL_684aa39874854453a477c6ff1d2b8c9b"
      }
     },
     "5d74b1b79cac4c39a15c54be4579a48e": {
      "model_module": "@jupyter-widgets/controls",
      "model_module_version": "1.5.0",
      "model_name": "HBoxModel",
      "state": {
       "children": [
        "IPY_MODEL_dff22430bcfd434688ebf032f24adafa",
        "IPY_MODEL_e6dbce7c0510423381d68ee45b3d9d52",
        "IPY_MODEL_aa94aa75929a4c5c8af2967db03e6b4d"
       ],
       "layout": "IPY_MODEL_d47a06868a164d68b32e05ffcb087d44"
      }
     },
     "5d983aa8606b474b87900347ca390031": {
      "model_module": "@jupyter-widgets/controls",
      "model_module_version": "1.5.0",
      "model_name": "DescriptionStyleModel",
      "state": {
       "description_width": ""
      }
     },
     "5db5b349f4b742aab36d05466d64ac68": {
      "model_module": "@jupyter-widgets/controls",
      "model_module_version": "1.5.0",
      "model_name": "DescriptionStyleModel",
      "state": {
       "description_width": ""
      }
     },
     "5df89e9e21ea47e99f33ddf6cc0f9fae": {
      "model_module": "@jupyter-widgets/controls",
      "model_module_version": "1.5.0",
      "model_name": "DescriptionStyleModel",
      "state": {
       "description_width": ""
      }
     },
     "5e091b60a10b4c179d01b491ecf29f42": {
      "model_module": "@jupyter-widgets/base",
      "model_module_version": "1.2.0",
      "model_name": "LayoutModel",
      "state": {}
     },
     "5ecb0026b8414cf58aa21da7a440bb30": {
      "model_module": "@jupyter-widgets/controls",
      "model_module_version": "1.5.0",
      "model_name": "LabelModel",
      "state": {
       "layout": "IPY_MODEL_b6814e85a2f4444c85ba5eaced6e612a",
       "style": "IPY_MODEL_3b87b273bb9440b2b5ed097fb91e69d0",
       "value": "Input:"
      }
     },
     "5eef3533c0bb45aaae43f711a3579d3a": {
      "model_module": "@jupyter-widgets/base",
      "model_module_version": "1.2.0",
      "model_name": "LayoutModel",
      "state": {}
     },
     "5f20933ea4784bf582ec632cfa1a7afd": {
      "model_module": "@jupyter-widgets/controls",
      "model_module_version": "1.5.0",
      "model_name": "DescriptionStyleModel",
      "state": {
       "description_width": ""
      }
     },
     "5f267c24acaa49059474f19abe8f2b5e": {
      "model_module": "@jupyter-widgets/controls",
      "model_module_version": "1.5.0",
      "model_name": "DescriptionStyleModel",
      "state": {
       "description_width": ""
      }
     },
     "5f973533dbd840b18c65cf5f42a5a1d9": {
      "model_module": "@jupyter-widgets/base",
      "model_module_version": "1.2.0",
      "model_name": "LayoutModel",
      "state": {}
     },
     "5fb0f4ac80cc4304b2a61d2414d5159f": {
      "model_module": "@jupyter-widgets/controls",
      "model_module_version": "1.5.0",
      "model_name": "VBoxModel",
      "state": {
       "children": [
        "IPY_MODEL_47ab00b56d654f9686eb8e176529840c",
        "IPY_MODEL_eab30a02fd5640dcb65b6fa53f72c448",
        "IPY_MODEL_cfc0d7b6b3894b0db1742cf480bae8bc",
        "IPY_MODEL_88e476f6562a471f837ebd347217a3f9"
       ],
       "layout": "IPY_MODEL_910d7c3972e14009a539d73666227dbb"
      }
     },
     "5fe55eac767b4ab5bf5004a32c33d62c": {
      "model_module": "@jupyter-widgets/base",
      "model_module_version": "1.2.0",
      "model_name": "LayoutModel",
      "state": {
       "width": "90px"
      }
     },
     "600e5c05322c457db0029db602f7a7bf": {
      "model_module": "@jupyter-widgets/controls",
      "model_module_version": "1.5.0",
      "model_name": "TextareaModel",
      "state": {
       "layout": "IPY_MODEL_80012a8bdfda438bb2e93a6d9402f2ee",
       "placeholder": "",
       "style": "IPY_MODEL_51849a42d51a45208487c78bb6fa7a2e",
       "value": "#include <stdio.h>\n\nint main(void) {\n printf(\"Hello world!\\n\");\n return 0;\n}"
      }
     },
     "609b85ff733a4bae825617964c7ead1f": {
      "model_module": "@jupyter-widgets/controls",
      "model_module_version": "1.5.0",
      "model_name": "DescriptionStyleModel",
      "state": {
       "description_width": ""
      }
     },
     "6125eee3f7394271b66e3cb96a39ca41": {
      "model_module": "@jupyter-widgets/base",
      "model_module_version": "1.2.0",
      "model_name": "LayoutModel",
      "state": {}
     },
     "6135773b6c654211bfef8db126a1c6c6": {
      "model_module": "@jupyter-widgets/base",
      "model_module_version": "1.2.0",
      "model_name": "LayoutModel",
      "state": {}
     },
     "6144b51f1bb144bdb702b0e4b2c523d7": {
      "model_module": "@jupyter-widgets/controls",
      "model_module_version": "1.5.0",
      "model_name": "ToggleButtonModel",
      "state": {
       "description": "Show code",
       "layout": "IPY_MODEL_f4a7c9451920457a8894bf9a704b7b32",
       "style": "IPY_MODEL_b668a0c078d5423393fd52532881370b"
      }
     },
     "6148aa5fd7184a02ac2081b9f0ee7ab8": {
      "model_module": "@jupyter-widgets/controls",
      "model_module_version": "1.5.0",
      "model_name": "TextareaModel",
      "state": {
       "layout": "IPY_MODEL_73add5596dc44f19a44b3c60e4ada707",
       "style": "IPY_MODEL_27b626e923ad41c8a0368c001743177b"
      }
     },
     "61502ce099d342ffb5f54e1f448a3b23": {
      "model_module": "@jupyter-widgets/base",
      "model_module_version": "1.2.0",
      "model_name": "LayoutModel",
      "state": {}
     },
     "61bce6565a9842799f04e948ee7b81d7": {
      "model_module": "@jupyter-widgets/base",
      "model_module_version": "1.2.0",
      "model_name": "LayoutModel",
      "state": {}
     },
     "62033a6ce67f4e4b82d39bd9b530ec1c": {
      "model_module": "@jupyter-widgets/controls",
      "model_module_version": "1.5.0",
      "model_name": "TextModel",
      "state": {
       "layout": "IPY_MODEL_57891fd115e143b080337b8d5f4c20df",
       "style": "IPY_MODEL_e7f3b101a1b847338ca5007c228aa9af"
      }
     },
     "622780d91c6f4e80aaeb8d879ad7a99a": {
      "model_module": "@jupyter-widgets/controls",
      "model_module_version": "1.5.0",
      "model_name": "ButtonStyleModel",
      "state": {}
     },
     "62285d031da241f0844c94d59b2fc7c4": {
      "model_module": "@jupyter-widgets/controls",
      "model_module_version": "1.5.0",
      "model_name": "TextareaModel",
      "state": {
       "disabled": true,
       "layout": "IPY_MODEL_43985ed85c9143cca5073cf92920a5a9",
       "placeholder": "",
       "style": "IPY_MODEL_252d45192c254e7aa55b2358f24eee26"
      }
     },
     "62bc10f9a18f41d1b584a53b8d07012a": {
      "model_module": "@jupyter-widgets/controls",
      "model_module_version": "1.5.0",
      "model_name": "LabelModel",
      "state": {
       "layout": "IPY_MODEL_c346260d24af41e9973c498d70df3c2c",
       "style": "IPY_MODEL_56b51f30bdd64472a62d76ebf30fb5e2",
       "value": "Output: "
      }
     },
     "63a809df451b4091adc7bfda1026c91f": {
      "model_module": "@jupyter-widgets/controls",
      "model_module_version": "1.5.0",
      "model_name": "DescriptionStyleModel",
      "state": {
       "description_width": ""
      }
     },
     "63aae4cc61d34f148d28b6b7ac5fc369": {
      "model_module": "@jupyter-widgets/controls",
      "model_module_version": "1.5.0",
      "model_name": "VBoxModel",
      "state": {
       "children": [
        "IPY_MODEL_2252f20f6a214df6a13ecb716497cac9",
        "IPY_MODEL_17502cea764842b386ab64669dc35637",
        "IPY_MODEL_af11978c4c214e02a03cdf68c628e5bc",
        "IPY_MODEL_91304f3a98744bd98a00e0529149d4e7"
       ],
       "layout": "IPY_MODEL_9b281f37856c435aa6023c1496ae7355"
      }
     },
     "63c625d9bae8490cbe5079ac686b0ba4": {
      "model_module": "@jupyter-widgets/controls",
      "model_module_version": "1.5.0",
      "model_name": "TextModel",
      "state": {
       "layout": "IPY_MODEL_2069a8219e0c4137849f5f5f2ab97a50",
       "style": "IPY_MODEL_cb20bf63cd47449485d23ad9267d94ad"
      }
     },
     "63d2215fedaa43b289c8109f4e292524": {
      "model_module": "@jupyter-widgets/controls",
      "model_module_version": "1.5.0",
      "model_name": "TextareaModel",
      "state": {
       "layout": "IPY_MODEL_ba7b0f48e2ec458cb19891eaccc269d9",
       "style": "IPY_MODEL_97fec136b74e494c9e93df8a6539edf2"
      }
     },
     "63d4cd12af314cf894c55f18e0ebf52d": {
      "model_module": "@jupyter-widgets/controls",
      "model_module_version": "1.5.0",
      "model_name": "ButtonStyleModel",
      "state": {}
     },
     "63e1c1062e8c4848ba8c9e0c40ad4a29": {
      "model_module": "@jupyter-widgets/controls",
      "model_module_version": "1.5.0",
      "model_name": "CheckboxModel",
      "state": {
       "disabled": true,
       "layout": "IPY_MODEL_076f0990c6094199849ec4537ae85060",
       "style": "IPY_MODEL_66dd5df4f3c64b4c81d091f63e4b3b7f",
       "value": false
      }
     },
     "640ccaaa628f4d699d6874741d2d6136": {
      "model_module": "@jupyter-widgets/controls",
      "model_module_version": "1.5.0",
      "model_name": "ButtonStyleModel",
      "state": {}
     },
     "64680ebc02be4b06a2df7a4a2886d481": {
      "model_module": "@jupyter-widgets/base",
      "model_module_version": "1.2.0",
      "model_name": "LayoutModel",
      "state": {}
     },
     "65065ae286ad42a3860a490e9c4d9640": {
      "model_module": "@jupyter-widgets/controls",
      "model_module_version": "1.5.0",
      "model_name": "TextareaModel",
      "state": {
       "layout": "IPY_MODEL_9bc4c61cbafa427d8eba22b322f4b45c",
       "style": "IPY_MODEL_a31170dbe1194b879fc8bba7cc261e3a"
      }
     },
     "6509c257e8e748ca9e27ab34fbd1ca5d": {
      "model_module": "@jupyter-widgets/controls",
      "model_module_version": "1.5.0",
      "model_name": "ButtonStyleModel",
      "state": {}
     },
     "650a7155fd7c4139be55290e9d94f52c": {
      "model_module": "@jupyter-widgets/controls",
      "model_module_version": "1.5.0",
      "model_name": "DescriptionStyleModel",
      "state": {
       "description_width": ""
      }
     },
     "650a86101392476db3c68ec995d477ba": {
      "model_module": "@jupyter-widgets/controls",
      "model_module_version": "1.5.0",
      "model_name": "VBoxModel",
      "state": {
       "layout": "IPY_MODEL_1e174d9eae804f22b316eedce2c6f106"
      }
     },
     "657043853efa49608ad4514dd5f40780": {
      "model_module": "@jupyter-widgets/controls",
      "model_module_version": "1.5.0",
      "model_name": "DescriptionStyleModel",
      "state": {
       "description_width": ""
      }
     },
     "658260677755454ca80f7e86dded9ef8": {
      "model_module": "@jupyter-widgets/controls",
      "model_module_version": "1.5.0",
      "model_name": "DescriptionStyleModel",
      "state": {
       "description_width": ""
      }
     },
     "65abf9c63700468e966718bcf179deb1": {
      "model_module": "@jupyter-widgets/controls",
      "model_module_version": "1.5.0",
      "model_name": "HTMLModel",
      "state": {
       "layout": "IPY_MODEL_ebe433315bd34541bf9a14598df44c00",
       "style": "IPY_MODEL_d5f11308053d4255ac088aa2ba2e1287"
      }
     },
     "65ae2f68f5dc49f78eddccea3fa8a9f0": {
      "model_module": "@jupyter-widgets/controls",
      "model_module_version": "1.5.0",
      "model_name": "ButtonModel",
      "state": {
       "button_style": "success",
       "description": "Correct",
       "icon": "check",
       "layout": "IPY_MODEL_cc06189b7d2d4663ada39d1f888fc18f",
       "style": "IPY_MODEL_fe9de2950aa0468ab8302477f2b304a2"
      }
     },
     "65b2d48767c2486e9f9b8e25c819e2c4": {
      "model_module": "@jupyter-widgets/base",
      "model_module_version": "1.2.0",
      "model_name": "LayoutModel",
      "state": {}
     },
     "65d5ff11b861478caef00631770685a1": {
      "model_module": "@jupyter-widgets/controls",
      "model_module_version": "1.5.0",
      "model_name": "VBoxModel",
      "state": {
       "children": [
        "IPY_MODEL_4e0504d457a148eaa027a2339d0bf5ff",
        "IPY_MODEL_baf6e6e404c04aa5a9e4fc1f0f32b543",
        "IPY_MODEL_65ae2f68f5dc49f78eddccea3fa8a9f0",
        "IPY_MODEL_e79f5d637c1c4e4f8cf761210dacdc8e"
       ],
       "layout": "IPY_MODEL_8b2a041e3e634362bed38e0cd913d926"
      }
     },
     "662e09f180f3443e8a4c6d0b0d3c4a66": {
      "model_module": "@jupyter-widgets/controls",
      "model_module_version": "1.5.0",
      "model_name": "ButtonModel",
      "state": {
       "layout": "IPY_MODEL_413d04924a3b41eb93179007bdc4dc84",
       "style": "IPY_MODEL_d3a4e6370f9448c6a8dc6aa9d28f64e8"
      }
     },
     "667cb812e26b4540ade32875083892bc": {
      "model_module": "@jupyter-widgets/controls",
      "model_module_version": "1.5.0",
      "model_name": "CheckboxModel",
      "state": {
       "disabled": true,
       "layout": "IPY_MODEL_92eb4133657048a3ba9b6870a041b4a0",
       "style": "IPY_MODEL_5c08291184e4455ebbd1d45461f797b5",
       "value": true
      }
     },
     "66a8420ee7644beca2d888fddb3a8c03": {
      "model_module": "@jupyter-widgets/base",
      "model_module_version": "1.2.0",
      "model_name": "LayoutModel",
      "state": {}
     },
     "66dd5df4f3c64b4c81d091f63e4b3b7f": {
      "model_module": "@jupyter-widgets/controls",
      "model_module_version": "1.5.0",
      "model_name": "DescriptionStyleModel",
      "state": {
       "description_width": ""
      }
     },
     "66f3e801d55c454a9a9aaae5ea156c1b": {
      "model_module": "@jupyter-widgets/controls",
      "model_module_version": "1.5.0",
      "model_name": "TextareaModel",
      "state": {
       "layout": "IPY_MODEL_d3e0d3d24d0b4f999f2dd0e2229b7115",
       "style": "IPY_MODEL_899854acbe634f3e9bd6bf77300c76c8"
      }
     },
     "6705a093ac0f4a919bce92af5b7f35a5": {
      "model_module": "@jupyter-widgets/base",
      "model_module_version": "1.2.0",
      "model_name": "LayoutModel",
      "state": {}
     },
     "676b2c9283424658bbb93e7d7cf23cd3": {
      "model_module": "@jupyter-widgets/base",
      "model_module_version": "1.2.0",
      "model_name": "LayoutModel",
      "state": {}
     },
     "67ef6b0e651d464fb5ad1a02c469c760": {
      "model_module": "@jupyter-widgets/controls",
      "model_module_version": "1.5.0",
      "model_name": "CheckboxModel",
      "state": {
       "disabled": true,
       "layout": "IPY_MODEL_1cd0139a921c42dfa261bfc9857eb875",
       "style": "IPY_MODEL_658260677755454ca80f7e86dded9ef8",
       "value": false
      }
     },
     "680aaefe75ae440d83f14dd8029efa61": {
      "model_module": "@jupyter-widgets/controls",
      "model_module_version": "1.5.0",
      "model_name": "ButtonModel",
      "state": {
       "button_style": "warning",
       "description": "Run Code",
       "icon": "check",
       "layout": "IPY_MODEL_4e02044b6f6c4dd79efeeaffd3a18021",
       "style": "IPY_MODEL_3d1972a68fc64e24bc6a20f42a27fc30"
      }
     },
     "684aa39874854453a477c6ff1d2b8c9b": {
      "model_module": "@jupyter-widgets/controls",
      "model_module_version": "1.5.0",
      "model_name": "ButtonStyleModel",
      "state": {}
     },
     "68b9eb1a22354675afbeb8c96323b15f": {
      "model_module": "@jupyter-widgets/base",
      "model_module_version": "1.2.0",
      "model_name": "LayoutModel",
      "state": {
       "height": "100px",
       "width": "99%"
      }
     },
     "68d5227c9b0a48e1925196fc49ee0b8e": {
      "model_module": "@jupyter-widgets/controls",
      "model_module_version": "1.5.0",
      "model_name": "DescriptionStyleModel",
      "state": {
       "description_width": ""
      }
     },
     "68ed590936a44182a9af94f4ffa8f8e4": {
      "model_module": "@jupyter-widgets/base",
      "model_module_version": "1.2.0",
      "model_name": "LayoutModel",
      "state": {}
     },
     "694daa5d69444198945fc69dcb875010": {
      "model_module": "@jupyter-widgets/controls",
      "model_module_version": "1.5.0",
      "model_name": "VBoxModel",
      "state": {
       "layout": "IPY_MODEL_9b7ad9dee1eb4b6388c6d2df903495d7"
      }
     },
     "697311b06b2b4ed898f4adf5b331db7e": {
      "model_module": "@jupyter-widgets/base",
      "model_module_version": "1.2.0",
      "model_name": "LayoutModel",
      "state": {}
     },
     "69851e74056e48d2936dc7e2bdb6d02d": {
      "model_module": "@jupyter-widgets/controls",
      "model_module_version": "1.5.0",
      "model_name": "DescriptionStyleModel",
      "state": {
       "description_width": ""
      }
     },
     "6a3e89648ec44ed2babe3e83a65965e7": {
      "model_module": "@jupyter-widgets/controls",
      "model_module_version": "1.5.0",
      "model_name": "VBoxModel",
      "state": {
       "children": [
        "IPY_MODEL_0e0fec56571f4f15ba3e4837de1dfa1d",
        "IPY_MODEL_f56d6f358d3f4facb1e40499cdd43d20"
       ],
       "layout": "IPY_MODEL_2f38e31093af458dbf2888e098e0ba8a"
      }
     },
     "6a5e8dc4282b4da7ba3b681724d07355": {
      "model_module": "@jupyter-widgets/controls",
      "model_module_version": "1.5.0",
      "model_name": "TextModel",
      "state": {
       "layout": "IPY_MODEL_8009d18ca3bc47e68167cc5ec277310b",
       "style": "IPY_MODEL_24f44d75976a480babba962c64103969"
      }
     },
     "6a92207abe0f482482ce9ad9ed238e29": {
      "model_module": "@jupyter-widgets/controls",
      "model_module_version": "1.5.0",
      "model_name": "VBoxModel",
      "state": {
       "layout": "IPY_MODEL_bc1a9489889a4df2b06d2693329fd1a3"
      }
     },
     "6aa794b1d9ad4ae89e117e2bc1d1ae91": {
      "model_module": "@jupyter-widgets/base",
      "model_module_version": "1.2.0",
      "model_name": "LayoutModel",
      "state": {}
     },
     "6ac5a4ed610a4d319b61db9b11701566": {
      "model_module": "@jupyter-widgets/controls",
      "model_module_version": "1.5.0",
      "model_name": "TextareaModel",
      "state": {
       "layout": "IPY_MODEL_7c71b7c629294d538cc6282e5ffe1995",
       "style": "IPY_MODEL_1cd393286ec84581818b63b0f96ead9d"
      }
     },
     "6acad0cb982940eba40002adaae94cde": {
      "model_module": "@jupyter-widgets/controls",
      "model_module_version": "1.5.0",
      "model_name": "DescriptionStyleModel",
      "state": {
       "description_width": ""
      }
     },
     "6b0806dcfbf146b9b6af20a649fb267d": {
      "model_module": "@jupyter-widgets/controls",
      "model_module_version": "1.5.0",
      "model_name": "ButtonModel",
      "state": {
       "button_style": "warning",
       "description": "Run Code",
       "icon": "check",
       "layout": "IPY_MODEL_3d9aa498a1884e5a87fb1802ec6a4693",
       "style": "IPY_MODEL_5a96b3f6e2fc4d1390badb1b28f083e2"
      }
     },
     "6b4247c5c3dc44ada48b1b8eb435ff21": {
      "model_module": "@jupyter-widgets/base",
      "model_module_version": "1.2.0",
      "model_name": "LayoutModel",
      "state": {
       "width": "100%"
      }
     },
     "6b4deea6b02845d58fd0f0b70575bcf7": {
      "model_module": "@jupyter-widgets/controls",
      "model_module_version": "1.5.0",
      "model_name": "DescriptionStyleModel",
      "state": {
       "description_width": ""
      }
     },
     "6b9bc9e63a5f4d1083b318e9430c9578": {
      "model_module": "@jupyter-widgets/controls",
      "model_module_version": "1.5.0",
      "model_name": "DescriptionStyleModel",
      "state": {
       "description_width": ""
      }
     },
     "6c557c0c75374cdaad2a14850d098ec2": {
      "model_module": "@jupyter-widgets/base",
      "model_module_version": "1.2.0",
      "model_name": "LayoutModel",
      "state": {}
     },
     "6d0fad48562146b79a514de5394b36a8": {
      "model_module": "@jupyter-widgets/base",
      "model_module_version": "1.2.0",
      "model_name": "LayoutModel",
      "state": {
       "height": "100px",
       "width": "99%"
      }
     },
     "6d281c0bd25d4b228e0729988d027e8b": {
      "model_module": "@jupyter-widgets/controls",
      "model_module_version": "1.5.0",
      "model_name": "DescriptionStyleModel",
      "state": {
       "description_width": ""
      }
     },
     "6d5418f209244dc280792009b9fe67fb": {
      "model_module": "@jupyter-widgets/controls",
      "model_module_version": "1.5.0",
      "model_name": "VBoxModel",
      "state": {
       "layout": "IPY_MODEL_82d4b133d7e4480eb0f9b8789b1590e7"
      }
     },
     "6d673a3363214c69b15b14e72541f4bd": {
      "model_module": "@jupyter-widgets/controls",
      "model_module_version": "1.5.0",
      "model_name": "TextareaModel",
      "state": {
       "layout": "IPY_MODEL_20359cd5442240c2bdd00995756891cb",
       "style": "IPY_MODEL_5bc16fa44fcc454186c98c7fd15290eb"
      }
     },
     "6e3544ff2c82437bbf4e4fb207daaa0f": {
      "model_module": "@jupyter-widgets/base",
      "model_module_version": "1.2.0",
      "model_name": "LayoutModel",
      "state": {}
     },
     "6e87a86dc87548b0be7fbee846565d04": {
      "model_module": "@jupyter-widgets/base",
      "model_module_version": "1.2.0",
      "model_name": "LayoutModel",
      "state": {}
     },
     "6e96028acee048b0b3e4e739a40ad598": {
      "model_module": "@jupyter-widgets/controls",
      "model_module_version": "1.5.0",
      "model_name": "ButtonModel",
      "state": {
       "layout": "IPY_MODEL_8f9d02bcfafe4006b8fef00c187de1b1",
       "style": "IPY_MODEL_f02c2e35d03c4f19b1c5838f3c8ec7e3"
      }
     },
     "6eb1af17aaf8488ca9f651e6096f8dee": {
      "model_module": "@jupyter-widgets/controls",
      "model_module_version": "1.5.0",
      "model_name": "VBoxModel",
      "state": {
       "children": [
        "IPY_MODEL_1f2b0a174ed24f9396b689dcddfc8010",
        "IPY_MODEL_20ab6f7b94ff4022bbfb344f622871c1",
        "IPY_MODEL_7636f8a54cfd4533b436ba5cfac172c2",
        "IPY_MODEL_fb4ceab6827b403baefcb82393bb54b4",
        "IPY_MODEL_c21e5b890bf44ae48a7e13b1b3e4f07f"
       ],
       "layout": "IPY_MODEL_29037d3bb02c4f14a065c6fe887e9952"
      }
     },
     "6ef0486f554d434f822a70417b85dfeb": {
      "model_module": "@jupyter-widgets/controls",
      "model_module_version": "1.5.0",
      "model_name": "DescriptionStyleModel",
      "state": {
       "description_width": ""
      }
     },
     "6f4c1f0f55614ee7bc2910476f00eba3": {
      "model_module": "@jupyter-widgets/controls",
      "model_module_version": "1.5.0",
      "model_name": "CheckboxModel",
      "state": {
       "disabled": true,
       "layout": "IPY_MODEL_41adcd8a28854c0a924a39a0349a1fca",
       "style": "IPY_MODEL_8675084bcd6f417cb6a7bb93c66fa012",
       "value": false
      }
     },
     "6f611533a1da41aaa7fdf568d34677c9": {
      "model_module": "@jupyter-widgets/controls",
      "model_module_version": "1.5.0",
      "model_name": "DescriptionStyleModel",
      "state": {
       "description_width": ""
      }
     },
     "6f6bd35c777c48c5bcbcc5d0388fba7f": {
      "model_module": "@jupyter-widgets/controls",
      "model_module_version": "1.5.0",
      "model_name": "HTMLModel",
      "state": {
       "layout": "IPY_MODEL_17f29956cd574e0a907283dc90c161ce",
       "style": "IPY_MODEL_9c49655c0ab64b9488e0dc8c25e27fc6",
       "value": "다음 중에서 조건 선택에 해당되지 않는 제어문은 무엇인가?"
      }
     },
     "6fa3dddea2c74f1f8a0b922680aaf56a": {
      "model_module": "@jupyter-widgets/controls",
      "model_module_version": "1.5.0",
      "model_name": "TextareaModel",
      "state": {
       "layout": "IPY_MODEL_b4e6d78e8ea145058bdd77808f2777fd",
       "style": "IPY_MODEL_2a336ab1d55148d1a34e2d744d660cc8"
      }
     },
     "6fb1a463b1a4429892afc74453a530b8": {
      "model_module": "@jupyter-widgets/controls",
      "model_module_version": "1.5.0",
      "model_name": "DescriptionStyleModel",
      "state": {
       "description_width": ""
      }
     },
     "6fc3d7d13bcb48b5bd6f4234e52d9640": {
      "model_module": "@jupyter-widgets/controls",
      "model_module_version": "1.5.0",
      "model_name": "VBoxModel",
      "state": {
       "children": [
        "IPY_MODEL_5144e14de37c43b39da9eda2fd374cfc",
        "IPY_MODEL_26ade6c88410475192e08efc1024ea93"
       ],
       "layout": "IPY_MODEL_0e9b93b36b194aaba2049bb3b436804a"
      }
     },
     "6fd062b83e5542369a841e40954145d3": {
      "model_module": "@jupyter-widgets/controls",
      "model_module_version": "1.5.0",
      "model_name": "DescriptionStyleModel",
      "state": {
       "description_width": ""
      }
     },
     "700622aa4fa74f8b889fe9a75084fa32": {
      "model_module": "@jupyter-widgets/controls",
      "model_module_version": "1.5.0",
      "model_name": "VBoxModel",
      "state": {
       "layout": "IPY_MODEL_f5942f57caba4a65a55e2043b3cd934c"
      }
     },
     "7044fd7326bf41f59d8518ef4383d4ed": {
      "model_module": "@jupyter-widgets/base",
      "model_module_version": "1.2.0",
      "model_name": "LayoutModel",
      "state": {
       "height": "100px",
       "width": "250px"
      }
     },
     "7077e7765b104ed9a83176893bd3a30c": {
      "model_module": "@jupyter-widgets/controls",
      "model_module_version": "1.5.0",
      "model_name": "TextModel",
      "state": {
       "layout": "IPY_MODEL_6e87a86dc87548b0be7fbee846565d04",
       "style": "IPY_MODEL_57d1c813bc924d0681b678be6a65e341"
      }
     },
     "707b7be850ca40aab0ef902a980e79bc": {
      "model_module": "@jupyter-widgets/controls",
      "model_module_version": "1.5.0",
      "model_name": "ButtonStyleModel",
      "state": {}
     },
     "70892196dc9743268d86f5c87a26e2e5": {
      "model_module": "@jupyter-widgets/controls",
      "model_module_version": "1.5.0",
      "model_name": "HTMLModel",
      "state": {
       "layout": "IPY_MODEL_85b430ae93ed4983806c7be31fae8c29",
       "style": "IPY_MODEL_0122a6bc6a964cb19cb7a588523c3093"
      }
     },
     "70ac3c7a18fa4194930d6b2099fdac79": {
      "model_module": "@jupyter-widgets/controls",
      "model_module_version": "1.5.0",
      "model_name": "HTMLModel",
      "state": {
       "layout": "IPY_MODEL_4d38eca712be4cff8bea2cbc938675ad",
       "style": "IPY_MODEL_074995f00d6e4b85afd10500e925c23b",
       "value": "다음 중에서 조건 선택에 해당되지 않는 제어문은 무엇인가?"
      }
     },
     "70e50e69646346d8ac827509145eb954": {
      "model_module": "@jupyter-widgets/base",
      "model_module_version": "1.2.0",
      "model_name": "LayoutModel",
      "state": {}
     },
     "7110090124cb40c8a85c9958fdcb32a9": {
      "model_module": "@jupyter-widgets/controls",
      "model_module_version": "1.5.0",
      "model_name": "DescriptionStyleModel",
      "state": {
       "description_width": ""
      }
     },
     "712416d0347146588c288f229fe04299": {
      "model_module": "@jupyter-widgets/controls",
      "model_module_version": "1.5.0",
      "model_name": "DescriptionStyleModel",
      "state": {
       "description_width": ""
      }
     },
     "718b85528c4e40cbae3b79411e76e0a6": {
      "model_module": "@jupyter-widgets/controls",
      "model_module_version": "1.5.0",
      "model_name": "VBoxModel",
      "state": {
       "children": [
        "IPY_MODEL_f83a0c1831f940949c1ab42b8bac9c93",
        "IPY_MODEL_21809754526e4e69b64d56c227951ef8",
        "IPY_MODEL_7b12503406fc42fba1a1a0452ec42e99",
        "IPY_MODEL_0848a64a189347a2894641ca3e888ebc"
       ],
       "layout": "IPY_MODEL_0f37a1d3d70a4ba09568f33dd6f4d326"
      }
     },
     "722a638cd84144f8aeed8b634e9fa0e6": {
      "model_module": "@jupyter-widgets/controls",
      "model_module_version": "1.5.0",
      "model_name": "ButtonModel",
      "state": {
       "layout": "IPY_MODEL_d3e8887590ee4c1ab37cb670b433df56",
       "style": "IPY_MODEL_98fbd56b25374b37acdc48afe8d2b97d"
      }
     },
     "722f4cc43f7d439a9c7c7bfddb0762ca": {
      "model_module": "@jupyter-widgets/controls",
      "model_module_version": "1.5.0",
      "model_name": "TextModel",
      "state": {
       "layout": "IPY_MODEL_bdef91abc0454407acbba02ee2c027ab",
       "style": "IPY_MODEL_d39e6e7040074e298b1e92d61beb6926"
      }
     },
     "723566f23b004e19854c023b0abe78dc": {
      "model_module": "@jupyter-widgets/controls",
      "model_module_version": "1.5.0",
      "model_name": "DescriptionStyleModel",
      "state": {
       "description_width": ""
      }
     },
     "724284bca980489790332627e4093078": {
      "model_module": "@jupyter-widgets/controls",
      "model_module_version": "1.5.0",
      "model_name": "ButtonModel",
      "state": {
       "layout": "IPY_MODEL_1b664eeafc1d47b484a788cf118364a5",
       "style": "IPY_MODEL_d6cc75f9d10d44bb84841c2833e904e1"
      }
     },
     "725513fde6f14e9e9e37b141a4fe67aa": {
      "model_module": "@jupyter-widgets/controls",
      "model_module_version": "1.5.0",
      "model_name": "DescriptionStyleModel",
      "state": {
       "description_width": ""
      }
     },
     "725ef4f526ba457286733fbacd2befe2": {
      "model_module": "@jupyter-widgets/controls",
      "model_module_version": "1.5.0",
      "model_name": "TextareaModel",
      "state": {
       "layout": "IPY_MODEL_32f0957c541841e699ff0a9c128dc01b",
       "style": "IPY_MODEL_5cfa44e2c66045b1bb3a3fda12be913c"
      }
     },
     "730de741ed844c6a85bd20847ff25c53": {
      "model_module": "@jupyter-widgets/controls",
      "model_module_version": "1.5.0",
      "model_name": "ToggleButtonModel",
      "state": {
       "description": "Show code",
       "layout": "IPY_MODEL_e4b6d6c049fd4f82a72feb9bed52f169",
       "style": "IPY_MODEL_874a20da59fe436aaabd8a544cc9f3ba"
      }
     },
     "730f99f214c34a9a9f230f9a8e110ebc": {
      "model_module": "@jupyter-widgets/controls",
      "model_module_version": "1.5.0",
      "model_name": "DescriptionStyleModel",
      "state": {
       "description_width": ""
      }
     },
     "733765a59e8747de813dbe30cfc792f1": {
      "model_module": "@jupyter-widgets/base",
      "model_module_version": "1.2.0",
      "model_name": "LayoutModel",
      "state": {
       "width": "100%"
      }
     },
     "73839d2dc9b9457fa9aacc865982e6e6": {
      "model_module": "@jupyter-widgets/controls",
      "model_module_version": "1.5.0",
      "model_name": "DescriptionStyleModel",
      "state": {
       "description_width": ""
      }
     },
     "73add5596dc44f19a44b3c60e4ada707": {
      "model_module": "@jupyter-widgets/base",
      "model_module_version": "1.2.0",
      "model_name": "LayoutModel",
      "state": {}
     },
     "73b9219a9103458788683bd3889306da": {
      "model_module": "@jupyter-widgets/base",
      "model_module_version": "1.2.0",
      "model_name": "LayoutModel",
      "state": {}
     },
     "73c19df3d9ec4f5eb1b55f1e3f90d123": {
      "model_module": "@jupyter-widgets/controls",
      "model_module_version": "1.5.0",
      "model_name": "RadioButtonsModel",
      "state": {
       "_options_labels": [
        "Multiply x by 2",
        "Add 2 to x",
        "Multiply x by 1/2"
       ],
       "index": 0,
       "layout": "IPY_MODEL_0a015d08ce194f328169c1b33dddc0b0",
       "style": "IPY_MODEL_542e00f9f93a4d34a8e7b584c83bc7b4"
      }
     },
     "73d5f26b6c4a4a0ebd973a78d9f3a9df": {
      "model_module": "@jupyter-widgets/controls",
      "model_module_version": "1.5.0",
      "model_name": "ButtonStyleModel",
      "state": {}
     },
     "741f62567da34423b2168068c4fd7a57": {
      "model_module": "@jupyter-widgets/controls",
      "model_module_version": "1.5.0",
      "model_name": "TextareaModel",
      "state": {
       "disabled": true,
       "layout": "IPY_MODEL_6d0fad48562146b79a514de5394b36a8",
       "placeholder": "",
       "style": "IPY_MODEL_f5047265a1d44d74b01da67f069fe90b",
       "value": "Sum from 1 to 10 is 55\n"
      }
     },
     "749ea4befa3546dfa53e7cafb4f82202": {
      "model_module": "@jupyter-widgets/controls",
      "model_module_version": "1.5.0",
      "model_name": "ButtonStyleModel",
      "state": {}
     },
     "74a276b6145646d8aaf07ea24f014c48": {
      "model_module": "@jupyter-widgets/base",
      "model_module_version": "1.2.0",
      "model_name": "LayoutModel",
      "state": {
       "width": "90px"
      }
     },
     "74d65d4eacee41b7bd6e7def6db64312": {
      "model_module": "@jupyter-widgets/controls",
      "model_module_version": "1.5.0",
      "model_name": "HTMLModel",
      "state": {
       "layout": "IPY_MODEL_5f973533dbd840b18c65cf5f42a5a1d9",
       "style": "IPY_MODEL_2d2c069d023c42d5baa9a14da6899ae6"
      }
     },
     "7538b218dd7c49cbb83a16a2ada90fda": {
      "model_module": "@jupyter-widgets/base",
      "model_module_version": "1.2.0",
      "model_name": "LayoutModel",
      "state": {
       "height": "200px",
       "width": "99%"
      }
     },
     "758a44d05627408fbabc4ae96f0c1273": {
      "model_module": "@jupyter-widgets/controls",
      "model_module_version": "1.5.0",
      "model_name": "VBoxModel",
      "state": {
       "layout": "IPY_MODEL_9e7d0221e9334dbc887ad8b06a2a29ba"
      }
     },
     "758b63e43a2a4e45ad1afb68bb211dcc": {
      "model_module": "@jupyter-widgets/base",
      "model_module_version": "1.2.0",
      "model_name": "LayoutModel",
      "state": {}
     },
     "75bb6e3539ae4cab8fa7daeab458d96d": {
      "model_module": "@jupyter-widgets/controls",
      "model_module_version": "1.5.0",
      "model_name": "DescriptionStyleModel",
      "state": {
       "description_width": ""
      }
     },
     "7636f8a54cfd4533b436ba5cfac172c2": {
      "model_module": "@jupyter-widgets/controls",
      "model_module_version": "1.5.0",
      "model_name": "LabelModel",
      "state": {
       "layout": "IPY_MODEL_c554aa9a798a4df5ac2350337412f948",
       "style": "IPY_MODEL_4823cdc64fa54e8799e027ca1865e548",
       "value": "Output:"
      }
     },
     "766e26b2854f4b3782c5496b491c60b2": {
      "model_module": "@jupyter-widgets/controls",
      "model_module_version": "1.5.0",
      "model_name": "LabelModel",
      "state": {
       "layout": "IPY_MODEL_d32573dfc6614e1f9488adbb93ccf2cc",
       "style": "IPY_MODEL_3c1f73ff53784697be68b35faf0b4d22",
       "value": "Write your own code:"
      }
     },
     "76990842fa944fe39686bfe8dd75f88d": {
      "model_module": "@jupyter-widgets/controls",
      "model_module_version": "1.5.0",
      "model_name": "LabelModel",
      "state": {
       "layout": "IPY_MODEL_c8c6bfde200c46b6ad867cff7fb9a67c",
       "style": "IPY_MODEL_b99944ec0b824ff690162844a418daee",
       "value": "Write your own code:"
      }
     },
     "769afa9619494b5faa63a817cb0eb4dc": {
      "model_module": "@jupyter-widgets/controls",
      "model_module_version": "1.5.0",
      "model_name": "VBoxModel",
      "state": {
       "children": [
        "IPY_MODEL_46083f3aa5a54a308c093c90ab578741",
        "IPY_MODEL_84a8646b16884ff6b1a4a3f1e03c199d"
       ],
       "layout": "IPY_MODEL_cab04b5a24a64145a59b4c30ee4afdc0"
      }
     },
     "769fe13889764c08880a7326b854d115": {
      "model_module": "@jupyter-widgets/controls",
      "model_module_version": "1.5.0",
      "model_name": "ButtonStyleModel",
      "state": {}
     },
     "76a012a32ffc4b83bfdaa8c9d5716bcd": {
      "model_module": "@jupyter-widgets/controls",
      "model_module_version": "1.5.0",
      "model_name": "ButtonModel",
      "state": {
       "button_style": "warning",
       "description": "Run Code",
       "icon": "check",
       "layout": "IPY_MODEL_7c76d5aa150140f0870d514ebc83d4bc",
       "style": "IPY_MODEL_ca80822bfd724df2ad960e3e24c8931a"
      }
     },
     "76ea5f9b281e4769b71c75dcd20d785b": {
      "model_module": "@jupyter-widgets/controls",
      "model_module_version": "1.5.0",
      "model_name": "LabelModel",
      "state": {
       "layout": "IPY_MODEL_ac2ad0aeba9f4725be91786d7b66d5a9",
       "style": "IPY_MODEL_0cd0f910d6fc4f3b8744908e8ba4a76c",
       "value": "Output: "
      }
     },
     "774a74dea0a14b3e86d3761fef122e18": {
      "model_module": "@jupyter-widgets/controls",
      "model_module_version": "1.5.0",
      "model_name": "VBoxModel",
      "state": {
       "children": [
        "IPY_MODEL_d46ff2a6d314419783a0cfb070a96dd3",
        "IPY_MODEL_bed0fcbf661843689f00487e117113af",
        "IPY_MODEL_c5c9b22a48aa4127811de09f8e69f0e2",
        "IPY_MODEL_53b06de8d8414157b624f21f38bd6f7d"
       ],
       "layout": "IPY_MODEL_36f403d4079144a8bbcc94bb28e0178c"
      }
     },
     "777b17ab692d40b183e1be31ffe4b35c": {
      "model_module": "@jupyter-widgets/base",
      "model_module_version": "1.2.0",
      "model_name": "LayoutModel",
      "state": {}
     },
     "7784618c522a422287e039ddc8b53178": {
      "model_module": "@jupyter-widgets/base",
      "model_module_version": "1.2.0",
      "model_name": "LayoutModel",
      "state": {
       "height": "200px",
       "width": "99%"
      }
     },
     "77856e0ee9d64cad8479bb9b5f1d8fb6": {
      "model_module": "@jupyter-widgets/base",
      "model_module_version": "1.2.0",
      "model_name": "LayoutModel",
      "state": {}
     },
     "7818f7ad458745219753ef471922a493": {
      "model_module": "@jupyter-widgets/base",
      "model_module_version": "1.2.0",
      "model_name": "LayoutModel",
      "state": {}
     },
     "78687138fcb742e1a0e516640c8a34f3": {
      "model_module": "@jupyter-widgets/base",
      "model_module_version": "1.2.0",
      "model_name": "LayoutModel",
      "state": {}
     },
     "786b5bc17b654d619b1177282d79ebb5": {
      "model_module": "@jupyter-widgets/base",
      "model_module_version": "1.2.0",
      "model_name": "LayoutModel",
      "state": {
       "width": "90px"
      }
     },
     "7873540e8996429f9cf052aa1dd22a89": {
      "model_module": "@jupyter-widgets/base",
      "model_module_version": "1.2.0",
      "model_name": "LayoutModel",
      "state": {}
     },
     "78b076ae2bb3427bb60368541fc8d147": {
      "model_module": "@jupyter-widgets/controls",
      "model_module_version": "1.5.0",
      "model_name": "VBoxModel",
      "state": {
       "children": [
        "IPY_MODEL_3c566e8f3f6c454db0ad85f9d919b170",
        "IPY_MODEL_25ac03b763df4d1795d9b1b529793b7a",
        "IPY_MODEL_41cbd39a5ac84cfeb0634bd2f56886bf",
        "IPY_MODEL_6b0806dcfbf146b9b6af20a649fb267d"
       ],
       "layout": "IPY_MODEL_d1a57e767e854db882b6a34bad645d31"
      }
     },
     "7902bbc284974df3912775462c4c6a55": {
      "model_module": "@jupyter-widgets/controls",
      "model_module_version": "1.5.0",
      "model_name": "ButtonModel",
      "state": {
       "layout": "IPY_MODEL_ca3bacba754f4ab9b33e7b78f6655a97",
       "style": "IPY_MODEL_9f4ed162505e41f6b7cacdff5839c57e"
      }
     },
     "793f2ba05f1347629c61b298d2c52026": {
      "model_module": "@jupyter-widgets/controls",
      "model_module_version": "1.5.0",
      "model_name": "RadioButtonsModel",
      "state": {
       "index": null,
       "layout": "IPY_MODEL_16d518d5f8414a83a176758f18dcbbda",
       "style": "IPY_MODEL_1ecf7afc0cc943418d4aedc026eb8956"
      }
     },
     "79b19f6ad8b0409f89ffc250f743c772": {
      "model_module": "@jupyter-widgets/base",
      "model_module_version": "1.2.0",
      "model_name": "LayoutModel",
      "state": {
       "width": "100%"
      }
     },
     "79c070e8f679414db09ff7db556cee64": {
      "model_module": "@jupyter-widgets/base",
      "model_module_version": "1.2.0",
      "model_name": "LayoutModel",
      "state": {
       "border": "solid 2px",
       "padding": "1rem"
      }
     },
     "7a30d182f87441048ba43bb44f69ebd2": {
      "model_module": "@jupyter-widgets/base",
      "model_module_version": "1.2.0",
      "model_name": "LayoutModel",
      "state": {
       "height": "100px",
       "width": "250px"
      }
     },
     "7a363018812b4590959772ab4667ba7f": {
      "model_module": "@jupyter-widgets/controls",
      "model_module_version": "1.5.0",
      "model_name": "DescriptionStyleModel",
      "state": {
       "description_width": ""
      }
     },
     "7b112f0ccafd4d3eb949de797c3c26df": {
      "model_module": "@jupyter-widgets/controls",
      "model_module_version": "1.5.0",
      "model_name": "ButtonStyleModel",
      "state": {}
     },
     "7b12503406fc42fba1a1a0452ec42e99": {
      "model_module": "@jupyter-widgets/controls",
      "model_module_version": "1.5.0",
      "model_name": "ButtonModel",
      "state": {
       "button_style": "success",
       "description": "Correct",
       "icon": "check",
       "layout": "IPY_MODEL_be2b3762b87447b58f758f07a76bb1dc",
       "style": "IPY_MODEL_2cba843c2e64489a93541fb13d435620"
      }
     },
     "7b99b750fc6c46b196b285852dcb6c50": {
      "model_module": "@jupyter-widgets/controls",
      "model_module_version": "1.5.0",
      "model_name": "TextareaModel",
      "state": {
       "layout": "IPY_MODEL_9bdac5fb2e214a458c657b022cc27291",
       "placeholder": "",
       "style": "IPY_MODEL_d4b9d4605574439082be0430a425cd31",
       "value": "#include <stdio.h>\n\n#define MAX 10\n\nint main(void) {\n    int i = 1, sum = 0;\n    \n    while(i<=MAX)\n        sum += i++;\n    \n    printf(\"Sum from 1 to 10 is %d\\n\", sum);\n\n    return 0;\n}"
      }
     },
     "7ba5467c7fcd4e4391a4aad0f48709a2": {
      "model_module": "@jupyter-widgets/base",
      "model_module_version": "1.2.0",
      "model_name": "LayoutModel",
      "state": {}
     },
     "7c2a957158f64fbfb53e549c5761798c": {
      "model_module": "@jupyter-widgets/controls",
      "model_module_version": "1.5.0",
      "model_name": "TextareaModel",
      "state": {
       "layout": "IPY_MODEL_ca5d74d4134645c9a1ed2a18e0235847",
       "style": "IPY_MODEL_d514d4b39cd34251af319518bb1430a1"
      }
     },
     "7c62ca11422c4b608b790c7fde68a78d": {
      "model_module": "@jupyter-widgets/controls",
      "model_module_version": "1.5.0",
      "model_name": "VBoxModel",
      "state": {
       "layout": "IPY_MODEL_7873540e8996429f9cf052aa1dd22a89"
      }
     },
     "7c71b7c629294d538cc6282e5ffe1995": {
      "model_module": "@jupyter-widgets/base",
      "model_module_version": "1.2.0",
      "model_name": "LayoutModel",
      "state": {}
     },
     "7c76d5aa150140f0870d514ebc83d4bc": {
      "model_module": "@jupyter-widgets/base",
      "model_module_version": "1.2.0",
      "model_name": "LayoutModel",
      "state": {}
     },
     "7ca664c00173463593636027aa03a32c": {
      "model_module": "@jupyter-widgets/controls",
      "model_module_version": "1.5.0",
      "model_name": "HBoxModel",
      "state": {
       "children": [
        "IPY_MODEL_b231b376c9754ce99e38e6545b4a515a",
        "IPY_MODEL_ba6f9c392ba9415f83373256314cb7ba"
       ],
       "layout": "IPY_MODEL_2e9bc03c6c9e4f14b21eb68a7897cfe8"
      }
     },
     "7ccd026329ed4c4189562c512c68e37e": {
      "model_module": "@jupyter-widgets/base",
      "model_module_version": "1.2.0",
      "model_name": "LayoutModel",
      "state": {}
     },
     "7d5ef86dcd6d4fe28c544f1541347a86": {
      "model_module": "@jupyter-widgets/controls",
      "model_module_version": "1.5.0",
      "model_name": "DescriptionStyleModel",
      "state": {
       "description_width": ""
      }
     },
     "7d8336f768144ceba4617e11c332c251": {
      "model_module": "@jupyter-widgets/controls",
      "model_module_version": "1.5.0",
      "model_name": "VBoxModel",
      "state": {
       "children": [
        "IPY_MODEL_8fc0fc03eb01482fb92aa539704c76b0",
        "IPY_MODEL_a88304ecafd446f19e2bfdf6cdc38e53",
        "IPY_MODEL_7ca664c00173463593636027aa03a32c",
        "IPY_MODEL_0affdc17fc0d4bbba790a6ae3aeb661f"
       ],
       "layout": "IPY_MODEL_0ebf2eeb9039414da23d055c0ba544b1"
      }
     },
     "7df012a8465c4ccda0af3f43d2946086": {
      "model_module": "@jupyter-widgets/base",
      "model_module_version": "1.2.0",
      "model_name": "LayoutModel",
      "state": {}
     },
     "7e5f1526133a4c1cb79dadf63fcc0546": {
      "model_module": "@jupyter-widgets/controls",
      "model_module_version": "1.5.0",
      "model_name": "ButtonModel",
      "state": {
       "layout": "IPY_MODEL_f0f025481ede47c7894836110cf6c50f",
       "style": "IPY_MODEL_baa60b3f93f24de4b54ef433f734eb97"
      }
     },
     "7ee6a1e40e53411695f400671d4c63e0": {
      "model_module": "@jupyter-widgets/controls",
      "model_module_version": "1.5.0",
      "model_name": "DescriptionStyleModel",
      "state": {
       "description_width": ""
      }
     },
     "7f1f57de6cf9489da15ab589b33634fe": {
      "model_module": "@jupyter-widgets/controls",
      "model_module_version": "1.5.0",
      "model_name": "ButtonStyleModel",
      "state": {}
     },
     "7f3b86afba664c58acd803837d772606": {
      "model_module": "@jupyter-widgets/controls",
      "model_module_version": "1.5.0",
      "model_name": "TextareaModel",
      "state": {
       "layout": "IPY_MODEL_6e3544ff2c82437bbf4e4fb207daaa0f",
       "style": "IPY_MODEL_9f07f82f086a49bc8331f2b26cda556e"
      }
     },
     "7f4d7490d65b44adbeebcf4b151c0b61": {
      "model_module": "@jupyter-widgets/base",
      "model_module_version": "1.2.0",
      "model_name": "LayoutModel",
      "state": {}
     },
     "7f641260f0f346f28f4e4aadfafb5d53": {
      "model_module": "@jupyter-widgets/controls",
      "model_module_version": "1.5.0",
      "model_name": "DescriptionStyleModel",
      "state": {
       "description_width": ""
      }
     },
     "7facf510863d4a67a03a35e57402794e": {
      "model_module": "@jupyter-widgets/base",
      "model_module_version": "1.2.0",
      "model_name": "LayoutModel",
      "state": {}
     },
     "7fdff3c2f883436a80c6aac7b95bbec9": {
      "model_module": "@jupyter-widgets/controls",
      "model_module_version": "1.5.0",
      "model_name": "DescriptionStyleModel",
      "state": {
       "description_width": ""
      }
     },
     "80012a8bdfda438bb2e93a6d9402f2ee": {
      "model_module": "@jupyter-widgets/base",
      "model_module_version": "1.2.0",
      "model_name": "LayoutModel",
      "state": {
       "height": "200px",
       "width": "99%"
      }
     },
     "8005adca951d4fd1a4a2cb94e5b2e98d": {
      "model_module": "@jupyter-widgets/base",
      "model_module_version": "1.2.0",
      "model_name": "LayoutModel",
      "state": {}
     },
     "8009d18ca3bc47e68167cc5ec277310b": {
      "model_module": "@jupyter-widgets/base",
      "model_module_version": "1.2.0",
      "model_name": "LayoutModel",
      "state": {}
     },
     "8078cd358d2b40d8a4d99f42833f29b7": {
      "model_module": "@jupyter-widgets/base",
      "model_module_version": "1.2.0",
      "model_name": "LayoutModel",
      "state": {}
     },
     "8101a996998b4a7cb2567d0b7df1dc9b": {
      "model_module": "@jupyter-widgets/base",
      "model_module_version": "1.2.0",
      "model_name": "LayoutModel",
      "state": {}
     },
     "8149624aa5dc4958a16aba9d32d4978e": {
      "model_module": "@jupyter-widgets/base",
      "model_module_version": "1.2.0",
      "model_name": "LayoutModel",
      "state": {}
     },
     "81f460c9fb0746479bb165231315945d": {
      "model_module": "@jupyter-widgets/base",
      "model_module_version": "1.2.0",
      "model_name": "LayoutModel",
      "state": {
       "height": "100px",
       "width": "250px"
      }
     },
     "8246becdc9ca4477991a9f465a6a31b4": {
      "model_module": "@jupyter-widgets/controls",
      "model_module_version": "1.5.0",
      "model_name": "HTMLModel",
      "state": {
       "layout": "IPY_MODEL_32151bd0f2484c0a879f5cf52dcb7c95",
       "style": "IPY_MODEL_5db5b349f4b742aab36d05466d64ac68",
       "value": "(1) The program has a total number of _____ instructions"
      }
     },
     "824b2ce0e76a41d9bbdc2f3af1f6a1e9": {
      "model_module": "@jupyter-widgets/base",
      "model_module_version": "1.2.0",
      "model_name": "LayoutModel",
      "state": {}
     },
     "8292858ac5af4b36a46a4253606bda7f": {
      "model_module": "@jupyter-widgets/controls",
      "model_module_version": "1.5.0",
      "model_name": "ButtonModel",
      "state": {
       "layout": "IPY_MODEL_1a47338a11b7483f909f6c9851123fe5",
       "style": "IPY_MODEL_4336449a36f445858790d9504fd24dbf"
      }
     },
     "82ca37eb397a4cc4b3d8538a13a1583e": {
      "model_module": "@jupyter-widgets/base",
      "model_module_version": "1.2.0",
      "model_name": "LayoutModel",
      "state": {}
     },
     "82d4b133d7e4480eb0f9b8789b1590e7": {
      "model_module": "@jupyter-widgets/base",
      "model_module_version": "1.2.0",
      "model_name": "LayoutModel",
      "state": {}
     },
     "8309ba16ffd5440eab79044e17917813": {
      "model_module": "@jupyter-widgets/controls",
      "model_module_version": "1.5.0",
      "model_name": "HTMLModel",
      "state": {
       "layout": "IPY_MODEL_64680ebc02be4b06a2df7a4a2886d481",
       "style": "IPY_MODEL_cb87b5f26959487aa9529b91e64f0bd6"
      }
     },
     "836dbaf0e5854a68b6aee723dec263d6": {
      "model_module": "@jupyter-widgets/base",
      "model_module_version": "1.2.0",
      "model_name": "LayoutModel",
      "state": {}
     },
     "837c0b2f641842c595be9c018c1d5c4b": {
      "model_module": "@jupyter-widgets/base",
      "model_module_version": "1.2.0",
      "model_name": "LayoutModel",
      "state": {}
     },
     "83ad9bc41a2b4500a19b8f26644e2928": {
      "model_module": "@jupyter-widgets/base",
      "model_module_version": "1.2.0",
      "model_name": "LayoutModel",
      "state": {}
     },
     "83b3fd1f24e94a359c09be79177885fa": {
      "model_module": "@jupyter-widgets/controls",
      "model_module_version": "1.5.0",
      "model_name": "CheckboxModel",
      "state": {
       "disabled": true,
       "layout": "IPY_MODEL_022fca51a8dc4ae59da152900d21f7b5",
       "style": "IPY_MODEL_eacbb90fad85487ca7dcf11bc4b96418",
       "value": false
      }
     },
     "83c8fbba3f0647728fbf9e7f0e6692c8": {
      "model_module": "@jupyter-widgets/controls",
      "model_module_version": "1.5.0",
      "model_name": "HTMLModel",
      "state": {
       "layout": "IPY_MODEL_b489d9ec7d6d4e9fb33539f75a85ebd4",
       "style": "IPY_MODEL_f18f485b41f040d6846a254bbe8ae69a",
       "value": "(3) Which instruction completes the program to compute a triangle's area?<br>base = Get next input<br>height = Get next input<br>Assign x with base * height<br>_____<br>Put x to output<br>"
      }
     },
     "83d470c8e92e44e7acf75840773084c4": {
      "model_module": "@jupyter-widgets/controls",
      "model_module_version": "1.5.0",
      "model_name": "ButtonStyleModel",
      "state": {}
     },
     "83fede7e7b7441e0806361419efe37ee": {
      "model_module": "@jupyter-widgets/controls",
      "model_module_version": "1.5.0",
      "model_name": "DescriptionStyleModel",
      "state": {
       "description_width": ""
      }
     },
     "84784309e0734722ba31ecc09e556558": {
      "model_module": "@jupyter-widgets/base",
      "model_module_version": "1.2.0",
      "model_name": "LayoutModel",
      "state": {}
     },
     "84a8646b16884ff6b1a4a3f1e03c199d": {
      "model_module": "@jupyter-widgets/controls",
      "model_module_version": "1.5.0",
      "model_name": "LabelModel",
      "state": {
       "layout": "IPY_MODEL_36067e6330b74694bcff75b420f2ac2f",
       "style": "IPY_MODEL_c90446b44aa8431d8f9af752e3561bf4",
       "value": "Participation: 0%"
      }
     },
     "850525d50276400ea3f71ed5ac0545fb": {
      "model_module": "@jupyter-widgets/controls",
      "model_module_version": "1.5.0",
      "model_name": "DescriptionStyleModel",
      "state": {
       "description_width": ""
      }
     },
     "85233eca6e6c486697a5186dbfa52914": {
      "model_module": "@jupyter-widgets/controls",
      "model_module_version": "1.5.0",
      "model_name": "TextareaModel",
      "state": {
       "layout": "IPY_MODEL_32f91050c0a7432f9ac0468043d04661",
       "style": "IPY_MODEL_d318d7c0c696490a98855a6f0a956bbd"
      }
     },
     "854463e9b42b4285aa4650a49ebbf78a": {
      "model_module": "@jupyter-widgets/controls",
      "model_module_version": "1.5.0",
      "model_name": "DescriptionStyleModel",
      "state": {
       "description_width": ""
      }
     },
     "85b430ae93ed4983806c7be31fae8c29": {
      "model_module": "@jupyter-widgets/base",
      "model_module_version": "1.2.0",
      "model_name": "LayoutModel",
      "state": {}
     },
     "85ca653cae174311973d4e6a31f4d212": {
      "model_module": "@jupyter-widgets/controls",
      "model_module_version": "1.5.0",
      "model_name": "DescriptionStyleModel",
      "state": {
       "description_width": ""
      }
     },
     "861216a832fa4618a9a56a9162849b86": {
      "model_module": "@jupyter-widgets/base",
      "model_module_version": "1.2.0",
      "model_name": "LayoutModel",
      "state": {}
     },
     "862beaeaa073420b9ab3d7a7fc217750": {
      "model_module": "@jupyter-widgets/controls",
      "model_module_version": "1.5.0",
      "model_name": "DescriptionStyleModel",
      "state": {
       "description_width": ""
      }
     },
     "8630440f795842798b02aeea6971837b": {
      "model_module": "@jupyter-widgets/controls",
      "model_module_version": "1.5.0",
      "model_name": "DescriptionStyleModel",
      "state": {
       "description_width": ""
      }
     },
     "8643e5f6a1ca4d528b2c651f73fcc95a": {
      "model_module": "@jupyter-widgets/controls",
      "model_module_version": "1.5.0",
      "model_name": "HTMLModel",
      "state": {
       "layout": "IPY_MODEL_7facf510863d4a67a03a35e57402794e",
       "style": "IPY_MODEL_0b4d7f7ad2af4095af6f64f626ae2858",
       "value": "(1) ___문은 조건에 따른 선택을 지원하는 구문이다."
      }
     },
     "8666b446a7514d3d88515051befd5348": {
      "model_module": "@jupyter-widgets/base",
      "model_module_version": "1.2.0",
      "model_name": "LayoutModel",
      "state": {}
     },
     "8675084bcd6f417cb6a7bb93c66fa012": {
      "model_module": "@jupyter-widgets/controls",
      "model_module_version": "1.5.0",
      "model_name": "DescriptionStyleModel",
      "state": {
       "description_width": ""
      }
     },
     "86ab2956b6884541b1d87490116f983c": {
      "model_module": "@jupyter-widgets/base",
      "model_module_version": "1.2.0",
      "model_name": "LayoutModel",
      "state": {
       "border": "ridge 2px",
       "padding": "1rem"
      }
     },
     "86bac7d409de4a07a7d115a5ebf64168": {
      "model_module": "@jupyter-widgets/controls",
      "model_module_version": "1.5.0",
      "model_name": "LabelModel",
      "state": {
       "layout": "IPY_MODEL_ea15e6a03455409099cb0f6dd61d15a5",
       "style": "IPY_MODEL_9f15e1d6e36c42d28af2dc0e1fab8d7f",
       "value": "Participation: 0%"
      }
     },
     "86db8ce6ed0b43849e4d6c4e926e121b": {
      "model_module": "@jupyter-widgets/base",
      "model_module_version": "1.2.0",
      "model_name": "LayoutModel",
      "state": {}
     },
     "8721304aab9243299854abe2537ea000": {
      "model_module": "@jupyter-widgets/controls",
      "model_module_version": "1.5.0",
      "model_name": "DescriptionStyleModel",
      "state": {
       "description_width": ""
      }
     },
     "8728fece95e0460d89c3d024e9cb0343": {
      "model_module": "@jupyter-widgets/controls",
      "model_module_version": "1.5.0",
      "model_name": "RadioButtonsModel",
      "state": {
       "_options_labels": [
        "if",
        "if else",
        "switch",
        "break"
       ],
       "index": 0,
       "layout": "IPY_MODEL_3f55d8b2e1744b84916fa7b979b397dd",
       "style": "IPY_MODEL_8b418f00a66f4d72a14545b6cb63ad54"
      }
     },
     "8735b19e6b924e65b49790ca2d82a202": {
      "model_module": "@jupyter-widgets/controls",
      "model_module_version": "1.5.0",
      "model_name": "VBoxModel",
      "state": {
       "layout": "IPY_MODEL_d78fcaf6788543cc8dcb9eb42339f8d8"
      }
     },
     "874a20da59fe436aaabd8a544cc9f3ba": {
      "model_module": "@jupyter-widgets/controls",
      "model_module_version": "1.5.0",
      "model_name": "DescriptionStyleModel",
      "state": {
       "description_width": ""
      }
     },
     "87570fffed154fb49b857c122b9a1b4d": {
      "model_module": "@jupyter-widgets/base",
      "model_module_version": "1.2.0",
      "model_name": "LayoutModel",
      "state": {
       "width": "90px"
      }
     },
     "876b8105b217495eb9cf2add17e58d49": {
      "model_module": "@jupyter-widgets/controls",
      "model_module_version": "1.5.0",
      "model_name": "TextareaModel",
      "state": {
       "layout": "IPY_MODEL_b776d4a263ec4e62bfd1ef3d4af951b6",
       "placeholder": "",
       "style": "IPY_MODEL_03bf5017c03946709df79a4eca4f46d2",
       "value": "#include <stdio.h>\n\nint main(void) {\n printf(\"Hello world!\\n\");\n return 0;\n}"
      }
     },
     "87bdd55def5e41c2a1648e575fd96176": {
      "model_module": "@jupyter-widgets/controls",
      "model_module_version": "1.5.0",
      "model_name": "VBoxModel",
      "state": {
       "children": [
        "IPY_MODEL_8643e5f6a1ca4d528b2c651f73fcc95a",
        "IPY_MODEL_0c5580e7218440dfb772e8366bd706e9",
        "IPY_MODEL_dd5a6cd0e2f6431e9ed8ec19fec8fe9c",
        "IPY_MODEL_558338c05a3f4b8294ab578cd9654618"
       ],
       "layout": "IPY_MODEL_d80178265e9849ddbc9d7ddfb5578903"
      }
     },
     "8837f0c408f74ec194cdf714b6c87007": {
      "model_module": "@jupyter-widgets/controls",
      "model_module_version": "1.5.0",
      "model_name": "TextareaModel",
      "state": {
       "layout": "IPY_MODEL_1a2b44a1169b4e419f4bd40c14b963c1",
       "placeholder": "",
       "style": "IPY_MODEL_e3dcd7e24862479e8fdd11f9803bc41f",
       "value": "#include <stdio.h>\n\nint main(void) {\n    int mult, n, i;\n    \n    for (;;) {\n        printf(\"Insert any number from 1 to 20 (0 to exit): \");\n        scanf(\"%d\", &n);\n        if(n<=0)\n            break;\n        for(i=1, mult = 1;i<=n;i++)\n            mult *= i;\n        printf(\"n! is: %d\\n\", n, mult);\n    }\n    puts(\"Exit..\");\n    \n    return 0;\n        \n}"
      }
     },
     "884a375c9641471994d56dad5fc58f09": {
      "model_module": "@jupyter-widgets/base",
      "model_module_version": "1.2.0",
      "model_name": "LayoutModel",
      "state": {
       "height": "100px",
       "width": "99%"
      }
     },
     "88aa43d314414c6f919f0d2a6b54eddc": {
      "model_module": "@jupyter-widgets/controls",
      "model_module_version": "1.5.0",
      "model_name": "LabelModel",
      "state": {
       "layout": "IPY_MODEL_44373bcdfcd147b5ba278dd46c1cdc92",
       "style": "IPY_MODEL_4e6c371614aa4e0e8c7b79cc00be90cf",
       "value": "Input:"
      }
     },
     "88ba420a664f46a4afb90d70e9bef706": {
      "model_module": "@jupyter-widgets/controls",
      "model_module_version": "1.5.0",
      "model_name": "DescriptionStyleModel",
      "state": {
       "description_width": ""
      }
     },
     "88e476f6562a471f837ebd347217a3f9": {
      "model_module": "@jupyter-widgets/controls",
      "model_module_version": "1.5.0",
      "model_name": "HTMLModel",
      "state": {
       "layout": "IPY_MODEL_a6e81bb7d1a1420f9cb7e1b9cb74eb78",
       "style": "IPY_MODEL_2b5c11675c9946d0aed2558ce94fed22"
      }
     },
     "88f0a5bc167a4f3cb05122237c5c0918": {
      "model_module": "@jupyter-widgets/controls",
      "model_module_version": "1.5.0",
      "model_name": "HTMLModel",
      "state": {
       "layout": "IPY_MODEL_9f8aab897bc54537bb7409a30c317758",
       "style": "IPY_MODEL_0ac695d7195d4f7cac4ffd687b8461f1",
       "value": "반복 내부에서 반복을 종료하려면 ____ 문장을 사용한다."
      }
     },
     "899854acbe634f3e9bd6bf77300c76c8": {
      "model_module": "@jupyter-widgets/controls",
      "model_module_version": "1.5.0",
      "model_name": "DescriptionStyleModel",
      "state": {
       "description_width": ""
      }
     },
     "89e2b54643eb4c658b178928606ddc2b": {
      "model_module": "@jupyter-widgets/controls",
      "model_module_version": "1.5.0",
      "model_name": "TextareaModel",
      "state": {
       "layout": "IPY_MODEL_bd242597c511447684196bd97c7cb5bc",
       "style": "IPY_MODEL_094ca472b543485cae94ed81e0d0f2e7"
      }
     },
     "8a0ff21414a648f6b6925187aec6d152": {
      "model_module": "@jupyter-widgets/base",
      "model_module_version": "1.2.0",
      "model_name": "LayoutModel",
      "state": {
       "border": "solid 1px"
      }
     },
     "8a43f89e8cb24381b5039f4fbae0b15e": {
      "model_module": "@jupyter-widgets/controls",
      "model_module_version": "1.5.0",
      "model_name": "VBoxModel",
      "state": {
       "children": [
        "IPY_MODEL_bd2a962270db4160842e3ad91bd93126",
        "IPY_MODEL_0e8c9184974b4925bed66f5f32e7b9b2"
       ],
       "layout": "IPY_MODEL_240a364a92de412f9569af600dcafc00"
      }
     },
     "8a6ae4272e4f42158079c479aec1a2ec": {
      "model_module": "@jupyter-widgets/controls",
      "model_module_version": "1.5.0",
      "model_name": "HTMLModel",
      "state": {
       "layout": "IPY_MODEL_8bba9f6087624d498ec30f7aa48be349",
       "style": "IPY_MODEL_e240155370f940d4956af1e06e7f87f8"
      }
     },
     "8a967a02b4a34f759408ac5fb78e8905": {
      "model_module": "@jupyter-widgets/controls",
      "model_module_version": "1.5.0",
      "model_name": "HTMLModel",
      "state": {
       "layout": "IPY_MODEL_3e6509b8f24b423198191e32f884682e",
       "style": "IPY_MODEL_88ba420a664f46a4afb90d70e9bef706"
      }
     },
     "8ae2aafb141845b0979b7aa9df380dfe": {
      "model_module": "@jupyter-widgets/controls",
      "model_module_version": "1.5.0",
      "model_name": "ButtonStyleModel",
      "state": {}
     },
     "8b2a041e3e634362bed38e0cd913d926": {
      "model_module": "@jupyter-widgets/base",
      "model_module_version": "1.2.0",
      "model_name": "LayoutModel",
      "state": {
       "border": "solid 2px",
       "padding": "1rem"
      }
     },
     "8b3d006938704b0785de129f2d81df2f": {
      "model_module": "@jupyter-widgets/controls",
      "model_module_version": "1.5.0",
      "model_name": "ButtonStyleModel",
      "state": {}
     },
     "8b3e103ccb3a4866ab6f1bfedea74ccf": {
      "model_module": "@jupyter-widgets/controls",
      "model_module_version": "1.5.0",
      "model_name": "DescriptionStyleModel",
      "state": {
       "description_width": ""
      }
     },
     "8b418f00a66f4d72a14545b6cb63ad54": {
      "model_module": "@jupyter-widgets/controls",
      "model_module_version": "1.5.0",
      "model_name": "DescriptionStyleModel",
      "state": {
       "description_width": ""
      }
     },
     "8b54e3a1aeee4f549feaa603e6838389": {
      "model_module": "@jupyter-widgets/controls",
      "model_module_version": "1.5.0",
      "model_name": "DescriptionStyleModel",
      "state": {
       "description_width": ""
      }
     },
     "8b782925cf91464a9b186b7e9c233090": {
      "model_module": "@jupyter-widgets/base",
      "model_module_version": "1.2.0",
      "model_name": "LayoutModel",
      "state": {}
     },
     "8ba9215d358a40d9975a42e7be4b38db": {
      "model_module": "@jupyter-widgets/controls",
      "model_module_version": "1.5.0",
      "model_name": "ButtonModel",
      "state": {
       "button_style": "warning",
       "description": "Check",
       "icon": "check",
       "layout": "IPY_MODEL_44ae4fd6d3cf4cd2b4388c166d0d915c",
       "style": "IPY_MODEL_ce174746678c43e5b226a2631133f779"
      }
     },
     "8bba9f6087624d498ec30f7aa48be349": {
      "model_module": "@jupyter-widgets/base",
      "model_module_version": "1.2.0",
      "model_name": "LayoutModel",
      "state": {}
     },
     "8bd2c9e832f541a4b13c8ad35ebeeaf9": {
      "model_module": "@jupyter-widgets/base",
      "model_module_version": "1.2.0",
      "model_name": "LayoutModel",
      "state": {
       "border": "solid 2px",
       "padding": "1rem"
      }
     },
     "8c13aaaf3b6041c6bc598c7f6ac99a15": {
      "model_module": "@jupyter-widgets/controls",
      "model_module_version": "1.5.0",
      "model_name": "ButtonModel",
      "state": {
       "layout": "IPY_MODEL_cc8ad1eea8d24428b2fe3d8af02356fd",
       "style": "IPY_MODEL_9cb85f1a38fe4823be3a3f2ce18457b4"
      }
     },
     "8c55d96e4b744060a7da43113345d43a": {
      "model_module": "@jupyter-widgets/base",
      "model_module_version": "1.2.0",
      "model_name": "LayoutModel",
      "state": {
       "width": "90px"
      }
     },
     "8cfcff34066143ea82a8de650912fce2": {
      "model_module": "@jupyter-widgets/base",
      "model_module_version": "1.2.0",
      "model_name": "LayoutModel",
      "state": {}
     },
     "8d27dbd2ef0741bf8a7b5693d4b823a3": {
      "model_module": "@jupyter-widgets/base",
      "model_module_version": "1.2.0",
      "model_name": "LayoutModel",
      "state": {}
     },
     "8d4f883ea37c46a4ab7c47b20a10758b": {
      "model_module": "@jupyter-widgets/base",
      "model_module_version": "1.2.0",
      "model_name": "LayoutModel",
      "state": {}
     },
     "8d5bdc473b37401fbffbbb9fff703b77": {
      "model_module": "@jupyter-widgets/base",
      "model_module_version": "1.2.0",
      "model_name": "LayoutModel",
      "state": {}
     },
     "8db4894940674008aabe477d6f3d736a": {
      "model_module": "@jupyter-widgets/base",
      "model_module_version": "1.2.0",
      "model_name": "LayoutModel",
      "state": {}
     },
     "8e140763186345fe8c08e6c6b4b7c8ff": {
      "model_module": "@jupyter-widgets/base",
      "model_module_version": "1.2.0",
      "model_name": "LayoutModel",
      "state": {}
     },
     "8e2c1d5d8bb54bb79186524936c7e113": {
      "model_module": "@jupyter-widgets/controls",
      "model_module_version": "1.5.0",
      "model_name": "RadioButtonsModel",
      "state": {
       "index": null,
       "layout": "IPY_MODEL_c5da3e01fb9e4919bf85a15286f08f9c",
       "style": "IPY_MODEL_9a59f00e51d949e7b0e9d6c8a9e347ca"
      }
     },
     "8e6fe94e568448b0ba5e90851a3c1669": {
      "model_module": "@jupyter-widgets/controls",
      "model_module_version": "1.5.0",
      "model_name": "DescriptionStyleModel",
      "state": {
       "description_width": ""
      }
     },
     "8ea4a8ce73504622bf04375f8c83cb43": {
      "model_module": "@jupyter-widgets/base",
      "model_module_version": "1.2.0",
      "model_name": "LayoutModel",
      "state": {
       "width": "90px"
      }
     },
     "8eaafb559b774c64995241b7e0ee51cc": {
      "model_module": "@jupyter-widgets/controls",
      "model_module_version": "1.5.0",
      "model_name": "TextareaModel",
      "state": {
       "disabled": true,
       "layout": "IPY_MODEL_03c48c5000ca4125ace20ecb50dd8acb",
       "placeholder": "",
       "style": "IPY_MODEL_862beaeaa073420b9ab3d7a7fc217750",
       "value": "Sum from 1 to 10 is 45\n"
      }
     },
     "8eca78a66e554f31b57f6d5bbbc45c7d": {
      "model_module": "@jupyter-widgets/controls",
      "model_module_version": "1.5.0",
      "model_name": "DescriptionStyleModel",
      "state": {
       "description_width": ""
      }
     },
     "8f0ad4697fec42589914c6cf2cabda24": {
      "model_module": "@jupyter-widgets/controls",
      "model_module_version": "1.5.0",
      "model_name": "DescriptionStyleModel",
      "state": {
       "description_width": ""
      }
     },
     "8f17506cd28f481094b6f3c866087872": {
      "model_module": "@jupyter-widgets/base",
      "model_module_version": "1.2.0",
      "model_name": "LayoutModel",
      "state": {}
     },
     "8f32f44a31ce41b69a1f2a52602be9bd": {
      "model_module": "@jupyter-widgets/controls",
      "model_module_version": "1.5.0",
      "model_name": "VBoxModel",
      "state": {
       "children": [
        "IPY_MODEL_cb72f9806fab44938c3823d3fd9a253d",
        "IPY_MODEL_7077e7765b104ed9a83176893bd3a30c",
        "IPY_MODEL_be0678164f5341bc91c8c3070e6ae9d0",
        "IPY_MODEL_acc89c07351649c1bb45ee306ef52287"
       ],
       "layout": "IPY_MODEL_79c070e8f679414db09ff7db556cee64"
      }
     },
     "8f542ee4d28746e59b8f29ea109258c4": {
      "model_module": "@jupyter-widgets/controls",
      "model_module_version": "1.5.0",
      "model_name": "ButtonStyleModel",
      "state": {}
     },
     "8f8a7a70bd53435c973421695d2b6532": {
      "model_module": "@jupyter-widgets/base",
      "model_module_version": "1.2.0",
      "model_name": "LayoutModel",
      "state": {}
     },
     "8f9d02bcfafe4006b8fef00c187de1b1": {
      "model_module": "@jupyter-widgets/base",
      "model_module_version": "1.2.0",
      "model_name": "LayoutModel",
      "state": {}
     },
     "8fc0fc03eb01482fb92aa539704c76b0": {
      "model_module": "@jupyter-widgets/controls",
      "model_module_version": "1.5.0",
      "model_name": "LabelModel",
      "state": {
       "layout": "IPY_MODEL_65b2d48767c2486e9f9b8e25c819e2c4",
       "style": "IPY_MODEL_d04db5017df9426e82e1794040afdf82",
       "value": "Write your own code:"
      }
     },
     "901995d6e91a4a959a8f39e429434ad3": {
      "model_module": "@jupyter-widgets/controls",
      "model_module_version": "1.5.0",
      "model_name": "ButtonStyleModel",
      "state": {}
     },
     "90356381d6244cb09f618f4590cdfad0": {
      "model_module": "@jupyter-widgets/base",
      "model_module_version": "1.2.0",
      "model_name": "LayoutModel",
      "state": {
       "border": "solid 2px",
       "padding": "1rem"
      }
     },
     "9076236be7604519a5ed0187c0752231": {
      "model_module": "@jupyter-widgets/controls",
      "model_module_version": "1.5.0",
      "model_name": "ButtonStyleModel",
      "state": {}
     },
     "907a9f2fa14947be943f06817408ea74": {
      "model_module": "@jupyter-widgets/controls",
      "model_module_version": "1.5.0",
      "model_name": "HTMLModel",
      "state": {
       "layout": "IPY_MODEL_ad1c09cfd5e14f09a3d3bc136e6f2617",
       "style": "IPY_MODEL_4bd5d974ac9a4fcf8b7e061bb9415304",
       "value": "(3) Which instruction completes the program to compute a triangle's area?<br>base = Get next input<br>height = Get next input<br>Assign x with base * height<br>_____<br>Put x to output<br>"
      }
     },
     "908f23e890d34c088e741e469a3ee56d": {
      "model_module": "@jupyter-widgets/controls",
      "model_module_version": "1.5.0",
      "model_name": "RadioButtonsModel",
      "state": {
       "_options_labels": [
        "if",
        "if else",
        "switch",
        "break"
       ],
       "index": 0,
       "layout": "IPY_MODEL_8d27dbd2ef0741bf8a7b5693d4b823a3",
       "style": "IPY_MODEL_4700f647883243d58aaa0dd9360f7bd5"
      }
     },
     "90956405bff445429b5576c278097086": {
      "model_module": "@jupyter-widgets/controls",
      "model_module_version": "1.5.0",
      "model_name": "VBoxModel",
      "state": {
       "layout": "IPY_MODEL_82ca37eb397a4cc4b3d8538a13a1583e"
      }
     },
     "910d7c3972e14009a539d73666227dbb": {
      "model_module": "@jupyter-widgets/base",
      "model_module_version": "1.2.0",
      "model_name": "LayoutModel",
      "state": {
       "border": "solid 2px",
       "padding": "1rem"
      }
     },
     "91304f3a98744bd98a00e0529149d4e7": {
      "model_module": "@jupyter-widgets/controls",
      "model_module_version": "1.5.0",
      "model_name": "HTMLModel",
      "state": {
       "layout": "IPY_MODEL_2f1bb770b2e7459eb04586983e8f7abe",
       "style": "IPY_MODEL_cd72a6a3a9254ede8edb0946674b50ee"
      }
     },
     "91698ff0c92f4ed3b44c215107cdbc44": {
      "model_module": "@jupyter-widgets/controls",
      "model_module_version": "1.5.0",
      "model_name": "ButtonStyleModel",
      "state": {}
     },
     "917942a5f0684767908986d6e77ef244": {
      "model_module": "@jupyter-widgets/controls",
      "model_module_version": "1.5.0",
      "model_name": "HTMLModel",
      "state": {
       "layout": "IPY_MODEL_19023c0b4dcf480fbc3f5e431663db7c",
       "style": "IPY_MODEL_dca4153b7a114c58a94a3ec8f884c585"
      }
     },
     "920b7f4a3a2f463faa7cb2d0520a2c94": {
      "model_module": "@jupyter-widgets/controls",
      "model_module_version": "1.5.0",
      "model_name": "ToggleButtonModel",
      "state": {
       "description": "Show code",
       "layout": "IPY_MODEL_e684c3c7570c4df48fdfcf86f38d4074",
       "style": "IPY_MODEL_9cdb3f3b61ad49838f2717a12b1be71a"
      }
     },
     "92931b00edf7434e8c2490b303d6d326": {
      "model_module": "@jupyter-widgets/controls",
      "model_module_version": "1.5.0",
      "model_name": "CheckboxModel",
      "state": {
       "disabled": true,
       "layout": "IPY_MODEL_c0241f50be1b4722928aa75dc5dc8528",
       "style": "IPY_MODEL_f41e623527654c408a6dd0e5330d4b17",
       "value": false
      }
     },
     "92a53da9d54c436dbe8e6ba4ba844983": {
      "model_module": "@jupyter-widgets/controls",
      "model_module_version": "1.5.0",
      "model_name": "ButtonModel",
      "state": {
       "layout": "IPY_MODEL_8d5bdc473b37401fbffbbb9fff703b77",
       "style": "IPY_MODEL_fd46710958ce4723a0b2597f78f9d5b0"
      }
     },
     "92b82ec6331240f39ce87186163ae782": {
      "model_module": "@jupyter-widgets/base",
      "model_module_version": "1.2.0",
      "model_name": "LayoutModel",
      "state": {
       "height": "200px",
       "width": "99%"
      }
     },
     "92da14211bed45309fa2da29bcbad1a0": {
      "model_module": "@jupyter-widgets/base",
      "model_module_version": "1.2.0",
      "model_name": "LayoutModel",
      "state": {}
     },
     "92eb4133657048a3ba9b6870a041b4a0": {
      "model_module": "@jupyter-widgets/base",
      "model_module_version": "1.2.0",
      "model_name": "LayoutModel",
      "state": {}
     },
     "935907e79578457d994f541b1fe40689": {
      "model_module": "@jupyter-widgets/base",
      "model_module_version": "1.2.0",
      "model_name": "LayoutModel",
      "state": {
       "border": "solid 2px",
       "padding": "1rem"
      }
     },
     "9370a888a23648c682733e00c65f3cd2": {
      "model_module": "@jupyter-widgets/controls",
      "model_module_version": "1.5.0",
      "model_name": "VBoxModel",
      "state": {
       "children": [
        "IPY_MODEL_907a9f2fa14947be943f06817408ea74",
        "IPY_MODEL_73c19df3d9ec4f5eb1b55f1e3f90d123",
        "IPY_MODEL_e3d66738ee0a40618d1064bb4ceac512",
        "IPY_MODEL_a6172d6087924c2c9d5d253ec995316b"
       ],
       "layout": "IPY_MODEL_47419d9eb1964b018ff9aef94d29fcbf"
      }
     },
     "93c94222226b43a59731e1f3c4fd0cbd": {
      "model_module": "@jupyter-widgets/base",
      "model_module_version": "1.2.0",
      "model_name": "LayoutModel",
      "state": {}
     },
     "93f3493f345e4929ab2b7ec35c45b3eb": {
      "model_module": "@jupyter-widgets/controls",
      "model_module_version": "1.5.0",
      "model_name": "VBoxModel",
      "state": {
       "layout": "IPY_MODEL_824b2ce0e76a41d9bbdc2f3af1f6a1e9"
      }
     },
     "9430a860877e4c1d8aeaacb78aaf3a89": {
      "model_module": "@jupyter-widgets/controls",
      "model_module_version": "1.5.0",
      "model_name": "DescriptionStyleModel",
      "state": {
       "description_width": ""
      }
     },
     "944a8a9696694cc1afa9f76db5629830": {
      "model_module": "@jupyter-widgets/controls",
      "model_module_version": "1.5.0",
      "model_name": "LabelModel",
      "state": {
       "layout": "IPY_MODEL_e98b2e4d588e411e8c200da0efedb40c",
       "style": "IPY_MODEL_f38a6ff98c854ac386eec0fb0217cf5b",
       "value": "Write your own code:"
      }
     },
     "945c1a26d02e4e27b9d48a1fa4392ad2": {
      "model_module": "@jupyter-widgets/controls",
      "model_module_version": "1.5.0",
      "model_name": "DescriptionStyleModel",
      "state": {
       "description_width": ""
      }
     },
     "949b2c7f46494012a517a7e4415077c2": {
      "model_module": "@jupyter-widgets/controls",
      "model_module_version": "1.5.0",
      "model_name": "DescriptionStyleModel",
      "state": {
       "description_width": ""
      }
     },
     "94de766f18b340288a9f49a3452592bb": {
      "model_module": "@jupyter-widgets/base",
      "model_module_version": "1.2.0",
      "model_name": "LayoutModel",
      "state": {
       "border": "solid 1px"
      }
     },
     "952bc5bfc8ba4b0b9458f962994006b8": {
      "model_module": "@jupyter-widgets/controls",
      "model_module_version": "1.5.0",
      "model_name": "LabelModel",
      "state": {
       "layout": "IPY_MODEL_7f4d7490d65b44adbeebcf4b151c0b61",
       "style": "IPY_MODEL_4e938705e7d74384a2b99bc9df8c910a",
       "value": "Write your own code:"
      }
     },
     "9584609b2df04a1f9ac54328f3ff1b7e": {
      "model_module": "@jupyter-widgets/base",
      "model_module_version": "1.2.0",
      "model_name": "LayoutModel",
      "state": {}
     },
     "95dfc30781884decad724d8afcc5775d": {
      "model_module": "@jupyter-widgets/controls",
      "model_module_version": "1.5.0",
      "model_name": "DescriptionStyleModel",
      "state": {
       "description_width": ""
      }
     },
     "96001c31c3e9490ba88ea940f16b005a": {
      "model_module": "@jupyter-widgets/controls",
      "model_module_version": "1.5.0",
      "model_name": "ButtonStyleModel",
      "state": {}
     },
     "96829cb84cf844c7874fae436638cd29": {
      "model_module": "@jupyter-widgets/controls",
      "model_module_version": "1.5.0",
      "model_name": "VBoxModel",
      "state": {
       "layout": "IPY_MODEL_a0b32aa32c854b09ae11aab625b8fb92"
      }
     },
     "96b72b294fdf46c4b2755f8016ba70e7": {
      "model_module": "@jupyter-widgets/base",
      "model_module_version": "1.2.0",
      "model_name": "LayoutModel",
      "state": {}
     },
     "971f8275baa244429ddb355834bd5d2d": {
      "model_module": "@jupyter-widgets/base",
      "model_module_version": "1.2.0",
      "model_name": "LayoutModel",
      "state": {}
     },
     "972f70122fdb4adcbff85cdb98904012": {
      "model_module": "@jupyter-widgets/base",
      "model_module_version": "1.2.0",
      "model_name": "LayoutModel",
      "state": {
       "border": "solid 2px",
       "padding": "1rem"
      }
     },
     "979c6f4e7a4946f8a57d1116e6cec709": {
      "model_module": "@jupyter-widgets/base",
      "model_module_version": "1.2.0",
      "model_name": "LayoutModel",
      "state": {}
     },
     "97fec136b74e494c9e93df8a6539edf2": {
      "model_module": "@jupyter-widgets/controls",
      "model_module_version": "1.5.0",
      "model_name": "DescriptionStyleModel",
      "state": {
       "description_width": ""
      }
     },
     "98484439efa34864b46d87c60f94a6e9": {
      "model_module": "@jupyter-widgets/controls",
      "model_module_version": "1.5.0",
      "model_name": "VBoxModel",
      "state": {
       "children": [
        "IPY_MODEL_0ba81a7aa21e4c82ab876aac882be03c",
        "IPY_MODEL_b2a339076adb459f8b8346a640b0992e"
       ],
       "layout": "IPY_MODEL_54a38f5dfdc94c4f99a9c8f1780344af"
      }
     },
     "986792a0568d42eabd64369eb69cd1fe": {
      "model_module": "@jupyter-widgets/base",
      "model_module_version": "1.2.0",
      "model_name": "LayoutModel",
      "state": {}
     },
     "98fbd56b25374b37acdc48afe8d2b97d": {
      "model_module": "@jupyter-widgets/controls",
      "model_module_version": "1.5.0",
      "model_name": "ButtonStyleModel",
      "state": {}
     },
     "991b9a0c408a44b9a929a3faad7fb009": {
      "model_module": "@jupyter-widgets/base",
      "model_module_version": "1.2.0",
      "model_name": "LayoutModel",
      "state": {
       "width": "90px"
      }
     },
     "99690236f0004d09bb718db986956f60": {
      "model_module": "@jupyter-widgets/controls",
      "model_module_version": "1.5.0",
      "model_name": "HTMLModel",
      "state": {
       "layout": "IPY_MODEL_3b04be85a9f44992b5f028549714f8c9",
       "style": "IPY_MODEL_5f20933ea4784bf582ec632cfa1a7afd"
      }
     },
     "9993601726ff413892799176f294d7fa": {
      "model_module": "@jupyter-widgets/controls",
      "model_module_version": "1.5.0",
      "model_name": "ButtonModel",
      "state": {
       "button_style": "warning",
       "description": "Check",
       "icon": "check",
       "layout": "IPY_MODEL_af302823c5c740c5840270c90a5c6358",
       "style": "IPY_MODEL_e83d4181f4ca41cf8eb69739daafac78"
      }
     },
     "99af418d7d2d4c069441793c5bbb34ce": {
      "model_module": "@jupyter-widgets/controls",
      "model_module_version": "1.5.0",
      "model_name": "HTMLModel",
      "state": {
       "layout": "IPY_MODEL_a325b8a11aef432bbebe41301a643606",
       "style": "IPY_MODEL_ce703546660649ccaee4c7fb16de871b"
      }
     },
     "99dce39dbea646319b029d402f88b3d3": {
      "model_module": "@jupyter-widgets/controls",
      "model_module_version": "1.5.0",
      "model_name": "TextareaModel",
      "state": {
       "layout": "IPY_MODEL_93c94222226b43a59731e1f3c4fd0cbd",
       "style": "IPY_MODEL_ee7f73db4ea044b5af207ab58121d58b"
      }
     },
     "99e5f057db414122917d6f94f64a5c92": {
      "model_module": "@jupyter-widgets/controls",
      "model_module_version": "1.5.0",
      "model_name": "VBoxModel",
      "state": {
       "layout": "IPY_MODEL_12a2fd5c11a341ea8aea9ef0fc818b46"
      }
     },
     "9a10a9e4812f41f091c417aee172ccfd": {
      "model_module": "@jupyter-widgets/controls",
      "model_module_version": "1.5.0",
      "model_name": "DescriptionStyleModel",
      "state": {
       "description_width": ""
      }
     },
     "9a59f00e51d949e7b0e9d6c8a9e347ca": {
      "model_module": "@jupyter-widgets/controls",
      "model_module_version": "1.5.0",
      "model_name": "DescriptionStyleModel",
      "state": {
       "description_width": ""
      }
     },
     "9a9e56669e4a472ebcb4140718b8175c": {
      "model_module": "@jupyter-widgets/controls",
      "model_module_version": "1.5.0",
      "model_name": "TextareaModel",
      "state": {
       "layout": "IPY_MODEL_0c332d1738e24c77815408809f41c9c5",
       "placeholder": "",
       "style": "IPY_MODEL_4e35e8fbc589414bb3d1a405bfedc1ac"
      }
     },
     "9adad2b84ddc439da804d55ad2f4d547": {
      "model_module": "@jupyter-widgets/controls",
      "model_module_version": "1.5.0",
      "model_name": "ButtonStyleModel",
      "state": {}
     },
     "9b281f37856c435aa6023c1496ae7355": {
      "model_module": "@jupyter-widgets/base",
      "model_module_version": "1.2.0",
      "model_name": "LayoutModel",
      "state": {
       "border": "solid 2px",
       "padding": "1rem"
      }
     },
     "9b7ad9dee1eb4b6388c6d2df903495d7": {
      "model_module": "@jupyter-widgets/base",
      "model_module_version": "1.2.0",
      "model_name": "LayoutModel",
      "state": {}
     },
     "9bc4c61cbafa427d8eba22b322f4b45c": {
      "model_module": "@jupyter-widgets/base",
      "model_module_version": "1.2.0",
      "model_name": "LayoutModel",
      "state": {}
     },
     "9bdac5fb2e214a458c657b022cc27291": {
      "model_module": "@jupyter-widgets/base",
      "model_module_version": "1.2.0",
      "model_name": "LayoutModel",
      "state": {
       "height": "200px",
       "width": "99%"
      }
     },
     "9bed7be4015440759c58811db8fe7a03": {
      "model_module": "@jupyter-widgets/controls",
      "model_module_version": "1.5.0",
      "model_name": "DescriptionStyleModel",
      "state": {
       "description_width": ""
      }
     },
     "9c49655c0ab64b9488e0dc8c25e27fc6": {
      "model_module": "@jupyter-widgets/controls",
      "model_module_version": "1.5.0",
      "model_name": "DescriptionStyleModel",
      "state": {
       "description_width": ""
      }
     },
     "9cb85f1a38fe4823be3a3f2ce18457b4": {
      "model_module": "@jupyter-widgets/controls",
      "model_module_version": "1.5.0",
      "model_name": "ButtonStyleModel",
      "state": {}
     },
     "9cc3b1cbf55f4a8699f564f7d8ceb99c": {
      "model_module": "@jupyter-widgets/controls",
      "model_module_version": "1.5.0",
      "model_name": "HTMLModel",
      "state": {
       "layout": "IPY_MODEL_8d4f883ea37c46a4ab7c47b20a10758b",
       "style": "IPY_MODEL_8eca78a66e554f31b57f6d5bbbc45c7d"
      }
     },
     "9cdb3f3b61ad49838f2717a12b1be71a": {
      "model_module": "@jupyter-widgets/controls",
      "model_module_version": "1.5.0",
      "model_name": "DescriptionStyleModel",
      "state": {
       "description_width": ""
      }
     },
     "9d0bd55fade047e88798fea35b444fff": {
      "model_module": "@jupyter-widgets/controls",
      "model_module_version": "1.5.0",
      "model_name": "DescriptionStyleModel",
      "state": {
       "description_width": ""
      }
     },
     "9d412ab520ea4e119d6c3e4a3a04c726": {
      "model_module": "@jupyter-widgets/controls",
      "model_module_version": "1.5.0",
      "model_name": "VBoxModel",
      "state": {
       "children": [
        "IPY_MODEL_ce7e84df1e6a4c049c00305b8f6d5186",
        "IPY_MODEL_25ac03b763df4d1795d9b1b529793b7a"
       ],
       "layout": "IPY_MODEL_6b4247c5c3dc44ada48b1b8eb435ff21"
      }
     },
     "9d695b1d6af04e0a906a30ec1ed5748c": {
      "model_module": "@jupyter-widgets/controls",
      "model_module_version": "1.5.0",
      "model_name": "TextareaModel",
      "state": {
       "layout": "IPY_MODEL_1a005dc60ccb410c90d92b00e6035813",
       "style": "IPY_MODEL_59271aaf37e8462db8dcc271d5372aaa"
      }
     },
     "9d92ffb171084d7c9085050775ae839e": {
      "model_module": "@jupyter-widgets/controls",
      "model_module_version": "1.5.0",
      "model_name": "HTMLModel",
      "state": {
       "layout": "IPY_MODEL_ad784955d52444759ba89b452b9272c0",
       "style": "IPY_MODEL_fee7f37723c34780a7a63b932116ace7"
      }
     },
     "9dafc546b96e49e686bcd85fc050d80c": {
      "model_module": "@jupyter-widgets/controls",
      "model_module_version": "1.5.0",
      "model_name": "ButtonStyleModel",
      "state": {}
     },
     "9de26c71510148fbb08e96c8708d1400": {
      "model_module": "@jupyter-widgets/controls",
      "model_module_version": "1.5.0",
      "model_name": "DescriptionStyleModel",
      "state": {
       "description_width": ""
      }
     },
     "9dfd6d0ec7ae416b91e9c29737c36105": {
      "model_module": "@jupyter-widgets/controls",
      "model_module_version": "1.5.0",
      "model_name": "CheckboxModel",
      "state": {
       "disabled": true,
       "layout": "IPY_MODEL_52449dd0a707442d9dc9f4a94601abe4",
       "style": "IPY_MODEL_6f611533a1da41aaa7fdf568d34677c9",
       "value": false
      }
     },
     "9e38631ee8de40d79f181c09a0d48c68": {
      "model_module": "@jupyter-widgets/base",
      "model_module_version": "1.2.0",
      "model_name": "LayoutModel",
      "state": {
       "width": "90px"
      }
     },
     "9e5f001325264e0ca32c8da10c57381e": {
      "model_module": "@jupyter-widgets/controls",
      "model_module_version": "1.5.0",
      "model_name": "DescriptionStyleModel",
      "state": {
       "description_width": ""
      }
     },
     "9e7bee5c27c04d35aebebaa586634a2d": {
      "model_module": "@jupyter-widgets/controls",
      "model_module_version": "1.5.0",
      "model_name": "DescriptionStyleModel",
      "state": {
       "description_width": ""
      }
     },
     "9e7d0221e9334dbc887ad8b06a2a29ba": {
      "model_module": "@jupyter-widgets/base",
      "model_module_version": "1.2.0",
      "model_name": "LayoutModel",
      "state": {}
     },
     "9e7ede38141d47f7945caf24b04219eb": {
      "model_module": "@jupyter-widgets/base",
      "model_module_version": "1.2.0",
      "model_name": "LayoutModel",
      "state": {}
     },
     "9e83a011c39845e8b4097b5978c15c75": {
      "model_module": "@jupyter-widgets/controls",
      "model_module_version": "1.5.0",
      "model_name": "TextareaModel",
      "state": {
       "disabled": true,
       "layout": "IPY_MODEL_81f460c9fb0746479bb165231315945d",
       "placeholder": "",
       "style": "IPY_MODEL_b4a4fc745be845abb75c4ce476630984",
       "value": "c:/mingw/bin/../lib/gcc/mingw32/6.3.0/../../../../mingw32/bin/ld.exe: cannot open output file .\\exercises\\exer4.exe: Permission denied\ncollect2.exe: error: ld returned 1 exit status\n"
      }
     },
     "9e9544c079714a71beb259ecf9e00e66": {
      "model_module": "@jupyter-widgets/controls",
      "model_module_version": "1.5.0",
      "model_name": "ButtonModel",
      "state": {
       "button_style": "warning",
       "description": "Run Code",
       "icon": "check",
       "layout": "IPY_MODEL_23df6b04fb814993a09aa1e02c0f0537",
       "style": "IPY_MODEL_c794edf9307248a1bc9c7825cd5cabd8"
      }
     },
     "9ea421af0143424cbc217c0cff1163a8": {
      "model_module": "@jupyter-widgets/controls",
      "model_module_version": "1.5.0",
      "model_name": "RadioButtonsModel",
      "state": {
       "_options_labels": [
        "Multiply x by 2",
        "Add 2 to x",
        "Multiply x by 1/2"
       ],
       "index": 1,
       "layout": "IPY_MODEL_4d89c158ba8c4ba89c6f939183d97fc2",
       "style": "IPY_MODEL_7ee6a1e40e53411695f400671d4c63e0"
      }
     },
     "9ed85b8152cc42de8f9f20613c14bc30": {
      "model_module": "@jupyter-widgets/base",
      "model_module_version": "1.2.0",
      "model_name": "LayoutModel",
      "state": {}
     },
     "9ed97ff70c3245fb87c7af6225444eb2": {
      "model_module": "@jupyter-widgets/base",
      "model_module_version": "1.2.0",
      "model_name": "LayoutModel",
      "state": {}
     },
     "9f07f82f086a49bc8331f2b26cda556e": {
      "model_module": "@jupyter-widgets/controls",
      "model_module_version": "1.5.0",
      "model_name": "DescriptionStyleModel",
      "state": {
       "description_width": ""
      }
     },
     "9f0d98af19984f11b4beeb9dbd7cd7d5": {
      "model_module": "@jupyter-widgets/controls",
      "model_module_version": "1.5.0",
      "model_name": "DescriptionStyleModel",
      "state": {
       "description_width": ""
      }
     },
     "9f15e1d6e36c42d28af2dc0e1fab8d7f": {
      "model_module": "@jupyter-widgets/controls",
      "model_module_version": "1.5.0",
      "model_name": "DescriptionStyleModel",
      "state": {
       "description_width": ""
      }
     },
     "9f4ed162505e41f6b7cacdff5839c57e": {
      "model_module": "@jupyter-widgets/controls",
      "model_module_version": "1.5.0",
      "model_name": "ButtonStyleModel",
      "state": {}
     },
     "9f8aab897bc54537bb7409a30c317758": {
      "model_module": "@jupyter-widgets/base",
      "model_module_version": "1.2.0",
      "model_name": "LayoutModel",
      "state": {}
     },
     "9f8fcf2c52f64f388d3d3cc5fc10f3e5": {
      "model_module": "@jupyter-widgets/controls",
      "model_module_version": "1.5.0",
      "model_name": "ButtonStyleModel",
      "state": {}
     },
     "9fbd3d9583e3448f88e5969c18afead1": {
      "model_module": "@jupyter-widgets/controls",
      "model_module_version": "1.5.0",
      "model_name": "TextareaModel",
      "state": {
       "layout": "IPY_MODEL_5eef3533c0bb45aaae43f711a3579d3a",
       "style": "IPY_MODEL_2a70c7b6c96b417ca33e672812f25545"
      }
     },
     "9ffb51773ed94a27ac1db122715d54da": {
      "model_module": "@jupyter-widgets/controls",
      "model_module_version": "1.5.0",
      "model_name": "ButtonStyleModel",
      "state": {}
     },
     "a015570e34fd42739e94d8a997af45f9": {
      "model_module": "@jupyter-widgets/controls",
      "model_module_version": "1.5.0",
      "model_name": "VBoxModel",
      "state": {
       "children": [
        "IPY_MODEL_25e30dd1ce794659b37666ff331ad854",
        "IPY_MODEL_a88304ecafd446f19e2bfdf6cdc38e53"
       ],
       "layout": "IPY_MODEL_733765a59e8747de813dbe30cfc792f1"
      }
     },
     "a024def11b5d4cee95e34d82f181e216": {
      "model_module": "@jupyter-widgets/base",
      "model_module_version": "1.2.0",
      "model_name": "LayoutModel",
      "state": {}
     },
     "a031cd0401e24d50a93d9e1aa5b575d7": {
      "model_module": "@jupyter-widgets/base",
      "model_module_version": "1.2.0",
      "model_name": "LayoutModel",
      "state": {}
     },
     "a0711759c6e3455e99345c5fa178bea6": {
      "model_module": "@jupyter-widgets/controls",
      "model_module_version": "1.5.0",
      "model_name": "DescriptionStyleModel",
      "state": {
       "description_width": ""
      }
     },
     "a0b32aa32c854b09ae11aab625b8fb92": {
      "model_module": "@jupyter-widgets/base",
      "model_module_version": "1.2.0",
      "model_name": "LayoutModel",
      "state": {}
     },
     "a15b2f0e095249cbb2447d1b8ff35ded": {
      "model_module": "@jupyter-widgets/base",
      "model_module_version": "1.2.0",
      "model_name": "LayoutModel",
      "state": {}
     },
     "a1ae9af2d43f4225824a5cdc1cfc1a6c": {
      "model_module": "@jupyter-widgets/controls",
      "model_module_version": "1.5.0",
      "model_name": "HTMLModel",
      "state": {
       "layout": "IPY_MODEL_6aa794b1d9ad4ae89e117e2bc1d1ae91",
       "style": "IPY_MODEL_a694d47f56a44e32856f53f814b2ada4",
       "value": "<font color='green'> if문, switch문이 조건문에 해당한다."
      }
     },
     "a21e03388e0f449d9c0fa16d37880d19": {
      "model_module": "@jupyter-widgets/controls",
      "model_module_version": "1.5.0",
      "model_name": "DescriptionStyleModel",
      "state": {
       "description_width": ""
      }
     },
     "a27a75c26928443fa89f909a4d2abe3c": {
      "model_module": "@jupyter-widgets/base",
      "model_module_version": "1.2.0",
      "model_name": "LayoutModel",
      "state": {}
     },
     "a2ae1ab3933e4ea794a4fad1f7c43df1": {
      "model_module": "@jupyter-widgets/controls",
      "model_module_version": "1.5.0",
      "model_name": "VBoxModel",
      "state": {
       "layout": "IPY_MODEL_c82ed9ca155e492da19b28ba5aa22b16"
      }
     },
     "a30b830dc3ca40ada0507dc3df09490c": {
      "model_module": "@jupyter-widgets/controls",
      "model_module_version": "1.5.0",
      "model_name": "ButtonModel",
      "state": {
       "layout": "IPY_MODEL_b762db4375e54d01b7b6c53226a2dad8",
       "style": "IPY_MODEL_83d470c8e92e44e7acf75840773084c4"
      }
     },
     "a31170dbe1194b879fc8bba7cc261e3a": {
      "model_module": "@jupyter-widgets/controls",
      "model_module_version": "1.5.0",
      "model_name": "DescriptionStyleModel",
      "state": {
       "description_width": ""
      }
     },
     "a325b8a11aef432bbebe41301a643606": {
      "model_module": "@jupyter-widgets/base",
      "model_module_version": "1.2.0",
      "model_name": "LayoutModel",
      "state": {}
     },
     "a3546cc0821b4ad6a219ece4454ace72": {
      "model_module": "@jupyter-widgets/base",
      "model_module_version": "1.2.0",
      "model_name": "LayoutModel",
      "state": {}
     },
     "a3594c4c4c9a49f2b01c1ca0c6ee38ee": {
      "model_module": "@jupyter-widgets/controls",
      "model_module_version": "1.5.0",
      "model_name": "HTMLModel",
      "state": {
       "layout": "IPY_MODEL_32ec6a3b53da4a359df35f21c7c12c6f",
       "style": "IPY_MODEL_fe00a5a6612b434aa44c22cf56a18116"
      }
     },
     "a3bfaca01bb0440ca3b0fe7c9f761b2f": {
      "model_module": "@jupyter-widgets/controls",
      "model_module_version": "1.5.0",
      "model_name": "DescriptionStyleModel",
      "state": {
       "description_width": ""
      }
     },
     "a42edb716dfe430c8621e0f09c3f58c9": {
      "model_module": "@jupyter-widgets/controls",
      "model_module_version": "1.5.0",
      "model_name": "DescriptionStyleModel",
      "state": {
       "description_width": ""
      }
     },
     "a5202f3a4b414b7c91761bb733a08392": {
      "model_module": "@jupyter-widgets/controls",
      "model_module_version": "1.5.0",
      "model_name": "DescriptionStyleModel",
      "state": {
       "description_width": ""
      }
     },
     "a5a67dc782a149c9a911d50d25b74056": {
      "model_module": "@jupyter-widgets/controls",
      "model_module_version": "1.5.0",
      "model_name": "HTMLModel",
      "state": {
       "layout": "IPY_MODEL_777b17ab692d40b183e1be31ffe4b35c",
       "style": "IPY_MODEL_4c925a66fda24f12be2b3324370862dd"
      }
     },
     "a60b05b7fb624cbfae0c5ac53f5f0a6f": {
      "model_module": "@jupyter-widgets/controls",
      "model_module_version": "1.5.0",
      "model_name": "HTMLModel",
      "state": {
       "layout": "IPY_MODEL_0a7985c53e9249a098f11370f9f565cd",
       "style": "IPY_MODEL_f6149be9d9094cf5b8744f1ff45b3694"
      }
     },
     "a6172d6087924c2c9d5d253ec995316b": {
      "model_module": "@jupyter-widgets/controls",
      "model_module_version": "1.5.0",
      "model_name": "HTMLModel",
      "state": {
       "layout": "IPY_MODEL_06e92306f11f45cb8f0b1e8c2e7cc183",
       "style": "IPY_MODEL_324f1091244a4b50a90ee2bfd311c209"
      }
     },
     "a694d47f56a44e32856f53f814b2ada4": {
      "model_module": "@jupyter-widgets/controls",
      "model_module_version": "1.5.0",
      "model_name": "DescriptionStyleModel",
      "state": {
       "description_width": ""
      }
     },
     "a6a3aff5c8204ffba5f3d1dc04484ec1": {
      "model_module": "@jupyter-widgets/controls",
      "model_module_version": "1.5.0",
      "model_name": "VBoxModel",
      "state": {
       "layout": "IPY_MODEL_758b63e43a2a4e45ad1afb68bb211dcc"
      }
     },
     "a6e81bb7d1a1420f9cb7e1b9cb74eb78": {
      "model_module": "@jupyter-widgets/base",
      "model_module_version": "1.2.0",
      "model_name": "LayoutModel",
      "state": {}
     },
     "a7a5e500dcec4c27a8dbfcd2b9cdc69c": {
      "model_module": "@jupyter-widgets/controls",
      "model_module_version": "1.5.0",
      "model_name": "VBoxModel",
      "state": {
       "layout": "IPY_MODEL_cde97597bd6749e3b198399d860eebdf"
      }
     },
     "a7adcdbcf4b844fcab2d5a904d26450f": {
      "model_module": "@jupyter-widgets/controls",
      "model_module_version": "1.5.0",
      "model_name": "LabelModel",
      "state": {
       "layout": "IPY_MODEL_52ac86f4541b465583d4d739d25b1e8b",
       "style": "IPY_MODEL_68d5227c9b0a48e1925196fc49ee0b8e",
       "value": "Output: "
      }
     },
     "a7f5949986d942a6b91d1511c1edff60": {
      "model_module": "@jupyter-widgets/controls",
      "model_module_version": "1.5.0",
      "model_name": "VBoxModel",
      "state": {
       "children": [
        "IPY_MODEL_c2dbc382bc314846aac2334f61c983d7",
        "IPY_MODEL_54d5fc98ceea425ba43c063b6a1f3d3a",
        "IPY_MODEL_0482b5b3d4bc4c838cc9407580512491",
        "IPY_MODEL_a1ae9af2d43f4225824a5cdc1cfc1a6c"
       ],
       "layout": "IPY_MODEL_ea5792186060471e81f0d51e0c916d0f"
      }
     },
     "a8033a728a82492f95182a0732b268c9": {
      "model_module": "@jupyter-widgets/controls",
      "model_module_version": "1.5.0",
      "model_name": "VBoxModel",
      "state": {
       "children": [
        "IPY_MODEL_1493c10078c9482a86bd6c500f9eee41",
        "IPY_MODEL_583720b4f35c4bbc95b5e5f29a87609c"
       ],
       "layout": "IPY_MODEL_0e19691b6c384a5ea1e965064e9837ba"
      }
     },
     "a810d9735ce64f3c8bb8c23d5e672c39": {
      "model_module": "@jupyter-widgets/controls",
      "model_module_version": "1.5.0",
      "model_name": "LabelModel",
      "state": {
       "layout": "IPY_MODEL_e52254bfed504510b40a889d6dfb2b41",
       "style": "IPY_MODEL_04621a310dd84e99930c6a139327672f",
       "value": "Output:"
      }
     },
     "a853b5f367ac4772b7eef6bc26f5a17b": {
      "model_module": "@jupyter-widgets/controls",
      "model_module_version": "1.5.0",
      "model_name": "RadioButtonsModel",
      "state": {
       "index": null,
       "layout": "IPY_MODEL_dea96104bd654f68b097d6cc6a239b2c",
       "style": "IPY_MODEL_04bb9b4410cf4ed1921b6e8f30033e86"
      }
     },
     "a88304ecafd446f19e2bfdf6cdc38e53": {
      "model_module": "@jupyter-widgets/controls",
      "model_module_version": "1.5.0",
      "model_name": "TextareaModel",
      "state": {
       "layout": "IPY_MODEL_7538b218dd7c49cbb83a16a2ada90fda",
       "placeholder": "",
       "style": "IPY_MODEL_730f99f214c34a9a9f230f9a8e110ebc",
       "value": "#include <stdio.h>\n\nint main(void) {\n    int mult, n, i;\n    \n    for (;;) {\n        printf(\"Insert any number from 1 to 20 (0 to exit): \");\n        scanf(\"%d\", &n);\n        if(n<=0)\n            break;\n        for(i=1, mult = 1;i<=n;i++)\n            mult *= i;\n        printf(\"n! is: %d\\n\", mult);\n    }\n    puts(\"Exit..\");\n    \n    return 0;\n        \n}"
      }
     },
     "a897d23a55074ebc898f5b91c287dd36": {
      "model_module": "@jupyter-widgets/base",
      "model_module_version": "1.2.0",
      "model_name": "LayoutModel",
      "state": {
       "border": "solid 2px",
       "padding": "1rem"
      }
     },
     "a9581887fec74d2089fb21636f5a13b3": {
      "model_module": "@jupyter-widgets/base",
      "model_module_version": "1.2.0",
      "model_name": "LayoutModel",
      "state": {}
     },
     "a96ee2c456ef4cf18a319d07e4090854": {
      "model_module": "@jupyter-widgets/base",
      "model_module_version": "1.2.0",
      "model_name": "LayoutModel",
      "state": {}
     },
     "a9d2383ea7ea49c4a51f9904f5ae30c4": {
      "model_module": "@jupyter-widgets/controls",
      "model_module_version": "1.5.0",
      "model_name": "DescriptionStyleModel",
      "state": {
       "description_width": ""
      }
     },
     "aa94aa75929a4c5c8af2967db03e6b4d": {
      "model_module": "@jupyter-widgets/controls",
      "model_module_version": "1.5.0",
      "model_name": "CheckboxModel",
      "state": {
       "disabled": true,
       "layout": "IPY_MODEL_14f09736dcdf42aaa8e0bf8e522fec2e",
       "style": "IPY_MODEL_cc2f4955cac44c8097001b894bf8e52e",
       "value": false
      }
     },
     "aac3c0157a85483da4cb54af985cf375": {
      "model_module": "@jupyter-widgets/base",
      "model_module_version": "1.2.0",
      "model_name": "LayoutModel",
      "state": {
       "width": "90px"
      }
     },
     "aaddc8f2ad364974a6016504a52d4aa3": {
      "model_module": "@jupyter-widgets/controls",
      "model_module_version": "1.5.0",
      "model_name": "DescriptionStyleModel",
      "state": {
       "description_width": ""
      }
     },
     "aae927f4eb6248d4a60bb1630b2fe4d9": {
      "model_module": "@jupyter-widgets/base",
      "model_module_version": "1.2.0",
      "model_name": "LayoutModel",
      "state": {}
     },
     "ab07a3e385db4370ab29540970c0c243": {
      "model_module": "@jupyter-widgets/controls",
      "model_module_version": "1.5.0",
      "model_name": "LabelModel",
      "state": {
       "layout": "IPY_MODEL_8005adca951d4fd1a4a2cb94e5b2e98d",
       "style": "IPY_MODEL_2a587c55b3304331ae7e25390777e49f",
       "value": "Output:"
      }
     },
     "ab4f2237b8054b13b318486e7ea46704": {
      "model_module": "@jupyter-widgets/base",
      "model_module_version": "1.2.0",
      "model_name": "LayoutModel",
      "state": {
       "height": "100px",
       "width": "250px"
      }
     },
     "ab91ce4946914efbaaf9afab9acaf297": {
      "model_module": "@jupyter-widgets/base",
      "model_module_version": "1.2.0",
      "model_name": "LayoutModel",
      "state": {}
     },
     "abb1c2be07584970ba3c09b2f91b1b7a": {
      "model_module": "@jupyter-widgets/controls",
      "model_module_version": "1.5.0",
      "model_name": "VBoxModel",
      "state": {
       "children": [
        "IPY_MODEL_19587b1b9ff5491e9ff32ec1d9582209",
        "IPY_MODEL_f56d6f358d3f4facb1e40499cdd43d20",
        "IPY_MODEL_e32065718b26426f85f0f625c512452b",
        "IPY_MODEL_fe77364fd97a49218a7593ed1f7c9070"
       ],
       "layout": "IPY_MODEL_8bd2c9e832f541a4b13c8ad35ebeeaf9"
      }
     },
     "ac2ad0aeba9f4725be91786d7b66d5a9": {
      "model_module": "@jupyter-widgets/base",
      "model_module_version": "1.2.0",
      "model_name": "LayoutModel",
      "state": {}
     },
     "ac9e334cb55b4727b3658bbe9c5f5997": {
      "model_module": "@jupyter-widgets/base",
      "model_module_version": "1.2.0",
      "model_name": "LayoutModel",
      "state": {}
     },
     "aca88839378f42798fb2a522cc4e61b5": {
      "model_module": "@jupyter-widgets/base",
      "model_module_version": "1.2.0",
      "model_name": "LayoutModel",
      "state": {}
     },
     "acc89c07351649c1bb45ee306ef52287": {
      "model_module": "@jupyter-widgets/controls",
      "model_module_version": "1.5.0",
      "model_name": "HTMLModel",
      "state": {
       "layout": "IPY_MODEL_8078cd358d2b40d8a4d99f42833f29b7",
       "style": "IPY_MODEL_609b85ff733a4bae825617964c7ead1f"
      }
     },
     "ad1b33495be34407845c081f3f847bc1": {
      "model_module": "@jupyter-widgets/controls",
      "model_module_version": "1.5.0",
      "model_name": "ButtonStyleModel",
      "state": {}
     },
     "ad1c09cfd5e14f09a3d3bc136e6f2617": {
      "model_module": "@jupyter-widgets/base",
      "model_module_version": "1.2.0",
      "model_name": "LayoutModel",
      "state": {}
     },
     "ad784955d52444759ba89b452b9272c0": {
      "model_module": "@jupyter-widgets/base",
      "model_module_version": "1.2.0",
      "model_name": "LayoutModel",
      "state": {}
     },
     "ad975cc76a9542a4bbcd2986f4127527": {
      "model_module": "@jupyter-widgets/base",
      "model_module_version": "1.2.0",
      "model_name": "LayoutModel",
      "state": {}
     },
     "adde9b01765d4150b1098d98be4730f8": {
      "model_module": "@jupyter-widgets/controls",
      "model_module_version": "1.5.0",
      "model_name": "LabelModel",
      "state": {
       "layout": "IPY_MODEL_73b9219a9103458788683bd3889306da",
       "style": "IPY_MODEL_7a363018812b4590959772ab4667ba7f",
       "value": "Output: "
      }
     },
     "ae07da436d8e4a579645020137f5e415": {
      "model_module": "@jupyter-widgets/controls",
      "model_module_version": "1.5.0",
      "model_name": "ToggleButtonModel",
      "state": {
       "description": "Show code",
       "layout": "IPY_MODEL_86db8ce6ed0b43849e4d6c4e926e121b",
       "style": "IPY_MODEL_8721304aab9243299854abe2537ea000"
      }
     },
     "ae08e67ec44f465d97098d8cd3f1aca0": {
      "model_module": "@jupyter-widgets/controls",
      "model_module_version": "1.5.0",
      "model_name": "VBoxModel",
      "state": {
       "children": [
        "IPY_MODEL_ae53a9e1c2a74d5a96e1b73c67f8fa47",
        "IPY_MODEL_2cc44b24a0ae497aa4bea85a9b768114",
        "IPY_MODEL_b97466c395904d849db87adac0e19d19",
        "IPY_MODEL_74d65d4eacee41b7bd6e7def6db64312"
       ],
       "layout": "IPY_MODEL_b0af24ba1ade49bba58fc40ed9a630b6"
      }
     },
     "ae308401b0f7460583a6c428006476b5": {
      "model_module": "@jupyter-widgets/controls",
      "model_module_version": "1.5.0",
      "model_name": "TextareaModel",
      "state": {
       "disabled": true,
       "layout": "IPY_MODEL_ffeccb5f78b54c3db2c27e752b336e67",
       "placeholder": "",
       "style": "IPY_MODEL_d8a4050fcd1042ec912e399c98fa94d4"
      }
     },
     "ae3e03dd97c34d648ed6912413bd08b4": {
      "model_module": "@jupyter-widgets/controls",
      "model_module_version": "1.5.0",
      "model_name": "DescriptionStyleModel",
      "state": {
       "description_width": ""
      }
     },
     "ae53a9e1c2a74d5a96e1b73c67f8fa47": {
      "model_module": "@jupyter-widgets/controls",
      "model_module_version": "1.5.0",
      "model_name": "HTMLModel",
      "state": {
       "layout": "IPY_MODEL_157e04c80ca44c1c8f0075550b98c3f7",
       "style": "IPY_MODEL_b57b580642d340d3957df8efdec21110",
       "value": "다음 중에서 조건 선택에 해당되지 않는 제어문은 무엇인가?"
      }
     },
     "ae64f07d1c93467a9c574f22c8f1bf74": {
      "model_module": "@jupyter-widgets/base",
      "model_module_version": "1.2.0",
      "model_name": "LayoutModel",
      "state": {}
     },
     "ae8d0c7eefce42eaa32a391b62a089c2": {
      "model_module": "@jupyter-widgets/base",
      "model_module_version": "1.2.0",
      "model_name": "LayoutModel",
      "state": {
       "border": "solid 2px",
       "padding": "1rem"
      }
     },
     "aefc88a7be4e4c2f9e23f36d1ad62cc1": {
      "model_module": "@jupyter-widgets/controls",
      "model_module_version": "1.5.0",
      "model_name": "HBoxModel",
      "state": {
       "children": [
        "IPY_MODEL_e96021484d5e41b2a346adc5b46fb021",
        "IPY_MODEL_3642ad6a4bba4a4599182bedb2e34dbd"
       ],
       "layout": "IPY_MODEL_e9ea53b908e84a8d955dc040f9ad7a8d"
      }
     },
     "af05eaa285a849d3997883d056f4dc0a": {
      "model_module": "@jupyter-widgets/controls",
      "model_module_version": "1.5.0",
      "model_name": "DescriptionStyleModel",
      "state": {
       "description_width": ""
      }
     },
     "af11978c4c214e02a03cdf68c628e5bc": {
      "model_module": "@jupyter-widgets/controls",
      "model_module_version": "1.5.0",
      "model_name": "ButtonModel",
      "state": {
       "button_style": "warning",
       "description": "Check",
       "icon": "check",
       "layout": "IPY_MODEL_4faa27b3f88342e18841e6735c134449",
       "style": "IPY_MODEL_beb055fce8454a26ac82a93cbd76aeaa"
      }
     },
     "af18db21edf7423d857fe4e34bb22577": {
      "model_module": "@jupyter-widgets/base",
      "model_module_version": "1.2.0",
      "model_name": "LayoutModel",
      "state": {
       "width": "100%"
      }
     },
     "af1a00ed435b4ec9b7f50c600cabb9ea": {
      "model_module": "@jupyter-widgets/base",
      "model_module_version": "1.2.0",
      "model_name": "LayoutModel",
      "state": {
       "border": "solid 2px",
       "padding": "1rem"
      }
     },
     "af2040d349744cb2bba856e8171becf1": {
      "model_module": "@jupyter-widgets/controls",
      "model_module_version": "1.5.0",
      "model_name": "ButtonModel",
      "state": {
       "button_style": "warning",
       "description": "Run Code",
       "icon": "check",
       "layout": "IPY_MODEL_21838ad2f5b242948a3e873d2acdebac",
       "style": "IPY_MODEL_59a80ebf16b44bd1bf3ea36272120b5c"
      }
     },
     "af302823c5c740c5840270c90a5c6358": {
      "model_module": "@jupyter-widgets/base",
      "model_module_version": "1.2.0",
      "model_name": "LayoutModel",
      "state": {
       "width": "90px"
      }
     },
     "af5cb834aa1342989694f518bbcda7f2": {
      "model_module": "@jupyter-widgets/controls",
      "model_module_version": "1.5.0",
      "model_name": "VBoxModel",
      "state": {
       "layout": "IPY_MODEL_d27162d2027a4b6798a56d97385556cb"
      }
     },
     "af5f7db37fd64f2890ee8e18b3a4ad71": {
      "model_module": "@jupyter-widgets/controls",
      "model_module_version": "1.5.0",
      "model_name": "DescriptionStyleModel",
      "state": {
       "description_width": ""
      }
     },
     "afc25e50d32a41568cb67a6704251d9a": {
      "model_module": "@jupyter-widgets/controls",
      "model_module_version": "1.5.0",
      "model_name": "VBoxModel",
      "state": {
       "children": [
        "IPY_MODEL_58c6ccdfe4a94601860ca777bede5c0d",
        "IPY_MODEL_0b4376ee6b404d3d91b43ba66127c4b9"
       ],
       "layout": "IPY_MODEL_86ab2956b6884541b1d87490116f983c"
      }
     },
     "afdbf8a319c04a25821282c04a02cf77": {
      "model_module": "@jupyter-widgets/controls",
      "model_module_version": "1.5.0",
      "model_name": "TextareaModel",
      "state": {
       "layout": "IPY_MODEL_7df012a8465c4ccda0af3f43d2946086",
       "style": "IPY_MODEL_181613dada104bc498ce9e41a07b6c90"
      }
     },
     "aff0b89498ab4522b667b686c7bc51d8": {
      "model_module": "@jupyter-widgets/controls",
      "model_module_version": "1.5.0",
      "model_name": "RadioButtonsModel",
      "state": {
       "index": null,
       "layout": "IPY_MODEL_8101a996998b4a7cb2567d0b7df1dc9b",
       "style": "IPY_MODEL_f2e6951d6fee40d9a8c059d6229ab8a3"
      }
     },
     "b02dba10b2a94fd28c62c646658303d1": {
      "model_module": "@jupyter-widgets/base",
      "model_module_version": "1.2.0",
      "model_name": "LayoutModel",
      "state": {}
     },
     "b05acca62b42468faeada23d8fcb286d": {
      "model_module": "@jupyter-widgets/controls",
      "model_module_version": "1.5.0",
      "model_name": "ButtonModel",
      "state": {
       "button_style": "warning",
       "description": "Check",
       "icon": "check",
       "layout": "IPY_MODEL_03ac9c0fd26044349dd62ee4cddeec9a",
       "style": "IPY_MODEL_901995d6e91a4a959a8f39e429434ad3"
      }
     },
     "b05eea2551b042c09d07cc91bb2ea5d7": {
      "model_module": "@jupyter-widgets/base",
      "model_module_version": "1.2.0",
      "model_name": "LayoutModel",
      "state": {
       "border": "solid 2px",
       "padding": "1rem"
      }
     },
     "b0652672b39443da8cc38cc096612a58": {
      "model_module": "@jupyter-widgets/controls",
      "model_module_version": "1.5.0",
      "model_name": "DescriptionStyleModel",
      "state": {
       "description_width": ""
      }
     },
     "b0af24ba1ade49bba58fc40ed9a630b6": {
      "model_module": "@jupyter-widgets/base",
      "model_module_version": "1.2.0",
      "model_name": "LayoutModel",
      "state": {
       "border": "solid 2px",
       "padding": "1rem"
      }
     },
     "b0b7f8cf04a2438ca259786601706795": {
      "model_module": "@jupyter-widgets/base",
      "model_module_version": "1.2.0",
      "model_name": "LayoutModel",
      "state": {
       "border": "ridge 2px",
       "padding": "1rem"
      }
     },
     "b0e44d176ce04be280b72a158050a935": {
      "model_module": "@jupyter-widgets/controls",
      "model_module_version": "1.5.0",
      "model_name": "LabelModel",
      "state": {
       "layout": "IPY_MODEL_b890ae3b4802499ab5dda2682d9f2cd9",
       "style": "IPY_MODEL_b9e302849da747fb88057c48c798e252",
       "value": "Input:"
      }
     },
     "b115e78b65b84afabbc640016a3195b7": {
      "model_module": "@jupyter-widgets/base",
      "model_module_version": "1.2.0",
      "model_name": "LayoutModel",
      "state": {
       "height": "100px",
       "width": "250px"
      }
     },
     "b14bef4502a44943888f352a43661468": {
      "model_module": "@jupyter-widgets/controls",
      "model_module_version": "1.5.0",
      "model_name": "ButtonStyleModel",
      "state": {}
     },
     "b1da37de37354a538864e1875f3822ce": {
      "model_module": "@jupyter-widgets/controls",
      "model_module_version": "1.5.0",
      "model_name": "DescriptionStyleModel",
      "state": {
       "description_width": ""
      }
     },
     "b20c5755f1024ab9979658c7be2801bc": {
      "model_module": "@jupyter-widgets/controls",
      "model_module_version": "1.5.0",
      "model_name": "ButtonModel",
      "state": {
       "button_style": "warning",
       "description": "Check",
       "icon": "check",
       "layout": "IPY_MODEL_8ea4a8ce73504622bf04375f8c83cb43",
       "style": "IPY_MODEL_4f2f0eab59fd455f8ccebf933a326164"
      }
     },
     "b231b376c9754ce99e38e6545b4a515a": {
      "model_module": "@jupyter-widgets/controls",
      "model_module_version": "1.5.0",
      "model_name": "VBoxModel",
      "state": {
       "children": [
        "IPY_MODEL_5ecb0026b8414cf58aa21da7a440bb30",
        "IPY_MODEL_49388892e0524e9bbf00174d77c3c9ad"
       ],
       "layout": "IPY_MODEL_b320ee0008f34d42b71a9834f4bc138d"
      }
     },
     "b25068e99c87452fa06592a11e4f928a": {
      "model_module": "@jupyter-widgets/controls",
      "model_module_version": "1.5.0",
      "model_name": "TextareaModel",
      "state": {
       "layout": "IPY_MODEL_545a88d6718c44719e139c27786c93a2",
       "style": "IPY_MODEL_712416d0347146588c288f229fe04299"
      }
     },
     "b29d4767bf91449aad0947e42d2c0322": {
      "model_module": "@jupyter-widgets/base",
      "model_module_version": "1.2.0",
      "model_name": "LayoutModel",
      "state": {}
     },
     "b2a339076adb459f8b8346a640b0992e": {
      "model_module": "@jupyter-widgets/controls",
      "model_module_version": "1.5.0",
      "model_name": "LabelModel",
      "state": {
       "layout": "IPY_MODEL_dc61ddeac58d4e9cbad3400a5d833cbc",
       "style": "IPY_MODEL_cd946c44e68744869aec5319591eb4d1",
       "value": "Participation: 100%"
      }
     },
     "b2da8d7df368470abc655ee8b917816c": {
      "model_module": "@jupyter-widgets/base",
      "model_module_version": "1.2.0",
      "model_name": "LayoutModel",
      "state": {}
     },
     "b31d2b32b4434549bd55516a5442bd15": {
      "model_module": "@jupyter-widgets/base",
      "model_module_version": "1.2.0",
      "model_name": "LayoutModel",
      "state": {
       "width": "100%"
      }
     },
     "b320ee0008f34d42b71a9834f4bc138d": {
      "model_module": "@jupyter-widgets/base",
      "model_module_version": "1.2.0",
      "model_name": "LayoutModel",
      "state": {}
     },
     "b37833f14839420d9021003f935c9674": {
      "model_module": "@jupyter-widgets/controls",
      "model_module_version": "1.5.0",
      "model_name": "DescriptionStyleModel",
      "state": {
       "description_width": ""
      }
     },
     "b449c01e3a814c078b87bcd065657d50": {
      "model_module": "@jupyter-widgets/base",
      "model_module_version": "1.2.0",
      "model_name": "LayoutModel",
      "state": {}
     },
     "b44d8ef9678046aa975288cf8bd056e7": {
      "model_module": "@jupyter-widgets/base",
      "model_module_version": "1.2.0",
      "model_name": "LayoutModel",
      "state": {
       "border": "ridge 2px",
       "padding": "1rem"
      }
     },
     "b462a5fe8ffe47379442719c0f7b87ea": {
      "model_module": "@jupyter-widgets/base",
      "model_module_version": "1.2.0",
      "model_name": "LayoutModel",
      "state": {
       "border": "solid 2px",
       "padding": "1rem"
      }
     },
     "b471292d1ac04383ae001551b4facb97": {
      "model_module": "@jupyter-widgets/controls",
      "model_module_version": "1.5.0",
      "model_name": "TextareaModel",
      "state": {
       "layout": "IPY_MODEL_26bb1db1ecb24fe081295a4457602f44",
       "style": "IPY_MODEL_db8677bd83c0460c9a2eb176933317ab"
      }
     },
     "b489d9ec7d6d4e9fb33539f75a85ebd4": {
      "model_module": "@jupyter-widgets/base",
      "model_module_version": "1.2.0",
      "model_name": "LayoutModel",
      "state": {}
     },
     "b4a4fc745be845abb75c4ce476630984": {
      "model_module": "@jupyter-widgets/controls",
      "model_module_version": "1.5.0",
      "model_name": "DescriptionStyleModel",
      "state": {
       "description_width": ""
      }
     },
     "b4b888df29fc4134803211a2ce5987b5": {
      "model_module": "@jupyter-widgets/controls",
      "model_module_version": "1.5.0",
      "model_name": "LabelModel",
      "state": {
       "layout": "IPY_MODEL_8666b446a7514d3d88515051befd5348",
       "style": "IPY_MODEL_c5a42536cf0d4d38ab0cf5e87647bc16",
       "value": "Write your own code:"
      }
     },
     "b4e6d78e8ea145058bdd77808f2777fd": {
      "model_module": "@jupyter-widgets/base",
      "model_module_version": "1.2.0",
      "model_name": "LayoutModel",
      "state": {}
     },
     "b507b78ed1584ec48f5c4cc1af30eb11": {
      "model_module": "@jupyter-widgets/controls",
      "model_module_version": "1.5.0",
      "model_name": "VBoxModel",
      "state": {
       "children": [
        "IPY_MODEL_8246becdc9ca4477991a9f465a6a31b4",
        "IPY_MODEL_f39712a974db44778fbb32cb2edd9eb4",
        "IPY_MODEL_f6bca733bc1646d9bd4cb059c93e68a7",
        "IPY_MODEL_a5a67dc782a149c9a911d50d25b74056"
       ],
       "layout": "IPY_MODEL_b462a5fe8ffe47379442719c0f7b87ea"
      }
     },
     "b54abf99c5cf4845a24caee491163178": {
      "model_module": "@jupyter-widgets/controls",
      "model_module_version": "1.5.0",
      "model_name": "HTMLModel",
      "state": {
       "layout": "IPY_MODEL_836dbaf0e5854a68b6aee723dec263d6",
       "style": "IPY_MODEL_d6f8a6b780bc4b47944f8e65e0b8ef15"
      }
     },
     "b57b580642d340d3957df8efdec21110": {
      "model_module": "@jupyter-widgets/controls",
      "model_module_version": "1.5.0",
      "model_name": "DescriptionStyleModel",
      "state": {
       "description_width": ""
      }
     },
     "b5879af37bd2453b803f34d5c3c4e29e": {
      "model_module": "@jupyter-widgets/controls",
      "model_module_version": "1.5.0",
      "model_name": "TextareaModel",
      "state": {
       "layout": "IPY_MODEL_8cfcff34066143ea82a8de650912fce2",
       "style": "IPY_MODEL_55fe5970ec9243288320a68642b9f257"
      }
     },
     "b5a8132429cf419cbea5715f22065a93": {
      "model_module": "@jupyter-widgets/base",
      "model_module_version": "1.2.0",
      "model_name": "LayoutModel",
      "state": {}
     },
     "b631ebf984124e60a0e0efd6c395c04f": {
      "model_module": "@jupyter-widgets/base",
      "model_module_version": "1.2.0",
      "model_name": "LayoutModel",
      "state": {
       "border": "ridge 2px",
       "padding": "1rem"
      }
     },
     "b646e3e08d514e66b85cea3eb5bcbd1a": {
      "model_module": "@jupyter-widgets/controls",
      "model_module_version": "1.5.0",
      "model_name": "LabelModel",
      "state": {
       "layout": "IPY_MODEL_3f326eb5f12f4e568a23bd8405de91b2",
       "style": "IPY_MODEL_7d5ef86dcd6d4fe28c544f1541347a86",
       "value": "Output:"
      }
     },
     "b649109f4aa043e28f78f02e0de84f00": {
      "model_module": "@jupyter-widgets/base",
      "model_module_version": "1.2.0",
      "model_name": "LayoutModel",
      "state": {}
     },
     "b668a0c078d5423393fd52532881370b": {
      "model_module": "@jupyter-widgets/controls",
      "model_module_version": "1.5.0",
      "model_name": "DescriptionStyleModel",
      "state": {
       "description_width": ""
      }
     },
     "b674b38f5a32489da3bb0d02dc49e1af": {
      "model_module": "@jupyter-widgets/controls",
      "model_module_version": "1.5.0",
      "model_name": "VBoxModel",
      "state": {
       "layout": "IPY_MODEL_c0a9acf9ce6043ee97207845ae1aa86c"
      }
     },
     "b6814e85a2f4444c85ba5eaced6e612a": {
      "model_module": "@jupyter-widgets/base",
      "model_module_version": "1.2.0",
      "model_name": "LayoutModel",
      "state": {}
     },
     "b6dd499025704ff08dd4d5106198bf1f": {
      "model_module": "@jupyter-widgets/controls",
      "model_module_version": "1.5.0",
      "model_name": "DescriptionStyleModel",
      "state": {
       "description_width": ""
      }
     },
     "b6f0b906a1e54b09ab8d02f50b9d10eb": {
      "model_module": "@jupyter-widgets/controls",
      "model_module_version": "1.5.0",
      "model_name": "ButtonModel",
      "state": {
       "layout": "IPY_MODEL_505ae7ef20964e1ba5f644d967dbbd24",
       "style": "IPY_MODEL_96001c31c3e9490ba88ea940f16b005a"
      }
     },
     "b7520211c7334e01b8dc4aa83e819cbc": {
      "model_module": "@jupyter-widgets/base",
      "model_module_version": "1.2.0",
      "model_name": "LayoutModel",
      "state": {
       "border": "solid 2px",
       "padding": "1rem"
      }
     },
     "b762db4375e54d01b7b6c53226a2dad8": {
      "model_module": "@jupyter-widgets/base",
      "model_module_version": "1.2.0",
      "model_name": "LayoutModel",
      "state": {}
     },
     "b776d4a263ec4e62bfd1ef3d4af951b6": {
      "model_module": "@jupyter-widgets/base",
      "model_module_version": "1.2.0",
      "model_name": "LayoutModel",
      "state": {
       "height": "200px",
       "width": "99%"
      }
     },
     "b804e781308c4342a7e5cd09175f2d86": {
      "model_module": "@jupyter-widgets/base",
      "model_module_version": "1.2.0",
      "model_name": "LayoutModel",
      "state": {}
     },
     "b81087120a9241598fd6ad90f67107af": {
      "model_module": "@jupyter-widgets/controls",
      "model_module_version": "1.5.0",
      "model_name": "LabelModel",
      "state": {
       "layout": "IPY_MODEL_d544db5e3a534a94a2d4b65c5b63acd9",
       "style": "IPY_MODEL_b6dd499025704ff08dd4d5106198bf1f",
       "value": "Participation: 33%"
      }
     },
     "b83f2c9979e442109b689ceec9f7ab30": {
      "model_module": "@jupyter-widgets/controls",
      "model_module_version": "1.5.0",
      "model_name": "DescriptionStyleModel",
      "state": {
       "description_width": ""
      }
     },
     "b890ae3b4802499ab5dda2682d9f2cd9": {
      "model_module": "@jupyter-widgets/base",
      "model_module_version": "1.2.0",
      "model_name": "LayoutModel",
      "state": {}
     },
     "b8bf008f61d84266afc875466205f4d2": {
      "model_module": "@jupyter-widgets/controls",
      "model_module_version": "1.5.0",
      "model_name": "RadioButtonsModel",
      "state": {
       "index": null,
       "layout": "IPY_MODEL_1c7e4dc017284dff8faf6a8f2cd98174",
       "style": "IPY_MODEL_121f63c6b7564ed181b1ce1fa14e1d6f"
      }
     },
     "b8bf3a38114743b1a92c877694f0a6ae": {
      "model_module": "@jupyter-widgets/controls",
      "model_module_version": "1.5.0",
      "model_name": "VBoxModel",
      "state": {
       "layout": "IPY_MODEL_a27a75c26928443fa89f909a4d2abe3c"
      }
     },
     "b8bf981577d54955b36600d461755f6c": {
      "model_module": "@jupyter-widgets/base",
      "model_module_version": "1.2.0",
      "model_name": "LayoutModel",
      "state": {}
     },
     "b97466c395904d849db87adac0e19d19": {
      "model_module": "@jupyter-widgets/controls",
      "model_module_version": "1.5.0",
      "model_name": "ButtonModel",
      "state": {
       "button_style": "warning",
       "description": "Check",
       "icon": "check",
       "layout": "IPY_MODEL_991b9a0c408a44b9a929a3faad7fb009",
       "style": "IPY_MODEL_403aa8f098fe48369808ce7995c66e45"
      }
     },
     "b99944ec0b824ff690162844a418daee": {
      "model_module": "@jupyter-widgets/controls",
      "model_module_version": "1.5.0",
      "model_name": "DescriptionStyleModel",
      "state": {
       "description_width": ""
      }
     },
     "b9e302849da747fb88057c48c798e252": {
      "model_module": "@jupyter-widgets/controls",
      "model_module_version": "1.5.0",
      "model_name": "DescriptionStyleModel",
      "state": {
       "description_width": ""
      }
     },
     "ba2f3554be55413a841c8aba6e96fef5": {
      "model_module": "@jupyter-widgets/base",
      "model_module_version": "1.2.0",
      "model_name": "LayoutModel",
      "state": {}
     },
     "ba52eb64e9984aba9daea604af987a84": {
      "model_module": "@jupyter-widgets/controls",
      "model_module_version": "1.5.0",
      "model_name": "TextareaModel",
      "state": {
       "layout": "IPY_MODEL_ad975cc76a9542a4bbcd2986f4127527",
       "style": "IPY_MODEL_4c30fe2dbdef4fb9b073aef8fd6701b5"
      }
     },
     "ba6f9c392ba9415f83373256314cb7ba": {
      "model_module": "@jupyter-widgets/controls",
      "model_module_version": "1.5.0",
      "model_name": "VBoxModel",
      "state": {
       "children": [
        "IPY_MODEL_a7adcdbcf4b844fcab2d5a904d26450f",
        "IPY_MODEL_9e83a011c39845e8b4097b5978c15c75"
       ],
       "layout": "IPY_MODEL_fdc1a70e01754b6bab0578635859a41b"
      }
     },
     "ba7b0f48e2ec458cb19891eaccc269d9": {
      "model_module": "@jupyter-widgets/base",
      "model_module_version": "1.2.0",
      "model_name": "LayoutModel",
      "state": {}
     },
     "baa60b3f93f24de4b54ef433f734eb97": {
      "model_module": "@jupyter-widgets/controls",
      "model_module_version": "1.5.0",
      "model_name": "ButtonStyleModel",
      "state": {}
     },
     "baeee8a017384b2f97cb01a3bed284c4": {
      "model_module": "@jupyter-widgets/base",
      "model_module_version": "1.2.0",
      "model_name": "LayoutModel",
      "state": {}
     },
     "baf6e6e404c04aa5a9e4fc1f0f32b543": {
      "model_module": "@jupyter-widgets/controls",
      "model_module_version": "1.5.0",
      "model_name": "TextModel",
      "state": {
       "layout": "IPY_MODEL_6c557c0c75374cdaad2a14850d098ec2",
       "style": "IPY_MODEL_261e2c9d37474669914f7a9d25e7f2ed",
       "value": "8"
      }
     },
     "bb67c88f247e4e6a973c6957838dbb54": {
      "model_module": "@jupyter-widgets/controls",
      "model_module_version": "1.5.0",
      "model_name": "DescriptionStyleModel",
      "state": {
       "description_width": ""
      }
     },
     "bb9aa5c860804c79b96777259f592724": {
      "model_module": "@jupyter-widgets/controls",
      "model_module_version": "1.5.0",
      "model_name": "DescriptionStyleModel",
      "state": {
       "description_width": ""
      }
     },
     "bbb09963000a4fdab6badcad8100dd48": {
      "model_module": "@jupyter-widgets/controls",
      "model_module_version": "1.5.0",
      "model_name": "DescriptionStyleModel",
      "state": {
       "description_width": ""
      }
     },
     "bbfce5ee31f147b28c74c66464235421": {
      "model_module": "@jupyter-widgets/controls",
      "model_module_version": "1.5.0",
      "model_name": "HTMLModel",
      "state": {
       "layout": "IPY_MODEL_a024def11b5d4cee95e34d82f181e216",
       "style": "IPY_MODEL_d433d0145b7e474882af2dc8fe41aded",
       "value": "반복 내부에서 반복을 종료하려면 ____ 문장을 사용한다."
      }
     },
     "bc1a9489889a4df2b06d2693329fd1a3": {
      "model_module": "@jupyter-widgets/base",
      "model_module_version": "1.2.0",
      "model_name": "LayoutModel",
      "state": {}
     },
     "bd242597c511447684196bd97c7cb5bc": {
      "model_module": "@jupyter-widgets/base",
      "model_module_version": "1.2.0",
      "model_name": "LayoutModel",
      "state": {}
     },
     "bd2a962270db4160842e3ad91bd93126": {
      "model_module": "@jupyter-widgets/controls",
      "model_module_version": "1.5.0",
      "model_name": "HBoxModel",
      "state": {
       "children": [
        "IPY_MODEL_83b3fd1f24e94a359c09be79177885fa",
        "IPY_MODEL_ed1ea4ea493f4d059a4c6014710ddbb2",
        "IPY_MODEL_63e1c1062e8c4848ba8c9e0c40ad4a29"
       ],
       "layout": "IPY_MODEL_2b14607c19c041c8a445de73394e9a69"
      }
     },
     "bd2c0bd1e4da47ccb451dbab9da74efa": {
      "model_module": "@jupyter-widgets/base",
      "model_module_version": "1.2.0",
      "model_name": "LayoutModel",
      "state": {}
     },
     "bd6c65101c5348bbbb05fc5c022c0b85": {
      "model_module": "@jupyter-widgets/controls",
      "model_module_version": "1.5.0",
      "model_name": "DescriptionStyleModel",
      "state": {
       "description_width": ""
      }
     },
     "bdef91abc0454407acbba02ee2c027ab": {
      "model_module": "@jupyter-widgets/base",
      "model_module_version": "1.2.0",
      "model_name": "LayoutModel",
      "state": {}
     },
     "bdefb1efc46e4ad784400cb2dc5d1a8a": {
      "model_module": "@jupyter-widgets/controls",
      "model_module_version": "1.5.0",
      "model_name": "VBoxModel",
      "state": {
       "children": [
        "IPY_MODEL_83c8fbba3f0647728fbf9e7f0e6692c8",
        "IPY_MODEL_52cfadea13484227a0f9d67a0833c13f",
        "IPY_MODEL_cfcdc30ab7ae430289fdd02ffa9ace60",
        "IPY_MODEL_2cb430396fea447d8b5dd579cdca13fb"
       ],
       "layout": "IPY_MODEL_1582880a3d214bcda372eba83a1cbee2"
      }
     },
     "be0678164f5341bc91c8c3070e6ae9d0": {
      "model_module": "@jupyter-widgets/controls",
      "model_module_version": "1.5.0",
      "model_name": "ButtonModel",
      "state": {
       "button_style": "warning",
       "description": "Check",
       "icon": "check",
       "layout": "IPY_MODEL_2c999a24125e48e7a827232051824992",
       "style": "IPY_MODEL_4956e1f84f1c4019b1c07cf549e5c11f"
      }
     },
     "be2b3762b87447b58f758f07a76bb1dc": {
      "model_module": "@jupyter-widgets/base",
      "model_module_version": "1.2.0",
      "model_name": "LayoutModel",
      "state": {
       "width": "90px"
      }
     },
     "be925f94d5ac476f9b4dcde824682e64": {
      "model_module": "@jupyter-widgets/base",
      "model_module_version": "1.2.0",
      "model_name": "LayoutModel",
      "state": {}
     },
     "beb055fce8454a26ac82a93cbd76aeaa": {
      "model_module": "@jupyter-widgets/controls",
      "model_module_version": "1.5.0",
      "model_name": "ButtonStyleModel",
      "state": {}
     },
     "bed0fcbf661843689f00487e117113af": {
      "model_module": "@jupyter-widgets/controls",
      "model_module_version": "1.5.0",
      "model_name": "TextModel",
      "state": {
       "layout": "IPY_MODEL_c1d99411e0eb4121a30c50d670846da4",
       "style": "IPY_MODEL_02f529df0b4d4733bfe1d1122cbfbde8",
       "value": "8"
      }
     },
     "bf5521f2fbcc4d70b7c451182c7a54e2": {
      "model_module": "@jupyter-widgets/base",
      "model_module_version": "1.2.0",
      "model_name": "LayoutModel",
      "state": {
       "height": "100px",
       "width": "250px"
      }
     },
     "bf8354d5bf38496094276610c639d9d2": {
      "model_module": "@jupyter-widgets/controls",
      "model_module_version": "1.5.0",
      "model_name": "ButtonStyleModel",
      "state": {}
     },
     "bf9e47dbf76248c9999238a620bd517c": {
      "model_module": "@jupyter-widgets/controls",
      "model_module_version": "1.5.0",
      "model_name": "HBoxModel",
      "state": {
       "children": [
        "IPY_MODEL_24371738ad2745c5b930d6b4668c2246",
        "IPY_MODEL_0fc7058d0b084d86a1ca53522dee4302"
       ],
       "layout": "IPY_MODEL_9e7ede38141d47f7945caf24b04219eb"
      }
     },
     "bfc0898bcea443469a33d764e71efe84": {
      "model_module": "@jupyter-widgets/controls",
      "model_module_version": "1.5.0",
      "model_name": "VBoxModel",
      "state": {
       "children": [
        "IPY_MODEL_ca941e7b43d34b44a41591989569ffbf",
        "IPY_MODEL_876b8105b217495eb9cf2add17e58d49",
        "IPY_MODEL_b646e3e08d514e66b85cea3eb5bcbd1a",
        "IPY_MODEL_ae308401b0f7460583a6c428006476b5",
        "IPY_MODEL_af2040d349744cb2bba856e8171becf1"
       ],
       "layout": "IPY_MODEL_1c65a85e97714c9e904f37f10c1ee065"
      }
     },
     "bfd2863e88de4e4d968df7f8ad1447cd": {
      "model_module": "@jupyter-widgets/controls",
      "model_module_version": "1.5.0",
      "model_name": "LabelModel",
      "state": {
       "layout": "IPY_MODEL_a15b2f0e095249cbb2447d1b8ff35ded",
       "style": "IPY_MODEL_657043853efa49608ad4514dd5f40780",
       "value": "Output:"
      }
     },
     "c00bf61b74984668ad302aa3e2e6c743": {
      "model_module": "@jupyter-widgets/base",
      "model_module_version": "1.2.0",
      "model_name": "LayoutModel",
      "state": {}
     },
     "c0241f50be1b4722928aa75dc5dc8528": {
      "model_module": "@jupyter-widgets/base",
      "model_module_version": "1.2.0",
      "model_name": "LayoutModel",
      "state": {}
     },
     "c02e9ec6d00f4cdaa1335762be727c03": {
      "model_module": "@jupyter-widgets/controls",
      "model_module_version": "1.5.0",
      "model_name": "HTMLModel",
      "state": {
       "layout": "IPY_MODEL_d3bbfd0145fe4caa972c7028d5a92381",
       "style": "IPY_MODEL_dd9a0c0be46f47c9be0f2740656751c4"
      }
     },
     "c051d1ffbac346969c04c82fd381adc4": {
      "model_module": "@jupyter-widgets/base",
      "model_module_version": "1.2.0",
      "model_name": "LayoutModel",
      "state": {
       "width": "90px"
      }
     },
     "c08cbeef4847474fab0c95eb052c3d65": {
      "model_module": "@jupyter-widgets/controls",
      "model_module_version": "1.5.0",
      "model_name": "LabelModel",
      "state": {
       "layout": "IPY_MODEL_c74d0e6c19be409abb2c93961cda0e10",
       "style": "IPY_MODEL_b83f2c9979e442109b689ceec9f7ab30",
       "value": "Write your own code:"
      }
     },
     "c0a9acf9ce6043ee97207845ae1aa86c": {
      "model_module": "@jupyter-widgets/base",
      "model_module_version": "1.2.0",
      "model_name": "LayoutModel",
      "state": {}
     },
     "c0c35d96e89447fe923b0c37779f2069": {
      "model_module": "@jupyter-widgets/controls",
      "model_module_version": "1.5.0",
      "model_name": "VBoxModel",
      "state": {
       "children": [
        "IPY_MODEL_62bc10f9a18f41d1b584a53b8d07012a",
        "IPY_MODEL_1af6bc682d594d2188e76b3b6ff92aac"
       ],
       "layout": "IPY_MODEL_cb1444ecb0b54f6587e455d81f6914a6"
      }
     },
     "c118488ac45544908be1fc4eb80ef41f": {
      "model_module": "@jupyter-widgets/controls",
      "model_module_version": "1.5.0",
      "model_name": "TextareaModel",
      "state": {
       "layout": "IPY_MODEL_0f12fbbfe9dd4843a0f735f957d461d3",
       "style": "IPY_MODEL_aaddc8f2ad364974a6016504a52d4aa3"
      }
     },
     "c1d99411e0eb4121a30c50d670846da4": {
      "model_module": "@jupyter-widgets/base",
      "model_module_version": "1.2.0",
      "model_name": "LayoutModel",
      "state": {}
     },
     "c1f56a72140a47a987e099d37076b487": {
      "model_module": "@jupyter-widgets/controls",
      "model_module_version": "1.5.0",
      "model_name": "ButtonModel",
      "state": {
       "button_style": "warning",
       "description": "Run Code",
       "icon": "check",
       "layout": "IPY_MODEL_ac9e334cb55b4727b3658bbe9c5f5997",
       "style": "IPY_MODEL_ad1b33495be34407845c081f3f847bc1"
      }
     },
     "c21e5b890bf44ae48a7e13b1b3e4f07f": {
      "model_module": "@jupyter-widgets/controls",
      "model_module_version": "1.5.0",
      "model_name": "ButtonModel",
      "state": {
       "button_style": "warning",
       "description": "Run Code",
       "icon": "check",
       "layout": "IPY_MODEL_84784309e0734722ba31ecc09e556558",
       "style": "IPY_MODEL_045b0501c88842bfa9ff8147b1cc0cbd"
      }
     },
     "c270374fd18a41fcbb93651d4493a8a3": {
      "model_module": "@jupyter-widgets/base",
      "model_module_version": "1.2.0",
      "model_name": "LayoutModel",
      "state": {
       "height": "200px",
       "width": "99%"
      }
     },
     "c280cb6e05d14b1f89b7401884365f8a": {
      "model_module": "@jupyter-widgets/controls",
      "model_module_version": "1.5.0",
      "model_name": "TextareaModel",
      "state": {
       "layout": "IPY_MODEL_0547ed9bb8a04c078279d763eeb174d9",
       "style": "IPY_MODEL_ae3e03dd97c34d648ed6912413bd08b4"
      }
     },
     "c29fee50414c44a087f6127ff5cc37d5": {
      "model_module": "@jupyter-widgets/base",
      "model_module_version": "1.2.0",
      "model_name": "LayoutModel",
      "state": {}
     },
     "c2dbc382bc314846aac2334f61c983d7": {
      "model_module": "@jupyter-widgets/controls",
      "model_module_version": "1.5.0",
      "model_name": "HTMLModel",
      "state": {
       "layout": "IPY_MODEL_1efc3db77a2541a98e33cec90305560c",
       "style": "IPY_MODEL_b1da37de37354a538864e1875f3822ce",
       "value": "(1) ___문은 조건에 따른 선택을 지원하는 구문이다."
      }
     },
     "c2f96e95882e4ce6969d370a199b11c9": {
      "model_module": "@jupyter-widgets/controls",
      "model_module_version": "1.5.0",
      "model_name": "VBoxModel",
      "state": {
       "layout": "IPY_MODEL_47cf00bdc28d4fe290fceb4a2c373d92"
      }
     },
     "c346260d24af41e9973c498d70df3c2c": {
      "model_module": "@jupyter-widgets/base",
      "model_module_version": "1.2.0",
      "model_name": "LayoutModel",
      "state": {}
     },
     "c35ca4a02ab54331852eb348d6155b49": {
      "model_module": "@jupyter-widgets/controls",
      "model_module_version": "1.5.0",
      "model_name": "DescriptionStyleModel",
      "state": {
       "description_width": ""
      }
     },
     "c3837493e71048228fe17fe2749d76a6": {
      "model_module": "@jupyter-widgets/controls",
      "model_module_version": "1.5.0",
      "model_name": "DescriptionStyleModel",
      "state": {
       "description_width": ""
      }
     },
     "c3a94d9916e644b89b5ccbb8acd3b5a0": {
      "model_module": "@jupyter-widgets/base",
      "model_module_version": "1.2.0",
      "model_name": "LayoutModel",
      "state": {}
     },
     "c3b14549ec2146c295f7be98b5d6da40": {
      "model_module": "@jupyter-widgets/controls",
      "model_module_version": "1.5.0",
      "model_name": "DescriptionStyleModel",
      "state": {
       "description_width": ""
      }
     },
     "c3c6aeb7daa648f5a6123ef7af6364cf": {
      "model_module": "@jupyter-widgets/controls",
      "model_module_version": "1.5.0",
      "model_name": "DescriptionStyleModel",
      "state": {
       "description_width": ""
      }
     },
     "c3f921dec2164fae8822b78940dafbbb": {
      "model_module": "@jupyter-widgets/controls",
      "model_module_version": "1.5.0",
      "model_name": "VBoxModel",
      "state": {
       "children": [
        "IPY_MODEL_952bc5bfc8ba4b0b9458f962994006b8",
        "IPY_MODEL_8837f0c408f74ec194cdf714b6c87007"
       ],
       "layout": "IPY_MODEL_4d1b730d94914abdada3e776662c8321"
      }
     },
     "c411374d23ea4c879e315402356c5631": {
      "model_module": "@jupyter-widgets/base",
      "model_module_version": "1.2.0",
      "model_name": "LayoutModel",
      "state": {}
     },
     "c442816b82a34a9386fac16fd7e4c8c7": {
      "model_module": "@jupyter-widgets/base",
      "model_module_version": "1.2.0",
      "model_name": "LayoutModel",
      "state": {}
     },
     "c4c7728c78034036aea79d3192274fd4": {
      "model_module": "@jupyter-widgets/base",
      "model_module_version": "1.2.0",
      "model_name": "LayoutModel",
      "state": {
       "height": "100px",
       "width": "99%"
      }
     },
     "c554aa9a798a4df5ac2350337412f948": {
      "model_module": "@jupyter-widgets/base",
      "model_module_version": "1.2.0",
      "model_name": "LayoutModel",
      "state": {}
     },
     "c5648a1f012e4e0ca67ce6ffa72cd420": {
      "model_module": "@jupyter-widgets/base",
      "model_module_version": "1.2.0",
      "model_name": "LayoutModel",
      "state": {
       "height": "100px",
       "width": "250px"
      }
     },
     "c59db684f9c54e3e9d9297fbaa699c57": {
      "model_module": "@jupyter-widgets/base",
      "model_module_version": "1.2.0",
      "model_name": "LayoutModel",
      "state": {}
     },
     "c5a42536cf0d4d38ab0cf5e87647bc16": {
      "model_module": "@jupyter-widgets/controls",
      "model_module_version": "1.5.0",
      "model_name": "DescriptionStyleModel",
      "state": {
       "description_width": ""
      }
     },
     "c5aace43e7fe4f93a44efb3498c360f0": {
      "model_module": "@jupyter-widgets/base",
      "model_module_version": "1.2.0",
      "model_name": "LayoutModel",
      "state": {
       "border": "ridge 2px",
       "padding": "1rem"
      }
     },
     "c5c9b22a48aa4127811de09f8e69f0e2": {
      "model_module": "@jupyter-widgets/controls",
      "model_module_version": "1.5.0",
      "model_name": "ButtonModel",
      "state": {
       "button_style": "success",
       "description": "Correct",
       "icon": "check",
       "layout": "IPY_MODEL_aac3c0157a85483da4cb54af985cf375",
       "style": "IPY_MODEL_91698ff0c92f4ed3b44c215107cdbc44"
      }
     },
     "c5d50edb94be46e48eabfd8802e563a4": {
      "model_module": "@jupyter-widgets/base",
      "model_module_version": "1.2.0",
      "model_name": "LayoutModel",
      "state": {}
     },
     "c5da3e01fb9e4919bf85a15286f08f9c": {
      "model_module": "@jupyter-widgets/base",
      "model_module_version": "1.2.0",
      "model_name": "LayoutModel",
      "state": {}
     },
     "c6ff1ee3d15c4022968972324c57dab7": {
      "model_module": "@jupyter-widgets/base",
      "model_module_version": "1.2.0",
      "model_name": "LayoutModel",
      "state": {
       "border": "solid 1px"
      }
     },
     "c74d0e6c19be409abb2c93961cda0e10": {
      "model_module": "@jupyter-widgets/base",
      "model_module_version": "1.2.0",
      "model_name": "LayoutModel",
      "state": {}
     },
     "c794edf9307248a1bc9c7825cd5cabd8": {
      "model_module": "@jupyter-widgets/controls",
      "model_module_version": "1.5.0",
      "model_name": "ButtonStyleModel",
      "state": {}
     },
     "c7b47973e75b405f8f1d3d6eeabb4be5": {
      "model_module": "@jupyter-widgets/base",
      "model_module_version": "1.2.0",
      "model_name": "LayoutModel",
      "state": {}
     },
     "c82681e0ec1c498982590ec9495e9ced": {
      "model_module": "@jupyter-widgets/controls",
      "model_module_version": "1.5.0",
      "model_name": "DescriptionStyleModel",
      "state": {
       "description_width": ""
      }
     },
     "c82ed9ca155e492da19b28ba5aa22b16": {
      "model_module": "@jupyter-widgets/base",
      "model_module_version": "1.2.0",
      "model_name": "LayoutModel",
      "state": {}
     },
     "c8c6bfde200c46b6ad867cff7fb9a67c": {
      "model_module": "@jupyter-widgets/base",
      "model_module_version": "1.2.0",
      "model_name": "LayoutModel",
      "state": {}
     },
     "c90446b44aa8431d8f9af752e3561bf4": {
      "model_module": "@jupyter-widgets/controls",
      "model_module_version": "1.5.0",
      "model_name": "DescriptionStyleModel",
      "state": {
       "description_width": ""
      }
     },
     "c9326798178242738e4016c7bf649821": {
      "model_module": "@jupyter-widgets/controls",
      "model_module_version": "1.5.0",
      "model_name": "HTMLModel",
      "state": {
       "layout": "IPY_MODEL_4cf529a091464312adefe97eee96a51d",
       "style": "IPY_MODEL_10ff78d74fcf47f78429b2aae52b82b7",
       "value": "다음 중에서 조건 선택에 해당되지 않는 제어문은 무엇인가?"
      }
     },
     "c94e387d2aee46bbaf9413aeeede6fe8": {
      "model_module": "@jupyter-widgets/controls",
      "model_module_version": "1.5.0",
      "model_name": "LabelModel",
      "state": {
       "layout": "IPY_MODEL_400dde22a5a2435ba8034837373cbfb5",
       "style": "IPY_MODEL_2bfb231038354793b46c49b5ed7f556c",
       "value": "Participation: 0%"
      }
     },
     "c957513e0e6144628238c677ae2e197d": {
      "model_module": "@jupyter-widgets/base",
      "model_module_version": "1.2.0",
      "model_name": "LayoutModel",
      "state": {}
     },
     "c969a75655c5419eb1086ee652850b73": {
      "model_module": "@jupyter-widgets/controls",
      "model_module_version": "1.5.0",
      "model_name": "DescriptionStyleModel",
      "state": {
       "description_width": ""
      }
     },
     "c9c5f24bcd1b40348c9585b770637359": {
      "model_module": "@jupyter-widgets/controls",
      "model_module_version": "1.5.0",
      "model_name": "DescriptionStyleModel",
      "state": {
       "description_width": ""
      }
     },
     "ca33df94c50d4300a5f21181a8732afd": {
      "model_module": "@jupyter-widgets/controls",
      "model_module_version": "1.5.0",
      "model_name": "ButtonModel",
      "state": {
       "button_style": "warning",
       "description": "Run Code",
       "icon": "check",
       "layout": "IPY_MODEL_1e6d5bf1349b492cbf454aa245cf60f7",
       "style": "IPY_MODEL_458f67544a5441afb1a052581756987f"
      }
     },
     "ca3bacba754f4ab9b33e7b78f6655a97": {
      "model_module": "@jupyter-widgets/base",
      "model_module_version": "1.2.0",
      "model_name": "LayoutModel",
      "state": {}
     },
     "ca5d74d4134645c9a1ed2a18e0235847": {
      "model_module": "@jupyter-widgets/base",
      "model_module_version": "1.2.0",
      "model_name": "LayoutModel",
      "state": {}
     },
     "ca80822bfd724df2ad960e3e24c8931a": {
      "model_module": "@jupyter-widgets/controls",
      "model_module_version": "1.5.0",
      "model_name": "ButtonStyleModel",
      "state": {}
     },
     "ca941e7b43d34b44a41591989569ffbf": {
      "model_module": "@jupyter-widgets/controls",
      "model_module_version": "1.5.0",
      "model_name": "LabelModel",
      "state": {
       "layout": "IPY_MODEL_986792a0568d42eabd64369eb69cd1fe",
       "style": "IPY_MODEL_0bd8c90ec21f4ee9add8ab8b2e141bd8",
       "value": "Write your own code:"
      }
     },
     "cab04b5a24a64145a59b4c30ee4afdc0": {
      "model_module": "@jupyter-widgets/base",
      "model_module_version": "1.2.0",
      "model_name": "LayoutModel",
      "state": {
       "border": "ridge 2px",
       "padding": "1rem"
      }
     },
     "cb1444ecb0b54f6587e455d81f6914a6": {
      "model_module": "@jupyter-widgets/base",
      "model_module_version": "1.2.0",
      "model_name": "LayoutModel",
      "state": {}
     },
     "cb1cffadb6d344afa0f04b508ec8d131": {
      "model_module": "@jupyter-widgets/base",
      "model_module_version": "1.2.0",
      "model_name": "LayoutModel",
      "state": {
       "width": "90px"
      }
     },
     "cb20bf63cd47449485d23ad9267d94ad": {
      "model_module": "@jupyter-widgets/controls",
      "model_module_version": "1.5.0",
      "model_name": "DescriptionStyleModel",
      "state": {
       "description_width": ""
      }
     },
     "cb3b9e4ecbe444aa9abb4270339339d0": {
      "model_module": "@jupyter-widgets/base",
      "model_module_version": "1.2.0",
      "model_name": "LayoutModel",
      "state": {}
     },
     "cb464d75678644538cddc4aa12bcf52f": {
      "model_module": "@jupyter-widgets/controls",
      "model_module_version": "1.5.0",
      "model_name": "DescriptionStyleModel",
      "state": {
       "description_width": ""
      }
     },
     "cb5334f415dc45c39ed31eca9c7fef5a": {
      "model_module": "@jupyter-widgets/base",
      "model_module_version": "1.2.0",
      "model_name": "LayoutModel",
      "state": {}
     },
     "cb72e4d65dbe4be98b35de402039ef36": {
      "model_module": "@jupyter-widgets/controls",
      "model_module_version": "1.5.0",
      "model_name": "DescriptionStyleModel",
      "state": {
       "description_width": ""
      }
     },
     "cb72f9806fab44938c3823d3fd9a253d": {
      "model_module": "@jupyter-widgets/controls",
      "model_module_version": "1.5.0",
      "model_name": "HTMLModel",
      "state": {
       "layout": "IPY_MODEL_8f17506cd28f481094b6f3c866087872",
       "style": "IPY_MODEL_4e3cbdbb2c03461cac44489635b71c5c",
       "value": "(1) The program has a total number of _____ instructions"
      }
     },
     "cb870a01d7644dcf95ca97eb9ba14e09": {
      "model_module": "@jupyter-widgets/controls",
      "model_module_version": "1.5.0",
      "model_name": "VBoxModel",
      "state": {
       "layout": "IPY_MODEL_09a414b44cd84bf38d1d1b0dbad2f9de"
      }
     },
     "cb87b5f26959487aa9529b91e64f0bd6": {
      "model_module": "@jupyter-widgets/controls",
      "model_module_version": "1.5.0",
      "model_name": "DescriptionStyleModel",
      "state": {
       "description_width": ""
      }
     },
     "cbafcecc72b846e29d22be2248229068": {
      "model_module": "@jupyter-widgets/controls",
      "model_module_version": "1.5.0",
      "model_name": "ButtonStyleModel",
      "state": {}
     },
     "cc06189b7d2d4663ada39d1f888fc18f": {
      "model_module": "@jupyter-widgets/base",
      "model_module_version": "1.2.0",
      "model_name": "LayoutModel",
      "state": {
       "width": "90px"
      }
     },
     "cc2f4955cac44c8097001b894bf8e52e": {
      "model_module": "@jupyter-widgets/controls",
      "model_module_version": "1.5.0",
      "model_name": "DescriptionStyleModel",
      "state": {
       "description_width": ""
      }
     },
     "cc32b98ab3ef4855819b4202fe6dcde3": {
      "model_module": "@jupyter-widgets/controls",
      "model_module_version": "1.5.0",
      "model_name": "DescriptionStyleModel",
      "state": {
       "description_width": ""
      }
     },
     "cc69a4cc67864875b54e74098dc263fc": {
      "model_module": "@jupyter-widgets/controls",
      "model_module_version": "1.5.0",
      "model_name": "TextareaModel",
      "state": {
       "layout": "IPY_MODEL_deff6e67887a4f33a7ef1ebf4977a7cb",
       "placeholder": "",
       "style": "IPY_MODEL_7f641260f0f346f28f4e4aadfafb5d53",
       "value": "#include <stdio.h>\n\nint main(void) {\n    puts(\"Name: John\");\n    puts(\"University: Dongguk University\");\n    puts(\"Major: CSE\");\n    puts(\"Sid: 2020112001\");\n    return 0;\n}"
      }
     },
     "cc8ad1eea8d24428b2fe3d8af02356fd": {
      "model_module": "@jupyter-widgets/base",
      "model_module_version": "1.2.0",
      "model_name": "LayoutModel",
      "state": {}
     },
     "ccc617f2d2b54e8194d37bb7140db67d": {
      "model_module": "@jupyter-widgets/base",
      "model_module_version": "1.2.0",
      "model_name": "LayoutModel",
      "state": {}
     },
     "cd5bfbadd0354961a74bf2a69e9ad49a": {
      "model_module": "@jupyter-widgets/controls",
      "model_module_version": "1.5.0",
      "model_name": "ButtonStyleModel",
      "state": {}
     },
     "cd72a6a3a9254ede8edb0946674b50ee": {
      "model_module": "@jupyter-widgets/controls",
      "model_module_version": "1.5.0",
      "model_name": "DescriptionStyleModel",
      "state": {
       "description_width": ""
      }
     },
     "cd946c44e68744869aec5319591eb4d1": {
      "model_module": "@jupyter-widgets/controls",
      "model_module_version": "1.5.0",
      "model_name": "DescriptionStyleModel",
      "state": {
       "description_width": ""
      }
     },
     "cdc552bd304046998d4e6c7e29d83210": {
      "model_module": "@jupyter-widgets/base",
      "model_module_version": "1.2.0",
      "model_name": "LayoutModel",
      "state": {}
     },
     "cdda3c86ef5840bda36ba63447387a8e": {
      "model_module": "@jupyter-widgets/controls",
      "model_module_version": "1.5.0",
      "model_name": "DescriptionStyleModel",
      "state": {
       "description_width": ""
      }
     },
     "cde97597bd6749e3b198399d860eebdf": {
      "model_module": "@jupyter-widgets/base",
      "model_module_version": "1.2.0",
      "model_name": "LayoutModel",
      "state": {}
     },
     "ce174746678c43e5b226a2631133f779": {
      "model_module": "@jupyter-widgets/controls",
      "model_module_version": "1.5.0",
      "model_name": "ButtonStyleModel",
      "state": {}
     },
     "ce703546660649ccaee4c7fb16de871b": {
      "model_module": "@jupyter-widgets/controls",
      "model_module_version": "1.5.0",
      "model_name": "DescriptionStyleModel",
      "state": {
       "description_width": ""
      }
     },
     "ce7e84df1e6a4c049c00305b8f6d5186": {
      "model_module": "@jupyter-widgets/controls",
      "model_module_version": "1.5.0",
      "model_name": "LabelModel",
      "state": {
       "layout": "IPY_MODEL_bd2c0bd1e4da47ccb451dbab9da74efa",
       "style": "IPY_MODEL_505d7f79321e47ea9049188823f3b83b",
       "value": "Write your own code:"
      }
     },
     "cec70096015245ff85c0e320043b960d": {
      "model_module": "@jupyter-widgets/base",
      "model_module_version": "1.2.0",
      "model_name": "LayoutModel",
      "state": {}
     },
     "cf37fdf0df334514baf44ec50790f6c4": {
      "model_module": "@jupyter-widgets/controls",
      "model_module_version": "1.5.0",
      "model_name": "VBoxModel",
      "state": {
       "layout": "IPY_MODEL_2f0e54b7abd043c0b2b95fb443999bf4"
      }
     },
     "cfc0d7b6b3894b0db1742cf480bae8bc": {
      "model_module": "@jupyter-widgets/controls",
      "model_module_version": "1.5.0",
      "model_name": "ButtonModel",
      "state": {
       "button_style": "warning",
       "description": "Check",
       "icon": "check",
       "layout": "IPY_MODEL_d17b8936480b4f868553524036cbaaba",
       "style": "IPY_MODEL_6509c257e8e748ca9e27ab34fbd1ca5d"
      }
     },
     "cfcdc30ab7ae430289fdd02ffa9ace60": {
      "model_module": "@jupyter-widgets/controls",
      "model_module_version": "1.5.0",
      "model_name": "ButtonModel",
      "state": {
       "button_style": "warning",
       "description": "Check",
       "icon": "check",
       "layout": "IPY_MODEL_c051d1ffbac346969c04c82fd381adc4",
       "style": "IPY_MODEL_769fe13889764c08880a7326b854d115"
      }
     },
     "d04db5017df9426e82e1794040afdf82": {
      "model_module": "@jupyter-widgets/controls",
      "model_module_version": "1.5.0",
      "model_name": "DescriptionStyleModel",
      "state": {
       "description_width": ""
      }
     },
     "d05e25236c28455a9940bf21f593f306": {
      "model_module": "@jupyter-widgets/base",
      "model_module_version": "1.2.0",
      "model_name": "LayoutModel",
      "state": {
       "height": "100px",
       "width": "250px"
      }
     },
     "d17b8936480b4f868553524036cbaaba": {
      "model_module": "@jupyter-widgets/base",
      "model_module_version": "1.2.0",
      "model_name": "LayoutModel",
      "state": {
       "width": "90px"
      }
     },
     "d1a57e767e854db882b6a34bad645d31": {
      "model_module": "@jupyter-widgets/base",
      "model_module_version": "1.2.0",
      "model_name": "LayoutModel",
      "state": {
       "border": "solid 2px",
       "padding": "1rem"
      }
     },
     "d1de50d85a9440e38ae909d88e1870df": {
      "model_module": "@jupyter-widgets/controls",
      "model_module_version": "1.5.0",
      "model_name": "TextareaModel",
      "state": {
       "disabled": true,
       "layout": "IPY_MODEL_68b9eb1a22354675afbeb8c96323b15f",
       "placeholder": "",
       "style": "IPY_MODEL_16738a0997b741d694d0a194bc214b62"
      }
     },
     "d205ae948f70416c85abbf04eddbe280": {
      "model_module": "@jupyter-widgets/controls",
      "model_module_version": "1.5.0",
      "model_name": "LabelModel",
      "state": {
       "layout": "IPY_MODEL_861216a832fa4618a9a56a9162849b86",
       "style": "IPY_MODEL_e3cd9921a316491c92dbe2ccf14ca50c",
       "value": "Output:"
      }
     },
     "d25727dc5aa24680ab35dd2c877c2db0": {
      "model_module": "@jupyter-widgets/controls",
      "model_module_version": "1.5.0",
      "model_name": "VBoxModel",
      "state": {
       "children": [
        "IPY_MODEL_944a8a9696694cc1afa9f76db5629830",
        "IPY_MODEL_2ecb105adaec4fe7ae5e0d3c62e69ea2",
        "IPY_MODEL_bf9e47dbf76248c9999238a620bd517c",
        "IPY_MODEL_76a012a32ffc4b83bfdaa8c9d5716bcd"
       ],
       "layout": "IPY_MODEL_b7520211c7334e01b8dc4aa83e819cbc"
      }
     },
     "d27162d2027a4b6798a56d97385556cb": {
      "model_module": "@jupyter-widgets/base",
      "model_module_version": "1.2.0",
      "model_name": "LayoutModel",
      "state": {}
     },
     "d2f1fb45aaa14150a9d59296e4e062b9": {
      "model_module": "@jupyter-widgets/controls",
      "model_module_version": "1.5.0",
      "model_name": "HTMLModel",
      "state": {
       "layout": "IPY_MODEL_53f0c5de3d7c45baa0c9dd818fa7b89a",
       "style": "IPY_MODEL_fdbd3c9633f84b7bbab651cba0dfdcc0",
       "value": "다음 중에서 조건 선택에 해당되지 않는 제어문은 무엇인가?"
      }
     },
     "d302707d6c2043cb939115c8e7e3fa19": {
      "model_module": "@jupyter-widgets/base",
      "model_module_version": "1.2.0",
      "model_name": "LayoutModel",
      "state": {}
     },
     "d318d7c0c696490a98855a6f0a956bbd": {
      "model_module": "@jupyter-widgets/controls",
      "model_module_version": "1.5.0",
      "model_name": "DescriptionStyleModel",
      "state": {
       "description_width": ""
      }
     },
     "d32573dfc6614e1f9488adbb93ccf2cc": {
      "model_module": "@jupyter-widgets/base",
      "model_module_version": "1.2.0",
      "model_name": "LayoutModel",
      "state": {}
     },
     "d3296b94913e496d8e2b1aed0b30b76a": {
      "model_module": "@jupyter-widgets/controls",
      "model_module_version": "1.5.0",
      "model_name": "DescriptionStyleModel",
      "state": {
       "description_width": ""
      }
     },
     "d3402f786e5e4d9c900a610a54a32a43": {
      "model_module": "@jupyter-widgets/controls",
      "model_module_version": "1.5.0",
      "model_name": "ToggleButtonModel",
      "state": {
       "description": "Hide code",
       "layout": "IPY_MODEL_24b03d9c089346d1843f5f042d9b5351",
       "style": "IPY_MODEL_3e4d02a4c4634a8293be5ac3e73cf110",
       "value": true
      }
     },
     "d39e6e7040074e298b1e92d61beb6926": {
      "model_module": "@jupyter-widgets/controls",
      "model_module_version": "1.5.0",
      "model_name": "DescriptionStyleModel",
      "state": {
       "description_width": ""
      }
     },
     "d3a4e6370f9448c6a8dc6aa9d28f64e8": {
      "model_module": "@jupyter-widgets/controls",
      "model_module_version": "1.5.0",
      "model_name": "ButtonStyleModel",
      "state": {}
     },
     "d3bbfd0145fe4caa972c7028d5a92381": {
      "model_module": "@jupyter-widgets/base",
      "model_module_version": "1.2.0",
      "model_name": "LayoutModel",
      "state": {}
     },
     "d3e0d3d24d0b4f999f2dd0e2229b7115": {
      "model_module": "@jupyter-widgets/base",
      "model_module_version": "1.2.0",
      "model_name": "LayoutModel",
      "state": {}
     },
     "d3e8887590ee4c1ab37cb670b433df56": {
      "model_module": "@jupyter-widgets/base",
      "model_module_version": "1.2.0",
      "model_name": "LayoutModel",
      "state": {}
     },
     "d3e946ff87c947e0bedfda6804c80cae": {
      "model_module": "@jupyter-widgets/base",
      "model_module_version": "1.2.0",
      "model_name": "LayoutModel",
      "state": {}
     },
     "d3ea564eb7dd48fab2902f777ca2e6df": {
      "model_module": "@jupyter-widgets/controls",
      "model_module_version": "1.5.0",
      "model_name": "DescriptionStyleModel",
      "state": {
       "description_width": ""
      }
     },
     "d433d0145b7e474882af2dc8fe41aded": {
      "model_module": "@jupyter-widgets/controls",
      "model_module_version": "1.5.0",
      "model_name": "DescriptionStyleModel",
      "state": {
       "description_width": ""
      }
     },
     "d43b5c4622ab484d8ed9a67f3195ea23": {
      "model_module": "@jupyter-widgets/base",
      "model_module_version": "1.2.0",
      "model_name": "LayoutModel",
      "state": {}
     },
     "d45171beb9be427d958224193bd345d5": {
      "model_module": "@jupyter-widgets/controls",
      "model_module_version": "1.5.0",
      "model_name": "DescriptionStyleModel",
      "state": {
       "description_width": ""
      }
     },
     "d46ff2a6d314419783a0cfb070a96dd3": {
      "model_module": "@jupyter-widgets/controls",
      "model_module_version": "1.5.0",
      "model_name": "HTMLModel",
      "state": {
       "layout": "IPY_MODEL_fac349eae7604b66a3fe7bbc9f5f0441",
       "style": "IPY_MODEL_c82681e0ec1c498982590ec9495e9ced",
       "value": "(2) Suppose a new instruction was inserted as follows:  <br><br>z = x + y<br>Add 1 more to z (new instruction)<br>Put z to output<br><br>What would the last instruction then output to the screen?<br>"
      }
     },
     "d47a06868a164d68b32e05ffcb087d44": {
      "model_module": "@jupyter-widgets/base",
      "model_module_version": "1.2.0",
      "model_name": "LayoutModel",
      "state": {
       "border": "solid 1px"
      }
     },
     "d4b9d4605574439082be0430a425cd31": {
      "model_module": "@jupyter-widgets/controls",
      "model_module_version": "1.5.0",
      "model_name": "DescriptionStyleModel",
      "state": {
       "description_width": ""
      }
     },
     "d514d4b39cd34251af319518bb1430a1": {
      "model_module": "@jupyter-widgets/controls",
      "model_module_version": "1.5.0",
      "model_name": "DescriptionStyleModel",
      "state": {
       "description_width": ""
      }
     },
     "d544db5e3a534a94a2d4b65c5b63acd9": {
      "model_module": "@jupyter-widgets/base",
      "model_module_version": "1.2.0",
      "model_name": "LayoutModel",
      "state": {}
     },
     "d55b68435c3349719116968b24c6e262": {
      "model_module": "@jupyter-widgets/controls",
      "model_module_version": "1.5.0",
      "model_name": "LabelModel",
      "state": {
       "layout": "IPY_MODEL_24825369d46943d88c7ec411d114b6a4",
       "style": "IPY_MODEL_b37833f14839420d9021003f935c9674",
       "value": "Input:"
      }
     },
     "d5bab305cade48ecb0f3825022b5f61c": {
      "model_module": "@jupyter-widgets/base",
      "model_module_version": "1.2.0",
      "model_name": "LayoutModel",
      "state": {}
     },
     "d5d1b93b395948ec824c6245b049aea5": {
      "model_module": "@jupyter-widgets/controls",
      "model_module_version": "1.5.0",
      "model_name": "DescriptionStyleModel",
      "state": {
       "description_width": ""
      }
     },
     "d5e38d4304a2454c8fca36cf697ea855": {
      "model_module": "@jupyter-widgets/base",
      "model_module_version": "1.2.0",
      "model_name": "LayoutModel",
      "state": {}
     },
     "d5f11308053d4255ac088aa2ba2e1287": {
      "model_module": "@jupyter-widgets/controls",
      "model_module_version": "1.5.0",
      "model_name": "DescriptionStyleModel",
      "state": {
       "description_width": ""
      }
     },
     "d6cc75f9d10d44bb84841c2833e904e1": {
      "model_module": "@jupyter-widgets/controls",
      "model_module_version": "1.5.0",
      "model_name": "ButtonStyleModel",
      "state": {}
     },
     "d6f8a6b780bc4b47944f8e65e0b8ef15": {
      "model_module": "@jupyter-widgets/controls",
      "model_module_version": "1.5.0",
      "model_name": "DescriptionStyleModel",
      "state": {
       "description_width": ""
      }
     },
     "d7016ebedc724087b11533bca23b6297": {
      "model_module": "@jupyter-widgets/controls",
      "model_module_version": "1.5.0",
      "model_name": "DescriptionStyleModel",
      "state": {
       "description_width": ""
      }
     },
     "d78fcaf6788543cc8dcb9eb42339f8d8": {
      "model_module": "@jupyter-widgets/base",
      "model_module_version": "1.2.0",
      "model_name": "LayoutModel",
      "state": {}
     },
     "d7bccd8a4842478aaed9fe5249a363f8": {
      "model_module": "@jupyter-widgets/controls",
      "model_module_version": "1.5.0",
      "model_name": "ButtonModel",
      "state": {
       "button_style": "warning",
       "description": "Run Code",
       "icon": "check",
       "layout": "IPY_MODEL_45d9dd9037494f78bd56758643893eb0",
       "style": "IPY_MODEL_749ea4befa3546dfa53e7cafb4f82202"
      }
     },
     "d7df9f9ee5cd4f2cb51cd3dbee22ed14": {
      "model_module": "@jupyter-widgets/base",
      "model_module_version": "1.2.0",
      "model_name": "LayoutModel",
      "state": {}
     },
     "d7fd7ad77acb457dbbaf7647dd57ae0a": {
      "model_module": "@jupyter-widgets/base",
      "model_module_version": "1.2.0",
      "model_name": "LayoutModel",
      "state": {}
     },
     "d80178265e9849ddbc9d7ddfb5578903": {
      "model_module": "@jupyter-widgets/base",
      "model_module_version": "1.2.0",
      "model_name": "LayoutModel",
      "state": {
       "border": "solid 2px",
       "padding": "1rem"
      }
     },
     "d8245250301b4044a11c83c90afb1926": {
      "model_module": "@jupyter-widgets/base",
      "model_module_version": "1.2.0",
      "model_name": "LayoutModel",
      "state": {
       "border": "solid 2px",
       "padding": "1rem"
      }
     },
     "d83bd148058b4b389d04d138a27b9570": {
      "model_module": "@jupyter-widgets/controls",
      "model_module_version": "1.5.0",
      "model_name": "DescriptionStyleModel",
      "state": {
       "description_width": ""
      }
     },
     "d88c903680e645199d04101df1e7704c": {
      "model_module": "@jupyter-widgets/controls",
      "model_module_version": "1.5.0",
      "model_name": "DescriptionStyleModel",
      "state": {
       "description_width": ""
      }
     },
     "d8a4050fcd1042ec912e399c98fa94d4": {
      "model_module": "@jupyter-widgets/controls",
      "model_module_version": "1.5.0",
      "model_name": "DescriptionStyleModel",
      "state": {
       "description_width": ""
      }
     },
     "d920e3e6e575420a840624316644869e": {
      "model_module": "@jupyter-widgets/base",
      "model_module_version": "1.2.0",
      "model_name": "LayoutModel",
      "state": {}
     },
     "da0819ab86fd45cbbba027732764bf92": {
      "model_module": "@jupyter-widgets/controls",
      "model_module_version": "1.5.0",
      "model_name": "VBoxModel",
      "state": {
       "children": [
        "IPY_MODEL_d55b68435c3349719116968b24c6e262",
        "IPY_MODEL_9a9e56669e4a472ebcb4140718b8175c"
       ],
       "layout": "IPY_MODEL_96b72b294fdf46c4b2755f8016ba70e7"
      }
     },
     "da15340fcbeb4fae923290c8486149ba": {
      "model_module": "@jupyter-widgets/controls",
      "model_module_version": "1.5.0",
      "model_name": "HTMLModel",
      "state": {
       "layout": "IPY_MODEL_ba2f3554be55413a841c8aba6e96fef5",
       "style": "IPY_MODEL_bd6c65101c5348bbbb05fc5c022c0b85",
       "value": "(1) ___문은 조건에 따른 선택을 지원하는 구문이다."
      }
     },
     "da4b210e53b64d858ef197a04d8e39da": {
      "model_module": "@jupyter-widgets/base",
      "model_module_version": "1.2.0",
      "model_name": "LayoutModel",
      "state": {}
     },
     "da9040fb688a4cbf8e00c354aa7296fb": {
      "model_module": "@jupyter-widgets/controls",
      "model_module_version": "1.5.0",
      "model_name": "HTMLModel",
      "state": {
       "layout": "IPY_MODEL_2e767240e33449bd9a9b6c45662776d2",
       "style": "IPY_MODEL_e1a62e5977724028960776d6c237e616"
      }
     },
     "daf4efad47fd402abf2d80a4f6985d62": {
      "model_module": "@jupyter-widgets/controls",
      "model_module_version": "1.5.0",
      "model_name": "VBoxModel",
      "state": {
       "layout": "IPY_MODEL_f9ffd968ec034216a148e54d6162f836"
      }
     },
     "db04624cfdd3485c968c8bc7e97fa73c": {
      "model_module": "@jupyter-widgets/controls",
      "model_module_version": "1.5.0",
      "model_name": "VBoxModel",
      "state": {
       "children": [
        "IPY_MODEL_88f0a5bc167a4f3cb05122237c5c0918",
        "IPY_MODEL_6a5e8dc4282b4da7ba3b681724d07355",
        "IPY_MODEL_b20c5755f1024ab9979658c7be2801bc",
        "IPY_MODEL_f6d823c480d742d7b26f81bc9247b333"
       ],
       "layout": "IPY_MODEL_29f9115bde414d459b1e92488fe4640a"
      }
     },
     "db8677bd83c0460c9a2eb176933317ab": {
      "model_module": "@jupyter-widgets/controls",
      "model_module_version": "1.5.0",
      "model_name": "DescriptionStyleModel",
      "state": {
       "description_width": ""
      }
     },
     "dbc63cdbd68b4b1ca05b7e23abca1154": {
      "model_module": "@jupyter-widgets/controls",
      "model_module_version": "1.5.0",
      "model_name": "VBoxModel",
      "state": {
       "layout": "IPY_MODEL_37416b96bda347dba60efd897bc2e2be"
      }
     },
     "dc09f7a72e184e4b8e1ca80e7160b120": {
      "model_module": "@jupyter-widgets/controls",
      "model_module_version": "1.5.0",
      "model_name": "DescriptionStyleModel",
      "state": {
       "description_width": ""
      }
     },
     "dc61ddeac58d4e9cbad3400a5d833cbc": {
      "model_module": "@jupyter-widgets/base",
      "model_module_version": "1.2.0",
      "model_name": "LayoutModel",
      "state": {}
     },
     "dc83ddc2cd364ecca6a38734edbae161": {
      "model_module": "@jupyter-widgets/controls",
      "model_module_version": "1.5.0",
      "model_name": "DescriptionStyleModel",
      "state": {
       "description_width": ""
      }
     },
     "dca4153b7a114c58a94a3ec8f884c585": {
      "model_module": "@jupyter-widgets/controls",
      "model_module_version": "1.5.0",
      "model_name": "DescriptionStyleModel",
      "state": {
       "description_width": ""
      }
     },
     "dd03722785d54810ae38cf014cca3139": {
      "model_module": "@jupyter-widgets/controls",
      "model_module_version": "1.5.0",
      "model_name": "DescriptionStyleModel",
      "state": {
       "description_width": ""
      }
     },
     "dd5a6cd0e2f6431e9ed8ec19fec8fe9c": {
      "model_module": "@jupyter-widgets/controls",
      "model_module_version": "1.5.0",
      "model_name": "ButtonModel",
      "state": {
       "button_style": "warning",
       "description": "Check",
       "icon": "check",
       "layout": "IPY_MODEL_26fa485159b44a858dbf29bbcd078047",
       "style": "IPY_MODEL_8ae2aafb141845b0979b7aa9df380dfe"
      }
     },
     "dd62d39eef934f8d83ae81d354b39d17": {
      "model_module": "@jupyter-widgets/controls",
      "model_module_version": "1.5.0",
      "model_name": "ButtonStyleModel",
      "state": {}
     },
     "dd87c92d4ca74b25ad242c0a1876b505": {
      "model_module": "@jupyter-widgets/controls",
      "model_module_version": "1.5.0",
      "model_name": "DescriptionStyleModel",
      "state": {
       "description_width": ""
      }
     },
     "dd9a0c0be46f47c9be0f2740656751c4": {
      "model_module": "@jupyter-widgets/controls",
      "model_module_version": "1.5.0",
      "model_name": "DescriptionStyleModel",
      "state": {
       "description_width": ""
      }
     },
     "ddb440a9b3c342a8a151f47ed9806341": {
      "model_module": "@jupyter-widgets/controls",
      "model_module_version": "1.5.0",
      "model_name": "VBoxModel",
      "state": {
       "children": [
        "IPY_MODEL_da15340fcbeb4fae923290c8486149ba",
        "IPY_MODEL_2bb0970173914de79ab89a2b5daf456e",
        "IPY_MODEL_e8fd487b818d41c7ae55fdb9374a066c",
        "IPY_MODEL_8309ba16ffd5440eab79044e17917813"
       ],
       "layout": "IPY_MODEL_0aceef907f094cebb21ca6059d7f18df"
      }
     },
     "dea96104bd654f68b097d6cc6a239b2c": {
      "model_module": "@jupyter-widgets/base",
      "model_module_version": "1.2.0",
      "model_name": "LayoutModel",
      "state": {}
     },
     "decd90239cdb48e78f8b644fe96d0400": {
      "model_module": "@jupyter-widgets/controls",
      "model_module_version": "1.5.0",
      "model_name": "TextModel",
      "state": {
       "layout": "IPY_MODEL_53bf0fc47bea48c7bbfff734a1edd4e8",
       "style": "IPY_MODEL_f94cbee062d74fbfabc2dd0fae4bfe61"
      }
     },
     "deff6e67887a4f33a7ef1ebf4977a7cb": {
      "model_module": "@jupyter-widgets/base",
      "model_module_version": "1.2.0",
      "model_name": "LayoutModel",
      "state": {
       "height": "200px",
       "width": "99%"
      }
     },
     "dfcea908115b464e8d63905bc3a9b159": {
      "model_module": "@jupyter-widgets/base",
      "model_module_version": "1.2.0",
      "model_name": "LayoutModel",
      "state": {}
     },
     "dfcfec9dcac8405a8c288fa205fc96f3": {
      "model_module": "@jupyter-widgets/base",
      "model_module_version": "1.2.0",
      "model_name": "LayoutModel",
      "state": {}
     },
     "dff22430bcfd434688ebf032f24adafa": {
      "model_module": "@jupyter-widgets/controls",
      "model_module_version": "1.5.0",
      "model_name": "CheckboxModel",
      "state": {
       "disabled": true,
       "layout": "IPY_MODEL_8f8a7a70bd53435c973421695d2b6532",
       "style": "IPY_MODEL_dc09f7a72e184e4b8e1ca80e7160b120",
       "value": false
      }
     },
     "e0466e6d24764391892d067619420027": {
      "model_module": "@jupyter-widgets/controls",
      "model_module_version": "1.5.0",
      "model_name": "VBoxModel",
      "state": {
       "children": [
        "IPY_MODEL_503eaae2d3ae4d40af27dfe7eae7183a",
        "IPY_MODEL_48eef0e83f3f483a81ebed671538b862",
        "IPY_MODEL_8ba9215d358a40d9975a42e7be4b38db",
        "IPY_MODEL_99af418d7d2d4c069441793c5bbb34ce"
       ],
       "layout": "IPY_MODEL_972f70122fdb4adcbff85cdb98904012"
      }
     },
     "e07cee2149b245df93dcc428b64856e4": {
      "model_module": "@jupyter-widgets/controls",
      "model_module_version": "1.5.0",
      "model_name": "DescriptionStyleModel",
      "state": {
       "description_width": ""
      }
     },
     "e0b62b65b5b14ca29b4569061a02c684": {
      "model_module": "@jupyter-widgets/controls",
      "model_module_version": "1.5.0",
      "model_name": "ButtonModel",
      "state": {
       "button_style": "warning",
       "description": "Check",
       "icon": "check",
       "layout": "IPY_MODEL_74a276b6145646d8aaf07ea24f014c48",
       "style": "IPY_MODEL_58fd4bb190654d9f9b0492a5afc79f6d"
      }
     },
     "e0d8bd33672f499f99cdf6ee5c4b387b": {
      "model_module": "@jupyter-widgets/controls",
      "model_module_version": "1.5.0",
      "model_name": "ButtonModel",
      "state": {
       "layout": "IPY_MODEL_da4b210e53b64d858ef197a04d8e39da",
       "style": "IPY_MODEL_cbafcecc72b846e29d22be2248229068"
      }
     },
     "e102338f544a4b18971fb2a83c40ca68": {
      "model_module": "@jupyter-widgets/base",
      "model_module_version": "1.2.0",
      "model_name": "LayoutModel",
      "state": {}
     },
     "e162bae529c84583bed85c59da4be24c": {
      "model_module": "@jupyter-widgets/controls",
      "model_module_version": "1.5.0",
      "model_name": "DescriptionStyleModel",
      "state": {
       "description_width": ""
      }
     },
     "e1a62e5977724028960776d6c237e616": {
      "model_module": "@jupyter-widgets/controls",
      "model_module_version": "1.5.0",
      "model_name": "DescriptionStyleModel",
      "state": {
       "description_width": ""
      }
     },
     "e1a74a5c20f04108b8bf3763207e7355": {
      "model_module": "@jupyter-widgets/base",
      "model_module_version": "1.2.0",
      "model_name": "LayoutModel",
      "state": {}
     },
     "e1a7a438bab149d59b683e229372c9b3": {
      "model_module": "@jupyter-widgets/controls",
      "model_module_version": "1.5.0",
      "model_name": "HTMLModel",
      "state": {
       "layout": "IPY_MODEL_49d829b09f24449fb5f959814d596f8c",
       "style": "IPY_MODEL_1f7aa1dd29d54c08b4aec9915f3624f4",
       "value": "<font color='green'> break는 반복을 종료할 때 사용한다."
      }
     },
     "e1fc0e44a1614f3bb0bc79d5516603d0": {
      "model_module": "@jupyter-widgets/controls",
      "model_module_version": "1.5.0",
      "model_name": "DescriptionStyleModel",
      "state": {
       "description_width": ""
      }
     },
     "e240155370f940d4956af1e06e7f87f8": {
      "model_module": "@jupyter-widgets/controls",
      "model_module_version": "1.5.0",
      "model_name": "DescriptionStyleModel",
      "state": {
       "description_width": ""
      }
     },
     "e2a2574020464dc18d875fe31d9078bc": {
      "model_module": "@jupyter-widgets/controls",
      "model_module_version": "1.5.0",
      "model_name": "VBoxModel",
      "state": {
       "layout": "IPY_MODEL_f528375263ed4d3bb55bb767711d240d"
      }
     },
     "e2a5b99c689d4b7898b7ccfa79f6dc7e": {
      "model_module": "@jupyter-widgets/base",
      "model_module_version": "1.2.0",
      "model_name": "LayoutModel",
      "state": {}
     },
     "e2f6f407d6824786af120bfdcd37fb58": {
      "model_module": "@jupyter-widgets/base",
      "model_module_version": "1.2.0",
      "model_name": "LayoutModel",
      "state": {}
     },
     "e31bba5a014b460584375ee4708148ec": {
      "model_module": "@jupyter-widgets/controls",
      "model_module_version": "1.5.0",
      "model_name": "ButtonModel",
      "state": {
       "layout": "IPY_MODEL_36b0640334f948aeb4f4aa82b841899f",
       "style": "IPY_MODEL_3df7f67aa54c4e269db75e7d00e3d78b"
      }
     },
     "e32065718b26426f85f0f625c512452b": {
      "model_module": "@jupyter-widgets/controls",
      "model_module_version": "1.5.0",
      "model_name": "HBoxModel",
      "state": {
       "children": [
        "IPY_MODEL_5ad610f4b5c64ce39da00fa5bcaac5be",
        "IPY_MODEL_5a19f25f2ce04498b873d589a642b4c9"
       ],
       "layout": "IPY_MODEL_a3546cc0821b4ad6a219ece4454ace72"
      }
     },
     "e327393805ed49969a234810e1978e93": {
      "model_module": "@jupyter-widgets/base",
      "model_module_version": "1.2.0",
      "model_name": "LayoutModel",
      "state": {}
     },
     "e35cae3703054dfeb3d866b6d68b9301": {
      "model_module": "@jupyter-widgets/base",
      "model_module_version": "1.2.0",
      "model_name": "LayoutModel",
      "state": {}
     },
     "e3cd9921a316491c92dbe2ccf14ca50c": {
      "model_module": "@jupyter-widgets/controls",
      "model_module_version": "1.5.0",
      "model_name": "DescriptionStyleModel",
      "state": {
       "description_width": ""
      }
     },
     "e3d66738ee0a40618d1064bb4ceac512": {
      "model_module": "@jupyter-widgets/controls",
      "model_module_version": "1.5.0",
      "model_name": "ButtonModel",
      "state": {
       "button_style": "warning",
       "description": "Check",
       "icon": "check",
       "layout": "IPY_MODEL_8c55d96e4b744060a7da43113345d43a",
       "style": "IPY_MODEL_b14bef4502a44943888f352a43661468"
      }
     },
     "e3dcd7e24862479e8fdd11f9803bc41f": {
      "model_module": "@jupyter-widgets/controls",
      "model_module_version": "1.5.0",
      "model_name": "DescriptionStyleModel",
      "state": {
       "description_width": ""
      }
     },
     "e4b6d6c049fd4f82a72feb9bed52f169": {
      "model_module": "@jupyter-widgets/base",
      "model_module_version": "1.2.0",
      "model_name": "LayoutModel",
      "state": {}
     },
     "e4c57c2000fc4966b320c8976e11fdab": {
      "model_module": "@jupyter-widgets/base",
      "model_module_version": "1.2.0",
      "model_name": "LayoutModel",
      "state": {}
     },
     "e52254bfed504510b40a889d6dfb2b41": {
      "model_module": "@jupyter-widgets/base",
      "model_module_version": "1.2.0",
      "model_name": "LayoutModel",
      "state": {}
     },
     "e550535431cc4b47895a3955c091b03b": {
      "model_module": "@jupyter-widgets/controls",
      "model_module_version": "1.5.0",
      "model_name": "ButtonModel",
      "state": {
       "layout": "IPY_MODEL_0ce554b06e884777bba4e5c057197df4",
       "style": "IPY_MODEL_707b7be850ca40aab0ef902a980e79bc"
      }
     },
     "e5929886d5544799aa9531f8c0f3ff21": {
      "model_module": "@jupyter-widgets/controls",
      "model_module_version": "1.5.0",
      "model_name": "VBoxModel",
      "state": {
       "layout": "IPY_MODEL_10dd36c7c2b6464e9989dae265674fdd"
      }
     },
     "e5a47a5c906149178c673dd6915605ad": {
      "model_module": "@jupyter-widgets/controls",
      "model_module_version": "1.5.0",
      "model_name": "VBoxModel",
      "state": {
       "children": [
        "IPY_MODEL_bbfce5ee31f147b28c74c66464235421",
        "IPY_MODEL_722f4cc43f7d439a9c7c7bfddb0762ca",
        "IPY_MODEL_51f6faac0dbb48cf8e49d5fb16c57ea8",
        "IPY_MODEL_5058213c59cd4727bbb03f574223e984"
       ],
       "layout": "IPY_MODEL_0db471a5bc2d49f2a4537bd4ac5818ef"
      }
     },
     "e5a71e6cdb9b4be3b8a87dfb397b9ed2": {
      "model_module": "@jupyter-widgets/controls",
      "model_module_version": "1.5.0",
      "model_name": "ButtonModel",
      "state": {
       "layout": "IPY_MODEL_66a8420ee7644beca2d888fddb3a8c03",
       "style": "IPY_MODEL_7b112f0ccafd4d3eb949de797c3c26df"
      }
     },
     "e5ef7e1dbb8748f4acbeebe2e7e5db37": {
      "model_module": "@jupyter-widgets/controls",
      "model_module_version": "1.5.0",
      "model_name": "VBoxModel",
      "state": {
       "children": [
        "IPY_MODEL_fda80d76fe1541fbb2ee38f0c6ee92ba",
        "IPY_MODEL_cc69a4cc67864875b54e74098dc263fc",
        "IPY_MODEL_0854699fbb1942fa9b244b1af31f96a5",
        "IPY_MODEL_55b7fae717ce49228dfd32ea4ddd04bd"
       ],
       "layout": "IPY_MODEL_af1a00ed435b4ec9b7f50c600cabb9ea"
      }
     },
     "e684c3c7570c4df48fdfcf86f38d4074": {
      "model_module": "@jupyter-widgets/base",
      "model_module_version": "1.2.0",
      "model_name": "LayoutModel",
      "state": {}
     },
     "e6cc2e09a45a476f850c5ac28996d674": {
      "model_module": "@jupyter-widgets/controls",
      "model_module_version": "1.5.0",
      "model_name": "VBoxModel",
      "state": {
       "layout": "IPY_MODEL_61bce6565a9842799f04e948ee7b81d7"
      }
     },
     "e6dbce7c0510423381d68ee45b3d9d52": {
      "model_module": "@jupyter-widgets/controls",
      "model_module_version": "1.5.0",
      "model_name": "CheckboxModel",
      "state": {
       "disabled": true,
       "layout": "IPY_MODEL_ec6b6c316f914196814735086893d3ec",
       "style": "IPY_MODEL_48fd136a4f1549fd803b4719248943d0",
       "value": false
      }
     },
     "e72bdbe621a44950a392c3a7ffcbb215": {
      "model_module": "@jupyter-widgets/controls",
      "model_module_version": "1.5.0",
      "model_name": "DescriptionStyleModel",
      "state": {
       "description_width": ""
      }
     },
     "e7375f273ff948ecbb8ad2b695f6ae69": {
      "model_module": "@jupyter-widgets/base",
      "model_module_version": "1.2.0",
      "model_name": "LayoutModel",
      "state": {}
     },
     "e7591eea92764bf483785ea22494d09a": {
      "model_module": "@jupyter-widgets/controls",
      "model_module_version": "1.5.0",
      "model_name": "DescriptionStyleModel",
      "state": {
       "description_width": ""
      }
     },
     "e79f5d637c1c4e4f8cf761210dacdc8e": {
      "model_module": "@jupyter-widgets/controls",
      "model_module_version": "1.5.0",
      "model_name": "HTMLModel",
      "state": {
       "layout": "IPY_MODEL_6135773b6c654211bfef8db126a1c6c6",
       "style": "IPY_MODEL_6b4deea6b02845d58fd0f0b70575bcf7",
       "value": "<font color='green'> z = x + y assigned z with 2 + 5, or 7. Then, adding 1 more to z makes z become 8. Programs often have numerous such processing instructions."
      }
     },
     "e7f3b101a1b847338ca5007c228aa9af": {
      "model_module": "@jupyter-widgets/controls",
      "model_module_version": "1.5.0",
      "model_name": "DescriptionStyleModel",
      "state": {
       "description_width": ""
      }
     },
     "e82f26611f1949b2b2c97f177d4e8c40": {
      "model_module": "@jupyter-widgets/controls",
      "model_module_version": "1.5.0",
      "model_name": "DescriptionStyleModel",
      "state": {
       "description_width": ""
      }
     },
     "e83d4181f4ca41cf8eb69739daafac78": {
      "model_module": "@jupyter-widgets/controls",
      "model_module_version": "1.5.0",
      "model_name": "ButtonStyleModel",
      "state": {}
     },
     "e8548cdaeece40939c3f43a42e138354": {
      "model_module": "@jupyter-widgets/controls",
      "model_module_version": "1.5.0",
      "model_name": "LabelModel",
      "state": {
       "layout": "IPY_MODEL_f6d8fd7db3444b899b7ad05f488cc729",
       "style": "IPY_MODEL_2509cc04ef81443389df25706fb6f038",
       "value": "Write your own code:"
      }
     },
     "e8cbd566bc574945b4d07c06179a4e11": {
      "model_module": "@jupyter-widgets/base",
      "model_module_version": "1.2.0",
      "model_name": "LayoutModel",
      "state": {
       "border": "solid 2px",
       "padding": "1rem"
      }
     },
     "e8fd487b818d41c7ae55fdb9374a066c": {
      "model_module": "@jupyter-widgets/controls",
      "model_module_version": "1.5.0",
      "model_name": "ButtonModel",
      "state": {
       "button_style": "warning",
       "description": "Check",
       "icon": "check",
       "layout": "IPY_MODEL_87570fffed154fb49b857c122b9a1b4d",
       "style": "IPY_MODEL_cd5bfbadd0354961a74bf2a69e9ad49a"
      }
     },
     "e96021484d5e41b2a346adc5b46fb021": {
      "model_module": "@jupyter-widgets/controls",
      "model_module_version": "1.5.0",
      "model_name": "VBoxModel",
      "state": {
       "children": [
        "IPY_MODEL_b0e44d176ce04be280b72a158050a935",
        "IPY_MODEL_ed2290ae4ee348dfb0a10414827ed732"
       ],
       "layout": "IPY_MODEL_fddfb93e00a8459abee061170edf1149"
      }
     },
     "e978fe6878144e40a8f1300e9300a1a7": {
      "model_module": "@jupyter-widgets/base",
      "model_module_version": "1.2.0",
      "model_name": "LayoutModel",
      "state": {}
     },
     "e98b2e4d588e411e8c200da0efedb40c": {
      "model_module": "@jupyter-widgets/base",
      "model_module_version": "1.2.0",
      "model_name": "LayoutModel",
      "state": {}
     },
     "e9b4675d0c7c4f2fbed24a6bc2dabf5e": {
      "model_module": "@jupyter-widgets/base",
      "model_module_version": "1.2.0",
      "model_name": "LayoutModel",
      "state": {}
     },
     "e9c754b426e3406b8b4da4532f1a5fe4": {
      "model_module": "@jupyter-widgets/base",
      "model_module_version": "1.2.0",
      "model_name": "LayoutModel",
      "state": {
       "height": "100px",
       "width": "250px"
      }
     },
     "e9ea53b908e84a8d955dc040f9ad7a8d": {
      "model_module": "@jupyter-widgets/base",
      "model_module_version": "1.2.0",
      "model_name": "LayoutModel",
      "state": {}
     },
     "ea15e6a03455409099cb0f6dd61d15a5": {
      "model_module": "@jupyter-widgets/base",
      "model_module_version": "1.2.0",
      "model_name": "LayoutModel",
      "state": {}
     },
     "ea5792186060471e81f0d51e0c916d0f": {
      "model_module": "@jupyter-widgets/base",
      "model_module_version": "1.2.0",
      "model_name": "LayoutModel",
      "state": {
       "border": "solid 2px",
       "padding": "1rem"
      }
     },
     "eab30a02fd5640dcb65b6fa53f72c448": {
      "model_module": "@jupyter-widgets/controls",
      "model_module_version": "1.5.0",
      "model_name": "TextModel",
      "state": {
       "layout": "IPY_MODEL_979c6f4e7a4946f8a57d1116e6cec709",
       "style": "IPY_MODEL_85ca653cae174311973d4e6a31f4d212"
      }
     },
     "eacbb90fad85487ca7dcf11bc4b96418": {
      "model_module": "@jupyter-widgets/controls",
      "model_module_version": "1.5.0",
      "model_name": "DescriptionStyleModel",
      "state": {
       "description_width": ""
      }
     },
     "eafa595d46114567b8dc34e51f084e59": {
      "model_module": "@jupyter-widgets/controls",
      "model_module_version": "1.5.0",
      "model_name": "TextareaModel",
      "state": {
       "layout": "IPY_MODEL_c7b47973e75b405f8f1d3d6eeabb4be5",
       "style": "IPY_MODEL_9e5f001325264e0ca32c8da10c57381e"
      }
     },
     "eb6ec5687cc142b6a1ce679834e2589f": {
      "model_module": "@jupyter-widgets/controls",
      "model_module_version": "1.5.0",
      "model_name": "TextareaModel",
      "state": {
       "layout": "IPY_MODEL_46ba57c5980b4162b62cadec864e1c1b",
       "placeholder": "",
       "style": "IPY_MODEL_191651e76de346c48870c384a97f9310",
       "value": "#include <stdio.h>\n\nint main(void) {\n puts(\"Hello World!\");\n return 0;\n}"
      }
     },
     "ebe433315bd34541bf9a14598df44c00": {
      "model_module": "@jupyter-widgets/base",
      "model_module_version": "1.2.0",
      "model_name": "LayoutModel",
      "state": {}
     },
     "ebf67d1302e54421a4e732c4eb7b5903": {
      "model_module": "@jupyter-widgets/controls",
      "model_module_version": "1.5.0",
      "model_name": "CheckboxModel",
      "state": {
       "disabled": true,
       "layout": "IPY_MODEL_d7fd7ad77acb457dbbaf7647dd57ae0a",
       "style": "IPY_MODEL_6fd062b83e5542369a841e40954145d3",
       "value": false
      }
     },
     "ec3de60d84be42bc8baea2076bae0821": {
      "model_module": "@jupyter-widgets/base",
      "model_module_version": "1.2.0",
      "model_name": "LayoutModel",
      "state": {
       "height": "100px",
       "width": "250px"
      }
     },
     "ec6b6c316f914196814735086893d3ec": {
      "model_module": "@jupyter-widgets/base",
      "model_module_version": "1.2.0",
      "model_name": "LayoutModel",
      "state": {}
     },
     "ed1ea4ea493f4d059a4c6014710ddbb2": {
      "model_module": "@jupyter-widgets/controls",
      "model_module_version": "1.5.0",
      "model_name": "CheckboxModel",
      "state": {
       "disabled": true,
       "layout": "IPY_MODEL_a031cd0401e24d50a93d9e1aa5b575d7",
       "style": "IPY_MODEL_7fdff3c2f883436a80c6aac7b95bbec9",
       "value": false
      }
     },
     "ed2290ae4ee348dfb0a10414827ed732": {
      "model_module": "@jupyter-widgets/controls",
      "model_module_version": "1.5.0",
      "model_name": "TextareaModel",
      "state": {
       "layout": "IPY_MODEL_bf5521f2fbcc4d70b7c451182c7a54e2",
       "placeholder": "",
       "style": "IPY_MODEL_0fc051db375a441fadd9ef7bff90b8ef"
      }
     },
     "ed72750fe7ec41efb04f939f11181b4f": {
      "model_module": "@jupyter-widgets/controls",
      "model_module_version": "1.5.0",
      "model_name": "TextareaModel",
      "state": {
       "layout": "IPY_MODEL_7a30d182f87441048ba43bb44f69ebd2",
       "placeholder": "",
       "style": "IPY_MODEL_0d4ab20fa8294666bce3e22d388086bb",
       "value": "5\n0"
      }
     },
     "ee7f73db4ea044b5af207ab58121d58b": {
      "model_module": "@jupyter-widgets/controls",
      "model_module_version": "1.5.0",
      "model_name": "DescriptionStyleModel",
      "state": {
       "description_width": ""
      }
     },
     "eeb946e7e2084f83b34b2a42cc178b78": {
      "model_module": "@jupyter-widgets/controls",
      "model_module_version": "1.5.0",
      "model_name": "TextareaModel",
      "state": {
       "layout": "IPY_MODEL_e9b4675d0c7c4f2fbed24a6bc2dabf5e",
       "style": "IPY_MODEL_fe1968f656554515a792c8c641c5531a"
      }
     },
     "eefd0c5c1e0b4acba3a05eb0f7175a02": {
      "model_module": "@jupyter-widgets/controls",
      "model_module_version": "1.5.0",
      "model_name": "ButtonStyleModel",
      "state": {}
     },
     "ef3cc0ef4c1341f0aefe221a32401bc9": {
      "model_module": "@jupyter-widgets/controls",
      "model_module_version": "1.5.0",
      "model_name": "DescriptionStyleModel",
      "state": {
       "description_width": ""
      }
     },
     "ef6c5fcee84c4d318ca441c2f20bf203": {
      "model_module": "@jupyter-widgets/controls",
      "model_module_version": "1.5.0",
      "model_name": "ButtonModel",
      "state": {
       "layout": "IPY_MODEL_fc4d85d1dc784f49885952fbe49904c5",
       "style": "IPY_MODEL_dd62d39eef934f8d83ae81d354b39d17"
      }
     },
     "ef715d29c2034737805dbe2918e4a945": {
      "model_module": "@jupyter-widgets/controls",
      "model_module_version": "1.5.0",
      "model_name": "DescriptionStyleModel",
      "state": {
       "description_width": ""
      }
     },
     "efeb9334a01e4408b1b02f4b484e0d4a": {
      "model_module": "@jupyter-widgets/controls",
      "model_module_version": "1.5.0",
      "model_name": "ButtonStyleModel",
      "state": {}
     },
     "f02c2e35d03c4f19b1c5838f3c8ec7e3": {
      "model_module": "@jupyter-widgets/controls",
      "model_module_version": "1.5.0",
      "model_name": "ButtonStyleModel",
      "state": {}
     },
     "f0382b4ecd4740439ea35257b93b9e05": {
      "model_module": "@jupyter-widgets/controls",
      "model_module_version": "1.5.0",
      "model_name": "HTMLModel",
      "state": {
       "layout": "IPY_MODEL_92da14211bed45309fa2da29bcbad1a0",
       "style": "IPY_MODEL_dd03722785d54810ae38cf014cca3139"
      }
     },
     "f06881844049404ba0f43ea560a8e304": {
      "model_module": "@jupyter-widgets/base",
      "model_module_version": "1.2.0",
      "model_name": "LayoutModel",
      "state": {}
     },
     "f0f025481ede47c7894836110cf6c50f": {
      "model_module": "@jupyter-widgets/base",
      "model_module_version": "1.2.0",
      "model_name": "LayoutModel",
      "state": {}
     },
     "f0f7ee7c12a14721bfc42b976157893d": {
      "model_module": "@jupyter-widgets/controls",
      "model_module_version": "1.5.0",
      "model_name": "DescriptionStyleModel",
      "state": {
       "description_width": ""
      }
     },
     "f104605ae7a647b9a2dd5cbce49c4d5f": {
      "model_module": "@jupyter-widgets/controls",
      "model_module_version": "1.5.0",
      "model_name": "DescriptionStyleModel",
      "state": {
       "description_width": ""
      }
     },
     "f16a40a5783440528e0d0cbb318e19d4": {
      "model_module": "@jupyter-widgets/base",
      "model_module_version": "1.2.0",
      "model_name": "LayoutModel",
      "state": {}
     },
     "f16a6935b14e4027ba530a33f7d7bb0d": {
      "model_module": "@jupyter-widgets/base",
      "model_module_version": "1.2.0",
      "model_name": "LayoutModel",
      "state": {}
     },
     "f18f485b41f040d6846a254bbe8ae69a": {
      "model_module": "@jupyter-widgets/controls",
      "model_module_version": "1.5.0",
      "model_name": "DescriptionStyleModel",
      "state": {
       "description_width": ""
      }
     },
     "f1f1def70e3445708f8d2fa78240bc62": {
      "model_module": "@jupyter-widgets/base",
      "model_module_version": "1.2.0",
      "model_name": "LayoutModel",
      "state": {}
     },
     "f215790a555a49e6b55c7e414a3d02cc": {
      "model_module": "@jupyter-widgets/base",
      "model_module_version": "1.2.0",
      "model_name": "LayoutModel",
      "state": {}
     },
     "f2b5ca55f9744b578388a3431e779bc0": {
      "model_module": "@jupyter-widgets/base",
      "model_module_version": "1.2.0",
      "model_name": "LayoutModel",
      "state": {}
     },
     "f2e6951d6fee40d9a8c059d6229ab8a3": {
      "model_module": "@jupyter-widgets/controls",
      "model_module_version": "1.5.0",
      "model_name": "DescriptionStyleModel",
      "state": {
       "description_width": ""
      }
     },
     "f2f0de425c2c49a6b41ab9dc59b4602f": {
      "model_module": "@jupyter-widgets/controls",
      "model_module_version": "1.5.0",
      "model_name": "ButtonStyleModel",
      "state": {}
     },
     "f31825a6849b483988dfe6b1559bd513": {
      "model_module": "@jupyter-widgets/base",
      "model_module_version": "1.2.0",
      "model_name": "LayoutModel",
      "state": {}
     },
     "f38a6ff98c854ac386eec0fb0217cf5b": {
      "model_module": "@jupyter-widgets/controls",
      "model_module_version": "1.5.0",
      "model_name": "DescriptionStyleModel",
      "state": {
       "description_width": ""
      }
     },
     "f39712a974db44778fbb32cb2edd9eb4": {
      "model_module": "@jupyter-widgets/controls",
      "model_module_version": "1.5.0",
      "model_name": "TextModel",
      "state": {
       "layout": "IPY_MODEL_e2f6f407d6824786af120bfdcd37fb58",
       "style": "IPY_MODEL_d7016ebedc724087b11533bca23b6297"
      }
     },
     "f3e645f6d8e64b4bac3ae2917c526fb4": {
      "model_module": "@jupyter-widgets/controls",
      "model_module_version": "1.5.0",
      "model_name": "LabelModel",
      "state": {
       "layout": "IPY_MODEL_8db4894940674008aabe477d6f3d736a",
       "style": "IPY_MODEL_096a79465c2b4b8180d9ad01965fa635",
       "value": "Write your own code:"
      }
     },
     "f406c7b625da42de958cca227ccde365": {
      "model_module": "@jupyter-widgets/controls",
      "model_module_version": "1.5.0",
      "model_name": "ButtonModel",
      "state": {
       "layout": "IPY_MODEL_e7375f273ff948ecbb8ad2b695f6ae69",
       "style": "IPY_MODEL_9ffb51773ed94a27ac1db122715d54da"
      }
     },
     "f41250172e254b0ba1e428c349020ea0": {
      "model_module": "@jupyter-widgets/controls",
      "model_module_version": "1.5.0",
      "model_name": "DescriptionStyleModel",
      "state": {
       "description_width": ""
      }
     },
     "f41e623527654c408a6dd0e5330d4b17": {
      "model_module": "@jupyter-widgets/controls",
      "model_module_version": "1.5.0",
      "model_name": "DescriptionStyleModel",
      "state": {
       "description_width": ""
      }
     },
     "f4a7c9451920457a8894bf9a704b7b32": {
      "model_module": "@jupyter-widgets/base",
      "model_module_version": "1.2.0",
      "model_name": "LayoutModel",
      "state": {}
     },
     "f4fff20182a04861a405b2edbc4ccfe0": {
      "model_module": "@jupyter-widgets/controls",
      "model_module_version": "1.5.0",
      "model_name": "DescriptionStyleModel",
      "state": {
       "description_width": ""
      }
     },
     "f5047265a1d44d74b01da67f069fe90b": {
      "model_module": "@jupyter-widgets/controls",
      "model_module_version": "1.5.0",
      "model_name": "DescriptionStyleModel",
      "state": {
       "description_width": ""
      }
     },
     "f528375263ed4d3bb55bb767711d240d": {
      "model_module": "@jupyter-widgets/base",
      "model_module_version": "1.2.0",
      "model_name": "LayoutModel",
      "state": {}
     },
     "f56d6f358d3f4facb1e40499cdd43d20": {
      "model_module": "@jupyter-widgets/controls",
      "model_module_version": "1.5.0",
      "model_name": "TextareaModel",
      "state": {
       "layout": "IPY_MODEL_fb3564bd941d40aeb311d114c6c3bfc2",
       "placeholder": "",
       "style": "IPY_MODEL_c3837493e71048228fe17fe2749d76a6",
       "value": "#include <stdio.h>\n\nint main(void) {\n    int mult, n, i;\n    \n    for (;;) {\n        printf(\"Insert any number from 1 to 20 (0 to exit): \");\n        scanf(\"%d\", &n);\n        if(n<=0)\n            break;\n        for(i=1, mult = 1;i<=n;i++)\n            mult *= i;\n        printf(\"n! is: %d\\n\", n, mult);\n    }\n    puts(\"Exit..\");\n    \n    return 0;\n        \n}"
      }
     },
     "f5942f57caba4a65a55e2043b3cd934c": {
      "model_module": "@jupyter-widgets/base",
      "model_module_version": "1.2.0",
      "model_name": "LayoutModel",
      "state": {}
     },
     "f5bc78a7b93a4bf8a7bb2f78ad2ee61c": {
      "model_module": "@jupyter-widgets/controls",
      "model_module_version": "1.5.0",
      "model_name": "RadioButtonsModel",
      "state": {
       "index": null,
       "layout": "IPY_MODEL_520d842fdf9745348514855935ff8e8c",
       "style": "IPY_MODEL_58e588a3a0d440d2b6704b184f908130"
      }
     },
     "f6149be9d9094cf5b8744f1ff45b3694": {
      "model_module": "@jupyter-widgets/controls",
      "model_module_version": "1.5.0",
      "model_name": "DescriptionStyleModel",
      "state": {
       "description_width": ""
      }
     },
     "f62bde91658847ef859f905b79f0c532": {
      "model_module": "@jupyter-widgets/controls",
      "model_module_version": "1.5.0",
      "model_name": "VBoxModel",
      "state": {
       "children": [
        "IPY_MODEL_76ea5f9b281e4769b71c75dcd20d785b",
        "IPY_MODEL_550231f0bdbe48b997ab6ef587369e63"
       ],
       "layout": "IPY_MODEL_5131d011cffa44eabbc9b38fcc70c15c"
      }
     },
     "f662509c3c444b97b633e82a85fb2b2a": {
      "model_module": "@jupyter-widgets/controls",
      "model_module_version": "1.5.0",
      "model_name": "DescriptionStyleModel",
      "state": {
       "description_width": ""
      }
     },
     "f67adc044a06419e984146f912fe1161": {
      "model_module": "@jupyter-widgets/controls",
      "model_module_version": "1.5.0",
      "model_name": "VBoxModel",
      "state": {
       "children": [
        "IPY_MODEL_c9326798178242738e4016c7bf649821",
        "IPY_MODEL_8728fece95e0460d89c3d024e9cb0343",
        "IPY_MODEL_5257e53aefda440e9d9d761f5692e0f3",
        "IPY_MODEL_5bd70f6de0374a9d8c03dedd9e061162"
       ],
       "layout": "IPY_MODEL_f7be167563544e67afb73e32a01629a8"
      }
     },
     "f6b789b1f82644fabc8e24fd5809086c": {
      "model_module": "@jupyter-widgets/controls",
      "model_module_version": "1.5.0",
      "model_name": "TextareaModel",
      "state": {
       "layout": "IPY_MODEL_b5a8132429cf419cbea5715f22065a93",
       "style": "IPY_MODEL_d3ea564eb7dd48fab2902f777ca2e6df"
      }
     },
     "f6bca733bc1646d9bd4cb059c93e68a7": {
      "model_module": "@jupyter-widgets/controls",
      "model_module_version": "1.5.0",
      "model_name": "ButtonModel",
      "state": {
       "button_style": "warning",
       "description": "Check",
       "icon": "check",
       "layout": "IPY_MODEL_29e2026999bf40b397d9f486193052d0",
       "style": "IPY_MODEL_59c77d6462c241bbbaf3720e96a121f0"
      }
     },
     "f6d823c480d742d7b26f81bc9247b333": {
      "model_module": "@jupyter-widgets/controls",
      "model_module_version": "1.5.0",
      "model_name": "HTMLModel",
      "state": {
       "layout": "IPY_MODEL_fb3988fec9624cfe8198a5d46608eafd",
       "style": "IPY_MODEL_945c1a26d02e4e27b9d48a1fa4392ad2"
      }
     },
     "f6d8fd7db3444b899b7ad05f488cc729": {
      "model_module": "@jupyter-widgets/base",
      "model_module_version": "1.2.0",
      "model_name": "LayoutModel",
      "state": {}
     },
     "f710f8735332462fb2adca0ae78c3fd8": {
      "model_module": "@jupyter-widgets/controls",
      "model_module_version": "1.5.0",
      "model_name": "DescriptionStyleModel",
      "state": {
       "description_width": ""
      }
     },
     "f762c9c96fe748efaccf49b614d71ef4": {
      "model_module": "@jupyter-widgets/controls",
      "model_module_version": "1.5.0",
      "model_name": "VBoxModel",
      "state": {
       "layout": "IPY_MODEL_5105464bb159422a839b4ed919c7ffc3"
      }
     },
     "f7be167563544e67afb73e32a01629a8": {
      "model_module": "@jupyter-widgets/base",
      "model_module_version": "1.2.0",
      "model_name": "LayoutModel",
      "state": {
       "border": "solid 2px",
       "padding": "1rem"
      }
     },
     "f7d11ed64ac246f599b6face48977e03": {
      "model_module": "@jupyter-widgets/controls",
      "model_module_version": "1.5.0",
      "model_name": "DescriptionStyleModel",
      "state": {
       "description_width": ""
      }
     },
     "f83850c733984ebcb9bb28b774dd8566": {
      "model_module": "@jupyter-widgets/controls",
      "model_module_version": "1.5.0",
      "model_name": "DescriptionStyleModel",
      "state": {
       "description_width": ""
      }
     },
     "f83a0c1831f940949c1ab42b8bac9c93": {
      "model_module": "@jupyter-widgets/controls",
      "model_module_version": "1.5.0",
      "model_name": "HTMLModel",
      "state": {
       "layout": "IPY_MODEL_0997730e1d8543f8800db35850cd7454",
       "style": "IPY_MODEL_5637b7039d064d7bbd05431b44ce5a69",
       "value": "반복 내부에서 반복을 종료하려면 ____ 문장을 사용한다."
      }
     },
     "f8fb99509f114f12a578bf07c4f180e3": {
      "model_module": "@jupyter-widgets/controls",
      "model_module_version": "1.5.0",
      "model_name": "CheckboxModel",
      "state": {
       "disabled": true,
       "layout": "IPY_MODEL_e102338f544a4b18971fb2a83c40ca68",
       "style": "IPY_MODEL_9430a860877e4c1d8aeaacb78aaf3a89",
       "value": false
      }
     },
     "f94cbee062d74fbfabc2dd0fae4bfe61": {
      "model_module": "@jupyter-widgets/controls",
      "model_module_version": "1.5.0",
      "model_name": "DescriptionStyleModel",
      "state": {
       "description_width": ""
      }
     },
     "f963079e47874f388c34adada30501d0": {
      "model_module": "@jupyter-widgets/controls",
      "model_module_version": "1.5.0",
      "model_name": "TextareaModel",
      "state": {
       "layout": "IPY_MODEL_a96ee2c456ef4cf18a319d07e4090854",
       "style": "IPY_MODEL_95dfc30781884decad724d8afcc5775d"
      }
     },
     "f978ad5b82df467c86730456f264858f": {
      "model_module": "@jupyter-widgets/controls",
      "model_module_version": "1.5.0",
      "model_name": "VBoxModel",
      "state": {
       "layout": "IPY_MODEL_f16a6935b14e4027ba530a33f7d7bb0d"
      }
     },
     "f97fcaab298b470a8fbe2e103e9eb5e0": {
      "model_module": "@jupyter-widgets/controls",
      "model_module_version": "1.5.0",
      "model_name": "ButtonModel",
      "state": {
       "layout": "IPY_MODEL_061919cf492248f0990875598f1dd20c",
       "style": "IPY_MODEL_2162ce4146a44504960ed94cf3e5135a"
      }
     },
     "f9dc521a32c948ef9f02375d407a9672": {
      "model_module": "@jupyter-widgets/controls",
      "model_module_version": "1.5.0",
      "model_name": "LabelModel",
      "state": {
       "layout": "IPY_MODEL_150b29c40fe041b5bee8b89891bdf2aa",
       "style": "IPY_MODEL_e72bdbe621a44950a392c3a7ffcbb215",
       "value": "Write your own code:"
      }
     },
     "f9ffd968ec034216a148e54d6162f836": {
      "model_module": "@jupyter-widgets/base",
      "model_module_version": "1.2.0",
      "model_name": "LayoutModel",
      "state": {}
     },
     "fa93b2f022e949f6873ab4f0bd37b20e": {
      "model_module": "@jupyter-widgets/controls",
      "model_module_version": "1.5.0",
      "model_name": "VBoxModel",
      "state": {
       "layout": "IPY_MODEL_fedf2492d1a14da9ba6f954e4543dc56"
      }
     },
     "fac349eae7604b66a3fe7bbc9f5f0441": {
      "model_module": "@jupyter-widgets/base",
      "model_module_version": "1.2.0",
      "model_name": "LayoutModel",
      "state": {}
     },
     "fac73d109b8f4d7aac05ff4bec4848fd": {
      "model_module": "@jupyter-widgets/controls",
      "model_module_version": "1.5.0",
      "model_name": "TextareaModel",
      "state": {
       "disabled": true,
       "layout": "IPY_MODEL_ab4f2237b8054b13b318486e7ea46704",
       "placeholder": "",
       "style": "IPY_MODEL_cdda3c86ef5840bda36ba63447387a8e"
      }
     },
     "fb3564bd941d40aeb311d114c6c3bfc2": {
      "model_module": "@jupyter-widgets/base",
      "model_module_version": "1.2.0",
      "model_name": "LayoutModel",
      "state": {
       "height": "200px",
       "width": "99%"
      }
     },
     "fb3988fec9624cfe8198a5d46608eafd": {
      "model_module": "@jupyter-widgets/base",
      "model_module_version": "1.2.0",
      "model_name": "LayoutModel",
      "state": {}
     },
     "fb4bcc9ca2274e15854aa578b3bea135": {
      "model_module": "@jupyter-widgets/base",
      "model_module_version": "1.2.0",
      "model_name": "LayoutModel",
      "state": {}
     },
     "fb4ceab6827b403baefcb82393bb54b4": {
      "model_module": "@jupyter-widgets/controls",
      "model_module_version": "1.5.0",
      "model_name": "TextareaModel",
      "state": {
       "disabled": true,
       "layout": "IPY_MODEL_c4c7728c78034036aea79d3192274fd4",
       "placeholder": "",
       "style": "IPY_MODEL_411ef8cdf5914a90bc546cb02aef5689",
       "value": "Sum from 1 to 10 is 10\n"
      }
     },
     "fc241fc0f87a44c98e28f7004fd2f5e3": {
      "model_module": "@jupyter-widgets/controls",
      "model_module_version": "1.5.0",
      "model_name": "VBoxModel",
      "state": {
       "children": [
        "IPY_MODEL_70ac3c7a18fa4194930d6b2099fdac79",
        "IPY_MODEL_59686b03867943319a4a05e0073e11a5",
        "IPY_MODEL_47625cce4a0e4bf6a2e3b020f1847767",
        "IPY_MODEL_8a6ae4272e4f42158079c479aec1a2ec"
       ],
       "layout": "IPY_MODEL_b05eea2551b042c09d07cc91bb2ea5d7"
      }
     },
     "fc4d85d1dc784f49885952fbe49904c5": {
      "model_module": "@jupyter-widgets/base",
      "model_module_version": "1.2.0",
      "model_name": "LayoutModel",
      "state": {}
     },
     "fc72b7dcbbad448cbcfbf60a3b3891cd": {
      "model_module": "@jupyter-widgets/controls",
      "model_module_version": "1.5.0",
      "model_name": "ButtonStyleModel",
      "state": {}
     },
     "fd13a9aa09fb415380785a81ff585caf": {
      "model_module": "@jupyter-widgets/controls",
      "model_module_version": "1.5.0",
      "model_name": "DescriptionStyleModel",
      "state": {
       "description_width": ""
      }
     },
     "fd46710958ce4723a0b2597f78f9d5b0": {
      "model_module": "@jupyter-widgets/controls",
      "model_module_version": "1.5.0",
      "model_name": "ButtonStyleModel",
      "state": {}
     },
     "fd4dfbc845e541f6a2d15579f8c9d376": {
      "model_module": "@jupyter-widgets/controls",
      "model_module_version": "1.5.0",
      "model_name": "TextModel",
      "state": {
       "layout": "IPY_MODEL_37c50e7eec6e4c0c9480ca7776d2bf5b",
       "style": "IPY_MODEL_dc83ddc2cd364ecca6a38734edbae161"
      }
     },
     "fd7811188c0f4a61a245b6689d0f7bb6": {
      "model_module": "@jupyter-widgets/controls",
      "model_module_version": "1.5.0",
      "model_name": "ButtonStyleModel",
      "state": {}
     },
     "fda80d76fe1541fbb2ee38f0c6ee92ba": {
      "model_module": "@jupyter-widgets/controls",
      "model_module_version": "1.5.0",
      "model_name": "LabelModel",
      "state": {
       "layout": "IPY_MODEL_f1f1def70e3445708f8d2fa78240bc62",
       "style": "IPY_MODEL_a21e03388e0f449d9c0fa16d37880d19",
       "value": "Write your own code:"
      }
     },
     "fdbd3c9633f84b7bbab651cba0dfdcc0": {
      "model_module": "@jupyter-widgets/controls",
      "model_module_version": "1.5.0",
      "model_name": "DescriptionStyleModel",
      "state": {
       "description_width": ""
      }
     },
     "fdc1a70e01754b6bab0578635859a41b": {
      "model_module": "@jupyter-widgets/base",
      "model_module_version": "1.2.0",
      "model_name": "LayoutModel",
      "state": {}
     },
     "fddfb93e00a8459abee061170edf1149": {
      "model_module": "@jupyter-widgets/base",
      "model_module_version": "1.2.0",
      "model_name": "LayoutModel",
      "state": {}
     },
     "fe00a5a6612b434aa44c22cf56a18116": {
      "model_module": "@jupyter-widgets/controls",
      "model_module_version": "1.5.0",
      "model_name": "DescriptionStyleModel",
      "state": {
       "description_width": ""
      }
     },
     "fe1968f656554515a792c8c641c5531a": {
      "model_module": "@jupyter-widgets/controls",
      "model_module_version": "1.5.0",
      "model_name": "DescriptionStyleModel",
      "state": {
       "description_width": ""
      }
     },
     "fe623d5c8e794693ba77306b8ff5775a": {
      "model_module": "@jupyter-widgets/controls",
      "model_module_version": "1.5.0",
      "model_name": "VBoxModel",
      "state": {
       "layout": "IPY_MODEL_3ac96f83a44047af9a6ae157950a5d9b"
      }
     },
     "fe77364fd97a49218a7593ed1f7c9070": {
      "model_module": "@jupyter-widgets/controls",
      "model_module_version": "1.5.0",
      "model_name": "ButtonModel",
      "state": {
       "button_style": "warning",
       "description": "Run Code",
       "icon": "check",
       "layout": "IPY_MODEL_4bd751e473da4494976826a0a5ba9c6a",
       "style": "IPY_MODEL_31a5bd20db9a479db37029e14e95ddd4"
      }
     },
     "fe9de2950aa0468ab8302477f2b304a2": {
      "model_module": "@jupyter-widgets/controls",
      "model_module_version": "1.5.0",
      "model_name": "ButtonStyleModel",
      "state": {}
     },
     "fedf2492d1a14da9ba6f954e4543dc56": {
      "model_module": "@jupyter-widgets/base",
      "model_module_version": "1.2.0",
      "model_name": "LayoutModel",
      "state": {}
     },
     "fee7f37723c34780a7a63b932116ace7": {
      "model_module": "@jupyter-widgets/controls",
      "model_module_version": "1.5.0",
      "model_name": "DescriptionStyleModel",
      "state": {
       "description_width": ""
      }
     },
     "ffeccb5f78b54c3db2c27e752b336e67": {
      "model_module": "@jupyter-widgets/base",
      "model_module_version": "1.2.0",
      "model_name": "LayoutModel",
      "state": {
       "height": "100px",
       "width": "99%"
      }
     }
    },
    "version_major": 2,
    "version_minor": 0
   }
  }
 },
 "nbformat": 4,
 "nbformat_minor": 2
}
