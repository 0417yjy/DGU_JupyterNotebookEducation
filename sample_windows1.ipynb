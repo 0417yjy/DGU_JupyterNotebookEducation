{
 "cells": [
  {
   "cell_type": "code",
   "execution_count": 1,
   "metadata": {
    "scrolled": true
   },
   "outputs": [
    {
     "data": {
      "text/html": [
       "<script>$(\"div.input\").hide()</script>"
      ],
      "text/plain": [
       "<IPython.core.display.HTML object>"
      ]
     },
     "metadata": {},
     "output_type": "display_data"
    },
    {
     "data": {
      "application/vnd.jupyter.widget-view+json": {
       "model_id": "60560ab59d434022a4667fdc1be986d9",
       "version_major": 2,
       "version_minor": 0
      },
      "text/plain": [
       "ToggleButton(value=False, description='Show code')"
      ]
     },
     "metadata": {},
     "output_type": "display_data"
    }
   ],
   "source": [
    "import ipywidgets as widgets\n",
    "from IPython.display import display, HTML\n",
    "\n",
    "javascript_functions = {False: \"hide()\", True: \"show()\"}\n",
    "button_descriptions  = {False: \"Show code\", True: \"Hide code\"}\n",
    "\n",
    "\n",
    "def toggle_code(state):\n",
    "\n",
    "    \"\"\"\n",
    "    Toggles the JavaScript show()/hide() function on the div.input element.\n",
    "    \"\"\"\n",
    "\n",
    "    output_string = \"<script>$(\\\"div.input\\\").{}</script>\"\n",
    "    output_args   = (javascript_functions[state],)\n",
    "    output        = output_string.format(*output_args)\n",
    "\n",
    "    display(HTML(output))\n",
    "\n",
    "\n",
    "def button_action(value):\n",
    "\n",
    "    \"\"\"\n",
    "    Calls the toggle_code function and updates the button description.\n",
    "    \"\"\"\n",
    "\n",
    "    state = value.new\n",
    "\n",
    "    toggle_code(state)\n",
    "\n",
    "    value.owner.description = button_descriptions[state]\n",
    "\n",
    "\n",
    "state = False\n",
    "toggle_code(state)\n",
    "\n",
    "button = widgets.ToggleButton(state, description = button_descriptions[state])\n",
    "button.observe(button_action, \"value\")\n",
    "\n",
    "display(button)"
   ]
  },
  {
   "cell_type": "code",
   "execution_count": 2,
   "metadata": {},
   "outputs": [],
   "source": [
    "from windows_widgets import CompileOutputOnly, CompileInputOuput, ShortAnswerQuestion, ChoiceQuestion, AchieveRate, add_link_buttons"
   ]
  },
  {
   "cell_type": "markdown",
   "metadata": {},
   "source": [
    "# Chapter 1 - A Tutorial Introduction"
   ]
  },
  {
   "cell_type": "markdown",
   "metadata": {},
   "source": [
    "Let us begin with a quick introduction in C. Our aim is to show the essential elements of the language in real programs, but without getting bogged down in details, rules, and exceptions.\n",
    "At this point, we are not trying to be complete or even precise (save that the examples are meant to be correct). We want to get you as quickly as possible to the point where you can\n",
    "write useful programs, and to do that we have to concentrate on the basics: variables and constants, arithmetic, control flow, functions, and the rudiments of input and output. We are intentionally leaving out of this chapter features of C that are important for writing bigger programs. These include pointers, structures, most of C's rich set of operators, several controlflow statements, and the standard library.\n",
    "\n",
    "This approach and its drawbacks. Most notable is that the complete story on any particular feature is not found here, and the tutorial, by being brief, may also be misleading. And because the examples do not use the full power of C, they are not as concise and elegant as they might be. We have tried to minimize these effects, but be warned. Another drawback is that later chapters will necessarily repeat some of this chapter. We hope that the repetition will help you more than it annoys.\n",
    "\n",
    "In any case, experienced programmers should be able to extrapolate from the material in this chapter to their own programming needs. Beginners should supplement it by writing small, similar programs of their own. Both groups can use it as a framework on which to hang the more detailed descriptions that begin in Chapter 2. "
   ]
  },
  {
   "cell_type": "markdown",
   "metadata": {},
   "source": [
    "## 1.1 Getting Started"
   ]
  },
  {
   "cell_type": "markdown",
   "metadata": {},
   "source": [
    "The only way to learn a new programming language is by writing programs in it. The first\n",
    "program to write is the same for all languages:  \n",
    "Print the words  \n",
    "hello, world  \n",
    "This is a big hurdle; to leap over it you have to be able to create the program text somewhere, compile it successfully, load it, run it, and find out where your output went. With these mechanical details mastered, everything else is comparatively easy.\n",
    "In C, the program to print \"hello, world\" is  \n",
    "\n",
    " #include <stdio.h>  \n",
    " main()  \n",
    " {  \n",
    " printf(\"hello, world\\n\");  \n",
    " }    \n",
    " \n",
    "Write it below and run it by pressing 'Run Code' button, to see the result."
   ]
  },
  {
   "cell_type": "code",
   "execution_count": 3,
   "metadata": {},
   "outputs": [
    {
     "data": {
      "application/vnd.jupyter.widget-view+json": {
       "model_id": "eb8b2286b6d5443f8464d0d02ba4e8f5",
       "version_major": 2,
       "version_minor": 0
      },
      "text/plain": [
       "VBox(children=(Label(value='Write your own code:'), Textarea(value='#include <stdio.h>\\n\\nint main(void) {\\n p…"
      ]
     },
     "metadata": {},
     "output_type": "display_data"
    }
   ],
   "source": [
    "co1 = CompileOutputOnly('exer1')"
   ]
  },
  {
   "cell_type": "code",
   "execution_count": 4,
   "metadata": {},
   "outputs": [
    {
     "data": {
      "application/vnd.jupyter.widget-view+json": {
       "model_id": "37aeb01c293e4453833f246bd0182fb3",
       "version_major": 2,
       "version_minor": 0
      },
      "text/plain": [
       "VBox(children=(Label(value='Write your own code:'), Textarea(value='#include <stdio.h>\\n\\nint main(void) {\\n i…"
      ]
     },
     "metadata": {},
     "output_type": "display_data"
    }
   ],
   "source": [
    "cio1 = CompileInputOuput('exer2')"
   ]
  },
  {
   "cell_type": "code",
   "execution_count": 5,
   "metadata": {},
   "outputs": [
    {
     "data": {
      "application/vnd.jupyter.widget-view+json": {
       "model_id": "68deef41b2564c9cad245486b7ba43c7",
       "version_major": 2,
       "version_minor": 0
      },
      "text/plain": [
       "VBox(children=(HTML(value='(1) The program has a total number of _____ instructions'), Text(value=''), Button(…"
      ]
     },
     "metadata": {},
     "output_type": "display_data"
    }
   ],
   "source": [
    "saq1 = ShortAnswerQuestion('(1) The program has a total number of _____ instructions', ['4'], ' 2 input instructions, 1 processing instruction, and 1 output instruction.', ' The program has 2 input instructions, 1 processing instruction, and 1 output instruction, totaling 4 instructions.')"
   ]
  },
  {
   "cell_type": "code",
   "execution_count": 6,
   "metadata": {},
   "outputs": [
    {
     "data": {
      "application/vnd.jupyter.widget-view+json": {
       "model_id": "fa54f91dcef7421595fce72b7924b9c0",
       "version_major": 2,
       "version_minor": 0
      },
      "text/plain": [
       "VBox(children=(HTML(value='(2) Suppose a new instruction was inserted as follows:  <br><br>z = x + y<br>Add 1 …"
      ]
     },
     "metadata": {},
     "output_type": "display_data"
    }
   ],
   "source": [
    "saq2 = ShortAnswerQuestion(\"\"\"(2) Suppose a new instruction was inserted as follows:  \n",
    "...\n",
    "z = x + y\n",
    "Add 1 more to z (new instruction)\n",
    "Put z to output\n",
    "\n",
    "What would the last instruction then output to the screen?\n",
    "\"\"\", ['8'], ' 7 + 1 is?', ' z = x + y assigned z with 2 + 5, or 7. Then, adding 1 more to z makes z become 8. Programs often have numerous such processing instructions.')"
   ]
  },
  {
   "cell_type": "code",
   "execution_count": 7,
   "metadata": {
    "scrolled": true
   },
   "outputs": [
    {
     "data": {
      "application/vnd.jupyter.widget-view+json": {
       "model_id": "13c5ba41c9df4f43a5cecd0bd04d7256",
       "version_major": 2,
       "version_minor": 0
      },
      "text/plain": [
       "VBox(children=(HTML(value=\"(3) Which instruction completes the program to compute a triangle's area?<br>base =…"
      ]
     },
     "metadata": {},
     "output_type": "display_data"
    }
   ],
   "source": [
    "cq1 = ChoiceQuestion(\"\"\"(3) Which instruction completes the program to compute a triangle's area?\n",
    "base = Get next input\n",
    "height = Get next input\n",
    "Assign x with base * height\n",
    "_____\n",
    "Put x to output\n",
    "\"\"\", ['Multiply x by 2', 'Add 2 to x', 'Multiply x by 1/2'], 2, ' 2 + (base * height) is not the formula for a triangle\\'s area.', ' A triangle\\'s area is (1/2) * base * height.')"
   ]
  },
  {
   "cell_type": "code",
   "execution_count": 8,
   "metadata": {
    "scrolled": true
   },
   "outputs": [
    {
     "data": {
      "application/vnd.jupyter.widget-view+json": {
       "model_id": "99be9c3bb2af423790cab0a61ce21c9d",
       "version_major": 2,
       "version_minor": 0
      },
      "text/plain": [
       "VBox(children=(HBox(children=(Checkbox(value=False, disabled=True), Checkbox(value=False, disabled=True), Chec…"
      ]
     },
     "metadata": {},
     "output_type": "display_data"
    }
   ],
   "source": [
    "rate = AchieveRate()"
   ]
  },
  {
   "cell_type": "code",
   "execution_count": 9,
   "metadata": {},
   "outputs": [
    {
     "data": {
      "text/html": [
       "\n",
       "<style>\n",
       ".button {\n",
       "  background-color: orange;\n",
       "  border: none;\n",
       "  color: white;\n",
       "  padding: 15px 32px;\n",
       "  text-align: center;\n",
       "  text-decoration: none;\n",
       "  display: inline-block;\n",
       "  font-size: 16px;\n",
       "  margin: 4px 2px;\n",
       "  cursor: pointer;\n",
       "}\n",
       ".grid-container {\n",
       "  display: grid;\n",
       "  grid-template-columns: 100px auto 100px;\n",
       "  grid-template-rows: auto;\n",
       "}\n",
       "</style>\n",
       "\n",
       "<div class=\"grid-container\"><div class=\"grid-item\"></div><div class=\"grid-item\"></div><div class=\"grid-item\"><a href=\"sample_windows2.ipynb\" class=\"button\">Next</a></div>\n",
       "</div>\n"
      ],
      "text/plain": [
       "<IPython.core.display.HTML object>"
      ]
     },
     "metadata": {},
     "output_type": "display_data"
    }
   ],
   "source": [
    "add_link_buttons(2, '', 'sample_windows2.ipynb')"
   ]
  }
 ],
 "metadata": {
  "kernelspec": {
   "display_name": "Python 3",
   "language": "python",
   "name": "python3"
  },
  "language_info": {
   "codemirror_mode": {
    "name": "ipython",
    "version": 3
   },
   "file_extension": ".py",
   "mimetype": "text/x-python",
   "name": "python",
   "nbconvert_exporter": "python",
   "pygments_lexer": "ipython3",
   "version": "3.8.1"
  },
  "widgets": {
   "application/vnd.jupyter.widget-state+json": {
    "state": {
     "000fb7eb26124e08b010cee184b8b3cf": {
      "model_module": "@jupyter-widgets/base",
      "model_module_version": "1.2.0",
      "model_name": "LayoutModel",
      "state": {}
     },
     "00b6641a59a1460a970830673f641e8e": {
      "model_module": "@jupyter-widgets/base",
      "model_module_version": "1.2.0",
      "model_name": "LayoutModel",
      "state": {
       "border": "solid 1px"
      }
     },
     "00e475e4b645454cac06902b023c7103": {
      "model_module": "@jupyter-widgets/controls",
      "model_module_version": "1.5.0",
      "model_name": "ButtonModel",
      "state": {
       "layout": "IPY_MODEL_f3dffd2c62464798a517478bf30e43c4",
       "style": "IPY_MODEL_e2e8874de8eb469788662f260928adff"
      }
     },
     "01f48476a2644b4a92a08a81d8f31fca": {
      "model_module": "@jupyter-widgets/controls",
      "model_module_version": "1.5.0",
      "model_name": "VBoxModel",
      "state": {
       "children": [
        "IPY_MODEL_d2b84f63452d43c08cd770e2db1a9de3",
        "IPY_MODEL_0f6a07a9e42849f88674bf437f26ef6c",
        "IPY_MODEL_e8eda49818a3434086e4695b55b3ad96",
        "IPY_MODEL_097cf787773b42698e4200a08414a230"
       ],
       "layout": "IPY_MODEL_5ee22681c3d944ceaf6321be9230d3ce"
      }
     },
     "02788667ac164e0f8b1faa57efa158dc": {
      "model_module": "@jupyter-widgets/controls",
      "model_module_version": "1.5.0",
      "model_name": "DescriptionStyleModel",
      "state": {
       "description_width": ""
      }
     },
     "027c6789392f44d5a7e127f885b5ad65": {
      "model_module": "@jupyter-widgets/base",
      "model_module_version": "1.2.0",
      "model_name": "LayoutModel",
      "state": {}
     },
     "03505db479f24735b5f38e85ddcb6d87": {
      "model_module": "@jupyter-widgets/controls",
      "model_module_version": "1.5.0",
      "model_name": "DescriptionStyleModel",
      "state": {
       "description_width": ""
      }
     },
     "03e2fa1b7cef46a69ea9cac53d49a874": {
      "model_module": "@jupyter-widgets/controls",
      "model_module_version": "1.5.0",
      "model_name": "DescriptionStyleModel",
      "state": {
       "description_width": ""
      }
     },
     "048d97403d7b4f4399425ca8e528900a": {
      "model_module": "@jupyter-widgets/controls",
      "model_module_version": "1.5.0",
      "model_name": "HBoxModel",
      "state": {
       "children": [
        "IPY_MODEL_2bdd440e749e4b4f80488d4c1543a319",
        "IPY_MODEL_a667e8294aab442f892fe4562fdf98b8"
       ],
       "layout": "IPY_MODEL_ca3bce841a6641bea5280acff4671ed2"
      }
     },
     "05e77207607a4701aa5877d166fcae50": {
      "model_module": "@jupyter-widgets/controls",
      "model_module_version": "1.5.0",
      "model_name": "TextareaModel",
      "state": {
       "layout": "IPY_MODEL_afc94dfd4db347b993ced3a39ef4beac",
       "placeholder": "",
       "style": "IPY_MODEL_582266295ca848dbb83b34eef7a60f68",
       "value": "10"
      }
     },
     "0694eb9987fa47cf88724284ce74d4f1": {
      "model_module": "@jupyter-widgets/base",
      "model_module_version": "1.2.0",
      "model_name": "LayoutModel",
      "state": {}
     },
     "06ca2fc263944cf1b6951f8d77328438": {
      "model_module": "@jupyter-widgets/controls",
      "model_module_version": "1.5.0",
      "model_name": "DescriptionStyleModel",
      "state": {
       "description_width": ""
      }
     },
     "071144ff2bc24c21a10e263a0186ee4f": {
      "model_module": "@jupyter-widgets/controls",
      "model_module_version": "1.5.0",
      "model_name": "DescriptionStyleModel",
      "state": {
       "description_width": ""
      }
     },
     "07a739416f684f5faa713de4f97cd7b5": {
      "model_module": "@jupyter-widgets/base",
      "model_module_version": "1.2.0",
      "model_name": "LayoutModel",
      "state": {}
     },
     "07e3fd8c1326420589b67781223dee19": {
      "model_module": "@jupyter-widgets/base",
      "model_module_version": "1.2.0",
      "model_name": "LayoutModel",
      "state": {}
     },
     "082d5d7037e648e0a4ab1fa5776f6a52": {
      "model_module": "@jupyter-widgets/controls",
      "model_module_version": "1.5.0",
      "model_name": "TextareaModel",
      "state": {
       "layout": "IPY_MODEL_13c00d62ea604b85946e4e8245016f95",
       "style": "IPY_MODEL_2042d9c1885a49f49a04af0f8cfbc419"
      }
     },
     "097cf787773b42698e4200a08414a230": {
      "model_module": "@jupyter-widgets/controls",
      "model_module_version": "1.5.0",
      "model_name": "HTMLModel",
      "state": {
       "layout": "IPY_MODEL_1268cb616d54447ba85ffa778e05c11d",
       "style": "IPY_MODEL_7456d8090f5c4b6db444ba9c723f5195",
       "value": "<font color='green'> A triangle's area is (1/2) * base * height."
      }
     },
     "09bdb0040c4c4e17b49458f26a83c2cc": {
      "model_module": "@jupyter-widgets/controls",
      "model_module_version": "1.5.0",
      "model_name": "ButtonModel",
      "state": {
       "layout": "IPY_MODEL_be6e6d2916f342d099261429c6087a7d",
       "style": "IPY_MODEL_36ff0576975749a9aa290bda1d9f3166"
      }
     },
     "09c1ed5261b24bfcb0e4ce67b90e19a9": {
      "model_module": "@jupyter-widgets/base",
      "model_module_version": "1.2.0",
      "model_name": "LayoutModel",
      "state": {}
     },
     "0a96a6560aa24141a9595d731875e308": {
      "model_module": "@jupyter-widgets/controls",
      "model_module_version": "1.5.0",
      "model_name": "CheckboxModel",
      "state": {
       "disabled": true,
       "layout": "IPY_MODEL_137af15f5cf94cc59cb51714d8aa5b1d",
       "style": "IPY_MODEL_f5348c624bcd4b02ab88e98c17201e0f",
       "value": false
      }
     },
     "0af52b1e0fcc4fe68cbfdbf7ede7077e": {
      "model_module": "@jupyter-widgets/base",
      "model_module_version": "1.2.0",
      "model_name": "LayoutModel",
      "state": {}
     },
     "0b5a2d8f99e14be9a61b731a4f7d323d": {
      "model_module": "@jupyter-widgets/base",
      "model_module_version": "1.2.0",
      "model_name": "LayoutModel",
      "state": {}
     },
     "0ba01cde29914a90b64c6e4fe0542e92": {
      "model_module": "@jupyter-widgets/base",
      "model_module_version": "1.2.0",
      "model_name": "LayoutModel",
      "state": {}
     },
     "0c0657b4873b4ef2b021d4b3667116fd": {
      "model_module": "@jupyter-widgets/controls",
      "model_module_version": "1.5.0",
      "model_name": "ButtonModel",
      "state": {
       "button_style": "warning",
       "description": "Check",
       "icon": "check",
       "layout": "IPY_MODEL_874eda6a378b495e9dbb7b7aa00e6854",
       "style": "IPY_MODEL_93f09ac1b1314b478d18f7be9236adc3"
      }
     },
     "0cc1d6f2fcbe4d82a6f78b8e703c6a4c": {
      "model_module": "@jupyter-widgets/controls",
      "model_module_version": "1.5.0",
      "model_name": "ButtonModel",
      "state": {
       "button_style": "warning",
       "description": "Check",
       "icon": "check",
       "layout": "IPY_MODEL_fc5aa2a370db45ec8b8fc7bc936fd1e8",
       "style": "IPY_MODEL_969a505af5864207a728d13fb4363975"
      }
     },
     "0d80d97e86da497f86679e6c61d65250": {
      "model_module": "@jupyter-widgets/base",
      "model_module_version": "1.2.0",
      "model_name": "LayoutModel",
      "state": {}
     },
     "0db55cc1260640a3b846618317dd98b0": {
      "model_module": "@jupyter-widgets/controls",
      "model_module_version": "1.5.0",
      "model_name": "DescriptionStyleModel",
      "state": {
       "description_width": ""
      }
     },
     "0df28e80723c48079ccdaa2fe83b6981": {
      "model_module": "@jupyter-widgets/base",
      "model_module_version": "1.2.0",
      "model_name": "LayoutModel",
      "state": {}
     },
     "0dfa516afe894c4aa2a76268550701f3": {
      "model_module": "@jupyter-widgets/controls",
      "model_module_version": "1.5.0",
      "model_name": "TextModel",
      "state": {
       "layout": "IPY_MODEL_91b54154b9d547718a805d023371579a",
       "style": "IPY_MODEL_b6a94ac629224d2c92929b60278951a8"
      }
     },
     "0e7f841b6964452685f23be49175ef3b": {
      "model_module": "@jupyter-widgets/controls",
      "model_module_version": "1.5.0",
      "model_name": "DescriptionStyleModel",
      "state": {
       "description_width": ""
      }
     },
     "0f473d6e6ef9485b85225b47d95ad4e0": {
      "model_module": "@jupyter-widgets/controls",
      "model_module_version": "1.5.0",
      "model_name": "DescriptionStyleModel",
      "state": {
       "description_width": ""
      }
     },
     "0f6a07a9e42849f88674bf437f26ef6c": {
      "model_module": "@jupyter-widgets/controls",
      "model_module_version": "1.5.0",
      "model_name": "RadioButtonsModel",
      "state": {
       "_options_labels": [
        "Multiply x by 2",
        "Add 2 to x",
        "Multiply x by 1/2"
       ],
       "index": 2,
       "layout": "IPY_MODEL_110c3ef177974e4aa5090d13491c9869",
       "style": "IPY_MODEL_db6325ec4c1a41d097e38e8dcb9cb3b3"
      }
     },
     "1000719d5d8940a58f3bba895e111072": {
      "model_module": "@jupyter-widgets/controls",
      "model_module_version": "1.5.0",
      "model_name": "DescriptionStyleModel",
      "state": {
       "description_width": ""
      }
     },
     "1011e68400b147dea667995148d753c7": {
      "model_module": "@jupyter-widgets/controls",
      "model_module_version": "1.5.0",
      "model_name": "ButtonModel",
      "state": {
       "layout": "IPY_MODEL_54b0843c525c41caa5daf17ff891001f",
       "style": "IPY_MODEL_b6d4b141ecfb44849e400272d192a0c1"
      }
     },
     "110c3ef177974e4aa5090d13491c9869": {
      "model_module": "@jupyter-widgets/base",
      "model_module_version": "1.2.0",
      "model_name": "LayoutModel",
      "state": {}
     },
     "114829f457d844e9bf45b600cca07042": {
      "model_module": "@jupyter-widgets/base",
      "model_module_version": "1.2.0",
      "model_name": "LayoutModel",
      "state": {}
     },
     "1150f243ba404eb589a1c102cc386d81": {
      "model_module": "@jupyter-widgets/base",
      "model_module_version": "1.2.0",
      "model_name": "LayoutModel",
      "state": {}
     },
     "1268cb616d54447ba85ffa778e05c11d": {
      "model_module": "@jupyter-widgets/base",
      "model_module_version": "1.2.0",
      "model_name": "LayoutModel",
      "state": {}
     },
     "12e77ccc5ef340ac9738faa120b74a29": {
      "model_module": "@jupyter-widgets/controls",
      "model_module_version": "1.5.0",
      "model_name": "ButtonStyleModel",
      "state": {}
     },
     "137af15f5cf94cc59cb51714d8aa5b1d": {
      "model_module": "@jupyter-widgets/base",
      "model_module_version": "1.2.0",
      "model_name": "LayoutModel",
      "state": {}
     },
     "139fd0fbcc3f43bfbbb6a829dbffd329": {
      "model_module": "@jupyter-widgets/controls",
      "model_module_version": "1.5.0",
      "model_name": "ButtonModel",
      "state": {
       "layout": "IPY_MODEL_5aaa490ee277498eba1002fea95a72db",
       "style": "IPY_MODEL_12e77ccc5ef340ac9738faa120b74a29"
      }
     },
     "13c00d62ea604b85946e4e8245016f95": {
      "model_module": "@jupyter-widgets/base",
      "model_module_version": "1.2.0",
      "model_name": "LayoutModel",
      "state": {}
     },
     "14ff82ce76a04f0c889919f5e4ed31e9": {
      "model_module": "@jupyter-widgets/controls",
      "model_module_version": "1.5.0",
      "model_name": "DescriptionStyleModel",
      "state": {
       "description_width": ""
      }
     },
     "178ce5822ab74031af2d035a655e7382": {
      "model_module": "@jupyter-widgets/base",
      "model_module_version": "1.2.0",
      "model_name": "LayoutModel",
      "state": {
       "height": "200px",
       "width": "99%"
      }
     },
     "17b4230c949846cb8534aa3a361309f1": {
      "model_module": "@jupyter-widgets/base",
      "model_module_version": "1.2.0",
      "model_name": "LayoutModel",
      "state": {}
     },
     "17ef7c20b16547a8bb23337d678cb1d5": {
      "model_module": "@jupyter-widgets/controls",
      "model_module_version": "1.5.0",
      "model_name": "DescriptionStyleModel",
      "state": {
       "description_width": ""
      }
     },
     "187f4daaaa694aefb198a39d4ce66573": {
      "model_module": "@jupyter-widgets/controls",
      "model_module_version": "1.5.0",
      "model_name": "ButtonStyleModel",
      "state": {}
     },
     "18ee685fcbf6470a906697bf0d1ceb20": {
      "model_module": "@jupyter-widgets/controls",
      "model_module_version": "1.5.0",
      "model_name": "LabelModel",
      "state": {
       "layout": "IPY_MODEL_0df28e80723c48079ccdaa2fe83b6981",
       "style": "IPY_MODEL_decc3096ac5048279dd719f3e16b37de",
       "value": "Input:"
      }
     },
     "19d0143fd5364f50bae755d72cbc3a99": {
      "model_module": "@jupyter-widgets/base",
      "model_module_version": "1.2.0",
      "model_name": "LayoutModel",
      "state": {
       "border": "solid 2px",
       "padding": "1rem"
      }
     },
     "1a81d44471db4339bc12758cc3981a5b": {
      "model_module": "@jupyter-widgets/controls",
      "model_module_version": "1.5.0",
      "model_name": "VBoxModel",
      "state": {
       "children": [
        "IPY_MODEL_b526776cd70a4326b178dfbf322c5e6e",
        "IPY_MODEL_3a4f412e479a4bfaa61bb18f8d8a4c09"
       ],
       "layout": "IPY_MODEL_f5c7a780faff437c9d5de55edc9abb36"
      }
     },
     "1ae214c1e7834fa2ba4f80b3b423b277": {
      "model_module": "@jupyter-widgets/base",
      "model_module_version": "1.2.0",
      "model_name": "LayoutModel",
      "state": {
       "height": "100px",
       "width": "99%"
      }
     },
     "1aed6ab4e470494b9f893e7e960534b8": {
      "model_module": "@jupyter-widgets/base",
      "model_module_version": "1.2.0",
      "model_name": "LayoutModel",
      "state": {}
     },
     "1af55097014143a4a9b3f6068fb4a56b": {
      "model_module": "@jupyter-widgets/controls",
      "model_module_version": "1.5.0",
      "model_name": "DescriptionStyleModel",
      "state": {
       "description_width": ""
      }
     },
     "1b94a9415daa4c27b0638793d6793528": {
      "model_module": "@jupyter-widgets/controls",
      "model_module_version": "1.5.0",
      "model_name": "DescriptionStyleModel",
      "state": {
       "description_width": ""
      }
     },
     "1bc2baadbb2a48069ee49310ee796c80": {
      "model_module": "@jupyter-widgets/controls",
      "model_module_version": "1.5.0",
      "model_name": "LabelModel",
      "state": {
       "layout": "IPY_MODEL_95359a3ea3cf485795e69b6111745ed4",
       "style": "IPY_MODEL_93e0bd6ae4d64bcaa48d5796c2d41c90",
       "value": "Input:"
      }
     },
     "1c38818cbef445baa83a08f405cd7e95": {
      "model_module": "@jupyter-widgets/controls",
      "model_module_version": "1.5.0",
      "model_name": "DescriptionStyleModel",
      "state": {
       "description_width": ""
      }
     },
     "1dbb155508e2463aa497095620bf962d": {
      "model_module": "@jupyter-widgets/base",
      "model_module_version": "1.2.0",
      "model_name": "LayoutModel",
      "state": {
       "border": "solid 2px",
       "padding": "1rem"
      }
     },
     "2038d813241148aa9b0140f27ccef687": {
      "model_module": "@jupyter-widgets/controls",
      "model_module_version": "1.5.0",
      "model_name": "ButtonStyleModel",
      "state": {}
     },
     "2042d9c1885a49f49a04af0f8cfbc419": {
      "model_module": "@jupyter-widgets/controls",
      "model_module_version": "1.5.0",
      "model_name": "DescriptionStyleModel",
      "state": {
       "description_width": ""
      }
     },
     "205622c54573452e83436b1de6ed503f": {
      "model_module": "@jupyter-widgets/controls",
      "model_module_version": "1.5.0",
      "model_name": "DescriptionStyleModel",
      "state": {
       "description_width": ""
      }
     },
     "2058ee66830140b9ab06e1e4e3b44ada": {
      "model_module": "@jupyter-widgets/controls",
      "model_module_version": "1.5.0",
      "model_name": "VBoxModel",
      "state": {
       "layout": "IPY_MODEL_70149f181dba484d835e61d306d04070"
      }
     },
     "20d04eca47dc4e80b35069096d9c0226": {
      "model_module": "@jupyter-widgets/base",
      "model_module_version": "1.2.0",
      "model_name": "LayoutModel",
      "state": {}
     },
     "20daa9145de24e57b75b2e2b4c70873f": {
      "model_module": "@jupyter-widgets/controls",
      "model_module_version": "1.5.0",
      "model_name": "TextareaModel",
      "state": {
       "layout": "IPY_MODEL_c3f4c90dc7754bfab5a3a5af0a51c521",
       "style": "IPY_MODEL_c17e3ba440a148d7b7738d8b86026e55"
      }
     },
     "21b837e125494770a6cd8abdf3092c14": {
      "model_module": "@jupyter-widgets/base",
      "model_module_version": "1.2.0",
      "model_name": "LayoutModel",
      "state": {}
     },
     "21bc7a1d8b494f5d84b40c1da704588a": {
      "model_module": "@jupyter-widgets/base",
      "model_module_version": "1.2.0",
      "model_name": "LayoutModel",
      "state": {
       "height": "100px",
       "width": "99%"
      }
     },
     "222f2614c25947dd930d82f0365e5372": {
      "model_module": "@jupyter-widgets/controls",
      "model_module_version": "1.5.0",
      "model_name": "VBoxModel",
      "state": {
       "layout": "IPY_MODEL_9392ea4b56f0402988e47b08894d578f"
      }
     },
     "22c19096a8c1499da6577b6553987232": {
      "model_module": "@jupyter-widgets/controls",
      "model_module_version": "1.5.0",
      "model_name": "DescriptionStyleModel",
      "state": {
       "description_width": ""
      }
     },
     "23bac4f9108f4498b008c8aede3140f4": {
      "model_module": "@jupyter-widgets/controls",
      "model_module_version": "1.5.0",
      "model_name": "LabelModel",
      "state": {
       "layout": "IPY_MODEL_d45bfa56c92f4132add6f92e41d6c741",
       "style": "IPY_MODEL_d2416e58caea4fec9b67d1694eb8de2a",
       "value": "Output: "
      }
     },
     "240d9fb8631547c1b0aa1a766c5e4354": {
      "model_module": "@jupyter-widgets/base",
      "model_module_version": "1.2.0",
      "model_name": "LayoutModel",
      "state": {
       "height": "200px",
       "width": "99%"
      }
     },
     "2458787867594d56981dfe099f33b2e2": {
      "model_module": "@jupyter-widgets/controls",
      "model_module_version": "1.5.0",
      "model_name": "DescriptionStyleModel",
      "state": {
       "description_width": ""
      }
     },
     "249fcb057058403295bc750b212d12ff": {
      "model_module": "@jupyter-widgets/base",
      "model_module_version": "1.2.0",
      "model_name": "LayoutModel",
      "state": {
       "border": "solid 2px",
       "padding": "1rem"
      }
     },
     "24f93b6df6ad4801842d260322db39bf": {
      "model_module": "@jupyter-widgets/controls",
      "model_module_version": "1.5.0",
      "model_name": "HTMLModel",
      "state": {
       "layout": "IPY_MODEL_09c1ed5261b24bfcb0e4ce67b90e19a9",
       "style": "IPY_MODEL_4a867d6b8500445c95276fa5169bb4be",
       "value": "(2) Suppose a new instruction was inserted as follows:  <br><br>z = x + y<br>Add 1 more to z (new instruction)<br>Put z to output<br><br>What would the last instruction then output to the screen?<br>"
      }
     },
     "2530014a994b4338b3182fca6177c4d5": {
      "model_module": "@jupyter-widgets/base",
      "model_module_version": "1.2.0",
      "model_name": "LayoutModel",
      "state": {
       "width": "90px"
      }
     },
     "253989aa20984d8390f7ac863a74f5d8": {
      "model_module": "@jupyter-widgets/controls",
      "model_module_version": "1.5.0",
      "model_name": "TextareaModel",
      "state": {
       "layout": "IPY_MODEL_31c5175dbf324af7bbaf176857ffe8a4",
       "placeholder": "",
       "style": "IPY_MODEL_1af55097014143a4a9b3f6068fb4a56b",
       "value": "#include <stdio.h>\n\nint main(void) {\n int a;\n scanf(\"%d\", &a);\n printf(\"%d\\n\", a);\n return 0;\n}"
      }
     },
     "254bedaf90204af4b464de0cfa708cf4": {
      "model_module": "@jupyter-widgets/controls",
      "model_module_version": "1.5.0",
      "model_name": "LabelModel",
      "state": {
       "layout": "IPY_MODEL_31cada6e4aa24385b5c54dc862547032",
       "style": "IPY_MODEL_6835258dc8134edd89a82662ba6402ab",
       "value": "Write your own code:"
      }
     },
     "2640199952e344ab9cdab6ead35d4aa0": {
      "model_module": "@jupyter-widgets/controls",
      "model_module_version": "1.5.0",
      "model_name": "TextModel",
      "state": {
       "layout": "IPY_MODEL_8902db139a904089ab316bc8f7137d41",
       "style": "IPY_MODEL_2dce218ba3d144638efc3b94abc69361"
      }
     },
     "268832c1bab54971b358a928a09f1995": {
      "model_module": "@jupyter-widgets/controls",
      "model_module_version": "1.5.0",
      "model_name": "TextareaModel",
      "state": {
       "layout": "IPY_MODEL_7cb00da508e345bdb78facf915d40170",
       "style": "IPY_MODEL_0e7f841b6964452685f23be49175ef3b"
      }
     },
     "26bb2c9c55954f0cb2a3b46523c1dd86": {
      "model_module": "@jupyter-widgets/controls",
      "model_module_version": "1.5.0",
      "model_name": "ButtonStyleModel",
      "state": {}
     },
     "26c52d39998b42f5a4011ff8bdab6662": {
      "model_module": "@jupyter-widgets/controls",
      "model_module_version": "1.5.0",
      "model_name": "DescriptionStyleModel",
      "state": {
       "description_width": ""
      }
     },
     "27266a4ce8df4444833b772a4487d681": {
      "model_module": "@jupyter-widgets/base",
      "model_module_version": "1.2.0",
      "model_name": "LayoutModel",
      "state": {
       "width": "100%"
      }
     },
     "281080fb820d4ce099e86ac62f94b426": {
      "model_module": "@jupyter-widgets/base",
      "model_module_version": "1.2.0",
      "model_name": "LayoutModel",
      "state": {}
     },
     "282680b31da2470e86f49f0babfe86b3": {
      "model_module": "@jupyter-widgets/base",
      "model_module_version": "1.2.0",
      "model_name": "LayoutModel",
      "state": {}
     },
     "28aea4f4bdf9430cb5a7c28bd1581d99": {
      "model_module": "@jupyter-widgets/controls",
      "model_module_version": "1.5.0",
      "model_name": "DescriptionStyleModel",
      "state": {
       "description_width": ""
      }
     },
     "29108adf68e649eb9535c623bd1f0f8f": {
      "model_module": "@jupyter-widgets/base",
      "model_module_version": "1.2.0",
      "model_name": "LayoutModel",
      "state": {}
     },
     "29875c37e6c64b87aec725a2005460dc": {
      "model_module": "@jupyter-widgets/controls",
      "model_module_version": "1.5.0",
      "model_name": "DescriptionStyleModel",
      "state": {
       "description_width": ""
      }
     },
     "29c02ca1f3c6470e910fd87c2fd0d04c": {
      "model_module": "@jupyter-widgets/controls",
      "model_module_version": "1.5.0",
      "model_name": "DescriptionStyleModel",
      "state": {
       "description_width": ""
      }
     },
     "29fd55ff47b14cdaaa2d51bc288138be": {
      "model_module": "@jupyter-widgets/controls",
      "model_module_version": "1.5.0",
      "model_name": "DescriptionStyleModel",
      "state": {
       "description_width": ""
      }
     },
     "2a6ba6c3b21a4a4e9406386d7be6b1b1": {
      "model_module": "@jupyter-widgets/base",
      "model_module_version": "1.2.0",
      "model_name": "LayoutModel",
      "state": {}
     },
     "2ac00aaf43514c7f9559aca4fa7131a0": {
      "model_module": "@jupyter-widgets/controls",
      "model_module_version": "1.5.0",
      "model_name": "CheckboxModel",
      "state": {
       "disabled": true,
       "layout": "IPY_MODEL_eaab7d3e6c2d4eeeadc50e2e08d58819",
       "style": "IPY_MODEL_7f32f12e70244579831efc13faaed967",
       "value": true
      }
     },
     "2bdd440e749e4b4f80488d4c1543a319": {
      "model_module": "@jupyter-widgets/controls",
      "model_module_version": "1.5.0",
      "model_name": "VBoxModel",
      "state": {
       "children": [
        "IPY_MODEL_1bc2baadbb2a48069ee49310ee796c80",
        "IPY_MODEL_05e77207607a4701aa5877d166fcae50"
       ],
       "layout": "IPY_MODEL_4fe8794b6e8a46aa8e518caa3406e5c7"
      }
     },
     "2c2f8352b1c84ff89e8d6d76854c6b42": {
      "model_module": "@jupyter-widgets/controls",
      "model_module_version": "1.5.0",
      "model_name": "DescriptionStyleModel",
      "state": {
       "description_width": ""
      }
     },
     "2cdd52a6cd694a9d9a714aba5846f392": {
      "model_module": "@jupyter-widgets/controls",
      "model_module_version": "1.5.0",
      "model_name": "HTMLModel",
      "state": {
       "layout": "IPY_MODEL_cf0724fedd264f1a80b305c767d0b531",
       "style": "IPY_MODEL_e1450845e91b42028a9a2771e65e4273",
       "value": "(1) The program has a total number of _____ instructions"
      }
     },
     "2d878ba270dd425d8520d6b75788dc3f": {
      "model_module": "@jupyter-widgets/controls",
      "model_module_version": "1.5.0",
      "model_name": "ToggleButtonModel",
      "state": {
       "description": "Show code",
       "layout": "IPY_MODEL_550eee804ac44c469be9df421b8bbab4",
       "style": "IPY_MODEL_2458787867594d56981dfe099f33b2e2"
      }
     },
     "2d9e209cc59e4ec2b5c2c23d4109a87c": {
      "model_module": "@jupyter-widgets/base",
      "model_module_version": "1.2.0",
      "model_name": "LayoutModel",
      "state": {
       "border": "solid 2px",
       "padding": "1rem"
      }
     },
     "2dce218ba3d144638efc3b94abc69361": {
      "model_module": "@jupyter-widgets/controls",
      "model_module_version": "1.5.0",
      "model_name": "DescriptionStyleModel",
      "state": {
       "description_width": ""
      }
     },
     "2defb8a0f1b0457e9c2947432ac22ef4": {
      "model_module": "@jupyter-widgets/controls",
      "model_module_version": "1.5.0",
      "model_name": "TextareaModel",
      "state": {
       "layout": "IPY_MODEL_c0bc4e6ec67f4200aa6bcb8c1b83af70",
       "style": "IPY_MODEL_37c344c720114b2d9cfb53b688573789"
      }
     },
     "2ea8997681004c0180d0791211a9c17d": {
      "model_module": "@jupyter-widgets/base",
      "model_module_version": "1.2.0",
      "model_name": "LayoutModel",
      "state": {}
     },
     "2ebcc09c412b4bee80d8ec44ca608716": {
      "model_module": "@jupyter-widgets/controls",
      "model_module_version": "1.5.0",
      "model_name": "RadioButtonsModel",
      "state": {
       "index": null,
       "layout": "IPY_MODEL_c00165e3a3b74e3182f3e5270f7fbd8a",
       "style": "IPY_MODEL_b98d51980a684af9910fe502e888b00d"
      }
     },
     "2edd75b893ff461ea2013aff48a0068f": {
      "model_module": "@jupyter-widgets/controls",
      "model_module_version": "1.5.0",
      "model_name": "ButtonStyleModel",
      "state": {}
     },
     "30a7638148d54940a1d5109435476092": {
      "model_module": "@jupyter-widgets/base",
      "model_module_version": "1.2.0",
      "model_name": "LayoutModel",
      "state": {}
     },
     "31c5175dbf324af7bbaf176857ffe8a4": {
      "model_module": "@jupyter-widgets/base",
      "model_module_version": "1.2.0",
      "model_name": "LayoutModel",
      "state": {
       "height": "200px",
       "width": "99%"
      }
     },
     "31c908579f2b4b6f9ac046e216a8e47f": {
      "model_module": "@jupyter-widgets/base",
      "model_module_version": "1.2.0",
      "model_name": "LayoutModel",
      "state": {}
     },
     "31cada6e4aa24385b5c54dc862547032": {
      "model_module": "@jupyter-widgets/base",
      "model_module_version": "1.2.0",
      "model_name": "LayoutModel",
      "state": {}
     },
     "33b0515e7f974fbe9be75f90e778f6d3": {
      "model_module": "@jupyter-widgets/base",
      "model_module_version": "1.2.0",
      "model_name": "LayoutModel",
      "state": {}
     },
     "33ed293d84e24b4d806dd0896446534f": {
      "model_module": "@jupyter-widgets/controls",
      "model_module_version": "1.5.0",
      "model_name": "VBoxModel",
      "state": {
       "children": [
        "IPY_MODEL_ef1b058899ef4947b5bc8d9d822e1f86",
        "IPY_MODEL_86a8ea34755c46ffa0153a24d47d5536"
       ],
       "layout": "IPY_MODEL_1aed6ab4e470494b9f893e7e960534b8"
      }
     },
     "345880e2e12d42049be10d1033600a63": {
      "model_module": "@jupyter-widgets/controls",
      "model_module_version": "1.5.0",
      "model_name": "ButtonStyleModel",
      "state": {}
     },
     "34dfa106e6b344f4a82929b15d126ea2": {
      "model_module": "@jupyter-widgets/base",
      "model_module_version": "1.2.0",
      "model_name": "LayoutModel",
      "state": {}
     },
     "3503bf447387407c86556fdb7ace089f": {
      "model_module": "@jupyter-widgets/controls",
      "model_module_version": "1.5.0",
      "model_name": "VBoxModel",
      "state": {
       "children": [
        "IPY_MODEL_2cdd52a6cd694a9d9a714aba5846f392",
        "IPY_MODEL_0dfa516afe894c4aa2a76268550701f3",
        "IPY_MODEL_65b79b695ed145d8ba78f2319ee57b11",
        "IPY_MODEL_f0436905f7174f93b857f143098c7d99"
       ],
       "layout": "IPY_MODEL_c2acb248f43f49818ae5809b5aa05450"
      }
     },
     "35827d1c806d4b15b571f62c8328135a": {
      "model_module": "@jupyter-widgets/base",
      "model_module_version": "1.2.0",
      "model_name": "LayoutModel",
      "state": {}
     },
     "368d0bdf9477454c9c4cbee27aa13ccf": {
      "model_module": "@jupyter-widgets/base",
      "model_module_version": "1.2.0",
      "model_name": "LayoutModel",
      "state": {
       "height": "200px",
       "width": "99%"
      }
     },
     "36ff0576975749a9aa290bda1d9f3166": {
      "model_module": "@jupyter-widgets/controls",
      "model_module_version": "1.5.0",
      "model_name": "ButtonStyleModel",
      "state": {}
     },
     "3712c9f2498748209c10f6c85107f09c": {
      "model_module": "@jupyter-widgets/base",
      "model_module_version": "1.2.0",
      "model_name": "LayoutModel",
      "state": {}
     },
     "37c344c720114b2d9cfb53b688573789": {
      "model_module": "@jupyter-widgets/controls",
      "model_module_version": "1.5.0",
      "model_name": "DescriptionStyleModel",
      "state": {
       "description_width": ""
      }
     },
     "3a010670528549a6b65bd0b9282544f0": {
      "model_module": "@jupyter-widgets/controls",
      "model_module_version": "1.5.0",
      "model_name": "VBoxModel",
      "state": {
       "children": [
        "IPY_MODEL_e4a2f2e7927e4250a8e66060c27a8434",
        "IPY_MODEL_b1c1b7fce9ca4192b20da95bd48f4dfb",
        "IPY_MODEL_a19c7ec249074a8f95a1e4c174993ad1",
        "IPY_MODEL_e380f29ef50a462ba67fe242f06ae2a3"
       ],
       "layout": "IPY_MODEL_2d9e209cc59e4ec2b5c2c23d4109a87c"
      }
     },
     "3a4f412e479a4bfaa61bb18f8d8a4c09": {
      "model_module": "@jupyter-widgets/controls",
      "model_module_version": "1.5.0",
      "model_name": "TextareaModel",
      "state": {
       "disabled": true,
       "layout": "IPY_MODEL_ca88f096b67f4b3491314daa9732b5f5",
       "placeholder": "",
       "style": "IPY_MODEL_1c38818cbef445baa83a08f405cd7e95"
      }
     },
     "3b0edd59426644e9b3a2f5d9bf6a4000": {
      "model_module": "@jupyter-widgets/controls",
      "model_module_version": "1.5.0",
      "model_name": "DescriptionStyleModel",
      "state": {
       "description_width": ""
      }
     },
     "3b4e039d5e854d79a57934ccf2dc5df2": {
      "model_module": "@jupyter-widgets/controls",
      "model_module_version": "1.5.0",
      "model_name": "TextareaModel",
      "state": {
       "layout": "IPY_MODEL_dc6b52835e5046c1af6c881c67cc9570",
       "style": "IPY_MODEL_28aea4f4bdf9430cb5a7c28bd1581d99"
      }
     },
     "3bf3ef872f6845abb2bdec1e7858070b": {
      "model_module": "@jupyter-widgets/controls",
      "model_module_version": "1.5.0",
      "model_name": "VBoxModel",
      "state": {
       "layout": "IPY_MODEL_0694eb9987fa47cf88724284ce74d4f1"
      }
     },
     "3c26026492004dfab9057086c1a81111": {
      "model_module": "@jupyter-widgets/controls",
      "model_module_version": "1.5.0",
      "model_name": "ButtonStyleModel",
      "state": {}
     },
     "3db2ff0a369e42dbb7a377bc05dbeb69": {
      "model_module": "@jupyter-widgets/controls",
      "model_module_version": "1.5.0",
      "model_name": "DescriptionStyleModel",
      "state": {
       "description_width": ""
      }
     },
     "3dec92c873db48099b0e61584e9665e3": {
      "model_module": "@jupyter-widgets/controls",
      "model_module_version": "1.5.0",
      "model_name": "LabelModel",
      "state": {
       "layout": "IPY_MODEL_782d6b37a1454e5d808e094b1ad73993",
       "style": "IPY_MODEL_51a0e060b97842688456adafcedf7451",
       "value": "Write your own code:"
      }
     },
     "3e324321a7d444bb974daa11e4d09938": {
      "model_module": "@jupyter-widgets/controls",
      "model_module_version": "1.5.0",
      "model_name": "TextModel",
      "state": {
       "layout": "IPY_MODEL_20d04eca47dc4e80b35069096d9c0226",
       "style": "IPY_MODEL_972d93e14eb2490ca48ed1c95f90f344",
       "value": "8"
      }
     },
     "4094ab0a73b34eb68e9a2433e2d2b063": {
      "model_module": "@jupyter-widgets/controls",
      "model_module_version": "1.5.0",
      "model_name": "HBoxModel",
      "state": {
       "children": [
        "IPY_MODEL_e5f7c1dcd698486ca01e8cfa8d330fa8",
        "IPY_MODEL_2ac00aaf43514c7f9559aca4fa7131a0",
        "IPY_MODEL_a2eea331aaac4b5f996d9cef5a05058b"
       ],
       "layout": "IPY_MODEL_c0ea609ec9d74f8b9a90aceb3b18035e"
      }
     },
     "409be95e044346ada0fb54a02e0c3b4d": {
      "model_module": "@jupyter-widgets/controls",
      "model_module_version": "1.5.0",
      "model_name": "DescriptionStyleModel",
      "state": {
       "description_width": ""
      }
     },
     "4187993c60a14a8c933161d2720e5214": {
      "model_module": "@jupyter-widgets/controls",
      "model_module_version": "1.5.0",
      "model_name": "DescriptionStyleModel",
      "state": {
       "description_width": ""
      }
     },
     "41c5e95917d3439ca3c080027cb473fe": {
      "model_module": "@jupyter-widgets/base",
      "model_module_version": "1.2.0",
      "model_name": "LayoutModel",
      "state": {}
     },
     "420d25a3569e419697ce416a7335467a": {
      "model_module": "@jupyter-widgets/controls",
      "model_module_version": "1.5.0",
      "model_name": "DescriptionStyleModel",
      "state": {
       "description_width": ""
      }
     },
     "429f401704cd4bc7b6686e2f53f858d1": {
      "model_module": "@jupyter-widgets/controls",
      "model_module_version": "1.5.0",
      "model_name": "ButtonModel",
      "state": {
       "button_style": "success",
       "description": "Correct",
       "icon": "check",
       "layout": "IPY_MODEL_7b6af887121f4b4fb81dfc70230b980f",
       "style": "IPY_MODEL_5f3ea89f284947aea3915101d08ad74e"
      }
     },
     "42f685999a3a4c91b47e00e028381ee3": {
      "model_module": "@jupyter-widgets/controls",
      "model_module_version": "1.5.0",
      "model_name": "DescriptionStyleModel",
      "state": {
       "description_width": ""
      }
     },
     "43013da028fb4c8ab75252cbb89b89fb": {
      "model_module": "@jupyter-widgets/controls",
      "model_module_version": "1.5.0",
      "model_name": "DescriptionStyleModel",
      "state": {
       "description_width": ""
      }
     },
     "4497a6bbbf3f4b4993e3bf5acaeb8d47": {
      "model_module": "@jupyter-widgets/controls",
      "model_module_version": "1.5.0",
      "model_name": "VBoxModel",
      "state": {
       "children": [
        "IPY_MODEL_dfbfbaffe0d54156b5d8f20e4f721527",
        "IPY_MODEL_bfe39f38452a42ef8d75e51d07cf9046"
       ],
       "layout": "IPY_MODEL_5fd1676a80ca414cb35c80aa5842c543"
      }
     },
     "469c039c2b8e428cbda88c98ccc12d57": {
      "model_module": "@jupyter-widgets/controls",
      "model_module_version": "1.5.0",
      "model_name": "DescriptionStyleModel",
      "state": {
       "description_width": ""
      }
     },
     "473b4af5a8024778bfd7251c3626901a": {
      "model_module": "@jupyter-widgets/controls",
      "model_module_version": "1.5.0",
      "model_name": "DescriptionStyleModel",
      "state": {
       "description_width": ""
      }
     },
     "473ba74670e34103880e9faedc5523ff": {
      "model_module": "@jupyter-widgets/base",
      "model_module_version": "1.2.0",
      "model_name": "LayoutModel",
      "state": {
       "width": "90px"
      }
     },
     "478c0bb754204930afcbcdefde49ee6f": {
      "model_module": "@jupyter-widgets/base",
      "model_module_version": "1.2.0",
      "model_name": "LayoutModel",
      "state": {
       "height": "100px",
       "width": "250px"
      }
     },
     "486fa5a092c5479c96395d9dc59ec00b": {
      "model_module": "@jupyter-widgets/base",
      "model_module_version": "1.2.0",
      "model_name": "LayoutModel",
      "state": {}
     },
     "48f004c69be24fa59c2a170d068123c0": {
      "model_module": "@jupyter-widgets/controls",
      "model_module_version": "1.5.0",
      "model_name": "DescriptionStyleModel",
      "state": {
       "description_width": ""
      }
     },
     "48fb06e211564755aab591aaa6b15179": {
      "model_module": "@jupyter-widgets/controls",
      "model_module_version": "1.5.0",
      "model_name": "DescriptionStyleModel",
      "state": {
       "description_width": ""
      }
     },
     "4a570eb8d7d9405681b731abc667190a": {
      "model_module": "@jupyter-widgets/base",
      "model_module_version": "1.2.0",
      "model_name": "LayoutModel",
      "state": {}
     },
     "4a867d6b8500445c95276fa5169bb4be": {
      "model_module": "@jupyter-widgets/controls",
      "model_module_version": "1.5.0",
      "model_name": "DescriptionStyleModel",
      "state": {
       "description_width": ""
      }
     },
     "4b8da66c52d74ea8ae7b6e6de3511162": {
      "model_module": "@jupyter-widgets/base",
      "model_module_version": "1.2.0",
      "model_name": "LayoutModel",
      "state": {}
     },
     "4c104b636b4443deaa5ec2ca00140045": {
      "model_module": "@jupyter-widgets/controls",
      "model_module_version": "1.5.0",
      "model_name": "HBoxModel",
      "state": {
       "children": [
        "IPY_MODEL_578ab267d25e427f8949c28e7c6d25b4",
        "IPY_MODEL_33ed293d84e24b4d806dd0896446534f"
       ],
       "layout": "IPY_MODEL_486fa5a092c5479c96395d9dc59ec00b"
      }
     },
     "4c15c2b71a4249abab97adf286afd16f": {
      "model_module": "@jupyter-widgets/base",
      "model_module_version": "1.2.0",
      "model_name": "LayoutModel",
      "state": {}
     },
     "4d942a22734348afb0df8763f2b9980f": {
      "model_module": "@jupyter-widgets/controls",
      "model_module_version": "1.5.0",
      "model_name": "DescriptionStyleModel",
      "state": {
       "description_width": ""
      }
     },
     "4df0e749162f436f8a62097aa5d62f06": {
      "model_module": "@jupyter-widgets/controls",
      "model_module_version": "1.5.0",
      "model_name": "ButtonStyleModel",
      "state": {}
     },
     "4f1a5e6dff76447eb7636e10be20cbf7": {
      "model_module": "@jupyter-widgets/base",
      "model_module_version": "1.2.0",
      "model_name": "LayoutModel",
      "state": {}
     },
     "4fe8794b6e8a46aa8e518caa3406e5c7": {
      "model_module": "@jupyter-widgets/base",
      "model_module_version": "1.2.0",
      "model_name": "LayoutModel",
      "state": {}
     },
     "50a60e114740404288df050f9861929b": {
      "model_module": "@jupyter-widgets/controls",
      "model_module_version": "1.5.0",
      "model_name": "ButtonModel",
      "state": {
       "layout": "IPY_MODEL_fadfe345668e424ca5595a12b2542b9d",
       "style": "IPY_MODEL_2edd75b893ff461ea2013aff48a0068f"
      }
     },
     "518af0ce753c429da1c96105f3919d65": {
      "model_module": "@jupyter-widgets/controls",
      "model_module_version": "1.5.0",
      "model_name": "ButtonModel",
      "state": {
       "layout": "IPY_MODEL_bcedf192e2a342bc8b5eb5dacccb0d12",
       "style": "IPY_MODEL_d6983c73ce1541c18f1071e434f333b9"
      }
     },
     "51a0e060b97842688456adafcedf7451": {
      "model_module": "@jupyter-widgets/controls",
      "model_module_version": "1.5.0",
      "model_name": "DescriptionStyleModel",
      "state": {
       "description_width": ""
      }
     },
     "51b89ace7f1e4626825059827ca2c09d": {
      "model_module": "@jupyter-widgets/controls",
      "model_module_version": "1.5.0",
      "model_name": "DescriptionStyleModel",
      "state": {
       "description_width": ""
      }
     },
     "52c3d844b2f54817bc0dae152a6cafba": {
      "model_module": "@jupyter-widgets/controls",
      "model_module_version": "1.5.0",
      "model_name": "LabelModel",
      "state": {
       "layout": "IPY_MODEL_114829f457d844e9bf45b600cca07042",
       "style": "IPY_MODEL_67f105542c594a7b87d008a49b7b992c",
       "value": "Write your own code:"
      }
     },
     "52d8c6a0e9f54d4e8e5c906c06c5b2d1": {
      "model_module": "@jupyter-widgets/controls",
      "model_module_version": "1.5.0",
      "model_name": "VBoxModel",
      "state": {
       "children": [
        "IPY_MODEL_7269b62a955543548bb04018909810ee",
        "IPY_MODEL_cfe6ca08b6484fc5bbddbe7eb3f95342"
       ],
       "layout": "IPY_MODEL_77acaca16e7d4eb38395d20c4f7cbcfd"
      }
     },
     "5326cf4021464885bded66b1b36db8c1": {
      "model_module": "@jupyter-widgets/base",
      "model_module_version": "1.2.0",
      "model_name": "LayoutModel",
      "state": {}
     },
     "5428e8686aab4ba7ac2ed9f90fb13def": {
      "model_module": "@jupyter-widgets/controls",
      "model_module_version": "1.5.0",
      "model_name": "DescriptionStyleModel",
      "state": {
       "description_width": ""
      }
     },
     "54787e4ea8504996bcd901070ed813c5": {
      "model_module": "@jupyter-widgets/controls",
      "model_module_version": "1.5.0",
      "model_name": "TextareaModel",
      "state": {
       "layout": "IPY_MODEL_e53c2ab2567445b0af17580cccc86962",
       "placeholder": "",
       "style": "IPY_MODEL_614cf87ed9a14d138653c6dcb282120e",
       "value": "#include <stdio.h>\n\nint main(void) {\n printf(\"Hello world!\\n\");\n return 0;\n}"
      }
     },
     "54b0843c525c41caa5daf17ff891001f": {
      "model_module": "@jupyter-widgets/base",
      "model_module_version": "1.2.0",
      "model_name": "LayoutModel",
      "state": {}
     },
     "54ead1c6fc9e41cbb00ad9e510a2131f": {
      "model_module": "@jupyter-widgets/controls",
      "model_module_version": "1.5.0",
      "model_name": "ButtonStyleModel",
      "state": {}
     },
     "550eee804ac44c469be9df421b8bbab4": {
      "model_module": "@jupyter-widgets/base",
      "model_module_version": "1.2.0",
      "model_name": "LayoutModel",
      "state": {}
     },
     "5529dbddffd74f498aabc2943b25d11b": {
      "model_module": "@jupyter-widgets/base",
      "model_module_version": "1.2.0",
      "model_name": "LayoutModel",
      "state": {}
     },
     "566fa9b66f634fdf96d83ba4dde14513": {
      "model_module": "@jupyter-widgets/controls",
      "model_module_version": "1.5.0",
      "model_name": "LabelModel",
      "state": {
       "layout": "IPY_MODEL_587374f1b0c443cbbc151b1419042ea0",
       "style": "IPY_MODEL_22c19096a8c1499da6577b6553987232",
       "value": "Write your own code:"
      }
     },
     "578ab267d25e427f8949c28e7c6d25b4": {
      "model_module": "@jupyter-widgets/controls",
      "model_module_version": "1.5.0",
      "model_name": "VBoxModel",
      "state": {
       "children": [
        "IPY_MODEL_18ee685fcbf6470a906697bf0d1ceb20",
        "IPY_MODEL_9abfc00eff6c43e882a74dd27eae1691"
       ],
       "layout": "IPY_MODEL_35827d1c806d4b15b571f62c8328135a"
      }
     },
     "5798209213324fbe812c17316bbe0c10": {
      "model_module": "@jupyter-widgets/controls",
      "model_module_version": "1.5.0",
      "model_name": "TextareaModel",
      "state": {
       "layout": "IPY_MODEL_41c5e95917d3439ca3c080027cb473fe",
       "style": "IPY_MODEL_5428e8686aab4ba7ac2ed9f90fb13def"
      }
     },
     "582266295ca848dbb83b34eef7a60f68": {
      "model_module": "@jupyter-widgets/controls",
      "model_module_version": "1.5.0",
      "model_name": "DescriptionStyleModel",
      "state": {
       "description_width": ""
      }
     },
     "587374f1b0c443cbbc151b1419042ea0": {
      "model_module": "@jupyter-widgets/base",
      "model_module_version": "1.2.0",
      "model_name": "LayoutModel",
      "state": {}
     },
     "5aaa490ee277498eba1002fea95a72db": {
      "model_module": "@jupyter-widgets/base",
      "model_module_version": "1.2.0",
      "model_name": "LayoutModel",
      "state": {}
     },
     "5b58cff518de4636a92fc26fdefe78f2": {
      "model_module": "@jupyter-widgets/controls",
      "model_module_version": "1.5.0",
      "model_name": "DescriptionStyleModel",
      "state": {
       "description_width": ""
      }
     },
     "5bb726a5448d4cc2b27a7ddb70f85202": {
      "model_module": "@jupyter-widgets/base",
      "model_module_version": "1.2.0",
      "model_name": "LayoutModel",
      "state": {}
     },
     "5beab6a53d5c47d8a71a75f7f67fecdf": {
      "model_module": "@jupyter-widgets/base",
      "model_module_version": "1.2.0",
      "model_name": "LayoutModel",
      "state": {}
     },
     "5c1dc4d360c54ccaa3f474eb6721623b": {
      "model_module": "@jupyter-widgets/base",
      "model_module_version": "1.2.0",
      "model_name": "LayoutModel",
      "state": {}
     },
     "5c637ac420ac48d69ca657906aa60853": {
      "model_module": "@jupyter-widgets/base",
      "model_module_version": "1.2.0",
      "model_name": "LayoutModel",
      "state": {}
     },
     "5cfc329c67c242d7a4c09cc51cb6cb95": {
      "model_module": "@jupyter-widgets/controls",
      "model_module_version": "1.5.0",
      "model_name": "HTMLModel",
      "state": {
       "layout": "IPY_MODEL_67d216a74226467a9e00946a56ee6064",
       "style": "IPY_MODEL_bdbc31319da2431baf5e49fb53373261",
       "value": "(2) Suppose a new instruction was inserted as follows:  <br><br>z = x + y<br>Add 1 more to z (new instruction)<br>Put z to output<br><br>What would the last instruction then output to the screen?<br>"
      }
     },
     "5da64d1fbe5641f5ba1d72adc4b82895": {
      "model_module": "@jupyter-widgets/controls",
      "model_module_version": "1.5.0",
      "model_name": "VBoxModel",
      "state": {
       "layout": "IPY_MODEL_f7fc2c5ce8c447edae0747ce5158c30d"
      }
     },
     "5ee22681c3d944ceaf6321be9230d3ce": {
      "model_module": "@jupyter-widgets/base",
      "model_module_version": "1.2.0",
      "model_name": "LayoutModel",
      "state": {
       "border": "solid 2px",
       "padding": "1rem"
      }
     },
     "5f3ea89f284947aea3915101d08ad74e": {
      "model_module": "@jupyter-widgets/controls",
      "model_module_version": "1.5.0",
      "model_name": "ButtonStyleModel",
      "state": {}
     },
     "5fb0a68945c34d1c8f43b6b47610d75c": {
      "model_module": "@jupyter-widgets/controls",
      "model_module_version": "1.5.0",
      "model_name": "HTMLModel",
      "state": {
       "layout": "IPY_MODEL_a7f72a4fefd64a1692961fc12f28c839",
       "style": "IPY_MODEL_48fb06e211564755aab591aaa6b15179"
      }
     },
     "5fd1676a80ca414cb35c80aa5842c543": {
      "model_module": "@jupyter-widgets/base",
      "model_module_version": "1.2.0",
      "model_name": "LayoutModel",
      "state": {
       "border": "ridge 2px",
       "padding": "1rem"
      }
     },
     "614cf87ed9a14d138653c6dcb282120e": {
      "model_module": "@jupyter-widgets/controls",
      "model_module_version": "1.5.0",
      "model_name": "DescriptionStyleModel",
      "state": {
       "description_width": ""
      }
     },
     "61e15ccefdd04c4cbd70838a6422e9d9": {
      "model_module": "@jupyter-widgets/controls",
      "model_module_version": "1.5.0",
      "model_name": "TextareaModel",
      "state": {
       "layout": "IPY_MODEL_33b0515e7f974fbe9be75f90e778f6d3",
       "style": "IPY_MODEL_acfff08d5bed43f5beb5410c765e28e8"
      }
     },
     "620f152d00384500bbdae94c1711e614": {
      "model_module": "@jupyter-widgets/controls",
      "model_module_version": "1.5.0",
      "model_name": "TextareaModel",
      "state": {
       "layout": "IPY_MODEL_cf6a661bb797419aba09ed002f7d6967",
       "style": "IPY_MODEL_b9d3b43fdc64412bae77afd597b4a152"
      }
     },
     "623f69c8c93440b0b15aa37bd24b87ec": {
      "model_module": "@jupyter-widgets/controls",
      "model_module_version": "1.5.0",
      "model_name": "TextareaModel",
      "state": {
       "layout": "IPY_MODEL_240d9fb8631547c1b0aa1a766c5e4354",
       "placeholder": "",
       "style": "IPY_MODEL_73191e32252b434299065b4c40b4e346",
       "value": "#include <stdio.h>\n\nint main(void) {\n int a;\n scanf(\"%d\", &a);\n printf(\"%d\\n\", a);\n return 0;\n}"
      }
     },
     "628aaf7e15b840288731f36af304d2a8": {
      "model_module": "@jupyter-widgets/controls",
      "model_module_version": "1.5.0",
      "model_name": "CheckboxModel",
      "state": {
       "disabled": true,
       "layout": "IPY_MODEL_adc1aa7923df4e158f76145e02d69773",
       "style": "IPY_MODEL_473b4af5a8024778bfd7251c3626901a",
       "value": false
      }
     },
     "6337f6078fdb45d6b30abc2fa0c3703a": {
      "model_module": "@jupyter-widgets/controls",
      "model_module_version": "1.5.0",
      "model_name": "TextModel",
      "state": {
       "layout": "IPY_MODEL_0af52b1e0fcc4fe68cbfdbf7ede7077e",
       "style": "IPY_MODEL_682ae53d506a40d48089ddd2138700c7"
      }
     },
     "6416e67664a8445584415412783f90ba": {
      "model_module": "@jupyter-widgets/controls",
      "model_module_version": "1.5.0",
      "model_name": "DescriptionStyleModel",
      "state": {
       "description_width": ""
      }
     },
     "64504ec1beba4e51aa74673d823b5ed8": {
      "model_module": "@jupyter-widgets/controls",
      "model_module_version": "1.5.0",
      "model_name": "HTMLModel",
      "state": {
       "layout": "IPY_MODEL_ed12e600b2d64f60bc4f6d4ca9ef85c7",
       "style": "IPY_MODEL_faa951361e414ca78ebaa6752b380545",
       "value": "(2) Suppose a new instruction was inserted as follows:  <br><br>z = x + y<br>Add 1 more to z (new instruction)<br>Put z to output<br><br>What would the last instruction then output to the screen?<br>"
      }
     },
     "6556a0e445004c8d8d4a9db486e37e77": {
      "model_module": "@jupyter-widgets/base",
      "model_module_version": "1.2.0",
      "model_name": "LayoutModel",
      "state": {}
     },
     "65b11bb8816743d98834ed458d3d21c8": {
      "model_module": "@jupyter-widgets/controls",
      "model_module_version": "1.5.0",
      "model_name": "VBoxModel",
      "state": {
       "children": [
        "IPY_MODEL_8a901ef189e042de96fc4fae5803ff88",
        "IPY_MODEL_253989aa20984d8390f7ac863a74f5d8"
       ],
       "layout": "IPY_MODEL_27266a4ce8df4444833b772a4487d681"
      }
     },
     "65b79b695ed145d8ba78f2319ee57b11": {
      "model_module": "@jupyter-widgets/controls",
      "model_module_version": "1.5.0",
      "model_name": "ButtonModel",
      "state": {
       "button_style": "warning",
       "description": "Check",
       "icon": "check",
       "layout": "IPY_MODEL_cbd5b5ce32dc46d99166cbaa6e2a9c1c",
       "style": "IPY_MODEL_54ead1c6fc9e41cbb00ad9e510a2131f"
      }
     },
     "65f3fbf521884498a66985c990d3450c": {
      "model_module": "@jupyter-widgets/controls",
      "model_module_version": "1.5.0",
      "model_name": "DescriptionStyleModel",
      "state": {
       "description_width": ""
      }
     },
     "67118584989d435da5cfd186b9520efc": {
      "model_module": "@jupyter-widgets/controls",
      "model_module_version": "1.5.0",
      "model_name": "CheckboxModel",
      "state": {
       "disabled": true,
       "layout": "IPY_MODEL_0d80d97e86da497f86679e6c61d65250",
       "style": "IPY_MODEL_17ef7c20b16547a8bb23337d678cb1d5",
       "value": false
      }
     },
     "677c40dc476d48549b4ed36fb59ba2f2": {
      "model_module": "@jupyter-widgets/controls",
      "model_module_version": "1.5.0",
      "model_name": "TextareaModel",
      "state": {
       "layout": "IPY_MODEL_30a7638148d54940a1d5109435476092",
       "style": "IPY_MODEL_03e2fa1b7cef46a69ea9cac53d49a874"
      }
     },
     "679e70926c2145d38d9261c9e146a8f6": {
      "model_module": "@jupyter-widgets/base",
      "model_module_version": "1.2.0",
      "model_name": "LayoutModel",
      "state": {}
     },
     "67d216a74226467a9e00946a56ee6064": {
      "model_module": "@jupyter-widgets/base",
      "model_module_version": "1.2.0",
      "model_name": "LayoutModel",
      "state": {}
     },
     "67f105542c594a7b87d008a49b7b992c": {
      "model_module": "@jupyter-widgets/controls",
      "model_module_version": "1.5.0",
      "model_name": "DescriptionStyleModel",
      "state": {
       "description_width": ""
      }
     },
     "682ae53d506a40d48089ddd2138700c7": {
      "model_module": "@jupyter-widgets/controls",
      "model_module_version": "1.5.0",
      "model_name": "DescriptionStyleModel",
      "state": {
       "description_width": ""
      }
     },
     "6835258dc8134edd89a82662ba6402ab": {
      "model_module": "@jupyter-widgets/controls",
      "model_module_version": "1.5.0",
      "model_name": "DescriptionStyleModel",
      "state": {
       "description_width": ""
      }
     },
     "68fb66dd7ff149b1af1a91d2513223c1": {
      "model_module": "@jupyter-widgets/base",
      "model_module_version": "1.2.0",
      "model_name": "LayoutModel",
      "state": {
       "border": "solid 2px",
       "padding": "1rem"
      }
     },
     "6905e1d508e84e2fbafb26f06989016c": {
      "model_module": "@jupyter-widgets/base",
      "model_module_version": "1.2.0",
      "model_name": "LayoutModel",
      "state": {}
     },
     "69519dd984de4c1caae8c30db5a10273": {
      "model_module": "@jupyter-widgets/base",
      "model_module_version": "1.2.0",
      "model_name": "LayoutModel",
      "state": {}
     },
     "6a35e5d9665b4e2aa1c7d503ad676abc": {
      "model_module": "@jupyter-widgets/controls",
      "model_module_version": "1.5.0",
      "model_name": "TextModel",
      "state": {
       "layout": "IPY_MODEL_5bb726a5448d4cc2b27a7ddb70f85202",
       "style": "IPY_MODEL_869870d4747941bf9ae351f31a04d35c"
      }
     },
     "6b12f3d0a07c4e16822f915db0d81c86": {
      "model_module": "@jupyter-widgets/controls",
      "model_module_version": "1.5.0",
      "model_name": "RadioButtonsModel",
      "state": {
       "_options_labels": [
        "Multiply x by 2",
        "Add 2 to x",
        "Multiply x by 1/2"
       ],
       "index": 0,
       "layout": "IPY_MODEL_eefb48d400c342c3907cbcd91ed0fa49",
       "style": "IPY_MODEL_86b302c97bcd4fd0becf671ce0ad1324"
      }
     },
     "6d535f79c93c438091a04757b4bab9dd": {
      "model_module": "@jupyter-widgets/controls",
      "model_module_version": "1.5.0",
      "model_name": "DescriptionStyleModel",
      "state": {
       "description_width": ""
      }
     },
     "6e947b8c685d44cd90cca1b024eca42c": {
      "model_module": "@jupyter-widgets/base",
      "model_module_version": "1.2.0",
      "model_name": "LayoutModel",
      "state": {}
     },
     "6ef6e862d68e44e18cca7f2b997ec8d3": {
      "model_module": "@jupyter-widgets/controls",
      "model_module_version": "1.5.0",
      "model_name": "DescriptionStyleModel",
      "state": {
       "description_width": ""
      }
     },
     "6f94076c1f194e9b8d904b8905ad3e9a": {
      "model_module": "@jupyter-widgets/base",
      "model_module_version": "1.2.0",
      "model_name": "LayoutModel",
      "state": {}
     },
     "70149f181dba484d835e61d306d04070": {
      "model_module": "@jupyter-widgets/base",
      "model_module_version": "1.2.0",
      "model_name": "LayoutModel",
      "state": {}
     },
     "703788c8563c48aaa2960fedaefcdf72": {
      "model_module": "@jupyter-widgets/controls",
      "model_module_version": "1.5.0",
      "model_name": "HBoxModel",
      "state": {
       "children": [
        "IPY_MODEL_e8b72e3cb397496797790b5748dec07a",
        "IPY_MODEL_628aaf7e15b840288731f36af304d2a8",
        "IPY_MODEL_0a96a6560aa24141a9595d731875e308"
       ],
       "layout": "IPY_MODEL_a8a96be2896a4f959111f058176e0459"
      }
     },
     "70b91c4010584c89bfa8059a2c957160": {
      "model_module": "@jupyter-widgets/controls",
      "model_module_version": "1.5.0",
      "model_name": "LabelModel",
      "state": {
       "layout": "IPY_MODEL_5c637ac420ac48d69ca657906aa60853",
       "style": "IPY_MODEL_420d25a3569e419697ce416a7335467a",
       "value": "Participation: 0%"
      }
     },
     "717261529f954ef492e79186a4657e64": {
      "model_module": "@jupyter-widgets/controls",
      "model_module_version": "1.5.0",
      "model_name": "LabelModel",
      "state": {
       "layout": "IPY_MODEL_07a739416f684f5faa713de4f97cd7b5",
       "style": "IPY_MODEL_ccffc9d6e95d4dceb24618f4508351ff",
       "value": "Write your own code:"
      }
     },
     "7269b62a955543548bb04018909810ee": {
      "model_module": "@jupyter-widgets/controls",
      "model_module_version": "1.5.0",
      "model_name": "LabelModel",
      "state": {
       "layout": "IPY_MODEL_6f94076c1f194e9b8d904b8905ad3e9a",
       "style": "IPY_MODEL_96c918a2dfb24f15ae2befc745e6ac64",
       "value": "Write your own code:"
      }
     },
     "73191e32252b434299065b4c40b4e346": {
      "model_module": "@jupyter-widgets/controls",
      "model_module_version": "1.5.0",
      "model_name": "DescriptionStyleModel",
      "state": {
       "description_width": ""
      }
     },
     "73a3ff6495984c15b4279759b3b444d6": {
      "model_module": "@jupyter-widgets/controls",
      "model_module_version": "1.5.0",
      "model_name": "ButtonStyleModel",
      "state": {}
     },
     "7456d8090f5c4b6db444ba9c723f5195": {
      "model_module": "@jupyter-widgets/controls",
      "model_module_version": "1.5.0",
      "model_name": "DescriptionStyleModel",
      "state": {
       "description_width": ""
      }
     },
     "749b9ce7edd94d4bb0e588b5d46c7b4a": {
      "model_module": "@jupyter-widgets/controls",
      "model_module_version": "1.5.0",
      "model_name": "ButtonModel",
      "state": {
       "layout": "IPY_MODEL_fbd60d23434c48e5927817e6e989c2de",
       "style": "IPY_MODEL_345880e2e12d42049be10d1033600a63"
      }
     },
     "75f33a04c3e54a4281f7c62a7748ac5e": {
      "model_module": "@jupyter-widgets/controls",
      "model_module_version": "1.5.0",
      "model_name": "HTMLModel",
      "state": {
       "layout": "IPY_MODEL_6e947b8c685d44cd90cca1b024eca42c",
       "style": "IPY_MODEL_4187993c60a14a8c933161d2720e5214",
       "value": "(1) The program has a total number of _____ instructions"
      }
     },
     "76e0d28f3b8b45938d245a9cb11f937a": {
      "model_module": "@jupyter-widgets/controls",
      "model_module_version": "1.5.0",
      "model_name": "ButtonModel",
      "state": {
       "layout": "IPY_MODEL_7995d608a3424bb3b519a146c0cebf77",
       "style": "IPY_MODEL_4df0e749162f436f8a62097aa5d62f06"
      }
     },
     "77535a37d8c740189a3fcd026c2cb073": {
      "model_module": "@jupyter-widgets/controls",
      "model_module_version": "1.5.0",
      "model_name": "VBoxModel",
      "state": {
       "children": [
        "IPY_MODEL_254bedaf90204af4b464de0cfa708cf4",
        "IPY_MODEL_623f69c8c93440b0b15aa37bd24b87ec",
        "IPY_MODEL_8ae9ea5a9a724e6399cd3966800fee1b",
        "IPY_MODEL_aefa8ffc31ba4a9b8dde4978460f162f"
       ],
       "layout": "IPY_MODEL_bad5220f3ca940a0b5e2c36c80f48b07"
      }
     },
     "77acaca16e7d4eb38395d20c4f7cbcfd": {
      "model_module": "@jupyter-widgets/base",
      "model_module_version": "1.2.0",
      "model_name": "LayoutModel",
      "state": {
       "width": "100%"
      }
     },
     "781e6dab971044d18de6f3630ad333e4": {
      "model_module": "@jupyter-widgets/controls",
      "model_module_version": "1.5.0",
      "model_name": "VBoxModel",
      "state": {
       "layout": "IPY_MODEL_986fc5bb29f5402b9976fe381de3075f"
      }
     },
     "782d6b37a1454e5d808e094b1ad73993": {
      "model_module": "@jupyter-widgets/base",
      "model_module_version": "1.2.0",
      "model_name": "LayoutModel",
      "state": {}
     },
     "78c1a0248d074baab02fce9c5aa77b0b": {
      "model_module": "@jupyter-widgets/controls",
      "model_module_version": "1.5.0",
      "model_name": "ButtonModel",
      "state": {
       "layout": "IPY_MODEL_f79bee4db451492fb108809236c59a8b",
       "style": "IPY_MODEL_3c26026492004dfab9057086c1a81111"
      }
     },
     "78d3eb2c33e24f5e91c0f489e60c2ca0": {
      "model_module": "@jupyter-widgets/controls",
      "model_module_version": "1.5.0",
      "model_name": "ButtonModel",
      "state": {
       "layout": "IPY_MODEL_cc69a0d5ed6e41d6a2d7e52611c5a8e1",
       "style": "IPY_MODEL_73a3ff6495984c15b4279759b3b444d6"
      }
     },
     "7995d608a3424bb3b519a146c0cebf77": {
      "model_module": "@jupyter-widgets/base",
      "model_module_version": "1.2.0",
      "model_name": "LayoutModel",
      "state": {}
     },
     "7b19724bfdf841a992379372e8bafec1": {
      "model_module": "@jupyter-widgets/controls",
      "model_module_version": "1.5.0",
      "model_name": "DescriptionStyleModel",
      "state": {
       "description_width": ""
      }
     },
     "7b6af887121f4b4fb81dfc70230b980f": {
      "model_module": "@jupyter-widgets/base",
      "model_module_version": "1.2.0",
      "model_name": "LayoutModel",
      "state": {
       "width": "90px"
      }
     },
     "7b8ae1b6d0c44af989747968fe6982b7": {
      "model_module": "@jupyter-widgets/controls",
      "model_module_version": "1.5.0",
      "model_name": "DescriptionStyleModel",
      "state": {
       "description_width": ""
      }
     },
     "7cb00da508e345bdb78facf915d40170": {
      "model_module": "@jupyter-widgets/base",
      "model_module_version": "1.2.0",
      "model_name": "LayoutModel",
      "state": {}
     },
     "7d0695a4a6f94634b8e72fef21b575a4": {
      "model_module": "@jupyter-widgets/controls",
      "model_module_version": "1.5.0",
      "model_name": "VBoxModel",
      "state": {
       "layout": "IPY_MODEL_5c1dc4d360c54ccaa3f474eb6721623b"
      }
     },
     "7f11014770184111a4fab4ddba3c89c0": {
      "model_module": "@jupyter-widgets/base",
      "model_module_version": "1.2.0",
      "model_name": "LayoutModel",
      "state": {}
     },
     "7f32f12e70244579831efc13faaed967": {
      "model_module": "@jupyter-widgets/controls",
      "model_module_version": "1.5.0",
      "model_name": "DescriptionStyleModel",
      "state": {
       "description_width": ""
      }
     },
     "7ff41129346a44dd9aca2101b0e6e199": {
      "model_module": "@jupyter-widgets/controls",
      "model_module_version": "1.5.0",
      "model_name": "DescriptionStyleModel",
      "state": {
       "description_width": ""
      }
     },
     "82505b05ceb445f8b55a7c5263f7f61b": {
      "model_module": "@jupyter-widgets/controls",
      "model_module_version": "1.5.0",
      "model_name": "DescriptionStyleModel",
      "state": {
       "description_width": ""
      }
     },
     "830ecf39936f46d4ba254ceaee71959c": {
      "model_module": "@jupyter-widgets/controls",
      "model_module_version": "1.5.0",
      "model_name": "VBoxModel",
      "state": {
       "children": [
        "IPY_MODEL_3dec92c873db48099b0e61584e9665e3",
        "IPY_MODEL_cfe6ca08b6484fc5bbddbe7eb3f95342",
        "IPY_MODEL_4c104b636b4443deaa5ec2ca00140045",
        "IPY_MODEL_970607b5ffed46538b42162f25b451f7"
       ],
       "layout": "IPY_MODEL_1dbb155508e2463aa497095620bf962d"
      }
     },
     "8498169932194328b1621f7f2e418cf7": {
      "model_module": "@jupyter-widgets/base",
      "model_module_version": "1.2.0",
      "model_name": "LayoutModel",
      "state": {}
     },
     "85957acdd7354ac18f0be6b834579acf": {
      "model_module": "@jupyter-widgets/controls",
      "model_module_version": "1.5.0",
      "model_name": "HTMLModel",
      "state": {
       "layout": "IPY_MODEL_c6ad3fdaedbf454998c4dcb43014414a",
       "style": "IPY_MODEL_f0cb07df6a29498a81035befbfdfd00e"
      }
     },
     "859a1017bd644855ac04ffde6d77fe5f": {
      "model_module": "@jupyter-widgets/controls",
      "model_module_version": "1.5.0",
      "model_name": "ButtonModel",
      "state": {
       "button_style": "warning",
       "description": "Run Code",
       "icon": "check",
       "layout": "IPY_MODEL_5beab6a53d5c47d8a71a75f7f67fecdf",
       "style": "IPY_MODEL_e3d99f8ef0e74aeb9f018dcce2b565a8"
      }
     },
     "863cac85a6764620af191b1e85500ce7": {
      "model_module": "@jupyter-widgets/controls",
      "model_module_version": "1.5.0",
      "model_name": "DescriptionStyleModel",
      "state": {
       "description_width": ""
      }
     },
     "86756f597d7d473ca7bbb9cee8e1db78": {
      "model_module": "@jupyter-widgets/controls",
      "model_module_version": "1.5.0",
      "model_name": "ButtonModel",
      "state": {
       "button_style": "warning",
       "description": "Run Code",
       "icon": "check",
       "layout": "IPY_MODEL_f0936aeef65144dcba48f226c8e941bb",
       "style": "IPY_MODEL_94a6f81d26da4bb9a23dbb5b65ef38da"
      }
     },
     "869870d4747941bf9ae351f31a04d35c": {
      "model_module": "@jupyter-widgets/controls",
      "model_module_version": "1.5.0",
      "model_name": "DescriptionStyleModel",
      "state": {
       "description_width": ""
      }
     },
     "86a8ea34755c46ffa0153a24d47d5536": {
      "model_module": "@jupyter-widgets/controls",
      "model_module_version": "1.5.0",
      "model_name": "TextareaModel",
      "state": {
       "disabled": true,
       "layout": "IPY_MODEL_f991fc83c14849259e67ffb59d3743d6",
       "placeholder": "",
       "style": "IPY_MODEL_ab28db79a5704d23996b04fe9a843831"
      }
     },
     "86b302c97bcd4fd0becf671ce0ad1324": {
      "model_module": "@jupyter-widgets/controls",
      "model_module_version": "1.5.0",
      "model_name": "DescriptionStyleModel",
      "state": {
       "description_width": ""
      }
     },
     "86b8bab4b24245b0bb9684468edd6c47": {
      "model_module": "@jupyter-widgets/controls",
      "model_module_version": "1.5.0",
      "model_name": "TextareaModel",
      "state": {
       "layout": "IPY_MODEL_178ce5822ab74031af2d035a655e7382",
       "placeholder": "",
       "style": "IPY_MODEL_0db55cc1260640a3b846618317dd98b0",
       "value": "#include <stdio.h>\n\nint main(void) {\n printf(\"Hello world!\\n\");\n return 0;\n}"
      }
     },
     "86d57d885c5347b58899b84e39d712c2": {
      "model_module": "@jupyter-widgets/controls",
      "model_module_version": "1.5.0",
      "model_name": "VBoxModel",
      "state": {
       "layout": "IPY_MODEL_96996595b1cb47d79e65789b06f7bb41"
      }
     },
     "874eda6a378b495e9dbb7b7aa00e6854": {
      "model_module": "@jupyter-widgets/base",
      "model_module_version": "1.2.0",
      "model_name": "LayoutModel",
      "state": {
       "width": "90px"
      }
     },
     "8902db139a904089ab316bc8f7137d41": {
      "model_module": "@jupyter-widgets/base",
      "model_module_version": "1.2.0",
      "model_name": "LayoutModel",
      "state": {}
     },
     "89d5cfaeccd84010a9c983645bafc227": {
      "model_module": "@jupyter-widgets/controls",
      "model_module_version": "1.5.0",
      "model_name": "TextareaModel",
      "state": {
       "disabled": true,
       "layout": "IPY_MODEL_eaff74a1ebb6473e8ce33642160e7a58",
       "placeholder": "",
       "style": "IPY_MODEL_6ef6e862d68e44e18cca7f2b997ec8d3",
       "value": "10\n"
      }
     },
     "8a5236d7c695400eaf5cfe8ec4f84503": {
      "model_module": "@jupyter-widgets/controls",
      "model_module_version": "1.5.0",
      "model_name": "VBoxModel",
      "state": {
       "children": [
        "IPY_MODEL_566fa9b66f634fdf96d83ba4dde14513",
        "IPY_MODEL_623f69c8c93440b0b15aa37bd24b87ec"
       ],
       "layout": "IPY_MODEL_9f4a85ea1eb64488b71f291db73fba9a"
      }
     },
     "8a901ef189e042de96fc4fae5803ff88": {
      "model_module": "@jupyter-widgets/controls",
      "model_module_version": "1.5.0",
      "model_name": "LabelModel",
      "state": {
       "layout": "IPY_MODEL_d4315f27939d494aa7a1b3a88505f45b",
       "style": "IPY_MODEL_48f004c69be24fa59c2a170d068123c0",
       "value": "Write your own code:"
      }
     },
     "8ae9ea5a9a724e6399cd3966800fee1b": {
      "model_module": "@jupyter-widgets/controls",
      "model_module_version": "1.5.0",
      "model_name": "HBoxModel",
      "state": {
       "children": [
        "IPY_MODEL_e12c22b487404ffcacd0b2cb5b6bf27b",
        "IPY_MODEL_1a81d44471db4339bc12758cc3981a5b"
       ],
       "layout": "IPY_MODEL_3712c9f2498748209c10f6c85107f09c"
      }
     },
     "8b7ab55d6a304dfea964d26fbeff19d1": {
      "model_module": "@jupyter-widgets/controls",
      "model_module_version": "1.5.0",
      "model_name": "TextareaModel",
      "state": {
       "layout": "IPY_MODEL_2a6ba6c3b21a4a4e9406386d7be6b1b1",
       "style": "IPY_MODEL_deabae9645c34dc1b764bbb4544b7faa"
      }
     },
     "8bbc38ea0dd848529874b47fce4e79ec": {
      "model_module": "@jupyter-widgets/base",
      "model_module_version": "1.2.0",
      "model_name": "LayoutModel",
      "state": {}
     },
     "8bdbeda7c558434e85d15978ce13c26b": {
      "model_module": "@jupyter-widgets/controls",
      "model_module_version": "1.5.0",
      "model_name": "VBoxModel",
      "state": {
       "children": [
        "IPY_MODEL_75f33a04c3e54a4281f7c62a7748ac5e",
        "IPY_MODEL_2640199952e344ab9cdab6ead35d4aa0",
        "IPY_MODEL_0c0657b4873b4ef2b021d4b3667116fd",
        "IPY_MODEL_ece538a29db74d53ac14c4d2c10cbe15"
       ],
       "layout": "IPY_MODEL_9e876c53b4b44945a008c444f6cc57cc"
      }
     },
     "8c6cb018ac6f445c96bd1f22cb03ee49": {
      "model_module": "@jupyter-widgets/controls",
      "model_module_version": "1.5.0",
      "model_name": "LabelModel",
      "state": {
       "layout": "IPY_MODEL_fa52330e40324b16b16a4a474fecb30b",
       "style": "IPY_MODEL_e88ef3088e74493ca9b773c6dc7d2575",
       "value": "Participation: 100%"
      }
     },
     "8ca041e64b264c578cda285d0676303d": {
      "model_module": "@jupyter-widgets/controls",
      "model_module_version": "1.5.0",
      "model_name": "VBoxModel",
      "state": {
       "children": [
        "IPY_MODEL_d4a18be953064c2793086c7a3339baf3",
        "IPY_MODEL_54787e4ea8504996bcd901070ed813c5",
        "IPY_MODEL_e50efc5c241a4545b7553aad5f1e06a1",
        "IPY_MODEL_d35a497ea89843edb33c67a914953fa2",
        "IPY_MODEL_d16f65178fb74b39bc0a344a8bcd9433"
       ],
       "layout": "IPY_MODEL_249fcb057058403295bc750b212d12ff"
      }
     },
     "8dabedde3a0c4a19ad2623f83d516a19": {
      "model_module": "@jupyter-widgets/controls",
      "model_module_version": "1.5.0",
      "model_name": "VBoxModel",
      "state": {
       "layout": "IPY_MODEL_29108adf68e649eb9535c623bd1f0f8f"
      }
     },
     "8deda262b64748cdb1082c1dc185df00": {
      "model_module": "@jupyter-widgets/controls",
      "model_module_version": "1.5.0",
      "model_name": "HTMLModel",
      "state": {
       "layout": "IPY_MODEL_8bbc38ea0dd848529874b47fce4e79ec",
       "style": "IPY_MODEL_e8903f1b8af6454b9b6cb343f2354b03"
      }
     },
     "8e4146308e0344608f22cac01b062ea0": {
      "model_module": "@jupyter-widgets/controls",
      "model_module_version": "1.5.0",
      "model_name": "ButtonModel",
      "state": {
       "layout": "IPY_MODEL_17b4230c949846cb8534aa3a361309f1",
       "style": "IPY_MODEL_e97334d44f444d269acae3bbaeadd44a"
      }
     },
     "8ec30cd6e5da4b0a900d5501f46e3910": {
      "model_module": "@jupyter-widgets/controls",
      "model_module_version": "1.5.0",
      "model_name": "RadioButtonsModel",
      "state": {
       "index": null,
       "layout": "IPY_MODEL_954a5e61cca8416ba8740bfa4aa0a5a0",
       "style": "IPY_MODEL_c452bdacd63b4986b7777deafc0a0459"
      }
     },
     "8ed7a49c7923427689b58a0c952f4bf0": {
      "model_module": "@jupyter-widgets/controls",
      "model_module_version": "1.5.0",
      "model_name": "DescriptionStyleModel",
      "state": {
       "description_width": ""
      }
     },
     "91b54154b9d547718a805d023371579a": {
      "model_module": "@jupyter-widgets/base",
      "model_module_version": "1.2.0",
      "model_name": "LayoutModel",
      "state": {}
     },
     "93896fba63674bbd8ab8db460e8413f9": {
      "model_module": "@jupyter-widgets/controls",
      "model_module_version": "1.5.0",
      "model_name": "DescriptionStyleModel",
      "state": {
       "description_width": ""
      }
     },
     "9392ea4b56f0402988e47b08894d578f": {
      "model_module": "@jupyter-widgets/base",
      "model_module_version": "1.2.0",
      "model_name": "LayoutModel",
      "state": {}
     },
     "93d452d27cd046d2abe62386c501bd08": {
      "model_module": "@jupyter-widgets/controls",
      "model_module_version": "1.5.0",
      "model_name": "DescriptionStyleModel",
      "state": {
       "description_width": ""
      }
     },
     "93e0bd6ae4d64bcaa48d5796c2d41c90": {
      "model_module": "@jupyter-widgets/controls",
      "model_module_version": "1.5.0",
      "model_name": "DescriptionStyleModel",
      "state": {
       "description_width": ""
      }
     },
     "93f09ac1b1314b478d18f7be9236adc3": {
      "model_module": "@jupyter-widgets/controls",
      "model_module_version": "1.5.0",
      "model_name": "ButtonStyleModel",
      "state": {}
     },
     "94539c4159694559a4a03f9017e8b046": {
      "model_module": "@jupyter-widgets/controls",
      "model_module_version": "1.5.0",
      "model_name": "DescriptionStyleModel",
      "state": {
       "description_width": ""
      }
     },
     "948182a59f214bd78d1dd975e20103a7": {
      "model_module": "@jupyter-widgets/controls",
      "model_module_version": "1.5.0",
      "model_name": "DescriptionStyleModel",
      "state": {
       "description_width": ""
      }
     },
     "94a6f81d26da4bb9a23dbb5b65ef38da": {
      "model_module": "@jupyter-widgets/controls",
      "model_module_version": "1.5.0",
      "model_name": "ButtonStyleModel",
      "state": {}
     },
     "95359a3ea3cf485795e69b6111745ed4": {
      "model_module": "@jupyter-widgets/base",
      "model_module_version": "1.2.0",
      "model_name": "LayoutModel",
      "state": {}
     },
     "953b2866aadf47129d929147c1b479d7": {
      "model_module": "@jupyter-widgets/controls",
      "model_module_version": "1.5.0",
      "model_name": "HTMLModel",
      "state": {
       "layout": "IPY_MODEL_b41a74a1e14b4085aa5c537c48ef5913",
       "style": "IPY_MODEL_29875c37e6c64b87aec725a2005460dc",
       "value": "(1) The program has a total number of _____ instructions"
      }
     },
     "954a5e61cca8416ba8740bfa4aa0a5a0": {
      "model_module": "@jupyter-widgets/base",
      "model_module_version": "1.2.0",
      "model_name": "LayoutModel",
      "state": {}
     },
     "95bd922df7694b3595c658928c4232ce": {
      "model_module": "@jupyter-widgets/base",
      "model_module_version": "1.2.0",
      "model_name": "LayoutModel",
      "state": {}
     },
     "96996595b1cb47d79e65789b06f7bb41": {
      "model_module": "@jupyter-widgets/base",
      "model_module_version": "1.2.0",
      "model_name": "LayoutModel",
      "state": {}
     },
     "969a505af5864207a728d13fb4363975": {
      "model_module": "@jupyter-widgets/controls",
      "model_module_version": "1.5.0",
      "model_name": "ButtonStyleModel",
      "state": {}
     },
     "96c918a2dfb24f15ae2befc745e6ac64": {
      "model_module": "@jupyter-widgets/controls",
      "model_module_version": "1.5.0",
      "model_name": "DescriptionStyleModel",
      "state": {
       "description_width": ""
      }
     },
     "970607b5ffed46538b42162f25b451f7": {
      "model_module": "@jupyter-widgets/controls",
      "model_module_version": "1.5.0",
      "model_name": "ButtonModel",
      "state": {
       "button_style": "warning",
       "description": "Run Code",
       "icon": "check",
       "layout": "IPY_MODEL_34dfa106e6b344f4a82929b15d126ea2",
       "style": "IPY_MODEL_a1db4ec655314149a2a00fa3cdc9930a"
      }
     },
     "972d93e14eb2490ca48ed1c95f90f344": {
      "model_module": "@jupyter-widgets/controls",
      "model_module_version": "1.5.0",
      "model_name": "DescriptionStyleModel",
      "state": {
       "description_width": ""
      }
     },
     "9742bad3777e428da714d1cebaefc867": {
      "model_module": "@jupyter-widgets/base",
      "model_module_version": "1.2.0",
      "model_name": "LayoutModel",
      "state": {
       "border": "solid 2px",
       "padding": "1rem"
      }
     },
     "97965e377273467ab77221aa404d49f8": {
      "model_module": "@jupyter-widgets/base",
      "model_module_version": "1.2.0",
      "model_name": "LayoutModel",
      "state": {}
     },
     "983da04007fb46aab839bc04321970f8": {
      "model_module": "@jupyter-widgets/base",
      "model_module_version": "1.2.0",
      "model_name": "LayoutModel",
      "state": {
       "border": "ridge 2px",
       "padding": "1rem"
      }
     },
     "986fc5bb29f5402b9976fe381de3075f": {
      "model_module": "@jupyter-widgets/base",
      "model_module_version": "1.2.0",
      "model_name": "LayoutModel",
      "state": {}
     },
     "9a631b75399540978a563178fa5249b1": {
      "model_module": "@jupyter-widgets/controls",
      "model_module_version": "1.5.0",
      "model_name": "TextareaModel",
      "state": {
       "layout": "IPY_MODEL_eb33def34ff34f77b19c444a3ec6bfc9",
       "style": "IPY_MODEL_02788667ac164e0f8b1faa57efa158dc"
      }
     },
     "9abfc00eff6c43e882a74dd27eae1691": {
      "model_module": "@jupyter-widgets/controls",
      "model_module_version": "1.5.0",
      "model_name": "TextareaModel",
      "state": {
       "layout": "IPY_MODEL_ffa6cde85e4143b39c3528b4495be2a7",
       "placeholder": "",
       "style": "IPY_MODEL_6416e67664a8445584415412783f90ba"
      }
     },
     "9b3d9c22c0e24783bee58e300fc9a386": {
      "model_module": "@jupyter-widgets/base",
      "model_module_version": "1.2.0",
      "model_name": "LayoutModel",
      "state": {}
     },
     "9b46b9d5ddfa42b7b0b9c44e93ea3211": {
      "model_module": "@jupyter-widgets/controls",
      "model_module_version": "1.5.0",
      "model_name": "VBoxModel",
      "state": {
       "layout": "IPY_MODEL_000fb7eb26124e08b010cee184b8b3cf"
      }
     },
     "9c96a2c71acf43069546d6eece4b7dbf": {
      "model_module": "@jupyter-widgets/controls",
      "model_module_version": "1.5.0",
      "model_name": "DescriptionStyleModel",
      "state": {
       "description_width": ""
      }
     },
     "9d12d2793e9b4494af6857dc6a41dfef": {
      "model_module": "@jupyter-widgets/controls",
      "model_module_version": "1.5.0",
      "model_name": "VBoxModel",
      "state": {
       "layout": "IPY_MODEL_679e70926c2145d38d9261c9e146a8f6"
      }
     },
     "9d3c72f5652c46a0a30ab2a6f5ac9eb0": {
      "model_module": "@jupyter-widgets/controls",
      "model_module_version": "1.5.0",
      "model_name": "HTMLModel",
      "state": {
       "layout": "IPY_MODEL_b7db1433a7da42f285d2030e33548c2d",
       "style": "IPY_MODEL_43013da028fb4c8ab75252cbb89b89fb"
      }
     },
     "9d55c1841d7744e3beb64983ed969172": {
      "model_module": "@jupyter-widgets/base",
      "model_module_version": "1.2.0",
      "model_name": "LayoutModel",
      "state": {
       "border": "solid 2px",
       "padding": "1rem"
      }
     },
     "9db28a6f54e5426897c3e81c0b176612": {
      "model_module": "@jupyter-widgets/controls",
      "model_module_version": "1.5.0",
      "model_name": "LabelModel",
      "state": {
       "layout": "IPY_MODEL_95bd922df7694b3595c658928c4232ce",
       "style": "IPY_MODEL_93896fba63674bbd8ab8db460e8413f9",
       "value": "Input:"
      }
     },
     "9dca306b7fff45d985a6dc4814338b82": {
      "model_module": "@jupyter-widgets/controls",
      "model_module_version": "1.5.0",
      "model_name": "VBoxModel",
      "state": {
       "layout": "IPY_MODEL_9b3d9c22c0e24783bee58e300fc9a386"
      }
     },
     "9e876c53b4b44945a008c444f6cc57cc": {
      "model_module": "@jupyter-widgets/base",
      "model_module_version": "1.2.0",
      "model_name": "LayoutModel",
      "state": {
       "border": "solid 2px",
       "padding": "1rem"
      }
     },
     "9f4a85ea1eb64488b71f291db73fba9a": {
      "model_module": "@jupyter-widgets/base",
      "model_module_version": "1.2.0",
      "model_name": "LayoutModel",
      "state": {
       "width": "100%"
      }
     },
     "9f7e8f2da58c431180ec201a47e4f1be": {
      "model_module": "@jupyter-widgets/controls",
      "model_module_version": "1.5.0",
      "model_name": "HTMLModel",
      "state": {
       "layout": "IPY_MODEL_4c15c2b71a4249abab97adf286afd16f",
       "style": "IPY_MODEL_a295058c157e4390805d87050ee0d97a",
       "value": "<font color='green'> The program has 2 input instructions, 1 processing instruction, and 1 output instruction, totaling 4 instructions."
      }
     },
     "a007d4a9aff746c5b88858005a62d4ee": {
      "model_module": "@jupyter-widgets/base",
      "model_module_version": "1.2.0",
      "model_name": "LayoutModel",
      "state": {
       "border": "solid 2px",
       "padding": "1rem"
      }
     },
     "a0552e7a02434b7bbfc94693e1c9ef82": {
      "model_module": "@jupyter-widgets/base",
      "model_module_version": "1.2.0",
      "model_name": "LayoutModel",
      "state": {}
     },
     "a06b8e54da59480095e755e55b263784": {
      "model_module": "@jupyter-widgets/controls",
      "model_module_version": "1.5.0",
      "model_name": "HTMLModel",
      "state": {
       "layout": "IPY_MODEL_f7ac0b3b8a6f424a9f83f4e07a1f1adb",
       "style": "IPY_MODEL_1000719d5d8940a58f3bba895e111072"
      }
     },
     "a08fbfe416e449738df4e697507494e4": {
      "model_module": "@jupyter-widgets/controls",
      "model_module_version": "1.5.0",
      "model_name": "LabelModel",
      "state": {
       "layout": "IPY_MODEL_efe47f96dfbf42298fd841da6935dd32",
       "style": "IPY_MODEL_5b58cff518de4636a92fc26fdefe78f2",
       "value": "Output:"
      }
     },
     "a0acb96eeb2b4fe98b7e3e19f7eca3d7": {
      "model_module": "@jupyter-widgets/controls",
      "model_module_version": "1.5.0",
      "model_name": "DescriptionStyleModel",
      "state": {
       "description_width": ""
      }
     },
     "a19c7ec249074a8f95a1e4c174993ad1": {
      "model_module": "@jupyter-widgets/controls",
      "model_module_version": "1.5.0",
      "model_name": "ButtonModel",
      "state": {
       "button_style": "warning",
       "description": "Check",
       "icon": "check",
       "layout": "IPY_MODEL_b1b5d50308574d83961ca2d2919e0350",
       "style": "IPY_MODEL_26bb2c9c55954f0cb2a3b46523c1dd86"
      }
     },
     "a1db4ec655314149a2a00fa3cdc9930a": {
      "model_module": "@jupyter-widgets/controls",
      "model_module_version": "1.5.0",
      "model_name": "ButtonStyleModel",
      "state": {}
     },
     "a295058c157e4390805d87050ee0d97a": {
      "model_module": "@jupyter-widgets/controls",
      "model_module_version": "1.5.0",
      "model_name": "DescriptionStyleModel",
      "state": {
       "description_width": ""
      }
     },
     "a2b4966f8c0247e392f48bf1ea2aae8d": {
      "model_module": "@jupyter-widgets/controls",
      "model_module_version": "1.5.0",
      "model_name": "LabelModel",
      "state": {
       "layout": "IPY_MODEL_31c908579f2b4b6f9ac046e216a8e47f",
       "style": "IPY_MODEL_65f3fbf521884498a66985c990d3450c",
       "value": "Output:"
      }
     },
     "a2eea331aaac4b5f996d9cef5a05058b": {
      "model_module": "@jupyter-widgets/controls",
      "model_module_version": "1.5.0",
      "model_name": "CheckboxModel",
      "state": {
       "disabled": true,
       "layout": "IPY_MODEL_ff803803fb404097b3109723c8a0a159",
       "style": "IPY_MODEL_863cac85a6764620af191b1e85500ce7",
       "value": true
      }
     },
     "a54ae890842746ea953298f9d24fc3e5": {
      "model_module": "@jupyter-widgets/controls",
      "model_module_version": "1.5.0",
      "model_name": "VBoxModel",
      "state": {
       "layout": "IPY_MODEL_1150f243ba404eb589a1c102cc386d81"
      }
     },
     "a5d13a72a5414bc9969e3fa16b2bfc87": {
      "model_module": "@jupyter-widgets/controls",
      "model_module_version": "1.5.0",
      "model_name": "DescriptionStyleModel",
      "state": {
       "description_width": ""
      }
     },
     "a667e8294aab442f892fe4562fdf98b8": {
      "model_module": "@jupyter-widgets/controls",
      "model_module_version": "1.5.0",
      "model_name": "VBoxModel",
      "state": {
       "children": [
        "IPY_MODEL_23bac4f9108f4498b008c8aede3140f4",
        "IPY_MODEL_89d5cfaeccd84010a9c983645bafc227"
       ],
       "layout": "IPY_MODEL_c9f6800e1f7041dead4df3299a3dabd2"
      }
     },
     "a72d2c2798ef4b5d9ad0582e9fc78831": {
      "model_module": "@jupyter-widgets/controls",
      "model_module_version": "1.5.0",
      "model_name": "VBoxModel",
      "state": {
       "children": [
        "IPY_MODEL_4094ab0a73b34eb68e9a2433e2d2b063",
        "IPY_MODEL_8c6cb018ac6f445c96bd1f22cb03ee49"
       ],
       "layout": "IPY_MODEL_acd813362cd442748d52e863c6c893b7"
      }
     },
     "a7dee3cb995246078ca76b526fd33f1d": {
      "model_module": "@jupyter-widgets/base",
      "model_module_version": "1.2.0",
      "model_name": "LayoutModel",
      "state": {}
     },
     "a7f72a4fefd64a1692961fc12f28c839": {
      "model_module": "@jupyter-widgets/base",
      "model_module_version": "1.2.0",
      "model_name": "LayoutModel",
      "state": {}
     },
     "a8a96be2896a4f959111f058176e0459": {
      "model_module": "@jupyter-widgets/base",
      "model_module_version": "1.2.0",
      "model_name": "LayoutModel",
      "state": {
       "border": "solid 1px"
      }
     },
     "a8b413246211454483fbf752bacccca6": {
      "model_module": "@jupyter-widgets/controls",
      "model_module_version": "1.5.0",
      "model_name": "VBoxModel",
      "state": {
       "children": [
        "IPY_MODEL_ea7c7dd2073447bf952f7443b28b7ab5",
        "IPY_MODEL_253989aa20984d8390f7ac863a74f5d8",
        "IPY_MODEL_048d97403d7b4f4399425ca8e528900a",
        "IPY_MODEL_859a1017bd644855ac04ffde6d77fe5f"
       ],
       "layout": "IPY_MODEL_9742bad3777e428da714d1cebaefc867"
      }
     },
     "a9d52d06eaeb4924beee7759b3c10dc5": {
      "model_module": "@jupyter-widgets/base",
      "model_module_version": "1.2.0",
      "model_name": "LayoutModel",
      "state": {
       "border": "solid 2px",
       "padding": "1rem"
      }
     },
     "ab28db79a5704d23996b04fe9a843831": {
      "model_module": "@jupyter-widgets/controls",
      "model_module_version": "1.5.0",
      "model_name": "DescriptionStyleModel",
      "state": {
       "description_width": ""
      }
     },
     "acd813362cd442748d52e863c6c893b7": {
      "model_module": "@jupyter-widgets/base",
      "model_module_version": "1.2.0",
      "model_name": "LayoutModel",
      "state": {
       "border": "ridge 2px",
       "padding": "1rem"
      }
     },
     "acfff08d5bed43f5beb5410c765e28e8": {
      "model_module": "@jupyter-widgets/controls",
      "model_module_version": "1.5.0",
      "model_name": "DescriptionStyleModel",
      "state": {
       "description_width": ""
      }
     },
     "adc1aa7923df4e158f76145e02d69773": {
      "model_module": "@jupyter-widgets/base",
      "model_module_version": "1.2.0",
      "model_name": "LayoutModel",
      "state": {}
     },
     "ae39117e68514c0fbb6ce1b3d874fc24": {
      "model_module": "@jupyter-widgets/controls",
      "model_module_version": "1.5.0",
      "model_name": "ButtonStyleModel",
      "state": {}
     },
     "aefa8ffc31ba4a9b8dde4978460f162f": {
      "model_module": "@jupyter-widgets/controls",
      "model_module_version": "1.5.0",
      "model_name": "ButtonModel",
      "state": {
       "button_style": "warning",
       "description": "Run Code",
       "icon": "check",
       "layout": "IPY_MODEL_21b837e125494770a6cd8abdf3092c14",
       "style": "IPY_MODEL_b0c4f88462dc4348aefd14b4056fc52b"
      }
     },
     "aefdb60842f94d3f872df7e9ad348f33": {
      "model_module": "@jupyter-widgets/controls",
      "model_module_version": "1.5.0",
      "model_name": "DescriptionStyleModel",
      "state": {
       "description_width": ""
      }
     },
     "afb94166a88740cfbc42919d77666d84": {
      "model_module": "@jupyter-widgets/controls",
      "model_module_version": "1.5.0",
      "model_name": "TextareaModel",
      "state": {
       "layout": "IPY_MODEL_368d0bdf9477454c9c4cbee27aa13ccf",
       "placeholder": "",
       "style": "IPY_MODEL_2c2f8352b1c84ff89e8d6d76854c6b42",
       "value": "#include <stdio.h>\n\nint main(void) {\n printf(\"Hello world!\\n\");\n return 0;\n}"
      }
     },
     "afc94dfd4db347b993ced3a39ef4beac": {
      "model_module": "@jupyter-widgets/base",
      "model_module_version": "1.2.0",
      "model_name": "LayoutModel",
      "state": {
       "height": "100px",
       "width": "250px"
      }
     },
     "affb4d2830914ea8b9c2413bedf3625d": {
      "model_module": "@jupyter-widgets/controls",
      "model_module_version": "1.5.0",
      "model_name": "VBoxModel",
      "state": {
       "layout": "IPY_MODEL_5529dbddffd74f498aabc2943b25d11b"
      }
     },
     "b0c4f88462dc4348aefd14b4056fc52b": {
      "model_module": "@jupyter-widgets/controls",
      "model_module_version": "1.5.0",
      "model_name": "ButtonStyleModel",
      "state": {}
     },
     "b175737979994953a18e0ceb4a56d295": {
      "model_module": "@jupyter-widgets/controls",
      "model_module_version": "1.5.0",
      "model_name": "CheckboxModel",
      "state": {
       "disabled": true,
       "layout": "IPY_MODEL_bae9151436984f8e833f500f64c5350e",
       "style": "IPY_MODEL_a0acb96eeb2b4fe98b7e3e19f7eca3d7",
       "value": false
      }
     },
     "b1b5d50308574d83961ca2d2919e0350": {
      "model_module": "@jupyter-widgets/base",
      "model_module_version": "1.2.0",
      "model_name": "LayoutModel",
      "state": {
       "width": "90px"
      }
     },
     "b1c1b7fce9ca4192b20da95bd48f4dfb": {
      "model_module": "@jupyter-widgets/controls",
      "model_module_version": "1.5.0",
      "model_name": "RadioButtonsModel",
      "state": {
       "_options_labels": [
        "Multiply x by 2",
        "Add 2 to x",
        "Multiply x by 1/2"
       ],
       "index": 0,
       "layout": "IPY_MODEL_0b5a2d8f99e14be9a61b731a4f7d323d",
       "style": "IPY_MODEL_3db2ff0a369e42dbb7a377bc05dbeb69"
      }
     },
     "b201f680bd1841d987982f935a1d724c": {
      "model_module": "@jupyter-widgets/controls",
      "model_module_version": "1.5.0",
      "model_name": "ButtonStyleModel",
      "state": {}
     },
     "b23985ecacab4db1939bad00696d92c1": {
      "model_module": "@jupyter-widgets/base",
      "model_module_version": "1.2.0",
      "model_name": "LayoutModel",
      "state": {}
     },
     "b41a74a1e14b4085aa5c537c48ef5913": {
      "model_module": "@jupyter-widgets/base",
      "model_module_version": "1.2.0",
      "model_name": "LayoutModel",
      "state": {}
     },
     "b450de43ae2c4e5d9d1e54728cf55658": {
      "model_module": "@jupyter-widgets/base",
      "model_module_version": "1.2.0",
      "model_name": "LayoutModel",
      "state": {
       "height": "100px",
       "width": "99%"
      }
     },
     "b526776cd70a4326b178dfbf322c5e6e": {
      "model_module": "@jupyter-widgets/controls",
      "model_module_version": "1.5.0",
      "model_name": "LabelModel",
      "state": {
       "layout": "IPY_MODEL_fa7e07f2a3a84592a54557aae01b8057",
       "style": "IPY_MODEL_e2e16f1536dd4892a30d4a6e968ac0a0",
       "value": "Output: "
      }
     },
     "b5e91b4c98cb4bd8abe1be2d20f8ce60": {
      "model_module": "@jupyter-widgets/controls",
      "model_module_version": "1.5.0",
      "model_name": "CheckboxModel",
      "state": {
       "disabled": true,
       "layout": "IPY_MODEL_c63c7bf6fc3b484f8e8126606b2c16cc",
       "style": "IPY_MODEL_948182a59f214bd78d1dd975e20103a7",
       "value": false
      }
     },
     "b6a94ac629224d2c92929b60278951a8": {
      "model_module": "@jupyter-widgets/controls",
      "model_module_version": "1.5.0",
      "model_name": "DescriptionStyleModel",
      "state": {
       "description_width": ""
      }
     },
     "b6d4b141ecfb44849e400272d192a0c1": {
      "model_module": "@jupyter-widgets/controls",
      "model_module_version": "1.5.0",
      "model_name": "ButtonStyleModel",
      "state": {}
     },
     "b7c6e22d9d134974a62a103e2ddadeba": {
      "model_module": "@jupyter-widgets/controls",
      "model_module_version": "1.5.0",
      "model_name": "TextareaModel",
      "state": {
       "layout": "IPY_MODEL_f9a7599c473740eb9cdb876436fe86f6",
       "style": "IPY_MODEL_14ff82ce76a04f0c889919f5e4ed31e9"
      }
     },
     "b7db1433a7da42f285d2030e33548c2d": {
      "model_module": "@jupyter-widgets/base",
      "model_module_version": "1.2.0",
      "model_name": "LayoutModel",
      "state": {}
     },
     "b8f32c569c1144d4b2993b5656e772e8": {
      "model_module": "@jupyter-widgets/controls",
      "model_module_version": "1.5.0",
      "model_name": "DescriptionStyleModel",
      "state": {
       "description_width": ""
      }
     },
     "b98d51980a684af9910fe502e888b00d": {
      "model_module": "@jupyter-widgets/controls",
      "model_module_version": "1.5.0",
      "model_name": "DescriptionStyleModel",
      "state": {
       "description_width": ""
      }
     },
     "b9d3b43fdc64412bae77afd597b4a152": {
      "model_module": "@jupyter-widgets/controls",
      "model_module_version": "1.5.0",
      "model_name": "DescriptionStyleModel",
      "state": {
       "description_width": ""
      }
     },
     "bad32bfa4e844032b69df50bf3985d83": {
      "model_module": "@jupyter-widgets/base",
      "model_module_version": "1.2.0",
      "model_name": "LayoutModel",
      "state": {}
     },
     "bad5220f3ca940a0b5e2c36c80f48b07": {
      "model_module": "@jupyter-widgets/base",
      "model_module_version": "1.2.0",
      "model_name": "LayoutModel",
      "state": {
       "border": "solid 2px",
       "padding": "1rem"
      }
     },
     "badb762dc6e542c7b6370d244a3cd6e4": {
      "model_module": "@jupyter-widgets/controls",
      "model_module_version": "1.5.0",
      "model_name": "DescriptionStyleModel",
      "state": {
       "description_width": ""
      }
     },
     "bae9151436984f8e833f500f64c5350e": {
      "model_module": "@jupyter-widgets/base",
      "model_module_version": "1.2.0",
      "model_name": "LayoutModel",
      "state": {}
     },
     "bb76325e315d40d2876e5275e5eaf1b0": {
      "model_module": "@jupyter-widgets/base",
      "model_module_version": "1.2.0",
      "model_name": "LayoutModel",
      "state": {}
     },
     "bcedf192e2a342bc8b5eb5dacccb0d12": {
      "model_module": "@jupyter-widgets/base",
      "model_module_version": "1.2.0",
      "model_name": "LayoutModel",
      "state": {}
     },
     "bdbc31319da2431baf5e49fb53373261": {
      "model_module": "@jupyter-widgets/controls",
      "model_module_version": "1.5.0",
      "model_name": "DescriptionStyleModel",
      "state": {
       "description_width": ""
      }
     },
     "be6cc9b644464233a82997d88044343c": {
      "model_module": "@jupyter-widgets/controls",
      "model_module_version": "1.5.0",
      "model_name": "VBoxModel",
      "state": {
       "layout": "IPY_MODEL_0ba01cde29914a90b64c6e4fe0542e92"
      }
     },
     "be6e6d2916f342d099261429c6087a7d": {
      "model_module": "@jupyter-widgets/base",
      "model_module_version": "1.2.0",
      "model_name": "LayoutModel",
      "state": {}
     },
     "be76d57ca7b846509d338b47bb82c04e": {
      "model_module": "@jupyter-widgets/controls",
      "model_module_version": "1.5.0",
      "model_name": "TextModel",
      "state": {
       "layout": "IPY_MODEL_f366efa2a5514b24aba7fb6482e6cee7",
       "style": "IPY_MODEL_94539c4159694559a4a03f9017e8b046"
      }
     },
     "bea3369c64734401a58adbedf8d66a4c": {
      "model_module": "@jupyter-widgets/base",
      "model_module_version": "1.2.0",
      "model_name": "LayoutModel",
      "state": {
       "border": "solid 2px",
       "padding": "1rem"
      }
     },
     "bfa3babb840b481aa6b00bff23af9331": {
      "model_module": "@jupyter-widgets/controls",
      "model_module_version": "1.5.0",
      "model_name": "TextareaModel",
      "state": {
       "layout": "IPY_MODEL_8498169932194328b1621f7f2e418cf7",
       "style": "IPY_MODEL_de7a2e6c014244b2ba1d9bd9951a51c3"
      }
     },
     "bfe39f38452a42ef8d75e51d07cf9046": {
      "model_module": "@jupyter-widgets/controls",
      "model_module_version": "1.5.0",
      "model_name": "LabelModel",
      "state": {
       "layout": "IPY_MODEL_97965e377273467ab77221aa404d49f8",
       "style": "IPY_MODEL_badb762dc6e542c7b6370d244a3cd6e4",
       "value": "Participation: 0%"
      }
     },
     "bff28cb096164f8a8699b52256c06b27": {
      "model_module": "@jupyter-widgets/controls",
      "model_module_version": "1.5.0",
      "model_name": "ButtonModel",
      "state": {
       "button_style": "warning",
       "description": "Run Code",
       "icon": "check",
       "layout": "IPY_MODEL_e54c841a3e284fa5bfe8aa8dfd49312c",
       "style": "IPY_MODEL_2038d813241148aa9b0140f27ccef687"
      }
     },
     "c00165e3a3b74e3182f3e5270f7fbd8a": {
      "model_module": "@jupyter-widgets/base",
      "model_module_version": "1.2.0",
      "model_name": "LayoutModel",
      "state": {}
     },
     "c031a2fa961d4a97a1e618f56ea2c535": {
      "model_module": "@jupyter-widgets/controls",
      "model_module_version": "1.5.0",
      "model_name": "TextareaModel",
      "state": {
       "layout": "IPY_MODEL_478c0bb754204930afcbcdefde49ee6f",
       "placeholder": "",
       "style": "IPY_MODEL_469c039c2b8e428cbda88c98ccc12d57"
      }
     },
     "c0bc4e6ec67f4200aa6bcb8c1b83af70": {
      "model_module": "@jupyter-widgets/base",
      "model_module_version": "1.2.0",
      "model_name": "LayoutModel",
      "state": {}
     },
     "c0ea609ec9d74f8b9a90aceb3b18035e": {
      "model_module": "@jupyter-widgets/base",
      "model_module_version": "1.2.0",
      "model_name": "LayoutModel",
      "state": {
       "border": "solid 1px"
      }
     },
     "c17e3ba440a148d7b7738d8b86026e55": {
      "model_module": "@jupyter-widgets/controls",
      "model_module_version": "1.5.0",
      "model_name": "DescriptionStyleModel",
      "state": {
       "description_width": ""
      }
     },
     "c1b1b1b96f954e388ba47c31b5196dd8": {
      "model_module": "@jupyter-widgets/controls",
      "model_module_version": "1.5.0",
      "model_name": "ButtonStyleModel",
      "state": {}
     },
     "c220916695554763998f7bca5ee88c57": {
      "model_module": "@jupyter-widgets/base",
      "model_module_version": "1.2.0",
      "model_name": "LayoutModel",
      "state": {}
     },
     "c2acb248f43f49818ae5809b5aa05450": {
      "model_module": "@jupyter-widgets/base",
      "model_module_version": "1.2.0",
      "model_name": "LayoutModel",
      "state": {
       "border": "solid 2px",
       "padding": "1rem"
      }
     },
     "c3f4c90dc7754bfab5a3a5af0a51c521": {
      "model_module": "@jupyter-widgets/base",
      "model_module_version": "1.2.0",
      "model_name": "LayoutModel",
      "state": {}
     },
     "c452bdacd63b4986b7777deafc0a0459": {
      "model_module": "@jupyter-widgets/controls",
      "model_module_version": "1.5.0",
      "model_name": "DescriptionStyleModel",
      "state": {
       "description_width": ""
      }
     },
     "c548898e9433420f9ef345c346f88306": {
      "model_module": "@jupyter-widgets/controls",
      "model_module_version": "1.5.0",
      "model_name": "ButtonModel",
      "state": {
       "button_style": "success",
       "description": "Correct",
       "icon": "check",
       "layout": "IPY_MODEL_2530014a994b4338b3182fca6177c4d5",
       "style": "IPY_MODEL_ca7a7bae5df8493fa3cab0eb78be79f9"
      }
     },
     "c5c356a60e204cc39eba77fc73cce841": {
      "model_module": "@jupyter-widgets/controls",
      "model_module_version": "1.5.0",
      "model_name": "VBoxModel",
      "state": {
       "children": [
        "IPY_MODEL_64504ec1beba4e51aa74673d823b5ed8",
        "IPY_MODEL_3e324321a7d444bb974daa11e4d09938",
        "IPY_MODEL_c548898e9433420f9ef345c346f88306",
        "IPY_MODEL_d97a38914832404298ed971518436bd1"
       ],
       "layout": "IPY_MODEL_19d0143fd5364f50bae755d72cbc3a99"
      }
     },
     "c63c7bf6fc3b484f8e8126606b2c16cc": {
      "model_module": "@jupyter-widgets/base",
      "model_module_version": "1.2.0",
      "model_name": "LayoutModel",
      "state": {}
     },
     "c6ad3fdaedbf454998c4dcb43014414a": {
      "model_module": "@jupyter-widgets/base",
      "model_module_version": "1.2.0",
      "model_name": "LayoutModel",
      "state": {}
     },
     "c6c756681a464cf6bc9d55d9677adf3e": {
      "model_module": "@jupyter-widgets/controls",
      "model_module_version": "1.5.0",
      "model_name": "TextareaModel",
      "state": {
       "layout": "IPY_MODEL_e76f29f268ab484ca7c1e621ce1f11fd",
       "style": "IPY_MODEL_4d942a22734348afb0df8763f2b9980f"
      }
     },
     "c7dac8f7f88e4c8a9b4014cd0eed4961": {
      "model_module": "@jupyter-widgets/base",
      "model_module_version": "1.2.0",
      "model_name": "LayoutModel",
      "state": {}
     },
     "c8cd9f7343ad4c2d82d3131d53d54f94": {
      "model_module": "@jupyter-widgets/controls",
      "model_module_version": "1.5.0",
      "model_name": "VBoxModel",
      "state": {
       "layout": "IPY_MODEL_07e3fd8c1326420589b67781223dee19"
      }
     },
     "c9d22fb042b34f93a424afe487e3cad2": {
      "model_module": "@jupyter-widgets/controls",
      "model_module_version": "1.5.0",
      "model_name": "HTMLModel",
      "state": {
       "layout": "IPY_MODEL_282680b31da2470e86f49f0babfe86b3",
       "style": "IPY_MODEL_82505b05ceb445f8b55a7c5263f7f61b"
      }
     },
     "c9f6800e1f7041dead4df3299a3dabd2": {
      "model_module": "@jupyter-widgets/base",
      "model_module_version": "1.2.0",
      "model_name": "LayoutModel",
      "state": {}
     },
     "ca11abfa01f94573aaab22936dda4af0": {
      "model_module": "@jupyter-widgets/controls",
      "model_module_version": "1.5.0",
      "model_name": "DescriptionStyleModel",
      "state": {
       "description_width": ""
      }
     },
     "ca3bce841a6641bea5280acff4671ed2": {
      "model_module": "@jupyter-widgets/base",
      "model_module_version": "1.2.0",
      "model_name": "LayoutModel",
      "state": {}
     },
     "ca7a7bae5df8493fa3cab0eb78be79f9": {
      "model_module": "@jupyter-widgets/controls",
      "model_module_version": "1.5.0",
      "model_name": "ButtonStyleModel",
      "state": {}
     },
     "ca88f096b67f4b3491314daa9732b5f5": {
      "model_module": "@jupyter-widgets/base",
      "model_module_version": "1.2.0",
      "model_name": "LayoutModel",
      "state": {
       "height": "100px",
       "width": "250px"
      }
     },
     "cbd5b5ce32dc46d99166cbaa6e2a9c1c": {
      "model_module": "@jupyter-widgets/base",
      "model_module_version": "1.2.0",
      "model_name": "LayoutModel",
      "state": {
       "width": "90px"
      }
     },
     "cc69a0d5ed6e41d6a2d7e52611c5a8e1": {
      "model_module": "@jupyter-widgets/base",
      "model_module_version": "1.2.0",
      "model_name": "LayoutModel",
      "state": {}
     },
     "cc7133f9b202412eae3c9e5e0798692d": {
      "model_module": "@jupyter-widgets/controls",
      "model_module_version": "1.5.0",
      "model_name": "ButtonStyleModel",
      "state": {}
     },
     "ccbb62ee7a684f94bc64495d03b3bdae": {
      "model_module": "@jupyter-widgets/base",
      "model_module_version": "1.2.0",
      "model_name": "LayoutModel",
      "state": {
       "width": "90px"
      }
     },
     "ccffc9d6e95d4dceb24618f4508351ff": {
      "model_module": "@jupyter-widgets/controls",
      "model_module_version": "1.5.0",
      "model_name": "DescriptionStyleModel",
      "state": {
       "description_width": ""
      }
     },
     "cd10eb756c6b49b4beba00773b158c08": {
      "model_module": "@jupyter-widgets/base",
      "model_module_version": "1.2.0",
      "model_name": "LayoutModel",
      "state": {
       "border": "solid 2px",
       "padding": "1rem"
      }
     },
     "cebef707c2d54c4a9d7485caceb208d3": {
      "model_module": "@jupyter-widgets/base",
      "model_module_version": "1.2.0",
      "model_name": "LayoutModel",
      "state": {}
     },
     "cf0724fedd264f1a80b305c767d0b531": {
      "model_module": "@jupyter-widgets/base",
      "model_module_version": "1.2.0",
      "model_name": "LayoutModel",
      "state": {}
     },
     "cf6a661bb797419aba09ed002f7d6967": {
      "model_module": "@jupyter-widgets/base",
      "model_module_version": "1.2.0",
      "model_name": "LayoutModel",
      "state": {}
     },
     "cfc4c86c74c74bb79180615959e9ca54": {
      "model_module": "@jupyter-widgets/controls",
      "model_module_version": "1.5.0",
      "model_name": "RadioButtonsModel",
      "state": {
       "index": null,
       "layout": "IPY_MODEL_c220916695554763998f7bca5ee88c57",
       "style": "IPY_MODEL_efe61795fc824e08bfb329542b5309ce"
      }
     },
     "cfe6ca08b6484fc5bbddbe7eb3f95342": {
      "model_module": "@jupyter-widgets/controls",
      "model_module_version": "1.5.0",
      "model_name": "TextareaModel",
      "state": {
       "layout": "IPY_MODEL_ee83acc9ba6e4b2c9c9efecb543dbeb6",
       "placeholder": "",
       "style": "IPY_MODEL_0f473d6e6ef9485b85225b47d95ad4e0",
       "value": "#include <stdio.h>\n\nint main(void) {\n int a;\n scanf(\"%d\", &a);\n printf(\"%d\\n\", a);\n return 0;\n}"
      }
     },
     "d0507df94c114d15a6411119b6cac350": {
      "model_module": "@jupyter-widgets/base",
      "model_module_version": "1.2.0",
      "model_name": "LayoutModel",
      "state": {}
     },
     "d1502bce5cc04e9296afcfc294fc781b": {
      "model_module": "@jupyter-widgets/base",
      "model_module_version": "1.2.0",
      "model_name": "LayoutModel",
      "state": {}
     },
     "d154cece24e1419ebcaf11c8f97a6aa7": {
      "model_module": "@jupyter-widgets/controls",
      "model_module_version": "1.5.0",
      "model_name": "VBoxModel",
      "state": {
       "children": [
        "IPY_MODEL_5cfc329c67c242d7a4c09cc51cb6cb95",
        "IPY_MODEL_d9a3876d233f4c658e7cd5f87c85d27a",
        "IPY_MODEL_e756e2be1c0c4fe2933e60ed1406bd28",
        "IPY_MODEL_d775292b7fb44f208914825949cdb408"
       ],
       "layout": "IPY_MODEL_9d55c1841d7744e3beb64983ed969172"
      }
     },
     "d16f65178fb74b39bc0a344a8bcd9433": {
      "model_module": "@jupyter-widgets/controls",
      "model_module_version": "1.5.0",
      "model_name": "ButtonModel",
      "state": {
       "button_style": "warning",
       "description": "Run Code",
       "icon": "check",
       "layout": "IPY_MODEL_a7dee3cb995246078ca76b526fd33f1d",
       "style": "IPY_MODEL_ae39117e68514c0fbb6ce1b3d874fc24"
      }
     },
     "d22ef85b399d4ce4bb4e4bddd181c20c": {
      "model_module": "@jupyter-widgets/controls",
      "model_module_version": "1.5.0",
      "model_name": "DescriptionStyleModel",
      "state": {
       "description_width": ""
      }
     },
     "d2416e58caea4fec9b67d1694eb8de2a": {
      "model_module": "@jupyter-widgets/controls",
      "model_module_version": "1.5.0",
      "model_name": "DescriptionStyleModel",
      "state": {
       "description_width": ""
      }
     },
     "d2b84f63452d43c08cd770e2db1a9de3": {
      "model_module": "@jupyter-widgets/controls",
      "model_module_version": "1.5.0",
      "model_name": "HTMLModel",
      "state": {
       "layout": "IPY_MODEL_027c6789392f44d5a7e127f885b5ad65",
       "style": "IPY_MODEL_3b0edd59426644e9b3a2f5d9bf6a4000",
       "value": "(3) Which instruction completes the program to compute a triangle's area?<br>base = Get next input<br>height = Get next input<br>Assign x with base * height<br>_____<br>Put x to output<br>"
      }
     },
     "d35a497ea89843edb33c67a914953fa2": {
      "model_module": "@jupyter-widgets/controls",
      "model_module_version": "1.5.0",
      "model_name": "TextareaModel",
      "state": {
       "disabled": true,
       "layout": "IPY_MODEL_b450de43ae2c4e5d9d1e54728cf55658",
       "placeholder": "",
       "style": "IPY_MODEL_7b19724bfdf841a992379372e8bafec1"
      }
     },
     "d4315f27939d494aa7a1b3a88505f45b": {
      "model_module": "@jupyter-widgets/base",
      "model_module_version": "1.2.0",
      "model_name": "LayoutModel",
      "state": {}
     },
     "d45bfa56c92f4132add6f92e41d6c741": {
      "model_module": "@jupyter-widgets/base",
      "model_module_version": "1.2.0",
      "model_name": "LayoutModel",
      "state": {}
     },
     "d4a18be953064c2793086c7a3339baf3": {
      "model_module": "@jupyter-widgets/controls",
      "model_module_version": "1.5.0",
      "model_name": "LabelModel",
      "state": {
       "layout": "IPY_MODEL_4b8da66c52d74ea8ae7b6e6de3511162",
       "style": "IPY_MODEL_071144ff2bc24c21a10e263a0186ee4f",
       "value": "Write your own code:"
      }
     },
     "d6983c73ce1541c18f1071e434f333b9": {
      "model_module": "@jupyter-widgets/controls",
      "model_module_version": "1.5.0",
      "model_name": "ButtonStyleModel",
      "state": {}
     },
     "d6db6fbad66446e8806e0188665c7833": {
      "model_module": "@jupyter-widgets/controls",
      "model_module_version": "1.5.0",
      "model_name": "ToggleButtonModel",
      "state": {
       "description": "Show code",
       "layout": "IPY_MODEL_bad32bfa4e844032b69df50bf3985d83",
       "style": "IPY_MODEL_b8f32c569c1144d4b2993b5656e772e8"
      }
     },
     "d766b53dd82444368ed2083554f2f454": {
      "model_module": "@jupyter-widgets/controls",
      "model_module_version": "1.5.0",
      "model_name": "HTMLModel",
      "state": {
       "layout": "IPY_MODEL_dc5f01ba28d54a0292dc5a19e95200f4",
       "style": "IPY_MODEL_ca11abfa01f94573aaab22936dda4af0"
      }
     },
     "d775292b7fb44f208914825949cdb408": {
      "model_module": "@jupyter-widgets/controls",
      "model_module_version": "1.5.0",
      "model_name": "HTMLModel",
      "state": {
       "layout": "IPY_MODEL_7f11014770184111a4fab4ddba3c89c0",
       "style": "IPY_MODEL_205622c54573452e83436b1de6ed503f"
      }
     },
     "d97a38914832404298ed971518436bd1": {
      "model_module": "@jupyter-widgets/controls",
      "model_module_version": "1.5.0",
      "model_name": "HTMLModel",
      "state": {
       "layout": "IPY_MODEL_6905e1d508e84e2fbafb26f06989016c",
       "style": "IPY_MODEL_7ff41129346a44dd9aca2101b0e6e199",
       "value": "<font color='green'> z = x + y assigned z with 2 + 5, or 7. Then, adding 1 more to z makes z become 8. Programs often have numerous such processing instructions."
      }
     },
     "d9a3876d233f4c658e7cd5f87c85d27a": {
      "model_module": "@jupyter-widgets/controls",
      "model_module_version": "1.5.0",
      "model_name": "TextModel",
      "state": {
       "layout": "IPY_MODEL_f41919ac107c4318a6e2ba0804e8ba32",
       "style": "IPY_MODEL_a5d13a72a5414bc9969e3fa16b2bfc87"
      }
     },
     "da62245d5b1546f9a720f81811b07a7e": {
      "model_module": "@jupyter-widgets/base",
      "model_module_version": "1.2.0",
      "model_name": "LayoutModel",
      "state": {
       "width": "90px"
      }
     },
     "db6325ec4c1a41d097e38e8dcb9cb3b3": {
      "model_module": "@jupyter-widgets/controls",
      "model_module_version": "1.5.0",
      "model_name": "DescriptionStyleModel",
      "state": {
       "description_width": ""
      }
     },
     "dc5f01ba28d54a0292dc5a19e95200f4": {
      "model_module": "@jupyter-widgets/base",
      "model_module_version": "1.2.0",
      "model_name": "LayoutModel",
      "state": {}
     },
     "dc6b52835e5046c1af6c881c67cc9570": {
      "model_module": "@jupyter-widgets/base",
      "model_module_version": "1.2.0",
      "model_name": "LayoutModel",
      "state": {}
     },
     "dd760a25f664404fa25f61f515e465ca": {
      "model_module": "@jupyter-widgets/controls",
      "model_module_version": "1.5.0",
      "model_name": "HTMLModel",
      "state": {
       "layout": "IPY_MODEL_6556a0e445004c8d8d4a9db486e37e77",
       "style": "IPY_MODEL_6d535f79c93c438091a04757b4bab9dd",
       "value": "(3) Which instruction completes the program to compute a triangle's area?<br>base = Get next input<br>height = Get next input<br>Assign x with base * height<br>_____<br>Put x to output<br>"
      }
     },
     "de7a2e6c014244b2ba1d9bd9951a51c3": {
      "model_module": "@jupyter-widgets/controls",
      "model_module_version": "1.5.0",
      "model_name": "DescriptionStyleModel",
      "state": {
       "description_width": ""
      }
     },
     "deabae9645c34dc1b764bbb4544b7faa": {
      "model_module": "@jupyter-widgets/controls",
      "model_module_version": "1.5.0",
      "model_name": "DescriptionStyleModel",
      "state": {
       "description_width": ""
      }
     },
     "decc3096ac5048279dd719f3e16b37de": {
      "model_module": "@jupyter-widgets/controls",
      "model_module_version": "1.5.0",
      "model_name": "DescriptionStyleModel",
      "state": {
       "description_width": ""
      }
     },
     "dfbfbaffe0d54156b5d8f20e4f721527": {
      "model_module": "@jupyter-widgets/controls",
      "model_module_version": "1.5.0",
      "model_name": "HBoxModel",
      "state": {
       "children": [
        "IPY_MODEL_b175737979994953a18e0ceb4a56d295",
        "IPY_MODEL_b5e91b4c98cb4bd8abe1be2d20f8ce60",
        "IPY_MODEL_67118584989d435da5cfd186b9520efc"
       ],
       "layout": "IPY_MODEL_00b6641a59a1460a970830673f641e8e"
      }
     },
     "dfec9c06b1c0436b92b23162a37feb09": {
      "model_module": "@jupyter-widgets/controls",
      "model_module_version": "1.5.0",
      "model_name": "VBoxModel",
      "state": {
       "children": [
        "IPY_MODEL_52c3d844b2f54817bc0dae152a6cafba",
        "IPY_MODEL_86b8bab4b24245b0bb9684468edd6c47",
        "IPY_MODEL_a08fbfe416e449738df4e697507494e4",
        "IPY_MODEL_e924680da50e407fb2c9784380554958",
        "IPY_MODEL_bff28cb096164f8a8699b52256c06b27"
       ],
       "layout": "IPY_MODEL_a9d52d06eaeb4924beee7759b3c10dc5"
      }
     },
     "e12c22b487404ffcacd0b2cb5b6bf27b": {
      "model_module": "@jupyter-widgets/controls",
      "model_module_version": "1.5.0",
      "model_name": "VBoxModel",
      "state": {
       "children": [
        "IPY_MODEL_9db28a6f54e5426897c3e81c0b176612",
        "IPY_MODEL_c031a2fa961d4a97a1e618f56ea2c535"
       ],
       "layout": "IPY_MODEL_4a570eb8d7d9405681b731abc667190a"
      }
     },
     "e1450845e91b42028a9a2771e65e4273": {
      "model_module": "@jupyter-widgets/controls",
      "model_module_version": "1.5.0",
      "model_name": "DescriptionStyleModel",
      "state": {
       "description_width": ""
      }
     },
     "e23d7e11516142c7af90a6a8d66a1dcf": {
      "model_module": "@jupyter-widgets/controls",
      "model_module_version": "1.5.0",
      "model_name": "TextModel",
      "state": {
       "layout": "IPY_MODEL_d1502bce5cc04e9296afcfc294fc781b",
       "style": "IPY_MODEL_03505db479f24735b5f38e85ddcb6d87",
       "value": "4"
      }
     },
     "e2e16f1536dd4892a30d4a6e968ac0a0": {
      "model_module": "@jupyter-widgets/controls",
      "model_module_version": "1.5.0",
      "model_name": "DescriptionStyleModel",
      "state": {
       "description_width": ""
      }
     },
     "e2e8874de8eb469788662f260928adff": {
      "model_module": "@jupyter-widgets/controls",
      "model_module_version": "1.5.0",
      "model_name": "ButtonStyleModel",
      "state": {}
     },
     "e2ef0e3108254ad796cea3535b396efe": {
      "model_module": "@jupyter-widgets/controls",
      "model_module_version": "1.5.0",
      "model_name": "VBoxModel",
      "state": {
       "children": [
        "IPY_MODEL_dd760a25f664404fa25f61f515e465ca",
        "IPY_MODEL_6b12f3d0a07c4e16822f915db0d81c86",
        "IPY_MODEL_0cc1d6f2fcbe4d82a6f78b8e703c6a4c",
        "IPY_MODEL_5fb0a68945c34d1c8f43b6b47610d75c"
       ],
       "layout": "IPY_MODEL_a007d4a9aff746c5b88858005a62d4ee"
      }
     },
     "e380f29ef50a462ba67fe242f06ae2a3": {
      "model_module": "@jupyter-widgets/controls",
      "model_module_version": "1.5.0",
      "model_name": "HTMLModel",
      "state": {
       "layout": "IPY_MODEL_69519dd984de4c1caae8c30db5a10273",
       "style": "IPY_MODEL_26c52d39998b42f5a4011ff8bdab6662"
      }
     },
     "e3d99f8ef0e74aeb9f018dcce2b565a8": {
      "model_module": "@jupyter-widgets/controls",
      "model_module_version": "1.5.0",
      "model_name": "ButtonStyleModel",
      "state": {}
     },
     "e4a2f2e7927e4250a8e66060c27a8434": {
      "model_module": "@jupyter-widgets/controls",
      "model_module_version": "1.5.0",
      "model_name": "HTMLModel",
      "state": {
       "layout": "IPY_MODEL_c7dac8f7f88e4c8a9b4014cd0eed4961",
       "style": "IPY_MODEL_42f685999a3a4c91b47e00e028381ee3",
       "value": "(3) Which instruction completes the program to compute a triangle's area?<br>base = Get next input<br>height = Get next input<br>Assign x with base * height<br>_____<br>Put x to output<br>"
      }
     },
     "e50efc5c241a4545b7553aad5f1e06a1": {
      "model_module": "@jupyter-widgets/controls",
      "model_module_version": "1.5.0",
      "model_name": "LabelModel",
      "state": {
       "layout": "IPY_MODEL_b23985ecacab4db1939bad00696d92c1",
       "style": "IPY_MODEL_7b8ae1b6d0c44af989747968fe6982b7",
       "value": "Output:"
      }
     },
     "e53c2ab2567445b0af17580cccc86962": {
      "model_module": "@jupyter-widgets/base",
      "model_module_version": "1.2.0",
      "model_name": "LayoutModel",
      "state": {
       "height": "200px",
       "width": "99%"
      }
     },
     "e54c841a3e284fa5bfe8aa8dfd49312c": {
      "model_module": "@jupyter-widgets/base",
      "model_module_version": "1.2.0",
      "model_name": "LayoutModel",
      "state": {}
     },
     "e5f7c1dcd698486ca01e8cfa8d330fa8": {
      "model_module": "@jupyter-widgets/controls",
      "model_module_version": "1.5.0",
      "model_name": "CheckboxModel",
      "state": {
       "disabled": true,
       "layout": "IPY_MODEL_d0507df94c114d15a6411119b6cac350",
       "style": "IPY_MODEL_aefdb60842f94d3f872df7e9ad348f33",
       "value": true
      }
     },
     "e756e2be1c0c4fe2933e60ed1406bd28": {
      "model_module": "@jupyter-widgets/controls",
      "model_module_version": "1.5.0",
      "model_name": "ButtonModel",
      "state": {
       "button_style": "warning",
       "description": "Check",
       "icon": "check",
       "layout": "IPY_MODEL_da62245d5b1546f9a720f81811b07a7e",
       "style": "IPY_MODEL_b201f680bd1841d987982f935a1d724c"
      }
     },
     "e76f29f268ab484ca7c1e621ce1f11fd": {
      "model_module": "@jupyter-widgets/base",
      "model_module_version": "1.2.0",
      "model_name": "LayoutModel",
      "state": {}
     },
     "e84dacdd895e45c99e6dd1ecd346b4e4": {
      "model_module": "@jupyter-widgets/base",
      "model_module_version": "1.2.0",
      "model_name": "LayoutModel",
      "state": {}
     },
     "e88ef3088e74493ca9b773c6dc7d2575": {
      "model_module": "@jupyter-widgets/controls",
      "model_module_version": "1.5.0",
      "model_name": "DescriptionStyleModel",
      "state": {
       "description_width": ""
      }
     },
     "e8903f1b8af6454b9b6cb343f2354b03": {
      "model_module": "@jupyter-widgets/controls",
      "model_module_version": "1.5.0",
      "model_name": "DescriptionStyleModel",
      "state": {
       "description_width": ""
      }
     },
     "e8b72e3cb397496797790b5748dec07a": {
      "model_module": "@jupyter-widgets/controls",
      "model_module_version": "1.5.0",
      "model_name": "CheckboxModel",
      "state": {
       "disabled": true,
       "layout": "IPY_MODEL_2ea8997681004c0180d0791211a9c17d",
       "style": "IPY_MODEL_93d452d27cd046d2abe62386c501bd08",
       "value": false
      }
     },
     "e8eda49818a3434086e4695b55b3ad96": {
      "model_module": "@jupyter-widgets/controls",
      "model_module_version": "1.5.0",
      "model_name": "ButtonModel",
      "state": {
       "button_style": "success",
       "description": "Correct",
       "icon": "check",
       "layout": "IPY_MODEL_473ba74670e34103880e9faedc5523ff",
       "style": "IPY_MODEL_cc7133f9b202412eae3c9e5e0798692d"
      }
     },
     "e924680da50e407fb2c9784380554958": {
      "model_module": "@jupyter-widgets/controls",
      "model_module_version": "1.5.0",
      "model_name": "TextareaModel",
      "state": {
       "disabled": true,
       "layout": "IPY_MODEL_1ae214c1e7834fa2ba4f80b3b423b277",
       "placeholder": "",
       "style": "IPY_MODEL_1b94a9415daa4c27b0638793d6793528",
       "value": "Hello world!\n"
      }
     },
     "e97334d44f444d269acae3bbaeadd44a": {
      "model_module": "@jupyter-widgets/controls",
      "model_module_version": "1.5.0",
      "model_name": "ButtonStyleModel",
      "state": {}
     },
     "e979de1f269848c2a1a07280d9fe026c": {
      "model_module": "@jupyter-widgets/controls",
      "model_module_version": "1.5.0",
      "model_name": "ButtonModel",
      "state": {
       "layout": "IPY_MODEL_4f1a5e6dff76447eb7636e10be20cbf7",
       "style": "IPY_MODEL_187f4daaaa694aefb198a39d4ce66573"
      }
     },
     "ea7c7dd2073447bf952f7443b28b7ab5": {
      "model_module": "@jupyter-widgets/controls",
      "model_module_version": "1.5.0",
      "model_name": "LabelModel",
      "state": {
       "layout": "IPY_MODEL_f5fc033f463044248987a78e66acdb9a",
       "style": "IPY_MODEL_d22ef85b399d4ce4bb4e4bddd181c20c",
       "value": "Write your own code:"
      }
     },
     "eaab7d3e6c2d4eeeadc50e2e08d58819": {
      "model_module": "@jupyter-widgets/base",
      "model_module_version": "1.2.0",
      "model_name": "LayoutModel",
      "state": {}
     },
     "eaff74a1ebb6473e8ce33642160e7a58": {
      "model_module": "@jupyter-widgets/base",
      "model_module_version": "1.2.0",
      "model_name": "LayoutModel",
      "state": {
       "height": "100px",
       "width": "250px"
      }
     },
     "eb33def34ff34f77b19c444a3ec6bfc9": {
      "model_module": "@jupyter-widgets/base",
      "model_module_version": "1.2.0",
      "model_name": "LayoutModel",
      "state": {}
     },
     "ec48b2741380462783b7be01d5d495f6": {
      "model_module": "@jupyter-widgets/controls",
      "model_module_version": "1.5.0",
      "model_name": "TextModel",
      "state": {
       "layout": "IPY_MODEL_cebef707c2d54c4a9d7485caceb208d3",
       "style": "IPY_MODEL_409be95e044346ada0fb54a02e0c3b4d"
      }
     },
     "ec53811482614ad7b02d74b85fda97e9": {
      "model_module": "@jupyter-widgets/controls",
      "model_module_version": "1.5.0",
      "model_name": "ButtonModel",
      "state": {
       "button_style": "warning",
       "description": "Check",
       "icon": "check",
       "layout": "IPY_MODEL_ccbb62ee7a684f94bc64495d03b3bdae",
       "style": "IPY_MODEL_c1b1b1b96f954e388ba47c31b5196dd8"
      }
     },
     "ecd1c9c37fb54f21bce488ead89a8768": {
      "model_module": "@jupyter-widgets/controls",
      "model_module_version": "1.5.0",
      "model_name": "VBoxModel",
      "state": {
       "children": [
        "IPY_MODEL_953b2866aadf47129d929147c1b479d7",
        "IPY_MODEL_e23d7e11516142c7af90a6a8d66a1dcf",
        "IPY_MODEL_429f401704cd4bc7b6686e2f53f858d1",
        "IPY_MODEL_9f7e8f2da58c431180ec201a47e4f1be"
       ],
       "layout": "IPY_MODEL_bea3369c64734401a58adbedf8d66a4c"
      }
     },
     "ece538a29db74d53ac14c4d2c10cbe15": {
      "model_module": "@jupyter-widgets/controls",
      "model_module_version": "1.5.0",
      "model_name": "HTMLModel",
      "state": {
       "layout": "IPY_MODEL_a0552e7a02434b7bbfc94693e1c9ef82",
       "style": "IPY_MODEL_8ed7a49c7923427689b58a0c952f4bf0"
      }
     },
     "ed12e600b2d64f60bc4f6d4ca9ef85c7": {
      "model_module": "@jupyter-widgets/base",
      "model_module_version": "1.2.0",
      "model_name": "LayoutModel",
      "state": {}
     },
     "ed3dd37f35944eafab5b4bd71a06b3a0": {
      "model_module": "@jupyter-widgets/controls",
      "model_module_version": "1.5.0",
      "model_name": "VBoxModel",
      "state": {
       "children": [
        "IPY_MODEL_717261529f954ef492e79186a4657e64",
        "IPY_MODEL_afb94166a88740cfbc42919d77666d84",
        "IPY_MODEL_a2b4966f8c0247e392f48bf1ea2aae8d",
        "IPY_MODEL_f58523dce3324fbcb86db08b5468338f",
        "IPY_MODEL_86756f597d7d473ca7bbb9cee8e1db78"
       ],
       "layout": "IPY_MODEL_68fb66dd7ff149b1af1a91d2513223c1"
      }
     },
     "ee83acc9ba6e4b2c9c9efecb543dbeb6": {
      "model_module": "@jupyter-widgets/base",
      "model_module_version": "1.2.0",
      "model_name": "LayoutModel",
      "state": {
       "height": "200px",
       "width": "99%"
      }
     },
     "eefb48d400c342c3907cbcd91ed0fa49": {
      "model_module": "@jupyter-widgets/base",
      "model_module_version": "1.2.0",
      "model_name": "LayoutModel",
      "state": {}
     },
     "ef1b058899ef4947b5bc8d9d822e1f86": {
      "model_module": "@jupyter-widgets/controls",
      "model_module_version": "1.5.0",
      "model_name": "LabelModel",
      "state": {
       "layout": "IPY_MODEL_bb76325e315d40d2876e5275e5eaf1b0",
       "style": "IPY_MODEL_29c02ca1f3c6470e910fd87c2fd0d04c",
       "value": "Output: "
      }
     },
     "efe47f96dfbf42298fd841da6935dd32": {
      "model_module": "@jupyter-widgets/base",
      "model_module_version": "1.2.0",
      "model_name": "LayoutModel",
      "state": {}
     },
     "efe61795fc824e08bfb329542b5309ce": {
      "model_module": "@jupyter-widgets/controls",
      "model_module_version": "1.5.0",
      "model_name": "DescriptionStyleModel",
      "state": {
       "description_width": ""
      }
     },
     "f0436905f7174f93b857f143098c7d99": {
      "model_module": "@jupyter-widgets/controls",
      "model_module_version": "1.5.0",
      "model_name": "HTMLModel",
      "state": {
       "layout": "IPY_MODEL_5326cf4021464885bded66b1b36db8c1",
       "style": "IPY_MODEL_51b89ace7f1e4626825059827ca2c09d"
      }
     },
     "f0936aeef65144dcba48f226c8e941bb": {
      "model_module": "@jupyter-widgets/base",
      "model_module_version": "1.2.0",
      "model_name": "LayoutModel",
      "state": {}
     },
     "f0cb07df6a29498a81035befbfdfd00e": {
      "model_module": "@jupyter-widgets/controls",
      "model_module_version": "1.5.0",
      "model_name": "DescriptionStyleModel",
      "state": {
       "description_width": ""
      }
     },
     "f366efa2a5514b24aba7fb6482e6cee7": {
      "model_module": "@jupyter-widgets/base",
      "model_module_version": "1.2.0",
      "model_name": "LayoutModel",
      "state": {}
     },
     "f3dffd2c62464798a517478bf30e43c4": {
      "model_module": "@jupyter-widgets/base",
      "model_module_version": "1.2.0",
      "model_name": "LayoutModel",
      "state": {}
     },
     "f41919ac107c4318a6e2ba0804e8ba32": {
      "model_module": "@jupyter-widgets/base",
      "model_module_version": "1.2.0",
      "model_name": "LayoutModel",
      "state": {}
     },
     "f5348c624bcd4b02ab88e98c17201e0f": {
      "model_module": "@jupyter-widgets/controls",
      "model_module_version": "1.5.0",
      "model_name": "DescriptionStyleModel",
      "state": {
       "description_width": ""
      }
     },
     "f58523dce3324fbcb86db08b5468338f": {
      "model_module": "@jupyter-widgets/controls",
      "model_module_version": "1.5.0",
      "model_name": "TextareaModel",
      "state": {
       "disabled": true,
       "layout": "IPY_MODEL_21bc7a1d8b494f5d84b40c1da704588a",
       "placeholder": "",
       "style": "IPY_MODEL_29fd55ff47b14cdaaa2d51bc288138be"
      }
     },
     "f5c7a780faff437c9d5de55edc9abb36": {
      "model_module": "@jupyter-widgets/base",
      "model_module_version": "1.2.0",
      "model_name": "LayoutModel",
      "state": {}
     },
     "f5fc033f463044248987a78e66acdb9a": {
      "model_module": "@jupyter-widgets/base",
      "model_module_version": "1.2.0",
      "model_name": "LayoutModel",
      "state": {}
     },
     "f79bee4db451492fb108809236c59a8b": {
      "model_module": "@jupyter-widgets/base",
      "model_module_version": "1.2.0",
      "model_name": "LayoutModel",
      "state": {}
     },
     "f7ac0b3b8a6f424a9f83f4e07a1f1adb": {
      "model_module": "@jupyter-widgets/base",
      "model_module_version": "1.2.0",
      "model_name": "LayoutModel",
      "state": {}
     },
     "f7fc2c5ce8c447edae0747ce5158c30d": {
      "model_module": "@jupyter-widgets/base",
      "model_module_version": "1.2.0",
      "model_name": "LayoutModel",
      "state": {}
     },
     "f991fc83c14849259e67ffb59d3743d6": {
      "model_module": "@jupyter-widgets/base",
      "model_module_version": "1.2.0",
      "model_name": "LayoutModel",
      "state": {
       "height": "100px",
       "width": "250px"
      }
     },
     "f9a7599c473740eb9cdb876436fe86f6": {
      "model_module": "@jupyter-widgets/base",
      "model_module_version": "1.2.0",
      "model_name": "LayoutModel",
      "state": {}
     },
     "fa52330e40324b16b16a4a474fecb30b": {
      "model_module": "@jupyter-widgets/base",
      "model_module_version": "1.2.0",
      "model_name": "LayoutModel",
      "state": {}
     },
     "fa7e07f2a3a84592a54557aae01b8057": {
      "model_module": "@jupyter-widgets/base",
      "model_module_version": "1.2.0",
      "model_name": "LayoutModel",
      "state": {}
     },
     "faa951361e414ca78ebaa6752b380545": {
      "model_module": "@jupyter-widgets/controls",
      "model_module_version": "1.5.0",
      "model_name": "DescriptionStyleModel",
      "state": {
       "description_width": ""
      }
     },
     "fadfe345668e424ca5595a12b2542b9d": {
      "model_module": "@jupyter-widgets/base",
      "model_module_version": "1.2.0",
      "model_name": "LayoutModel",
      "state": {}
     },
     "faf11467c50f41e8a919b27b1ff9cc95": {
      "model_module": "@jupyter-widgets/controls",
      "model_module_version": "1.5.0",
      "model_name": "HTMLModel",
      "state": {
       "layout": "IPY_MODEL_281080fb820d4ce099e86ac62f94b426",
       "style": "IPY_MODEL_9c96a2c71acf43069546d6eece4b7dbf"
      }
     },
     "fbd60d23434c48e5927817e6e989c2de": {
      "model_module": "@jupyter-widgets/base",
      "model_module_version": "1.2.0",
      "model_name": "LayoutModel",
      "state": {}
     },
     "fc5aa2a370db45ec8b8fc7bc936fd1e8": {
      "model_module": "@jupyter-widgets/base",
      "model_module_version": "1.2.0",
      "model_name": "LayoutModel",
      "state": {
       "width": "90px"
      }
     },
     "fde361375a2a44079a370f79b1d9626e": {
      "model_module": "@jupyter-widgets/controls",
      "model_module_version": "1.5.0",
      "model_name": "VBoxModel",
      "state": {
       "children": [
        "IPY_MODEL_703788c8563c48aaa2960fedaefcdf72",
        "IPY_MODEL_70b91c4010584c89bfa8059a2c957160"
       ],
       "layout": "IPY_MODEL_983da04007fb46aab839bc04321970f8"
      }
     },
     "ff18e773a6714d79a2936edcb55e71a8": {
      "model_module": "@jupyter-widgets/controls",
      "model_module_version": "1.5.0",
      "model_name": "TextareaModel",
      "state": {
       "layout": "IPY_MODEL_e84dacdd895e45c99e6dd1ecd346b4e4",
       "style": "IPY_MODEL_06ca2fc263944cf1b6951f8d77328438"
      }
     },
     "ff1bab2634b34eaa8ec2ff75eed37a77": {
      "model_module": "@jupyter-widgets/controls",
      "model_module_version": "1.5.0",
      "model_name": "VBoxModel",
      "state": {
       "children": [
        "IPY_MODEL_24f93b6df6ad4801842d260322db39bf",
        "IPY_MODEL_6337f6078fdb45d6b30abc2fa0c3703a",
        "IPY_MODEL_ec53811482614ad7b02d74b85fda97e9",
        "IPY_MODEL_a06b8e54da59480095e755e55b263784"
       ],
       "layout": "IPY_MODEL_cd10eb756c6b49b4beba00773b158c08"
      }
     },
     "ff803803fb404097b3109723c8a0a159": {
      "model_module": "@jupyter-widgets/base",
      "model_module_version": "1.2.0",
      "model_name": "LayoutModel",
      "state": {}
     },
     "ffa6cde85e4143b39c3528b4495be2a7": {
      "model_module": "@jupyter-widgets/base",
      "model_module_version": "1.2.0",
      "model_name": "LayoutModel",
      "state": {
       "height": "100px",
       "width": "250px"
      }
     }
    },
    "version_major": 2,
    "version_minor": 0
   }
  }
 },
 "nbformat": 4,
 "nbformat_minor": 2
}
