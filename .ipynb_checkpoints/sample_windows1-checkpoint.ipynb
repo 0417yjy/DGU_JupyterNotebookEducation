{
 "cells": [
  {
   "cell_type": "code",
   "execution_count": 1,
   "metadata": {
    "scrolled": true
   },
   "outputs": [
    {
     "data": {
      "text/html": [
       "<script>$(\"div.input\").hide()</script>"
      ],
      "text/plain": [
       "<IPython.core.display.HTML object>"
      ]
     },
     "metadata": {},
     "output_type": "display_data"
    },
    {
     "data": {
      "application/vnd.jupyter.widget-view+json": {
       "model_id": "32efc816d6da486aab1e9d439d82002d",
       "version_major": 2,
       "version_minor": 0
      },
      "text/plain": [
       "ToggleButton(value=False, description='Show code')"
      ]
     },
     "metadata": {},
     "output_type": "display_data"
    }
   ],
   "source": [
    "import ipywidgets as widgets\n",
    "from IPython.display import display, HTML\n",
    "\n",
    "javascript_functions = {False: \"hide()\", True: \"show()\"}\n",
    "button_descriptions  = {False: \"Show code\", True: \"Hide code\"}\n",
    "\n",
    "\n",
    "def toggle_code(state):\n",
    "\n",
    "    \"\"\"\n",
    "    Toggles the JavaScript show()/hide() function on the div.input element.\n",
    "    \"\"\"\n",
    "\n",
    "    output_string = \"<script>$(\\\"div.input\\\").{}</script>\"\n",
    "    output_args   = (javascript_functions[state],)\n",
    "    output        = output_string.format(*output_args)\n",
    "\n",
    "    display(HTML(output))\n",
    "\n",
    "\n",
    "def button_action(value):\n",
    "\n",
    "    \"\"\"\n",
    "    Calls the toggle_code function and updates the button description.\n",
    "    \"\"\"\n",
    "\n",
    "    state = value.new\n",
    "\n",
    "    toggle_code(state)\n",
    "\n",
    "    value.owner.description = button_descriptions[state]\n",
    "\n",
    "\n",
    "state = False\n",
    "toggle_code(state)\n",
    "\n",
    "button = widgets.ToggleButton(state, description = button_descriptions[state])\n",
    "button.observe(button_action, \"value\")\n",
    "\n",
    "display(button)"
   ]
  },
  {
   "cell_type": "code",
   "execution_count": 2,
   "metadata": {},
   "outputs": [],
   "source": [
    "from windows_widgets import CompileOutputOnly, CompileInputOuput, ShortAnswerQuestion, ChoiceQuestion, AchieveRate, add_link_buttons"
   ]
  },
  {
   "cell_type": "markdown",
   "metadata": {},
   "source": [
    "# Chapter 1 - C 프로그래밍 첫걸음"
   ]
  },
  {
   "cell_type": "markdown",
   "metadata": {},
   "source": [
    "## 5.1 문자열 출력 프로그램"
   ]
  },
  {
   "cell_type": "markdown",
   "metadata": {},
   "source": [
    "### 함수 puts()의 이용\n",
    "원하는 문자열(string)을 출력하는 프로그램을 작성해 보자. **일련의 문자와 단어들의 집합을 문자열이라 한다.** 문자열 출력에 함수 puts()를 이용하여, 다음과 같이 \\[Chapter01\\] 솔루션에 프로젝트를 추가하자.  \n",
    "다음은 문자열 \"Hello World!\" 를 출력하는 소스 파일 printstring.c이다."
   ]
  },
  {
   "cell_type": "code",
   "execution_count": 3,
   "metadata": {},
   "outputs": [
    {
     "data": {
      "application/vnd.jupyter.widget-view+json": {
       "model_id": "1c33d8ea563b42898333f373024e2a84",
       "version_major": 2,
       "version_minor": 0
      },
      "text/plain": [
       "VBox(children=(Label(value='Write your own code:'), Textarea(value='#include <stdio.h>\\n\\nint main(void) {\\n p…"
      ]
     },
     "metadata": {},
     "output_type": "display_data"
    }
   ],
   "source": [
    "co1 = CompileOutputOnly('exer1')"
   ]
  },
  {
   "cell_type": "markdown",
   "metadata": {},
   "source": [
    "**함수 puts()를 사용하려면 첫 줄에 #include <stdio.h>를 넣어야 한다.** #include는 바로 뒤에 기술하는 파일 stdio.h를 삽입하는 명령어이다. **함수 puts()는 문자열을 출력하는 함수이다.** 문자열은 큰따옴표(\"\")를 앞 뒤에 붙여 표시한다.    \n",
    "### 여러 줄에 문자열을 출력\n",
    "\\[실습예제 1-4\\]printme.c는 본인의 정보를 출력하는 프로그램이다. 함수 puts()를 여러 번 사용하면 여러 줄에 정보를 출력할 수 있다."
   ]
  },
  {
   "cell_type": "code",
   "execution_count": 4,
   "metadata": {
    "scrolled": false
   },
   "outputs": [
    {
     "data": {
      "application/vnd.jupyter.widget-view+json": {
       "model_id": "d633e3efeac74954afbc836c14eafe89",
       "version_major": 2,
       "version_minor": 0
      },
      "text/plain": [
       "VBox(children=(Label(value='Write your own code:'), Textarea(value='#include <stdio.h>\\n\\nint main(void) {\\n  …"
      ]
     },
     "metadata": {},
     "output_type": "display_data"
    }
   ],
   "source": [
    "co2 = CompileOutputOnly('exer2')"
   ]
  },
  {
   "cell_type": "markdown",
   "metadata": {},
   "source": [
    "## 연습문제"
   ]
  },
  {
   "cell_type": "code",
   "execution_count": 5,
   "metadata": {},
   "outputs": [
    {
     "data": {
      "application/vnd.jupyter.widget-view+json": {
       "model_id": "5128acf9445e4044a9b527c8336e9490",
       "version_major": 2,
       "version_minor": 0
      },
      "text/plain": [
       "VBox(children=(HTML(value='(1) 프로그램은 컴퓨터에게 지시를 내리는 ____의 집합이다.'), Text(value=''), Button(button_style='warning…"
      ]
     },
     "metadata": {},
     "output_type": "display_data"
    }
   ],
   "source": [
    "saq1 = ShortAnswerQuestion('(1) 프로그램은 컴퓨터에게 지시를 내리는 ____의 집합이다.', ['명령어'], ' 컴퓨터에서 특정 목적의 작업을 수행하기 위해 관련된 명령어와 자료의 집합을 프로그램이라 한다.', ' 컴퓨터에서 특정 목적의 작업을 수행하기 위해 관련된 명령어와 자료의 집합을 프로그램이라 한다.')"
   ]
  },
  {
   "cell_type": "code",
   "execution_count": 6,
   "metadata": {},
   "outputs": [
    {
     "data": {
      "application/vnd.jupyter.widget-view+json": {
       "model_id": "2d004440d8354f89819f16872cdf3640",
       "version_major": 2,
       "version_minor": 0
      },
      "text/plain": [
       "VBox(children=(HTML(value='(2) ____(은)는 0과 1의 조합으로 구성되어 사람이 직접 이해하기 어려운 언어이다.'), Text(value=''), Button(button…"
      ]
     },
     "metadata": {},
     "output_type": "display_data"
    }
   ],
   "source": [
    "saq2 = ShortAnswerQuestion(\"\"\"(2) ____(은)는 0과 1의 조합으로 구성되어 사람이 직접 이해하기 어려운 언어이다.\"\"\", ['기계어'], ' 기계의 언어?', ' 기계어는 0과 1로 표현되는 프로그래밍 언어로서 컴퓨터가 직접 이해할 수 있는 유일한 언어이다.')"
   ]
  },
  {
   "cell_type": "code",
   "execution_count": 7,
   "metadata": {
    "scrolled": true
   },
   "outputs": [
    {
     "data": {
      "application/vnd.jupyter.widget-view+json": {
       "model_id": "408ce395592c4afda2af9034fce54616",
       "version_major": 2,
       "version_minor": 0
      },
      "text/plain": [
       "VBox(children=(HTML(value='다음 중 C 소스에서 표현되는 바른 단어(토큰)가 아닌 것은?'), RadioButtons(options=('main', 'return', '#inc…"
      ]
     },
     "metadata": {},
     "output_type": "display_data"
    }
   ],
   "source": [
    "cq1 = ChoiceQuestion(\"\"\"다음 중 C 소스에서 표현되는 바른 단어(토큰)가 아닌 것은?\"\"\", ['main', 'return', '#include', 'integer'], 3, ' main, return, #include는 C 소스의 토큰이다.', ' integer라는 키워드는 존재하지 않는다.')"
   ]
  },
  {
   "cell_type": "code",
   "execution_count": 8,
   "metadata": {
    "scrolled": true
   },
   "outputs": [
    {
     "data": {
      "application/vnd.jupyter.widget-view+json": {
       "model_id": "bc55df861cb946e98c84693845410d7c",
       "version_major": 2,
       "version_minor": 0
      },
      "text/plain": [
       "VBox(children=(HBox(children=(Checkbox(value=False, disabled=True), Checkbox(value=False, disabled=True), Chec…"
      ]
     },
     "metadata": {},
     "output_type": "display_data"
    }
   ],
   "source": [
    "rate = AchieveRate()"
   ]
  },
  {
   "cell_type": "code",
   "execution_count": 9,
   "metadata": {},
   "outputs": [
    {
     "data": {
      "text/html": [
       "\n",
       "<style>\n",
       ".button {\n",
       "  background-color: orange;\n",
       "  border: none;\n",
       "  color: white;\n",
       "  padding: 15px 32px;\n",
       "  text-align: center;\n",
       "  text-decoration: none;\n",
       "  display: inline-block;\n",
       "  font-size: 16px;\n",
       "  margin: 4px 2px;\n",
       "  cursor: pointer;\n",
       "}\n",
       ".grid-container {\n",
       "  display: grid;\n",
       "  grid-template-columns: 100px auto 100px;\n",
       "  grid-template-rows: auto;\n",
       "}\n",
       "</style>\n",
       "\n",
       "<div class=\"grid-container\"><div class=\"grid-item\"></div><div class=\"grid-item\"></div><div class=\"grid-item\"><a href=\"sample_windows2.ipynb\" class=\"button\">Next</a></div>\n",
       "</div>\n"
      ],
      "text/plain": [
       "<IPython.core.display.HTML object>"
      ]
     },
     "metadata": {},
     "output_type": "display_data"
    }
   ],
   "source": [
    "add_link_buttons(2, '', 'sample_windows2.ipynb')"
   ]
  }
 ],
 "metadata": {
  "kernelspec": {
   "display_name": "Python 3",
   "language": "python",
   "name": "python3"
  },
  "language_info": {
   "codemirror_mode": {
    "name": "ipython",
    "version": 3
   },
   "file_extension": ".py",
   "mimetype": "text/x-python",
   "name": "python",
   "nbconvert_exporter": "python",
   "pygments_lexer": "ipython3",
   "version": "3.7.4"
  },
  "widgets": {
   "application/vnd.jupyter.widget-state+json": {
    "state": {
     "000fb7eb26124e08b010cee184b8b3cf": {
      "model_module": "@jupyter-widgets/base",
      "model_module_version": "1.2.0",
      "model_name": "LayoutModel",
      "state": {}
     },
     "00b6641a59a1460a970830673f641e8e": {
      "model_module": "@jupyter-widgets/base",
      "model_module_version": "1.2.0",
      "model_name": "LayoutModel",
      "state": {
       "border": "solid 1px"
      }
     },
     "00e475e4b645454cac06902b023c7103": {
      "model_module": "@jupyter-widgets/controls",
      "model_module_version": "1.5.0",
      "model_name": "ButtonModel",
      "state": {
       "layout": "IPY_MODEL_f3dffd2c62464798a517478bf30e43c4",
       "style": "IPY_MODEL_e2e8874de8eb469788662f260928adff"
      }
     },
     "01f48476a2644b4a92a08a81d8f31fca": {
      "model_module": "@jupyter-widgets/controls",
      "model_module_version": "1.5.0",
      "model_name": "VBoxModel",
      "state": {
       "children": [
        "IPY_MODEL_d2b84f63452d43c08cd770e2db1a9de3",
        "IPY_MODEL_0f6a07a9e42849f88674bf437f26ef6c",
        "IPY_MODEL_e8eda49818a3434086e4695b55b3ad96",
        "IPY_MODEL_097cf787773b42698e4200a08414a230"
       ],
       "layout": "IPY_MODEL_5ee22681c3d944ceaf6321be9230d3ce"
      }
     },
     "02788667ac164e0f8b1faa57efa158dc": {
      "model_module": "@jupyter-widgets/controls",
      "model_module_version": "1.5.0",
      "model_name": "DescriptionStyleModel",
      "state": {
       "description_width": ""
      }
     },
     "027c6789392f44d5a7e127f885b5ad65": {
      "model_module": "@jupyter-widgets/base",
      "model_module_version": "1.2.0",
      "model_name": "LayoutModel",
      "state": {}
     },
     "029f4eee96374db79d971383258b19d4": {
      "model_module": "@jupyter-widgets/base",
      "model_module_version": "1.2.0",
      "model_name": "LayoutModel",
      "state": {}
     },
     "0305b4bb247940b1bc6d9cfbd56b717d": {
      "model_module": "@jupyter-widgets/controls",
      "model_module_version": "1.5.0",
      "model_name": "DescriptionStyleModel",
      "state": {
       "description_width": ""
      }
     },
     "03505db479f24735b5f38e85ddcb6d87": {
      "model_module": "@jupyter-widgets/controls",
      "model_module_version": "1.5.0",
      "model_name": "DescriptionStyleModel",
      "state": {
       "description_width": ""
      }
     },
     "03c0a70815ef4241bb52b7ab666a36e8": {
      "model_module": "@jupyter-widgets/controls",
      "model_module_version": "1.5.0",
      "model_name": "DescriptionStyleModel",
      "state": {
       "description_width": ""
      }
     },
     "03e2fa1b7cef46a69ea9cac53d49a874": {
      "model_module": "@jupyter-widgets/controls",
      "model_module_version": "1.5.0",
      "model_name": "DescriptionStyleModel",
      "state": {
       "description_width": ""
      }
     },
     "048d97403d7b4f4399425ca8e528900a": {
      "model_module": "@jupyter-widgets/controls",
      "model_module_version": "1.5.0",
      "model_name": "HBoxModel",
      "state": {
       "children": [
        "IPY_MODEL_2bdd440e749e4b4f80488d4c1543a319",
        "IPY_MODEL_a667e8294aab442f892fe4562fdf98b8"
       ],
       "layout": "IPY_MODEL_ca3bce841a6641bea5280acff4671ed2"
      }
     },
     "04f510635b824d80bb56c7c35ab92159": {
      "model_module": "@jupyter-widgets/controls",
      "model_module_version": "1.5.0",
      "model_name": "VBoxModel",
      "state": {
       "children": [
        "IPY_MODEL_85f93cae8d384b71a4051093bede08f3",
        "IPY_MODEL_c4a3bc3b312147648a5e5ab6fb42897a",
        "IPY_MODEL_3ccb0adff77f4856b0bcf3270cfebbee",
        "IPY_MODEL_6ebcceb8a162475c972408888582372c",
        "IPY_MODEL_79d175f748ef4427bc9474210296b634"
       ],
       "layout": "IPY_MODEL_a85bdca616074d90b002859aa2b72406"
      }
     },
     "05e77207607a4701aa5877d166fcae50": {
      "model_module": "@jupyter-widgets/controls",
      "model_module_version": "1.5.0",
      "model_name": "TextareaModel",
      "state": {
       "layout": "IPY_MODEL_afc94dfd4db347b993ced3a39ef4beac",
       "placeholder": "",
       "style": "IPY_MODEL_582266295ca848dbb83b34eef7a60f68",
       "value": "10"
      }
     },
     "06293a450c3541e88ead47829a71ef90": {
      "model_module": "@jupyter-widgets/controls",
      "model_module_version": "1.5.0",
      "model_name": "DescriptionStyleModel",
      "state": {
       "description_width": ""
      }
     },
     "0694eb9987fa47cf88724284ce74d4f1": {
      "model_module": "@jupyter-widgets/base",
      "model_module_version": "1.2.0",
      "model_name": "LayoutModel",
      "state": {}
     },
     "069d680958304822a0788767ff707fd4": {
      "model_module": "@jupyter-widgets/controls",
      "model_module_version": "1.5.0",
      "model_name": "DescriptionStyleModel",
      "state": {
       "description_width": ""
      }
     },
     "06ca2fc263944cf1b6951f8d77328438": {
      "model_module": "@jupyter-widgets/controls",
      "model_module_version": "1.5.0",
      "model_name": "DescriptionStyleModel",
      "state": {
       "description_width": ""
      }
     },
     "071144ff2bc24c21a10e263a0186ee4f": {
      "model_module": "@jupyter-widgets/controls",
      "model_module_version": "1.5.0",
      "model_name": "DescriptionStyleModel",
      "state": {
       "description_width": ""
      }
     },
     "07a739416f684f5faa713de4f97cd7b5": {
      "model_module": "@jupyter-widgets/base",
      "model_module_version": "1.2.0",
      "model_name": "LayoutModel",
      "state": {}
     },
     "07e3fd8c1326420589b67781223dee19": {
      "model_module": "@jupyter-widgets/base",
      "model_module_version": "1.2.0",
      "model_name": "LayoutModel",
      "state": {}
     },
     "07fe2ff2aadf45a188e7e4c40b11350b": {
      "model_module": "@jupyter-widgets/controls",
      "model_module_version": "1.5.0",
      "model_name": "DescriptionStyleModel",
      "state": {
       "description_width": ""
      }
     },
     "082d5d7037e648e0a4ab1fa5776f6a52": {
      "model_module": "@jupyter-widgets/controls",
      "model_module_version": "1.5.0",
      "model_name": "TextareaModel",
      "state": {
       "layout": "IPY_MODEL_13c00d62ea604b85946e4e8245016f95",
       "style": "IPY_MODEL_2042d9c1885a49f49a04af0f8cfbc419"
      }
     },
     "095a140789e7492e890bfa30ba56e6d9": {
      "model_module": "@jupyter-widgets/controls",
      "model_module_version": "1.5.0",
      "model_name": "DescriptionStyleModel",
      "state": {
       "description_width": ""
      }
     },
     "097cf787773b42698e4200a08414a230": {
      "model_module": "@jupyter-widgets/controls",
      "model_module_version": "1.5.0",
      "model_name": "HTMLModel",
      "state": {
       "layout": "IPY_MODEL_1268cb616d54447ba85ffa778e05c11d",
       "style": "IPY_MODEL_7456d8090f5c4b6db444ba9c723f5195",
       "value": "<font color='green'> A triangle's area is (1/2) * base * height."
      }
     },
     "097f51c9cfa0481fa20578e35145ed11": {
      "model_module": "@jupyter-widgets/base",
      "model_module_version": "1.2.0",
      "model_name": "LayoutModel",
      "state": {
       "width": "90px"
      }
     },
     "09bdb0040c4c4e17b49458f26a83c2cc": {
      "model_module": "@jupyter-widgets/controls",
      "model_module_version": "1.5.0",
      "model_name": "ButtonModel",
      "state": {
       "layout": "IPY_MODEL_be6e6d2916f342d099261429c6087a7d",
       "style": "IPY_MODEL_36ff0576975749a9aa290bda1d9f3166"
      }
     },
     "09c1ed5261b24bfcb0e4ce67b90e19a9": {
      "model_module": "@jupyter-widgets/base",
      "model_module_version": "1.2.0",
      "model_name": "LayoutModel",
      "state": {}
     },
     "0a3829d9d5d149d09cdc453716c3ac23": {
      "model_module": "@jupyter-widgets/controls",
      "model_module_version": "1.5.0",
      "model_name": "ButtonModel",
      "state": {
       "layout": "IPY_MODEL_d67fbb3029d3424092cdedb541610a9a",
       "style": "IPY_MODEL_91fc05c5886c4e9d8b1d04d370617906"
      }
     },
     "0a96a6560aa24141a9595d731875e308": {
      "model_module": "@jupyter-widgets/controls",
      "model_module_version": "1.5.0",
      "model_name": "CheckboxModel",
      "state": {
       "disabled": true,
       "layout": "IPY_MODEL_137af15f5cf94cc59cb51714d8aa5b1d",
       "style": "IPY_MODEL_f5348c624bcd4b02ab88e98c17201e0f",
       "value": false
      }
     },
     "0af52b1e0fcc4fe68cbfdbf7ede7077e": {
      "model_module": "@jupyter-widgets/base",
      "model_module_version": "1.2.0",
      "model_name": "LayoutModel",
      "state": {}
     },
     "0b5a2d8f99e14be9a61b731a4f7d323d": {
      "model_module": "@jupyter-widgets/base",
      "model_module_version": "1.2.0",
      "model_name": "LayoutModel",
      "state": {}
     },
     "0b8505297159413e90631e2594bc3f7c": {
      "model_module": "@jupyter-widgets/base",
      "model_module_version": "1.2.0",
      "model_name": "LayoutModel",
      "state": {
       "border": "solid 2px",
       "padding": "1rem"
      }
     },
     "0ba01cde29914a90b64c6e4fe0542e92": {
      "model_module": "@jupyter-widgets/base",
      "model_module_version": "1.2.0",
      "model_name": "LayoutModel",
      "state": {}
     },
     "0c0657b4873b4ef2b021d4b3667116fd": {
      "model_module": "@jupyter-widgets/controls",
      "model_module_version": "1.5.0",
      "model_name": "ButtonModel",
      "state": {
       "button_style": "warning",
       "description": "Check",
       "icon": "check",
       "layout": "IPY_MODEL_874eda6a378b495e9dbb7b7aa00e6854",
       "style": "IPY_MODEL_93f09ac1b1314b478d18f7be9236adc3"
      }
     },
     "0cc1d6f2fcbe4d82a6f78b8e703c6a4c": {
      "model_module": "@jupyter-widgets/controls",
      "model_module_version": "1.5.0",
      "model_name": "ButtonModel",
      "state": {
       "button_style": "warning",
       "description": "Check",
       "icon": "check",
       "layout": "IPY_MODEL_fc5aa2a370db45ec8b8fc7bc936fd1e8",
       "style": "IPY_MODEL_969a505af5864207a728d13fb4363975"
      }
     },
     "0d80d97e86da497f86679e6c61d65250": {
      "model_module": "@jupyter-widgets/base",
      "model_module_version": "1.2.0",
      "model_name": "LayoutModel",
      "state": {}
     },
     "0db55cc1260640a3b846618317dd98b0": {
      "model_module": "@jupyter-widgets/controls",
      "model_module_version": "1.5.0",
      "model_name": "DescriptionStyleModel",
      "state": {
       "description_width": ""
      }
     },
     "0dbf087775f34a17ac556847001bfb52": {
      "model_module": "@jupyter-widgets/controls",
      "model_module_version": "1.5.0",
      "model_name": "HTMLModel",
      "state": {
       "layout": "IPY_MODEL_c0315f310f9547e79229c371c73fa5e5",
       "style": "IPY_MODEL_cf3fe6fb9a4f4750973d98e48deeeaa1",
       "value": "(2) Suppose a new instruction was inserted as follows:  <br><br>z = x + y<br>Add 1 more to z (new instruction)<br>Put z to output<br><br>What would the last instruction then output to the screen?<br>"
      }
     },
     "0df28e80723c48079ccdaa2fe83b6981": {
      "model_module": "@jupyter-widgets/base",
      "model_module_version": "1.2.0",
      "model_name": "LayoutModel",
      "state": {}
     },
     "0dfa516afe894c4aa2a76268550701f3": {
      "model_module": "@jupyter-widgets/controls",
      "model_module_version": "1.5.0",
      "model_name": "TextModel",
      "state": {
       "layout": "IPY_MODEL_91b54154b9d547718a805d023371579a",
       "style": "IPY_MODEL_b6a94ac629224d2c92929b60278951a8"
      }
     },
     "0e7f841b6964452685f23be49175ef3b": {
      "model_module": "@jupyter-widgets/controls",
      "model_module_version": "1.5.0",
      "model_name": "DescriptionStyleModel",
      "state": {
       "description_width": ""
      }
     },
     "0f473d6e6ef9485b85225b47d95ad4e0": {
      "model_module": "@jupyter-widgets/controls",
      "model_module_version": "1.5.0",
      "model_name": "DescriptionStyleModel",
      "state": {
       "description_width": ""
      }
     },
     "0f6a07a9e42849f88674bf437f26ef6c": {
      "model_module": "@jupyter-widgets/controls",
      "model_module_version": "1.5.0",
      "model_name": "RadioButtonsModel",
      "state": {
       "_options_labels": [
        "Multiply x by 2",
        "Add 2 to x",
        "Multiply x by 1/2"
       ],
       "index": 2,
       "layout": "IPY_MODEL_110c3ef177974e4aa5090d13491c9869",
       "style": "IPY_MODEL_db6325ec4c1a41d097e38e8dcb9cb3b3"
      }
     },
     "0fe7b88c66ad4056acbe298337246e06": {
      "model_module": "@jupyter-widgets/controls",
      "model_module_version": "1.5.0",
      "model_name": "DescriptionStyleModel",
      "state": {
       "description_width": ""
      }
     },
     "1000719d5d8940a58f3bba895e111072": {
      "model_module": "@jupyter-widgets/controls",
      "model_module_version": "1.5.0",
      "model_name": "DescriptionStyleModel",
      "state": {
       "description_width": ""
      }
     },
     "1009b2cbd7c34e0aa629eaf689c2f8ed": {
      "model_module": "@jupyter-widgets/base",
      "model_module_version": "1.2.0",
      "model_name": "LayoutModel",
      "state": {}
     },
     "1011e68400b147dea667995148d753c7": {
      "model_module": "@jupyter-widgets/controls",
      "model_module_version": "1.5.0",
      "model_name": "ButtonModel",
      "state": {
       "layout": "IPY_MODEL_54b0843c525c41caa5daf17ff891001f",
       "style": "IPY_MODEL_b6d4b141ecfb44849e400272d192a0c1"
      }
     },
     "10ac4f143c034244bdad8941d1413e17": {
      "model_module": "@jupyter-widgets/controls",
      "model_module_version": "1.5.0",
      "model_name": "DescriptionStyleModel",
      "state": {
       "description_width": ""
      }
     },
     "110c3ef177974e4aa5090d13491c9869": {
      "model_module": "@jupyter-widgets/base",
      "model_module_version": "1.2.0",
      "model_name": "LayoutModel",
      "state": {}
     },
     "114829f457d844e9bf45b600cca07042": {
      "model_module": "@jupyter-widgets/base",
      "model_module_version": "1.2.0",
      "model_name": "LayoutModel",
      "state": {}
     },
     "1150f243ba404eb589a1c102cc386d81": {
      "model_module": "@jupyter-widgets/base",
      "model_module_version": "1.2.0",
      "model_name": "LayoutModel",
      "state": {}
     },
     "1171352da6db4d65ac71d663862da4b0": {
      "model_module": "@jupyter-widgets/base",
      "model_module_version": "1.2.0",
      "model_name": "LayoutModel",
      "state": {}
     },
     "11744e3ae40d448e9dc21fb5e4206761": {
      "model_module": "@jupyter-widgets/controls",
      "model_module_version": "1.5.0",
      "model_name": "VBoxModel",
      "state": {
       "layout": "IPY_MODEL_1e721f32f6594ff084cfd1aeaf50b3cd"
      }
     },
     "119f37bb430b4a568789e6736401ad5d": {
      "model_module": "@jupyter-widgets/controls",
      "model_module_version": "1.5.0",
      "model_name": "DescriptionStyleModel",
      "state": {
       "description_width": ""
      }
     },
     "1268cb616d54447ba85ffa778e05c11d": {
      "model_module": "@jupyter-widgets/base",
      "model_module_version": "1.2.0",
      "model_name": "LayoutModel",
      "state": {}
     },
     "12e0732bac2b499db7a9de256019778b": {
      "model_module": "@jupyter-widgets/controls",
      "model_module_version": "1.5.0",
      "model_name": "CheckboxModel",
      "state": {
       "disabled": true,
       "layout": "IPY_MODEL_fdab1d87715c4dc2b41e9db66723da05",
       "style": "IPY_MODEL_66a43a4adc4d41dcb87ccb7ba6d16143",
       "value": false
      }
     },
     "12e77ccc5ef340ac9738faa120b74a29": {
      "model_module": "@jupyter-widgets/controls",
      "model_module_version": "1.5.0",
      "model_name": "ButtonStyleModel",
      "state": {}
     },
     "130585b593a54fd8bfb07996ad585aaa": {
      "model_module": "@jupyter-widgets/controls",
      "model_module_version": "1.5.0",
      "model_name": "DescriptionStyleModel",
      "state": {
       "description_width": ""
      }
     },
     "135a9d8e186845cab1d8defe44cedc9d": {
      "model_module": "@jupyter-widgets/base",
      "model_module_version": "1.2.0",
      "model_name": "LayoutModel",
      "state": {}
     },
     "137af15f5cf94cc59cb51714d8aa5b1d": {
      "model_module": "@jupyter-widgets/base",
      "model_module_version": "1.2.0",
      "model_name": "LayoutModel",
      "state": {}
     },
     "139fd0fbcc3f43bfbbb6a829dbffd329": {
      "model_module": "@jupyter-widgets/controls",
      "model_module_version": "1.5.0",
      "model_name": "ButtonModel",
      "state": {
       "layout": "IPY_MODEL_5aaa490ee277498eba1002fea95a72db",
       "style": "IPY_MODEL_12e77ccc5ef340ac9738faa120b74a29"
      }
     },
     "13b841b6952046498ad6a5be3de10cf8": {
      "model_module": "@jupyter-widgets/controls",
      "model_module_version": "1.5.0",
      "model_name": "HTMLModel",
      "state": {
       "layout": "IPY_MODEL_31a67d240448445a95406aa4021202de",
       "style": "IPY_MODEL_bb2cba3698f84801a20d0efc84779b3e"
      }
     },
     "13c00d62ea604b85946e4e8245016f95": {
      "model_module": "@jupyter-widgets/base",
      "model_module_version": "1.2.0",
      "model_name": "LayoutModel",
      "state": {}
     },
     "13c8ae66905c4463921e8c2fe10b3de9": {
      "model_module": "@jupyter-widgets/controls",
      "model_module_version": "1.5.0",
      "model_name": "VBoxModel",
      "state": {
       "layout": "IPY_MODEL_4d1a39fc265f4de782cb8a82a28dbfee"
      }
     },
     "14ff82ce76a04f0c889919f5e4ed31e9": {
      "model_module": "@jupyter-widgets/controls",
      "model_module_version": "1.5.0",
      "model_name": "DescriptionStyleModel",
      "state": {
       "description_width": ""
      }
     },
     "178ce5822ab74031af2d035a655e7382": {
      "model_module": "@jupyter-widgets/base",
      "model_module_version": "1.2.0",
      "model_name": "LayoutModel",
      "state": {
       "height": "200px",
       "width": "99%"
      }
     },
     "17b4230c949846cb8534aa3a361309f1": {
      "model_module": "@jupyter-widgets/base",
      "model_module_version": "1.2.0",
      "model_name": "LayoutModel",
      "state": {}
     },
     "17ef7c20b16547a8bb23337d678cb1d5": {
      "model_module": "@jupyter-widgets/controls",
      "model_module_version": "1.5.0",
      "model_name": "DescriptionStyleModel",
      "state": {
       "description_width": ""
      }
     },
     "187f4daaaa694aefb198a39d4ce66573": {
      "model_module": "@jupyter-widgets/controls",
      "model_module_version": "1.5.0",
      "model_name": "ButtonStyleModel",
      "state": {}
     },
     "1897c32db89e4dfcb1fa6961ca3ceace": {
      "model_module": "@jupyter-widgets/base",
      "model_module_version": "1.2.0",
      "model_name": "LayoutModel",
      "state": {}
     },
     "18d2c1856acf4497a7c8423eb80399c0": {
      "model_module": "@jupyter-widgets/base",
      "model_module_version": "1.2.0",
      "model_name": "LayoutModel",
      "state": {}
     },
     "18ee685fcbf6470a906697bf0d1ceb20": {
      "model_module": "@jupyter-widgets/controls",
      "model_module_version": "1.5.0",
      "model_name": "LabelModel",
      "state": {
       "layout": "IPY_MODEL_0df28e80723c48079ccdaa2fe83b6981",
       "style": "IPY_MODEL_decc3096ac5048279dd719f3e16b37de",
       "value": "Input:"
      }
     },
     "191f5ab69cc54079b30ad52949a0182f": {
      "model_module": "@jupyter-widgets/controls",
      "model_module_version": "1.5.0",
      "model_name": "LabelModel",
      "state": {
       "layout": "IPY_MODEL_33684295573a4936bcfc497938824116",
       "style": "IPY_MODEL_8822efe894104d77b3075747eec8ebaa",
       "value": "Write your own code:"
      }
     },
     "19d0143fd5364f50bae755d72cbc3a99": {
      "model_module": "@jupyter-widgets/base",
      "model_module_version": "1.2.0",
      "model_name": "LayoutModel",
      "state": {
       "border": "solid 2px",
       "padding": "1rem"
      }
     },
     "1a81d44471db4339bc12758cc3981a5b": {
      "model_module": "@jupyter-widgets/controls",
      "model_module_version": "1.5.0",
      "model_name": "VBoxModel",
      "state": {
       "children": [
        "IPY_MODEL_b526776cd70a4326b178dfbf322c5e6e",
        "IPY_MODEL_3a4f412e479a4bfaa61bb18f8d8a4c09"
       ],
       "layout": "IPY_MODEL_f5c7a780faff437c9d5de55edc9abb36"
      }
     },
     "1ae214c1e7834fa2ba4f80b3b423b277": {
      "model_module": "@jupyter-widgets/base",
      "model_module_version": "1.2.0",
      "model_name": "LayoutModel",
      "state": {
       "height": "100px",
       "width": "99%"
      }
     },
     "1aed6ab4e470494b9f893e7e960534b8": {
      "model_module": "@jupyter-widgets/base",
      "model_module_version": "1.2.0",
      "model_name": "LayoutModel",
      "state": {}
     },
     "1af55097014143a4a9b3f6068fb4a56b": {
      "model_module": "@jupyter-widgets/controls",
      "model_module_version": "1.5.0",
      "model_name": "DescriptionStyleModel",
      "state": {
       "description_width": ""
      }
     },
     "1b94a9415daa4c27b0638793d6793528": {
      "model_module": "@jupyter-widgets/controls",
      "model_module_version": "1.5.0",
      "model_name": "DescriptionStyleModel",
      "state": {
       "description_width": ""
      }
     },
     "1bc2baadbb2a48069ee49310ee796c80": {
      "model_module": "@jupyter-widgets/controls",
      "model_module_version": "1.5.0",
      "model_name": "LabelModel",
      "state": {
       "layout": "IPY_MODEL_95359a3ea3cf485795e69b6111745ed4",
       "style": "IPY_MODEL_93e0bd6ae4d64bcaa48d5796c2d41c90",
       "value": "Input:"
      }
     },
     "1c38818cbef445baa83a08f405cd7e95": {
      "model_module": "@jupyter-widgets/controls",
      "model_module_version": "1.5.0",
      "model_name": "DescriptionStyleModel",
      "state": {
       "description_width": ""
      }
     },
     "1c8b05dd0f27489eb0b5302200dd900f": {
      "model_module": "@jupyter-widgets/base",
      "model_module_version": "1.2.0",
      "model_name": "LayoutModel",
      "state": {}
     },
     "1ce749eb82c640d782c344e7151c2c70": {
      "model_module": "@jupyter-widgets/base",
      "model_module_version": "1.2.0",
      "model_name": "LayoutModel",
      "state": {}
     },
     "1cffbfbe254d452f836b3eaca67de61f": {
      "model_module": "@jupyter-widgets/controls",
      "model_module_version": "1.5.0",
      "model_name": "DescriptionStyleModel",
      "state": {
       "description_width": ""
      }
     },
     "1dbb155508e2463aa497095620bf962d": {
      "model_module": "@jupyter-widgets/base",
      "model_module_version": "1.2.0",
      "model_name": "LayoutModel",
      "state": {
       "border": "solid 2px",
       "padding": "1rem"
      }
     },
     "1e2fd2f0996748d99d2506f0968744fe": {
      "model_module": "@jupyter-widgets/controls",
      "model_module_version": "1.5.0",
      "model_name": "TextareaModel",
      "state": {
       "layout": "IPY_MODEL_33809a9b2f86441face37962013a74c0",
       "style": "IPY_MODEL_657610501c744e74b0f277cf2abf4467"
      }
     },
     "1e721f32f6594ff084cfd1aeaf50b3cd": {
      "model_module": "@jupyter-widgets/base",
      "model_module_version": "1.2.0",
      "model_name": "LayoutModel",
      "state": {}
     },
     "1e9e78adf7c74ff98b1645c37c78578d": {
      "model_module": "@jupyter-widgets/base",
      "model_module_version": "1.2.0",
      "model_name": "LayoutModel",
      "state": {}
     },
     "1f6fade1ab544f6c99861640cff92e91": {
      "model_module": "@jupyter-widgets/base",
      "model_module_version": "1.2.0",
      "model_name": "LayoutModel",
      "state": {}
     },
     "2038d813241148aa9b0140f27ccef687": {
      "model_module": "@jupyter-widgets/controls",
      "model_module_version": "1.5.0",
      "model_name": "ButtonStyleModel",
      "state": {}
     },
     "2042d9c1885a49f49a04af0f8cfbc419": {
      "model_module": "@jupyter-widgets/controls",
      "model_module_version": "1.5.0",
      "model_name": "DescriptionStyleModel",
      "state": {
       "description_width": ""
      }
     },
     "205622c54573452e83436b1de6ed503f": {
      "model_module": "@jupyter-widgets/controls",
      "model_module_version": "1.5.0",
      "model_name": "DescriptionStyleModel",
      "state": {
       "description_width": ""
      }
     },
     "2058ee66830140b9ab06e1e4e3b44ada": {
      "model_module": "@jupyter-widgets/controls",
      "model_module_version": "1.5.0",
      "model_name": "VBoxModel",
      "state": {
       "layout": "IPY_MODEL_70149f181dba484d835e61d306d04070"
      }
     },
     "20d04eca47dc4e80b35069096d9c0226": {
      "model_module": "@jupyter-widgets/base",
      "model_module_version": "1.2.0",
      "model_name": "LayoutModel",
      "state": {}
     },
     "20daa9145de24e57b75b2e2b4c70873f": {
      "model_module": "@jupyter-widgets/controls",
      "model_module_version": "1.5.0",
      "model_name": "TextareaModel",
      "state": {
       "layout": "IPY_MODEL_c3f4c90dc7754bfab5a3a5af0a51c521",
       "style": "IPY_MODEL_c17e3ba440a148d7b7738d8b86026e55"
      }
     },
     "2187d5d45ea64f9ab3727b15a858c0f7": {
      "model_module": "@jupyter-widgets/base",
      "model_module_version": "1.2.0",
      "model_name": "LayoutModel",
      "state": {}
     },
     "21b6174bd26c437eb8f09320f7909212": {
      "model_module": "@jupyter-widgets/controls",
      "model_module_version": "1.5.0",
      "model_name": "ButtonModel",
      "state": {
       "button_style": "warning",
       "description": "Run Code",
       "icon": "check",
       "layout": "IPY_MODEL_cc5ad5a203f646db991e12296a7260a1",
       "style": "IPY_MODEL_edf279ce52984faca51fce939d119d7e"
      }
     },
     "21b837e125494770a6cd8abdf3092c14": {
      "model_module": "@jupyter-widgets/base",
      "model_module_version": "1.2.0",
      "model_name": "LayoutModel",
      "state": {}
     },
     "21bc7a1d8b494f5d84b40c1da704588a": {
      "model_module": "@jupyter-widgets/base",
      "model_module_version": "1.2.0",
      "model_name": "LayoutModel",
      "state": {
       "height": "100px",
       "width": "99%"
      }
     },
     "222f2614c25947dd930d82f0365e5372": {
      "model_module": "@jupyter-widgets/controls",
      "model_module_version": "1.5.0",
      "model_name": "VBoxModel",
      "state": {
       "layout": "IPY_MODEL_9392ea4b56f0402988e47b08894d578f"
      }
     },
     "226da46cdb2f4de1b77bf0b66aaafe33": {
      "model_module": "@jupyter-widgets/base",
      "model_module_version": "1.2.0",
      "model_name": "LayoutModel",
      "state": {}
     },
     "22c19096a8c1499da6577b6553987232": {
      "model_module": "@jupyter-widgets/controls",
      "model_module_version": "1.5.0",
      "model_name": "DescriptionStyleModel",
      "state": {
       "description_width": ""
      }
     },
     "235e0837f334493499eba83e3f88f6c5": {
      "model_module": "@jupyter-widgets/controls",
      "model_module_version": "1.5.0",
      "model_name": "VBoxModel",
      "state": {
       "children": [
        "IPY_MODEL_ccde647f43ff47cd800559b9e89361c3",
        "IPY_MODEL_fe1892f0aae44b639842ca11458666f5",
        "IPY_MODEL_7d5fee1f4ed84858abe7ab45516dff34",
        "IPY_MODEL_402f2462de084dfba18c058bf26fc70b"
       ],
       "layout": "IPY_MODEL_0b8505297159413e90631e2594bc3f7c"
      }
     },
     "2396c96c36384ed88bb90aae4eb6c2c3": {
      "model_module": "@jupyter-widgets/controls",
      "model_module_version": "1.5.0",
      "model_name": "DescriptionStyleModel",
      "state": {
       "description_width": ""
      }
     },
     "23bac4f9108f4498b008c8aede3140f4": {
      "model_module": "@jupyter-widgets/controls",
      "model_module_version": "1.5.0",
      "model_name": "LabelModel",
      "state": {
       "layout": "IPY_MODEL_d45bfa56c92f4132add6f92e41d6c741",
       "style": "IPY_MODEL_d2416e58caea4fec9b67d1694eb8de2a",
       "value": "Output: "
      }
     },
     "240d9fb8631547c1b0aa1a766c5e4354": {
      "model_module": "@jupyter-widgets/base",
      "model_module_version": "1.2.0",
      "model_name": "LayoutModel",
      "state": {
       "height": "200px",
       "width": "99%"
      }
     },
     "2458787867594d56981dfe099f33b2e2": {
      "model_module": "@jupyter-widgets/controls",
      "model_module_version": "1.5.0",
      "model_name": "DescriptionStyleModel",
      "state": {
       "description_width": ""
      }
     },
     "249fcb057058403295bc750b212d12ff": {
      "model_module": "@jupyter-widgets/base",
      "model_module_version": "1.2.0",
      "model_name": "LayoutModel",
      "state": {
       "border": "solid 2px",
       "padding": "1rem"
      }
     },
     "24f93b6df6ad4801842d260322db39bf": {
      "model_module": "@jupyter-widgets/controls",
      "model_module_version": "1.5.0",
      "model_name": "HTMLModel",
      "state": {
       "layout": "IPY_MODEL_09c1ed5261b24bfcb0e4ce67b90e19a9",
       "style": "IPY_MODEL_4a867d6b8500445c95276fa5169bb4be",
       "value": "(2) Suppose a new instruction was inserted as follows:  <br><br>z = x + y<br>Add 1 more to z (new instruction)<br>Put z to output<br><br>What would the last instruction then output to the screen?<br>"
      }
     },
     "2530014a994b4338b3182fca6177c4d5": {
      "model_module": "@jupyter-widgets/base",
      "model_module_version": "1.2.0",
      "model_name": "LayoutModel",
      "state": {
       "width": "90px"
      }
     },
     "253989aa20984d8390f7ac863a74f5d8": {
      "model_module": "@jupyter-widgets/controls",
      "model_module_version": "1.5.0",
      "model_name": "TextareaModel",
      "state": {
       "layout": "IPY_MODEL_31c5175dbf324af7bbaf176857ffe8a4",
       "placeholder": "",
       "style": "IPY_MODEL_1af55097014143a4a9b3f6068fb4a56b",
       "value": "#include <stdio.h>\n\nint main(void) {\n int a;\n scanf(\"%d\", &a);\n printf(\"%d\\n\", a);\n return 0;\n}"
      }
     },
     "254bedaf90204af4b464de0cfa708cf4": {
      "model_module": "@jupyter-widgets/controls",
      "model_module_version": "1.5.0",
      "model_name": "LabelModel",
      "state": {
       "layout": "IPY_MODEL_31cada6e4aa24385b5c54dc862547032",
       "style": "IPY_MODEL_6835258dc8134edd89a82662ba6402ab",
       "value": "Write your own code:"
      }
     },
     "2640199952e344ab9cdab6ead35d4aa0": {
      "model_module": "@jupyter-widgets/controls",
      "model_module_version": "1.5.0",
      "model_name": "TextModel",
      "state": {
       "layout": "IPY_MODEL_8902db139a904089ab316bc8f7137d41",
       "style": "IPY_MODEL_2dce218ba3d144638efc3b94abc69361"
      }
     },
     "2687fa121fd04a778f1fa60bd8767e24": {
      "model_module": "@jupyter-widgets/controls",
      "model_module_version": "1.5.0",
      "model_name": "DescriptionStyleModel",
      "state": {
       "description_width": ""
      }
     },
     "268832c1bab54971b358a928a09f1995": {
      "model_module": "@jupyter-widgets/controls",
      "model_module_version": "1.5.0",
      "model_name": "TextareaModel",
      "state": {
       "layout": "IPY_MODEL_7cb00da508e345bdb78facf915d40170",
       "style": "IPY_MODEL_0e7f841b6964452685f23be49175ef3b"
      }
     },
     "26bb2c9c55954f0cb2a3b46523c1dd86": {
      "model_module": "@jupyter-widgets/controls",
      "model_module_version": "1.5.0",
      "model_name": "ButtonStyleModel",
      "state": {}
     },
     "26c52d39998b42f5a4011ff8bdab6662": {
      "model_module": "@jupyter-widgets/controls",
      "model_module_version": "1.5.0",
      "model_name": "DescriptionStyleModel",
      "state": {
       "description_width": ""
      }
     },
     "26c759ca169e45f59363a69f057a4f04": {
      "model_module": "@jupyter-widgets/base",
      "model_module_version": "1.2.0",
      "model_name": "LayoutModel",
      "state": {}
     },
     "27266a4ce8df4444833b772a4487d681": {
      "model_module": "@jupyter-widgets/base",
      "model_module_version": "1.2.0",
      "model_name": "LayoutModel",
      "state": {
       "width": "100%"
      }
     },
     "274b1cb6f64343da9becc217a330d5dd": {
      "model_module": "@jupyter-widgets/controls",
      "model_module_version": "1.5.0",
      "model_name": "DescriptionStyleModel",
      "state": {
       "description_width": ""
      }
     },
     "27b3599653db416a9cfbf8a80d56665e": {
      "model_module": "@jupyter-widgets/controls",
      "model_module_version": "1.5.0",
      "model_name": "DescriptionStyleModel",
      "state": {
       "description_width": ""
      }
     },
     "281080fb820d4ce099e86ac62f94b426": {
      "model_module": "@jupyter-widgets/base",
      "model_module_version": "1.2.0",
      "model_name": "LayoutModel",
      "state": {}
     },
     "282680b31da2470e86f49f0babfe86b3": {
      "model_module": "@jupyter-widgets/base",
      "model_module_version": "1.2.0",
      "model_name": "LayoutModel",
      "state": {}
     },
     "28aea4f4bdf9430cb5a7c28bd1581d99": {
      "model_module": "@jupyter-widgets/controls",
      "model_module_version": "1.5.0",
      "model_name": "DescriptionStyleModel",
      "state": {
       "description_width": ""
      }
     },
     "28b3ec3cd0bd42348fe03db824dc1cb2": {
      "model_module": "@jupyter-widgets/controls",
      "model_module_version": "1.5.0",
      "model_name": "ButtonStyleModel",
      "state": {}
     },
     "29108adf68e649eb9535c623bd1f0f8f": {
      "model_module": "@jupyter-widgets/base",
      "model_module_version": "1.2.0",
      "model_name": "LayoutModel",
      "state": {}
     },
     "29639eb8350340a8b17b0471571f8e18": {
      "model_module": "@jupyter-widgets/base",
      "model_module_version": "1.2.0",
      "model_name": "LayoutModel",
      "state": {
       "width": "90px"
      }
     },
     "29875c37e6c64b87aec725a2005460dc": {
      "model_module": "@jupyter-widgets/controls",
      "model_module_version": "1.5.0",
      "model_name": "DescriptionStyleModel",
      "state": {
       "description_width": ""
      }
     },
     "29c02ca1f3c6470e910fd87c2fd0d04c": {
      "model_module": "@jupyter-widgets/controls",
      "model_module_version": "1.5.0",
      "model_name": "DescriptionStyleModel",
      "state": {
       "description_width": ""
      }
     },
     "29fd55ff47b14cdaaa2d51bc288138be": {
      "model_module": "@jupyter-widgets/controls",
      "model_module_version": "1.5.0",
      "model_name": "DescriptionStyleModel",
      "state": {
       "description_width": ""
      }
     },
     "2a6ba6c3b21a4a4e9406386d7be6b1b1": {
      "model_module": "@jupyter-widgets/base",
      "model_module_version": "1.2.0",
      "model_name": "LayoutModel",
      "state": {}
     },
     "2ac00aaf43514c7f9559aca4fa7131a0": {
      "model_module": "@jupyter-widgets/controls",
      "model_module_version": "1.5.0",
      "model_name": "CheckboxModel",
      "state": {
       "disabled": true,
       "layout": "IPY_MODEL_eaab7d3e6c2d4eeeadc50e2e08d58819",
       "style": "IPY_MODEL_7f32f12e70244579831efc13faaed967",
       "value": true
      }
     },
     "2bdd440e749e4b4f80488d4c1543a319": {
      "model_module": "@jupyter-widgets/controls",
      "model_module_version": "1.5.0",
      "model_name": "VBoxModel",
      "state": {
       "children": [
        "IPY_MODEL_1bc2baadbb2a48069ee49310ee796c80",
        "IPY_MODEL_05e77207607a4701aa5877d166fcae50"
       ],
       "layout": "IPY_MODEL_4fe8794b6e8a46aa8e518caa3406e5c7"
      }
     },
     "2c2f8352b1c84ff89e8d6d76854c6b42": {
      "model_module": "@jupyter-widgets/controls",
      "model_module_version": "1.5.0",
      "model_name": "DescriptionStyleModel",
      "state": {
       "description_width": ""
      }
     },
     "2c8f834318ec4df68f05168ae3e27bdd": {
      "model_module": "@jupyter-widgets/base",
      "model_module_version": "1.2.0",
      "model_name": "LayoutModel",
      "state": {}
     },
     "2cc207bb462341bfb5811dd0cb32f592": {
      "model_module": "@jupyter-widgets/base",
      "model_module_version": "1.2.0",
      "model_name": "LayoutModel",
      "state": {}
     },
     "2cdd3aa4c7ea46309f9cd066028b3be3": {
      "model_module": "@jupyter-widgets/controls",
      "model_module_version": "1.5.0",
      "model_name": "ButtonStyleModel",
      "state": {}
     },
     "2cdd52a6cd694a9d9a714aba5846f392": {
      "model_module": "@jupyter-widgets/controls",
      "model_module_version": "1.5.0",
      "model_name": "HTMLModel",
      "state": {
       "layout": "IPY_MODEL_cf0724fedd264f1a80b305c767d0b531",
       "style": "IPY_MODEL_e1450845e91b42028a9a2771e65e4273",
       "value": "(1) The program has a total number of _____ instructions"
      }
     },
     "2d878ba270dd425d8520d6b75788dc3f": {
      "model_module": "@jupyter-widgets/controls",
      "model_module_version": "1.5.0",
      "model_name": "ToggleButtonModel",
      "state": {
       "description": "Show code",
       "layout": "IPY_MODEL_550eee804ac44c469be9df421b8bbab4",
       "style": "IPY_MODEL_2458787867594d56981dfe099f33b2e2"
      }
     },
     "2d9e209cc59e4ec2b5c2c23d4109a87c": {
      "model_module": "@jupyter-widgets/base",
      "model_module_version": "1.2.0",
      "model_name": "LayoutModel",
      "state": {
       "border": "solid 2px",
       "padding": "1rem"
      }
     },
     "2dce218ba3d144638efc3b94abc69361": {
      "model_module": "@jupyter-widgets/controls",
      "model_module_version": "1.5.0",
      "model_name": "DescriptionStyleModel",
      "state": {
       "description_width": ""
      }
     },
     "2defb8a0f1b0457e9c2947432ac22ef4": {
      "model_module": "@jupyter-widgets/controls",
      "model_module_version": "1.5.0",
      "model_name": "TextareaModel",
      "state": {
       "layout": "IPY_MODEL_c0bc4e6ec67f4200aa6bcb8c1b83af70",
       "style": "IPY_MODEL_37c344c720114b2d9cfb53b688573789"
      }
     },
     "2e56055f95f54f87aae09c4c512522ba": {
      "model_module": "@jupyter-widgets/controls",
      "model_module_version": "1.5.0",
      "model_name": "VBoxModel",
      "state": {
       "children": [
        "IPY_MODEL_60c0fdd9cb5044af9fa5067d8c0d3b9c",
        "IPY_MODEL_a80cca4b28b645259a24685a28a2e8da",
        "IPY_MODEL_94b9060fa3db45aca6e0dade13ba9913",
        "IPY_MODEL_b718a17d66d946c8a8c233318a2361ae"
       ],
       "layout": "IPY_MODEL_5781612ebf4341f48d615253c20136d1"
      }
     },
     "2e7b5e3dcd8746bcbc22563020c419a8": {
      "model_module": "@jupyter-widgets/base",
      "model_module_version": "1.2.0",
      "model_name": "LayoutModel",
      "state": {
       "border": "solid 2px",
       "padding": "1rem"
      }
     },
     "2ea8997681004c0180d0791211a9c17d": {
      "model_module": "@jupyter-widgets/base",
      "model_module_version": "1.2.0",
      "model_name": "LayoutModel",
      "state": {}
     },
     "2ebcc09c412b4bee80d8ec44ca608716": {
      "model_module": "@jupyter-widgets/controls",
      "model_module_version": "1.5.0",
      "model_name": "RadioButtonsModel",
      "state": {
       "index": null,
       "layout": "IPY_MODEL_c00165e3a3b74e3182f3e5270f7fbd8a",
       "style": "IPY_MODEL_b98d51980a684af9910fe502e888b00d"
      }
     },
     "2edd75b893ff461ea2013aff48a0068f": {
      "model_module": "@jupyter-widgets/controls",
      "model_module_version": "1.5.0",
      "model_name": "ButtonStyleModel",
      "state": {}
     },
     "2fe6dd0770f04c538fd69cfd3617ac87": {
      "model_module": "@jupyter-widgets/base",
      "model_module_version": "1.2.0",
      "model_name": "LayoutModel",
      "state": {
       "border": "solid 2px",
       "padding": "1rem"
      }
     },
     "3084a17084a546128a875a6173afd326": {
      "model_module": "@jupyter-widgets/controls",
      "model_module_version": "1.5.0",
      "model_name": "HTMLModel",
      "state": {
       "layout": "IPY_MODEL_7240015d37154f75af8a69c3bedf8f67",
       "style": "IPY_MODEL_d3c25b4ee4e64926a4184a3179c903ba"
      }
     },
     "30a7638148d54940a1d5109435476092": {
      "model_module": "@jupyter-widgets/base",
      "model_module_version": "1.2.0",
      "model_name": "LayoutModel",
      "state": {}
     },
     "31459ae926694abea87f201e203346fd": {
      "model_module": "@jupyter-widgets/controls",
      "model_module_version": "1.5.0",
      "model_name": "ButtonStyleModel",
      "state": {}
     },
     "31a67d240448445a95406aa4021202de": {
      "model_module": "@jupyter-widgets/base",
      "model_module_version": "1.2.0",
      "model_name": "LayoutModel",
      "state": {}
     },
     "31c5175dbf324af7bbaf176857ffe8a4": {
      "model_module": "@jupyter-widgets/base",
      "model_module_version": "1.2.0",
      "model_name": "LayoutModel",
      "state": {
       "height": "200px",
       "width": "99%"
      }
     },
     "31c908579f2b4b6f9ac046e216a8e47f": {
      "model_module": "@jupyter-widgets/base",
      "model_module_version": "1.2.0",
      "model_name": "LayoutModel",
      "state": {}
     },
     "31cada6e4aa24385b5c54dc862547032": {
      "model_module": "@jupyter-widgets/base",
      "model_module_version": "1.2.0",
      "model_name": "LayoutModel",
      "state": {}
     },
     "325c5e408db94aaf8ab01734b9edccca": {
      "model_module": "@jupyter-widgets/controls",
      "model_module_version": "1.5.0",
      "model_name": "VBoxModel",
      "state": {
       "layout": "IPY_MODEL_f76c21a447414e178c76030d943d1904"
      }
     },
     "327c52e8c71349c2a65f461b4b01737f": {
      "model_module": "@jupyter-widgets/base",
      "model_module_version": "1.2.0",
      "model_name": "LayoutModel",
      "state": {}
     },
     "329edea5bc9146e38ed68386b7aaa657": {
      "model_module": "@jupyter-widgets/controls",
      "model_module_version": "1.5.0",
      "model_name": "HTMLModel",
      "state": {
       "layout": "IPY_MODEL_f5a29e58e3744cfa8368789a7ec8fd57",
       "style": "IPY_MODEL_0fe7b88c66ad4056acbe298337246e06",
       "value": "<font color='green'> A triangle's area is (1/2) * base * height."
      }
     },
     "32d27c945ef24e60a54366fcd90a8e4b": {
      "model_module": "@jupyter-widgets/base",
      "model_module_version": "1.2.0",
      "model_name": "LayoutModel",
      "state": {
       "height": "200px",
       "width": "99%"
      }
     },
     "330fc32c91b349d7a3f1d56f467bc9bb": {
      "model_module": "@jupyter-widgets/base",
      "model_module_version": "1.2.0",
      "model_name": "LayoutModel",
      "state": {}
     },
     "33348730d90a4192b8453b4303f3b672": {
      "model_module": "@jupyter-widgets/base",
      "model_module_version": "1.2.0",
      "model_name": "LayoutModel",
      "state": {}
     },
     "33684295573a4936bcfc497938824116": {
      "model_module": "@jupyter-widgets/base",
      "model_module_version": "1.2.0",
      "model_name": "LayoutModel",
      "state": {}
     },
     "33809a9b2f86441face37962013a74c0": {
      "model_module": "@jupyter-widgets/base",
      "model_module_version": "1.2.0",
      "model_name": "LayoutModel",
      "state": {}
     },
     "33b0515e7f974fbe9be75f90e778f6d3": {
      "model_module": "@jupyter-widgets/base",
      "model_module_version": "1.2.0",
      "model_name": "LayoutModel",
      "state": {}
     },
     "33ed293d84e24b4d806dd0896446534f": {
      "model_module": "@jupyter-widgets/controls",
      "model_module_version": "1.5.0",
      "model_name": "VBoxModel",
      "state": {
       "children": [
        "IPY_MODEL_ef1b058899ef4947b5bc8d9d822e1f86",
        "IPY_MODEL_86a8ea34755c46ffa0153a24d47d5536"
       ],
       "layout": "IPY_MODEL_1aed6ab4e470494b9f893e7e960534b8"
      }
     },
     "345880e2e12d42049be10d1033600a63": {
      "model_module": "@jupyter-widgets/controls",
      "model_module_version": "1.5.0",
      "model_name": "ButtonStyleModel",
      "state": {}
     },
     "34dfa106e6b344f4a82929b15d126ea2": {
      "model_module": "@jupyter-widgets/base",
      "model_module_version": "1.2.0",
      "model_name": "LayoutModel",
      "state": {}
     },
     "34f57cbf10a94e22a4b3aa0430762731": {
      "model_module": "@jupyter-widgets/controls",
      "model_module_version": "1.5.0",
      "model_name": "CheckboxModel",
      "state": {
       "disabled": true,
       "layout": "IPY_MODEL_72ca49aa96fb4b86990152a329b4656c",
       "style": "IPY_MODEL_b910ff85484647df9cc4b615b1d5ebe3",
       "value": false
      }
     },
     "3503bf447387407c86556fdb7ace089f": {
      "model_module": "@jupyter-widgets/controls",
      "model_module_version": "1.5.0",
      "model_name": "VBoxModel",
      "state": {
       "children": [
        "IPY_MODEL_2cdd52a6cd694a9d9a714aba5846f392",
        "IPY_MODEL_0dfa516afe894c4aa2a76268550701f3",
        "IPY_MODEL_65b79b695ed145d8ba78f2319ee57b11",
        "IPY_MODEL_f0436905f7174f93b857f143098c7d99"
       ],
       "layout": "IPY_MODEL_c2acb248f43f49818ae5809b5aa05450"
      }
     },
     "35827d1c806d4b15b571f62c8328135a": {
      "model_module": "@jupyter-widgets/base",
      "model_module_version": "1.2.0",
      "model_name": "LayoutModel",
      "state": {}
     },
     "35fb7d8513ed4f9ea70b0a2afe2ea4dd": {
      "model_module": "@jupyter-widgets/base",
      "model_module_version": "1.2.0",
      "model_name": "LayoutModel",
      "state": {}
     },
     "36660b8f2d4349c7aa3d6a6dbaaf0cfd": {
      "model_module": "@jupyter-widgets/base",
      "model_module_version": "1.2.0",
      "model_name": "LayoutModel",
      "state": {
       "border": "solid 2px",
       "padding": "1rem"
      }
     },
     "368d0bdf9477454c9c4cbee27aa13ccf": {
      "model_module": "@jupyter-widgets/base",
      "model_module_version": "1.2.0",
      "model_name": "LayoutModel",
      "state": {
       "height": "200px",
       "width": "99%"
      }
     },
     "36ff0576975749a9aa290bda1d9f3166": {
      "model_module": "@jupyter-widgets/controls",
      "model_module_version": "1.5.0",
      "model_name": "ButtonStyleModel",
      "state": {}
     },
     "3712c9f2498748209c10f6c85107f09c": {
      "model_module": "@jupyter-widgets/base",
      "model_module_version": "1.2.0",
      "model_name": "LayoutModel",
      "state": {}
     },
     "375abee446784251873f7ca464c42b1b": {
      "model_module": "@jupyter-widgets/controls",
      "model_module_version": "1.5.0",
      "model_name": "DescriptionStyleModel",
      "state": {
       "description_width": ""
      }
     },
     "37c344c720114b2d9cfb53b688573789": {
      "model_module": "@jupyter-widgets/controls",
      "model_module_version": "1.5.0",
      "model_name": "DescriptionStyleModel",
      "state": {
       "description_width": ""
      }
     },
     "380f4634ad364f97a215fd069683f823": {
      "model_module": "@jupyter-widgets/base",
      "model_module_version": "1.2.0",
      "model_name": "LayoutModel",
      "state": {}
     },
     "384eac4576dc42beb5c3a8e8d1991107": {
      "model_module": "@jupyter-widgets/controls",
      "model_module_version": "1.5.0",
      "model_name": "LabelModel",
      "state": {
       "layout": "IPY_MODEL_837d2e7830cb4d45a84c34e8e4b4cc8c",
       "style": "IPY_MODEL_5c68da6c0a5b4065834ed5bf32969468",
       "value": "Output: "
      }
     },
     "39bc11632ec748e782a2b140600ddcfd": {
      "model_module": "@jupyter-widgets/base",
      "model_module_version": "1.2.0",
      "model_name": "LayoutModel",
      "state": {}
     },
     "3a010670528549a6b65bd0b9282544f0": {
      "model_module": "@jupyter-widgets/controls",
      "model_module_version": "1.5.0",
      "model_name": "VBoxModel",
      "state": {
       "children": [
        "IPY_MODEL_e4a2f2e7927e4250a8e66060c27a8434",
        "IPY_MODEL_b1c1b7fce9ca4192b20da95bd48f4dfb",
        "IPY_MODEL_a19c7ec249074a8f95a1e4c174993ad1",
        "IPY_MODEL_e380f29ef50a462ba67fe242f06ae2a3"
       ],
       "layout": "IPY_MODEL_2d9e209cc59e4ec2b5c2c23d4109a87c"
      }
     },
     "3a4859fd24424146a3f3095e9f60de7c": {
      "model_module": "@jupyter-widgets/controls",
      "model_module_version": "1.5.0",
      "model_name": "DescriptionStyleModel",
      "state": {
       "description_width": ""
      }
     },
     "3a4f412e479a4bfaa61bb18f8d8a4c09": {
      "model_module": "@jupyter-widgets/controls",
      "model_module_version": "1.5.0",
      "model_name": "TextareaModel",
      "state": {
       "disabled": true,
       "layout": "IPY_MODEL_ca88f096b67f4b3491314daa9732b5f5",
       "placeholder": "",
       "style": "IPY_MODEL_1c38818cbef445baa83a08f405cd7e95"
      }
     },
     "3b0edd59426644e9b3a2f5d9bf6a4000": {
      "model_module": "@jupyter-widgets/controls",
      "model_module_version": "1.5.0",
      "model_name": "DescriptionStyleModel",
      "state": {
       "description_width": ""
      }
     },
     "3b4e039d5e854d79a57934ccf2dc5df2": {
      "model_module": "@jupyter-widgets/controls",
      "model_module_version": "1.5.0",
      "model_name": "TextareaModel",
      "state": {
       "layout": "IPY_MODEL_dc6b52835e5046c1af6c881c67cc9570",
       "style": "IPY_MODEL_28aea4f4bdf9430cb5a7c28bd1581d99"
      }
     },
     "3b8b959f4b60428cb73c4b92c9f4e056": {
      "model_module": "@jupyter-widgets/controls",
      "model_module_version": "1.5.0",
      "model_name": "CheckboxModel",
      "state": {
       "disabled": true,
       "layout": "IPY_MODEL_dfcd4599cb464d2d8615ebf9e572762a",
       "style": "IPY_MODEL_119f37bb430b4a568789e6736401ad5d",
       "value": true
      }
     },
     "3bf3ef872f6845abb2bdec1e7858070b": {
      "model_module": "@jupyter-widgets/controls",
      "model_module_version": "1.5.0",
      "model_name": "VBoxModel",
      "state": {
       "layout": "IPY_MODEL_0694eb9987fa47cf88724284ce74d4f1"
      }
     },
     "3c26026492004dfab9057086c1a81111": {
      "model_module": "@jupyter-widgets/controls",
      "model_module_version": "1.5.0",
      "model_name": "ButtonStyleModel",
      "state": {}
     },
     "3ccb0adff77f4856b0bcf3270cfebbee": {
      "model_module": "@jupyter-widgets/controls",
      "model_module_version": "1.5.0",
      "model_name": "LabelModel",
      "state": {
       "layout": "IPY_MODEL_44da74b545a644d78fb84a8a0a74c30e",
       "style": "IPY_MODEL_bec7dcb7e8ce423e8e397d05bf9959a3",
       "value": "Output:"
      }
     },
     "3d471f76d38047f9a8df8f761538cda8": {
      "model_module": "@jupyter-widgets/controls",
      "model_module_version": "1.5.0",
      "model_name": "DescriptionStyleModel",
      "state": {
       "description_width": ""
      }
     },
     "3db2ff0a369e42dbb7a377bc05dbeb69": {
      "model_module": "@jupyter-widgets/controls",
      "model_module_version": "1.5.0",
      "model_name": "DescriptionStyleModel",
      "state": {
       "description_width": ""
      }
     },
     "3dec92c873db48099b0e61584e9665e3": {
      "model_module": "@jupyter-widgets/controls",
      "model_module_version": "1.5.0",
      "model_name": "LabelModel",
      "state": {
       "layout": "IPY_MODEL_782d6b37a1454e5d808e094b1ad73993",
       "style": "IPY_MODEL_51a0e060b97842688456adafcedf7451",
       "value": "Write your own code:"
      }
     },
     "3e324321a7d444bb974daa11e4d09938": {
      "model_module": "@jupyter-widgets/controls",
      "model_module_version": "1.5.0",
      "model_name": "TextModel",
      "state": {
       "layout": "IPY_MODEL_20d04eca47dc4e80b35069096d9c0226",
       "style": "IPY_MODEL_972d93e14eb2490ca48ed1c95f90f344",
       "value": "8"
      }
     },
     "3e3610aa9253430a9877efbb2e8f73f4": {
      "model_module": "@jupyter-widgets/controls",
      "model_module_version": "1.5.0",
      "model_name": "TextareaModel",
      "state": {
       "layout": "IPY_MODEL_9512a4212de843a2ad35404c97505a5f",
       "placeholder": "",
       "style": "IPY_MODEL_0305b4bb247940b1bc6d9cfbd56b717d"
      }
     },
     "3e785854f68b4f82bd64af31e26bc14a": {
      "model_module": "@jupyter-widgets/controls",
      "model_module_version": "1.5.0",
      "model_name": "ButtonModel",
      "state": {
       "button_style": "warning",
       "description": "Check",
       "icon": "check",
       "layout": "IPY_MODEL_29639eb8350340a8b17b0471571f8e18",
       "style": "IPY_MODEL_70fbe3a2f9e6482ab3bbb0e9c56f1bfd"
      }
     },
     "3f91f61c7b574c8da70d5e5676059c7f": {
      "model_module": "@jupyter-widgets/controls",
      "model_module_version": "1.5.0",
      "model_name": "DescriptionStyleModel",
      "state": {
       "description_width": ""
      }
     },
     "3fc1f5a699f242bfb5572864d2df5baf": {
      "model_module": "@jupyter-widgets/controls",
      "model_module_version": "1.5.0",
      "model_name": "DescriptionStyleModel",
      "state": {
       "description_width": ""
      }
     },
     "402f2462de084dfba18c058bf26fc70b": {
      "model_module": "@jupyter-widgets/controls",
      "model_module_version": "1.5.0",
      "model_name": "HTMLModel",
      "state": {
       "layout": "IPY_MODEL_57d6b549595a43e6a102a454b8a456d0",
       "style": "IPY_MODEL_06293a450c3541e88ead47829a71ef90",
       "value": "<font color='green'> A triangle's area is (1/2) * base * height."
      }
     },
     "4094ab0a73b34eb68e9a2433e2d2b063": {
      "model_module": "@jupyter-widgets/controls",
      "model_module_version": "1.5.0",
      "model_name": "HBoxModel",
      "state": {
       "children": [
        "IPY_MODEL_e5f7c1dcd698486ca01e8cfa8d330fa8",
        "IPY_MODEL_2ac00aaf43514c7f9559aca4fa7131a0",
        "IPY_MODEL_a2eea331aaac4b5f996d9cef5a05058b"
       ],
       "layout": "IPY_MODEL_c0ea609ec9d74f8b9a90aceb3b18035e"
      }
     },
     "409be95e044346ada0fb54a02e0c3b4d": {
      "model_module": "@jupyter-widgets/controls",
      "model_module_version": "1.5.0",
      "model_name": "DescriptionStyleModel",
      "state": {
       "description_width": ""
      }
     },
     "4140ae2da8fe42d1a72c96abde9b52b2": {
      "model_module": "@jupyter-widgets/base",
      "model_module_version": "1.2.0",
      "model_name": "LayoutModel",
      "state": {}
     },
     "4187993c60a14a8c933161d2720e5214": {
      "model_module": "@jupyter-widgets/controls",
      "model_module_version": "1.5.0",
      "model_name": "DescriptionStyleModel",
      "state": {
       "description_width": ""
      }
     },
     "41c5e95917d3439ca3c080027cb473fe": {
      "model_module": "@jupyter-widgets/base",
      "model_module_version": "1.2.0",
      "model_name": "LayoutModel",
      "state": {}
     },
     "420d25a3569e419697ce416a7335467a": {
      "model_module": "@jupyter-widgets/controls",
      "model_module_version": "1.5.0",
      "model_name": "DescriptionStyleModel",
      "state": {
       "description_width": ""
      }
     },
     "429f401704cd4bc7b6686e2f53f858d1": {
      "model_module": "@jupyter-widgets/controls",
      "model_module_version": "1.5.0",
      "model_name": "ButtonModel",
      "state": {
       "button_style": "success",
       "description": "Correct",
       "icon": "check",
       "layout": "IPY_MODEL_7b6af887121f4b4fb81dfc70230b980f",
       "style": "IPY_MODEL_5f3ea89f284947aea3915101d08ad74e"
      }
     },
     "42f685999a3a4c91b47e00e028381ee3": {
      "model_module": "@jupyter-widgets/controls",
      "model_module_version": "1.5.0",
      "model_name": "DescriptionStyleModel",
      "state": {
       "description_width": ""
      }
     },
     "43013da028fb4c8ab75252cbb89b89fb": {
      "model_module": "@jupyter-widgets/controls",
      "model_module_version": "1.5.0",
      "model_name": "DescriptionStyleModel",
      "state": {
       "description_width": ""
      }
     },
     "4497a6bbbf3f4b4993e3bf5acaeb8d47": {
      "model_module": "@jupyter-widgets/controls",
      "model_module_version": "1.5.0",
      "model_name": "VBoxModel",
      "state": {
       "children": [
        "IPY_MODEL_dfbfbaffe0d54156b5d8f20e4f721527",
        "IPY_MODEL_bfe39f38452a42ef8d75e51d07cf9046"
       ],
       "layout": "IPY_MODEL_5fd1676a80ca414cb35c80aa5842c543"
      }
     },
     "44da74b545a644d78fb84a8a0a74c30e": {
      "model_module": "@jupyter-widgets/base",
      "model_module_version": "1.2.0",
      "model_name": "LayoutModel",
      "state": {}
     },
     "459068a4d35d4c11b319d10c5802c3f9": {
      "model_module": "@jupyter-widgets/controls",
      "model_module_version": "1.5.0",
      "model_name": "VBoxModel",
      "state": {
       "layout": "IPY_MODEL_b86d8ac9662a4aeb9c633c86488ac7d8"
      }
     },
     "45b27fc9ceb8479c924654badbfb27e2": {
      "model_module": "@jupyter-widgets/controls",
      "model_module_version": "1.5.0",
      "model_name": "LabelModel",
      "state": {
       "layout": "IPY_MODEL_330fc32c91b349d7a3f1d56f467bc9bb",
       "style": "IPY_MODEL_da9047252de64f168590451009952ea8",
       "value": "Participation: 33%"
      }
     },
     "4666b21c266543ebb2074b8a72f46683": {
      "model_module": "@jupyter-widgets/controls",
      "model_module_version": "1.5.0",
      "model_name": "DescriptionStyleModel",
      "state": {
       "description_width": ""
      }
     },
     "469c039c2b8e428cbda88c98ccc12d57": {
      "model_module": "@jupyter-widgets/controls",
      "model_module_version": "1.5.0",
      "model_name": "DescriptionStyleModel",
      "state": {
       "description_width": ""
      }
     },
     "46d77e5052ee4eafb26d87b57f8da4e8": {
      "model_module": "@jupyter-widgets/base",
      "model_module_version": "1.2.0",
      "model_name": "LayoutModel",
      "state": {
       "border": "solid 2px",
       "padding": "1rem"
      }
     },
     "473b4af5a8024778bfd7251c3626901a": {
      "model_module": "@jupyter-widgets/controls",
      "model_module_version": "1.5.0",
      "model_name": "DescriptionStyleModel",
      "state": {
       "description_width": ""
      }
     },
     "473ba74670e34103880e9faedc5523ff": {
      "model_module": "@jupyter-widgets/base",
      "model_module_version": "1.2.0",
      "model_name": "LayoutModel",
      "state": {
       "width": "90px"
      }
     },
     "478c0bb754204930afcbcdefde49ee6f": {
      "model_module": "@jupyter-widgets/base",
      "model_module_version": "1.2.0",
      "model_name": "LayoutModel",
      "state": {
       "height": "100px",
       "width": "250px"
      }
     },
     "486fa5a092c5479c96395d9dc59ec00b": {
      "model_module": "@jupyter-widgets/base",
      "model_module_version": "1.2.0",
      "model_name": "LayoutModel",
      "state": {}
     },
     "48f004c69be24fa59c2a170d068123c0": {
      "model_module": "@jupyter-widgets/controls",
      "model_module_version": "1.5.0",
      "model_name": "DescriptionStyleModel",
      "state": {
       "description_width": ""
      }
     },
     "48fb06e211564755aab591aaa6b15179": {
      "model_module": "@jupyter-widgets/controls",
      "model_module_version": "1.5.0",
      "model_name": "DescriptionStyleModel",
      "state": {
       "description_width": ""
      }
     },
     "4978d97553a74a278d5992a43d6fee30": {
      "model_module": "@jupyter-widgets/controls",
      "model_module_version": "1.5.0",
      "model_name": "DescriptionStyleModel",
      "state": {
       "description_width": ""
      }
     },
     "4a570eb8d7d9405681b731abc667190a": {
      "model_module": "@jupyter-widgets/base",
      "model_module_version": "1.2.0",
      "model_name": "LayoutModel",
      "state": {}
     },
     "4a867d6b8500445c95276fa5169bb4be": {
      "model_module": "@jupyter-widgets/controls",
      "model_module_version": "1.5.0",
      "model_name": "DescriptionStyleModel",
      "state": {
       "description_width": ""
      }
     },
     "4b6be7b3a478427fac8ba9b494b6fcb4": {
      "model_module": "@jupyter-widgets/base",
      "model_module_version": "1.2.0",
      "model_name": "LayoutModel",
      "state": {}
     },
     "4b8da66c52d74ea8ae7b6e6de3511162": {
      "model_module": "@jupyter-widgets/base",
      "model_module_version": "1.2.0",
      "model_name": "LayoutModel",
      "state": {}
     },
     "4bd19127506f4786b241b8e476e37da0": {
      "model_module": "@jupyter-widgets/controls",
      "model_module_version": "1.5.0",
      "model_name": "DescriptionStyleModel",
      "state": {
       "description_width": ""
      }
     },
     "4c104b636b4443deaa5ec2ca00140045": {
      "model_module": "@jupyter-widgets/controls",
      "model_module_version": "1.5.0",
      "model_name": "HBoxModel",
      "state": {
       "children": [
        "IPY_MODEL_578ab267d25e427f8949c28e7c6d25b4",
        "IPY_MODEL_33ed293d84e24b4d806dd0896446534f"
       ],
       "layout": "IPY_MODEL_486fa5a092c5479c96395d9dc59ec00b"
      }
     },
     "4c15c2b71a4249abab97adf286afd16f": {
      "model_module": "@jupyter-widgets/base",
      "model_module_version": "1.2.0",
      "model_name": "LayoutModel",
      "state": {}
     },
     "4d1a39fc265f4de782cb8a82a28dbfee": {
      "model_module": "@jupyter-widgets/base",
      "model_module_version": "1.2.0",
      "model_name": "LayoutModel",
      "state": {}
     },
     "4d942a22734348afb0df8763f2b9980f": {
      "model_module": "@jupyter-widgets/controls",
      "model_module_version": "1.5.0",
      "model_name": "DescriptionStyleModel",
      "state": {
       "description_width": ""
      }
     },
     "4ddd46dd5b344553a203fb93d1ee5e86": {
      "model_module": "@jupyter-widgets/base",
      "model_module_version": "1.2.0",
      "model_name": "LayoutModel",
      "state": {}
     },
     "4df0e749162f436f8a62097aa5d62f06": {
      "model_module": "@jupyter-widgets/controls",
      "model_module_version": "1.5.0",
      "model_name": "ButtonStyleModel",
      "state": {}
     },
     "4e11fa3d012249afbf9d2ababe5b3241": {
      "model_module": "@jupyter-widgets/controls",
      "model_module_version": "1.5.0",
      "model_name": "HTMLModel",
      "state": {
       "layout": "IPY_MODEL_d798be6482e340b0bf662f3692eb9f9a",
       "style": "IPY_MODEL_aba5e859446840cea1628907f97c3c63",
       "value": "(3) Which instruction completes the program to compute a triangle's area?<br>base = Get next input<br>height = Get next input<br>Assign x with base * height<br>_____<br>Put x to output<br>"
      }
     },
     "4e3375c44ba4425fab48b5688745b3fc": {
      "model_module": "@jupyter-widgets/base",
      "model_module_version": "1.2.0",
      "model_name": "LayoutModel",
      "state": {}
     },
     "4e7958a6e4f44b319e17aea522107314": {
      "model_module": "@jupyter-widgets/controls",
      "model_module_version": "1.5.0",
      "model_name": "HTMLModel",
      "state": {
       "layout": "IPY_MODEL_dedabd3bee554a5da69b532ee1fd99af",
       "style": "IPY_MODEL_77e1be5d817d4c4ca84714e4835b3e19",
       "value": "(2) Suppose a new instruction was inserted as follows:  <br><br>z = x + y<br>Add 1 more to z (new instruction)<br>Put z to output<br><br>What would the last instruction then output to the screen?<br>"
      }
     },
     "4f1a5e6dff76447eb7636e10be20cbf7": {
      "model_module": "@jupyter-widgets/base",
      "model_module_version": "1.2.0",
      "model_name": "LayoutModel",
      "state": {}
     },
     "4fe8794b6e8a46aa8e518caa3406e5c7": {
      "model_module": "@jupyter-widgets/base",
      "model_module_version": "1.2.0",
      "model_name": "LayoutModel",
      "state": {}
     },
     "50a60e114740404288df050f9861929b": {
      "model_module": "@jupyter-widgets/controls",
      "model_module_version": "1.5.0",
      "model_name": "ButtonModel",
      "state": {
       "layout": "IPY_MODEL_fadfe345668e424ca5595a12b2542b9d",
       "style": "IPY_MODEL_2edd75b893ff461ea2013aff48a0068f"
      }
     },
     "50a9b79eb07c42269e8287fa19fd40bc": {
      "model_module": "@jupyter-widgets/controls",
      "model_module_version": "1.5.0",
      "model_name": "TextareaModel",
      "state": {
       "layout": "IPY_MODEL_81b934fe579f47e0a17f2fe46e5af62b",
       "placeholder": "",
       "style": "IPY_MODEL_9b0d666d892846f0bfd2c1296807ab90"
      }
     },
     "50fd00acff43434a811cb5d854c35ccd": {
      "model_module": "@jupyter-widgets/base",
      "model_module_version": "1.2.0",
      "model_name": "LayoutModel",
      "state": {}
     },
     "518af0ce753c429da1c96105f3919d65": {
      "model_module": "@jupyter-widgets/controls",
      "model_module_version": "1.5.0",
      "model_name": "ButtonModel",
      "state": {
       "layout": "IPY_MODEL_bcedf192e2a342bc8b5eb5dacccb0d12",
       "style": "IPY_MODEL_d6983c73ce1541c18f1071e434f333b9"
      }
     },
     "51a0e060b97842688456adafcedf7451": {
      "model_module": "@jupyter-widgets/controls",
      "model_module_version": "1.5.0",
      "model_name": "DescriptionStyleModel",
      "state": {
       "description_width": ""
      }
     },
     "51b89ace7f1e4626825059827ca2c09d": {
      "model_module": "@jupyter-widgets/controls",
      "model_module_version": "1.5.0",
      "model_name": "DescriptionStyleModel",
      "state": {
       "description_width": ""
      }
     },
     "52639a51a80e4fe78f38abc4823c4aa9": {
      "model_module": "@jupyter-widgets/controls",
      "model_module_version": "1.5.0",
      "model_name": "ButtonModel",
      "state": {
       "layout": "IPY_MODEL_26c759ca169e45f59363a69f057a4f04",
       "style": "IPY_MODEL_b79cff616f974d67b3145f8563cd158b"
      }
     },
     "52951dd82a0d42a1991348d14d06799d": {
      "model_module": "@jupyter-widgets/controls",
      "model_module_version": "1.5.0",
      "model_name": "ButtonModel",
      "state": {
       "button_style": "success",
       "description": "Correct",
       "icon": "check",
       "layout": "IPY_MODEL_b92b02c3bb444b17afedd81775336570",
       "style": "IPY_MODEL_b4c1da0540ce4d57aa8a26a8c9587426"
      }
     },
     "52c3d844b2f54817bc0dae152a6cafba": {
      "model_module": "@jupyter-widgets/controls",
      "model_module_version": "1.5.0",
      "model_name": "LabelModel",
      "state": {
       "layout": "IPY_MODEL_114829f457d844e9bf45b600cca07042",
       "style": "IPY_MODEL_67f105542c594a7b87d008a49b7b992c",
       "value": "Write your own code:"
      }
     },
     "52d8c6a0e9f54d4e8e5c906c06c5b2d1": {
      "model_module": "@jupyter-widgets/controls",
      "model_module_version": "1.5.0",
      "model_name": "VBoxModel",
      "state": {
       "children": [
        "IPY_MODEL_7269b62a955543548bb04018909810ee",
        "IPY_MODEL_cfe6ca08b6484fc5bbddbe7eb3f95342"
       ],
       "layout": "IPY_MODEL_77acaca16e7d4eb38395d20c4f7cbcfd"
      }
     },
     "53055c61c3cc40d1ba23d6c9503d4a6d": {
      "model_module": "@jupyter-widgets/controls",
      "model_module_version": "1.5.0",
      "model_name": "VBoxModel",
      "state": {
       "layout": "IPY_MODEL_135a9d8e186845cab1d8defe44cedc9d"
      }
     },
     "5326cf4021464885bded66b1b36db8c1": {
      "model_module": "@jupyter-widgets/base",
      "model_module_version": "1.2.0",
      "model_name": "LayoutModel",
      "state": {}
     },
     "5428e8686aab4ba7ac2ed9f90fb13def": {
      "model_module": "@jupyter-widgets/controls",
      "model_module_version": "1.5.0",
      "model_name": "DescriptionStyleModel",
      "state": {
       "description_width": ""
      }
     },
     "545b2f98acd44274a5b8987f2be5d535": {
      "model_module": "@jupyter-widgets/controls",
      "model_module_version": "1.5.0",
      "model_name": "ButtonModel",
      "state": {
       "layout": "IPY_MODEL_1171352da6db4d65ac71d663862da4b0",
       "style": "IPY_MODEL_d443285690b84fffbff74c0dd7332726"
      }
     },
     "54787e4ea8504996bcd901070ed813c5": {
      "model_module": "@jupyter-widgets/controls",
      "model_module_version": "1.5.0",
      "model_name": "TextareaModel",
      "state": {
       "layout": "IPY_MODEL_e53c2ab2567445b0af17580cccc86962",
       "placeholder": "",
       "style": "IPY_MODEL_614cf87ed9a14d138653c6dcb282120e",
       "value": "#include <stdio.h>\n\nint main(void) {\n printf(\"Hello world!\\n\");\n return 0;\n}"
      }
     },
     "5495c417e339402c985f22c222b299bd": {
      "model_module": "@jupyter-widgets/controls",
      "model_module_version": "1.5.0",
      "model_name": "TextareaModel",
      "state": {
       "disabled": true,
       "layout": "IPY_MODEL_e2a20f0875b242dd923a28caff0e3851",
       "placeholder": "",
       "style": "IPY_MODEL_b4d0d846647c426aba7410098df74ce8"
      }
     },
     "54b0843c525c41caa5daf17ff891001f": {
      "model_module": "@jupyter-widgets/base",
      "model_module_version": "1.2.0",
      "model_name": "LayoutModel",
      "state": {}
     },
     "54ead1c6fc9e41cbb00ad9e510a2131f": {
      "model_module": "@jupyter-widgets/controls",
      "model_module_version": "1.5.0",
      "model_name": "ButtonStyleModel",
      "state": {}
     },
     "550eee804ac44c469be9df421b8bbab4": {
      "model_module": "@jupyter-widgets/base",
      "model_module_version": "1.2.0",
      "model_name": "LayoutModel",
      "state": {}
     },
     "5529dbddffd74f498aabc2943b25d11b": {
      "model_module": "@jupyter-widgets/base",
      "model_module_version": "1.2.0",
      "model_name": "LayoutModel",
      "state": {}
     },
     "566fa9b66f634fdf96d83ba4dde14513": {
      "model_module": "@jupyter-widgets/controls",
      "model_module_version": "1.5.0",
      "model_name": "LabelModel",
      "state": {
       "layout": "IPY_MODEL_587374f1b0c443cbbc151b1419042ea0",
       "style": "IPY_MODEL_22c19096a8c1499da6577b6553987232",
       "value": "Write your own code:"
      }
     },
     "5717beb654a149ecad1a4178e3a82442": {
      "model_module": "@jupyter-widgets/base",
      "model_module_version": "1.2.0",
      "model_name": "LayoutModel",
      "state": {}
     },
     "5781612ebf4341f48d615253c20136d1": {
      "model_module": "@jupyter-widgets/base",
      "model_module_version": "1.2.0",
      "model_name": "LayoutModel",
      "state": {
       "border": "solid 2px",
       "padding": "1rem"
      }
     },
     "578ab267d25e427f8949c28e7c6d25b4": {
      "model_module": "@jupyter-widgets/controls",
      "model_module_version": "1.5.0",
      "model_name": "VBoxModel",
      "state": {
       "children": [
        "IPY_MODEL_18ee685fcbf6470a906697bf0d1ceb20",
        "IPY_MODEL_9abfc00eff6c43e882a74dd27eae1691"
       ],
       "layout": "IPY_MODEL_35827d1c806d4b15b571f62c8328135a"
      }
     },
     "5798209213324fbe812c17316bbe0c10": {
      "model_module": "@jupyter-widgets/controls",
      "model_module_version": "1.5.0",
      "model_name": "TextareaModel",
      "state": {
       "layout": "IPY_MODEL_41c5e95917d3439ca3c080027cb473fe",
       "style": "IPY_MODEL_5428e8686aab4ba7ac2ed9f90fb13def"
      }
     },
     "57d6b549595a43e6a102a454b8a456d0": {
      "model_module": "@jupyter-widgets/base",
      "model_module_version": "1.2.0",
      "model_name": "LayoutModel",
      "state": {}
     },
     "582266295ca848dbb83b34eef7a60f68": {
      "model_module": "@jupyter-widgets/controls",
      "model_module_version": "1.5.0",
      "model_name": "DescriptionStyleModel",
      "state": {
       "description_width": ""
      }
     },
     "587374f1b0c443cbbc151b1419042ea0": {
      "model_module": "@jupyter-widgets/base",
      "model_module_version": "1.2.0",
      "model_name": "LayoutModel",
      "state": {}
     },
     "58af0f54edbb4058af23f408ab41eb4e": {
      "model_module": "@jupyter-widgets/controls",
      "model_module_version": "1.5.0",
      "model_name": "ButtonModel",
      "state": {
       "layout": "IPY_MODEL_860e919f27cb460dae7372f32ddd0033",
       "style": "IPY_MODEL_7c2d30f9db58456985cdb67f5a38cc80"
      }
     },
     "5a1d1220e83d4a73b3c18318d1812b4c": {
      "model_module": "@jupyter-widgets/controls",
      "model_module_version": "1.5.0",
      "model_name": "DescriptionStyleModel",
      "state": {
       "description_width": ""
      }
     },
     "5aaa490ee277498eba1002fea95a72db": {
      "model_module": "@jupyter-widgets/base",
      "model_module_version": "1.2.0",
      "model_name": "LayoutModel",
      "state": {}
     },
     "5b58cff518de4636a92fc26fdefe78f2": {
      "model_module": "@jupyter-widgets/controls",
      "model_module_version": "1.5.0",
      "model_name": "DescriptionStyleModel",
      "state": {
       "description_width": ""
      }
     },
     "5bb726a5448d4cc2b27a7ddb70f85202": {
      "model_module": "@jupyter-widgets/base",
      "model_module_version": "1.2.0",
      "model_name": "LayoutModel",
      "state": {}
     },
     "5bc03c707de744f9b4ae2438f8b42de2": {
      "model_module": "@jupyter-widgets/base",
      "model_module_version": "1.2.0",
      "model_name": "LayoutModel",
      "state": {}
     },
     "5beab6a53d5c47d8a71a75f7f67fecdf": {
      "model_module": "@jupyter-widgets/base",
      "model_module_version": "1.2.0",
      "model_name": "LayoutModel",
      "state": {}
     },
     "5bf34ae20b7844569d4c0cffa7d7fdd9": {
      "model_module": "@jupyter-widgets/base",
      "model_module_version": "1.2.0",
      "model_name": "LayoutModel",
      "state": {}
     },
     "5c1dc4d360c54ccaa3f474eb6721623b": {
      "model_module": "@jupyter-widgets/base",
      "model_module_version": "1.2.0",
      "model_name": "LayoutModel",
      "state": {}
     },
     "5c33e70292e04296bd6236d933014180": {
      "model_module": "@jupyter-widgets/controls",
      "model_module_version": "1.5.0",
      "model_name": "LabelModel",
      "state": {
       "layout": "IPY_MODEL_8fa52911f9034ddd915927ca0aa6b012",
       "style": "IPY_MODEL_ee46ff07aead4a6b925eb0e3b104df17",
       "value": "Write your own code:"
      }
     },
     "5c637ac420ac48d69ca657906aa60853": {
      "model_module": "@jupyter-widgets/base",
      "model_module_version": "1.2.0",
      "model_name": "LayoutModel",
      "state": {}
     },
     "5c68da6c0a5b4065834ed5bf32969468": {
      "model_module": "@jupyter-widgets/controls",
      "model_module_version": "1.5.0",
      "model_name": "DescriptionStyleModel",
      "state": {
       "description_width": ""
      }
     },
     "5ca740a6e07843f2b256eb75de74ce10": {
      "model_module": "@jupyter-widgets/base",
      "model_module_version": "1.2.0",
      "model_name": "LayoutModel",
      "state": {}
     },
     "5caad4988ca4467e8ed126591b3d7b9f": {
      "model_module": "@jupyter-widgets/controls",
      "model_module_version": "1.5.0",
      "model_name": "DescriptionStyleModel",
      "state": {
       "description_width": ""
      }
     },
     "5cfc329c67c242d7a4c09cc51cb6cb95": {
      "model_module": "@jupyter-widgets/controls",
      "model_module_version": "1.5.0",
      "model_name": "HTMLModel",
      "state": {
       "layout": "IPY_MODEL_67d216a74226467a9e00946a56ee6064",
       "style": "IPY_MODEL_bdbc31319da2431baf5e49fb53373261",
       "value": "(2) Suppose a new instruction was inserted as follows:  <br><br>z = x + y<br>Add 1 more to z (new instruction)<br>Put z to output<br><br>What would the last instruction then output to the screen?<br>"
      }
     },
     "5da64d1fbe5641f5ba1d72adc4b82895": {
      "model_module": "@jupyter-widgets/controls",
      "model_module_version": "1.5.0",
      "model_name": "VBoxModel",
      "state": {
       "layout": "IPY_MODEL_f7fc2c5ce8c447edae0747ce5158c30d"
      }
     },
     "5e391e915a714b32a838ad6b7f69114c": {
      "model_module": "@jupyter-widgets/base",
      "model_module_version": "1.2.0",
      "model_name": "LayoutModel",
      "state": {
       "border": "ridge 2px",
       "padding": "1rem"
      }
     },
     "5e7d747aab0b493aacd5a69a089854c0": {
      "model_module": "@jupyter-widgets/controls",
      "model_module_version": "1.5.0",
      "model_name": "VBoxModel",
      "state": {
       "layout": "IPY_MODEL_82218fab16c040f69fd748d50b75d576"
      }
     },
     "5ee22681c3d944ceaf6321be9230d3ce": {
      "model_module": "@jupyter-widgets/base",
      "model_module_version": "1.2.0",
      "model_name": "LayoutModel",
      "state": {
       "border": "solid 2px",
       "padding": "1rem"
      }
     },
     "5f1bc30ebed24a829882fe464419d532": {
      "model_module": "@jupyter-widgets/controls",
      "model_module_version": "1.5.0",
      "model_name": "DescriptionStyleModel",
      "state": {
       "description_width": ""
      }
     },
     "5f3ea89f284947aea3915101d08ad74e": {
      "model_module": "@jupyter-widgets/controls",
      "model_module_version": "1.5.0",
      "model_name": "ButtonStyleModel",
      "state": {}
     },
     "5f8ac0f25b734eabaee56d425a241a13": {
      "model_module": "@jupyter-widgets/controls",
      "model_module_version": "1.5.0",
      "model_name": "TextareaModel",
      "state": {
       "layout": "IPY_MODEL_2187d5d45ea64f9ab3727b15a858c0f7",
       "style": "IPY_MODEL_70dd118833e345009d7e40290cfa793b"
      }
     },
     "5fb0a68945c34d1c8f43b6b47610d75c": {
      "model_module": "@jupyter-widgets/controls",
      "model_module_version": "1.5.0",
      "model_name": "HTMLModel",
      "state": {
       "layout": "IPY_MODEL_a7f72a4fefd64a1692961fc12f28c839",
       "style": "IPY_MODEL_48fb06e211564755aab591aaa6b15179"
      }
     },
     "5fd1676a80ca414cb35c80aa5842c543": {
      "model_module": "@jupyter-widgets/base",
      "model_module_version": "1.2.0",
      "model_name": "LayoutModel",
      "state": {
       "border": "ridge 2px",
       "padding": "1rem"
      }
     },
     "60c0fdd9cb5044af9fa5067d8c0d3b9c": {
      "model_module": "@jupyter-widgets/controls",
      "model_module_version": "1.5.0",
      "model_name": "LabelModel",
      "state": {
       "layout": "IPY_MODEL_fb1b175e39734656b0d13d0ee3e58dbb",
       "style": "IPY_MODEL_d27cd60ad96d4b1eb89005f4df5d2f34",
       "value": "Write your own code:"
      }
     },
     "60deb18b33b047dda5afddb01d2d6d97": {
      "model_module": "@jupyter-widgets/controls",
      "model_module_version": "1.5.0",
      "model_name": "LabelModel",
      "state": {
       "layout": "IPY_MODEL_39bc11632ec748e782a2b140600ddcfd",
       "style": "IPY_MODEL_c560dc18903f487aabeb64dcb2c90267",
       "value": "Participation: 33%"
      }
     },
     "614cf87ed9a14d138653c6dcb282120e": {
      "model_module": "@jupyter-widgets/controls",
      "model_module_version": "1.5.0",
      "model_name": "DescriptionStyleModel",
      "state": {
       "description_width": ""
      }
     },
     "61e15ccefdd04c4cbd70838a6422e9d9": {
      "model_module": "@jupyter-widgets/controls",
      "model_module_version": "1.5.0",
      "model_name": "TextareaModel",
      "state": {
       "layout": "IPY_MODEL_33b0515e7f974fbe9be75f90e778f6d3",
       "style": "IPY_MODEL_acfff08d5bed43f5beb5410c765e28e8"
      }
     },
     "6202d96d7abe4ccd9e0c11d55fffcd19": {
      "model_module": "@jupyter-widgets/base",
      "model_module_version": "1.2.0",
      "model_name": "LayoutModel",
      "state": {}
     },
     "620f152d00384500bbdae94c1711e614": {
      "model_module": "@jupyter-widgets/controls",
      "model_module_version": "1.5.0",
      "model_name": "TextareaModel",
      "state": {
       "layout": "IPY_MODEL_cf6a661bb797419aba09ed002f7d6967",
       "style": "IPY_MODEL_b9d3b43fdc64412bae77afd597b4a152"
      }
     },
     "623f69c8c93440b0b15aa37bd24b87ec": {
      "model_module": "@jupyter-widgets/controls",
      "model_module_version": "1.5.0",
      "model_name": "TextareaModel",
      "state": {
       "layout": "IPY_MODEL_240d9fb8631547c1b0aa1a766c5e4354",
       "placeholder": "",
       "style": "IPY_MODEL_73191e32252b434299065b4c40b4e346",
       "value": "#include <stdio.h>\n\nint main(void) {\n int a;\n scanf(\"%d\", &a);\n printf(\"%d\\n\", a);\n return 0;\n}"
      }
     },
     "628aaf7e15b840288731f36af304d2a8": {
      "model_module": "@jupyter-widgets/controls",
      "model_module_version": "1.5.0",
      "model_name": "CheckboxModel",
      "state": {
       "disabled": true,
       "layout": "IPY_MODEL_adc1aa7923df4e158f76145e02d69773",
       "style": "IPY_MODEL_473b4af5a8024778bfd7251c3626901a",
       "value": false
      }
     },
     "63043f8e582b458494fca9f2cfd30a01": {
      "model_module": "@jupyter-widgets/controls",
      "model_module_version": "1.5.0",
      "model_name": "DescriptionStyleModel",
      "state": {
       "description_width": ""
      }
     },
     "6337f6078fdb45d6b30abc2fa0c3703a": {
      "model_module": "@jupyter-widgets/controls",
      "model_module_version": "1.5.0",
      "model_name": "TextModel",
      "state": {
       "layout": "IPY_MODEL_0af52b1e0fcc4fe68cbfdbf7ede7077e",
       "style": "IPY_MODEL_682ae53d506a40d48089ddd2138700c7"
      }
     },
     "6416e67664a8445584415412783f90ba": {
      "model_module": "@jupyter-widgets/controls",
      "model_module_version": "1.5.0",
      "model_name": "DescriptionStyleModel",
      "state": {
       "description_width": ""
      }
     },
     "64504ec1beba4e51aa74673d823b5ed8": {
      "model_module": "@jupyter-widgets/controls",
      "model_module_version": "1.5.0",
      "model_name": "HTMLModel",
      "state": {
       "layout": "IPY_MODEL_ed12e600b2d64f60bc4f6d4ca9ef85c7",
       "style": "IPY_MODEL_faa951361e414ca78ebaa6752b380545",
       "value": "(2) Suppose a new instruction was inserted as follows:  <br><br>z = x + y<br>Add 1 more to z (new instruction)<br>Put z to output<br><br>What would the last instruction then output to the screen?<br>"
      }
     },
     "64b507a4939d4c149b9d14e9811561a9": {
      "model_module": "@jupyter-widgets/base",
      "model_module_version": "1.2.0",
      "model_name": "LayoutModel",
      "state": {}
     },
     "6556a0e445004c8d8d4a9db486e37e77": {
      "model_module": "@jupyter-widgets/base",
      "model_module_version": "1.2.0",
      "model_name": "LayoutModel",
      "state": {}
     },
     "657610501c744e74b0f277cf2abf4467": {
      "model_module": "@jupyter-widgets/controls",
      "model_module_version": "1.5.0",
      "model_name": "DescriptionStyleModel",
      "state": {
       "description_width": ""
      }
     },
     "658feaae047b483d9cd97b9f5140ba67": {
      "model_module": "@jupyter-widgets/controls",
      "model_module_version": "1.5.0",
      "model_name": "DescriptionStyleModel",
      "state": {
       "description_width": ""
      }
     },
     "65b11bb8816743d98834ed458d3d21c8": {
      "model_module": "@jupyter-widgets/controls",
      "model_module_version": "1.5.0",
      "model_name": "VBoxModel",
      "state": {
       "children": [
        "IPY_MODEL_8a901ef189e042de96fc4fae5803ff88",
        "IPY_MODEL_253989aa20984d8390f7ac863a74f5d8"
       ],
       "layout": "IPY_MODEL_27266a4ce8df4444833b772a4487d681"
      }
     },
     "65b79b695ed145d8ba78f2319ee57b11": {
      "model_module": "@jupyter-widgets/controls",
      "model_module_version": "1.5.0",
      "model_name": "ButtonModel",
      "state": {
       "button_style": "warning",
       "description": "Check",
       "icon": "check",
       "layout": "IPY_MODEL_cbd5b5ce32dc46d99166cbaa6e2a9c1c",
       "style": "IPY_MODEL_54ead1c6fc9e41cbb00ad9e510a2131f"
      }
     },
     "65f3fbf521884498a66985c990d3450c": {
      "model_module": "@jupyter-widgets/controls",
      "model_module_version": "1.5.0",
      "model_name": "DescriptionStyleModel",
      "state": {
       "description_width": ""
      }
     },
     "66a43a4adc4d41dcb87ccb7ba6d16143": {
      "model_module": "@jupyter-widgets/controls",
      "model_module_version": "1.5.0",
      "model_name": "DescriptionStyleModel",
      "state": {
       "description_width": ""
      }
     },
     "66ab6b48974245b4ae6e6050c336765f": {
      "model_module": "@jupyter-widgets/controls",
      "model_module_version": "1.5.0",
      "model_name": "DescriptionStyleModel",
      "state": {
       "description_width": ""
      }
     },
     "67118584989d435da5cfd186b9520efc": {
      "model_module": "@jupyter-widgets/controls",
      "model_module_version": "1.5.0",
      "model_name": "CheckboxModel",
      "state": {
       "disabled": true,
       "layout": "IPY_MODEL_0d80d97e86da497f86679e6c61d65250",
       "style": "IPY_MODEL_17ef7c20b16547a8bb23337d678cb1d5",
       "value": false
      }
     },
     "677c40dc476d48549b4ed36fb59ba2f2": {
      "model_module": "@jupyter-widgets/controls",
      "model_module_version": "1.5.0",
      "model_name": "TextareaModel",
      "state": {
       "layout": "IPY_MODEL_30a7638148d54940a1d5109435476092",
       "style": "IPY_MODEL_03e2fa1b7cef46a69ea9cac53d49a874"
      }
     },
     "679e70926c2145d38d9261c9e146a8f6": {
      "model_module": "@jupyter-widgets/base",
      "model_module_version": "1.2.0",
      "model_name": "LayoutModel",
      "state": {}
     },
     "67c697d386ed4d2abdc178a97e50f9fb": {
      "model_module": "@jupyter-widgets/controls",
      "model_module_version": "1.5.0",
      "model_name": "TextareaModel",
      "state": {
       "layout": "IPY_MODEL_1e9e78adf7c74ff98b1645c37c78578d",
       "style": "IPY_MODEL_99afe252fed149feb77c5ca49cefe48a"
      }
     },
     "67d216a74226467a9e00946a56ee6064": {
      "model_module": "@jupyter-widgets/base",
      "model_module_version": "1.2.0",
      "model_name": "LayoutModel",
      "state": {}
     },
     "67f105542c594a7b87d008a49b7b992c": {
      "model_module": "@jupyter-widgets/controls",
      "model_module_version": "1.5.0",
      "model_name": "DescriptionStyleModel",
      "state": {
       "description_width": ""
      }
     },
     "682ae53d506a40d48089ddd2138700c7": {
      "model_module": "@jupyter-widgets/controls",
      "model_module_version": "1.5.0",
      "model_name": "DescriptionStyleModel",
      "state": {
       "description_width": ""
      }
     },
     "6835258dc8134edd89a82662ba6402ab": {
      "model_module": "@jupyter-widgets/controls",
      "model_module_version": "1.5.0",
      "model_name": "DescriptionStyleModel",
      "state": {
       "description_width": ""
      }
     },
     "688c59e4acae4ccf8bcb8d95b27441c1": {
      "model_module": "@jupyter-widgets/controls",
      "model_module_version": "1.5.0",
      "model_name": "TextareaModel",
      "state": {
       "layout": "IPY_MODEL_a56b5d542ced4f5980f65c842852df01",
       "placeholder": "",
       "style": "IPY_MODEL_03c0a70815ef4241bb52b7ab666a36e8",
       "value": "#include <stdio.h>\n\nint main(void) {\n int a;\n scanf(\"%d\", &a);\n printf(\"%d\\n\", a);\n return 0;\n}"
      }
     },
     "68a51848b4fb475493dd05772de416f1": {
      "model_module": "@jupyter-widgets/controls",
      "model_module_version": "1.5.0",
      "model_name": "DescriptionStyleModel",
      "state": {
       "description_width": ""
      }
     },
     "68fb66dd7ff149b1af1a91d2513223c1": {
      "model_module": "@jupyter-widgets/base",
      "model_module_version": "1.2.0",
      "model_name": "LayoutModel",
      "state": {
       "border": "solid 2px",
       "padding": "1rem"
      }
     },
     "6905e1d508e84e2fbafb26f06989016c": {
      "model_module": "@jupyter-widgets/base",
      "model_module_version": "1.2.0",
      "model_name": "LayoutModel",
      "state": {}
     },
     "6947904b07bf4e45bad1ad2e6b7d9b7b": {
      "model_module": "@jupyter-widgets/base",
      "model_module_version": "1.2.0",
      "model_name": "LayoutModel",
      "state": {}
     },
     "69519dd984de4c1caae8c30db5a10273": {
      "model_module": "@jupyter-widgets/base",
      "model_module_version": "1.2.0",
      "model_name": "LayoutModel",
      "state": {}
     },
     "6a35e5d9665b4e2aa1c7d503ad676abc": {
      "model_module": "@jupyter-widgets/controls",
      "model_module_version": "1.5.0",
      "model_name": "TextModel",
      "state": {
       "layout": "IPY_MODEL_5bb726a5448d4cc2b27a7ddb70f85202",
       "style": "IPY_MODEL_869870d4747941bf9ae351f31a04d35c"
      }
     },
     "6b12f3d0a07c4e16822f915db0d81c86": {
      "model_module": "@jupyter-widgets/controls",
      "model_module_version": "1.5.0",
      "model_name": "RadioButtonsModel",
      "state": {
       "_options_labels": [
        "Multiply x by 2",
        "Add 2 to x",
        "Multiply x by 1/2"
       ],
       "index": 0,
       "layout": "IPY_MODEL_eefb48d400c342c3907cbcd91ed0fa49",
       "style": "IPY_MODEL_86b302c97bcd4fd0becf671ce0ad1324"
      }
     },
     "6b8a9941301f49ffb00aec4a5008006a": {
      "model_module": "@jupyter-widgets/base",
      "model_module_version": "1.2.0",
      "model_name": "LayoutModel",
      "state": {}
     },
     "6b9ba5b630cf4031bd31196417d9d34b": {
      "model_module": "@jupyter-widgets/controls",
      "model_module_version": "1.5.0",
      "model_name": "VBoxModel",
      "state": {
       "layout": "IPY_MODEL_4b6be7b3a478427fac8ba9b494b6fcb4"
      }
     },
     "6d535f79c93c438091a04757b4bab9dd": {
      "model_module": "@jupyter-widgets/controls",
      "model_module_version": "1.5.0",
      "model_name": "DescriptionStyleModel",
      "state": {
       "description_width": ""
      }
     },
     "6e947b8c685d44cd90cca1b024eca42c": {
      "model_module": "@jupyter-widgets/base",
      "model_module_version": "1.2.0",
      "model_name": "LayoutModel",
      "state": {}
     },
     "6ebcceb8a162475c972408888582372c": {
      "model_module": "@jupyter-widgets/controls",
      "model_module_version": "1.5.0",
      "model_name": "TextareaModel",
      "state": {
       "disabled": true,
       "layout": "IPY_MODEL_9ddc80e035014e49abcf9ceb292181a6",
       "placeholder": "",
       "style": "IPY_MODEL_f3cd2f08560f46a285e9e31dcd136783"
      }
     },
     "6ef6e862d68e44e18cca7f2b997ec8d3": {
      "model_module": "@jupyter-widgets/controls",
      "model_module_version": "1.5.0",
      "model_name": "DescriptionStyleModel",
      "state": {
       "description_width": ""
      }
     },
     "6f94076c1f194e9b8d904b8905ad3e9a": {
      "model_module": "@jupyter-widgets/base",
      "model_module_version": "1.2.0",
      "model_name": "LayoutModel",
      "state": {}
     },
     "70149f181dba484d835e61d306d04070": {
      "model_module": "@jupyter-widgets/base",
      "model_module_version": "1.2.0",
      "model_name": "LayoutModel",
      "state": {}
     },
     "703788c8563c48aaa2960fedaefcdf72": {
      "model_module": "@jupyter-widgets/controls",
      "model_module_version": "1.5.0",
      "model_name": "HBoxModel",
      "state": {
       "children": [
        "IPY_MODEL_e8b72e3cb397496797790b5748dec07a",
        "IPY_MODEL_628aaf7e15b840288731f36af304d2a8",
        "IPY_MODEL_0a96a6560aa24141a9595d731875e308"
       ],
       "layout": "IPY_MODEL_a8a96be2896a4f959111f058176e0459"
      }
     },
     "70b91c4010584c89bfa8059a2c957160": {
      "model_module": "@jupyter-widgets/controls",
      "model_module_version": "1.5.0",
      "model_name": "LabelModel",
      "state": {
       "layout": "IPY_MODEL_5c637ac420ac48d69ca657906aa60853",
       "style": "IPY_MODEL_420d25a3569e419697ce416a7335467a",
       "value": "Participation: 0%"
      }
     },
     "70d849d40ac5421bbf5c96eba38762f9": {
      "model_module": "@jupyter-widgets/controls",
      "model_module_version": "1.5.0",
      "model_name": "VBoxModel",
      "state": {
       "children": [
        "IPY_MODEL_4e7958a6e4f44b319e17aea522107314",
        "IPY_MODEL_ea3d30d31d3842859e1a0745ceb412e9",
        "IPY_MODEL_83122f45ffeb49689f965b9aa3af00a8",
        "IPY_MODEL_72eeaee5fbcc4dbf9f6e16e2f4fb90c2"
       ],
       "layout": "IPY_MODEL_36660b8f2d4349c7aa3d6a6dbaaf0cfd"
      }
     },
     "70dd118833e345009d7e40290cfa793b": {
      "model_module": "@jupyter-widgets/controls",
      "model_module_version": "1.5.0",
      "model_name": "DescriptionStyleModel",
      "state": {
       "description_width": ""
      }
     },
     "70fbe3a2f9e6482ab3bbb0e9c56f1bfd": {
      "model_module": "@jupyter-widgets/controls",
      "model_module_version": "1.5.0",
      "model_name": "ButtonStyleModel",
      "state": {}
     },
     "717261529f954ef492e79186a4657e64": {
      "model_module": "@jupyter-widgets/controls",
      "model_module_version": "1.5.0",
      "model_name": "LabelModel",
      "state": {
       "layout": "IPY_MODEL_07a739416f684f5faa713de4f97cd7b5",
       "style": "IPY_MODEL_ccffc9d6e95d4dceb24618f4508351ff",
       "value": "Write your own code:"
      }
     },
     "7240015d37154f75af8a69c3bedf8f67": {
      "model_module": "@jupyter-widgets/base",
      "model_module_version": "1.2.0",
      "model_name": "LayoutModel",
      "state": {}
     },
     "7269b62a955543548bb04018909810ee": {
      "model_module": "@jupyter-widgets/controls",
      "model_module_version": "1.5.0",
      "model_name": "LabelModel",
      "state": {
       "layout": "IPY_MODEL_6f94076c1f194e9b8d904b8905ad3e9a",
       "style": "IPY_MODEL_96c918a2dfb24f15ae2befc745e6ac64",
       "value": "Write your own code:"
      }
     },
     "72ab3007396c49fe9dbc16ba1ad8bb55": {
      "model_module": "@jupyter-widgets/controls",
      "model_module_version": "1.5.0",
      "model_name": "CheckboxModel",
      "state": {
       "disabled": true,
       "layout": "IPY_MODEL_7489ccb46ccb4c709b47cf82a9bea856",
       "style": "IPY_MODEL_4978d97553a74a278d5992a43d6fee30",
       "value": false
      }
     },
     "72ca49aa96fb4b86990152a329b4656c": {
      "model_module": "@jupyter-widgets/base",
      "model_module_version": "1.2.0",
      "model_name": "LayoutModel",
      "state": {}
     },
     "72eeaee5fbcc4dbf9f6e16e2f4fb90c2": {
      "model_module": "@jupyter-widgets/controls",
      "model_module_version": "1.5.0",
      "model_name": "HTMLModel",
      "state": {
       "layout": "IPY_MODEL_50fd00acff43434a811cb5d854c35ccd",
       "style": "IPY_MODEL_bf7c860f7a1d4eff9d2d0d11cd72e15f"
      }
     },
     "73191e32252b434299065b4c40b4e346": {
      "model_module": "@jupyter-widgets/controls",
      "model_module_version": "1.5.0",
      "model_name": "DescriptionStyleModel",
      "state": {
       "description_width": ""
      }
     },
     "736a25948a284146a1afba97ee911f46": {
      "model_module": "@jupyter-widgets/base",
      "model_module_version": "1.2.0",
      "model_name": "LayoutModel",
      "state": {}
     },
     "73a3ff6495984c15b4279759b3b444d6": {
      "model_module": "@jupyter-widgets/controls",
      "model_module_version": "1.5.0",
      "model_name": "ButtonStyleModel",
      "state": {}
     },
     "73e1d71b6cf34704899d783047b6dec8": {
      "model_module": "@jupyter-widgets/controls",
      "model_module_version": "1.5.0",
      "model_name": "VBoxModel",
      "state": {
       "children": [
        "IPY_MODEL_e25f4ac68dd942ba9787ff8235623c16",
        "IPY_MODEL_3e3610aa9253430a9877efbb2e8f73f4"
       ],
       "layout": "IPY_MODEL_ec21c0d4afc34fc9ac1d64670d011a21"
      }
     },
     "73e3c29a6f5f4f2b992c3e7db50a8e00": {
      "model_module": "@jupyter-widgets/controls",
      "model_module_version": "1.5.0",
      "model_name": "TextModel",
      "state": {
       "layout": "IPY_MODEL_d4f40cedca9c4a29aa06ec1be9e54627",
       "style": "IPY_MODEL_7ce333ac014f4566a3dd50d14bfaa388"
      }
     },
     "7442f63bcba14bceaa905ff7b022bf69": {
      "model_module": "@jupyter-widgets/base",
      "model_module_version": "1.2.0",
      "model_name": "LayoutModel",
      "state": {}
     },
     "7456d8090f5c4b6db444ba9c723f5195": {
      "model_module": "@jupyter-widgets/controls",
      "model_module_version": "1.5.0",
      "model_name": "DescriptionStyleModel",
      "state": {
       "description_width": ""
      }
     },
     "7489ccb46ccb4c709b47cf82a9bea856": {
      "model_module": "@jupyter-widgets/base",
      "model_module_version": "1.2.0",
      "model_name": "LayoutModel",
      "state": {}
     },
     "749b9ce7edd94d4bb0e588b5d46c7b4a": {
      "model_module": "@jupyter-widgets/controls",
      "model_module_version": "1.5.0",
      "model_name": "ButtonModel",
      "state": {
       "layout": "IPY_MODEL_fbd60d23434c48e5927817e6e989c2de",
       "style": "IPY_MODEL_345880e2e12d42049be10d1033600a63"
      }
     },
     "7526769378264eb5a73fe52114d63af0": {
      "model_module": "@jupyter-widgets/controls",
      "model_module_version": "1.5.0",
      "model_name": "HBoxModel",
      "state": {
       "children": [
        "IPY_MODEL_12e0732bac2b499db7a9de256019778b",
        "IPY_MODEL_72ab3007396c49fe9dbc16ba1ad8bb55",
        "IPY_MODEL_d18d7b3261c54c97b70f9d17e6bc8663"
       ],
       "layout": "IPY_MODEL_a08890edc6d44c4780d00955ca20fb1d"
      }
     },
     "75abdf1846154861b6ca2cc3bae8c175": {
      "model_module": "@jupyter-widgets/controls",
      "model_module_version": "1.5.0",
      "model_name": "TextareaModel",
      "state": {
       "layout": "IPY_MODEL_380f4634ad364f97a215fd069683f823",
       "style": "IPY_MODEL_069d680958304822a0788767ff707fd4"
      }
     },
     "75f33a04c3e54a4281f7c62a7748ac5e": {
      "model_module": "@jupyter-widgets/controls",
      "model_module_version": "1.5.0",
      "model_name": "HTMLModel",
      "state": {
       "layout": "IPY_MODEL_6e947b8c685d44cd90cca1b024eca42c",
       "style": "IPY_MODEL_4187993c60a14a8c933161d2720e5214",
       "value": "(1) The program has a total number of _____ instructions"
      }
     },
     "76e0d28f3b8b45938d245a9cb11f937a": {
      "model_module": "@jupyter-widgets/controls",
      "model_module_version": "1.5.0",
      "model_name": "ButtonModel",
      "state": {
       "layout": "IPY_MODEL_7995d608a3424bb3b519a146c0cebf77",
       "style": "IPY_MODEL_4df0e749162f436f8a62097aa5d62f06"
      }
     },
     "77535a37d8c740189a3fcd026c2cb073": {
      "model_module": "@jupyter-widgets/controls",
      "model_module_version": "1.5.0",
      "model_name": "VBoxModel",
      "state": {
       "children": [
        "IPY_MODEL_254bedaf90204af4b464de0cfa708cf4",
        "IPY_MODEL_623f69c8c93440b0b15aa37bd24b87ec",
        "IPY_MODEL_8ae9ea5a9a724e6399cd3966800fee1b",
        "IPY_MODEL_aefa8ffc31ba4a9b8dde4978460f162f"
       ],
       "layout": "IPY_MODEL_bad5220f3ca940a0b5e2c36c80f48b07"
      }
     },
     "77acaca16e7d4eb38395d20c4f7cbcfd": {
      "model_module": "@jupyter-widgets/base",
      "model_module_version": "1.2.0",
      "model_name": "LayoutModel",
      "state": {
       "width": "100%"
      }
     },
     "77e1be5d817d4c4ca84714e4835b3e19": {
      "model_module": "@jupyter-widgets/controls",
      "model_module_version": "1.5.0",
      "model_name": "DescriptionStyleModel",
      "state": {
       "description_width": ""
      }
     },
     "781e6dab971044d18de6f3630ad333e4": {
      "model_module": "@jupyter-widgets/controls",
      "model_module_version": "1.5.0",
      "model_name": "VBoxModel",
      "state": {
       "layout": "IPY_MODEL_986fc5bb29f5402b9976fe381de3075f"
      }
     },
     "782d6b37a1454e5d808e094b1ad73993": {
      "model_module": "@jupyter-widgets/base",
      "model_module_version": "1.2.0",
      "model_name": "LayoutModel",
      "state": {}
     },
     "78c1a0248d074baab02fce9c5aa77b0b": {
      "model_module": "@jupyter-widgets/controls",
      "model_module_version": "1.5.0",
      "model_name": "ButtonModel",
      "state": {
       "layout": "IPY_MODEL_f79bee4db451492fb108809236c59a8b",
       "style": "IPY_MODEL_3c26026492004dfab9057086c1a81111"
      }
     },
     "78d3eb2c33e24f5e91c0f489e60c2ca0": {
      "model_module": "@jupyter-widgets/controls",
      "model_module_version": "1.5.0",
      "model_name": "ButtonModel",
      "state": {
       "layout": "IPY_MODEL_cc69a0d5ed6e41d6a2d7e52611c5a8e1",
       "style": "IPY_MODEL_73a3ff6495984c15b4279759b3b444d6"
      }
     },
     "78f6da8a38794b92ae7f9b67d6c5c112": {
      "model_module": "@jupyter-widgets/base",
      "model_module_version": "1.2.0",
      "model_name": "LayoutModel",
      "state": {}
     },
     "794d24cec2d04a1593cb2536b793c0d9": {
      "model_module": "@jupyter-widgets/controls",
      "model_module_version": "1.5.0",
      "model_name": "VBoxModel",
      "state": {
       "children": [
        "IPY_MODEL_0dbf087775f34a17ac556847001bfb52",
        "IPY_MODEL_73e3c29a6f5f4f2b992c3e7db50a8e00",
        "IPY_MODEL_3e785854f68b4f82bd64af31e26bc14a",
        "IPY_MODEL_9acd8c0b25e44e17883549e0948e0a38"
       ],
       "layout": "IPY_MODEL_c1761d6fe45949c2b1089ee8d17fd789"
      }
     },
     "7995d608a3424bb3b519a146c0cebf77": {
      "model_module": "@jupyter-widgets/base",
      "model_module_version": "1.2.0",
      "model_name": "LayoutModel",
      "state": {}
     },
     "79b70ba2e3644a46a90c36a418af6035": {
      "model_module": "@jupyter-widgets/controls",
      "model_module_version": "1.5.0",
      "model_name": "VBoxModel",
      "state": {
       "children": [
        "IPY_MODEL_7526769378264eb5a73fe52114d63af0",
        "IPY_MODEL_45b27fc9ceb8479c924654badbfb27e2"
       ],
       "layout": "IPY_MODEL_8fc3387957214dc5bb01b33b5e7ff47b"
      }
     },
     "79cbc0ca4949445d91196d7c977886ca": {
      "model_module": "@jupyter-widgets/controls",
      "model_module_version": "1.5.0",
      "model_name": "VBoxModel",
      "state": {
       "children": [
        "IPY_MODEL_5c33e70292e04296bd6236d933014180",
        "IPY_MODEL_c651646c92294db794deea56463892ed",
        "IPY_MODEL_fa5da1472ddf45b89929293bd6ae24cf",
        "IPY_MODEL_cdb3e101d5734e899e3454b4d07f960d",
        "IPY_MODEL_d1d57ba51aea41b1aa66d879bcb7e238"
       ],
       "layout": "IPY_MODEL_2e7b5e3dcd8746bcbc22563020c419a8"
      }
     },
     "79d175f748ef4427bc9474210296b634": {
      "model_module": "@jupyter-widgets/controls",
      "model_module_version": "1.5.0",
      "model_name": "ButtonModel",
      "state": {
       "button_style": "warning",
       "description": "Run Code",
       "icon": "check",
       "layout": "IPY_MODEL_f9fc7cdac15e4bb3b5c1cd72bce31733",
       "style": "IPY_MODEL_8a2eed8d8cb04a5895cdf0bc6f5c9b11"
      }
     },
     "7b19724bfdf841a992379372e8bafec1": {
      "model_module": "@jupyter-widgets/controls",
      "model_module_version": "1.5.0",
      "model_name": "DescriptionStyleModel",
      "state": {
       "description_width": ""
      }
     },
     "7b6af887121f4b4fb81dfc70230b980f": {
      "model_module": "@jupyter-widgets/base",
      "model_module_version": "1.2.0",
      "model_name": "LayoutModel",
      "state": {
       "width": "90px"
      }
     },
     "7b8ae1b6d0c44af989747968fe6982b7": {
      "model_module": "@jupyter-widgets/controls",
      "model_module_version": "1.5.0",
      "model_name": "DescriptionStyleModel",
      "state": {
       "description_width": ""
      }
     },
     "7b9d254491f843dabb29bf36ec592fc8": {
      "model_module": "@jupyter-widgets/base",
      "model_module_version": "1.2.0",
      "model_name": "LayoutModel",
      "state": {
       "width": "100%"
      }
     },
     "7c2d30f9db58456985cdb67f5a38cc80": {
      "model_module": "@jupyter-widgets/controls",
      "model_module_version": "1.5.0",
      "model_name": "ButtonStyleModel",
      "state": {}
     },
     "7cb00da508e345bdb78facf915d40170": {
      "model_module": "@jupyter-widgets/base",
      "model_module_version": "1.2.0",
      "model_name": "LayoutModel",
      "state": {}
     },
     "7ce333ac014f4566a3dd50d14bfaa388": {
      "model_module": "@jupyter-widgets/controls",
      "model_module_version": "1.5.0",
      "model_name": "DescriptionStyleModel",
      "state": {
       "description_width": ""
      }
     },
     "7d0695a4a6f94634b8e72fef21b575a4": {
      "model_module": "@jupyter-widgets/controls",
      "model_module_version": "1.5.0",
      "model_name": "VBoxModel",
      "state": {
       "layout": "IPY_MODEL_5c1dc4d360c54ccaa3f474eb6721623b"
      }
     },
     "7d0a34af9f6547bfa8ee199dfad9069c": {
      "model_module": "@jupyter-widgets/controls",
      "model_module_version": "1.5.0",
      "model_name": "ButtonModel",
      "state": {
       "layout": "IPY_MODEL_e39496863c114b1a8858a902b296d670",
       "style": "IPY_MODEL_e8f24aeec45f47e6a5ed2882af1fdfad"
      }
     },
     "7d5fee1f4ed84858abe7ab45516dff34": {
      "model_module": "@jupyter-widgets/controls",
      "model_module_version": "1.5.0",
      "model_name": "ButtonModel",
      "state": {
       "button_style": "success",
       "description": "Correct",
       "icon": "check",
       "layout": "IPY_MODEL_92bf55bb9f264735aeeff31cf2dac2a8",
       "style": "IPY_MODEL_b014ff26dc334c56af9d62acdce684d6"
      }
     },
     "7db36d5be27e40a7baa71913a082a0bc": {
      "model_module": "@jupyter-widgets/base",
      "model_module_version": "1.2.0",
      "model_name": "LayoutModel",
      "state": {
       "width": "100%"
      }
     },
     "7df9caacdb014bedbdf57166e3ad8ee6": {
      "model_module": "@jupyter-widgets/controls",
      "model_module_version": "1.5.0",
      "model_name": "LabelModel",
      "state": {
       "layout": "IPY_MODEL_9bae4f71026e4548b01c3591c71cf1bc",
       "style": "IPY_MODEL_66ab6b48974245b4ae6e6050c336765f",
       "value": "Write your own code:"
      }
     },
     "7f11014770184111a4fab4ddba3c89c0": {
      "model_module": "@jupyter-widgets/base",
      "model_module_version": "1.2.0",
      "model_name": "LayoutModel",
      "state": {}
     },
     "7f32f12e70244579831efc13faaed967": {
      "model_module": "@jupyter-widgets/controls",
      "model_module_version": "1.5.0",
      "model_name": "DescriptionStyleModel",
      "state": {
       "description_width": ""
      }
     },
     "7f53f20047a245af83b56166103d5a9c": {
      "model_module": "@jupyter-widgets/base",
      "model_module_version": "1.2.0",
      "model_name": "LayoutModel",
      "state": {}
     },
     "7ff41129346a44dd9aca2101b0e6e199": {
      "model_module": "@jupyter-widgets/controls",
      "model_module_version": "1.5.0",
      "model_name": "DescriptionStyleModel",
      "state": {
       "description_width": ""
      }
     },
     "809db0450dea42d9bee0a625d472346e": {
      "model_module": "@jupyter-widgets/controls",
      "model_module_version": "1.5.0",
      "model_name": "DescriptionStyleModel",
      "state": {
       "description_width": ""
      }
     },
     "818d829ff97a47669b7e14b510cbb756": {
      "model_module": "@jupyter-widgets/controls",
      "model_module_version": "1.5.0",
      "model_name": "HTMLModel",
      "state": {
       "layout": "IPY_MODEL_18d2c1856acf4497a7c8423eb80399c0",
       "style": "IPY_MODEL_5caad4988ca4467e8ed126591b3d7b9f",
       "value": "(1) The program has a total number of _____ instructions"
      }
     },
     "81b934fe579f47e0a17f2fe46e5af62b": {
      "model_module": "@jupyter-widgets/base",
      "model_module_version": "1.2.0",
      "model_name": "LayoutModel",
      "state": {
       "height": "100px",
       "width": "250px"
      }
     },
     "82218fab16c040f69fd748d50b75d576": {
      "model_module": "@jupyter-widgets/base",
      "model_module_version": "1.2.0",
      "model_name": "LayoutModel",
      "state": {}
     },
     "82505b05ceb445f8b55a7c5263f7f61b": {
      "model_module": "@jupyter-widgets/controls",
      "model_module_version": "1.5.0",
      "model_name": "DescriptionStyleModel",
      "state": {
       "description_width": ""
      }
     },
     "830ecf39936f46d4ba254ceaee71959c": {
      "model_module": "@jupyter-widgets/controls",
      "model_module_version": "1.5.0",
      "model_name": "VBoxModel",
      "state": {
       "children": [
        "IPY_MODEL_3dec92c873db48099b0e61584e9665e3",
        "IPY_MODEL_cfe6ca08b6484fc5bbddbe7eb3f95342",
        "IPY_MODEL_4c104b636b4443deaa5ec2ca00140045",
        "IPY_MODEL_970607b5ffed46538b42162f25b451f7"
       ],
       "layout": "IPY_MODEL_1dbb155508e2463aa497095620bf962d"
      }
     },
     "83122f45ffeb49689f965b9aa3af00a8": {
      "model_module": "@jupyter-widgets/controls",
      "model_module_version": "1.5.0",
      "model_name": "ButtonModel",
      "state": {
       "button_style": "warning",
       "description": "Check",
       "icon": "check",
       "layout": "IPY_MODEL_097f51c9cfa0481fa20578e35145ed11",
       "style": "IPY_MODEL_b94f5d5ebce54a13bdf47a1bf2d584cb"
      }
     },
     "83515fe4857f48daac8d2f31a4fd5fa8": {
      "model_module": "@jupyter-widgets/controls",
      "model_module_version": "1.5.0",
      "model_name": "ButtonStyleModel",
      "state": {}
     },
     "837d2e7830cb4d45a84c34e8e4b4cc8c": {
      "model_module": "@jupyter-widgets/base",
      "model_module_version": "1.2.0",
      "model_name": "LayoutModel",
      "state": {}
     },
     "8498169932194328b1621f7f2e418cf7": {
      "model_module": "@jupyter-widgets/base",
      "model_module_version": "1.2.0",
      "model_name": "LayoutModel",
      "state": {}
     },
     "84e402f29641484eadd2e3a3735e15ec": {
      "model_module": "@jupyter-widgets/controls",
      "model_module_version": "1.5.0",
      "model_name": "TextareaModel",
      "state": {
       "layout": "IPY_MODEL_2cc207bb462341bfb5811dd0cb32f592",
       "style": "IPY_MODEL_d1c4fa65400848e388d8e3ac7ad5a1a7"
      }
     },
     "85957acdd7354ac18f0be6b834579acf": {
      "model_module": "@jupyter-widgets/controls",
      "model_module_version": "1.5.0",
      "model_name": "HTMLModel",
      "state": {
       "layout": "IPY_MODEL_c6ad3fdaedbf454998c4dcb43014414a",
       "style": "IPY_MODEL_f0cb07df6a29498a81035befbfdfd00e"
      }
     },
     "859a1017bd644855ac04ffde6d77fe5f": {
      "model_module": "@jupyter-widgets/controls",
      "model_module_version": "1.5.0",
      "model_name": "ButtonModel",
      "state": {
       "button_style": "warning",
       "description": "Run Code",
       "icon": "check",
       "layout": "IPY_MODEL_5beab6a53d5c47d8a71a75f7f67fecdf",
       "style": "IPY_MODEL_e3d99f8ef0e74aeb9f018dcce2b565a8"
      }
     },
     "85f93cae8d384b71a4051093bede08f3": {
      "model_module": "@jupyter-widgets/controls",
      "model_module_version": "1.5.0",
      "model_name": "LabelModel",
      "state": {
       "layout": "IPY_MODEL_1009b2cbd7c34e0aa629eaf689c2f8ed",
       "style": "IPY_MODEL_375abee446784251873f7ca464c42b1b",
       "value": "Write your own code:"
      }
     },
     "860e919f27cb460dae7372f32ddd0033": {
      "model_module": "@jupyter-widgets/base",
      "model_module_version": "1.2.0",
      "model_name": "LayoutModel",
      "state": {}
     },
     "863cac85a6764620af191b1e85500ce7": {
      "model_module": "@jupyter-widgets/controls",
      "model_module_version": "1.5.0",
      "model_name": "DescriptionStyleModel",
      "state": {
       "description_width": ""
      }
     },
     "86756f597d7d473ca7bbb9cee8e1db78": {
      "model_module": "@jupyter-widgets/controls",
      "model_module_version": "1.5.0",
      "model_name": "ButtonModel",
      "state": {
       "button_style": "warning",
       "description": "Run Code",
       "icon": "check",
       "layout": "IPY_MODEL_f0936aeef65144dcba48f226c8e941bb",
       "style": "IPY_MODEL_94a6f81d26da4bb9a23dbb5b65ef38da"
      }
     },
     "869870d4747941bf9ae351f31a04d35c": {
      "model_module": "@jupyter-widgets/controls",
      "model_module_version": "1.5.0",
      "model_name": "DescriptionStyleModel",
      "state": {
       "description_width": ""
      }
     },
     "86a8ea34755c46ffa0153a24d47d5536": {
      "model_module": "@jupyter-widgets/controls",
      "model_module_version": "1.5.0",
      "model_name": "TextareaModel",
      "state": {
       "disabled": true,
       "layout": "IPY_MODEL_f991fc83c14849259e67ffb59d3743d6",
       "placeholder": "",
       "style": "IPY_MODEL_ab28db79a5704d23996b04fe9a843831"
      }
     },
     "86b302c97bcd4fd0becf671ce0ad1324": {
      "model_module": "@jupyter-widgets/controls",
      "model_module_version": "1.5.0",
      "model_name": "DescriptionStyleModel",
      "state": {
       "description_width": ""
      }
     },
     "86b8bab4b24245b0bb9684468edd6c47": {
      "model_module": "@jupyter-widgets/controls",
      "model_module_version": "1.5.0",
      "model_name": "TextareaModel",
      "state": {
       "layout": "IPY_MODEL_178ce5822ab74031af2d035a655e7382",
       "placeholder": "",
       "style": "IPY_MODEL_0db55cc1260640a3b846618317dd98b0",
       "value": "#include <stdio.h>\n\nint main(void) {\n printf(\"Hello world!\\n\");\n return 0;\n}"
      }
     },
     "86d57d885c5347b58899b84e39d712c2": {
      "model_module": "@jupyter-widgets/controls",
      "model_module_version": "1.5.0",
      "model_name": "VBoxModel",
      "state": {
       "layout": "IPY_MODEL_96996595b1cb47d79e65789b06f7bb41"
      }
     },
     "874eda6a378b495e9dbb7b7aa00e6854": {
      "model_module": "@jupyter-widgets/base",
      "model_module_version": "1.2.0",
      "model_name": "LayoutModel",
      "state": {
       "width": "90px"
      }
     },
     "8822efe894104d77b3075747eec8ebaa": {
      "model_module": "@jupyter-widgets/controls",
      "model_module_version": "1.5.0",
      "model_name": "DescriptionStyleModel",
      "state": {
       "description_width": ""
      }
     },
     "8853e29fcf284dd88edd70add60f5138": {
      "model_module": "@jupyter-widgets/controls",
      "model_module_version": "1.5.0",
      "model_name": "DescriptionStyleModel",
      "state": {
       "description_width": ""
      }
     },
     "8902db139a904089ab316bc8f7137d41": {
      "model_module": "@jupyter-widgets/base",
      "model_module_version": "1.2.0",
      "model_name": "LayoutModel",
      "state": {}
     },
     "897ea8d3ab544820a44823b8b62628b2": {
      "model_module": "@jupyter-widgets/base",
      "model_module_version": "1.2.0",
      "model_name": "LayoutModel",
      "state": {}
     },
     "89d5cfaeccd84010a9c983645bafc227": {
      "model_module": "@jupyter-widgets/controls",
      "model_module_version": "1.5.0",
      "model_name": "TextareaModel",
      "state": {
       "disabled": true,
       "layout": "IPY_MODEL_eaff74a1ebb6473e8ce33642160e7a58",
       "placeholder": "",
       "style": "IPY_MODEL_6ef6e862d68e44e18cca7f2b997ec8d3",
       "value": "10\n"
      }
     },
     "89fb66168ee743cc9463f4dde6e301bd": {
      "model_module": "@jupyter-widgets/base",
      "model_module_version": "1.2.0",
      "model_name": "LayoutModel",
      "state": {}
     },
     "89fdcdb9bde24b759201089fcaf133ff": {
      "model_module": "@jupyter-widgets/controls",
      "model_module_version": "1.5.0",
      "model_name": "RadioButtonsModel",
      "state": {
       "index": null,
       "layout": "IPY_MODEL_1c8b05dd0f27489eb0b5302200dd900f",
       "style": "IPY_MODEL_90d271957dba4afa90bb7e9c4ec0aa65"
      }
     },
     "8a19e8b8dd604c40bc0702b69b92bd7c": {
      "model_module": "@jupyter-widgets/controls",
      "model_module_version": "1.5.0",
      "model_name": "LabelModel",
      "state": {
       "layout": "IPY_MODEL_5bf34ae20b7844569d4c0cffa7d7fdd9",
       "style": "IPY_MODEL_3a4859fd24424146a3f3095e9f60de7c",
       "value": "Write your own code:"
      }
     },
     "8a2eed8d8cb04a5895cdf0bc6f5c9b11": {
      "model_module": "@jupyter-widgets/controls",
      "model_module_version": "1.5.0",
      "model_name": "ButtonStyleModel",
      "state": {}
     },
     "8a5236d7c695400eaf5cfe8ec4f84503": {
      "model_module": "@jupyter-widgets/controls",
      "model_module_version": "1.5.0",
      "model_name": "VBoxModel",
      "state": {
       "children": [
        "IPY_MODEL_566fa9b66f634fdf96d83ba4dde14513",
        "IPY_MODEL_623f69c8c93440b0b15aa37bd24b87ec"
       ],
       "layout": "IPY_MODEL_9f4a85ea1eb64488b71f291db73fba9a"
      }
     },
     "8a901ef189e042de96fc4fae5803ff88": {
      "model_module": "@jupyter-widgets/controls",
      "model_module_version": "1.5.0",
      "model_name": "LabelModel",
      "state": {
       "layout": "IPY_MODEL_d4315f27939d494aa7a1b3a88505f45b",
       "style": "IPY_MODEL_48f004c69be24fa59c2a170d068123c0",
       "value": "Write your own code:"
      }
     },
     "8ade09de780d4ad4b55835e6404406f9": {
      "model_module": "@jupyter-widgets/base",
      "model_module_version": "1.2.0",
      "model_name": "LayoutModel",
      "state": {
       "height": "100px",
       "width": "99%"
      }
     },
     "8ae9ea5a9a724e6399cd3966800fee1b": {
      "model_module": "@jupyter-widgets/controls",
      "model_module_version": "1.5.0",
      "model_name": "HBoxModel",
      "state": {
       "children": [
        "IPY_MODEL_e12c22b487404ffcacd0b2cb5b6bf27b",
        "IPY_MODEL_1a81d44471db4339bc12758cc3981a5b"
       ],
       "layout": "IPY_MODEL_3712c9f2498748209c10f6c85107f09c"
      }
     },
     "8b7ab55d6a304dfea964d26fbeff19d1": {
      "model_module": "@jupyter-widgets/controls",
      "model_module_version": "1.5.0",
      "model_name": "TextareaModel",
      "state": {
       "layout": "IPY_MODEL_2a6ba6c3b21a4a4e9406386d7be6b1b1",
       "style": "IPY_MODEL_deabae9645c34dc1b764bbb4544b7faa"
      }
     },
     "8bbc38ea0dd848529874b47fce4e79ec": {
      "model_module": "@jupyter-widgets/base",
      "model_module_version": "1.2.0",
      "model_name": "LayoutModel",
      "state": {}
     },
     "8bdbeda7c558434e85d15978ce13c26b": {
      "model_module": "@jupyter-widgets/controls",
      "model_module_version": "1.5.0",
      "model_name": "VBoxModel",
      "state": {
       "children": [
        "IPY_MODEL_75f33a04c3e54a4281f7c62a7748ac5e",
        "IPY_MODEL_2640199952e344ab9cdab6ead35d4aa0",
        "IPY_MODEL_0c0657b4873b4ef2b021d4b3667116fd",
        "IPY_MODEL_ece538a29db74d53ac14c4d2c10cbe15"
       ],
       "layout": "IPY_MODEL_9e876c53b4b44945a008c444f6cc57cc"
      }
     },
     "8c6cb018ac6f445c96bd1f22cb03ee49": {
      "model_module": "@jupyter-widgets/controls",
      "model_module_version": "1.5.0",
      "model_name": "LabelModel",
      "state": {
       "layout": "IPY_MODEL_fa52330e40324b16b16a4a474fecb30b",
       "style": "IPY_MODEL_e88ef3088e74493ca9b773c6dc7d2575",
       "value": "Participation: 100%"
      }
     },
     "8ca041e64b264c578cda285d0676303d": {
      "model_module": "@jupyter-widgets/controls",
      "model_module_version": "1.5.0",
      "model_name": "VBoxModel",
      "state": {
       "children": [
        "IPY_MODEL_d4a18be953064c2793086c7a3339baf3",
        "IPY_MODEL_54787e4ea8504996bcd901070ed813c5",
        "IPY_MODEL_e50efc5c241a4545b7553aad5f1e06a1",
        "IPY_MODEL_d35a497ea89843edb33c67a914953fa2",
        "IPY_MODEL_d16f65178fb74b39bc0a344a8bcd9433"
       ],
       "layout": "IPY_MODEL_249fcb057058403295bc750b212d12ff"
      }
     },
     "8dabedde3a0c4a19ad2623f83d516a19": {
      "model_module": "@jupyter-widgets/controls",
      "model_module_version": "1.5.0",
      "model_name": "VBoxModel",
      "state": {
       "layout": "IPY_MODEL_29108adf68e649eb9535c623bd1f0f8f"
      }
     },
     "8dcdf41e7c7846e49a0bbf46ec2bd481": {
      "model_module": "@jupyter-widgets/controls",
      "model_module_version": "1.5.0",
      "model_name": "VBoxModel",
      "state": {
       "layout": "IPY_MODEL_4140ae2da8fe42d1a72c96abde9b52b2"
      }
     },
     "8deda262b64748cdb1082c1dc185df00": {
      "model_module": "@jupyter-widgets/controls",
      "model_module_version": "1.5.0",
      "model_name": "HTMLModel",
      "state": {
       "layout": "IPY_MODEL_8bbc38ea0dd848529874b47fce4e79ec",
       "style": "IPY_MODEL_e8903f1b8af6454b9b6cb343f2354b03"
      }
     },
     "8e4146308e0344608f22cac01b062ea0": {
      "model_module": "@jupyter-widgets/controls",
      "model_module_version": "1.5.0",
      "model_name": "ButtonModel",
      "state": {
       "layout": "IPY_MODEL_17b4230c949846cb8534aa3a361309f1",
       "style": "IPY_MODEL_e97334d44f444d269acae3bbaeadd44a"
      }
     },
     "8ec30cd6e5da4b0a900d5501f46e3910": {
      "model_module": "@jupyter-widgets/controls",
      "model_module_version": "1.5.0",
      "model_name": "RadioButtonsModel",
      "state": {
       "index": null,
       "layout": "IPY_MODEL_954a5e61cca8416ba8740bfa4aa0a5a0",
       "style": "IPY_MODEL_c452bdacd63b4986b7777deafc0a0459"
      }
     },
     "8ed7a49c7923427689b58a0c952f4bf0": {
      "model_module": "@jupyter-widgets/controls",
      "model_module_version": "1.5.0",
      "model_name": "DescriptionStyleModel",
      "state": {
       "description_width": ""
      }
     },
     "8f06386ed1d84140bb795af1186f9508": {
      "model_module": "@jupyter-widgets/controls",
      "model_module_version": "1.5.0",
      "model_name": "VBoxModel",
      "state": {
       "children": [
        "IPY_MODEL_aaaf47dfd563494dbc0bd64ef36e8ca3",
        "IPY_MODEL_50a9b79eb07c42269e8287fa19fd40bc"
       ],
       "layout": "IPY_MODEL_9a11ce6630124b4a86066a57b813d18b"
      }
     },
     "8fa52911f9034ddd915927ca0aa6b012": {
      "model_module": "@jupyter-widgets/base",
      "model_module_version": "1.2.0",
      "model_name": "LayoutModel",
      "state": {}
     },
     "8fc3387957214dc5bb01b33b5e7ff47b": {
      "model_module": "@jupyter-widgets/base",
      "model_module_version": "1.2.0",
      "model_name": "LayoutModel",
      "state": {
       "border": "ridge 2px",
       "padding": "1rem"
      }
     },
     "902205963d3845d785bcc19949f693fe": {
      "model_module": "@jupyter-widgets/controls",
      "model_module_version": "1.5.0",
      "model_name": "LabelModel",
      "state": {
       "layout": "IPY_MODEL_4ddd46dd5b344553a203fb93d1ee5e86",
       "style": "IPY_MODEL_1cffbfbe254d452f836b3eaca67de61f",
       "value": "Output: "
      }
     },
     "90d271957dba4afa90bb7e9c4ec0aa65": {
      "model_module": "@jupyter-widgets/controls",
      "model_module_version": "1.5.0",
      "model_name": "DescriptionStyleModel",
      "state": {
       "description_width": ""
      }
     },
     "912dcfbd2cea4509acdeec460cc98b3a": {
      "model_module": "@jupyter-widgets/controls",
      "model_module_version": "1.5.0",
      "model_name": "TextareaModel",
      "state": {
       "layout": "IPY_MODEL_bf222144fb6540659a5dce0c3705dd57",
       "style": "IPY_MODEL_b65c6f4696de4fac9c1ebf70fd68804f"
      }
     },
     "916a13fcc6e34540b2ae04fd266efc3f": {
      "model_module": "@jupyter-widgets/controls",
      "model_module_version": "1.5.0",
      "model_name": "ButtonModel",
      "state": {
       "button_style": "warning",
       "description": "Check",
       "icon": "check",
       "layout": "IPY_MODEL_dcbd02900f67476584c9bcc506ad5b36",
       "style": "IPY_MODEL_31459ae926694abea87f201e203346fd"
      }
     },
     "91b54154b9d547718a805d023371579a": {
      "model_module": "@jupyter-widgets/base",
      "model_module_version": "1.2.0",
      "model_name": "LayoutModel",
      "state": {}
     },
     "91fc05c5886c4e9d8b1d04d370617906": {
      "model_module": "@jupyter-widgets/controls",
      "model_module_version": "1.5.0",
      "model_name": "ButtonStyleModel",
      "state": {}
     },
     "92bf55bb9f264735aeeff31cf2dac2a8": {
      "model_module": "@jupyter-widgets/base",
      "model_module_version": "1.2.0",
      "model_name": "LayoutModel",
      "state": {
       "width": "90px"
      }
     },
     "930e4d9eb6f5421b9c5422a8bbad842a": {
      "model_module": "@jupyter-widgets/controls",
      "model_module_version": "1.5.0",
      "model_name": "ButtonModel",
      "state": {
       "layout": "IPY_MODEL_f3edc9915d1146afaed1500f9ecf2bd4",
       "style": "IPY_MODEL_ce81c8ae91214072bdcdfb141d38772c"
      }
     },
     "93896fba63674bbd8ab8db460e8413f9": {
      "model_module": "@jupyter-widgets/controls",
      "model_module_version": "1.5.0",
      "model_name": "DescriptionStyleModel",
      "state": {
       "description_width": ""
      }
     },
     "9392ea4b56f0402988e47b08894d578f": {
      "model_module": "@jupyter-widgets/base",
      "model_module_version": "1.2.0",
      "model_name": "LayoutModel",
      "state": {}
     },
     "93d452d27cd046d2abe62386c501bd08": {
      "model_module": "@jupyter-widgets/controls",
      "model_module_version": "1.5.0",
      "model_name": "DescriptionStyleModel",
      "state": {
       "description_width": ""
      }
     },
     "93e0bd6ae4d64bcaa48d5796c2d41c90": {
      "model_module": "@jupyter-widgets/controls",
      "model_module_version": "1.5.0",
      "model_name": "DescriptionStyleModel",
      "state": {
       "description_width": ""
      }
     },
     "93f09ac1b1314b478d18f7be9236adc3": {
      "model_module": "@jupyter-widgets/controls",
      "model_module_version": "1.5.0",
      "model_name": "ButtonStyleModel",
      "state": {}
     },
     "944a56a9955f4f799a13e4c6bcc2d77f": {
      "model_module": "@jupyter-widgets/controls",
      "model_module_version": "1.5.0",
      "model_name": "HBoxModel",
      "state": {
       "children": [
        "IPY_MODEL_b88f19318e7d42e1816b7732369422be",
        "IPY_MODEL_34f57cbf10a94e22a4b3aa0430762731",
        "IPY_MODEL_3b8b959f4b60428cb73c4b92c9f4e056"
       ],
       "layout": "IPY_MODEL_b63b6a5c4f774c0da38b80fe3f6ede6c"
      }
     },
     "94539c4159694559a4a03f9017e8b046": {
      "model_module": "@jupyter-widgets/controls",
      "model_module_version": "1.5.0",
      "model_name": "DescriptionStyleModel",
      "state": {
       "description_width": ""
      }
     },
     "948182a59f214bd78d1dd975e20103a7": {
      "model_module": "@jupyter-widgets/controls",
      "model_module_version": "1.5.0",
      "model_name": "DescriptionStyleModel",
      "state": {
       "description_width": ""
      }
     },
     "94a6f81d26da4bb9a23dbb5b65ef38da": {
      "model_module": "@jupyter-widgets/controls",
      "model_module_version": "1.5.0",
      "model_name": "ButtonStyleModel",
      "state": {}
     },
     "94b9060fa3db45aca6e0dade13ba9913": {
      "model_module": "@jupyter-widgets/controls",
      "model_module_version": "1.5.0",
      "model_name": "HBoxModel",
      "state": {
       "children": [
        "IPY_MODEL_73e1d71b6cf34704899d783047b6dec8",
        "IPY_MODEL_ef54985a497e4d249be4147702ef4002"
       ],
       "layout": "IPY_MODEL_b2567d63f4674699aac6e2b299e212b2"
      }
     },
     "9512a4212de843a2ad35404c97505a5f": {
      "model_module": "@jupyter-widgets/base",
      "model_module_version": "1.2.0",
      "model_name": "LayoutModel",
      "state": {
       "height": "100px",
       "width": "250px"
      }
     },
     "95359a3ea3cf485795e69b6111745ed4": {
      "model_module": "@jupyter-widgets/base",
      "model_module_version": "1.2.0",
      "model_name": "LayoutModel",
      "state": {}
     },
     "953b2866aadf47129d929147c1b479d7": {
      "model_module": "@jupyter-widgets/controls",
      "model_module_version": "1.5.0",
      "model_name": "HTMLModel",
      "state": {
       "layout": "IPY_MODEL_b41a74a1e14b4085aa5c537c48ef5913",
       "style": "IPY_MODEL_29875c37e6c64b87aec725a2005460dc",
       "value": "(1) The program has a total number of _____ instructions"
      }
     },
     "954a5e61cca8416ba8740bfa4aa0a5a0": {
      "model_module": "@jupyter-widgets/base",
      "model_module_version": "1.2.0",
      "model_name": "LayoutModel",
      "state": {}
     },
     "95bd922df7694b3595c658928c4232ce": {
      "model_module": "@jupyter-widgets/base",
      "model_module_version": "1.2.0",
      "model_name": "LayoutModel",
      "state": {}
     },
     "96996595b1cb47d79e65789b06f7bb41": {
      "model_module": "@jupyter-widgets/base",
      "model_module_version": "1.2.0",
      "model_name": "LayoutModel",
      "state": {}
     },
     "969a505af5864207a728d13fb4363975": {
      "model_module": "@jupyter-widgets/controls",
      "model_module_version": "1.5.0",
      "model_name": "ButtonStyleModel",
      "state": {}
     },
     "96c918a2dfb24f15ae2befc745e6ac64": {
      "model_module": "@jupyter-widgets/controls",
      "model_module_version": "1.5.0",
      "model_name": "DescriptionStyleModel",
      "state": {
       "description_width": ""
      }
     },
     "970607b5ffed46538b42162f25b451f7": {
      "model_module": "@jupyter-widgets/controls",
      "model_module_version": "1.5.0",
      "model_name": "ButtonModel",
      "state": {
       "button_style": "warning",
       "description": "Run Code",
       "icon": "check",
       "layout": "IPY_MODEL_34dfa106e6b344f4a82929b15d126ea2",
       "style": "IPY_MODEL_a1db4ec655314149a2a00fa3cdc9930a"
      }
     },
     "972d93e14eb2490ca48ed1c95f90f344": {
      "model_module": "@jupyter-widgets/controls",
      "model_module_version": "1.5.0",
      "model_name": "DescriptionStyleModel",
      "state": {
       "description_width": ""
      }
     },
     "9742bad3777e428da714d1cebaefc867": {
      "model_module": "@jupyter-widgets/base",
      "model_module_version": "1.2.0",
      "model_name": "LayoutModel",
      "state": {
       "border": "solid 2px",
       "padding": "1rem"
      }
     },
     "97965e377273467ab77221aa404d49f8": {
      "model_module": "@jupyter-widgets/base",
      "model_module_version": "1.2.0",
      "model_name": "LayoutModel",
      "state": {}
     },
     "983da04007fb46aab839bc04321970f8": {
      "model_module": "@jupyter-widgets/base",
      "model_module_version": "1.2.0",
      "model_name": "LayoutModel",
      "state": {
       "border": "ridge 2px",
       "padding": "1rem"
      }
     },
     "986516c9963945a687783408983227f8": {
      "model_module": "@jupyter-widgets/controls",
      "model_module_version": "1.5.0",
      "model_name": "TextareaModel",
      "state": {
       "layout": "IPY_MODEL_e1538d305e3f4701a972f14e93e3c248",
       "style": "IPY_MODEL_ac2cd3a097824faa8d08ecce64ac203b"
      }
     },
     "986fc5bb29f5402b9976fe381de3075f": {
      "model_module": "@jupyter-widgets/base",
      "model_module_version": "1.2.0",
      "model_name": "LayoutModel",
      "state": {}
     },
     "99afe252fed149feb77c5ca49cefe48a": {
      "model_module": "@jupyter-widgets/controls",
      "model_module_version": "1.5.0",
      "model_name": "DescriptionStyleModel",
      "state": {
       "description_width": ""
      }
     },
     "9a11ce6630124b4a86066a57b813d18b": {
      "model_module": "@jupyter-widgets/base",
      "model_module_version": "1.2.0",
      "model_name": "LayoutModel",
      "state": {}
     },
     "9a631b75399540978a563178fa5249b1": {
      "model_module": "@jupyter-widgets/controls",
      "model_module_version": "1.5.0",
      "model_name": "TextareaModel",
      "state": {
       "layout": "IPY_MODEL_eb33def34ff34f77b19c444a3ec6bfc9",
       "style": "IPY_MODEL_02788667ac164e0f8b1faa57efa158dc"
      }
     },
     "9abfc00eff6c43e882a74dd27eae1691": {
      "model_module": "@jupyter-widgets/controls",
      "model_module_version": "1.5.0",
      "model_name": "TextareaModel",
      "state": {
       "layout": "IPY_MODEL_ffa6cde85e4143b39c3528b4495be2a7",
       "placeholder": "",
       "style": "IPY_MODEL_6416e67664a8445584415412783f90ba"
      }
     },
     "9acd8c0b25e44e17883549e0948e0a38": {
      "model_module": "@jupyter-widgets/controls",
      "model_module_version": "1.5.0",
      "model_name": "HTMLModel",
      "state": {
       "layout": "IPY_MODEL_2c8f834318ec4df68f05168ae3e27bdd",
       "style": "IPY_MODEL_d06d36d7591f45bba448fc8082c5f5cc"
      }
     },
     "9b0d666d892846f0bfd2c1296807ab90": {
      "model_module": "@jupyter-widgets/controls",
      "model_module_version": "1.5.0",
      "model_name": "DescriptionStyleModel",
      "state": {
       "description_width": ""
      }
     },
     "9b3d9c22c0e24783bee58e300fc9a386": {
      "model_module": "@jupyter-widgets/base",
      "model_module_version": "1.2.0",
      "model_name": "LayoutModel",
      "state": {}
     },
     "9b46b9d5ddfa42b7b0b9c44e93ea3211": {
      "model_module": "@jupyter-widgets/controls",
      "model_module_version": "1.5.0",
      "model_name": "VBoxModel",
      "state": {
       "layout": "IPY_MODEL_000fb7eb26124e08b010cee184b8b3cf"
      }
     },
     "9bae4f71026e4548b01c3591c71cf1bc": {
      "model_module": "@jupyter-widgets/base",
      "model_module_version": "1.2.0",
      "model_name": "LayoutModel",
      "state": {}
     },
     "9c33d8646ad04c9a9c4a73af7f1d6f69": {
      "model_module": "@jupyter-widgets/controls",
      "model_module_version": "1.5.0",
      "model_name": "VBoxModel",
      "state": {
       "children": [
        "IPY_MODEL_cd378672361f488c880a08521f62d1cf",
        "IPY_MODEL_b8d08d580cf0430b84ee13553516b8df",
        "IPY_MODEL_916a13fcc6e34540b2ae04fd266efc3f",
        "IPY_MODEL_3084a17084a546128a875a6173afd326"
       ],
       "layout": "IPY_MODEL_f694ec8e79e34746aaf0951bd6cdae96"
      }
     },
     "9c96a2c71acf43069546d6eece4b7dbf": {
      "model_module": "@jupyter-widgets/controls",
      "model_module_version": "1.5.0",
      "model_name": "DescriptionStyleModel",
      "state": {
       "description_width": ""
      }
     },
     "9cf81cd249bc407d8f3cd826f930769a": {
      "model_module": "@jupyter-widgets/controls",
      "model_module_version": "1.5.0",
      "model_name": "HTMLModel",
      "state": {
       "layout": "IPY_MODEL_226da46cdb2f4de1b77bf0b66aaafe33",
       "style": "IPY_MODEL_130585b593a54fd8bfb07996ad585aaa"
      }
     },
     "9d12d2793e9b4494af6857dc6a41dfef": {
      "model_module": "@jupyter-widgets/controls",
      "model_module_version": "1.5.0",
      "model_name": "VBoxModel",
      "state": {
       "layout": "IPY_MODEL_679e70926c2145d38d9261c9e146a8f6"
      }
     },
     "9d3c72f5652c46a0a30ab2a6f5ac9eb0": {
      "model_module": "@jupyter-widgets/controls",
      "model_module_version": "1.5.0",
      "model_name": "HTMLModel",
      "state": {
       "layout": "IPY_MODEL_b7db1433a7da42f285d2030e33548c2d",
       "style": "IPY_MODEL_43013da028fb4c8ab75252cbb89b89fb"
      }
     },
     "9d55c1841d7744e3beb64983ed969172": {
      "model_module": "@jupyter-widgets/base",
      "model_module_version": "1.2.0",
      "model_name": "LayoutModel",
      "state": {
       "border": "solid 2px",
       "padding": "1rem"
      }
     },
     "9d58b2db927b4c7f82478455b57155bb": {
      "model_module": "@jupyter-widgets/controls",
      "model_module_version": "1.5.0",
      "model_name": "VBoxModel",
      "state": {
       "children": [
        "IPY_MODEL_191f5ab69cc54079b30ad52949a0182f",
        "IPY_MODEL_a80cca4b28b645259a24685a28a2e8da"
       ],
       "layout": "IPY_MODEL_7b9d254491f843dabb29bf36ec592fc8"
      }
     },
     "9db28a6f54e5426897c3e81c0b176612": {
      "model_module": "@jupyter-widgets/controls",
      "model_module_version": "1.5.0",
      "model_name": "LabelModel",
      "state": {
       "layout": "IPY_MODEL_95bd922df7694b3595c658928c4232ce",
       "style": "IPY_MODEL_93896fba63674bbd8ab8db460e8413f9",
       "value": "Input:"
      }
     },
     "9dca306b7fff45d985a6dc4814338b82": {
      "model_module": "@jupyter-widgets/controls",
      "model_module_version": "1.5.0",
      "model_name": "VBoxModel",
      "state": {
       "layout": "IPY_MODEL_9b3d9c22c0e24783bee58e300fc9a386"
      }
     },
     "9ddc80e035014e49abcf9ceb292181a6": {
      "model_module": "@jupyter-widgets/base",
      "model_module_version": "1.2.0",
      "model_name": "LayoutModel",
      "state": {
       "height": "100px",
       "width": "99%"
      }
     },
     "9e5a32b92e3540af89850e877dcd4500": {
      "model_module": "@jupyter-widgets/controls",
      "model_module_version": "1.5.0",
      "model_name": "TextareaModel",
      "state": {
       "layout": "IPY_MODEL_5bc03c707de744f9b4ae2438f8b42de2",
       "style": "IPY_MODEL_2396c96c36384ed88bb90aae4eb6c2c3"
      }
     },
     "9e876c53b4b44945a008c444f6cc57cc": {
      "model_module": "@jupyter-widgets/base",
      "model_module_version": "1.2.0",
      "model_name": "LayoutModel",
      "state": {
       "border": "solid 2px",
       "padding": "1rem"
      }
     },
     "9f4a85ea1eb64488b71f291db73fba9a": {
      "model_module": "@jupyter-widgets/base",
      "model_module_version": "1.2.0",
      "model_name": "LayoutModel",
      "state": {
       "width": "100%"
      }
     },
     "9f7e8f2da58c431180ec201a47e4f1be": {
      "model_module": "@jupyter-widgets/controls",
      "model_module_version": "1.5.0",
      "model_name": "HTMLModel",
      "state": {
       "layout": "IPY_MODEL_4c15c2b71a4249abab97adf286afd16f",
       "style": "IPY_MODEL_a295058c157e4390805d87050ee0d97a",
       "value": "<font color='green'> The program has 2 input instructions, 1 processing instruction, and 1 output instruction, totaling 4 instructions."
      }
     },
     "9feb79b173b446e5b4895c9d5e556137": {
      "model_module": "@jupyter-widgets/base",
      "model_module_version": "1.2.0",
      "model_name": "LayoutModel",
      "state": {}
     },
     "a007d4a9aff746c5b88858005a62d4ee": {
      "model_module": "@jupyter-widgets/base",
      "model_module_version": "1.2.0",
      "model_name": "LayoutModel",
      "state": {
       "border": "solid 2px",
       "padding": "1rem"
      }
     },
     "a0552e7a02434b7bbfc94693e1c9ef82": {
      "model_module": "@jupyter-widgets/base",
      "model_module_version": "1.2.0",
      "model_name": "LayoutModel",
      "state": {}
     },
     "a06b8e54da59480095e755e55b263784": {
      "model_module": "@jupyter-widgets/controls",
      "model_module_version": "1.5.0",
      "model_name": "HTMLModel",
      "state": {
       "layout": "IPY_MODEL_f7ac0b3b8a6f424a9f83f4e07a1f1adb",
       "style": "IPY_MODEL_1000719d5d8940a58f3bba895e111072"
      }
     },
     "a07433578bdd4fdfbc484a6aac8bcba5": {
      "model_module": "@jupyter-widgets/controls",
      "model_module_version": "1.5.0",
      "model_name": "TextModel",
      "state": {
       "layout": "IPY_MODEL_7f53f20047a245af83b56166103d5a9c",
       "style": "IPY_MODEL_be43b509f3714ee6ae2c146f4c769619"
      }
     },
     "a08890edc6d44c4780d00955ca20fb1d": {
      "model_module": "@jupyter-widgets/base",
      "model_module_version": "1.2.0",
      "model_name": "LayoutModel",
      "state": {
       "border": "solid 1px"
      }
     },
     "a08fbfe416e449738df4e697507494e4": {
      "model_module": "@jupyter-widgets/controls",
      "model_module_version": "1.5.0",
      "model_name": "LabelModel",
      "state": {
       "layout": "IPY_MODEL_efe47f96dfbf42298fd841da6935dd32",
       "style": "IPY_MODEL_5b58cff518de4636a92fc26fdefe78f2",
       "value": "Output:"
      }
     },
     "a0acb96eeb2b4fe98b7e3e19f7eca3d7": {
      "model_module": "@jupyter-widgets/controls",
      "model_module_version": "1.5.0",
      "model_name": "DescriptionStyleModel",
      "state": {
       "description_width": ""
      }
     },
     "a19c7ec249074a8f95a1e4c174993ad1": {
      "model_module": "@jupyter-widgets/controls",
      "model_module_version": "1.5.0",
      "model_name": "ButtonModel",
      "state": {
       "button_style": "warning",
       "description": "Check",
       "icon": "check",
       "layout": "IPY_MODEL_b1b5d50308574d83961ca2d2919e0350",
       "style": "IPY_MODEL_26bb2c9c55954f0cb2a3b46523c1dd86"
      }
     },
     "a1db4ec655314149a2a00fa3cdc9930a": {
      "model_module": "@jupyter-widgets/controls",
      "model_module_version": "1.5.0",
      "model_name": "ButtonStyleModel",
      "state": {}
     },
     "a20a74d5a42f4050950bb0a091c7a808": {
      "model_module": "@jupyter-widgets/controls",
      "model_module_version": "1.5.0",
      "model_name": "DescriptionStyleModel",
      "state": {
       "description_width": ""
      }
     },
     "a295058c157e4390805d87050ee0d97a": {
      "model_module": "@jupyter-widgets/controls",
      "model_module_version": "1.5.0",
      "model_name": "DescriptionStyleModel",
      "state": {
       "description_width": ""
      }
     },
     "a2b4966f8c0247e392f48bf1ea2aae8d": {
      "model_module": "@jupyter-widgets/controls",
      "model_module_version": "1.5.0",
      "model_name": "LabelModel",
      "state": {
       "layout": "IPY_MODEL_31c908579f2b4b6f9ac046e216a8e47f",
       "style": "IPY_MODEL_65f3fbf521884498a66985c990d3450c",
       "value": "Output:"
      }
     },
     "a2eea331aaac4b5f996d9cef5a05058b": {
      "model_module": "@jupyter-widgets/controls",
      "model_module_version": "1.5.0",
      "model_name": "CheckboxModel",
      "state": {
       "disabled": true,
       "layout": "IPY_MODEL_ff803803fb404097b3109723c8a0a159",
       "style": "IPY_MODEL_863cac85a6764620af191b1e85500ce7",
       "value": true
      }
     },
     "a46481c80c284438ae9b8990b59e825e": {
      "model_module": "@jupyter-widgets/controls",
      "model_module_version": "1.5.0",
      "model_name": "TextareaModel",
      "state": {
       "layout": "IPY_MODEL_f9edd71189b5461fa339cf644c717a50",
       "style": "IPY_MODEL_4bd19127506f4786b241b8e476e37da0"
      }
     },
     "a54ae890842746ea953298f9d24fc3e5": {
      "model_module": "@jupyter-widgets/controls",
      "model_module_version": "1.5.0",
      "model_name": "VBoxModel",
      "state": {
       "layout": "IPY_MODEL_1150f243ba404eb589a1c102cc386d81"
      }
     },
     "a56b5d542ced4f5980f65c842852df01": {
      "model_module": "@jupyter-widgets/base",
      "model_module_version": "1.2.0",
      "model_name": "LayoutModel",
      "state": {
       "height": "200px",
       "width": "99%"
      }
     },
     "a5d13a72a5414bc9969e3fa16b2bfc87": {
      "model_module": "@jupyter-widgets/controls",
      "model_module_version": "1.5.0",
      "model_name": "DescriptionStyleModel",
      "state": {
       "description_width": ""
      }
     },
     "a667e8294aab442f892fe4562fdf98b8": {
      "model_module": "@jupyter-widgets/controls",
      "model_module_version": "1.5.0",
      "model_name": "VBoxModel",
      "state": {
       "children": [
        "IPY_MODEL_23bac4f9108f4498b008c8aede3140f4",
        "IPY_MODEL_89d5cfaeccd84010a9c983645bafc227"
       ],
       "layout": "IPY_MODEL_c9f6800e1f7041dead4df3299a3dabd2"
      }
     },
     "a72d2c2798ef4b5d9ad0582e9fc78831": {
      "model_module": "@jupyter-widgets/controls",
      "model_module_version": "1.5.0",
      "model_name": "VBoxModel",
      "state": {
       "children": [
        "IPY_MODEL_4094ab0a73b34eb68e9a2433e2d2b063",
        "IPY_MODEL_8c6cb018ac6f445c96bd1f22cb03ee49"
       ],
       "layout": "IPY_MODEL_acd813362cd442748d52e863c6c893b7"
      }
     },
     "a7dee3cb995246078ca76b526fd33f1d": {
      "model_module": "@jupyter-widgets/base",
      "model_module_version": "1.2.0",
      "model_name": "LayoutModel",
      "state": {}
     },
     "a7f72a4fefd64a1692961fc12f28c839": {
      "model_module": "@jupyter-widgets/base",
      "model_module_version": "1.2.0",
      "model_name": "LayoutModel",
      "state": {}
     },
     "a80cca4b28b645259a24685a28a2e8da": {
      "model_module": "@jupyter-widgets/controls",
      "model_module_version": "1.5.0",
      "model_name": "TextareaModel",
      "state": {
       "layout": "IPY_MODEL_fef59591570948bc987e9d2044dbc6aa",
       "placeholder": "",
       "style": "IPY_MODEL_5a1d1220e83d4a73b3c18318d1812b4c",
       "value": "#include <stdio.h>\n\nint main(void) {\n int a;\n scanf(\"%d\", &a);\n printf(\"%d\\n\", a);\n return 0;\n}"
      }
     },
     "a85bdca616074d90b002859aa2b72406": {
      "model_module": "@jupyter-widgets/base",
      "model_module_version": "1.2.0",
      "model_name": "LayoutModel",
      "state": {
       "border": "solid 2px",
       "padding": "1rem"
      }
     },
     "a87260d49b4344a3a93d3fff05f97b67": {
      "model_module": "@jupyter-widgets/controls",
      "model_module_version": "1.5.0",
      "model_name": "ButtonModel",
      "state": {
       "layout": "IPY_MODEL_c82956406f9a4d26933d07294399da10",
       "style": "IPY_MODEL_ff96270283344c93bcfa9251902f2f3c"
      }
     },
     "a8a96be2896a4f959111f058176e0459": {
      "model_module": "@jupyter-widgets/base",
      "model_module_version": "1.2.0",
      "model_name": "LayoutModel",
      "state": {
       "border": "solid 1px"
      }
     },
     "a8b413246211454483fbf752bacccca6": {
      "model_module": "@jupyter-widgets/controls",
      "model_module_version": "1.5.0",
      "model_name": "VBoxModel",
      "state": {
       "children": [
        "IPY_MODEL_ea7c7dd2073447bf952f7443b28b7ab5",
        "IPY_MODEL_253989aa20984d8390f7ac863a74f5d8",
        "IPY_MODEL_048d97403d7b4f4399425ca8e528900a",
        "IPY_MODEL_859a1017bd644855ac04ffde6d77fe5f"
       ],
       "layout": "IPY_MODEL_9742bad3777e428da714d1cebaefc867"
      }
     },
     "a9d52d06eaeb4924beee7759b3c10dc5": {
      "model_module": "@jupyter-widgets/base",
      "model_module_version": "1.2.0",
      "model_name": "LayoutModel",
      "state": {
       "border": "solid 2px",
       "padding": "1rem"
      }
     },
     "aaaf47dfd563494dbc0bd64ef36e8ca3": {
      "model_module": "@jupyter-widgets/controls",
      "model_module_version": "1.5.0",
      "model_name": "LabelModel",
      "state": {
       "layout": "IPY_MODEL_78f6da8a38794b92ae7f9b67d6c5c112",
       "style": "IPY_MODEL_dc242016e3194517bc4c01b7ea119ffe",
       "value": "Input:"
      }
     },
     "aaccecf2d4a246f6a4cc34897e52880e": {
      "model_module": "@jupyter-widgets/controls",
      "model_module_version": "1.5.0",
      "model_name": "VBoxModel",
      "state": {
       "children": [
        "IPY_MODEL_944a56a9955f4f799a13e4c6bcc2d77f",
        "IPY_MODEL_60deb18b33b047dda5afddb01d2d6d97"
       ],
       "layout": "IPY_MODEL_5e391e915a714b32a838ad6b7f69114c"
      }
     },
     "ab28db79a5704d23996b04fe9a843831": {
      "model_module": "@jupyter-widgets/controls",
      "model_module_version": "1.5.0",
      "model_name": "DescriptionStyleModel",
      "state": {
       "description_width": ""
      }
     },
     "aba5e859446840cea1628907f97c3c63": {
      "model_module": "@jupyter-widgets/controls",
      "model_module_version": "1.5.0",
      "model_name": "DescriptionStyleModel",
      "state": {
       "description_width": ""
      }
     },
     "ac2cd3a097824faa8d08ecce64ac203b": {
      "model_module": "@jupyter-widgets/controls",
      "model_module_version": "1.5.0",
      "model_name": "DescriptionStyleModel",
      "state": {
       "description_width": ""
      }
     },
     "ac30c9cf96914986b17b7150638b3318": {
      "model_module": "@jupyter-widgets/controls",
      "model_module_version": "1.5.0",
      "model_name": "VBoxModel",
      "state": {
       "children": [
        "IPY_MODEL_7df9caacdb014bedbdf57166e3ad8ee6",
        "IPY_MODEL_688c59e4acae4ccf8bcb8d95b27441c1",
        "IPY_MODEL_fba8646cd9b3415188e1a9c636e2c264",
        "IPY_MODEL_21b6174bd26c437eb8f09320f7909212"
       ],
       "layout": "IPY_MODEL_2fe6dd0770f04c538fd69cfd3617ac87"
      }
     },
     "acd813362cd442748d52e863c6c893b7": {
      "model_module": "@jupyter-widgets/base",
      "model_module_version": "1.2.0",
      "model_name": "LayoutModel",
      "state": {
       "border": "ridge 2px",
       "padding": "1rem"
      }
     },
     "acfff08d5bed43f5beb5410c765e28e8": {
      "model_module": "@jupyter-widgets/controls",
      "model_module_version": "1.5.0",
      "model_name": "DescriptionStyleModel",
      "state": {
       "description_width": ""
      }
     },
     "ad5b408bb8b343c28ba3c572099d9ba1": {
      "model_module": "@jupyter-widgets/controls",
      "model_module_version": "1.5.0",
      "model_name": "ButtonStyleModel",
      "state": {}
     },
     "adc1aa7923df4e158f76145e02d69773": {
      "model_module": "@jupyter-widgets/base",
      "model_module_version": "1.2.0",
      "model_name": "LayoutModel",
      "state": {}
     },
     "ae39117e68514c0fbb6ce1b3d874fc24": {
      "model_module": "@jupyter-widgets/controls",
      "model_module_version": "1.5.0",
      "model_name": "ButtonStyleModel",
      "state": {}
     },
     "aefa8ffc31ba4a9b8dde4978460f162f": {
      "model_module": "@jupyter-widgets/controls",
      "model_module_version": "1.5.0",
      "model_name": "ButtonModel",
      "state": {
       "button_style": "warning",
       "description": "Run Code",
       "icon": "check",
       "layout": "IPY_MODEL_21b837e125494770a6cd8abdf3092c14",
       "style": "IPY_MODEL_b0c4f88462dc4348aefd14b4056fc52b"
      }
     },
     "aefdb60842f94d3f872df7e9ad348f33": {
      "model_module": "@jupyter-widgets/controls",
      "model_module_version": "1.5.0",
      "model_name": "DescriptionStyleModel",
      "state": {
       "description_width": ""
      }
     },
     "afb5da2e16ef4ddf86fedd2231bb858a": {
      "model_module": "@jupyter-widgets/controls",
      "model_module_version": "1.5.0",
      "model_name": "ToggleButtonModel",
      "state": {
       "description": "Show code",
       "layout": "IPY_MODEL_b5f5552ba9f845908c33865d265c4fd0",
       "style": "IPY_MODEL_3f91f61c7b574c8da70d5e5676059c7f"
      }
     },
     "afb94166a88740cfbc42919d77666d84": {
      "model_module": "@jupyter-widgets/controls",
      "model_module_version": "1.5.0",
      "model_name": "TextareaModel",
      "state": {
       "layout": "IPY_MODEL_368d0bdf9477454c9c4cbee27aa13ccf",
       "placeholder": "",
       "style": "IPY_MODEL_2c2f8352b1c84ff89e8d6d76854c6b42",
       "value": "#include <stdio.h>\n\nint main(void) {\n printf(\"Hello world!\\n\");\n return 0;\n}"
      }
     },
     "afc94dfd4db347b993ced3a39ef4beac": {
      "model_module": "@jupyter-widgets/base",
      "model_module_version": "1.2.0",
      "model_name": "LayoutModel",
      "state": {
       "height": "100px",
       "width": "250px"
      }
     },
     "aff40c442c3d448299d8c26de35ccb30": {
      "model_module": "@jupyter-widgets/controls",
      "model_module_version": "1.5.0",
      "model_name": "DescriptionStyleModel",
      "state": {
       "description_width": ""
      }
     },
     "affb4d2830914ea8b9c2413bedf3625d": {
      "model_module": "@jupyter-widgets/controls",
      "model_module_version": "1.5.0",
      "model_name": "VBoxModel",
      "state": {
       "layout": "IPY_MODEL_5529dbddffd74f498aabc2943b25d11b"
      }
     },
     "b014ff26dc334c56af9d62acdce684d6": {
      "model_module": "@jupyter-widgets/controls",
      "model_module_version": "1.5.0",
      "model_name": "ButtonStyleModel",
      "state": {}
     },
     "b0c4f88462dc4348aefd14b4056fc52b": {
      "model_module": "@jupyter-widgets/controls",
      "model_module_version": "1.5.0",
      "model_name": "ButtonStyleModel",
      "state": {}
     },
     "b175737979994953a18e0ceb4a56d295": {
      "model_module": "@jupyter-widgets/controls",
      "model_module_version": "1.5.0",
      "model_name": "CheckboxModel",
      "state": {
       "disabled": true,
       "layout": "IPY_MODEL_bae9151436984f8e833f500f64c5350e",
       "style": "IPY_MODEL_a0acb96eeb2b4fe98b7e3e19f7eca3d7",
       "value": false
      }
     },
     "b1b5d50308574d83961ca2d2919e0350": {
      "model_module": "@jupyter-widgets/base",
      "model_module_version": "1.2.0",
      "model_name": "LayoutModel",
      "state": {
       "width": "90px"
      }
     },
     "b1c1b7fce9ca4192b20da95bd48f4dfb": {
      "model_module": "@jupyter-widgets/controls",
      "model_module_version": "1.5.0",
      "model_name": "RadioButtonsModel",
      "state": {
       "_options_labels": [
        "Multiply x by 2",
        "Add 2 to x",
        "Multiply x by 1/2"
       ],
       "index": 0,
       "layout": "IPY_MODEL_0b5a2d8f99e14be9a61b731a4f7d323d",
       "style": "IPY_MODEL_3db2ff0a369e42dbb7a377bc05dbeb69"
      }
     },
     "b201f680bd1841d987982f935a1d724c": {
      "model_module": "@jupyter-widgets/controls",
      "model_module_version": "1.5.0",
      "model_name": "ButtonStyleModel",
      "state": {}
     },
     "b23985ecacab4db1939bad00696d92c1": {
      "model_module": "@jupyter-widgets/base",
      "model_module_version": "1.2.0",
      "model_name": "LayoutModel",
      "state": {}
     },
     "b2567d63f4674699aac6e2b299e212b2": {
      "model_module": "@jupyter-widgets/base",
      "model_module_version": "1.2.0",
      "model_name": "LayoutModel",
      "state": {}
     },
     "b41a74a1e14b4085aa5c537c48ef5913": {
      "model_module": "@jupyter-widgets/base",
      "model_module_version": "1.2.0",
      "model_name": "LayoutModel",
      "state": {}
     },
     "b450de43ae2c4e5d9d1e54728cf55658": {
      "model_module": "@jupyter-widgets/base",
      "model_module_version": "1.2.0",
      "model_name": "LayoutModel",
      "state": {
       "height": "100px",
       "width": "99%"
      }
     },
     "b4ad2a4e279c4651b177ca1a164bc1f5": {
      "model_module": "@jupyter-widgets/controls",
      "model_module_version": "1.5.0",
      "model_name": "TextModel",
      "state": {
       "layout": "IPY_MODEL_64b507a4939d4c149b9d14e9811561a9",
       "style": "IPY_MODEL_3fc1f5a699f242bfb5572864d2df5baf"
      }
     },
     "b4c1da0540ce4d57aa8a26a8c9587426": {
      "model_module": "@jupyter-widgets/controls",
      "model_module_version": "1.5.0",
      "model_name": "ButtonStyleModel",
      "state": {}
     },
     "b4d0d846647c426aba7410098df74ce8": {
      "model_module": "@jupyter-widgets/controls",
      "model_module_version": "1.5.0",
      "model_name": "DescriptionStyleModel",
      "state": {
       "description_width": ""
      }
     },
     "b51e78be682c4904944c8e5b527eb2eb": {
      "model_module": "@jupyter-widgets/base",
      "model_module_version": "1.2.0",
      "model_name": "LayoutModel",
      "state": {}
     },
     "b526776cd70a4326b178dfbf322c5e6e": {
      "model_module": "@jupyter-widgets/controls",
      "model_module_version": "1.5.0",
      "model_name": "LabelModel",
      "state": {
       "layout": "IPY_MODEL_fa7e07f2a3a84592a54557aae01b8057",
       "style": "IPY_MODEL_e2e16f1536dd4892a30d4a6e968ac0a0",
       "value": "Output: "
      }
     },
     "b53e417da0e54286a01bf8471c6dc71d": {
      "model_module": "@jupyter-widgets/controls",
      "model_module_version": "1.5.0",
      "model_name": "TextModel",
      "state": {
       "layout": "IPY_MODEL_9feb79b173b446e5b4895c9d5e556137",
       "style": "IPY_MODEL_809db0450dea42d9bee0a625d472346e"
      }
     },
     "b5e91b4c98cb4bd8abe1be2d20f8ce60": {
      "model_module": "@jupyter-widgets/controls",
      "model_module_version": "1.5.0",
      "model_name": "CheckboxModel",
      "state": {
       "disabled": true,
       "layout": "IPY_MODEL_c63c7bf6fc3b484f8e8126606b2c16cc",
       "style": "IPY_MODEL_948182a59f214bd78d1dd975e20103a7",
       "value": false
      }
     },
     "b5f5552ba9f845908c33865d265c4fd0": {
      "model_module": "@jupyter-widgets/base",
      "model_module_version": "1.2.0",
      "model_name": "LayoutModel",
      "state": {}
     },
     "b63b6a5c4f774c0da38b80fe3f6ede6c": {
      "model_module": "@jupyter-widgets/base",
      "model_module_version": "1.2.0",
      "model_name": "LayoutModel",
      "state": {
       "border": "solid 1px"
      }
     },
     "b65c6f4696de4fac9c1ebf70fd68804f": {
      "model_module": "@jupyter-widgets/controls",
      "model_module_version": "1.5.0",
      "model_name": "DescriptionStyleModel",
      "state": {
       "description_width": ""
      }
     },
     "b681f251c087424f9a8cec33acddf6f5": {
      "model_module": "@jupyter-widgets/base",
      "model_module_version": "1.2.0",
      "model_name": "LayoutModel",
      "state": {}
     },
     "b6a94ac629224d2c92929b60278951a8": {
      "model_module": "@jupyter-widgets/controls",
      "model_module_version": "1.5.0",
      "model_name": "DescriptionStyleModel",
      "state": {
       "description_width": ""
      }
     },
     "b6d4b141ecfb44849e400272d192a0c1": {
      "model_module": "@jupyter-widgets/controls",
      "model_module_version": "1.5.0",
      "model_name": "ButtonStyleModel",
      "state": {}
     },
     "b718a17d66d946c8a8c233318a2361ae": {
      "model_module": "@jupyter-widgets/controls",
      "model_module_version": "1.5.0",
      "model_name": "ButtonModel",
      "state": {
       "button_style": "warning",
       "description": "Run Code",
       "icon": "check",
       "layout": "IPY_MODEL_7442f63bcba14bceaa905ff7b022bf69",
       "style": "IPY_MODEL_83515fe4857f48daac8d2f31a4fd5fa8"
      }
     },
     "b79cff616f974d67b3145f8563cd158b": {
      "model_module": "@jupyter-widgets/controls",
      "model_module_version": "1.5.0",
      "model_name": "ButtonStyleModel",
      "state": {}
     },
     "b7c6e22d9d134974a62a103e2ddadeba": {
      "model_module": "@jupyter-widgets/controls",
      "model_module_version": "1.5.0",
      "model_name": "TextareaModel",
      "state": {
       "layout": "IPY_MODEL_f9a7599c473740eb9cdb876436fe86f6",
       "style": "IPY_MODEL_14ff82ce76a04f0c889919f5e4ed31e9"
      }
     },
     "b7db1433a7da42f285d2030e33548c2d": {
      "model_module": "@jupyter-widgets/base",
      "model_module_version": "1.2.0",
      "model_name": "LayoutModel",
      "state": {}
     },
     "b86d8ac9662a4aeb9c633c86488ac7d8": {
      "model_module": "@jupyter-widgets/base",
      "model_module_version": "1.2.0",
      "model_name": "LayoutModel",
      "state": {}
     },
     "b88f19318e7d42e1816b7732369422be": {
      "model_module": "@jupyter-widgets/controls",
      "model_module_version": "1.5.0",
      "model_name": "CheckboxModel",
      "state": {
       "disabled": true,
       "layout": "IPY_MODEL_d77deeff58894aaf8a147716d79447e1",
       "style": "IPY_MODEL_07fe2ff2aadf45a188e7e4c40b11350b",
       "value": false
      }
     },
     "b8d08d580cf0430b84ee13553516b8df": {
      "model_module": "@jupyter-widgets/controls",
      "model_module_version": "1.5.0",
      "model_name": "TextModel",
      "state": {
       "layout": "IPY_MODEL_d1d198ff56a0409aaa905de40eaa59e5",
       "style": "IPY_MODEL_c2c561aab2864121a937a12952546e18"
      }
     },
     "b8f32c569c1144d4b2993b5656e772e8": {
      "model_module": "@jupyter-widgets/controls",
      "model_module_version": "1.5.0",
      "model_name": "DescriptionStyleModel",
      "state": {
       "description_width": ""
      }
     },
     "b910ff85484647df9cc4b615b1d5ebe3": {
      "model_module": "@jupyter-widgets/controls",
      "model_module_version": "1.5.0",
      "model_name": "DescriptionStyleModel",
      "state": {
       "description_width": ""
      }
     },
     "b92b02c3bb444b17afedd81775336570": {
      "model_module": "@jupyter-widgets/base",
      "model_module_version": "1.2.0",
      "model_name": "LayoutModel",
      "state": {
       "width": "90px"
      }
     },
     "b94f5d5ebce54a13bdf47a1bf2d584cb": {
      "model_module": "@jupyter-widgets/controls",
      "model_module_version": "1.5.0",
      "model_name": "ButtonStyleModel",
      "state": {}
     },
     "b98d51980a684af9910fe502e888b00d": {
      "model_module": "@jupyter-widgets/controls",
      "model_module_version": "1.5.0",
      "model_name": "DescriptionStyleModel",
      "state": {
       "description_width": ""
      }
     },
     "b9d3b43fdc64412bae77afd597b4a152": {
      "model_module": "@jupyter-widgets/controls",
      "model_module_version": "1.5.0",
      "model_name": "DescriptionStyleModel",
      "state": {
       "description_width": ""
      }
     },
     "bad32bfa4e844032b69df50bf3985d83": {
      "model_module": "@jupyter-widgets/base",
      "model_module_version": "1.2.0",
      "model_name": "LayoutModel",
      "state": {}
     },
     "bad5220f3ca940a0b5e2c36c80f48b07": {
      "model_module": "@jupyter-widgets/base",
      "model_module_version": "1.2.0",
      "model_name": "LayoutModel",
      "state": {
       "border": "solid 2px",
       "padding": "1rem"
      }
     },
     "badb762dc6e542c7b6370d244a3cd6e4": {
      "model_module": "@jupyter-widgets/controls",
      "model_module_version": "1.5.0",
      "model_name": "DescriptionStyleModel",
      "state": {
       "description_width": ""
      }
     },
     "bae9151436984f8e833f500f64c5350e": {
      "model_module": "@jupyter-widgets/base",
      "model_module_version": "1.2.0",
      "model_name": "LayoutModel",
      "state": {}
     },
     "bb2cba3698f84801a20d0efc84779b3e": {
      "model_module": "@jupyter-widgets/controls",
      "model_module_version": "1.5.0",
      "model_name": "DescriptionStyleModel",
      "state": {
       "description_width": ""
      }
     },
     "bb76325e315d40d2876e5275e5eaf1b0": {
      "model_module": "@jupyter-widgets/base",
      "model_module_version": "1.2.0",
      "model_name": "LayoutModel",
      "state": {}
     },
     "bcedf192e2a342bc8b5eb5dacccb0d12": {
      "model_module": "@jupyter-widgets/base",
      "model_module_version": "1.2.0",
      "model_name": "LayoutModel",
      "state": {}
     },
     "bdbc31319da2431baf5e49fb53373261": {
      "model_module": "@jupyter-widgets/controls",
      "model_module_version": "1.5.0",
      "model_name": "DescriptionStyleModel",
      "state": {
       "description_width": ""
      }
     },
     "be43b509f3714ee6ae2c146f4c769619": {
      "model_module": "@jupyter-widgets/controls",
      "model_module_version": "1.5.0",
      "model_name": "DescriptionStyleModel",
      "state": {
       "description_width": ""
      }
     },
     "be6cc9b644464233a82997d88044343c": {
      "model_module": "@jupyter-widgets/controls",
      "model_module_version": "1.5.0",
      "model_name": "VBoxModel",
      "state": {
       "layout": "IPY_MODEL_0ba01cde29914a90b64c6e4fe0542e92"
      }
     },
     "be6e6d2916f342d099261429c6087a7d": {
      "model_module": "@jupyter-widgets/base",
      "model_module_version": "1.2.0",
      "model_name": "LayoutModel",
      "state": {}
     },
     "be76d57ca7b846509d338b47bb82c04e": {
      "model_module": "@jupyter-widgets/controls",
      "model_module_version": "1.5.0",
      "model_name": "TextModel",
      "state": {
       "layout": "IPY_MODEL_f366efa2a5514b24aba7fb6482e6cee7",
       "style": "IPY_MODEL_94539c4159694559a4a03f9017e8b046"
      }
     },
     "bea3369c64734401a58adbedf8d66a4c": {
      "model_module": "@jupyter-widgets/base",
      "model_module_version": "1.2.0",
      "model_name": "LayoutModel",
      "state": {
       "border": "solid 2px",
       "padding": "1rem"
      }
     },
     "bec7dcb7e8ce423e8e397d05bf9959a3": {
      "model_module": "@jupyter-widgets/controls",
      "model_module_version": "1.5.0",
      "model_name": "DescriptionStyleModel",
      "state": {
       "description_width": ""
      }
     },
     "beda83c6dee54e588bddb254c0dffd59": {
      "model_module": "@jupyter-widgets/controls",
      "model_module_version": "1.5.0",
      "model_name": "VBoxModel",
      "state": {
       "layout": "IPY_MODEL_fa54f55aec3d440eade7edfd8078d3a6"
      }
     },
     "bf222144fb6540659a5dce0c3705dd57": {
      "model_module": "@jupyter-widgets/base",
      "model_module_version": "1.2.0",
      "model_name": "LayoutModel",
      "state": {}
     },
     "bf7c860f7a1d4eff9d2d0d11cd72e15f": {
      "model_module": "@jupyter-widgets/controls",
      "model_module_version": "1.5.0",
      "model_name": "DescriptionStyleModel",
      "state": {
       "description_width": ""
      }
     },
     "bfa3babb840b481aa6b00bff23af9331": {
      "model_module": "@jupyter-widgets/controls",
      "model_module_version": "1.5.0",
      "model_name": "TextareaModel",
      "state": {
       "layout": "IPY_MODEL_8498169932194328b1621f7f2e418cf7",
       "style": "IPY_MODEL_de7a2e6c014244b2ba1d9bd9951a51c3"
      }
     },
     "bfe39f38452a42ef8d75e51d07cf9046": {
      "model_module": "@jupyter-widgets/controls",
      "model_module_version": "1.5.0",
      "model_name": "LabelModel",
      "state": {
       "layout": "IPY_MODEL_97965e377273467ab77221aa404d49f8",
       "style": "IPY_MODEL_badb762dc6e542c7b6370d244a3cd6e4",
       "value": "Participation: 0%"
      }
     },
     "bff28cb096164f8a8699b52256c06b27": {
      "model_module": "@jupyter-widgets/controls",
      "model_module_version": "1.5.0",
      "model_name": "ButtonModel",
      "state": {
       "button_style": "warning",
       "description": "Run Code",
       "icon": "check",
       "layout": "IPY_MODEL_e54c841a3e284fa5bfe8aa8dfd49312c",
       "style": "IPY_MODEL_2038d813241148aa9b0140f27ccef687"
      }
     },
     "c00165e3a3b74e3182f3e5270f7fbd8a": {
      "model_module": "@jupyter-widgets/base",
      "model_module_version": "1.2.0",
      "model_name": "LayoutModel",
      "state": {}
     },
     "c021d3f97c684b8891b11f07358eb3ac": {
      "model_module": "@jupyter-widgets/controls",
      "model_module_version": "1.5.0",
      "model_name": "DescriptionStyleModel",
      "state": {
       "description_width": ""
      }
     },
     "c0315f310f9547e79229c371c73fa5e5": {
      "model_module": "@jupyter-widgets/base",
      "model_module_version": "1.2.0",
      "model_name": "LayoutModel",
      "state": {}
     },
     "c031a2fa961d4a97a1e618f56ea2c535": {
      "model_module": "@jupyter-widgets/controls",
      "model_module_version": "1.5.0",
      "model_name": "TextareaModel",
      "state": {
       "layout": "IPY_MODEL_478c0bb754204930afcbcdefde49ee6f",
       "placeholder": "",
       "style": "IPY_MODEL_469c039c2b8e428cbda88c98ccc12d57"
      }
     },
     "c04e6dffd98747b286fb692c79c99de2": {
      "model_module": "@jupyter-widgets/controls",
      "model_module_version": "1.5.0",
      "model_name": "HTMLModel",
      "state": {
       "layout": "IPY_MODEL_1f6fade1ab544f6c99861640cff92e91",
       "style": "IPY_MODEL_d9ba427f34f04fb7862e3da181573cc1"
      }
     },
     "c0bc4e6ec67f4200aa6bcb8c1b83af70": {
      "model_module": "@jupyter-widgets/base",
      "model_module_version": "1.2.0",
      "model_name": "LayoutModel",
      "state": {}
     },
     "c0ea609ec9d74f8b9a90aceb3b18035e": {
      "model_module": "@jupyter-widgets/base",
      "model_module_version": "1.2.0",
      "model_name": "LayoutModel",
      "state": {
       "border": "solid 1px"
      }
     },
     "c1761d6fe45949c2b1089ee8d17fd789": {
      "model_module": "@jupyter-widgets/base",
      "model_module_version": "1.2.0",
      "model_name": "LayoutModel",
      "state": {
       "border": "solid 2px",
       "padding": "1rem"
      }
     },
     "c17e3ba440a148d7b7738d8b86026e55": {
      "model_module": "@jupyter-widgets/controls",
      "model_module_version": "1.5.0",
      "model_name": "DescriptionStyleModel",
      "state": {
       "description_width": ""
      }
     },
     "c1b1b1b96f954e388ba47c31b5196dd8": {
      "model_module": "@jupyter-widgets/controls",
      "model_module_version": "1.5.0",
      "model_name": "ButtonStyleModel",
      "state": {}
     },
     "c1d291f7fa9b43f2a0a50316a64d157a": {
      "model_module": "@jupyter-widgets/controls",
      "model_module_version": "1.5.0",
      "model_name": "RadioButtonsModel",
      "state": {
       "_options_labels": [
        "Multiply x by 2",
        "Add 2 to x",
        "Multiply x by 1/2"
       ],
       "index": 2,
       "layout": "IPY_MODEL_029f4eee96374db79d971383258b19d4",
       "style": "IPY_MODEL_274b1cb6f64343da9becc217a330d5dd"
      }
     },
     "c220916695554763998f7bca5ee88c57": {
      "model_module": "@jupyter-widgets/base",
      "model_module_version": "1.2.0",
      "model_name": "LayoutModel",
      "state": {}
     },
     "c2acb248f43f49818ae5809b5aa05450": {
      "model_module": "@jupyter-widgets/base",
      "model_module_version": "1.2.0",
      "model_name": "LayoutModel",
      "state": {
       "border": "solid 2px",
       "padding": "1rem"
      }
     },
     "c2c561aab2864121a937a12952546e18": {
      "model_module": "@jupyter-widgets/controls",
      "model_module_version": "1.5.0",
      "model_name": "DescriptionStyleModel",
      "state": {
       "description_width": ""
      }
     },
     "c3daee16554a47f6a883bad4655e9f28": {
      "model_module": "@jupyter-widgets/controls",
      "model_module_version": "1.5.0",
      "model_name": "RadioButtonsModel",
      "state": {
       "index": null,
       "layout": "IPY_MODEL_fdcd2aab75a54e49b852176f3e71620f",
       "style": "IPY_MODEL_2687fa121fd04a778f1fa60bd8767e24"
      }
     },
     "c3f4c90dc7754bfab5a3a5af0a51c521": {
      "model_module": "@jupyter-widgets/base",
      "model_module_version": "1.2.0",
      "model_name": "LayoutModel",
      "state": {}
     },
     "c452bdacd63b4986b7777deafc0a0459": {
      "model_module": "@jupyter-widgets/controls",
      "model_module_version": "1.5.0",
      "model_name": "DescriptionStyleModel",
      "state": {
       "description_width": ""
      }
     },
     "c481061d89344e75a081309e930bc0f6": {
      "model_module": "@jupyter-widgets/controls",
      "model_module_version": "1.5.0",
      "model_name": "ToggleButtonModel",
      "state": {
       "description": "Show code",
       "layout": "IPY_MODEL_1ce749eb82c640d782c344e7151c2c70",
       "style": "IPY_MODEL_4666b21c266543ebb2074b8a72f46683"
      }
     },
     "c4a3bc3b312147648a5e5ab6fb42897a": {
      "model_module": "@jupyter-widgets/controls",
      "model_module_version": "1.5.0",
      "model_name": "TextareaModel",
      "state": {
       "layout": "IPY_MODEL_32d27c945ef24e60a54366fcd90a8e4b",
       "placeholder": "",
       "style": "IPY_MODEL_658feaae047b483d9cd97b9f5140ba67",
       "value": "#include <stdio.h>\n\nint main(void) {\n printf(\"Hello world!\\n\");\n return 0;\n}"
      }
     },
     "c548898e9433420f9ef345c346f88306": {
      "model_module": "@jupyter-widgets/controls",
      "model_module_version": "1.5.0",
      "model_name": "ButtonModel",
      "state": {
       "button_style": "success",
       "description": "Correct",
       "icon": "check",
       "layout": "IPY_MODEL_2530014a994b4338b3182fca6177c4d5",
       "style": "IPY_MODEL_ca7a7bae5df8493fa3cab0eb78be79f9"
      }
     },
     "c560dc18903f487aabeb64dcb2c90267": {
      "model_module": "@jupyter-widgets/controls",
      "model_module_version": "1.5.0",
      "model_name": "DescriptionStyleModel",
      "state": {
       "description_width": ""
      }
     },
     "c5c356a60e204cc39eba77fc73cce841": {
      "model_module": "@jupyter-widgets/controls",
      "model_module_version": "1.5.0",
      "model_name": "VBoxModel",
      "state": {
       "children": [
        "IPY_MODEL_64504ec1beba4e51aa74673d823b5ed8",
        "IPY_MODEL_3e324321a7d444bb974daa11e4d09938",
        "IPY_MODEL_c548898e9433420f9ef345c346f88306",
        "IPY_MODEL_d97a38914832404298ed971518436bd1"
       ],
       "layout": "IPY_MODEL_19d0143fd5364f50bae755d72cbc3a99"
      }
     },
     "c63c7bf6fc3b484f8e8126606b2c16cc": {
      "model_module": "@jupyter-widgets/base",
      "model_module_version": "1.2.0",
      "model_name": "LayoutModel",
      "state": {}
     },
     "c651646c92294db794deea56463892ed": {
      "model_module": "@jupyter-widgets/controls",
      "model_module_version": "1.5.0",
      "model_name": "TextareaModel",
      "state": {
       "layout": "IPY_MODEL_d0d5b911481b4bd985761fd87c825535",
       "placeholder": "",
       "style": "IPY_MODEL_27b3599653db416a9cfbf8a80d56665e",
       "value": "#include <stdio.h>\n\nint main(void) {\n printf(\"Hello world!\\n\");\n return 0;\n}"
      }
     },
     "c6ad3fdaedbf454998c4dcb43014414a": {
      "model_module": "@jupyter-widgets/base",
      "model_module_version": "1.2.0",
      "model_name": "LayoutModel",
      "state": {}
     },
     "c6c756681a464cf6bc9d55d9677adf3e": {
      "model_module": "@jupyter-widgets/controls",
      "model_module_version": "1.5.0",
      "model_name": "TextareaModel",
      "state": {
       "layout": "IPY_MODEL_e76f29f268ab484ca7c1e621ce1f11fd",
       "style": "IPY_MODEL_4d942a22734348afb0df8763f2b9980f"
      }
     },
     "c75793ae529a40518babeedf99994202": {
      "model_module": "@jupyter-widgets/controls",
      "model_module_version": "1.5.0",
      "model_name": "TextareaModel",
      "state": {
       "disabled": true,
       "layout": "IPY_MODEL_e95dc3091f53470eaafd66cfda11972d",
       "placeholder": "",
       "style": "IPY_MODEL_8853e29fcf284dd88edd70add60f5138"
      }
     },
     "c7dac8f7f88e4c8a9b4014cd0eed4961": {
      "model_module": "@jupyter-widgets/base",
      "model_module_version": "1.2.0",
      "model_name": "LayoutModel",
      "state": {}
     },
     "c811737628924c8cab80f62a9ac7fdbf": {
      "model_module": "@jupyter-widgets/controls",
      "model_module_version": "1.5.0",
      "model_name": "VBoxModel",
      "state": {
       "children": [
        "IPY_MODEL_902205963d3845d785bcc19949f693fe",
        "IPY_MODEL_c75793ae529a40518babeedf99994202"
       ],
       "layout": "IPY_MODEL_5ca740a6e07843f2b256eb75de74ce10"
      }
     },
     "c82956406f9a4d26933d07294399da10": {
      "model_module": "@jupyter-widgets/base",
      "model_module_version": "1.2.0",
      "model_name": "LayoutModel",
      "state": {}
     },
     "c8cd9f7343ad4c2d82d3131d53d54f94": {
      "model_module": "@jupyter-widgets/controls",
      "model_module_version": "1.5.0",
      "model_name": "VBoxModel",
      "state": {
       "layout": "IPY_MODEL_07e3fd8c1326420589b67781223dee19"
      }
     },
     "c9d22fb042b34f93a424afe487e3cad2": {
      "model_module": "@jupyter-widgets/controls",
      "model_module_version": "1.5.0",
      "model_name": "HTMLModel",
      "state": {
       "layout": "IPY_MODEL_282680b31da2470e86f49f0babfe86b3",
       "style": "IPY_MODEL_82505b05ceb445f8b55a7c5263f7f61b"
      }
     },
     "c9f6800e1f7041dead4df3299a3dabd2": {
      "model_module": "@jupyter-widgets/base",
      "model_module_version": "1.2.0",
      "model_name": "LayoutModel",
      "state": {}
     },
     "ca11abfa01f94573aaab22936dda4af0": {
      "model_module": "@jupyter-widgets/controls",
      "model_module_version": "1.5.0",
      "model_name": "DescriptionStyleModel",
      "state": {
       "description_width": ""
      }
     },
     "ca3bce841a6641bea5280acff4671ed2": {
      "model_module": "@jupyter-widgets/base",
      "model_module_version": "1.2.0",
      "model_name": "LayoutModel",
      "state": {}
     },
     "ca550cd60bff4dabba0bc019a6530801": {
      "model_module": "@jupyter-widgets/controls",
      "model_module_version": "1.5.0",
      "model_name": "VBoxModel",
      "state": {
       "children": [
        "IPY_MODEL_4e11fa3d012249afbf9d2ababe5b3241",
        "IPY_MODEL_c1d291f7fa9b43f2a0a50316a64d157a",
        "IPY_MODEL_52951dd82a0d42a1991348d14d06799d",
        "IPY_MODEL_329edea5bc9146e38ed68386b7aaa657"
       ],
       "layout": "IPY_MODEL_46d77e5052ee4eafb26d87b57f8da4e8"
      }
     },
     "ca7a7bae5df8493fa3cab0eb78be79f9": {
      "model_module": "@jupyter-widgets/controls",
      "model_module_version": "1.5.0",
      "model_name": "ButtonStyleModel",
      "state": {}
     },
     "ca88f096b67f4b3491314daa9732b5f5": {
      "model_module": "@jupyter-widgets/base",
      "model_module_version": "1.2.0",
      "model_name": "LayoutModel",
      "state": {
       "height": "100px",
       "width": "250px"
      }
     },
     "cbd5b5ce32dc46d99166cbaa6e2a9c1c": {
      "model_module": "@jupyter-widgets/base",
      "model_module_version": "1.2.0",
      "model_name": "LayoutModel",
      "state": {
       "width": "90px"
      }
     },
     "cc5ad5a203f646db991e12296a7260a1": {
      "model_module": "@jupyter-widgets/base",
      "model_module_version": "1.2.0",
      "model_name": "LayoutModel",
      "state": {}
     },
     "cc69a0d5ed6e41d6a2d7e52611c5a8e1": {
      "model_module": "@jupyter-widgets/base",
      "model_module_version": "1.2.0",
      "model_name": "LayoutModel",
      "state": {}
     },
     "cc7133f9b202412eae3c9e5e0798692d": {
      "model_module": "@jupyter-widgets/controls",
      "model_module_version": "1.5.0",
      "model_name": "ButtonStyleModel",
      "state": {}
     },
     "ccbb62ee7a684f94bc64495d03b3bdae": {
      "model_module": "@jupyter-widgets/base",
      "model_module_version": "1.2.0",
      "model_name": "LayoutModel",
      "state": {
       "width": "90px"
      }
     },
     "ccde647f43ff47cd800559b9e89361c3": {
      "model_module": "@jupyter-widgets/controls",
      "model_module_version": "1.5.0",
      "model_name": "HTMLModel",
      "state": {
       "layout": "IPY_MODEL_b681f251c087424f9a8cec33acddf6f5",
       "style": "IPY_MODEL_df68dcafad83415c83356ded4592a78f",
       "value": "(3) Which instruction completes the program to compute a triangle's area?<br>base = Get next input<br>height = Get next input<br>Assign x with base * height<br>_____<br>Put x to output<br>"
      }
     },
     "ccffc9d6e95d4dceb24618f4508351ff": {
      "model_module": "@jupyter-widgets/controls",
      "model_module_version": "1.5.0",
      "model_name": "DescriptionStyleModel",
      "state": {
       "description_width": ""
      }
     },
     "cd10eb756c6b49b4beba00773b158c08": {
      "model_module": "@jupyter-widgets/base",
      "model_module_version": "1.2.0",
      "model_name": "LayoutModel",
      "state": {
       "border": "solid 2px",
       "padding": "1rem"
      }
     },
     "cd378672361f488c880a08521f62d1cf": {
      "model_module": "@jupyter-widgets/controls",
      "model_module_version": "1.5.0",
      "model_name": "HTMLModel",
      "state": {
       "layout": "IPY_MODEL_1897c32db89e4dfcb1fa6961ca3ceace",
       "style": "IPY_MODEL_a20a74d5a42f4050950bb0a091c7a808",
       "value": "(1) The program has a total number of _____ instructions"
      }
     },
     "cdb3e101d5734e899e3454b4d07f960d": {
      "model_module": "@jupyter-widgets/controls",
      "model_module_version": "1.5.0",
      "model_name": "TextareaModel",
      "state": {
       "disabled": true,
       "layout": "IPY_MODEL_8ade09de780d4ad4b55835e6404406f9",
       "placeholder": "",
       "style": "IPY_MODEL_095a140789e7492e890bfa30ba56e6d9"
      }
     },
     "ce81c8ae91214072bdcdfb141d38772c": {
      "model_module": "@jupyter-widgets/controls",
      "model_module_version": "1.5.0",
      "model_name": "ButtonStyleModel",
      "state": {}
     },
     "cebef707c2d54c4a9d7485caceb208d3": {
      "model_module": "@jupyter-widgets/base",
      "model_module_version": "1.2.0",
      "model_name": "LayoutModel",
      "state": {}
     },
     "cf0724fedd264f1a80b305c767d0b531": {
      "model_module": "@jupyter-widgets/base",
      "model_module_version": "1.2.0",
      "model_name": "LayoutModel",
      "state": {}
     },
     "cf3fe6fb9a4f4750973d98e48deeeaa1": {
      "model_module": "@jupyter-widgets/controls",
      "model_module_version": "1.5.0",
      "model_name": "DescriptionStyleModel",
      "state": {
       "description_width": ""
      }
     },
     "cf6a661bb797419aba09ed002f7d6967": {
      "model_module": "@jupyter-widgets/base",
      "model_module_version": "1.2.0",
      "model_name": "LayoutModel",
      "state": {}
     },
     "cfc4c86c74c74bb79180615959e9ca54": {
      "model_module": "@jupyter-widgets/controls",
      "model_module_version": "1.5.0",
      "model_name": "RadioButtonsModel",
      "state": {
       "index": null,
       "layout": "IPY_MODEL_c220916695554763998f7bca5ee88c57",
       "style": "IPY_MODEL_efe61795fc824e08bfb329542b5309ce"
      }
     },
     "cfe6ca08b6484fc5bbddbe7eb3f95342": {
      "model_module": "@jupyter-widgets/controls",
      "model_module_version": "1.5.0",
      "model_name": "TextareaModel",
      "state": {
       "layout": "IPY_MODEL_ee83acc9ba6e4b2c9c9efecb543dbeb6",
       "placeholder": "",
       "style": "IPY_MODEL_0f473d6e6ef9485b85225b47d95ad4e0",
       "value": "#include <stdio.h>\n\nint main(void) {\n int a;\n scanf(\"%d\", &a);\n printf(\"%d\\n\", a);\n return 0;\n}"
      }
     },
     "d0507df94c114d15a6411119b6cac350": {
      "model_module": "@jupyter-widgets/base",
      "model_module_version": "1.2.0",
      "model_name": "LayoutModel",
      "state": {}
     },
     "d06d36d7591f45bba448fc8082c5f5cc": {
      "model_module": "@jupyter-widgets/controls",
      "model_module_version": "1.5.0",
      "model_name": "DescriptionStyleModel",
      "state": {
       "description_width": ""
      }
     },
     "d0d5b911481b4bd985761fd87c825535": {
      "model_module": "@jupyter-widgets/base",
      "model_module_version": "1.2.0",
      "model_name": "LayoutModel",
      "state": {
       "height": "200px",
       "width": "99%"
      }
     },
     "d1502bce5cc04e9296afcfc294fc781b": {
      "model_module": "@jupyter-widgets/base",
      "model_module_version": "1.2.0",
      "model_name": "LayoutModel",
      "state": {}
     },
     "d154cece24e1419ebcaf11c8f97a6aa7": {
      "model_module": "@jupyter-widgets/controls",
      "model_module_version": "1.5.0",
      "model_name": "VBoxModel",
      "state": {
       "children": [
        "IPY_MODEL_5cfc329c67c242d7a4c09cc51cb6cb95",
        "IPY_MODEL_d9a3876d233f4c658e7cd5f87c85d27a",
        "IPY_MODEL_e756e2be1c0c4fe2933e60ed1406bd28",
        "IPY_MODEL_d775292b7fb44f208914825949cdb408"
       ],
       "layout": "IPY_MODEL_9d55c1841d7744e3beb64983ed969172"
      }
     },
     "d16f65178fb74b39bc0a344a8bcd9433": {
      "model_module": "@jupyter-widgets/controls",
      "model_module_version": "1.5.0",
      "model_name": "ButtonModel",
      "state": {
       "button_style": "warning",
       "description": "Run Code",
       "icon": "check",
       "layout": "IPY_MODEL_a7dee3cb995246078ca76b526fd33f1d",
       "style": "IPY_MODEL_ae39117e68514c0fbb6ce1b3d874fc24"
      }
     },
     "d18d7b3261c54c97b70f9d17e6bc8663": {
      "model_module": "@jupyter-widgets/controls",
      "model_module_version": "1.5.0",
      "model_name": "CheckboxModel",
      "state": {
       "disabled": true,
       "layout": "IPY_MODEL_6202d96d7abe4ccd9e0c11d55fffcd19",
       "style": "IPY_MODEL_aff40c442c3d448299d8c26de35ccb30",
       "value": true
      }
     },
     "d1c4fa65400848e388d8e3ac7ad5a1a7": {
      "model_module": "@jupyter-widgets/controls",
      "model_module_version": "1.5.0",
      "model_name": "DescriptionStyleModel",
      "state": {
       "description_width": ""
      }
     },
     "d1d198ff56a0409aaa905de40eaa59e5": {
      "model_module": "@jupyter-widgets/base",
      "model_module_version": "1.2.0",
      "model_name": "LayoutModel",
      "state": {}
     },
     "d1d57ba51aea41b1aa66d879bcb7e238": {
      "model_module": "@jupyter-widgets/controls",
      "model_module_version": "1.5.0",
      "model_name": "ButtonModel",
      "state": {
       "button_style": "warning",
       "description": "Run Code",
       "icon": "check",
       "layout": "IPY_MODEL_b51e78be682c4904944c8e5b527eb2eb",
       "style": "IPY_MODEL_28b3ec3cd0bd42348fe03db824dc1cb2"
      }
     },
     "d22ef85b399d4ce4bb4e4bddd181c20c": {
      "model_module": "@jupyter-widgets/controls",
      "model_module_version": "1.5.0",
      "model_name": "DescriptionStyleModel",
      "state": {
       "description_width": ""
      }
     },
     "d2416e58caea4fec9b67d1694eb8de2a": {
      "model_module": "@jupyter-widgets/controls",
      "model_module_version": "1.5.0",
      "model_name": "DescriptionStyleModel",
      "state": {
       "description_width": ""
      }
     },
     "d2627ff0ceb349b09ce6cc8b519846e2": {
      "model_module": "@jupyter-widgets/controls",
      "model_module_version": "1.5.0",
      "model_name": "VBoxModel",
      "state": {
       "layout": "IPY_MODEL_33348730d90a4192b8453b4303f3b672"
      }
     },
     "d27cd60ad96d4b1eb89005f4df5d2f34": {
      "model_module": "@jupyter-widgets/controls",
      "model_module_version": "1.5.0",
      "model_name": "DescriptionStyleModel",
      "state": {
       "description_width": ""
      }
     },
     "d2b84f63452d43c08cd770e2db1a9de3": {
      "model_module": "@jupyter-widgets/controls",
      "model_module_version": "1.5.0",
      "model_name": "HTMLModel",
      "state": {
       "layout": "IPY_MODEL_027c6789392f44d5a7e127f885b5ad65",
       "style": "IPY_MODEL_3b0edd59426644e9b3a2f5d9bf6a4000",
       "value": "(3) Which instruction completes the program to compute a triangle's area?<br>base = Get next input<br>height = Get next input<br>Assign x with base * height<br>_____<br>Put x to output<br>"
      }
     },
     "d35a497ea89843edb33c67a914953fa2": {
      "model_module": "@jupyter-widgets/controls",
      "model_module_version": "1.5.0",
      "model_name": "TextareaModel",
      "state": {
       "disabled": true,
       "layout": "IPY_MODEL_b450de43ae2c4e5d9d1e54728cf55658",
       "placeholder": "",
       "style": "IPY_MODEL_7b19724bfdf841a992379372e8bafec1"
      }
     },
     "d3c25b4ee4e64926a4184a3179c903ba": {
      "model_module": "@jupyter-widgets/controls",
      "model_module_version": "1.5.0",
      "model_name": "DescriptionStyleModel",
      "state": {
       "description_width": ""
      }
     },
     "d413d258e63c4fbca6f5039fe17d0861": {
      "model_module": "@jupyter-widgets/controls",
      "model_module_version": "1.5.0",
      "model_name": "HTMLModel",
      "state": {
       "layout": "IPY_MODEL_6b8a9941301f49ffb00aec4a5008006a",
       "style": "IPY_MODEL_5f1bc30ebed24a829882fe464419d532"
      }
     },
     "d4315f27939d494aa7a1b3a88505f45b": {
      "model_module": "@jupyter-widgets/base",
      "model_module_version": "1.2.0",
      "model_name": "LayoutModel",
      "state": {}
     },
     "d443285690b84fffbff74c0dd7332726": {
      "model_module": "@jupyter-widgets/controls",
      "model_module_version": "1.5.0",
      "model_name": "ButtonStyleModel",
      "state": {}
     },
     "d45bfa56c92f4132add6f92e41d6c741": {
      "model_module": "@jupyter-widgets/base",
      "model_module_version": "1.2.0",
      "model_name": "LayoutModel",
      "state": {}
     },
     "d4a18be953064c2793086c7a3339baf3": {
      "model_module": "@jupyter-widgets/controls",
      "model_module_version": "1.5.0",
      "model_name": "LabelModel",
      "state": {
       "layout": "IPY_MODEL_4b8da66c52d74ea8ae7b6e6de3511162",
       "style": "IPY_MODEL_071144ff2bc24c21a10e263a0186ee4f",
       "value": "Write your own code:"
      }
     },
     "d4f40cedca9c4a29aa06ec1be9e54627": {
      "model_module": "@jupyter-widgets/base",
      "model_module_version": "1.2.0",
      "model_name": "LayoutModel",
      "state": {}
     },
     "d67fbb3029d3424092cdedb541610a9a": {
      "model_module": "@jupyter-widgets/base",
      "model_module_version": "1.2.0",
      "model_name": "LayoutModel",
      "state": {}
     },
     "d6983c73ce1541c18f1071e434f333b9": {
      "model_module": "@jupyter-widgets/controls",
      "model_module_version": "1.5.0",
      "model_name": "ButtonStyleModel",
      "state": {}
     },
     "d6db6fbad66446e8806e0188665c7833": {
      "model_module": "@jupyter-widgets/controls",
      "model_module_version": "1.5.0",
      "model_name": "ToggleButtonModel",
      "state": {
       "description": "Show code",
       "layout": "IPY_MODEL_bad32bfa4e844032b69df50bf3985d83",
       "style": "IPY_MODEL_b8f32c569c1144d4b2993b5656e772e8"
      }
     },
     "d766b53dd82444368ed2083554f2f454": {
      "model_module": "@jupyter-widgets/controls",
      "model_module_version": "1.5.0",
      "model_name": "HTMLModel",
      "state": {
       "layout": "IPY_MODEL_dc5f01ba28d54a0292dc5a19e95200f4",
       "style": "IPY_MODEL_ca11abfa01f94573aaab22936dda4af0"
      }
     },
     "d775292b7fb44f208914825949cdb408": {
      "model_module": "@jupyter-widgets/controls",
      "model_module_version": "1.5.0",
      "model_name": "HTMLModel",
      "state": {
       "layout": "IPY_MODEL_7f11014770184111a4fab4ddba3c89c0",
       "style": "IPY_MODEL_205622c54573452e83436b1de6ed503f"
      }
     },
     "d77deeff58894aaf8a147716d79447e1": {
      "model_module": "@jupyter-widgets/base",
      "model_module_version": "1.2.0",
      "model_name": "LayoutModel",
      "state": {}
     },
     "d78b3e90d4b340f6aa2dd4acd341855b": {
      "model_module": "@jupyter-widgets/controls",
      "model_module_version": "1.5.0",
      "model_name": "VBoxModel",
      "state": {
       "children": [
        "IPY_MODEL_818d829ff97a47669b7e14b510cbb756",
        "IPY_MODEL_b53e417da0e54286a01bf8471c6dc71d",
        "IPY_MODEL_f014bdcdf152498a839426fe58a6d796",
        "IPY_MODEL_c04e6dffd98747b286fb692c79c99de2"
       ],
       "layout": "IPY_MODEL_ee9d4c9c98774c27985e5a9ffeb64d7e"
      }
     },
     "d798be6482e340b0bf662f3692eb9f9a": {
      "model_module": "@jupyter-widgets/base",
      "model_module_version": "1.2.0",
      "model_name": "LayoutModel",
      "state": {}
     },
     "d97a38914832404298ed971518436bd1": {
      "model_module": "@jupyter-widgets/controls",
      "model_module_version": "1.5.0",
      "model_name": "HTMLModel",
      "state": {
       "layout": "IPY_MODEL_6905e1d508e84e2fbafb26f06989016c",
       "style": "IPY_MODEL_7ff41129346a44dd9aca2101b0e6e199",
       "value": "<font color='green'> z = x + y assigned z with 2 + 5, or 7. Then, adding 1 more to z makes z become 8. Programs often have numerous such processing instructions."
      }
     },
     "d9a3876d233f4c658e7cd5f87c85d27a": {
      "model_module": "@jupyter-widgets/controls",
      "model_module_version": "1.5.0",
      "model_name": "TextModel",
      "state": {
       "layout": "IPY_MODEL_f41919ac107c4318a6e2ba0804e8ba32",
       "style": "IPY_MODEL_a5d13a72a5414bc9969e3fa16b2bfc87"
      }
     },
     "d9ba427f34f04fb7862e3da181573cc1": {
      "model_module": "@jupyter-widgets/controls",
      "model_module_version": "1.5.0",
      "model_name": "DescriptionStyleModel",
      "state": {
       "description_width": ""
      }
     },
     "da62245d5b1546f9a720f81811b07a7e": {
      "model_module": "@jupyter-widgets/base",
      "model_module_version": "1.2.0",
      "model_name": "LayoutModel",
      "state": {
       "width": "90px"
      }
     },
     "da9047252de64f168590451009952ea8": {
      "model_module": "@jupyter-widgets/controls",
      "model_module_version": "1.5.0",
      "model_name": "DescriptionStyleModel",
      "state": {
       "description_width": ""
      }
     },
     "db6325ec4c1a41d097e38e8dcb9cb3b3": {
      "model_module": "@jupyter-widgets/controls",
      "model_module_version": "1.5.0",
      "model_name": "DescriptionStyleModel",
      "state": {
       "description_width": ""
      }
     },
     "dc242016e3194517bc4c01b7ea119ffe": {
      "model_module": "@jupyter-widgets/controls",
      "model_module_version": "1.5.0",
      "model_name": "DescriptionStyleModel",
      "state": {
       "description_width": ""
      }
     },
     "dc5f01ba28d54a0292dc5a19e95200f4": {
      "model_module": "@jupyter-widgets/base",
      "model_module_version": "1.2.0",
      "model_name": "LayoutModel",
      "state": {}
     },
     "dc6b52835e5046c1af6c881c67cc9570": {
      "model_module": "@jupyter-widgets/base",
      "model_module_version": "1.2.0",
      "model_name": "LayoutModel",
      "state": {}
     },
     "dcbd02900f67476584c9bcc506ad5b36": {
      "model_module": "@jupyter-widgets/base",
      "model_module_version": "1.2.0",
      "model_name": "LayoutModel",
      "state": {
       "width": "90px"
      }
     },
     "dd760a25f664404fa25f61f515e465ca": {
      "model_module": "@jupyter-widgets/controls",
      "model_module_version": "1.5.0",
      "model_name": "HTMLModel",
      "state": {
       "layout": "IPY_MODEL_6556a0e445004c8d8d4a9db486e37e77",
       "style": "IPY_MODEL_6d535f79c93c438091a04757b4bab9dd",
       "value": "(3) Which instruction completes the program to compute a triangle's area?<br>base = Get next input<br>height = Get next input<br>Assign x with base * height<br>_____<br>Put x to output<br>"
      }
     },
     "de7a2e6c014244b2ba1d9bd9951a51c3": {
      "model_module": "@jupyter-widgets/controls",
      "model_module_version": "1.5.0",
      "model_name": "DescriptionStyleModel",
      "state": {
       "description_width": ""
      }
     },
     "deabae9645c34dc1b764bbb4544b7faa": {
      "model_module": "@jupyter-widgets/controls",
      "model_module_version": "1.5.0",
      "model_name": "DescriptionStyleModel",
      "state": {
       "description_width": ""
      }
     },
     "decc3096ac5048279dd719f3e16b37de": {
      "model_module": "@jupyter-widgets/controls",
      "model_module_version": "1.5.0",
      "model_name": "DescriptionStyleModel",
      "state": {
       "description_width": ""
      }
     },
     "dedabd3bee554a5da69b532ee1fd99af": {
      "model_module": "@jupyter-widgets/base",
      "model_module_version": "1.2.0",
      "model_name": "LayoutModel",
      "state": {}
     },
     "df68dcafad83415c83356ded4592a78f": {
      "model_module": "@jupyter-widgets/controls",
      "model_module_version": "1.5.0",
      "model_name": "DescriptionStyleModel",
      "state": {
       "description_width": ""
      }
     },
     "dfbfbaffe0d54156b5d8f20e4f721527": {
      "model_module": "@jupyter-widgets/controls",
      "model_module_version": "1.5.0",
      "model_name": "HBoxModel",
      "state": {
       "children": [
        "IPY_MODEL_b175737979994953a18e0ceb4a56d295",
        "IPY_MODEL_b5e91b4c98cb4bd8abe1be2d20f8ce60",
        "IPY_MODEL_67118584989d435da5cfd186b9520efc"
       ],
       "layout": "IPY_MODEL_00b6641a59a1460a970830673f641e8e"
      }
     },
     "dfcd4599cb464d2d8615ebf9e572762a": {
      "model_module": "@jupyter-widgets/base",
      "model_module_version": "1.2.0",
      "model_name": "LayoutModel",
      "state": {}
     },
     "dfec9c06b1c0436b92b23162a37feb09": {
      "model_module": "@jupyter-widgets/controls",
      "model_module_version": "1.5.0",
      "model_name": "VBoxModel",
      "state": {
       "children": [
        "IPY_MODEL_52c3d844b2f54817bc0dae152a6cafba",
        "IPY_MODEL_86b8bab4b24245b0bb9684468edd6c47",
        "IPY_MODEL_a08fbfe416e449738df4e697507494e4",
        "IPY_MODEL_e924680da50e407fb2c9784380554958",
        "IPY_MODEL_bff28cb096164f8a8699b52256c06b27"
       ],
       "layout": "IPY_MODEL_a9d52d06eaeb4924beee7759b3c10dc5"
      }
     },
     "e12c22b487404ffcacd0b2cb5b6bf27b": {
      "model_module": "@jupyter-widgets/controls",
      "model_module_version": "1.5.0",
      "model_name": "VBoxModel",
      "state": {
       "children": [
        "IPY_MODEL_9db28a6f54e5426897c3e81c0b176612",
        "IPY_MODEL_c031a2fa961d4a97a1e618f56ea2c535"
       ],
       "layout": "IPY_MODEL_4a570eb8d7d9405681b731abc667190a"
      }
     },
     "e1450845e91b42028a9a2771e65e4273": {
      "model_module": "@jupyter-widgets/controls",
      "model_module_version": "1.5.0",
      "model_name": "DescriptionStyleModel",
      "state": {
       "description_width": ""
      }
     },
     "e1538d305e3f4701a972f14e93e3c248": {
      "model_module": "@jupyter-widgets/base",
      "model_module_version": "1.2.0",
      "model_name": "LayoutModel",
      "state": {}
     },
     "e23d7e11516142c7af90a6a8d66a1dcf": {
      "model_module": "@jupyter-widgets/controls",
      "model_module_version": "1.5.0",
      "model_name": "TextModel",
      "state": {
       "layout": "IPY_MODEL_d1502bce5cc04e9296afcfc294fc781b",
       "style": "IPY_MODEL_03505db479f24735b5f38e85ddcb6d87",
       "value": "4"
      }
     },
     "e25f4ac68dd942ba9787ff8235623c16": {
      "model_module": "@jupyter-widgets/controls",
      "model_module_version": "1.5.0",
      "model_name": "LabelModel",
      "state": {
       "layout": "IPY_MODEL_736a25948a284146a1afba97ee911f46",
       "style": "IPY_MODEL_3d471f76d38047f9a8df8f761538cda8",
       "value": "Input:"
      }
     },
     "e2a20f0875b242dd923a28caff0e3851": {
      "model_module": "@jupyter-widgets/base",
      "model_module_version": "1.2.0",
      "model_name": "LayoutModel",
      "state": {
       "height": "100px",
       "width": "250px"
      }
     },
     "e2e16f1536dd4892a30d4a6e968ac0a0": {
      "model_module": "@jupyter-widgets/controls",
      "model_module_version": "1.5.0",
      "model_name": "DescriptionStyleModel",
      "state": {
       "description_width": ""
      }
     },
     "e2e8874de8eb469788662f260928adff": {
      "model_module": "@jupyter-widgets/controls",
      "model_module_version": "1.5.0",
      "model_name": "ButtonStyleModel",
      "state": {}
     },
     "e2ef0e3108254ad796cea3535b396efe": {
      "model_module": "@jupyter-widgets/controls",
      "model_module_version": "1.5.0",
      "model_name": "VBoxModel",
      "state": {
       "children": [
        "IPY_MODEL_dd760a25f664404fa25f61f515e465ca",
        "IPY_MODEL_6b12f3d0a07c4e16822f915db0d81c86",
        "IPY_MODEL_0cc1d6f2fcbe4d82a6f78b8e703c6a4c",
        "IPY_MODEL_5fb0a68945c34d1c8f43b6b47610d75c"
       ],
       "layout": "IPY_MODEL_a007d4a9aff746c5b88858005a62d4ee"
      }
     },
     "e380f29ef50a462ba67fe242f06ae2a3": {
      "model_module": "@jupyter-widgets/controls",
      "model_module_version": "1.5.0",
      "model_name": "HTMLModel",
      "state": {
       "layout": "IPY_MODEL_69519dd984de4c1caae8c30db5a10273",
       "style": "IPY_MODEL_26c52d39998b42f5a4011ff8bdab6662"
      }
     },
     "e39496863c114b1a8858a902b296d670": {
      "model_module": "@jupyter-widgets/base",
      "model_module_version": "1.2.0",
      "model_name": "LayoutModel",
      "state": {}
     },
     "e3d99f8ef0e74aeb9f018dcce2b565a8": {
      "model_module": "@jupyter-widgets/controls",
      "model_module_version": "1.5.0",
      "model_name": "ButtonStyleModel",
      "state": {}
     },
     "e4a2f2e7927e4250a8e66060c27a8434": {
      "model_module": "@jupyter-widgets/controls",
      "model_module_version": "1.5.0",
      "model_name": "HTMLModel",
      "state": {
       "layout": "IPY_MODEL_c7dac8f7f88e4c8a9b4014cd0eed4961",
       "style": "IPY_MODEL_42f685999a3a4c91b47e00e028381ee3",
       "value": "(3) Which instruction completes the program to compute a triangle's area?<br>base = Get next input<br>height = Get next input<br>Assign x with base * height<br>_____<br>Put x to output<br>"
      }
     },
     "e50efc5c241a4545b7553aad5f1e06a1": {
      "model_module": "@jupyter-widgets/controls",
      "model_module_version": "1.5.0",
      "model_name": "LabelModel",
      "state": {
       "layout": "IPY_MODEL_b23985ecacab4db1939bad00696d92c1",
       "style": "IPY_MODEL_7b8ae1b6d0c44af989747968fe6982b7",
       "value": "Output:"
      }
     },
     "e53c2ab2567445b0af17580cccc86962": {
      "model_module": "@jupyter-widgets/base",
      "model_module_version": "1.2.0",
      "model_name": "LayoutModel",
      "state": {
       "height": "200px",
       "width": "99%"
      }
     },
     "e54c841a3e284fa5bfe8aa8dfd49312c": {
      "model_module": "@jupyter-widgets/base",
      "model_module_version": "1.2.0",
      "model_name": "LayoutModel",
      "state": {}
     },
     "e5623da702af4c449ea960bb5114b8e9": {
      "model_module": "@jupyter-widgets/controls",
      "model_module_version": "1.5.0",
      "model_name": "TextareaModel",
      "state": {
       "layout": "IPY_MODEL_35fb7d8513ed4f9ea70b0a2afe2ea4dd",
       "style": "IPY_MODEL_c021d3f97c684b8891b11f07358eb3ac"
      }
     },
     "e5f7c1dcd698486ca01e8cfa8d330fa8": {
      "model_module": "@jupyter-widgets/controls",
      "model_module_version": "1.5.0",
      "model_name": "CheckboxModel",
      "state": {
       "disabled": true,
       "layout": "IPY_MODEL_d0507df94c114d15a6411119b6cac350",
       "style": "IPY_MODEL_aefdb60842f94d3f872df7e9ad348f33",
       "value": true
      }
     },
     "e756e2be1c0c4fe2933e60ed1406bd28": {
      "model_module": "@jupyter-widgets/controls",
      "model_module_version": "1.5.0",
      "model_name": "ButtonModel",
      "state": {
       "button_style": "warning",
       "description": "Check",
       "icon": "check",
       "layout": "IPY_MODEL_da62245d5b1546f9a720f81811b07a7e",
       "style": "IPY_MODEL_b201f680bd1841d987982f935a1d724c"
      }
     },
     "e76f29f268ab484ca7c1e621ce1f11fd": {
      "model_module": "@jupyter-widgets/base",
      "model_module_version": "1.2.0",
      "model_name": "LayoutModel",
      "state": {}
     },
     "e7977095859f4e74a0a4e5b56c6c5873": {
      "model_module": "@jupyter-widgets/controls",
      "model_module_version": "1.5.0",
      "model_name": "VBoxModel",
      "state": {
       "children": [
        "IPY_MODEL_8a19e8b8dd604c40bc0702b69b92bd7c",
        "IPY_MODEL_688c59e4acae4ccf8bcb8d95b27441c1"
       ],
       "layout": "IPY_MODEL_7db36d5be27e40a7baa71913a082a0bc"
      }
     },
     "e84dacdd895e45c99e6dd1ecd346b4e4": {
      "model_module": "@jupyter-widgets/base",
      "model_module_version": "1.2.0",
      "model_name": "LayoutModel",
      "state": {}
     },
     "e88ef3088e74493ca9b773c6dc7d2575": {
      "model_module": "@jupyter-widgets/controls",
      "model_module_version": "1.5.0",
      "model_name": "DescriptionStyleModel",
      "state": {
       "description_width": ""
      }
     },
     "e8903f1b8af6454b9b6cb343f2354b03": {
      "model_module": "@jupyter-widgets/controls",
      "model_module_version": "1.5.0",
      "model_name": "DescriptionStyleModel",
      "state": {
       "description_width": ""
      }
     },
     "e8b72e3cb397496797790b5748dec07a": {
      "model_module": "@jupyter-widgets/controls",
      "model_module_version": "1.5.0",
      "model_name": "CheckboxModel",
      "state": {
       "disabled": true,
       "layout": "IPY_MODEL_2ea8997681004c0180d0791211a9c17d",
       "style": "IPY_MODEL_93d452d27cd046d2abe62386c501bd08",
       "value": false
      }
     },
     "e8eda49818a3434086e4695b55b3ad96": {
      "model_module": "@jupyter-widgets/controls",
      "model_module_version": "1.5.0",
      "model_name": "ButtonModel",
      "state": {
       "button_style": "success",
       "description": "Correct",
       "icon": "check",
       "layout": "IPY_MODEL_473ba74670e34103880e9faedc5523ff",
       "style": "IPY_MODEL_cc7133f9b202412eae3c9e5e0798692d"
      }
     },
     "e8f24aeec45f47e6a5ed2882af1fdfad": {
      "model_module": "@jupyter-widgets/controls",
      "model_module_version": "1.5.0",
      "model_name": "ButtonStyleModel",
      "state": {}
     },
     "e924680da50e407fb2c9784380554958": {
      "model_module": "@jupyter-widgets/controls",
      "model_module_version": "1.5.0",
      "model_name": "TextareaModel",
      "state": {
       "disabled": true,
       "layout": "IPY_MODEL_1ae214c1e7834fa2ba4f80b3b423b277",
       "placeholder": "",
       "style": "IPY_MODEL_1b94a9415daa4c27b0638793d6793528",
       "value": "Hello world!\n"
      }
     },
     "e95dc3091f53470eaafd66cfda11972d": {
      "model_module": "@jupyter-widgets/base",
      "model_module_version": "1.2.0",
      "model_name": "LayoutModel",
      "state": {
       "height": "100px",
       "width": "250px"
      }
     },
     "e97334d44f444d269acae3bbaeadd44a": {
      "model_module": "@jupyter-widgets/controls",
      "model_module_version": "1.5.0",
      "model_name": "ButtonStyleModel",
      "state": {}
     },
     "e979de1f269848c2a1a07280d9fe026c": {
      "model_module": "@jupyter-widgets/controls",
      "model_module_version": "1.5.0",
      "model_name": "ButtonModel",
      "state": {
       "layout": "IPY_MODEL_4f1a5e6dff76447eb7636e10be20cbf7",
       "style": "IPY_MODEL_187f4daaaa694aefb198a39d4ce66573"
      }
     },
     "e9dadc1480b842328148f8050d665462": {
      "model_module": "@jupyter-widgets/base",
      "model_module_version": "1.2.0",
      "model_name": "LayoutModel",
      "state": {
       "width": "90px"
      }
     },
     "ea3d30d31d3842859e1a0745ceb412e9": {
      "model_module": "@jupyter-widgets/controls",
      "model_module_version": "1.5.0",
      "model_name": "TextModel",
      "state": {
       "layout": "IPY_MODEL_897ea8d3ab544820a44823b8b62628b2",
       "style": "IPY_MODEL_63043f8e582b458494fca9f2cfd30a01"
      }
     },
     "ea7c7dd2073447bf952f7443b28b7ab5": {
      "model_module": "@jupyter-widgets/controls",
      "model_module_version": "1.5.0",
      "model_name": "LabelModel",
      "state": {
       "layout": "IPY_MODEL_f5fc033f463044248987a78e66acdb9a",
       "style": "IPY_MODEL_d22ef85b399d4ce4bb4e4bddd181c20c",
       "value": "Write your own code:"
      }
     },
     "eaab7d3e6c2d4eeeadc50e2e08d58819": {
      "model_module": "@jupyter-widgets/base",
      "model_module_version": "1.2.0",
      "model_name": "LayoutModel",
      "state": {}
     },
     "eaff74a1ebb6473e8ce33642160e7a58": {
      "model_module": "@jupyter-widgets/base",
      "model_module_version": "1.2.0",
      "model_name": "LayoutModel",
      "state": {
       "height": "100px",
       "width": "250px"
      }
     },
     "eb33def34ff34f77b19c444a3ec6bfc9": {
      "model_module": "@jupyter-widgets/base",
      "model_module_version": "1.2.0",
      "model_name": "LayoutModel",
      "state": {}
     },
     "ec21c0d4afc34fc9ac1d64670d011a21": {
      "model_module": "@jupyter-widgets/base",
      "model_module_version": "1.2.0",
      "model_name": "LayoutModel",
      "state": {}
     },
     "ec48b2741380462783b7be01d5d495f6": {
      "model_module": "@jupyter-widgets/controls",
      "model_module_version": "1.5.0",
      "model_name": "TextModel",
      "state": {
       "layout": "IPY_MODEL_cebef707c2d54c4a9d7485caceb208d3",
       "style": "IPY_MODEL_409be95e044346ada0fb54a02e0c3b4d"
      }
     },
     "ec53811482614ad7b02d74b85fda97e9": {
      "model_module": "@jupyter-widgets/controls",
      "model_module_version": "1.5.0",
      "model_name": "ButtonModel",
      "state": {
       "button_style": "warning",
       "description": "Check",
       "icon": "check",
       "layout": "IPY_MODEL_ccbb62ee7a684f94bc64495d03b3bdae",
       "style": "IPY_MODEL_c1b1b1b96f954e388ba47c31b5196dd8"
      }
     },
     "ecd1c9c37fb54f21bce488ead89a8768": {
      "model_module": "@jupyter-widgets/controls",
      "model_module_version": "1.5.0",
      "model_name": "VBoxModel",
      "state": {
       "children": [
        "IPY_MODEL_953b2866aadf47129d929147c1b479d7",
        "IPY_MODEL_e23d7e11516142c7af90a6a8d66a1dcf",
        "IPY_MODEL_429f401704cd4bc7b6686e2f53f858d1",
        "IPY_MODEL_9f7e8f2da58c431180ec201a47e4f1be"
       ],
       "layout": "IPY_MODEL_bea3369c64734401a58adbedf8d66a4c"
      }
     },
     "ece538a29db74d53ac14c4d2c10cbe15": {
      "model_module": "@jupyter-widgets/controls",
      "model_module_version": "1.5.0",
      "model_name": "HTMLModel",
      "state": {
       "layout": "IPY_MODEL_a0552e7a02434b7bbfc94693e1c9ef82",
       "style": "IPY_MODEL_8ed7a49c7923427689b58a0c952f4bf0"
      }
     },
     "ed12e600b2d64f60bc4f6d4ca9ef85c7": {
      "model_module": "@jupyter-widgets/base",
      "model_module_version": "1.2.0",
      "model_name": "LayoutModel",
      "state": {}
     },
     "ed3dd37f35944eafab5b4bd71a06b3a0": {
      "model_module": "@jupyter-widgets/controls",
      "model_module_version": "1.5.0",
      "model_name": "VBoxModel",
      "state": {
       "children": [
        "IPY_MODEL_717261529f954ef492e79186a4657e64",
        "IPY_MODEL_afb94166a88740cfbc42919d77666d84",
        "IPY_MODEL_a2b4966f8c0247e392f48bf1ea2aae8d",
        "IPY_MODEL_f58523dce3324fbcb86db08b5468338f",
        "IPY_MODEL_86756f597d7d473ca7bbb9cee8e1db78"
       ],
       "layout": "IPY_MODEL_68fb66dd7ff149b1af1a91d2513223c1"
      }
     },
     "edf279ce52984faca51fce939d119d7e": {
      "model_module": "@jupyter-widgets/controls",
      "model_module_version": "1.5.0",
      "model_name": "ButtonStyleModel",
      "state": {}
     },
     "ee46ff07aead4a6b925eb0e3b104df17": {
      "model_module": "@jupyter-widgets/controls",
      "model_module_version": "1.5.0",
      "model_name": "DescriptionStyleModel",
      "state": {
       "description_width": ""
      }
     },
     "ee83acc9ba6e4b2c9c9efecb543dbeb6": {
      "model_module": "@jupyter-widgets/base",
      "model_module_version": "1.2.0",
      "model_name": "LayoutModel",
      "state": {
       "height": "200px",
       "width": "99%"
      }
     },
     "ee9d4c9c98774c27985e5a9ffeb64d7e": {
      "model_module": "@jupyter-widgets/base",
      "model_module_version": "1.2.0",
      "model_name": "LayoutModel",
      "state": {
       "border": "solid 2px",
       "padding": "1rem"
      }
     },
     "eefb48d400c342c3907cbcd91ed0fa49": {
      "model_module": "@jupyter-widgets/base",
      "model_module_version": "1.2.0",
      "model_name": "LayoutModel",
      "state": {}
     },
     "ef1b058899ef4947b5bc8d9d822e1f86": {
      "model_module": "@jupyter-widgets/controls",
      "model_module_version": "1.5.0",
      "model_name": "LabelModel",
      "state": {
       "layout": "IPY_MODEL_bb76325e315d40d2876e5275e5eaf1b0",
       "style": "IPY_MODEL_29c02ca1f3c6470e910fd87c2fd0d04c",
       "value": "Output: "
      }
     },
     "ef54985a497e4d249be4147702ef4002": {
      "model_module": "@jupyter-widgets/controls",
      "model_module_version": "1.5.0",
      "model_name": "VBoxModel",
      "state": {
       "children": [
        "IPY_MODEL_384eac4576dc42beb5c3a8e8d1991107",
        "IPY_MODEL_5495c417e339402c985f22c222b299bd"
       ],
       "layout": "IPY_MODEL_5717beb654a149ecad1a4178e3a82442"
      }
     },
     "efe47f96dfbf42298fd841da6935dd32": {
      "model_module": "@jupyter-widgets/base",
      "model_module_version": "1.2.0",
      "model_name": "LayoutModel",
      "state": {}
     },
     "efe61795fc824e08bfb329542b5309ce": {
      "model_module": "@jupyter-widgets/controls",
      "model_module_version": "1.5.0",
      "model_name": "DescriptionStyleModel",
      "state": {
       "description_width": ""
      }
     },
     "f014bdcdf152498a839426fe58a6d796": {
      "model_module": "@jupyter-widgets/controls",
      "model_module_version": "1.5.0",
      "model_name": "ButtonModel",
      "state": {
       "button_style": "warning",
       "description": "Check",
       "icon": "check",
       "layout": "IPY_MODEL_e9dadc1480b842328148f8050d665462",
       "style": "IPY_MODEL_ad5b408bb8b343c28ba3c572099d9ba1"
      }
     },
     "f0436905f7174f93b857f143098c7d99": {
      "model_module": "@jupyter-widgets/controls",
      "model_module_version": "1.5.0",
      "model_name": "HTMLModel",
      "state": {
       "layout": "IPY_MODEL_5326cf4021464885bded66b1b36db8c1",
       "style": "IPY_MODEL_51b89ace7f1e4626825059827ca2c09d"
      }
     },
     "f0936aeef65144dcba48f226c8e941bb": {
      "model_module": "@jupyter-widgets/base",
      "model_module_version": "1.2.0",
      "model_name": "LayoutModel",
      "state": {}
     },
     "f0cb07df6a29498a81035befbfdfd00e": {
      "model_module": "@jupyter-widgets/controls",
      "model_module_version": "1.5.0",
      "model_name": "DescriptionStyleModel",
      "state": {
       "description_width": ""
      }
     },
     "f1088c8b64b844329092f6bfafc28c37": {
      "model_module": "@jupyter-widgets/controls",
      "model_module_version": "1.5.0",
      "model_name": "HTMLModel",
      "state": {
       "layout": "IPY_MODEL_4e3375c44ba4425fab48b5688745b3fc",
       "style": "IPY_MODEL_10ac4f143c034244bdad8941d1413e17"
      }
     },
     "f366efa2a5514b24aba7fb6482e6cee7": {
      "model_module": "@jupyter-widgets/base",
      "model_module_version": "1.2.0",
      "model_name": "LayoutModel",
      "state": {}
     },
     "f36b88afb5984563a50a2ec9c7c9e270": {
      "model_module": "@jupyter-widgets/base",
      "model_module_version": "1.2.0",
      "model_name": "LayoutModel",
      "state": {}
     },
     "f3cd2f08560f46a285e9e31dcd136783": {
      "model_module": "@jupyter-widgets/controls",
      "model_module_version": "1.5.0",
      "model_name": "DescriptionStyleModel",
      "state": {
       "description_width": ""
      }
     },
     "f3dffd2c62464798a517478bf30e43c4": {
      "model_module": "@jupyter-widgets/base",
      "model_module_version": "1.2.0",
      "model_name": "LayoutModel",
      "state": {}
     },
     "f3edc9915d1146afaed1500f9ecf2bd4": {
      "model_module": "@jupyter-widgets/base",
      "model_module_version": "1.2.0",
      "model_name": "LayoutModel",
      "state": {}
     },
     "f41919ac107c4318a6e2ba0804e8ba32": {
      "model_module": "@jupyter-widgets/base",
      "model_module_version": "1.2.0",
      "model_name": "LayoutModel",
      "state": {}
     },
     "f5348c624bcd4b02ab88e98c17201e0f": {
      "model_module": "@jupyter-widgets/controls",
      "model_module_version": "1.5.0",
      "model_name": "DescriptionStyleModel",
      "state": {
       "description_width": ""
      }
     },
     "f58523dce3324fbcb86db08b5468338f": {
      "model_module": "@jupyter-widgets/controls",
      "model_module_version": "1.5.0",
      "model_name": "TextareaModel",
      "state": {
       "disabled": true,
       "layout": "IPY_MODEL_21bc7a1d8b494f5d84b40c1da704588a",
       "placeholder": "",
       "style": "IPY_MODEL_29fd55ff47b14cdaaa2d51bc288138be"
      }
     },
     "f5a29e58e3744cfa8368789a7ec8fd57": {
      "model_module": "@jupyter-widgets/base",
      "model_module_version": "1.2.0",
      "model_name": "LayoutModel",
      "state": {}
     },
     "f5c7a780faff437c9d5de55edc9abb36": {
      "model_module": "@jupyter-widgets/base",
      "model_module_version": "1.2.0",
      "model_name": "LayoutModel",
      "state": {}
     },
     "f5fc033f463044248987a78e66acdb9a": {
      "model_module": "@jupyter-widgets/base",
      "model_module_version": "1.2.0",
      "model_name": "LayoutModel",
      "state": {}
     },
     "f694ec8e79e34746aaf0951bd6cdae96": {
      "model_module": "@jupyter-widgets/base",
      "model_module_version": "1.2.0",
      "model_name": "LayoutModel",
      "state": {
       "border": "solid 2px",
       "padding": "1rem"
      }
     },
     "f76c21a447414e178c76030d943d1904": {
      "model_module": "@jupyter-widgets/base",
      "model_module_version": "1.2.0",
      "model_name": "LayoutModel",
      "state": {}
     },
     "f79bee4db451492fb108809236c59a8b": {
      "model_module": "@jupyter-widgets/base",
      "model_module_version": "1.2.0",
      "model_name": "LayoutModel",
      "state": {}
     },
     "f7ac0b3b8a6f424a9f83f4e07a1f1adb": {
      "model_module": "@jupyter-widgets/base",
      "model_module_version": "1.2.0",
      "model_name": "LayoutModel",
      "state": {}
     },
     "f7fc2c5ce8c447edae0747ce5158c30d": {
      "model_module": "@jupyter-widgets/base",
      "model_module_version": "1.2.0",
      "model_name": "LayoutModel",
      "state": {}
     },
     "f86471fc24e2467a9e7bfa9342271549": {
      "model_module": "@jupyter-widgets/controls",
      "model_module_version": "1.5.0",
      "model_name": "DescriptionStyleModel",
      "state": {
       "description_width": ""
      }
     },
     "f991fc83c14849259e67ffb59d3743d6": {
      "model_module": "@jupyter-widgets/base",
      "model_module_version": "1.2.0",
      "model_name": "LayoutModel",
      "state": {
       "height": "100px",
       "width": "250px"
      }
     },
     "f9a7599c473740eb9cdb876436fe86f6": {
      "model_module": "@jupyter-widgets/base",
      "model_module_version": "1.2.0",
      "model_name": "LayoutModel",
      "state": {}
     },
     "f9edd71189b5461fa339cf644c717a50": {
      "model_module": "@jupyter-widgets/base",
      "model_module_version": "1.2.0",
      "model_name": "LayoutModel",
      "state": {}
     },
     "f9fc7cdac15e4bb3b5c1cd72bce31733": {
      "model_module": "@jupyter-widgets/base",
      "model_module_version": "1.2.0",
      "model_name": "LayoutModel",
      "state": {}
     },
     "fa52330e40324b16b16a4a474fecb30b": {
      "model_module": "@jupyter-widgets/base",
      "model_module_version": "1.2.0",
      "model_name": "LayoutModel",
      "state": {}
     },
     "fa54f55aec3d440eade7edfd8078d3a6": {
      "model_module": "@jupyter-widgets/base",
      "model_module_version": "1.2.0",
      "model_name": "LayoutModel",
      "state": {}
     },
     "fa5722e6269f488e99adca0059968223": {
      "model_module": "@jupyter-widgets/controls",
      "model_module_version": "1.5.0",
      "model_name": "ButtonModel",
      "state": {
       "layout": "IPY_MODEL_89fb66168ee743cc9463f4dde6e301bd",
       "style": "IPY_MODEL_2cdd3aa4c7ea46309f9cd066028b3be3"
      }
     },
     "fa5da1472ddf45b89929293bd6ae24cf": {
      "model_module": "@jupyter-widgets/controls",
      "model_module_version": "1.5.0",
      "model_name": "LabelModel",
      "state": {
       "layout": "IPY_MODEL_f36b88afb5984563a50a2ec9c7c9e270",
       "style": "IPY_MODEL_68a51848b4fb475493dd05772de416f1",
       "value": "Output:"
      }
     },
     "fa7e07f2a3a84592a54557aae01b8057": {
      "model_module": "@jupyter-widgets/base",
      "model_module_version": "1.2.0",
      "model_name": "LayoutModel",
      "state": {}
     },
     "faa951361e414ca78ebaa6752b380545": {
      "model_module": "@jupyter-widgets/controls",
      "model_module_version": "1.5.0",
      "model_name": "DescriptionStyleModel",
      "state": {
       "description_width": ""
      }
     },
     "fadfe345668e424ca5595a12b2542b9d": {
      "model_module": "@jupyter-widgets/base",
      "model_module_version": "1.2.0",
      "model_name": "LayoutModel",
      "state": {}
     },
     "faf11467c50f41e8a919b27b1ff9cc95": {
      "model_module": "@jupyter-widgets/controls",
      "model_module_version": "1.5.0",
      "model_name": "HTMLModel",
      "state": {
       "layout": "IPY_MODEL_281080fb820d4ce099e86ac62f94b426",
       "style": "IPY_MODEL_9c96a2c71acf43069546d6eece4b7dbf"
      }
     },
     "fb1b175e39734656b0d13d0ee3e58dbb": {
      "model_module": "@jupyter-widgets/base",
      "model_module_version": "1.2.0",
      "model_name": "LayoutModel",
      "state": {}
     },
     "fba8646cd9b3415188e1a9c636e2c264": {
      "model_module": "@jupyter-widgets/controls",
      "model_module_version": "1.5.0",
      "model_name": "HBoxModel",
      "state": {
       "children": [
        "IPY_MODEL_8f06386ed1d84140bb795af1186f9508",
        "IPY_MODEL_c811737628924c8cab80f62a9ac7fdbf"
       ],
       "layout": "IPY_MODEL_327c52e8c71349c2a65f461b4b01737f"
      }
     },
     "fbd60d23434c48e5927817e6e989c2de": {
      "model_module": "@jupyter-widgets/base",
      "model_module_version": "1.2.0",
      "model_name": "LayoutModel",
      "state": {}
     },
     "fc5aa2a370db45ec8b8fc7bc936fd1e8": {
      "model_module": "@jupyter-widgets/base",
      "model_module_version": "1.2.0",
      "model_name": "LayoutModel",
      "state": {
       "width": "90px"
      }
     },
     "fdab1d87715c4dc2b41e9db66723da05": {
      "model_module": "@jupyter-widgets/base",
      "model_module_version": "1.2.0",
      "model_name": "LayoutModel",
      "state": {}
     },
     "fdcd2aab75a54e49b852176f3e71620f": {
      "model_module": "@jupyter-widgets/base",
      "model_module_version": "1.2.0",
      "model_name": "LayoutModel",
      "state": {}
     },
     "fde361375a2a44079a370f79b1d9626e": {
      "model_module": "@jupyter-widgets/controls",
      "model_module_version": "1.5.0",
      "model_name": "VBoxModel",
      "state": {
       "children": [
        "IPY_MODEL_703788c8563c48aaa2960fedaefcdf72",
        "IPY_MODEL_70b91c4010584c89bfa8059a2c957160"
       ],
       "layout": "IPY_MODEL_983da04007fb46aab839bc04321970f8"
      }
     },
     "fe1892f0aae44b639842ca11458666f5": {
      "model_module": "@jupyter-widgets/controls",
      "model_module_version": "1.5.0",
      "model_name": "RadioButtonsModel",
      "state": {
       "_options_labels": [
        "Multiply x by 2",
        "Add 2 to x",
        "Multiply x by 1/2"
       ],
       "index": 2,
       "layout": "IPY_MODEL_6947904b07bf4e45bad1ad2e6b7d9b7b",
       "style": "IPY_MODEL_f86471fc24e2467a9e7bfa9342271549"
      }
     },
     "fef59591570948bc987e9d2044dbc6aa": {
      "model_module": "@jupyter-widgets/base",
      "model_module_version": "1.2.0",
      "model_name": "LayoutModel",
      "state": {
       "height": "200px",
       "width": "99%"
      }
     },
     "ff18e773a6714d79a2936edcb55e71a8": {
      "model_module": "@jupyter-widgets/controls",
      "model_module_version": "1.5.0",
      "model_name": "TextareaModel",
      "state": {
       "layout": "IPY_MODEL_e84dacdd895e45c99e6dd1ecd346b4e4",
       "style": "IPY_MODEL_06ca2fc263944cf1b6951f8d77328438"
      }
     },
     "ff1bab2634b34eaa8ec2ff75eed37a77": {
      "model_module": "@jupyter-widgets/controls",
      "model_module_version": "1.5.0",
      "model_name": "VBoxModel",
      "state": {
       "children": [
        "IPY_MODEL_24f93b6df6ad4801842d260322db39bf",
        "IPY_MODEL_6337f6078fdb45d6b30abc2fa0c3703a",
        "IPY_MODEL_ec53811482614ad7b02d74b85fda97e9",
        "IPY_MODEL_a06b8e54da59480095e755e55b263784"
       ],
       "layout": "IPY_MODEL_cd10eb756c6b49b4beba00773b158c08"
      }
     },
     "ff803803fb404097b3109723c8a0a159": {
      "model_module": "@jupyter-widgets/base",
      "model_module_version": "1.2.0",
      "model_name": "LayoutModel",
      "state": {}
     },
     "ff96270283344c93bcfa9251902f2f3c": {
      "model_module": "@jupyter-widgets/controls",
      "model_module_version": "1.5.0",
      "model_name": "ButtonStyleModel",
      "state": {}
     },
     "ffa6cde85e4143b39c3528b4495be2a7": {
      "model_module": "@jupyter-widgets/base",
      "model_module_version": "1.2.0",
      "model_name": "LayoutModel",
      "state": {
       "height": "100px",
       "width": "250px"
      }
     }
    },
    "version_major": 2,
    "version_minor": 0
   }
  }
 },
 "nbformat": 4,
 "nbformat_minor": 2
}
