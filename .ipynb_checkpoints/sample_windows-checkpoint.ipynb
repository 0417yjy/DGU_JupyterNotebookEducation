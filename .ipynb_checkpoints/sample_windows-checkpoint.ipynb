{
 "cells": [
  {
   "cell_type": "markdown",
   "metadata": {},
   "source": [
    "# 제목"
   ]
  },
  {
   "cell_type": "markdown",
   "metadata": {},
   "source": [
    "## 소제목"
   ]
  },
  {
   "cell_type": "markdown",
   "metadata": {},
   "source": [
    "본문"
   ]
  },
  {
   "cell_type": "code",
   "execution_count": 1,
   "metadata": {},
   "outputs": [],
   "source": [
    "import ipywidgets as widgets\n",
    "from IPython.display import display"
   ]
  },
  {
   "cell_type": "code",
   "execution_count": 2,
   "metadata": {},
   "outputs": [],
   "source": [
    "with open('exercise1_src.c', 'r') as f:\n",
    "    str = f.read()\n",
    "cd = %pwd"
   ]
  },
  {
   "cell_type": "code",
   "execution_count": 3,
   "metadata": {
    "scrolled": false
   },
   "outputs": [
    {
     "data": {
      "application/vnd.jupyter.widget-view+json": {
       "model_id": "14fad4ed85234a97bca58732bab14120",
       "version_major": 2,
       "version_minor": 0
      },
      "text/plain": [
       "Textarea(value='#include <stdio.h>\\n\\nint main(void) {\\n printf(\"Hello world!\\\\n\");\\n return 0;\\n}', descripti…"
      ]
     },
     "metadata": {},
     "output_type": "display_data"
    },
    {
     "data": {
      "application/vnd.jupyter.widget-view+json": {
       "model_id": "45c47975a09b4f24a49bbd8741652f9c",
       "version_major": 2,
       "version_minor": 0
      },
      "text/plain": [
       "Button(button_style='warning', description='Run Code', icon='check', style=ButtonStyle())"
      ]
     },
     "metadata": {},
     "output_type": "display_data"
    },
    {
     "name": "stdout",
     "output_type": "stream",
     "text": [
      "Hello world!\r\n",
      "\n"
     ]
    }
   ],
   "source": [
    "text = widgets.Textarea(\n",
    "    value=str,\n",
    "    placeholder='',\n",
    "    description='Write your own code:',\n",
    "    disabled=False\n",
    ")\n",
    "compile_run_btn = widgets.Button(\n",
    "    description='Run Code',\n",
    "    disabled=False,\n",
    "    button_style='warning', # 'success', 'info', 'warning', 'danger' or ''\n",
    "    tooltip='',\n",
    "    icon='check'\n",
    ")\n",
    "display(text, compile_run_btn)\n",
    "\n",
    "def get_result(str):\n",
    "    str = str.replace('exec1', 'X', 1).replace(cd, 'X', 3)\n",
    "    str = str[str.find('exec1')+6:str.find(cd)-2]\n",
    "    print(str)\n",
    "\n",
    "def on_button_clicked(b):\n",
    "    with open('exercise1.c', 'w') as f:\n",
    "        f.write(text.value)\n",
    "    get_ipython().run_cell_magic('cmd', '--out output --err error', \"\"\"\n",
    "    gcc exercise1.c -o exec1\n",
    "    exec1\n",
    "    \"\"\")\n",
    "    tmp = output\n",
    "    get_result(tmp)\n",
    "    \n",
    "        \n",
    "compile_run_btn.on_click(on_button_clicked)"
   ]
  }
 ],
 "metadata": {
  "kernelspec": {
   "display_name": "Python 3",
   "language": "python",
   "name": "python3"
  },
  "language_info": {
   "codemirror_mode": {
    "name": "ipython",
    "version": 3
   },
   "file_extension": ".py",
   "mimetype": "text/x-python",
   "name": "python",
   "nbconvert_exporter": "python",
   "pygments_lexer": "ipython3",
   "version": "3.8.1"
  }
 },
 "nbformat": 4,
 "nbformat_minor": 2
}
